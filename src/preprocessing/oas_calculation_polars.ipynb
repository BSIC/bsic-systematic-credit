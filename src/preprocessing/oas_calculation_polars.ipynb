{
 "cells": [
  {
   "metadata": {},
   "cell_type": "markdown",
   "source": "# Install Packages and Imports"
  },
  {
   "cell_type": "code",
   "metadata": {
    "source_hash": "7958d4a9",
    "execution_start": 1713636401514,
    "execution_millis": 4171,
    "deepnote_to_be_reexecuted": false,
    "cell_id": "826a5b5fc1b4420fafc7f1f55421ac45",
    "deepnote_cell_type": "code",
    "ExecuteTime": {
     "end_time": "2024-05-12T22:28:25.355737Z",
     "start_time": "2024-05-12T22:28:18.853752Z"
    }
   },
   "source": "!pip install -r ../../requirements.txt",
   "block_group": "04dfea0dfed241cea8f2be5ac1d2d7df",
   "outputs_reference": "s3:deepnote-cell-outputs-production/62613e20-7b8f-4dd3-852c-5c80ee5c62f3",
   "content_dependencies": null,
   "outputs": [
    {
     "name": "stdout",
     "output_type": "stream",
     "text": [
      "Looking in indexes: https://pypi.org/simple, https://pypi.ngc.nvidia.com\n",
      "Requirement already satisfied: QuantLib==1.33 in c:\\users\\andre\\anaconda3\\envs\\bsic\\lib\\site-packages (from -r ../../requirements.txt (line 1)) (1.33)\n",
      "Requirement already satisfied: polars==0.20.22 in c:\\users\\andre\\anaconda3\\envs\\bsic\\lib\\site-packages (from -r ../../requirements.txt (line 2)) (0.20.22)\n",
      "Requirement already satisfied: mpl_bsic==1.4.0a3 in c:\\users\\andre\\anaconda3\\envs\\bsic\\lib\\site-packages (from -r ../../requirements.txt (line 3)) (1.4.0a3)\n",
      "Requirement already satisfied: polars-ols==0.3.3 in c:\\users\\andre\\anaconda3\\envs\\bsic\\lib\\site-packages (from -r ../../requirements.txt (line 4)) (0.3.3)\n",
      "Requirement already satisfied: scikit-misc==0.3.1 in c:\\users\\andre\\anaconda3\\envs\\bsic\\lib\\site-packages (from -r ../../requirements.txt (line 5)) (0.3.1)\n",
      "Requirement already satisfied: matplotlib<4.0,>=3.7 in c:\\users\\andre\\anaconda3\\envs\\bsic\\lib\\site-packages (from mpl_bsic==1.4.0a3->-r ../../requirements.txt (line 3)) (3.8.0)\n",
      "Requirement already satisfied: numpy<2.0,>=1.25 in c:\\users\\andre\\anaconda3\\envs\\bsic\\lib\\site-packages (from mpl_bsic==1.4.0a3->-r ../../requirements.txt (line 3)) (1.26.3)\n",
      "Requirement already satisfied: pandas<3,>=2 in c:\\users\\andre\\anaconda3\\envs\\bsic\\lib\\site-packages (from mpl_bsic==1.4.0a3->-r ../../requirements.txt (line 3)) (2.2.1)\n",
      "Requirement already satisfied: xlsxwriter<4.0.0,>=3.2.0 in c:\\users\\andre\\anaconda3\\envs\\bsic\\lib\\site-packages (from mpl_bsic==1.4.0a3->-r ../../requirements.txt (line 3)) (3.2.0)\n",
      "Requirement already satisfied: contourpy>=1.0.1 in c:\\users\\andre\\anaconda3\\envs\\bsic\\lib\\site-packages (from matplotlib<4.0,>=3.7->mpl_bsic==1.4.0a3->-r ../../requirements.txt (line 3)) (1.2.0)\n",
      "Requirement already satisfied: cycler>=0.10 in c:\\users\\andre\\anaconda3\\envs\\bsic\\lib\\site-packages (from matplotlib<4.0,>=3.7->mpl_bsic==1.4.0a3->-r ../../requirements.txt (line 3)) (0.11.0)\n",
      "Requirement already satisfied: fonttools>=4.22.0 in c:\\users\\andre\\anaconda3\\envs\\bsic\\lib\\site-packages (from matplotlib<4.0,>=3.7->mpl_bsic==1.4.0a3->-r ../../requirements.txt (line 3)) (4.25.0)\n",
      "Requirement already satisfied: kiwisolver>=1.0.1 in c:\\users\\andre\\anaconda3\\envs\\bsic\\lib\\site-packages (from matplotlib<4.0,>=3.7->mpl_bsic==1.4.0a3->-r ../../requirements.txt (line 3)) (1.4.4)\n",
      "Requirement already satisfied: packaging>=20.0 in c:\\users\\andre\\anaconda3\\envs\\bsic\\lib\\site-packages (from matplotlib<4.0,>=3.7->mpl_bsic==1.4.0a3->-r ../../requirements.txt (line 3)) (23.1)\n",
      "Requirement already satisfied: pillow>=6.2.0 in c:\\users\\andre\\anaconda3\\envs\\bsic\\lib\\site-packages (from matplotlib<4.0,>=3.7->mpl_bsic==1.4.0a3->-r ../../requirements.txt (line 3)) (10.2.0)\n",
      "Requirement already satisfied: pyparsing>=2.3.1 in c:\\users\\andre\\anaconda3\\envs\\bsic\\lib\\site-packages (from matplotlib<4.0,>=3.7->mpl_bsic==1.4.0a3->-r ../../requirements.txt (line 3)) (3.0.9)\n",
      "Requirement already satisfied: python-dateutil>=2.7 in c:\\users\\andre\\anaconda3\\envs\\bsic\\lib\\site-packages (from matplotlib<4.0,>=3.7->mpl_bsic==1.4.0a3->-r ../../requirements.txt (line 3)) (2.8.2)\n",
      "Requirement already satisfied: pytz>=2020.1 in c:\\users\\andre\\anaconda3\\envs\\bsic\\lib\\site-packages (from pandas<3,>=2->mpl_bsic==1.4.0a3->-r ../../requirements.txt (line 3)) (2023.3.post1)\n",
      "Requirement already satisfied: tzdata>=2022.7 in c:\\users\\andre\\anaconda3\\envs\\bsic\\lib\\site-packages (from pandas<3,>=2->mpl_bsic==1.4.0a3->-r ../../requirements.txt (line 3)) (2023.3)\n",
      "Requirement already satisfied: six>=1.5 in c:\\users\\andre\\anaconda3\\envs\\bsic\\lib\\site-packages (from python-dateutil>=2.7->matplotlib<4.0,>=3.7->mpl_bsic==1.4.0a3->-r ../../requirements.txt (line 3)) (1.16.0)\n"
     ]
    }
   ],
   "execution_count": 1
  },
  {
   "cell_type": "code",
   "metadata": {
    "source_hash": "50693380",
    "execution_start": 1713636405696,
    "execution_millis": 183,
    "deepnote_to_be_reexecuted": false,
    "cell_id": "ce2dc4ce959946c6a66ca0f6c3b71931",
    "deepnote_cell_type": "code",
    "ExecuteTime": {
     "end_time": "2024-05-12T22:28:25.645530Z",
     "start_time": "2024-05-12T22:28:25.357238Z"
    }
   },
   "source": [
    "import polars as pl\n",
    "import QuantLib as ql\n",
    "import numpy as np\n",
    "import datetime"
   ],
   "block_group": "c8d92469db31480d8b485f671d3cc160",
   "outputs_reference": null,
   "content_dependencies": null,
   "outputs": [],
   "execution_count": 2
  },
  {
   "cell_type": "markdown",
   "metadata": {
    "formattedRanges": [],
    "cell_id": "c54177e5579d40e6a9d562efd813694a",
    "deepnote_cell_type": "text-cell-h1"
   },
   "source": "# Load Bond Returns data and Zero Rate Curve",
   "block_group": "1505f3285a0744ed85e2a44e9a3af107"
  },
  {
   "metadata": {},
   "cell_type": "markdown",
   "source": "## Bond Returns + Data Cleaning"
  },
  {
   "cell_type": "markdown",
   "metadata": {
    "cell_id": "5a868aabd0b44dc8abff0321bdffb9ef",
    "deepnote_cell_type": "markdown"
   },
   "source": [
    "For the definitions of the features, refer to the pdf in the `docs` folder\n",
    "\n",
    "Variable Summary: \n",
    "\n",
    "* `cs`: credit spread computed as bond_yield in excess of duration-matched portfolio of US Treasuries yields\n",
    "* `tmt`: time to maturity (in months, I guess)\n",
    "* `ind_num_17`: Fama-French 17 Industry Classification (may be useful for value factor)\n",
    "* `size_ig`, `size_jk`: dummy for (respectively) IG/HY bonds in the BAML/ICE index\n",
    "* `bond_type`: US Corporate Convertible (CCOV), US Corporate Debentures (CDEB), US Corporate Medium Term Note (CMTN), US Corporate Medium Term Note Zero (CMTZ), or US Corporate Paper (CP)\n",
    "* `R_FR`, `N_FR` and co.: rating as names and one-hot encoded, probably from different providers (SP may be S&P, FR Fitch Ratings, MR Moody's\n",
    "* `INTEREST_FREQUENCY`: e.g. 13 for variable coupon, -1 for NA, 14 for bi-monthly, 15-16 undocumented\n",
    "* `DATED_DATE`: date from which the bond interest accrues\n",
    "* Additional Info on variables: FISD data dictionary 2012 document\n",
    "\n",
    "Prices Variables\n",
    "\n",
    "* `PRICE_EOM`: considers all trading days and takes the last\n",
    "* `PRICE_LDM`: consider only last trading day of the month otherwise NaN\n",
    "* `PRICE_L5M`: consider only last 5 trading days of the month otherwise NaN\n",
    "* `T_SPREAD`: average trade-weighted bid-ask spread\n",
    "* `T_YLD_PT`: average trade-weighted yield point\n",
    "* `T_VOLUME`: volume traded during the month, par-value\n",
    "* `T_DVOLUME`: volume traded during the month, dollar value\n",
    "* `bondprc` is adjusted for MMN, `BONDPRC` is unadjusted\n",
    "\n",
    "Ratings\n",
    "* ['R_SP', 'R_MR', 'R_FR', 'RATING_NUM', 'RATING_CAT', 'RATING_CLASS'] are useless\n",
    "* 'rating' column is the useful one and contains the S&P rating code.   \n",
    "    * A-rated (1-7): AAA (1), AA+ (2), AA (3), AA- (4), A+ (5), A(6), A- (7)\n",
    "    * B-rated (8-16): BBB+ (8), BBB (9), BBB- (10), BB+ (11), BB (12), BB- (13), B+ (14), B (15), B- (16)\n",
    "    * C-rated (17-20): CCC+ (17), CCC (18), CCC- (19), CC (20), C (21)\n",
    "    * D: 22\n",
    "    * NR (not rated): null"
   ],
   "block_group": "d647787c3090446690a2090286b3cbdf"
  },
  {
   "cell_type": "code",
   "metadata": {
    "source_hash": "7321b315",
    "execution_start": 1713635584941,
    "execution_millis": 4832,
    "sql_integration_id": "deepnote-dataframe-sql",
    "deepnote_variable_name": "bond_data",
    "deepnote_to_be_reexecuted": false,
    "cell_id": "f49c28841be94cc4813865191a239c55",
    "deepnote_cell_type": "sql",
    "deepnote_sql_source": "SELECT * \nFROM '/work/data/bond_data_final.csv'\nLIMIT 1000",
    "ExecuteTime": {
     "end_time": "2024-05-12T22:28:40.762248Z",
     "start_time": "2024-05-12T22:28:39.971748Z"
    }
   },
   "source": [
    "bond_data = pl.read_parquet('../../data/final_data/bond_data_final.pq')\n",
    "\n",
    "bond_data.head(1)"
   ],
   "block_group": "8b24d105bf90471cbe6ae408caad5883",
   "outputs_reference": "s3:deepnote-cell-outputs-production/691be501-ea86-4bd6-8383-977aad71ce61",
   "content_dependencies": null,
   "outputs": [
    {
     "data": {
      "text/plain": [
       "shape: (1, 98)\n",
       "┌──────┬────────────┬───────────┬────────────┬───┬────────────┬────────────┬───────────┬───────────┐\n",
       "│      ┆ date       ┆ cusip     ┆ exretn_t+1 ┆ … ┆ equity_mon ┆ datadate   ┆ shortinta ┆ unexpecte │\n",
       "│ ---  ┆ ---        ┆ ---       ┆ ---        ┆   ┆ th_return  ┆ ---        ┆ dj        ┆ d_inflati │\n",
       "│ i64  ┆ date       ┆ str       ┆ f64        ┆   ┆ ---        ┆ date       ┆ ---       ┆ on        │\n",
       "│      ┆            ┆           ┆            ┆   ┆ f64        ┆            ┆ f64       ┆ ---       │\n",
       "│      ┆            ┆           ┆            ┆   ┆            ┆            ┆           ┆ f64       │\n",
       "╞══════╪════════════╪═══════════╪════════════╪═══╪════════════╪════════════╪═══════════╪═══════════╡\n",
       "│ 2673 ┆ 2002-08-31 ┆ 38141GAZ7 ┆ 0.023511   ┆ … ┆ 1.056735   ┆ 2002-08-01 ┆ 2.4056944 ┆ 0.004985  │\n",
       "│      ┆            ┆           ┆            ┆   ┆            ┆            ┆ e7        ┆           │\n",
       "└──────┴────────────┴───────────┴────────────┴───┴────────────┴────────────┴───────────┴───────────┘"
      ],
      "text/html": [
       "<div><style>\n",
       ".dataframe > thead > tr,\n",
       ".dataframe > tbody > tr {\n",
       "  text-align: right;\n",
       "  white-space: pre-wrap;\n",
       "}\n",
       "</style>\n",
       "<small>shape: (1, 98)</small><table border=\"1\" class=\"dataframe\"><thead><tr><th></th><th>date</th><th>cusip</th><th>exretn_t+1</th><th>exretnc_t+1</th><th>exretnc_dur_t+1</th><th>bond_ret_t+1</th><th>bond_ret</th><th>exretn</th><th>exretnc_dur</th><th>rating</th><th>cs</th><th>cs_6m_delta</th><th>bond_yield</th><th>bond_amount_out</th><th>offering_amt</th><th>bondprc</th><th>perc_par</th><th>tmt</th><th>duration</th><th>ind_num_17</th><th>sic_code</th><th>BOND_RET</th><th>ILLIQ</th><th>var95</th><th>n_trades_month</th><th>size_ig</th><th>size_jk</th><th>BOND_YIELD</th><th>CS</th><th>BONDPRC</th><th>PRFULL</th><th>CONVEXITY</th><th>CS_6M_DELTA</th><th>bond_value</th><th>BOND_VALUE</th><th>coupon</th><th>&hellip;</th><th>T_Volume</th><th>T_DVolume</th><th>T_Spread</th><th>T_Yld_Pt</th><th>YIELD</th><th>PRICE_EOM</th><th>PRICE_LDM</th><th>PRICE_L5M</th><th>GAP</th><th>COUPMONTH</th><th>nextcoup</th><th>COUPAMT</th><th>COUPACC</th><th>MULTICOUPS</th><th>RET_EOM</th><th>RET_LDM</th><th>RET_L5M</th><th>REMCOUPS</th><th>DURATION_right</th><th>DEFAULT_DATE</th><th>DEFAULT_TYPE</th><th>REINSTATED</th><th>REINSTATED_DATE</th><th>PERMNO</th><th>PERMCO</th><th>link_startdt</th><th>link_enddt</th><th>gvkey</th><th>capital_ratio</th><th>debt_ebitda</th><th>de_ratio</th><th>intcov_ratio</th><th>cash_ratio</th><th>equity_month_return</th><th>datadate</th><th>shortintadj</th><th>unexpected_inflation</th></tr><tr><td>i64</td><td>date</td><td>str</td><td>f64</td><td>f64</td><td>f64</td><td>f64</td><td>f64</td><td>f64</td><td>f64</td><td>f64</td><td>f64</td><td>f64</td><td>f64</td><td>f64</td><td>f64</td><td>f64</td><td>f64</td><td>f64</td><td>f64</td><td>f64</td><td>i64</td><td>f64</td><td>f64</td><td>f64</td><td>f64</td><td>f64</td><td>f64</td><td>f64</td><td>f64</td><td>f64</td><td>f64</td><td>f64</td><td>f64</td><td>f64</td><td>f64</td><td>f64</td><td>&hellip;</td><td>str</td><td>str</td><td>str</td><td>f64</td><td>str</td><td>f64</td><td>f64</td><td>f64</td><td>i64</td><td>i64</td><td>date</td><td>f64</td><td>f64</td><td>i64</td><td>str</td><td>str</td><td>str</td><td>i64</td><td>f64</td><td>str</td><td>str</td><td>str</td><td>str</td><td>i64</td><td>i64</td><td>date</td><td>date</td><td>i64</td><td>f64</td><td>f64</td><td>f64</td><td>f64</td><td>f64</td><td>f64</td><td>date</td><td>f64</td><td>f64</td></tr></thead><tbody><tr><td>2673</td><td>2002-08-31</td><td>&quot;38141GAZ7&quot;</td><td>0.023511</td><td>-0.016231</td><td>-0.009121</td><td>0.024911</td><td>0.030794</td><td>0.029394</td><td>0.010376</td><td>5.0</td><td>0.019973</td><td>0.179869</td><td>0.055661</td><td>2.85e6</td><td>1e6</td><td>108.630939</td><td>1.086309</td><td>101.966667</td><td>6.365369</td><td>16.0</td><td>6211</td><td>0.016451</td><td>0.165843</td><td>null</td><td>21.0</td><td>1.0</td><td>1.0</td><td>0.056654</td><td>0.020468</td><td>107.9682</td><td>108.884864</td><td>50.175642</td><td>null</td><td>3.09598177e8</td><td>3.0770937e8</td><td>6.875</td><td>&hellip;</td><td>&quot;$231,995,034&quot;</td><td>&quot;$249,544,710&quot;</td><td>&quot;0.59%&quot;</td><td>5.7276</td><td>&quot;5.566%&quot;</td><td>108.6</td><td>108.6</td><td>108.6</td><td>1</td><td>13</td><td>2003-01-15</td><td>0.0</td><td>0.89</td><td>1</td><td>&quot;3.079%&quot;</td><td>&quot;3.079%&quot;</td><td>&quot;3.079%&quot;</td><td>17</td><td>6.37</td><td>null</td><td>null</td><td>null</td><td>null</td><td>86868</td><td>35048</td><td>2002-07-01</td><td>2011-01-12</td><td>114628</td><td>0.639</td><td>12.396</td><td>16.024</td><td>1.297</td><td>null</td><td>1.056735</td><td>2002-08-01</td><td>2.4056944e7</td><td>0.004985</td></tr></tbody></table></div>"
      ]
     },
     "execution_count": 3,
     "metadata": {},
     "output_type": "execute_result"
    }
   ],
   "execution_count": 3
  },
  {
   "cell_type": "markdown",
   "metadata": {
    "formattedRanges": [],
    "cell_id": "1e6b94406af04aa5bb9f172b15df2fc6",
    "deepnote_cell_type": "text-cell-h1"
   },
   "source": "# Load the historical zero curve",
   "block_group": "f17c1c52563443a9bc36820fce72448b"
  },
  {
   "cell_type": "code",
   "metadata": {
    "source_hash": "8f44720e",
    "execution_start": 1713636079206,
    "execution_millis": 1574,
    "deepnote_to_be_reexecuted": false,
    "cell_id": "a4c3fca0247f402185a036a18eb5dd45",
    "deepnote_cell_type": "code"
   },
   "source": [
    "yield_curve = pl.read_csv('../../data/yield_curve/yield_panel_monthly_frequency_daily_maturity.csv', try_parse_dates=True)\n",
    "yield_curve = yield_curve.drop('MAX_DATA_TTM')"
   ],
   "block_group": "1ab17150e7fa4c7c96c90a3ba349f33f",
   "outputs_reference": null,
   "content_dependencies": null,
   "outputs": [],
   "execution_count": null
  },
  {
   "metadata": {},
   "cell_type": "code",
   "source": [
    "yield_curve = yield_curve.with_columns(pl.col('').alias('date')).drop('')\n",
    "yield_curve = yield_curve.with_columns(pl.all().exclude('date').cast(float))\n",
    "yield_curve[:3, -3:]"
   ],
   "outputs": [],
   "execution_count": null
  },
  {
   "metadata": {},
   "cell_type": "code",
   "source": [
    "yield_curve = yield_curve.sort('date').upsample(\n",
    "    time_column='date',\n",
    "    every='1d', \n",
    ").select(pl.all().forward_fill())"
   ],
   "outputs": [],
   "execution_count": null
  },
  {
   "metadata": {},
   "cell_type": "code",
   "source": "yield_curve = yield_curve.group_by(pl.col('date').dt.month_end()).agg(pl.all().last()).sort('date')",
   "outputs": [],
   "execution_count": null
  },
  {
   "metadata": {},
   "cell_type": "code",
   "source": "yield_curve[:10, :10]",
   "outputs": [],
   "execution_count": null
  },
  {
   "cell_type": "markdown",
   "metadata": {
    "formattedRanges": [],
    "cell_id": "ffc03bdcc0944eb7b22f8df758d70d48",
    "deepnote_cell_type": "text-cell-h1"
   },
   "source": "# OAS Calculation with QuantLib",
   "block_group": "f9d46ba3e10e4e7bb9b560ab8b2c0be0"
  },
  {
   "cell_type": "markdown",
   "metadata": {
    "cell_id": "03cb3458ae914d10b6cbddaf90d8d623",
    "deepnote_cell_type": "markdown"
   },
   "source": "OAS is the spread that added to the zero rates in the pricing function returns the price of the bond. We use the Newton method to get a solution for the OAS. In our case, since we stripped bonds with optionality, the OAS is the Z-Spread",
   "block_group": "21e488e742ae4cedbb90e17aeb74885b"
  },
  {
   "metadata": {},
   "cell_type": "code",
   "source": [
    "def decompose_date(date: datetime.date):\n",
    "    \"\"\"\n",
    "    Returns day, month, year given a `pd.Timestamp`\n",
    "    Parameters\n",
    "    ----------\n",
    "    date: pd.Timestamp\n",
    "\n",
    "    Returns\n",
    "    -------\n",
    "    tuple[int, int, int]: day, month, year\n",
    "\n",
    "    \"\"\"\n",
    "    return date.day, date.month, date.year\n",
    "\n",
    "def get_day_count(bond: dict): \n",
    "    day_count_convention = bond['DAY_COUNT_BASIS']\n",
    "    \n",
    "    if day_count_convention == '30/360': \n",
    "        return ql.Thirty360(ql.Thirty360.USA)\n",
    "    elif day_count_convention == 'ACT/360': \n",
    "        return ql.Actual360()\n",
    "    elif day_count_convention == 'ACT/ACT': \n",
    "        return ql.ActualActual(ql.ActualActual.Bond)\n",
    "    \n",
    "    raise Exception(f'we did not implement day count {day_count_convention}')\n",
    "    \n",
    "def get_coupon_freq(bond: dict): \n",
    "    coupon_freq = bond['NCOUPS']\n",
    "    if coupon_freq == 1: \n",
    "        return ql.Period(ql.Annual)\n",
    "    elif coupon_freq == 2: \n",
    "        return ql.Period(ql.Semiannual)\n",
    "    elif coupon_freq == 4: \n",
    "        return ql.Period(ql.Quarterly)\n",
    "    elif coupon_freq == 12: \n",
    "        return ql.Period(ql.Monthly)\n",
    "    \n",
    "    raise Exception(f'we did not implement coupon freq {coupon_freq}')"
   ],
   "outputs": [],
   "execution_count": null
  },
  {
   "metadata": {},
   "cell_type": "code",
   "source": [
    "def get_zero_curve(date: ql.Date | datetime.date) -> ql.ZeroCurve: \n",
    "    # get the zero rates for that specific date\n",
    "    if isinstance(date, ql.Date):\n",
    "        date_polar = date.to_date()\n",
    "    elif isinstance(date, datetime.date): \n",
    "        date_polar = date\n",
    "    else: \n",
    "        raise Exception('unknown type for date,', type(date))\n",
    "    \n",
    "    zero_rates = yield_curve.row(by_predicate=(pl.col('date') == date_polar))\n",
    "    if not isinstance(zero_rates[0], datetime.date): \n",
    "        raise Exception('we are cutting yields from the calculation')\n",
    "    zero_rates = list(zero_rates[1:])\n",
    "    # create the list of tenors based on the number of observations\n",
    "    tenors = np.arange(0, len(zero_rates) + 1)\n",
    "    \n",
    "    # set the tenor unit and compounding frequency based on the type of data used\n",
    "    tenor_unit = ql.Days\n",
    "    \n",
    "    # create the list of spot dates and rates\n",
    "    #   (need to add a point for the evaluation date, hence the 0.)\n",
    "    spot_dates = [date + ql.Period(tenor.item(), tenor_unit) for tenor in tenors] \n",
    "    spot_rates = [0.] + zero_rates\n",
    "    \n",
    "    # set payment convention as specified in the paper (365 days)\n",
    "    pmt_convention = ql.Actual365Fixed(ql.Actual365Fixed.Standard)\n",
    "    \n",
    "    # create the ZeroCurve and return it\n",
    "    calendar = ql.UnitedStates(ql.UnitedStates.SOFR)\n",
    "    spot_curve = ql.ZeroCurve(spot_dates, spot_rates, pmt_convention, calendar, ql.Linear(), ql.Compounded, ql.Continuous)\n",
    "    \n",
    "    return spot_curve\n",
    "\n",
    "def map_zero_curves(zero_curve: pl.Series): \n",
    "    date = zero_curve[0]\n",
    "    \n",
    "    if not isinstance(zero_curve[0], datetime.date): \n",
    "        raise Exception('we are cutting yields from the calculation')\n",
    "    \n",
    "    zero_rates = list(zero_curve[1:])\n",
    "    # create the list of tenors based on the number of observations\n",
    "    tenors = np.arange(0, len(zero_rates) + 1)\n",
    "    \n",
    "    # set the tenor unit and compounding frequency based on the type of data used\n",
    "    tenor_unit = ql.Days\n",
    "    \n",
    "    # create the list of spot dates and rates\n",
    "    #   (need to add a point for the evaluation date, hence the 0.)\n",
    "    spot_dates = [ql.Date(date.day, date.month, date.year) + ql.Period(tenor.item(), tenor_unit) for tenor in tenors] \n",
    "    spot_rates = [0.] + zero_rates\n",
    "    \n",
    "    # set payment convention as specified in the paper (365 days)\n",
    "    pmt_convention = ql.Actual365Fixed(ql.Actual365Fixed.Standard)\n",
    "    \n",
    "    # create the ZeroCurve and return it\n",
    "    calendar = ql.UnitedStates(ql.UnitedStates.SOFR)\n",
    "    spot_curve = ql.ZeroCurve(spot_dates, spot_rates, pmt_convention, calendar, ql.Linear(), ql.Compounded, ql.Continuous)\n",
    "    \n",
    "    return date, spot_curve\n",
    "    \n"
   ],
   "outputs": [],
   "execution_count": null
  },
  {
   "metadata": {},
   "cell_type": "markdown",
   "source": "## Cache the Zero Curves for each EoM in a dictionary so to not recompute them every time"
  },
  {
   "metadata": {},
   "cell_type": "code",
   "source": [
    "# get zero curves for all days\n",
    "zero_curves = dict()\n",
    "for data in yield_curve.filter(pl.col('date') >= datetime.date(2000,1,1)).iter_rows(): \n",
    "    date, curve = map_zero_curves(data)\n",
    "    zero_curves[date] = curve   "
   ],
   "outputs": [],
   "execution_count": null
  },
  {
   "metadata": {},
   "cell_type": "code",
   "source": "len(zero_curves)",
   "outputs": [],
   "execution_count": null
  },
  {
   "metadata": {},
   "cell_type": "markdown",
   "source": "## Final Function for OAS Calculation"
  },
  {
   "cell_type": "code",
   "metadata": {
    "source_hash": "e7f8963",
    "execution_start": 1713635912409,
    "execution_millis": 81,
    "deepnote_to_be_reexecuted": false,
    "cell_id": "115bf260678f4c5cb90b2f8657a0989e",
    "deepnote_cell_type": "code"
   },
   "source": [
    "class ParameterNaNException(Exception):\n",
    "    def __init__(self, varname: str):\n",
    "        self.msg = f'Variable {varname} is NaN, and it is required.'\n",
    "        super().__init__(self.msg)\n",
    "        \n",
    "def check_parameters(bond: dict): \n",
    "    for varname in ['coupon', 'principal_amt']: \n",
    "        if np.isnan(bond[varname]): raise ParameterNaNException(varname)\n",
    "    \n",
    "def compute_OAS(bond: dict, debug: bool = False):\n",
    "    # check that parameters are defined\n",
    "    print(f'computing OAS for bond {bond['cusip']} at {bond['date']}...', end='')\n",
    "    if bond['bondprc'] is None: \n",
    "        print('No price data, skipping this row')\n",
    "        return np.nan\n",
    "    check_parameters(bond)\n",
    "    \n",
    "    calc_date = ql.Date(*decompose_date(bond['date'])) # initialize the calculation date in QuantLib format\n",
    "    ql.Settings.instance().evaluationDate = calc_date # set the evaluationDate to the actual trading date\n",
    "    \n",
    "    # key data\n",
    "    calendar = ql.UnitedStates(ql.UnitedStates.NYSE) # calendar to follow for calculations (NYSE)\n",
    "    day_count_convention = ql.ActualActual(ql.ActualActual.Bond) # the day count convention as specified in the bond\n",
    "    \n",
    "    # initialize bond data\n",
    "    accruing_start_date = ql.Date(*decompose_date(bond['DATED_DATE'])) # this is the date from which the bond starts accruing interest\n",
    "    maturity_date = ql.Date(*decompose_date(bond['MATURITY'])) # bond maturity date\n",
    "    tenor = get_coupon_freq(bond) # coupon frequency (semiannual, annual, etc. - we excluded ZCB) \n",
    "    date_generation = ql.DateGeneration.Backward\n",
    "    month_end = False\n",
    "    face_value = 100 # all data from WRDS have a face value of 100\n",
    "    coupon = bond['coupon'] / 100\n",
    "    mkt_price = bond['bondprc']\n",
    "    first_pmt_date = ql.Date(*decompose_date(bond['FIRST_INTEREST_DATE'])) \n",
    "    \n",
    "    # create the schedule for the bond\n",
    "    schedule = ql.Schedule(accruing_start_date, maturity_date, tenor, calendar, ql.Unadjusted, ql.Unadjusted, date_generation, month_end, first_pmt_date)\n",
    "    \n",
    "    settlement_days = 2\n",
    "    \n",
    "    # get the cached zero curve\n",
    "    spot_curve = zero_curves[bond['date']]\n",
    "    pricing_curve = ql.YieldTermStructureHandle(spot_curve)\n",
    "    \n",
    "    # initialize the bond\n",
    "    bond_ql = ql.FixedRateBond(\n",
    "        settlement_days, \n",
    "        face_value, \n",
    "        schedule, \n",
    "        [coupon],\n",
    "        day_count_convention\n",
    "    )\n",
    "    # set the zero curve as the pricing engine \n",
    "    bond_ql.setPricingEngine(ql.DiscountingBondEngine(pricing_curve))\n",
    "    \n",
    "    # Z-spread calculation \n",
    "    z_spread = ql.BondFunctions.zSpread(\n",
    "        bond_ql, \n",
    "        mkt_price,\n",
    "        spot_curve,\n",
    "        day_count_convention, \n",
    "        ql.Compounded,\n",
    "        ql.Continuous, \n",
    "        calc_date,\n",
    "        1.e-16,\n",
    "        10_000_000,\n",
    "        0.\n",
    "    )\n",
    "    \n",
    "    # debug function to get the implied clean price starting from the z-spread\n",
    "    def get_impl_clean_price(spread):\n",
    "        spread1 = ql.SimpleQuote(spread)\n",
    "        spread_handle1 = ql.QuoteHandle(spread1)\n",
    "        ts_spreaded1 = ql.ZeroSpreadedTermStructure(pricing_curve,\n",
    "                                                    spread_handle1,\n",
    "                                                    ql.Compounded,\n",
    "                                                    ql.Continuous)\n",
    "        ts_spreaded_handle1 = ql.YieldTermStructureHandle(ts_spreaded1)\n",
    "        fixed_rate_bond = ql.FixedRateBond(settlement_days,\n",
    "                                        face_value,\n",
    "                                        schedule,\n",
    "                                        [coupon],\n",
    "                                        day_count_convention)\n",
    "        # Set Valuation engine\n",
    "        bond_engine = ql.DiscountingBondEngine(ts_spreaded_handle1)\n",
    "        fixed_rate_bond.setPricingEngine(bond_engine)\n",
    "        value = fixed_rate_bond.cleanPrice()\n",
    "        print(f'bond NPV: {fixed_rate_bond.NPV()}, clean: {fixed_rate_bond.cleanPrice()}')\n",
    "        return value\n",
    "    \n",
    "    if debug: \n",
    "        impl_clean_price = get_impl_clean_price(z_spread)\n",
    "        \n",
    "    print(f' ...Z-spread is {z_spread}')\n",
    "\n",
    "    return z_spread"
   ],
   "block_group": "694a69b778c449628414f12500f10b77",
   "outputs_reference": null,
   "content_dependencies": null,
   "outputs": [],
   "execution_count": null
  },
  {
   "metadata": {},
   "cell_type": "markdown",
   "source": "Compute OAS for a Random Bond"
  },
  {
   "cell_type": "code",
   "metadata": {
    "source_hash": "b6c11a54",
    "execution_start": 1713635920962,
    "execution_millis": 106,
    "deepnote_to_be_reexecuted": false,
    "cell_id": "7a74ec40beb94d12abba0f65aa333c17",
    "deepnote_cell_type": "code"
   },
   "source": [
    "example_bond = bond_data.row(15, named=True)\n",
    "spot_crv = compute_OAS(example_bond)"
   ],
   "block_group": "9a921ee166384369a114b5d10438ea89",
   "outputs_reference": null,
   "content_dependencies": null,
   "outputs": [],
   "execution_count": null
  },
  {
   "metadata": {},
   "cell_type": "markdown",
   "source": "## Run the function on the whole DataFrame"
  },
  {
   "metadata": {},
   "cell_type": "code",
   "source": "bond_data = bond_data.sort(['date', 'cusip'])",
   "outputs": [],
   "execution_count": null
  },
  {
   "metadata": {},
   "cell_type": "code",
   "source": "new_bond_data = bond_data.with_columns(oas=pl.Series(compute_OAS(bond) for bond in bond_data.iter_rows(named=True)))",
   "outputs": [],
   "execution_count": null
  },
  {
   "metadata": {},
   "cell_type": "code",
   "source": "bond_data = new_bond_data",
   "outputs": [],
   "execution_count": null
  },
  {
   "metadata": {},
   "cell_type": "markdown",
   "source": "# Export the DataFrame "
  },
  {
   "metadata": {},
   "cell_type": "code",
   "source": [
    "data = bond_data.sort(['date', 'cusip']).with_columns(\n",
    "    pl.col('equity_month_return').sub(1)\n",
    ")"
   ],
   "outputs": [],
   "execution_count": null
  },
  {
   "metadata": {},
   "cell_type": "code",
   "source": "data.tail()",
   "outputs": [],
   "execution_count": null
  },
  {
   "metadata": {},
   "cell_type": "code",
   "source": "data.write_parquet('../../data/final_data/bond_data_oas.pq', compression='zstd', compression_level=10)",
   "outputs": [],
   "execution_count": null
  }
 ],
 "nbformat": 4,
 "nbformat_minor": 0,
 "metadata": {
  "deepnote_persisted_session": {
   "createdAt": "2024-04-20T17:49:10.133Z"
  },
  "deepnote_full_width": true,
  "deepnote_notebook_id": "76025adab9af4a4fb451a04a4bf44042",
  "deepnote_execution_queue": [],
  "kernelspec": {
   "name": "python3",
   "language": "python",
   "display_name": "Python 3 (ipykernel)"
  }
 }
}
