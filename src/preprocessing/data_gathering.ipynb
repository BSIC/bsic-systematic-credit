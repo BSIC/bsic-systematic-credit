{
 "cells": [
  {
   "metadata": {},
   "cell_type": "markdown",
   "source": "# Imports",
   "id": "aa26ab9e359cadf0"
  },
  {
   "metadata": {
    "ExecuteTime": {
     "end_time": "2024-04-25T12:32:07.889521Z",
     "start_time": "2024-04-25T12:32:07.767955Z"
    }
   },
   "cell_type": "code",
   "source": "import polars as pl",
   "id": "a8b077ec0ee5504e",
   "outputs": [],
   "execution_count": 1
  },
  {
   "metadata": {},
   "cell_type": "markdown",
   "source": "# Load Data from openbondassetpricing.com",
   "id": "530158e1b088b503"
  },
  {
   "metadata": {},
   "cell_type": "markdown",
   "source": "For the definitions of the features, refer to the pdf in the `docs` folder",
   "id": "45cc3d6144318019"
  },
  {
   "metadata": {
    "ExecuteTime": {
     "end_time": "2024-04-25T12:33:45.644817Z",
     "start_time": "2024-04-25T12:33:45.637574Z"
    }
   },
   "cell_type": "code",
   "source": [
    "def load_bond_data(fetch_online: bool = False) -> pl.DataFrame: \n",
    "    \"\"\"\n",
    "    Returns WRDS bond data as pandas dataframe.\n",
    "    \n",
    "    Parameters\n",
    "    ----------\n",
    "    fetch_online: bool, optional. Whether to fetch online bond data or to take from the data folder.\n",
    "\n",
    "    Returns\n",
    "    -------\n",
    "    pd.DataFrame: bond data\n",
    "    \"\"\"\n",
    "\n",
    "    if fetch_online: \n",
    "        _url = \"https://openbondassetpricing.com/wp-content/uploads/2024/04/WRDS_MMN_Corrected_Data_2024.csv\"\n",
    "    else: \n",
    "        _url = \"../data/WRDS_MMN_Corrected_Data_2024.csv\"\n",
    "\n",
    "    # url to fetch\n",
    "    bond_data = pl.read_csv(_url, try_parse_dates=True)\n",
    "\n",
    "    return bond_data"
   ],
   "id": "7aa93f8873580715",
   "outputs": [],
   "execution_count": 12
  },
  {
   "metadata": {
    "ExecuteTime": {
     "end_time": "2024-04-25T12:34:04.751013Z",
     "start_time": "2024-04-25T12:33:46.984290Z"
    }
   },
   "cell_type": "code",
   "source": [
    "data_obap = load_bond_data(fetch_online=True)\n",
    "\n",
    "data_obap.head()"
   ],
   "id": "36ee6333eb809765",
   "outputs": [
    {
     "data": {
      "text/plain": [
       "shape: (5, 43)\n",
       "┌───────┬────────────┬───────────┬────────────┬───┬────────┬───────────┬─────────────┬─────────────┐\n",
       "│       ┆ date       ┆ cusip     ┆ exretn_t+1 ┆ … ┆ coupon ┆ bond_type ┆ principal_a ┆ bondpar_mil │\n",
       "│ ---   ┆ ---        ┆ ---       ┆ ---        ┆   ┆ ---    ┆ ---       ┆ mt          ┆ ---         │\n",
       "│ i64   ┆ date       ┆ str       ┆ f64        ┆   ┆ f64    ┆ str       ┆ ---         ┆ f64         │\n",
       "│       ┆            ┆           ┆            ┆   ┆        ┆           ┆ f64         ┆             │\n",
       "╞═══════╪════════════╪═══════════╪════════════╪═══╪════════╪═══════════╪═════════════╪═════════════╡\n",
       "│ 0     ┆ 2002-08-31 ┆ 000336AE7 ┆ -0.056089  ┆ … ┆ 6.875  ┆ CDEB      ┆ 1000.0      ┆ 100.0       │\n",
       "│ 5794  ┆ 2002-09-30 ┆ 000336AE7 ┆ 0.050663   ┆ … ┆ 6.875  ┆ CDEB      ┆ 1000.0      ┆ 100.0       │\n",
       "│ 11572 ┆ 2002-10-31 ┆ 000336AE7 ┆ 0.07968    ┆ … ┆ 6.875  ┆ CDEB      ┆ 1000.0      ┆ 100.0       │\n",
       "│ 17371 ┆ 2002-11-30 ┆ 000336AE7 ┆ null       ┆ … ┆ 6.875  ┆ CDEB      ┆ 1000.0      ┆ 100.0       │\n",
       "│ 23064 ┆ 2002-12-31 ┆ 000336AE7 ┆ null       ┆ … ┆ 6.875  ┆ CDEB      ┆ 1000.0      ┆ 100.0       │\n",
       "└───────┴────────────┴───────────┴────────────┴───┴────────┴───────────┴─────────────┴─────────────┘"
      ],
      "text/html": [
       "<div><style>\n",
       ".dataframe > thead > tr,\n",
       ".dataframe > tbody > tr {\n",
       "  text-align: right;\n",
       "  white-space: pre-wrap;\n",
       "}\n",
       "</style>\n",
       "<small>shape: (5, 43)</small><table border=\"1\" class=\"dataframe\"><thead><tr><th></th><th>date</th><th>cusip</th><th>exretn_t+1</th><th>exretnc_t+1</th><th>exretnc_dur_t+1</th><th>bond_ret_t+1</th><th>bond_ret</th><th>exretn</th><th>exretnc_dur</th><th>rating</th><th>cs</th><th>cs_6m_delta</th><th>bond_yield</th><th>bond_amount_out</th><th>offering_amt</th><th>bondprc</th><th>perc_par</th><th>tmt</th><th>duration</th><th>ind_num_17</th><th>sic_code</th><th>mom6_1</th><th>ltrev48_12</th><th>BOND_RET</th><th>ILLIQ</th><th>var95</th><th>n_trades_month</th><th>size_ig</th><th>size_jk</th><th>BOND_YIELD</th><th>CS</th><th>BONDPRC</th><th>PRFULL</th><th>DURATION</th><th>CONVEXITY</th><th>CS_6M_DELTA</th><th>bond_value</th><th>BOND_VALUE</th><th>coupon</th><th>bond_type</th><th>principal_amt</th><th>bondpar_mil</th></tr><tr><td>i64</td><td>date</td><td>str</td><td>f64</td><td>f64</td><td>f64</td><td>f64</td><td>f64</td><td>f64</td><td>f64</td><td>f64</td><td>f64</td><td>f64</td><td>f64</td><td>f64</td><td>f64</td><td>f64</td><td>f64</td><td>f64</td><td>f64</td><td>f64</td><td>i64</td><td>f64</td><td>f64</td><td>f64</td><td>f64</td><td>f64</td><td>f64</td><td>f64</td><td>f64</td><td>f64</td><td>f64</td><td>f64</td><td>f64</td><td>f64</td><td>f64</td><td>f64</td><td>f64</td><td>f64</td><td>f64</td><td>str</td><td>f64</td><td>f64</td></tr></thead><tbody><tr><td>0</td><td>2002-08-31</td><td>&quot;000336AE7&quot;</td><td>-0.056089</td><td>-0.087082</td><td>-0.081158</td><td>-0.054689</td><td>-0.008212</td><td>-0.009612</td><td>-0.023343</td><td>8.0</td><td>0.043019</td><td>null</td><td>0.073689</td><td>100000.0</td><td>100000.0</td><td>97.693</td><td>0.97693</td><td>70.033333</td><td>4.585289</td><td>null</td><td>6211</td><td>0.0</td><td>0.009058</td><td>0.023939</td><td>3.597388</td><td>null</td><td>2.0</td><td>0.0</td><td>1.0</td><td>0.064316</td><td>0.032526</td><td>102.092</td><td>103.75346</td><td>4.63593</td><td>26.445978</td><td>null</td><td>9.7693e6</td><td>1.02092e7</td><td>6.875</td><td>&quot;CDEB&quot;</td><td>1000.0</td><td>100.0</td></tr><tr><td>5794</td><td>2002-09-30</td><td>&quot;000336AE7&quot;</td><td>0.050663</td><td>0.057193</td><td>0.054383</td><td>0.052063</td><td>-0.054689</td><td>-0.056089</td><td>-0.081158</td><td>8.0</td><td>0.063356</td><td>null</td><td>0.087596</td><td>100000.0</td><td>100000.0</td><td>91.691494</td><td>0.916915</td><td>69.033333</td><td>4.437498</td><td>null</td><td>6211</td><td>-0.008212</td><td>-0.037939</td><td>-0.009819</td><td>34.628775</td><td>null</td><td>2.0</td><td>0.0</td><td>1.0</td><td>0.075301</td><td>0.049044</td><td>97.0</td><td>99.138889</td><td>4.514543</td><td>25.309944</td><td>null</td><td>9.169149e6</td><td>9.7e6</td><td>6.875</td><td>&quot;CDEB&quot;</td><td>1000.0</td><td>100.0</td></tr><tr><td>11572</td><td>2002-10-31</td><td>&quot;000336AE7&quot;</td><td>0.07968</td><td>0.098591</td><td>0.095571</td><td>0.08088</td><td>0.052063</td><td>0.050663</td><td>0.054383</td><td>10.0</td><td>0.052394</td><td>null</td><td>0.077672</td><td>100000.0</td><td>100000.0</td><td>96.0</td><td>0.96</td><td>68.0</td><td>4.404651</td><td>null</td><td>6211</td><td>-0.062452</td><td>-0.027926</td><td>0.080031</td><td>null</td><td>null</td><td>1.0</td><td>0.0</td><td>1.0</td><td>0.074274</td><td>0.045408</td><td>97.5</td><td>100.288197</td><td>4.428541</td><td>24.496262</td><td>null</td><td>9.6e6</td><td>9.75e6</td><td>6.875</td><td>&quot;CDEB&quot;</td><td>1000.0</td><td>100.0</td></tr><tr><td>17371</td><td>2002-11-30</td><td>&quot;000336AE7&quot;</td><td>null</td><td>null</td><td>null</td><td>null</td><td>0.08088</td><td>0.07968</td><td>0.095571</td><td>10.0</td><td>0.030568</td><td>null</td><td>0.061289</td><td>100000.0</td><td>100000.0</td><td>103.431</td><td>1.03431</td><td>67.0</td><td>4.40485</td><td>null</td><td>6211</td><td>-0.01364</td><td>-0.020827</td><td>0.029465</td><td>-33.329326</td><td>null</td><td>3.0</td><td>0.0</td><td>1.0</td><td>0.068748</td><td>0.039786</td><td>100.0</td><td>103.361111</td><td>4.374959</td><td>23.981731</td><td>null</td><td>1.03431e7</td><td>1e7</td><td>6.875</td><td>&quot;CDEB&quot;</td><td>1000.0</td><td>100.0</td></tr><tr><td>23064</td><td>2002-12-31</td><td>&quot;000336AE7&quot;</td><td>null</td><td>null</td><td>null</td><td>null</td><td>null</td><td>null</td><td>null</td><td>10.0</td><td>0.051327</td><td>null</td><td>0.07661</td><td>100000.0</td><td>100000.0</td><td>null</td><td>null</td><td>65.966667</td><td>4.401693</td><td>null</td><td>6211</td><td>0.066137</td><td>-0.032151</td><td>0.023574</td><td>null</td><td>null</td><td>1.0</td><td>0.0</td><td>1.0</td><td>0.107563</td><td>0.079508</td><td>84.25</td><td>84.440971</td><td>4.321904</td><td>22.989123</td><td>null</td><td>null</td><td>8.425e6</td><td>6.875</td><td>&quot;CDEB&quot;</td><td>1000.0</td><td>100.0</td></tr></tbody></table></div>"
      ]
     },
     "execution_count": 13,
     "metadata": {},
     "output_type": "execute_result"
    }
   ],
   "execution_count": 13
  },
  {
   "metadata": {},
   "cell_type": "markdown",
   "source": "Loading the data from the WRDS Query",
   "id": "6e30fb5e80dd8110"
  },
  {
   "metadata": {
    "ExecuteTime": {
     "end_time": "2024-04-20T16:56:42.200098Z",
     "start_time": "2024-04-20T16:56:11.172597Z"
    }
   },
   "cell_type": "code",
   "source": [
    "data_wrds = pl.read_csv(\"../data/wrds_bond_data.csv.gz\")\n",
    "\n",
    "data_wrds.head()"
   ],
   "id": "22a1658c25a093d3",
   "outputs": [
    {
     "name": "stderr",
     "output_type": "stream",
     "text": [
      "C:\\Users\\andre\\AppData\\Local\\Temp\\ipykernel_18220\\761952267.py:1: DtypeWarning: Columns (54,55,56,57) have mixed types. Specify dtype option on import or set low_memory=False.\n",
      "  data_wrds = pd.read_csv(\"../data/wrds_bond_data.csv.gz\")\n"
     ]
    },
    {
     "data": {
      "text/plain": [
       "         DATE  ISSUE_ID      CUSIP bond_sym_id bsym          ISIN  \\\n",
       "0  2002-07-31         2  000361AB1      AIR.GA  NaN  US000361AB18   \n",
       "1  2002-08-31         2  000361AB1      AIR.GA  NaN  US000361AB18   \n",
       "2  2002-09-30         2  000361AB1      AIR.GA  NaN  US000361AB18   \n",
       "3  2002-11-30         2  000361AB1      AIR.GA  NaN  US000361AB18   \n",
       "4  2002-12-31         2  000361AB1      AIR.GA  NaN  US000361AB18   \n",
       "\n",
       "  company_symbol BOND_TYPE SECURITY_LEVEL  CONV  ... RET_LDM  RET_L5M   TMT  \\\n",
       "0            AIR      CDEB            SEN     0  ...     NaN      NaN  1.23   \n",
       "1            AIR      CDEB            SEN     0  ...     NaN      NaN  1.14   \n",
       "2            AIR      CDEB            SEN     0  ...     NaN      NaN  1.06   \n",
       "3            AIR      CDEB            SEN     0  ...     NaN      NaN  0.89   \n",
       "4            AIR      CDEB            SEN     0  ...     NaN      NaN  0.80   \n",
       "\n",
       "   REMCOUPS DURATION DEFAULTED  DEFAULT_DATE DEFAULT_TYPE REINSTATED  \\\n",
       "0       3.0     1.13         N           NaN          NaN        NaN   \n",
       "1       3.0     1.05         N           NaN          NaN        NaN   \n",
       "2       3.0     0.97         N           NaN          NaN        NaN   \n",
       "3       2.0     0.84         N           NaN          NaN        NaN   \n",
       "4       2.0     0.75         N           NaN          NaN        NaN   \n",
       "\n",
       "  REINSTATED_DATE  \n",
       "0             NaN  \n",
       "1             NaN  \n",
       "2             NaN  \n",
       "3             NaN  \n",
       "4             NaN  \n",
       "\n",
       "[5 rows x 58 columns]"
      ],
      "text/html": [
       "<div>\n",
       "<style scoped>\n",
       "    .dataframe tbody tr th:only-of-type {\n",
       "        vertical-align: middle;\n",
       "    }\n",
       "\n",
       "    .dataframe tbody tr th {\n",
       "        vertical-align: top;\n",
       "    }\n",
       "\n",
       "    .dataframe thead th {\n",
       "        text-align: right;\n",
       "    }\n",
       "</style>\n",
       "<table border=\"1\" class=\"dataframe\">\n",
       "  <thead>\n",
       "    <tr style=\"text-align: right;\">\n",
       "      <th></th>\n",
       "      <th>DATE</th>\n",
       "      <th>ISSUE_ID</th>\n",
       "      <th>CUSIP</th>\n",
       "      <th>bond_sym_id</th>\n",
       "      <th>bsym</th>\n",
       "      <th>ISIN</th>\n",
       "      <th>company_symbol</th>\n",
       "      <th>BOND_TYPE</th>\n",
       "      <th>SECURITY_LEVEL</th>\n",
       "      <th>CONV</th>\n",
       "      <th>...</th>\n",
       "      <th>RET_LDM</th>\n",
       "      <th>RET_L5M</th>\n",
       "      <th>TMT</th>\n",
       "      <th>REMCOUPS</th>\n",
       "      <th>DURATION</th>\n",
       "      <th>DEFAULTED</th>\n",
       "      <th>DEFAULT_DATE</th>\n",
       "      <th>DEFAULT_TYPE</th>\n",
       "      <th>REINSTATED</th>\n",
       "      <th>REINSTATED_DATE</th>\n",
       "    </tr>\n",
       "  </thead>\n",
       "  <tbody>\n",
       "    <tr>\n",
       "      <th>0</th>\n",
       "      <td>2002-07-31</td>\n",
       "      <td>2</td>\n",
       "      <td>000361AB1</td>\n",
       "      <td>AIR.GA</td>\n",
       "      <td>NaN</td>\n",
       "      <td>US000361AB18</td>\n",
       "      <td>AIR</td>\n",
       "      <td>CDEB</td>\n",
       "      <td>SEN</td>\n",
       "      <td>0</td>\n",
       "      <td>...</td>\n",
       "      <td>NaN</td>\n",
       "      <td>NaN</td>\n",
       "      <td>1.23</td>\n",
       "      <td>3.0</td>\n",
       "      <td>1.13</td>\n",
       "      <td>N</td>\n",
       "      <td>NaN</td>\n",
       "      <td>NaN</td>\n",
       "      <td>NaN</td>\n",
       "      <td>NaN</td>\n",
       "    </tr>\n",
       "    <tr>\n",
       "      <th>1</th>\n",
       "      <td>2002-08-31</td>\n",
       "      <td>2</td>\n",
       "      <td>000361AB1</td>\n",
       "      <td>AIR.GA</td>\n",
       "      <td>NaN</td>\n",
       "      <td>US000361AB18</td>\n",
       "      <td>AIR</td>\n",
       "      <td>CDEB</td>\n",
       "      <td>SEN</td>\n",
       "      <td>0</td>\n",
       "      <td>...</td>\n",
       "      <td>NaN</td>\n",
       "      <td>NaN</td>\n",
       "      <td>1.14</td>\n",
       "      <td>3.0</td>\n",
       "      <td>1.05</td>\n",
       "      <td>N</td>\n",
       "      <td>NaN</td>\n",
       "      <td>NaN</td>\n",
       "      <td>NaN</td>\n",
       "      <td>NaN</td>\n",
       "    </tr>\n",
       "    <tr>\n",
       "      <th>2</th>\n",
       "      <td>2002-09-30</td>\n",
       "      <td>2</td>\n",
       "      <td>000361AB1</td>\n",
       "      <td>AIR.GA</td>\n",
       "      <td>NaN</td>\n",
       "      <td>US000361AB18</td>\n",
       "      <td>AIR</td>\n",
       "      <td>CDEB</td>\n",
       "      <td>SEN</td>\n",
       "      <td>0</td>\n",
       "      <td>...</td>\n",
       "      <td>NaN</td>\n",
       "      <td>NaN</td>\n",
       "      <td>1.06</td>\n",
       "      <td>3.0</td>\n",
       "      <td>0.97</td>\n",
       "      <td>N</td>\n",
       "      <td>NaN</td>\n",
       "      <td>NaN</td>\n",
       "      <td>NaN</td>\n",
       "      <td>NaN</td>\n",
       "    </tr>\n",
       "    <tr>\n",
       "      <th>3</th>\n",
       "      <td>2002-11-30</td>\n",
       "      <td>2</td>\n",
       "      <td>000361AB1</td>\n",
       "      <td>AIR.GA</td>\n",
       "      <td>NaN</td>\n",
       "      <td>US000361AB18</td>\n",
       "      <td>AIR</td>\n",
       "      <td>CDEB</td>\n",
       "      <td>SEN</td>\n",
       "      <td>0</td>\n",
       "      <td>...</td>\n",
       "      <td>NaN</td>\n",
       "      <td>NaN</td>\n",
       "      <td>0.89</td>\n",
       "      <td>2.0</td>\n",
       "      <td>0.84</td>\n",
       "      <td>N</td>\n",
       "      <td>NaN</td>\n",
       "      <td>NaN</td>\n",
       "      <td>NaN</td>\n",
       "      <td>NaN</td>\n",
       "    </tr>\n",
       "    <tr>\n",
       "      <th>4</th>\n",
       "      <td>2002-12-31</td>\n",
       "      <td>2</td>\n",
       "      <td>000361AB1</td>\n",
       "      <td>AIR.GA</td>\n",
       "      <td>NaN</td>\n",
       "      <td>US000361AB18</td>\n",
       "      <td>AIR</td>\n",
       "      <td>CDEB</td>\n",
       "      <td>SEN</td>\n",
       "      <td>0</td>\n",
       "      <td>...</td>\n",
       "      <td>NaN</td>\n",
       "      <td>NaN</td>\n",
       "      <td>0.80</td>\n",
       "      <td>2.0</td>\n",
       "      <td>0.75</td>\n",
       "      <td>N</td>\n",
       "      <td>NaN</td>\n",
       "      <td>NaN</td>\n",
       "      <td>NaN</td>\n",
       "      <td>NaN</td>\n",
       "    </tr>\n",
       "  </tbody>\n",
       "</table>\n",
       "<p>5 rows × 58 columns</p>\n",
       "</div>"
      ]
     },
     "execution_count": 10,
     "metadata": {},
     "output_type": "execute_result"
    }
   ],
   "execution_count": 10
  },
  {
   "metadata": {
    "ExecuteTime": {
     "end_time": "2024-04-20T16:57:20.193094Z",
     "start_time": "2024-04-20T16:57:19.928596Z"
    }
   },
   "cell_type": "code",
   "source": "data_wrds['DATE'] = pd.to_datetime(data_wrds['DATE'])",
   "id": "b68fb5fb7a550121",
   "outputs": [],
   "execution_count": 16
  },
  {
   "metadata": {
    "ExecuteTime": {
     "end_time": "2024-04-20T16:57:31.165608Z",
     "start_time": "2024-04-20T16:57:28.648611Z"
    }
   },
   "cell_type": "code",
   "source": "merged_bonds_data = pd.merge(data_obap, data_wrds, how='left', left_on=['cusip', 'date'], right_on=['CUSIP', 'DATE'])",
   "id": "cdb430876e573f0d",
   "outputs": [],
   "execution_count": 17
  },
  {
   "metadata": {
    "ExecuteTime": {
     "end_time": "2024-04-20T16:59:38.314121Z",
     "start_time": "2024-04-20T16:58:08.154622Z"
    }
   },
   "cell_type": "code",
   "source": "merged_bonds_data.to_csv('../data/bond_data_final.csv')",
   "id": "590374ede9614bb1",
   "outputs": [],
   "execution_count": 19
  },
  {
   "metadata": {
    "ExecuteTime": {
     "end_time": "2024-04-20T16:57:44.576110Z",
     "start_time": "2024-04-20T16:57:33.497609Z"
    }
   },
   "cell_type": "code",
   "source": "merged_bonds_data.to_hdf('../data/bond_data_final.hdf5', key='bond_data', complevel=7, format='table')",
   "id": "77da53934166386e",
   "outputs": [
    {
     "ename": "KeyboardInterrupt",
     "evalue": "",
     "output_type": "error",
     "traceback": [
      "\u001B[1;31m---------------------------------------------------------------------------\u001B[0m",
      "\u001B[1;31mKeyboardInterrupt\u001B[0m                         Traceback (most recent call last)",
      "Cell \u001B[1;32mIn[18], line 1\u001B[0m\n\u001B[1;32m----> 1\u001B[0m \u001B[43mmerged_bonds_data\u001B[49m\u001B[38;5;241;43m.\u001B[39;49m\u001B[43mto_hdf\u001B[49m\u001B[43m(\u001B[49m\u001B[38;5;124;43m'\u001B[39;49m\u001B[38;5;124;43m../data/bond_data_final.hdf5\u001B[39;49m\u001B[38;5;124;43m'\u001B[39;49m\u001B[43m,\u001B[49m\u001B[43m \u001B[49m\u001B[43mkey\u001B[49m\u001B[38;5;241;43m=\u001B[39;49m\u001B[38;5;124;43m'\u001B[39;49m\u001B[38;5;124;43mbond_data\u001B[39;49m\u001B[38;5;124;43m'\u001B[39;49m\u001B[43m,\u001B[49m\u001B[43m \u001B[49m\u001B[43mcomplevel\u001B[49m\u001B[38;5;241;43m=\u001B[39;49m\u001B[38;5;241;43m7\u001B[39;49m\u001B[43m,\u001B[49m\u001B[43m \u001B[49m\u001B[38;5;28;43mformat\u001B[39;49m\u001B[38;5;241;43m=\u001B[39;49m\u001B[38;5;124;43m'\u001B[39;49m\u001B[38;5;124;43mtable\u001B[39;49m\u001B[38;5;124;43m'\u001B[39;49m\u001B[43m)\u001B[49m\n",
      "File \u001B[1;32m~\\anaconda3\\envs\\bsic\\Lib\\site-packages\\pandas\\util\\_decorators.py:333\u001B[0m, in \u001B[0;36mdeprecate_nonkeyword_arguments.<locals>.decorate.<locals>.wrapper\u001B[1;34m(*args, **kwargs)\u001B[0m\n\u001B[0;32m    327\u001B[0m \u001B[38;5;28;01mif\u001B[39;00m \u001B[38;5;28mlen\u001B[39m(args) \u001B[38;5;241m>\u001B[39m num_allow_args:\n\u001B[0;32m    328\u001B[0m     warnings\u001B[38;5;241m.\u001B[39mwarn(\n\u001B[0;32m    329\u001B[0m         msg\u001B[38;5;241m.\u001B[39mformat(arguments\u001B[38;5;241m=\u001B[39m_format_argument_list(allow_args)),\n\u001B[0;32m    330\u001B[0m         \u001B[38;5;167;01mFutureWarning\u001B[39;00m,\n\u001B[0;32m    331\u001B[0m         stacklevel\u001B[38;5;241m=\u001B[39mfind_stack_level(),\n\u001B[0;32m    332\u001B[0m     )\n\u001B[1;32m--> 333\u001B[0m \u001B[38;5;28;01mreturn\u001B[39;00m \u001B[43mfunc\u001B[49m\u001B[43m(\u001B[49m\u001B[38;5;241;43m*\u001B[39;49m\u001B[43margs\u001B[49m\u001B[43m,\u001B[49m\u001B[43m \u001B[49m\u001B[38;5;241;43m*\u001B[39;49m\u001B[38;5;241;43m*\u001B[39;49m\u001B[43mkwargs\u001B[49m\u001B[43m)\u001B[49m\n",
      "File \u001B[1;32m~\\anaconda3\\envs\\bsic\\Lib\\site-packages\\pandas\\core\\generic.py:2852\u001B[0m, in \u001B[0;36mNDFrame.to_hdf\u001B[1;34m(self, path_or_buf, key, mode, complevel, complib, append, format, index, min_itemsize, nan_rep, dropna, data_columns, errors, encoding)\u001B[0m\n\u001B[0;32m   2848\u001B[0m \u001B[38;5;28;01mfrom\u001B[39;00m \u001B[38;5;21;01mpandas\u001B[39;00m\u001B[38;5;21;01m.\u001B[39;00m\u001B[38;5;21;01mio\u001B[39;00m \u001B[38;5;28;01mimport\u001B[39;00m pytables\n\u001B[0;32m   2850\u001B[0m \u001B[38;5;66;03m# Argument 3 to \"to_hdf\" has incompatible type \"NDFrame\"; expected\u001B[39;00m\n\u001B[0;32m   2851\u001B[0m \u001B[38;5;66;03m# \"Union[DataFrame, Series]\" [arg-type]\u001B[39;00m\n\u001B[1;32m-> 2852\u001B[0m \u001B[43mpytables\u001B[49m\u001B[38;5;241;43m.\u001B[39;49m\u001B[43mto_hdf\u001B[49m\u001B[43m(\u001B[49m\n\u001B[0;32m   2853\u001B[0m \u001B[43m    \u001B[49m\u001B[43mpath_or_buf\u001B[49m\u001B[43m,\u001B[49m\n\u001B[0;32m   2854\u001B[0m \u001B[43m    \u001B[49m\u001B[43mkey\u001B[49m\u001B[43m,\u001B[49m\n\u001B[0;32m   2855\u001B[0m \u001B[43m    \u001B[49m\u001B[38;5;28;43mself\u001B[39;49m\u001B[43m,\u001B[49m\u001B[43m  \u001B[49m\u001B[38;5;66;43;03m# type: ignore[arg-type]\u001B[39;49;00m\n\u001B[0;32m   2856\u001B[0m \u001B[43m    \u001B[49m\u001B[43mmode\u001B[49m\u001B[38;5;241;43m=\u001B[39;49m\u001B[43mmode\u001B[49m\u001B[43m,\u001B[49m\n\u001B[0;32m   2857\u001B[0m \u001B[43m    \u001B[49m\u001B[43mcomplevel\u001B[49m\u001B[38;5;241;43m=\u001B[39;49m\u001B[43mcomplevel\u001B[49m\u001B[43m,\u001B[49m\n\u001B[0;32m   2858\u001B[0m \u001B[43m    \u001B[49m\u001B[43mcomplib\u001B[49m\u001B[38;5;241;43m=\u001B[39;49m\u001B[43mcomplib\u001B[49m\u001B[43m,\u001B[49m\n\u001B[0;32m   2859\u001B[0m \u001B[43m    \u001B[49m\u001B[43mappend\u001B[49m\u001B[38;5;241;43m=\u001B[39;49m\u001B[43mappend\u001B[49m\u001B[43m,\u001B[49m\n\u001B[0;32m   2860\u001B[0m \u001B[43m    \u001B[49m\u001B[38;5;28;43mformat\u001B[39;49m\u001B[38;5;241;43m=\u001B[39;49m\u001B[38;5;28;43mformat\u001B[39;49m\u001B[43m,\u001B[49m\n\u001B[0;32m   2861\u001B[0m \u001B[43m    \u001B[49m\u001B[43mindex\u001B[49m\u001B[38;5;241;43m=\u001B[39;49m\u001B[43mindex\u001B[49m\u001B[43m,\u001B[49m\n\u001B[0;32m   2862\u001B[0m \u001B[43m    \u001B[49m\u001B[43mmin_itemsize\u001B[49m\u001B[38;5;241;43m=\u001B[39;49m\u001B[43mmin_itemsize\u001B[49m\u001B[43m,\u001B[49m\n\u001B[0;32m   2863\u001B[0m \u001B[43m    \u001B[49m\u001B[43mnan_rep\u001B[49m\u001B[38;5;241;43m=\u001B[39;49m\u001B[43mnan_rep\u001B[49m\u001B[43m,\u001B[49m\n\u001B[0;32m   2864\u001B[0m \u001B[43m    \u001B[49m\u001B[43mdropna\u001B[49m\u001B[38;5;241;43m=\u001B[39;49m\u001B[43mdropna\u001B[49m\u001B[43m,\u001B[49m\n\u001B[0;32m   2865\u001B[0m \u001B[43m    \u001B[49m\u001B[43mdata_columns\u001B[49m\u001B[38;5;241;43m=\u001B[39;49m\u001B[43mdata_columns\u001B[49m\u001B[43m,\u001B[49m\n\u001B[0;32m   2866\u001B[0m \u001B[43m    \u001B[49m\u001B[43merrors\u001B[49m\u001B[38;5;241;43m=\u001B[39;49m\u001B[43merrors\u001B[49m\u001B[43m,\u001B[49m\n\u001B[0;32m   2867\u001B[0m \u001B[43m    \u001B[49m\u001B[43mencoding\u001B[49m\u001B[38;5;241;43m=\u001B[39;49m\u001B[43mencoding\u001B[49m\u001B[43m,\u001B[49m\n\u001B[0;32m   2868\u001B[0m \u001B[43m\u001B[49m\u001B[43m)\u001B[49m\n",
      "File \u001B[1;32m~\\anaconda3\\envs\\bsic\\Lib\\site-packages\\pandas\\io\\pytables.py:311\u001B[0m, in \u001B[0;36mto_hdf\u001B[1;34m(path_or_buf, key, value, mode, complevel, complib, append, format, index, min_itemsize, nan_rep, dropna, data_columns, errors, encoding)\u001B[0m\n\u001B[0;32m    307\u001B[0m \u001B[38;5;28;01mif\u001B[39;00m \u001B[38;5;28misinstance\u001B[39m(path_or_buf, \u001B[38;5;28mstr\u001B[39m):\n\u001B[0;32m    308\u001B[0m     \u001B[38;5;28;01mwith\u001B[39;00m HDFStore(\n\u001B[0;32m    309\u001B[0m         path_or_buf, mode\u001B[38;5;241m=\u001B[39mmode, complevel\u001B[38;5;241m=\u001B[39mcomplevel, complib\u001B[38;5;241m=\u001B[39mcomplib\n\u001B[0;32m    310\u001B[0m     ) \u001B[38;5;28;01mas\u001B[39;00m store:\n\u001B[1;32m--> 311\u001B[0m         \u001B[43mf\u001B[49m\u001B[43m(\u001B[49m\u001B[43mstore\u001B[49m\u001B[43m)\u001B[49m\n\u001B[0;32m    312\u001B[0m \u001B[38;5;28;01melse\u001B[39;00m:\n\u001B[0;32m    313\u001B[0m     f(path_or_buf)\n",
      "File \u001B[1;32m~\\anaconda3\\envs\\bsic\\Lib\\site-packages\\pandas\\io\\pytables.py:293\u001B[0m, in \u001B[0;36mto_hdf.<locals>.<lambda>\u001B[1;34m(store)\u001B[0m\n\u001B[0;32m    279\u001B[0m     f \u001B[38;5;241m=\u001B[39m \u001B[38;5;28;01mlambda\u001B[39;00m store: store\u001B[38;5;241m.\u001B[39mappend(\n\u001B[0;32m    280\u001B[0m         key,\n\u001B[0;32m    281\u001B[0m         value,\n\u001B[1;32m   (...)\u001B[0m\n\u001B[0;32m    289\u001B[0m         encoding\u001B[38;5;241m=\u001B[39mencoding,\n\u001B[0;32m    290\u001B[0m     )\n\u001B[0;32m    291\u001B[0m \u001B[38;5;28;01melse\u001B[39;00m:\n\u001B[0;32m    292\u001B[0m     \u001B[38;5;66;03m# NB: dropna is not passed to `put`\u001B[39;00m\n\u001B[1;32m--> 293\u001B[0m     f \u001B[38;5;241m=\u001B[39m \u001B[38;5;28;01mlambda\u001B[39;00m store: \u001B[43mstore\u001B[49m\u001B[38;5;241;43m.\u001B[39;49m\u001B[43mput\u001B[49m\u001B[43m(\u001B[49m\n\u001B[0;32m    294\u001B[0m \u001B[43m        \u001B[49m\u001B[43mkey\u001B[49m\u001B[43m,\u001B[49m\n\u001B[0;32m    295\u001B[0m \u001B[43m        \u001B[49m\u001B[43mvalue\u001B[49m\u001B[43m,\u001B[49m\n\u001B[0;32m    296\u001B[0m \u001B[43m        \u001B[49m\u001B[38;5;28;43mformat\u001B[39;49m\u001B[38;5;241;43m=\u001B[39;49m\u001B[38;5;28;43mformat\u001B[39;49m\u001B[43m,\u001B[49m\n\u001B[0;32m    297\u001B[0m \u001B[43m        \u001B[49m\u001B[43mindex\u001B[49m\u001B[38;5;241;43m=\u001B[39;49m\u001B[43mindex\u001B[49m\u001B[43m,\u001B[49m\n\u001B[0;32m    298\u001B[0m \u001B[43m        \u001B[49m\u001B[43mmin_itemsize\u001B[49m\u001B[38;5;241;43m=\u001B[39;49m\u001B[43mmin_itemsize\u001B[49m\u001B[43m,\u001B[49m\n\u001B[0;32m    299\u001B[0m \u001B[43m        \u001B[49m\u001B[43mnan_rep\u001B[49m\u001B[38;5;241;43m=\u001B[39;49m\u001B[43mnan_rep\u001B[49m\u001B[43m,\u001B[49m\n\u001B[0;32m    300\u001B[0m \u001B[43m        \u001B[49m\u001B[43mdata_columns\u001B[49m\u001B[38;5;241;43m=\u001B[39;49m\u001B[43mdata_columns\u001B[49m\u001B[43m,\u001B[49m\n\u001B[0;32m    301\u001B[0m \u001B[43m        \u001B[49m\u001B[43merrors\u001B[49m\u001B[38;5;241;43m=\u001B[39;49m\u001B[43merrors\u001B[49m\u001B[43m,\u001B[49m\n\u001B[0;32m    302\u001B[0m \u001B[43m        \u001B[49m\u001B[43mencoding\u001B[49m\u001B[38;5;241;43m=\u001B[39;49m\u001B[43mencoding\u001B[49m\u001B[43m,\u001B[49m\n\u001B[0;32m    303\u001B[0m \u001B[43m        \u001B[49m\u001B[43mdropna\u001B[49m\u001B[38;5;241;43m=\u001B[39;49m\u001B[43mdropna\u001B[49m\u001B[43m,\u001B[49m\n\u001B[0;32m    304\u001B[0m \u001B[43m    \u001B[49m\u001B[43m)\u001B[49m\n\u001B[0;32m    306\u001B[0m path_or_buf \u001B[38;5;241m=\u001B[39m stringify_path(path_or_buf)\n\u001B[0;32m    307\u001B[0m \u001B[38;5;28;01mif\u001B[39;00m \u001B[38;5;28misinstance\u001B[39m(path_or_buf, \u001B[38;5;28mstr\u001B[39m):\n",
      "File \u001B[1;32m~\\anaconda3\\envs\\bsic\\Lib\\site-packages\\pandas\\io\\pytables.py:1160\u001B[0m, in \u001B[0;36mHDFStore.put\u001B[1;34m(self, key, value, format, index, append, complib, complevel, min_itemsize, nan_rep, data_columns, encoding, errors, track_times, dropna)\u001B[0m\n\u001B[0;32m   1158\u001B[0m     \u001B[38;5;28mformat\u001B[39m \u001B[38;5;241m=\u001B[39m get_option(\u001B[38;5;124m\"\u001B[39m\u001B[38;5;124mio.hdf.default_format\u001B[39m\u001B[38;5;124m\"\u001B[39m) \u001B[38;5;129;01mor\u001B[39;00m \u001B[38;5;124m\"\u001B[39m\u001B[38;5;124mfixed\u001B[39m\u001B[38;5;124m\"\u001B[39m\n\u001B[0;32m   1159\u001B[0m \u001B[38;5;28mformat\u001B[39m \u001B[38;5;241m=\u001B[39m \u001B[38;5;28mself\u001B[39m\u001B[38;5;241m.\u001B[39m_validate_format(\u001B[38;5;28mformat\u001B[39m)\n\u001B[1;32m-> 1160\u001B[0m \u001B[38;5;28;43mself\u001B[39;49m\u001B[38;5;241;43m.\u001B[39;49m\u001B[43m_write_to_group\u001B[49m\u001B[43m(\u001B[49m\n\u001B[0;32m   1161\u001B[0m \u001B[43m    \u001B[49m\u001B[43mkey\u001B[49m\u001B[43m,\u001B[49m\n\u001B[0;32m   1162\u001B[0m \u001B[43m    \u001B[49m\u001B[43mvalue\u001B[49m\u001B[43m,\u001B[49m\n\u001B[0;32m   1163\u001B[0m \u001B[43m    \u001B[49m\u001B[38;5;28;43mformat\u001B[39;49m\u001B[38;5;241;43m=\u001B[39;49m\u001B[38;5;28;43mformat\u001B[39;49m\u001B[43m,\u001B[49m\n\u001B[0;32m   1164\u001B[0m \u001B[43m    \u001B[49m\u001B[43mindex\u001B[49m\u001B[38;5;241;43m=\u001B[39;49m\u001B[43mindex\u001B[49m\u001B[43m,\u001B[49m\n\u001B[0;32m   1165\u001B[0m \u001B[43m    \u001B[49m\u001B[43mappend\u001B[49m\u001B[38;5;241;43m=\u001B[39;49m\u001B[43mappend\u001B[49m\u001B[43m,\u001B[49m\n\u001B[0;32m   1166\u001B[0m \u001B[43m    \u001B[49m\u001B[43mcomplib\u001B[49m\u001B[38;5;241;43m=\u001B[39;49m\u001B[43mcomplib\u001B[49m\u001B[43m,\u001B[49m\n\u001B[0;32m   1167\u001B[0m \u001B[43m    \u001B[49m\u001B[43mcomplevel\u001B[49m\u001B[38;5;241;43m=\u001B[39;49m\u001B[43mcomplevel\u001B[49m\u001B[43m,\u001B[49m\n\u001B[0;32m   1168\u001B[0m \u001B[43m    \u001B[49m\u001B[43mmin_itemsize\u001B[49m\u001B[38;5;241;43m=\u001B[39;49m\u001B[43mmin_itemsize\u001B[49m\u001B[43m,\u001B[49m\n\u001B[0;32m   1169\u001B[0m \u001B[43m    \u001B[49m\u001B[43mnan_rep\u001B[49m\u001B[38;5;241;43m=\u001B[39;49m\u001B[43mnan_rep\u001B[49m\u001B[43m,\u001B[49m\n\u001B[0;32m   1170\u001B[0m \u001B[43m    \u001B[49m\u001B[43mdata_columns\u001B[49m\u001B[38;5;241;43m=\u001B[39;49m\u001B[43mdata_columns\u001B[49m\u001B[43m,\u001B[49m\n\u001B[0;32m   1171\u001B[0m \u001B[43m    \u001B[49m\u001B[43mencoding\u001B[49m\u001B[38;5;241;43m=\u001B[39;49m\u001B[43mencoding\u001B[49m\u001B[43m,\u001B[49m\n\u001B[0;32m   1172\u001B[0m \u001B[43m    \u001B[49m\u001B[43merrors\u001B[49m\u001B[38;5;241;43m=\u001B[39;49m\u001B[43merrors\u001B[49m\u001B[43m,\u001B[49m\n\u001B[0;32m   1173\u001B[0m \u001B[43m    \u001B[49m\u001B[43mtrack_times\u001B[49m\u001B[38;5;241;43m=\u001B[39;49m\u001B[43mtrack_times\u001B[49m\u001B[43m,\u001B[49m\n\u001B[0;32m   1174\u001B[0m \u001B[43m    \u001B[49m\u001B[43mdropna\u001B[49m\u001B[38;5;241;43m=\u001B[39;49m\u001B[43mdropna\u001B[49m\u001B[43m,\u001B[49m\n\u001B[0;32m   1175\u001B[0m \u001B[43m\u001B[49m\u001B[43m)\u001B[49m\n",
      "File \u001B[1;32m~\\anaconda3\\envs\\bsic\\Lib\\site-packages\\pandas\\io\\pytables.py:1858\u001B[0m, in \u001B[0;36mHDFStore._write_to_group\u001B[1;34m(self, key, value, format, axes, index, append, complib, complevel, fletcher32, min_itemsize, chunksize, expectedrows, dropna, nan_rep, data_columns, encoding, errors, track_times)\u001B[0m\n\u001B[0;32m   1855\u001B[0m     \u001B[38;5;28;01mraise\u001B[39;00m \u001B[38;5;167;01mValueError\u001B[39;00m(\u001B[38;5;124m\"\u001B[39m\u001B[38;5;124mCompression not supported on Fixed format stores\u001B[39m\u001B[38;5;124m\"\u001B[39m)\n\u001B[0;32m   1857\u001B[0m \u001B[38;5;66;03m# write the object\u001B[39;00m\n\u001B[1;32m-> 1858\u001B[0m \u001B[43ms\u001B[49m\u001B[38;5;241;43m.\u001B[39;49m\u001B[43mwrite\u001B[49m\u001B[43m(\u001B[49m\n\u001B[0;32m   1859\u001B[0m \u001B[43m    \u001B[49m\u001B[43mobj\u001B[49m\u001B[38;5;241;43m=\u001B[39;49m\u001B[43mvalue\u001B[49m\u001B[43m,\u001B[49m\n\u001B[0;32m   1860\u001B[0m \u001B[43m    \u001B[49m\u001B[43maxes\u001B[49m\u001B[38;5;241;43m=\u001B[39;49m\u001B[43maxes\u001B[49m\u001B[43m,\u001B[49m\n\u001B[0;32m   1861\u001B[0m \u001B[43m    \u001B[49m\u001B[43mappend\u001B[49m\u001B[38;5;241;43m=\u001B[39;49m\u001B[43mappend\u001B[49m\u001B[43m,\u001B[49m\n\u001B[0;32m   1862\u001B[0m \u001B[43m    \u001B[49m\u001B[43mcomplib\u001B[49m\u001B[38;5;241;43m=\u001B[39;49m\u001B[43mcomplib\u001B[49m\u001B[43m,\u001B[49m\n\u001B[0;32m   1863\u001B[0m \u001B[43m    \u001B[49m\u001B[43mcomplevel\u001B[49m\u001B[38;5;241;43m=\u001B[39;49m\u001B[43mcomplevel\u001B[49m\u001B[43m,\u001B[49m\n\u001B[0;32m   1864\u001B[0m \u001B[43m    \u001B[49m\u001B[43mfletcher32\u001B[49m\u001B[38;5;241;43m=\u001B[39;49m\u001B[43mfletcher32\u001B[49m\u001B[43m,\u001B[49m\n\u001B[0;32m   1865\u001B[0m \u001B[43m    \u001B[49m\u001B[43mmin_itemsize\u001B[49m\u001B[38;5;241;43m=\u001B[39;49m\u001B[43mmin_itemsize\u001B[49m\u001B[43m,\u001B[49m\n\u001B[0;32m   1866\u001B[0m \u001B[43m    \u001B[49m\u001B[43mchunksize\u001B[49m\u001B[38;5;241;43m=\u001B[39;49m\u001B[43mchunksize\u001B[49m\u001B[43m,\u001B[49m\n\u001B[0;32m   1867\u001B[0m \u001B[43m    \u001B[49m\u001B[43mexpectedrows\u001B[49m\u001B[38;5;241;43m=\u001B[39;49m\u001B[43mexpectedrows\u001B[49m\u001B[43m,\u001B[49m\n\u001B[0;32m   1868\u001B[0m \u001B[43m    \u001B[49m\u001B[43mdropna\u001B[49m\u001B[38;5;241;43m=\u001B[39;49m\u001B[43mdropna\u001B[49m\u001B[43m,\u001B[49m\n\u001B[0;32m   1869\u001B[0m \u001B[43m    \u001B[49m\u001B[43mnan_rep\u001B[49m\u001B[38;5;241;43m=\u001B[39;49m\u001B[43mnan_rep\u001B[49m\u001B[43m,\u001B[49m\n\u001B[0;32m   1870\u001B[0m \u001B[43m    \u001B[49m\u001B[43mdata_columns\u001B[49m\u001B[38;5;241;43m=\u001B[39;49m\u001B[43mdata_columns\u001B[49m\u001B[43m,\u001B[49m\n\u001B[0;32m   1871\u001B[0m \u001B[43m    \u001B[49m\u001B[43mtrack_times\u001B[49m\u001B[38;5;241;43m=\u001B[39;49m\u001B[43mtrack_times\u001B[49m\u001B[43m,\u001B[49m\n\u001B[0;32m   1872\u001B[0m \u001B[43m\u001B[49m\u001B[43m)\u001B[49m\n\u001B[0;32m   1874\u001B[0m \u001B[38;5;28;01mif\u001B[39;00m \u001B[38;5;28misinstance\u001B[39m(s, Table) \u001B[38;5;129;01mand\u001B[39;00m index:\n\u001B[0;32m   1875\u001B[0m     s\u001B[38;5;241m.\u001B[39mcreate_index(columns\u001B[38;5;241m=\u001B[39mindex)\n",
      "File \u001B[1;32m~\\anaconda3\\envs\\bsic\\Lib\\site-packages\\pandas\\io\\pytables.py:4397\u001B[0m, in \u001B[0;36mAppendableTable.write\u001B[1;34m(self, obj, axes, append, complib, complevel, fletcher32, min_itemsize, chunksize, expectedrows, dropna, nan_rep, data_columns, track_times)\u001B[0m\n\u001B[0;32m   4394\u001B[0m     \u001B[38;5;28mself\u001B[39m\u001B[38;5;241m.\u001B[39m_handle\u001B[38;5;241m.\u001B[39mremove_node(\u001B[38;5;28mself\u001B[39m\u001B[38;5;241m.\u001B[39mgroup, \u001B[38;5;124m\"\u001B[39m\u001B[38;5;124mtable\u001B[39m\u001B[38;5;124m\"\u001B[39m)\n\u001B[0;32m   4396\u001B[0m \u001B[38;5;66;03m# create the axes\u001B[39;00m\n\u001B[1;32m-> 4397\u001B[0m table \u001B[38;5;241m=\u001B[39m \u001B[38;5;28;43mself\u001B[39;49m\u001B[38;5;241;43m.\u001B[39;49m\u001B[43m_create_axes\u001B[49m\u001B[43m(\u001B[49m\n\u001B[0;32m   4398\u001B[0m \u001B[43m    \u001B[49m\u001B[43maxes\u001B[49m\u001B[38;5;241;43m=\u001B[39;49m\u001B[43maxes\u001B[49m\u001B[43m,\u001B[49m\n\u001B[0;32m   4399\u001B[0m \u001B[43m    \u001B[49m\u001B[43mobj\u001B[49m\u001B[38;5;241;43m=\u001B[39;49m\u001B[43mobj\u001B[49m\u001B[43m,\u001B[49m\n\u001B[0;32m   4400\u001B[0m \u001B[43m    \u001B[49m\u001B[43mvalidate\u001B[49m\u001B[38;5;241;43m=\u001B[39;49m\u001B[43mappend\u001B[49m\u001B[43m,\u001B[49m\n\u001B[0;32m   4401\u001B[0m \u001B[43m    \u001B[49m\u001B[43mmin_itemsize\u001B[49m\u001B[38;5;241;43m=\u001B[39;49m\u001B[43mmin_itemsize\u001B[49m\u001B[43m,\u001B[49m\n\u001B[0;32m   4402\u001B[0m \u001B[43m    \u001B[49m\u001B[43mnan_rep\u001B[49m\u001B[38;5;241;43m=\u001B[39;49m\u001B[43mnan_rep\u001B[49m\u001B[43m,\u001B[49m\n\u001B[0;32m   4403\u001B[0m \u001B[43m    \u001B[49m\u001B[43mdata_columns\u001B[49m\u001B[38;5;241;43m=\u001B[39;49m\u001B[43mdata_columns\u001B[49m\u001B[43m,\u001B[49m\n\u001B[0;32m   4404\u001B[0m \u001B[43m\u001B[49m\u001B[43m)\u001B[49m\n\u001B[0;32m   4406\u001B[0m \u001B[38;5;28;01mfor\u001B[39;00m a \u001B[38;5;129;01min\u001B[39;00m table\u001B[38;5;241m.\u001B[39maxes:\n\u001B[0;32m   4407\u001B[0m     a\u001B[38;5;241m.\u001B[39mvalidate_names()\n",
      "File \u001B[1;32m~\\anaconda3\\envs\\bsic\\Lib\\site-packages\\pandas\\io\\pytables.py:4046\u001B[0m, in \u001B[0;36mTable._create_axes\u001B[1;34m(self, axes, obj, validate, nan_rep, data_columns, min_itemsize)\u001B[0m\n\u001B[0;32m   4043\u001B[0m     existing_col \u001B[38;5;241m=\u001B[39m \u001B[38;5;28;01mNone\u001B[39;00m\n\u001B[0;32m   4045\u001B[0m new_name \u001B[38;5;241m=\u001B[39m name \u001B[38;5;129;01mor\u001B[39;00m \u001B[38;5;124mf\u001B[39m\u001B[38;5;124m\"\u001B[39m\u001B[38;5;124mvalues_block_\u001B[39m\u001B[38;5;132;01m{\u001B[39;00mi\u001B[38;5;132;01m}\u001B[39;00m\u001B[38;5;124m\"\u001B[39m\n\u001B[1;32m-> 4046\u001B[0m data_converted \u001B[38;5;241m=\u001B[39m \u001B[43m_maybe_convert_for_string_atom\u001B[49m\u001B[43m(\u001B[49m\n\u001B[0;32m   4047\u001B[0m \u001B[43m    \u001B[49m\u001B[43mnew_name\u001B[49m\u001B[43m,\u001B[49m\n\u001B[0;32m   4048\u001B[0m \u001B[43m    \u001B[49m\u001B[43mblk\u001B[49m\u001B[38;5;241;43m.\u001B[39;49m\u001B[43mvalues\u001B[49m\u001B[43m,\u001B[49m\n\u001B[0;32m   4049\u001B[0m \u001B[43m    \u001B[49m\u001B[43mexisting_col\u001B[49m\u001B[38;5;241;43m=\u001B[39;49m\u001B[43mexisting_col\u001B[49m\u001B[43m,\u001B[49m\n\u001B[0;32m   4050\u001B[0m \u001B[43m    \u001B[49m\u001B[43mmin_itemsize\u001B[49m\u001B[38;5;241;43m=\u001B[39;49m\u001B[43mmin_itemsize\u001B[49m\u001B[43m,\u001B[49m\n\u001B[0;32m   4051\u001B[0m \u001B[43m    \u001B[49m\u001B[43mnan_rep\u001B[49m\u001B[38;5;241;43m=\u001B[39;49m\u001B[43mnan_rep\u001B[49m\u001B[43m,\u001B[49m\n\u001B[0;32m   4052\u001B[0m \u001B[43m    \u001B[49m\u001B[43mencoding\u001B[49m\u001B[38;5;241;43m=\u001B[39;49m\u001B[38;5;28;43mself\u001B[39;49m\u001B[38;5;241;43m.\u001B[39;49m\u001B[43mencoding\u001B[49m\u001B[43m,\u001B[49m\n\u001B[0;32m   4053\u001B[0m \u001B[43m    \u001B[49m\u001B[43merrors\u001B[49m\u001B[38;5;241;43m=\u001B[39;49m\u001B[38;5;28;43mself\u001B[39;49m\u001B[38;5;241;43m.\u001B[39;49m\u001B[43merrors\u001B[49m\u001B[43m,\u001B[49m\n\u001B[0;32m   4054\u001B[0m \u001B[43m    \u001B[49m\u001B[43mcolumns\u001B[49m\u001B[38;5;241;43m=\u001B[39;49m\u001B[43mb_items\u001B[49m\u001B[43m,\u001B[49m\n\u001B[0;32m   4055\u001B[0m \u001B[43m\u001B[49m\u001B[43m)\u001B[49m\n\u001B[0;32m   4056\u001B[0m adj_name \u001B[38;5;241m=\u001B[39m _maybe_adjust_name(new_name, \u001B[38;5;28mself\u001B[39m\u001B[38;5;241m.\u001B[39mversion)\n\u001B[0;32m   4058\u001B[0m typ \u001B[38;5;241m=\u001B[39m klass\u001B[38;5;241m.\u001B[39m_get_atom(data_converted)\n",
      "File \u001B[1;32m~\\anaconda3\\envs\\bsic\\Lib\\site-packages\\pandas\\io\\pytables.py:5110\u001B[0m, in \u001B[0;36m_maybe_convert_for_string_atom\u001B[1;34m(name, bvalues, existing_col, min_itemsize, nan_rep, encoding, errors, columns)\u001B[0m\n\u001B[0;32m   5102\u001B[0m             \u001B[38;5;28;01mraise\u001B[39;00m \u001B[38;5;167;01mTypeError\u001B[39;00m(\n\u001B[0;32m   5103\u001B[0m                 \u001B[38;5;124mf\u001B[39m\u001B[38;5;124m\"\u001B[39m\u001B[38;5;124mCannot serialize the column [\u001B[39m\u001B[38;5;132;01m{\u001B[39;00merror_column_label\u001B[38;5;132;01m}\u001B[39;00m\u001B[38;5;124m]\u001B[39m\u001B[38;5;130;01m\\n\u001B[39;00m\u001B[38;5;124m\"\u001B[39m\n\u001B[0;32m   5104\u001B[0m                 \u001B[38;5;124mf\u001B[39m\u001B[38;5;124m\"\u001B[39m\u001B[38;5;124mbecause its data contents are not [string] but \u001B[39m\u001B[38;5;124m\"\u001B[39m\n\u001B[0;32m   5105\u001B[0m                 \u001B[38;5;124mf\u001B[39m\u001B[38;5;124m\"\u001B[39m\u001B[38;5;124m[\u001B[39m\u001B[38;5;132;01m{\u001B[39;00minferred_type\u001B[38;5;132;01m}\u001B[39;00m\u001B[38;5;124m] object dtype\u001B[39m\u001B[38;5;124m\"\u001B[39m\n\u001B[0;32m   5106\u001B[0m             )\n\u001B[0;32m   5108\u001B[0m \u001B[38;5;66;03m# itemsize is the maximum length of a string (along any dimension)\u001B[39;00m\n\u001B[1;32m-> 5110\u001B[0m data_converted \u001B[38;5;241m=\u001B[39m \u001B[43m_convert_string_array\u001B[49m\u001B[43m(\u001B[49m\u001B[43mdata\u001B[49m\u001B[43m,\u001B[49m\u001B[43m \u001B[49m\u001B[43mencoding\u001B[49m\u001B[43m,\u001B[49m\u001B[43m \u001B[49m\u001B[43merrors\u001B[49m\u001B[43m)\u001B[49m\u001B[38;5;241m.\u001B[39mreshape(data\u001B[38;5;241m.\u001B[39mshape)\n\u001B[0;32m   5111\u001B[0m itemsize \u001B[38;5;241m=\u001B[39m data_converted\u001B[38;5;241m.\u001B[39mitemsize\n\u001B[0;32m   5113\u001B[0m \u001B[38;5;66;03m# specified min_itemsize?\u001B[39;00m\n",
      "File \u001B[1;32m~\\anaconda3\\envs\\bsic\\Lib\\site-packages\\pandas\\io\\pytables.py:5147\u001B[0m, in \u001B[0;36m_convert_string_array\u001B[1;34m(data, encoding, errors)\u001B[0m\n\u001B[0;32m   5143\u001B[0m \u001B[38;5;66;03m# encode if needed\u001B[39;00m\n\u001B[0;32m   5144\u001B[0m \u001B[38;5;28;01mif\u001B[39;00m \u001B[38;5;28mlen\u001B[39m(data):\n\u001B[0;32m   5145\u001B[0m     data \u001B[38;5;241m=\u001B[39m (\n\u001B[0;32m   5146\u001B[0m         \u001B[43mSeries\u001B[49m\u001B[43m(\u001B[49m\u001B[43mdata\u001B[49m\u001B[38;5;241;43m.\u001B[39;49m\u001B[43mravel\u001B[49m\u001B[43m(\u001B[49m\u001B[43m)\u001B[49m\u001B[43m,\u001B[49m\u001B[43m \u001B[49m\u001B[43mcopy\u001B[49m\u001B[38;5;241;43m=\u001B[39;49m\u001B[38;5;28;43;01mFalse\u001B[39;49;00m\u001B[43m)\u001B[49m\n\u001B[1;32m-> 5147\u001B[0m \u001B[43m        \u001B[49m\u001B[38;5;241;43m.\u001B[39;49m\u001B[43mstr\u001B[49m\u001B[38;5;241;43m.\u001B[39;49m\u001B[43mencode\u001B[49m\u001B[43m(\u001B[49m\u001B[43mencoding\u001B[49m\u001B[43m,\u001B[49m\u001B[43m \u001B[49m\u001B[43merrors\u001B[49m\u001B[43m)\u001B[49m\n\u001B[0;32m   5148\u001B[0m         \u001B[38;5;241m.\u001B[39m_values\u001B[38;5;241m.\u001B[39mreshape(data\u001B[38;5;241m.\u001B[39mshape)\n\u001B[0;32m   5149\u001B[0m     )\n\u001B[0;32m   5151\u001B[0m \u001B[38;5;66;03m# create the sized dtype\u001B[39;00m\n\u001B[0;32m   5152\u001B[0m ensured \u001B[38;5;241m=\u001B[39m ensure_object(data\u001B[38;5;241m.\u001B[39mravel())\n",
      "File \u001B[1;32m~\\anaconda3\\envs\\bsic\\Lib\\site-packages\\pandas\\core\\strings\\accessor.py:137\u001B[0m, in \u001B[0;36mforbid_nonstring_types.<locals>._forbid_nonstring_types.<locals>.wrapper\u001B[1;34m(self, *args, **kwargs)\u001B[0m\n\u001B[0;32m    132\u001B[0m     msg \u001B[38;5;241m=\u001B[39m (\n\u001B[0;32m    133\u001B[0m         \u001B[38;5;124mf\u001B[39m\u001B[38;5;124m\"\u001B[39m\u001B[38;5;124mCannot use .str.\u001B[39m\u001B[38;5;132;01m{\u001B[39;00mfunc_name\u001B[38;5;132;01m}\u001B[39;00m\u001B[38;5;124m with values of \u001B[39m\u001B[38;5;124m\"\u001B[39m\n\u001B[0;32m    134\u001B[0m         \u001B[38;5;124mf\u001B[39m\u001B[38;5;124m\"\u001B[39m\u001B[38;5;124minferred dtype \u001B[39m\u001B[38;5;124m'\u001B[39m\u001B[38;5;132;01m{\u001B[39;00m\u001B[38;5;28mself\u001B[39m\u001B[38;5;241m.\u001B[39m_inferred_dtype\u001B[38;5;132;01m}\u001B[39;00m\u001B[38;5;124m'\u001B[39m\u001B[38;5;124m.\u001B[39m\u001B[38;5;124m\"\u001B[39m\n\u001B[0;32m    135\u001B[0m     )\n\u001B[0;32m    136\u001B[0m     \u001B[38;5;28;01mraise\u001B[39;00m \u001B[38;5;167;01mTypeError\u001B[39;00m(msg)\n\u001B[1;32m--> 137\u001B[0m \u001B[38;5;28;01mreturn\u001B[39;00m \u001B[43mfunc\u001B[49m\u001B[43m(\u001B[49m\u001B[38;5;28;43mself\u001B[39;49m\u001B[43m,\u001B[49m\u001B[43m \u001B[49m\u001B[38;5;241;43m*\u001B[39;49m\u001B[43margs\u001B[49m\u001B[43m,\u001B[49m\u001B[43m \u001B[49m\u001B[38;5;241;43m*\u001B[39;49m\u001B[38;5;241;43m*\u001B[39;49m\u001B[43mkwargs\u001B[49m\u001B[43m)\u001B[49m\n",
      "File \u001B[1;32m~\\anaconda3\\envs\\bsic\\Lib\\site-packages\\pandas\\core\\strings\\accessor.py:2036\u001B[0m, in \u001B[0;36mStringMethods.encode\u001B[1;34m(self, encoding, errors)\u001B[0m\n\u001B[0;32m   2011\u001B[0m \u001B[38;5;129m@forbid_nonstring_types\u001B[39m([\u001B[38;5;124m\"\u001B[39m\u001B[38;5;124mbytes\u001B[39m\u001B[38;5;124m\"\u001B[39m])\n\u001B[0;32m   2012\u001B[0m \u001B[38;5;28;01mdef\u001B[39;00m \u001B[38;5;21mencode\u001B[39m(\u001B[38;5;28mself\u001B[39m, encoding, errors: \u001B[38;5;28mstr\u001B[39m \u001B[38;5;241m=\u001B[39m \u001B[38;5;124m\"\u001B[39m\u001B[38;5;124mstrict\u001B[39m\u001B[38;5;124m\"\u001B[39m):\n\u001B[0;32m   2013\u001B[0m \u001B[38;5;250m    \u001B[39m\u001B[38;5;124;03m\"\"\"\u001B[39;00m\n\u001B[0;32m   2014\u001B[0m \u001B[38;5;124;03m    Encode character string in the Series/Index using indicated encoding.\u001B[39;00m\n\u001B[0;32m   2015\u001B[0m \n\u001B[1;32m   (...)\u001B[0m\n\u001B[0;32m   2034\u001B[0m \u001B[38;5;124;03m    dtype: object\u001B[39;00m\n\u001B[0;32m   2035\u001B[0m \u001B[38;5;124;03m    \"\"\"\u001B[39;00m\n\u001B[1;32m-> 2036\u001B[0m     result \u001B[38;5;241m=\u001B[39m \u001B[38;5;28;43mself\u001B[39;49m\u001B[38;5;241;43m.\u001B[39;49m\u001B[43m_data\u001B[49m\u001B[38;5;241;43m.\u001B[39;49m\u001B[43marray\u001B[49m\u001B[38;5;241;43m.\u001B[39;49m\u001B[43m_str_encode\u001B[49m\u001B[43m(\u001B[49m\u001B[43mencoding\u001B[49m\u001B[43m,\u001B[49m\u001B[43m \u001B[49m\u001B[43merrors\u001B[49m\u001B[43m)\u001B[49m\n\u001B[0;32m   2037\u001B[0m     \u001B[38;5;28;01mreturn\u001B[39;00m \u001B[38;5;28mself\u001B[39m\u001B[38;5;241m.\u001B[39m_wrap_result(result, returns_string\u001B[38;5;241m=\u001B[39m\u001B[38;5;28;01mFalse\u001B[39;00m)\n",
      "File \u001B[1;32m~\\anaconda3\\envs\\bsic\\Lib\\site-packages\\pandas\\core\\strings\\object_array.py:241\u001B[0m, in \u001B[0;36mObjectStringArrayMixin._str_encode\u001B[1;34m(self, encoding, errors)\u001B[0m\n\u001B[0;32m    239\u001B[0m \u001B[38;5;28;01mdef\u001B[39;00m \u001B[38;5;21m_str_encode\u001B[39m(\u001B[38;5;28mself\u001B[39m, encoding, errors: \u001B[38;5;28mstr\u001B[39m \u001B[38;5;241m=\u001B[39m \u001B[38;5;124m\"\u001B[39m\u001B[38;5;124mstrict\u001B[39m\u001B[38;5;124m\"\u001B[39m):\n\u001B[0;32m    240\u001B[0m     f \u001B[38;5;241m=\u001B[39m \u001B[38;5;28;01mlambda\u001B[39;00m x: x\u001B[38;5;241m.\u001B[39mencode(encoding, errors\u001B[38;5;241m=\u001B[39merrors)\n\u001B[1;32m--> 241\u001B[0m     \u001B[38;5;28;01mreturn\u001B[39;00m \u001B[38;5;28;43mself\u001B[39;49m\u001B[38;5;241;43m.\u001B[39;49m\u001B[43m_str_map\u001B[49m\u001B[43m(\u001B[49m\u001B[43mf\u001B[49m\u001B[43m,\u001B[49m\u001B[43m \u001B[49m\u001B[43mdtype\u001B[49m\u001B[38;5;241;43m=\u001B[39;49m\u001B[38;5;28;43mobject\u001B[39;49m\u001B[43m)\u001B[49m\n",
      "File \u001B[1;32m~\\anaconda3\\envs\\bsic\\Lib\\site-packages\\pandas\\core\\strings\\object_array.py:76\u001B[0m, in \u001B[0;36mObjectStringArrayMixin._str_map\u001B[1;34m(self, f, na_value, dtype, convert)\u001B[0m\n\u001B[0;32m     74\u001B[0m arr \u001B[38;5;241m=\u001B[39m np\u001B[38;5;241m.\u001B[39masarray(\u001B[38;5;28mself\u001B[39m, dtype\u001B[38;5;241m=\u001B[39m\u001B[38;5;28mobject\u001B[39m)\n\u001B[0;32m     75\u001B[0m mask \u001B[38;5;241m=\u001B[39m isna(arr)\n\u001B[1;32m---> 76\u001B[0m map_convert \u001B[38;5;241m=\u001B[39m convert \u001B[38;5;129;01mand\u001B[39;00m \u001B[38;5;129;01mnot\u001B[39;00m \u001B[43mnp\u001B[49m\u001B[38;5;241;43m.\u001B[39;49m\u001B[43mall\u001B[49m\u001B[43m(\u001B[49m\u001B[43mmask\u001B[49m\u001B[43m)\u001B[49m\n\u001B[0;32m     77\u001B[0m \u001B[38;5;28;01mtry\u001B[39;00m:\n\u001B[0;32m     78\u001B[0m     result \u001B[38;5;241m=\u001B[39m lib\u001B[38;5;241m.\u001B[39mmap_infer_mask(arr, f, mask\u001B[38;5;241m.\u001B[39mview(np\u001B[38;5;241m.\u001B[39muint8), map_convert)\n",
      "File \u001B[1;32m~\\anaconda3\\envs\\bsic\\Lib\\site-packages\\numpy\\core\\fromnumeric.py:2416\u001B[0m, in \u001B[0;36m_all_dispatcher\u001B[1;34m(a, axis, out, keepdims, where)\u001B[0m\n\u001B[0;32m   2324\u001B[0m \u001B[38;5;250m    \u001B[39m\u001B[38;5;124;03m\"\"\"\u001B[39;00m\n\u001B[0;32m   2325\u001B[0m \u001B[38;5;124;03m    Test whether any array element along a given axis evaluates to True.\u001B[39;00m\n\u001B[0;32m   2326\u001B[0m \n\u001B[1;32m   (...)\u001B[0m\n\u001B[0;32m   2410\u001B[0m \n\u001B[0;32m   2411\u001B[0m \u001B[38;5;124;03m    \"\"\"\u001B[39;00m\n\u001B[0;32m   2412\u001B[0m     \u001B[38;5;28;01mreturn\u001B[39;00m _wrapreduction(a, np\u001B[38;5;241m.\u001B[39mlogical_or, \u001B[38;5;124m'\u001B[39m\u001B[38;5;124many\u001B[39m\u001B[38;5;124m'\u001B[39m, axis, \u001B[38;5;28;01mNone\u001B[39;00m, out,\n\u001B[0;32m   2413\u001B[0m                           keepdims\u001B[38;5;241m=\u001B[39mkeepdims, where\u001B[38;5;241m=\u001B[39mwhere)\n\u001B[1;32m-> 2416\u001B[0m \u001B[38;5;28;01mdef\u001B[39;00m \u001B[38;5;21m_all_dispatcher\u001B[39m(a, axis\u001B[38;5;241m=\u001B[39m\u001B[38;5;28;01mNone\u001B[39;00m, out\u001B[38;5;241m=\u001B[39m\u001B[38;5;28;01mNone\u001B[39;00m, keepdims\u001B[38;5;241m=\u001B[39m\u001B[38;5;28;01mNone\u001B[39;00m, \u001B[38;5;241m*\u001B[39m,\n\u001B[0;32m   2417\u001B[0m                     where\u001B[38;5;241m=\u001B[39m\u001B[38;5;28;01mNone\u001B[39;00m):\n\u001B[0;32m   2418\u001B[0m     \u001B[38;5;28;01mreturn\u001B[39;00m (a, where, out)\n\u001B[0;32m   2421\u001B[0m \u001B[38;5;129m@array_function_dispatch\u001B[39m(_all_dispatcher)\n\u001B[0;32m   2422\u001B[0m \u001B[38;5;28;01mdef\u001B[39;00m \u001B[38;5;21mall\u001B[39m(a, axis\u001B[38;5;241m=\u001B[39m\u001B[38;5;28;01mNone\u001B[39;00m, out\u001B[38;5;241m=\u001B[39m\u001B[38;5;28;01mNone\u001B[39;00m, keepdims\u001B[38;5;241m=\u001B[39mnp\u001B[38;5;241m.\u001B[39m_NoValue, \u001B[38;5;241m*\u001B[39m, where\u001B[38;5;241m=\u001B[39mnp\u001B[38;5;241m.\u001B[39m_NoValue):\n",
      "\u001B[1;31mKeyboardInterrupt\u001B[0m: "
     ]
    }
   ],
   "execution_count": 18
  },
  {
   "metadata": {},
   "cell_type": "markdown",
   "source": "# Merging with Equity Data",
   "id": "74def9d4dcb29bd7"
  },
  {
   "metadata": {},
   "cell_type": "markdown",
   "source": "Load final version of bond data",
   "id": "94548846ce890b9a"
  },
  {
   "metadata": {
    "ExecuteTime": {
     "end_time": "2024-04-25T12:34:48.399220Z",
     "start_time": "2024-04-25T12:34:45.821581Z"
    }
   },
   "cell_type": "code",
   "source": "final_bond_data = pl.read_csv('../../data/bond_data_final.csv', try_parse_dates=True)",
   "id": "e32a83a86e74ed6",
   "outputs": [],
   "execution_count": 14
  },
  {
   "metadata": {
    "ExecuteTime": {
     "end_time": "2024-04-25T12:34:51.924795Z",
     "start_time": "2024-04-25T12:34:51.866263Z"
    }
   },
   "cell_type": "code",
   "source": "final_bond_data.head()",
   "id": "cd0286cc2da44a08",
   "outputs": [
    {
     "data": {
      "text/plain": [
       "shape: (5, 101)\n",
       "┌─────┬────────────┬───────────┬────────────┬───┬────────────┬────────────┬────────────┬───────────┐\n",
       "│     ┆ date       ┆ cusip     ┆ exretn_t+1 ┆ … ┆ DEFAULT_DA ┆ DEFAULT_TY ┆ REINSTATED ┆ REINSTATE │\n",
       "│ --- ┆ ---        ┆ ---       ┆ ---        ┆   ┆ TE         ┆ PE         ┆ ---        ┆ D_DATE    │\n",
       "│ i64 ┆ date       ┆ str       ┆ f64        ┆   ┆ ---        ┆ ---        ┆ str        ┆ ---       │\n",
       "│     ┆            ┆           ┆            ┆   ┆ str        ┆ str        ┆            ┆ str       │\n",
       "╞═════╪════════════╪═══════════╪════════════╪═══╪════════════╪════════════╪════════════╪═══════════╡\n",
       "│ 0   ┆ 2002-08-31 ┆ 000336AE7 ┆ -0.056089  ┆ … ┆ null       ┆ null       ┆ null       ┆ null      │\n",
       "│ 1   ┆ 2002-09-30 ┆ 000336AE7 ┆ 0.050663   ┆ … ┆ null       ┆ null       ┆ null       ┆ null      │\n",
       "│ 2   ┆ 2002-10-31 ┆ 000336AE7 ┆ 0.07968    ┆ … ┆ null       ┆ null       ┆ null       ┆ null      │\n",
       "│ 3   ┆ 2002-11-30 ┆ 000336AE7 ┆ null       ┆ … ┆ null       ┆ null       ┆ null       ┆ null      │\n",
       "│ 4   ┆ 2002-12-31 ┆ 000336AE7 ┆ null       ┆ … ┆ null       ┆ null       ┆ null       ┆ null      │\n",
       "└─────┴────────────┴───────────┴────────────┴───┴────────────┴────────────┴────────────┴───────────┘"
      ],
      "text/html": [
       "<div><style>\n",
       ".dataframe > thead > tr,\n",
       ".dataframe > tbody > tr {\n",
       "  text-align: right;\n",
       "  white-space: pre-wrap;\n",
       "}\n",
       "</style>\n",
       "<small>shape: (5, 101)</small><table border=\"1\" class=\"dataframe\"><thead><tr><th></th><th>date</th><th>cusip</th><th>exretn_t+1</th><th>exretnc_t+1</th><th>exretnc_dur_t+1</th><th>bond_ret_t+1</th><th>bond_ret</th><th>exretn</th><th>exretnc_dur</th><th>rating</th><th>cs</th><th>cs_6m_delta</th><th>bond_yield</th><th>bond_amount_out</th><th>offering_amt</th><th>bondprc</th><th>perc_par</th><th>tmt</th><th>duration</th><th>ind_num_17</th><th>sic_code</th><th>mom6_1</th><th>ltrev48_12</th><th>BOND_RET</th><th>ILLIQ</th><th>var95</th><th>n_trades_month</th><th>size_ig</th><th>size_jk</th><th>BOND_YIELD</th><th>CS</th><th>BONDPRC</th><th>PRFULL</th><th>DURATION_x</th><th>CONVEXITY</th><th>CS_6M_DELTA</th><th>&hellip;</th><th>NCOUPS</th><th>AMOUNT_OUTSTANDING</th><th>R_SP</th><th>R_MR</th><th>R_FR</th><th>N_SP</th><th>N_MR</th><th>N_FR</th><th>RATING_NUM</th><th>RATING_CAT</th><th>RATING_CLASS</th><th>T_DATE</th><th>T_Volume</th><th>T_DVolume</th><th>T_Spread</th><th>T_Yld_Pt</th><th>YIELD</th><th>PRICE_EOM</th><th>PRICE_LDM</th><th>PRICE_L5M</th><th>GAP</th><th>COUPMONTH</th><th>nextcoup</th><th>COUPAMT</th><th>COUPACC</th><th>MULTICOUPS</th><th>RET_EOM</th><th>RET_LDM</th><th>RET_L5M</th><th>TMT</th><th>REMCOUPS</th><th>DURATION_y</th><th>DEFAULTED</th><th>DEFAULT_DATE</th><th>DEFAULT_TYPE</th><th>REINSTATED</th><th>REINSTATED_DATE</th></tr><tr><td>i64</td><td>date</td><td>str</td><td>f64</td><td>f64</td><td>f64</td><td>f64</td><td>f64</td><td>f64</td><td>f64</td><td>f64</td><td>f64</td><td>f64</td><td>f64</td><td>f64</td><td>f64</td><td>f64</td><td>f64</td><td>f64</td><td>f64</td><td>f64</td><td>i64</td><td>f64</td><td>f64</td><td>f64</td><td>f64</td><td>f64</td><td>f64</td><td>f64</td><td>f64</td><td>f64</td><td>f64</td><td>f64</td><td>f64</td><td>f64</td><td>f64</td><td>f64</td><td>&hellip;</td><td>f64</td><td>f64</td><td>str</td><td>str</td><td>str</td><td>f64</td><td>f64</td><td>f64</td><td>f64</td><td>str</td><td>str</td><td>date</td><td>str</td><td>str</td><td>str</td><td>f64</td><td>str</td><td>f64</td><td>f64</td><td>f64</td><td>f64</td><td>f64</td><td>date</td><td>f64</td><td>f64</td><td>f64</td><td>str</td><td>str</td><td>str</td><td>f64</td><td>f64</td><td>f64</td><td>str</td><td>str</td><td>str</td><td>str</td><td>str</td></tr></thead><tbody><tr><td>0</td><td>2002-08-31</td><td>&quot;000336AE7&quot;</td><td>-0.056089</td><td>-0.087082</td><td>-0.081158</td><td>-0.054689</td><td>-0.008212</td><td>-0.009612</td><td>-0.023343</td><td>8.0</td><td>0.043019</td><td>null</td><td>0.073689</td><td>100000.0</td><td>100000.0</td><td>97.693</td><td>0.97693</td><td>70.033333</td><td>4.585289</td><td>null</td><td>6211</td><td>0.0</td><td>0.009058</td><td>0.023939</td><td>3.597388</td><td>null</td><td>2.0</td><td>0.0</td><td>1.0</td><td>0.064316</td><td>0.032526</td><td>102.092</td><td>103.75346</td><td>4.63593</td><td>26.445978</td><td>null</td><td>&hellip;</td><td>2.0</td><td>100000.0</td><td>&quot;BBB+&quot;</td><td>&quot;BAA2&quot;</td><td>&quot;BBB+&quot;</td><td>8.0</td><td>9.0</td><td>8.0</td><td>8.0</td><td>&quot;BBB&quot;</td><td>&quot;0.IG&quot;</td><td>2002-08-30</td><td>&quot;$119,000&quot;</td><td>&quot;$118,742&quot;</td><td>null</td><td>6.918</td><td>&quot;7.369%&quot;</td><td>97.7</td><td>97.7</td><td>97.7</td><td>1.0</td><td>44.0</td><td>2002-12-01</td><td>0.0</td><td>1.71</td><td>1.0</td><td>&quot;-.8212%&quot;</td><td>null</td><td>&quot;-.8212%&quot;</td><td>5.84</td><td>12.0</td><td>4.59</td><td>&quot;N&quot;</td><td>null</td><td>null</td><td>null</td><td>null</td></tr><tr><td>1</td><td>2002-09-30</td><td>&quot;000336AE7&quot;</td><td>0.050663</td><td>0.057193</td><td>0.054383</td><td>0.052063</td><td>-0.054689</td><td>-0.056089</td><td>-0.081158</td><td>8.0</td><td>0.063356</td><td>null</td><td>0.087596</td><td>100000.0</td><td>100000.0</td><td>91.691494</td><td>0.916915</td><td>69.033333</td><td>4.437498</td><td>null</td><td>6211</td><td>-0.008212</td><td>-0.037939</td><td>-0.009819</td><td>34.628775</td><td>null</td><td>2.0</td><td>0.0</td><td>1.0</td><td>0.075301</td><td>0.049044</td><td>97.0</td><td>99.138889</td><td>4.514543</td><td>25.309944</td><td>null</td><td>&hellip;</td><td>2.0</td><td>100000.0</td><td>&quot;BBB+&quot;</td><td>&quot;BAA2&quot;</td><td>&quot;BBB+&quot;</td><td>8.0</td><td>9.0</td><td>8.0</td><td>8.0</td><td>&quot;BBB&quot;</td><td>&quot;0.IG&quot;</td><td>2002-09-30</td><td>&quot;$618,000&quot;</td><td>&quot;$568,962&quot;</td><td>&quot;0.77%&quot;</td><td>8.6558</td><td>&quot;8.760%&quot;</td><td>91.7</td><td>91.7</td><td>91.7</td><td>1.0</td><td>45.0</td><td>2002-12-01</td><td>0.0</td><td>2.28</td><td>1.0</td><td>&quot;-5.469%&quot;</td><td>&quot;-5.469%&quot;</td><td>&quot;-5.469%&quot;</td><td>5.75</td><td>12.0</td><td>4.44</td><td>&quot;N&quot;</td><td>null</td><td>null</td><td>null</td><td>null</td></tr><tr><td>2</td><td>2002-10-31</td><td>&quot;000336AE7&quot;</td><td>0.07968</td><td>0.098591</td><td>0.095571</td><td>0.08088</td><td>0.052063</td><td>0.050663</td><td>0.054383</td><td>10.0</td><td>0.052394</td><td>null</td><td>0.077672</td><td>100000.0</td><td>100000.0</td><td>96.0</td><td>0.96</td><td>68.0</td><td>4.404651</td><td>null</td><td>6211</td><td>-0.062452</td><td>-0.027926</td><td>0.080031</td><td>null</td><td>null</td><td>1.0</td><td>0.0</td><td>1.0</td><td>0.074274</td><td>0.045408</td><td>97.5</td><td>100.288197</td><td>4.428541</td><td>24.496262</td><td>null</td><td>&hellip;</td><td>2.0</td><td>100000.0</td><td>&quot;BBB-&quot;</td><td>&quot;BAA2&quot;</td><td>&quot;BBB+&quot;</td><td>10.0</td><td>9.0</td><td>8.0</td><td>10.0</td><td>&quot;BBB&quot;</td><td>&quot;0.IG&quot;</td><td>2002-10-31</td><td>&quot;$11,510,000&quot;</td><td>&quot;$11,001,450&quot;</td><td>null</td><td>7.855</td><td>&quot;7.767%&quot;</td><td>96.0</td><td>96.0</td><td>96.0</td><td>1.0</td><td>46.0</td><td>2002-12-01</td><td>0.0</td><td>2.86</td><td>1.0</td><td>&quot;5.206%&quot;</td><td>&quot;5.206%&quot;</td><td>&quot;5.206%&quot;</td><td>5.67</td><td>12.0</td><td>4.4</td><td>&quot;N&quot;</td><td>null</td><td>null</td><td>null</td><td>null</td></tr><tr><td>3</td><td>2002-11-30</td><td>&quot;000336AE7&quot;</td><td>null</td><td>null</td><td>null</td><td>null</td><td>0.08088</td><td>0.07968</td><td>0.095571</td><td>10.0</td><td>0.030568</td><td>null</td><td>0.061289</td><td>100000.0</td><td>100000.0</td><td>103.431</td><td>1.03431</td><td>67.0</td><td>4.40485</td><td>null</td><td>6211</td><td>-0.01364</td><td>-0.020827</td><td>0.029465</td><td>-33.329326</td><td>null</td><td>3.0</td><td>0.0</td><td>1.0</td><td>0.068748</td><td>0.039786</td><td>100.0</td><td>103.361111</td><td>4.374959</td><td>23.981731</td><td>null</td><td>&hellip;</td><td>2.0</td><td>100000.0</td><td>&quot;BBB-&quot;</td><td>&quot;BAA2&quot;</td><td>&quot;BBB+&quot;</td><td>10.0</td><td>9.0</td><td>8.0</td><td>10.0</td><td>&quot;BBB&quot;</td><td>&quot;0.IG&quot;</td><td>2002-11-27</td><td>&quot;$38,526,000&quot;</td><td>&quot;$33,498,709&quot;</td><td>&quot;0.73%&quot;</td><td>9.9963</td><td>&quot;6.129%&quot;</td><td>103.4</td><td>null</td><td>103.4</td><td>1.0</td><td>47.0</td><td>2002-12-01</td><td>0.0</td><td>3.43</td><td>1.0</td><td>&quot;8.088%&quot;</td><td>null</td><td>&quot;8.088%&quot;</td><td>5.58</td><td>12.0</td><td>4.4</td><td>&quot;N&quot;</td><td>null</td><td>null</td><td>null</td><td>null</td></tr><tr><td>4</td><td>2002-12-31</td><td>&quot;000336AE7&quot;</td><td>null</td><td>null</td><td>null</td><td>null</td><td>null</td><td>null</td><td>null</td><td>10.0</td><td>0.051327</td><td>null</td><td>0.07661</td><td>100000.0</td><td>100000.0</td><td>null</td><td>null</td><td>65.966667</td><td>4.401693</td><td>null</td><td>6211</td><td>0.066137</td><td>-0.032151</td><td>0.023574</td><td>null</td><td>null</td><td>1.0</td><td>0.0</td><td>1.0</td><td>0.107563</td><td>0.079508</td><td>84.25</td><td>84.440971</td><td>4.321904</td><td>22.989123</td><td>null</td><td>&hellip;</td><td>2.0</td><td>100000.0</td><td>&quot;BBB-&quot;</td><td>&quot;BAA2&quot;</td><td>&quot;BBB+&quot;</td><td>10.0</td><td>9.0</td><td>8.0</td><td>10.0</td><td>&quot;BBB&quot;</td><td>&quot;0.IG&quot;</td><td>2002-12-13</td><td>&quot;$4,090,000&quot;</td><td>&quot;$3,435,014&quot;</td><td>&quot;1.66%&quot;</td><td>10.8358</td><td>&quot;7.661%&quot;</td><td>96.6</td><td>null</td><td>null</td><td>1.0</td><td>48.0</td><td>2003-06-01</td><td>3.44</td><td>0.57</td><td>1.0</td><td>&quot;-5.884%&quot;</td><td>null</td><td>null</td><td>5.5</td><td>11.0</td><td>4.4</td><td>&quot;N&quot;</td><td>null</td><td>null</td><td>null</td><td>null</td></tr></tbody></table></div>"
      ]
     },
     "execution_count": 15,
     "metadata": {},
     "output_type": "execute_result"
    }
   ],
   "execution_count": 15
  },
  {
   "metadata": {},
   "cell_type": "markdown",
   "source": "Export the list of cusips",
   "id": "99ca18e66b5fdee5"
  },
  {
   "metadata": {
    "ExecuteTime": {
     "end_time": "2024-04-25T12:40:21.191313Z",
     "start_time": "2024-04-25T12:40:21.112651Z"
    }
   },
   "cell_type": "code",
   "source": [
    "cusips = final_bond_data.select('cusip').unique()\n",
    "with open('../../data/cusips_list.txt', 'w') as file:\n",
    "    for cusip in cusips.iter_rows(): \n",
    "        file.write(cusip[0] + '\\n')"
   ],
   "id": "b5f4eb8849f0e12e",
   "outputs": [],
   "execution_count": 26
  },
  {
   "metadata": {},
   "cell_type": "markdown",
   "source": "Download the csv linking cusip to permno from WRDS, and import it",
   "id": "d184fe186c0358be"
  },
  {
   "metadata": {
    "ExecuteTime": {
     "end_time": "2024-04-25T12:44:41.371617Z",
     "start_time": "2024-04-25T12:44:41.324153Z"
    }
   },
   "cell_type": "code",
   "source": [
    "cusip_permno_mapping = pl.read_csv('../../data/cusip_to_permno.csv.gz')\n",
    "\n",
    "cusip_permno_mapping.head()"
   ],
   "id": "998217fc151837df",
   "outputs": [
    {
     "data": {
      "text/plain": [
       "shape: (5, 9)\n",
       "┌───────────┬────────┬────────┬────────────┬───┬────────────┬────────────┬────────────┬────────────┐\n",
       "│ cusip     ┆ PERMNO ┆ PERMCO ┆ trace_star ┆ … ┆ crsp_start ┆ crsp_enddt ┆ link_start ┆ link_enddt │\n",
       "│ ---       ┆ ---    ┆ ---    ┆ tdt        ┆   ┆ dt         ┆ ---        ┆ dt         ┆ ---        │\n",
       "│ str       ┆ i64    ┆ i64    ┆ ---        ┆   ┆ ---        ┆ str        ┆ ---        ┆ str        │\n",
       "│           ┆        ┆        ┆ str        ┆   ┆ str        ┆            ┆ str        ┆            │\n",
       "╞═══════════╪════════╪════════╪════════════╪═══╪════════════╪════════════╪════════════╪════════════╡\n",
       "│ 000336AE7 ┆ 75188  ┆ 21651  ┆ 2002-07-05 ┆ … ┆ 2002-01-02 ┆ 2007-09-28 ┆ 2002-07-05 ┆ 2007-09-28 │\n",
       "│ 000361AB1 ┆ 54594  ┆ 20000  ┆ 2002-07-05 ┆ … ┆ 2002-01-02 ┆ 2023-12-29 ┆ 2002-07-05 ┆ 2003-05-22 │\n",
       "│ 000361AC9 ┆ 54594  ┆ 20000  ┆ 2002-07-03 ┆ … ┆ 2002-01-02 ┆ 2023-12-29 ┆ 2002-07-03 ┆ 2007-06-14 │\n",
       "│ 000361AQ8 ┆ 54594  ┆ 20000  ┆ 2013-01-30 ┆ … ┆ 2002-01-02 ┆ 2023-12-29 ┆ 2013-01-30 ┆ 2015-04-23 │\n",
       "│ 00037BAA0 ┆ 88953  ┆ 41444  ┆ 2012-05-03 ┆ … ┆ 2008-04-25 ┆ 2016-08-31 ┆ 2012-05-03 ┆ 2012-05-04 │\n",
       "└───────────┴────────┴────────┴────────────┴───┴────────────┴────────────┴────────────┴────────────┘"
      ],
      "text/html": [
       "<div><style>\n",
       ".dataframe > thead > tr,\n",
       ".dataframe > tbody > tr {\n",
       "  text-align: right;\n",
       "  white-space: pre-wrap;\n",
       "}\n",
       "</style>\n",
       "<small>shape: (5, 9)</small><table border=\"1\" class=\"dataframe\"><thead><tr><th>cusip</th><th>PERMNO</th><th>PERMCO</th><th>trace_startdt</th><th>trace_enddt</th><th>crsp_startdt</th><th>crsp_enddt</th><th>link_startdt</th><th>link_enddt</th></tr><tr><td>str</td><td>i64</td><td>i64</td><td>str</td><td>str</td><td>str</td><td>str</td><td>str</td><td>str</td></tr></thead><tbody><tr><td>&quot;000336AE7&quot;</td><td>75188</td><td>21651</td><td>&quot;2002-07-05&quot;</td><td>&quot;2008-05-19&quot;</td><td>&quot;2002-01-02&quot;</td><td>&quot;2007-09-28&quot;</td><td>&quot;2002-07-05&quot;</td><td>&quot;2007-09-28&quot;</td></tr><tr><td>&quot;000361AB1&quot;</td><td>54594</td><td>20000</td><td>&quot;2002-07-05&quot;</td><td>&quot;2003-05-22&quot;</td><td>&quot;2002-01-02&quot;</td><td>&quot;2023-12-29&quot;</td><td>&quot;2002-07-05&quot;</td><td>&quot;2003-05-22&quot;</td></tr><tr><td>&quot;000361AC9&quot;</td><td>54594</td><td>20000</td><td>&quot;2002-07-03&quot;</td><td>&quot;2007-06-14&quot;</td><td>&quot;2002-01-02&quot;</td><td>&quot;2023-12-29&quot;</td><td>&quot;2002-07-03&quot;</td><td>&quot;2007-06-14&quot;</td></tr><tr><td>&quot;000361AQ8&quot;</td><td>54594</td><td>20000</td><td>&quot;2013-01-30&quot;</td><td>&quot;2015-04-23&quot;</td><td>&quot;2002-01-02&quot;</td><td>&quot;2023-12-29&quot;</td><td>&quot;2013-01-30&quot;</td><td>&quot;2015-04-23&quot;</td></tr><tr><td>&quot;00037BAA0&quot;</td><td>88953</td><td>41444</td><td>&quot;2012-05-03&quot;</td><td>&quot;2012-05-04&quot;</td><td>&quot;2008-04-25&quot;</td><td>&quot;2016-08-31&quot;</td><td>&quot;2012-05-03&quot;</td><td>&quot;2012-05-04&quot;</td></tr></tbody></table></div>"
      ]
     },
     "execution_count": 27,
     "metadata": {},
     "output_type": "execute_result"
    }
   ],
   "execution_count": 27
  },
  {
   "metadata": {
    "ExecuteTime": {
     "end_time": "2024-04-25T12:50:38.538179Z",
     "start_time": "2024-04-25T12:50:37.217181Z"
    }
   },
   "cell_type": "code",
   "source": [
    "bond_data_with_permnos = final_bond_data.join(\n",
    "    cusip_permno_mapping.select(['cusip', 'PERMNO', 'PERMCO']),\n",
    "    how='left', \n",
    "    left_on='cusip',\n",
    "    right_on='cusip',\n",
    ")"
   ],
   "id": "8cda295f28cdcb5f",
   "outputs": [],
   "execution_count": 30
  },
  {
   "metadata": {
    "ExecuteTime": {
     "end_time": "2024-04-25T13:43:17.474120Z",
     "start_time": "2024-04-25T13:43:16.262487Z"
    }
   },
   "cell_type": "code",
   "source": "bond_data_with_permnos.group_by('cusip').n_unique().select('PERMNO').to_series().value_counts()",
   "id": "8f2f5b629b46a77b",
   "outputs": [
    {
     "data": {
      "text/plain": [
       "shape: (4, 2)\n",
       "┌────────┬───────┐\n",
       "│ PERMNO ┆ count │\n",
       "│ ---    ┆ ---   │\n",
       "│ u32    ┆ u32   │\n",
       "╞════════╪═══════╡\n",
       "│ 4      ┆ 3     │\n",
       "│ 1      ┆ 24353 │\n",
       "│ 2      ┆ 1621  │\n",
       "│ 3      ┆ 93    │\n",
       "└────────┴───────┘"
      ],
      "text/html": [
       "<div><style>\n",
       ".dataframe > thead > tr,\n",
       ".dataframe > tbody > tr {\n",
       "  text-align: right;\n",
       "  white-space: pre-wrap;\n",
       "}\n",
       "</style>\n",
       "<small>shape: (4, 2)</small><table border=\"1\" class=\"dataframe\"><thead><tr><th>PERMNO</th><th>count</th></tr><tr><td>u32</td><td>u32</td></tr></thead><tbody><tr><td>4</td><td>3</td></tr><tr><td>1</td><td>24353</td></tr><tr><td>2</td><td>1621</td></tr><tr><td>3</td><td>93</td></tr></tbody></table></div>"
      ]
     },
     "execution_count": 42,
     "metadata": {},
     "output_type": "execute_result"
    }
   ],
   "execution_count": 42
  },
  {
   "metadata": {
    "ExecuteTime": {
     "end_time": "2024-04-25T14:56:01.160269Z",
     "start_time": "2024-04-25T14:55:59.855151Z"
    }
   },
   "cell_type": "code",
   "source": "bond_data_with_permnos.group_by('PERMNO').n_unique().shape",
   "id": "507ccb2247a0c511",
   "outputs": [
    {
     "data": {
      "text/plain": [
       "(2069, 103)"
      ]
     },
     "execution_count": 46,
     "metadata": {},
     "output_type": "execute_result"
    }
   ],
   "execution_count": 46
  },
  {
   "metadata": {
    "ExecuteTime": {
     "end_time": "2024-04-25T14:59:55.957365Z",
     "start_time": "2024-04-25T14:59:53.657867Z"
    }
   },
   "cell_type": "code",
   "source": "bond_data_with_permnos.group_by('date').n_unique().select('PERMNO')",
   "id": "1218f73a7e6455fe",
   "outputs": [
    {
     "data": {
      "text/plain": [
       "shape: (242, 1)\n",
       "┌────────┐\n",
       "│ PERMNO │\n",
       "│ ---    │\n",
       "│ u32    │\n",
       "╞════════╡\n",
       "│ 1036   │\n",
       "│ 1026   │\n",
       "│ 1050   │\n",
       "│ 1188   │\n",
       "│ 1164   │\n",
       "│ …      │\n",
       "│ 1089   │\n",
       "│ 979    │\n",
       "│ 1139   │\n",
       "│ 1155   │\n",
       "│ 1184   │\n",
       "└────────┘"
      ],
      "text/html": [
       "<div><style>\n",
       ".dataframe > thead > tr,\n",
       ".dataframe > tbody > tr {\n",
       "  text-align: right;\n",
       "  white-space: pre-wrap;\n",
       "}\n",
       "</style>\n",
       "<small>shape: (242, 1)</small><table border=\"1\" class=\"dataframe\"><thead><tr><th>PERMNO</th></tr><tr><td>u32</td></tr></thead><tbody><tr><td>1036</td></tr><tr><td>1026</td></tr><tr><td>1050</td></tr><tr><td>1188</td></tr><tr><td>1164</td></tr><tr><td>&hellip;</td></tr><tr><td>1089</td></tr><tr><td>979</td></tr><tr><td>1139</td></tr><tr><td>1155</td></tr><tr><td>1184</td></tr></tbody></table></div>"
      ]
     },
     "execution_count": 48,
     "metadata": {},
     "output_type": "execute_result"
    }
   ],
   "execution_count": 48
  }
 ],
 "metadata": {
  "kernelspec": {
   "display_name": "Python 3",
   "language": "python",
   "name": "python3"
  },
  "language_info": {
   "codemirror_mode": {
    "name": "ipython",
    "version": 2
   },
   "file_extension": ".py",
   "mimetype": "text/x-python",
   "name": "python",
   "nbconvert_exporter": "python",
   "pygments_lexer": "ipython2",
   "version": "2.7.6"
  }
 },
 "nbformat": 4,
 "nbformat_minor": 5
}
