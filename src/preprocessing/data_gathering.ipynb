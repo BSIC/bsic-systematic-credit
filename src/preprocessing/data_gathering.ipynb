{
 "cells": [
  {
   "metadata": {},
   "cell_type": "markdown",
   "source": "# Imports",
   "id": "aa26ab9e359cadf0"
  },
  {
   "metadata": {
    "ExecuteTime": {
     "end_time": "2024-04-29T20:17:11.661709Z",
     "start_time": "2024-04-29T20:17:11.352211Z"
    }
   },
   "cell_type": "code",
   "source": "import polars as pl",
   "id": "a8b077ec0ee5504e",
   "outputs": [],
   "execution_count": 1
  },
  {
   "metadata": {
    "ExecuteTime": {
     "end_time": "2024-04-29T20:18:57.429202Z",
     "start_time": "2024-04-29T20:18:57.423201Z"
    }
   },
   "cell_type": "code",
   "source": [
    "def write_txt(data: pl.DataFrame, col: str, filename: str):\n",
    "    \"\"\"\n",
    "    Dump a Polars Series in a txt file.\n",
    "    \n",
    "    Used to create txt files of permnos/gvkeys/cusips to then put into WRDS queries. \n",
    "    It only exports the unique, non-null values of the column\n",
    "    \n",
    "    Parameters\n",
    "    ----------\n",
    "    data: pl.DataFrame\n",
    "        The DataFrame to take data from\n",
    "    col: str\n",
    "        The name of the column to export.\n",
    "    filename: str\n",
    "        The name of the txt file (including the directory instructions).\n",
    "\n",
    "    \"\"\"\n",
    "    items  = data.filter(pl.col(col).is_not_null()).select(col).unique()\n",
    "    with open(f'../../data/wrds_queries_files/{filename}', 'w') as file:\n",
    "        for item in items.iter_rows(): \n",
    "            file.write(str(item[0]) + '\\n')"
   ],
   "id": "ee2d0317a92ac58b",
   "outputs": [],
   "execution_count": 2
  },
  {
   "metadata": {},
   "cell_type": "markdown",
   "source": "# Load Bond Returns Data",
   "id": "530158e1b088b503"
  },
  {
   "metadata": {},
   "cell_type": "markdown",
   "source": "For the definitions of the features, refer to the pdf in the `docs` folder",
   "id": "45cc3d6144318019"
  },
  {
   "metadata": {},
   "cell_type": "markdown",
   "source": "Load the data from *openbondassetpricing.com*",
   "id": "de65e6d8c11d5876"
  },
  {
   "metadata": {
    "ExecuteTime": {
     "end_time": "2024-04-29T20:21:35.244549Z",
     "start_time": "2024-04-29T20:21:35.239547Z"
    }
   },
   "cell_type": "code",
   "source": [
    "def load_bond_data(fetch_online: bool = False) -> pl.DataFrame: \n",
    "    \"\"\"\n",
    "    Returns WRDS bond data as pandas dataframe.\n",
    "    \n",
    "    Parameters\n",
    "    ----------\n",
    "    fetch_online: bool, optional. Whether to fetch online bond data or to take it from the data folder.\n",
    "\n",
    "    Returns\n",
    "    -------\n",
    "    pd.DataFrame: bond data\n",
    "    \"\"\"\n",
    "\n",
    "    if fetch_online: \n",
    "        _url = \"https://openbondassetpricing.com/wp-content/uploads/2024/04/WRDS_MMN_Corrected_Data_2024.csv\"\n",
    "    else: \n",
    "        _url = \"../../data/unprocessed_data/openbondassetpricing_bond_data_mmn_adj.csv\"\n",
    "\n",
    "    # url to fetch\n",
    "    bond_data = pl.read_csv(_url, try_parse_dates=True)\n",
    "\n",
    "    return bond_data"
   ],
   "id": "7aa93f8873580715",
   "outputs": [],
   "execution_count": 9
  },
  {
   "metadata": {
    "ExecuteTime": {
     "end_time": "2024-04-29T20:21:37.349046Z",
     "start_time": "2024-04-29T20:21:35.629047Z"
    }
   },
   "cell_type": "code",
   "source": [
    "data_obap = load_bond_data(fetch_online=False)\n",
    "\n",
    "data_obap.head(1)"
   ],
   "id": "36ee6333eb809765",
   "outputs": [
    {
     "data": {
      "text/plain": [
       "shape: (1, 43)\n",
       "┌─────┬────────────┬───────────┬────────────┬───┬────────┬───────────┬───────────────┬─────────────┐\n",
       "│     ┆ date       ┆ cusip     ┆ exretn_t+1 ┆ … ┆ coupon ┆ bond_type ┆ principal_amt ┆ bondpar_mil │\n",
       "│ --- ┆ ---        ┆ ---       ┆ ---        ┆   ┆ ---    ┆ ---       ┆ ---           ┆ ---         │\n",
       "│ i64 ┆ date       ┆ str       ┆ f64        ┆   ┆ f64    ┆ str       ┆ f64           ┆ f64         │\n",
       "╞═════╪════════════╪═══════════╪════════════╪═══╪════════╪═══════════╪═══════════════╪═════════════╡\n",
       "│ 0   ┆ 2002-08-31 ┆ 000336AE7 ┆ -0.056089  ┆ … ┆ 6.875  ┆ CDEB      ┆ 1000.0        ┆ 100.0       │\n",
       "└─────┴────────────┴───────────┴────────────┴───┴────────┴───────────┴───────────────┴─────────────┘"
      ],
      "text/html": [
       "<div><style>\n",
       ".dataframe > thead > tr,\n",
       ".dataframe > tbody > tr {\n",
       "  text-align: right;\n",
       "  white-space: pre-wrap;\n",
       "}\n",
       "</style>\n",
       "<small>shape: (1, 43)</small><table border=\"1\" class=\"dataframe\"><thead><tr><th></th><th>date</th><th>cusip</th><th>exretn_t+1</th><th>exretnc_t+1</th><th>exretnc_dur_t+1</th><th>bond_ret_t+1</th><th>bond_ret</th><th>exretn</th><th>exretnc_dur</th><th>rating</th><th>cs</th><th>cs_6m_delta</th><th>bond_yield</th><th>bond_amount_out</th><th>offering_amt</th><th>bondprc</th><th>perc_par</th><th>tmt</th><th>duration</th><th>ind_num_17</th><th>sic_code</th><th>mom6_1</th><th>ltrev48_12</th><th>BOND_RET</th><th>ILLIQ</th><th>var95</th><th>n_trades_month</th><th>size_ig</th><th>size_jk</th><th>BOND_YIELD</th><th>CS</th><th>BONDPRC</th><th>PRFULL</th><th>DURATION</th><th>CONVEXITY</th><th>CS_6M_DELTA</th><th>bond_value</th><th>BOND_VALUE</th><th>coupon</th><th>bond_type</th><th>principal_amt</th><th>bondpar_mil</th></tr><tr><td>i64</td><td>date</td><td>str</td><td>f64</td><td>f64</td><td>f64</td><td>f64</td><td>f64</td><td>f64</td><td>f64</td><td>f64</td><td>f64</td><td>f64</td><td>f64</td><td>f64</td><td>f64</td><td>f64</td><td>f64</td><td>f64</td><td>f64</td><td>f64</td><td>i64</td><td>f64</td><td>f64</td><td>f64</td><td>f64</td><td>f64</td><td>f64</td><td>f64</td><td>f64</td><td>f64</td><td>f64</td><td>f64</td><td>f64</td><td>f64</td><td>f64</td><td>f64</td><td>f64</td><td>f64</td><td>f64</td><td>str</td><td>f64</td><td>f64</td></tr></thead><tbody><tr><td>0</td><td>2002-08-31</td><td>&quot;000336AE7&quot;</td><td>-0.056089</td><td>-0.087082</td><td>-0.081158</td><td>-0.054689</td><td>-0.008212</td><td>-0.009612</td><td>-0.023343</td><td>8.0</td><td>0.043019</td><td>null</td><td>0.073689</td><td>100000.0</td><td>100000.0</td><td>97.693</td><td>0.97693</td><td>70.033333</td><td>4.585289</td><td>null</td><td>6211</td><td>0.0</td><td>0.009058</td><td>0.023939</td><td>3.597388</td><td>null</td><td>2.0</td><td>0.0</td><td>1.0</td><td>0.064316</td><td>0.032526</td><td>102.092</td><td>103.75346</td><td>4.63593</td><td>26.445978</td><td>null</td><td>9.7693e6</td><td>1.02092e7</td><td>6.875</td><td>&quot;CDEB&quot;</td><td>1000.0</td><td>100.0</td></tr></tbody></table></div>"
      ]
     },
     "execution_count": 10,
     "metadata": {},
     "output_type": "execute_result"
    }
   ],
   "execution_count": 10
  },
  {
   "metadata": {},
   "cell_type": "markdown",
   "source": "Loading the data from the **WRDS Bond Returns** Query",
   "id": "6e30fb5e80dd8110"
  },
  {
   "metadata": {
    "ExecuteTime": {
     "end_time": "2024-04-29T20:21:54.948987Z",
     "start_time": "2024-04-29T20:21:51.262489Z"
    }
   },
   "cell_type": "code",
   "source": [
    "dtypes = {\n",
    "    'AMOUNT_OUTSTANDING': pl.Float64,\n",
    "    'OFFERING_AMT': pl.Float64\n",
    "}\n",
    "\n",
    "data_wrds = pl.read_csv(\"../../data/unprocessed_data/wrds_bond_data.csv.gz\", try_parse_dates=True, dtypes=dtypes)\n",
    "\n",
    "data_wrds.head(2)"
   ],
   "id": "22a1658c25a093d3",
   "outputs": [
    {
     "data": {
      "text/plain": [
       "shape: (2, 58)\n",
       "┌───────────┬──────────┬───────────┬───────────┬───┬───────────┬───────────┬───────────┬───────────┐\n",
       "│ DATE      ┆ ISSUE_ID ┆ CUSIP     ┆ bond_sym_ ┆ … ┆ DEFAULT_D ┆ DEFAULT_T ┆ REINSTATE ┆ REINSTATE │\n",
       "│ ---       ┆ ---      ┆ ---       ┆ id        ┆   ┆ ATE       ┆ YPE       ┆ D         ┆ D_DATE    │\n",
       "│ date      ┆ i64      ┆ str       ┆ ---       ┆   ┆ ---       ┆ ---       ┆ ---       ┆ ---       │\n",
       "│           ┆          ┆           ┆ str       ┆   ┆ str       ┆ str       ┆ str       ┆ str       │\n",
       "╞═══════════╪══════════╪═══════════╪═══════════╪═══╪═══════════╪═══════════╪═══════════╪═══════════╡\n",
       "│ 2002-07-3 ┆ 2        ┆ 000361AB1 ┆ AIR.GA    ┆ … ┆ null      ┆ null      ┆ null      ┆ null      │\n",
       "│ 1         ┆          ┆           ┆           ┆   ┆           ┆           ┆           ┆           │\n",
       "│ 2002-08-3 ┆ 2        ┆ 000361AB1 ┆ AIR.GA    ┆ … ┆ null      ┆ null      ┆ null      ┆ null      │\n",
       "│ 1         ┆          ┆           ┆           ┆   ┆           ┆           ┆           ┆           │\n",
       "└───────────┴──────────┴───────────┴───────────┴───┴───────────┴───────────┴───────────┴───────────┘"
      ],
      "text/html": [
       "<div><style>\n",
       ".dataframe > thead > tr,\n",
       ".dataframe > tbody > tr {\n",
       "  text-align: right;\n",
       "  white-space: pre-wrap;\n",
       "}\n",
       "</style>\n",
       "<small>shape: (2, 58)</small><table border=\"1\" class=\"dataframe\"><thead><tr><th>DATE</th><th>ISSUE_ID</th><th>CUSIP</th><th>bond_sym_id</th><th>bsym</th><th>ISIN</th><th>company_symbol</th><th>BOND_TYPE</th><th>SECURITY_LEVEL</th><th>CONV</th><th>OFFERING_DATE</th><th>OFFERING_AMT</th><th>OFFERING_PRICE</th><th>PRINCIPAL_AMT</th><th>MATURITY</th><th>TREASURY_MATURITY</th><th>COUPON</th><th>DAY_COUNT_BASIS</th><th>DATED_DATE</th><th>FIRST_INTEREST_DATE</th><th>LAST_INTEREST_DATE</th><th>NCOUPS</th><th>AMOUNT_OUTSTANDING</th><th>R_SP</th><th>R_MR</th><th>R_FR</th><th>N_SP</th><th>N_MR</th><th>N_FR</th><th>RATING_NUM</th><th>RATING_CAT</th><th>RATING_CLASS</th><th>T_DATE</th><th>T_Volume</th><th>T_DVolume</th><th>T_Spread</th><th>T_Yld_Pt</th><th>YIELD</th><th>PRICE_EOM</th><th>PRICE_LDM</th><th>PRICE_L5M</th><th>GAP</th><th>COUPMONTH</th><th>nextcoup</th><th>COUPAMT</th><th>COUPACC</th><th>MULTICOUPS</th><th>RET_EOM</th><th>RET_LDM</th><th>RET_L5M</th><th>TMT</th><th>REMCOUPS</th><th>DURATION</th><th>DEFAULTED</th><th>DEFAULT_DATE</th><th>DEFAULT_TYPE</th><th>REINSTATED</th><th>REINSTATED_DATE</th></tr><tr><td>date</td><td>i64</td><td>str</td><td>str</td><td>str</td><td>str</td><td>str</td><td>str</td><td>str</td><td>i64</td><td>date</td><td>f64</td><td>f64</td><td>i64</td><td>date</td><td>str</td><td>f64</td><td>str</td><td>date</td><td>date</td><td>date</td><td>i64</td><td>f64</td><td>str</td><td>str</td><td>str</td><td>i64</td><td>i64</td><td>i64</td><td>i64</td><td>str</td><td>str</td><td>date</td><td>str</td><td>str</td><td>str</td><td>f64</td><td>str</td><td>f64</td><td>f64</td><td>f64</td><td>i64</td><td>i64</td><td>date</td><td>f64</td><td>f64</td><td>i64</td><td>str</td><td>str</td><td>str</td><td>f64</td><td>i64</td><td>f64</td><td>str</td><td>str</td><td>str</td><td>str</td><td>str</td></tr></thead><tbody><tr><td>2002-07-31</td><td>2</td><td>&quot;000361AB1&quot;</td><td>&quot;AIR.GA&quot;</td><td>null</td><td>&quot;US000361AB18&quot;</td><td>&quot;AIR&quot;</td><td>&quot;CDEB&quot;</td><td>&quot;SEN&quot;</td><td>0</td><td>1993-10-12</td><td>50000.0</td><td>100.0</td><td>1000</td><td>2003-10-15</td><td>&quot;10 YEAR&quot;</td><td>7.25</td><td>&quot;30/360&quot;</td><td>1993-10-15</td><td>1994-04-15</td><td>2003-04-15</td><td>2</td><td>50000.0</td><td>&quot;BBB&quot;</td><td>&quot;BAA3&quot;</td><td>&quot;BB+&quot;</td><td>9</td><td>10</td><td>11</td><td>9</td><td>&quot;BBB&quot;</td><td>&quot;0.IG&quot;</td><td>2002-07-05</td><td>&quot;$2,000&quot;</td><td>&quot;$2,056&quot;</td><td>null</td><td>4.936</td><td>&quot;4.827%&quot;</td><td>102.8</td><td>null</td><td>null</td><td>null</td><td>99</td><td>2002-10-15</td><td>0.0</td><td>2.13</td><td>1</td><td>null</td><td>null</td><td>null</td><td>1.23</td><td>3</td><td>1.13</td><td>&quot;N&quot;</td><td>null</td><td>null</td><td>null</td><td>null</td></tr><tr><td>2002-08-31</td><td>2</td><td>&quot;000361AB1&quot;</td><td>&quot;AIR.GA&quot;</td><td>null</td><td>&quot;US000361AB18&quot;</td><td>&quot;AIR&quot;</td><td>&quot;CDEB&quot;</td><td>&quot;SEN&quot;</td><td>0</td><td>1993-10-12</td><td>50000.0</td><td>100.0</td><td>1000</td><td>2003-10-15</td><td>&quot;10 YEAR&quot;</td><td>7.25</td><td>&quot;30/360&quot;</td><td>1993-10-15</td><td>1994-04-15</td><td>2003-04-15</td><td>2</td><td>50000.0</td><td>&quot;BBB&quot;</td><td>&quot;BAA3&quot;</td><td>&quot;BB+&quot;</td><td>9</td><td>10</td><td>11</td><td>9</td><td>&quot;BBB&quot;</td><td>&quot;0.IG&quot;</td><td>2002-08-30</td><td>&quot;$35,000&quot;</td><td>&quot;$35,309&quot;</td><td>null</td><td>6.3985</td><td>&quot;4.386%&quot;</td><td>103.1</td><td>103.1</td><td>103.1</td><td>1</td><td>100</td><td>2002-10-15</td><td>0.0</td><td>2.74</td><td>1</td><td>&quot;.8709%&quot;</td><td>null</td><td>null</td><td>1.14</td><td>3</td><td>1.05</td><td>&quot;N&quot;</td><td>null</td><td>null</td><td>null</td><td>null</td></tr></tbody></table></div>"
      ]
     },
     "execution_count": 12,
     "metadata": {},
     "output_type": "execute_result"
    }
   ],
   "execution_count": 12
  },
  {
   "metadata": {},
   "cell_type": "markdown",
   "source": "Merge the OBAP and WRDS data together, keeping OBAP as the main DataFrame",
   "id": "c85996fe46bca0c7"
  },
  {
   "metadata": {
    "ExecuteTime": {
     "end_time": "2024-04-29T20:21:57.310478Z",
     "start_time": "2024-04-29T20:21:56.176478Z"
    }
   },
   "cell_type": "code",
   "source": [
    "merged = data_obap.join(data_wrds, how='left', left_on=['cusip', 'date'], right_on=['CUSIP', 'DATE'])\n",
    "\n",
    "merged.head()"
   ],
   "id": "8cd096626f8bba6c",
   "outputs": [
    {
     "data": {
      "text/plain": [
       "shape: (5, 99)\n",
       "┌───────┬────────────┬───────────┬────────────┬───┬────────────┬───────────┬───────────┬───────────┐\n",
       "│       ┆ date       ┆ cusip     ┆ exretn_t+1 ┆ … ┆ DEFAULT_DA ┆ DEFAULT_T ┆ REINSTATE ┆ REINSTATE │\n",
       "│ ---   ┆ ---        ┆ ---       ┆ ---        ┆   ┆ TE         ┆ YPE       ┆ D         ┆ D_DATE    │\n",
       "│ i64   ┆ date       ┆ str       ┆ f64        ┆   ┆ ---        ┆ ---       ┆ ---       ┆ ---       │\n",
       "│       ┆            ┆           ┆            ┆   ┆ str        ┆ str       ┆ str       ┆ str       │\n",
       "╞═══════╪════════════╪═══════════╪════════════╪═══╪════════════╪═══════════╪═══════════╪═══════════╡\n",
       "│ 0     ┆ 2002-08-31 ┆ 000336AE7 ┆ -0.056089  ┆ … ┆ null       ┆ null      ┆ null      ┆ null      │\n",
       "│ 5794  ┆ 2002-09-30 ┆ 000336AE7 ┆ 0.050663   ┆ … ┆ null       ┆ null      ┆ null      ┆ null      │\n",
       "│ 11572 ┆ 2002-10-31 ┆ 000336AE7 ┆ 0.07968    ┆ … ┆ null       ┆ null      ┆ null      ┆ null      │\n",
       "│ 17371 ┆ 2002-11-30 ┆ 000336AE7 ┆ null       ┆ … ┆ null       ┆ null      ┆ null      ┆ null      │\n",
       "│ 23064 ┆ 2002-12-31 ┆ 000336AE7 ┆ null       ┆ … ┆ null       ┆ null      ┆ null      ┆ null      │\n",
       "└───────┴────────────┴───────────┴────────────┴───┴────────────┴───────────┴───────────┴───────────┘"
      ],
      "text/html": [
       "<div><style>\n",
       ".dataframe > thead > tr,\n",
       ".dataframe > tbody > tr {\n",
       "  text-align: right;\n",
       "  white-space: pre-wrap;\n",
       "}\n",
       "</style>\n",
       "<small>shape: (5, 99)</small><table border=\"1\" class=\"dataframe\"><thead><tr><th></th><th>date</th><th>cusip</th><th>exretn_t+1</th><th>exretnc_t+1</th><th>exretnc_dur_t+1</th><th>bond_ret_t+1</th><th>bond_ret</th><th>exretn</th><th>exretnc_dur</th><th>rating</th><th>cs</th><th>cs_6m_delta</th><th>bond_yield</th><th>bond_amount_out</th><th>offering_amt</th><th>bondprc</th><th>perc_par</th><th>tmt</th><th>duration</th><th>ind_num_17</th><th>sic_code</th><th>mom6_1</th><th>ltrev48_12</th><th>BOND_RET</th><th>ILLIQ</th><th>var95</th><th>n_trades_month</th><th>size_ig</th><th>size_jk</th><th>BOND_YIELD</th><th>CS</th><th>BONDPRC</th><th>PRFULL</th><th>DURATION</th><th>CONVEXITY</th><th>CS_6M_DELTA</th><th>&hellip;</th><th>NCOUPS</th><th>AMOUNT_OUTSTANDING</th><th>R_SP</th><th>R_MR</th><th>R_FR</th><th>N_SP</th><th>N_MR</th><th>N_FR</th><th>RATING_NUM</th><th>RATING_CAT</th><th>RATING_CLASS</th><th>T_DATE</th><th>T_Volume</th><th>T_DVolume</th><th>T_Spread</th><th>T_Yld_Pt</th><th>YIELD</th><th>PRICE_EOM</th><th>PRICE_LDM</th><th>PRICE_L5M</th><th>GAP</th><th>COUPMONTH</th><th>nextcoup</th><th>COUPAMT</th><th>COUPACC</th><th>MULTICOUPS</th><th>RET_EOM</th><th>RET_LDM</th><th>RET_L5M</th><th>TMT</th><th>REMCOUPS</th><th>DURATION_right</th><th>DEFAULTED</th><th>DEFAULT_DATE</th><th>DEFAULT_TYPE</th><th>REINSTATED</th><th>REINSTATED_DATE</th></tr><tr><td>i64</td><td>date</td><td>str</td><td>f64</td><td>f64</td><td>f64</td><td>f64</td><td>f64</td><td>f64</td><td>f64</td><td>f64</td><td>f64</td><td>f64</td><td>f64</td><td>f64</td><td>f64</td><td>f64</td><td>f64</td><td>f64</td><td>f64</td><td>f64</td><td>i64</td><td>f64</td><td>f64</td><td>f64</td><td>f64</td><td>f64</td><td>f64</td><td>f64</td><td>f64</td><td>f64</td><td>f64</td><td>f64</td><td>f64</td><td>f64</td><td>f64</td><td>f64</td><td>&hellip;</td><td>i64</td><td>f64</td><td>str</td><td>str</td><td>str</td><td>i64</td><td>i64</td><td>i64</td><td>i64</td><td>str</td><td>str</td><td>date</td><td>str</td><td>str</td><td>str</td><td>f64</td><td>str</td><td>f64</td><td>f64</td><td>f64</td><td>i64</td><td>i64</td><td>date</td><td>f64</td><td>f64</td><td>i64</td><td>str</td><td>str</td><td>str</td><td>f64</td><td>i64</td><td>f64</td><td>str</td><td>str</td><td>str</td><td>str</td><td>str</td></tr></thead><tbody><tr><td>0</td><td>2002-08-31</td><td>&quot;000336AE7&quot;</td><td>-0.056089</td><td>-0.087082</td><td>-0.081158</td><td>-0.054689</td><td>-0.008212</td><td>-0.009612</td><td>-0.023343</td><td>8.0</td><td>0.043019</td><td>null</td><td>0.073689</td><td>100000.0</td><td>100000.0</td><td>97.693</td><td>0.97693</td><td>70.033333</td><td>4.585289</td><td>null</td><td>6211</td><td>0.0</td><td>0.009058</td><td>0.023939</td><td>3.597388</td><td>null</td><td>2.0</td><td>0.0</td><td>1.0</td><td>0.064316</td><td>0.032526</td><td>102.092</td><td>103.75346</td><td>4.63593</td><td>26.445978</td><td>null</td><td>&hellip;</td><td>2</td><td>100000.0</td><td>&quot;BBB+&quot;</td><td>&quot;BAA2&quot;</td><td>&quot;BBB+&quot;</td><td>8</td><td>9</td><td>8</td><td>8</td><td>&quot;BBB&quot;</td><td>&quot;0.IG&quot;</td><td>2002-08-30</td><td>&quot;$119,000&quot;</td><td>&quot;$118,742&quot;</td><td>null</td><td>6.918</td><td>&quot;7.369%&quot;</td><td>97.7</td><td>97.7</td><td>97.7</td><td>1</td><td>44</td><td>2002-12-01</td><td>0.0</td><td>1.71</td><td>1</td><td>&quot;-.8212%&quot;</td><td>null</td><td>&quot;-.8212%&quot;</td><td>5.84</td><td>12</td><td>4.59</td><td>&quot;N&quot;</td><td>null</td><td>null</td><td>null</td><td>null</td></tr><tr><td>5794</td><td>2002-09-30</td><td>&quot;000336AE7&quot;</td><td>0.050663</td><td>0.057193</td><td>0.054383</td><td>0.052063</td><td>-0.054689</td><td>-0.056089</td><td>-0.081158</td><td>8.0</td><td>0.063356</td><td>null</td><td>0.087596</td><td>100000.0</td><td>100000.0</td><td>91.691494</td><td>0.916915</td><td>69.033333</td><td>4.437498</td><td>null</td><td>6211</td><td>-0.008212</td><td>-0.037939</td><td>-0.009819</td><td>34.628775</td><td>null</td><td>2.0</td><td>0.0</td><td>1.0</td><td>0.075301</td><td>0.049044</td><td>97.0</td><td>99.138889</td><td>4.514543</td><td>25.309944</td><td>null</td><td>&hellip;</td><td>2</td><td>100000.0</td><td>&quot;BBB+&quot;</td><td>&quot;BAA2&quot;</td><td>&quot;BBB+&quot;</td><td>8</td><td>9</td><td>8</td><td>8</td><td>&quot;BBB&quot;</td><td>&quot;0.IG&quot;</td><td>2002-09-30</td><td>&quot;$618,000&quot;</td><td>&quot;$568,962&quot;</td><td>&quot;0.77%&quot;</td><td>8.6558</td><td>&quot;8.760%&quot;</td><td>91.7</td><td>91.7</td><td>91.7</td><td>1</td><td>45</td><td>2002-12-01</td><td>0.0</td><td>2.28</td><td>1</td><td>&quot;-5.469%&quot;</td><td>&quot;-5.469%&quot;</td><td>&quot;-5.469%&quot;</td><td>5.75</td><td>12</td><td>4.44</td><td>&quot;N&quot;</td><td>null</td><td>null</td><td>null</td><td>null</td></tr><tr><td>11572</td><td>2002-10-31</td><td>&quot;000336AE7&quot;</td><td>0.07968</td><td>0.098591</td><td>0.095571</td><td>0.08088</td><td>0.052063</td><td>0.050663</td><td>0.054383</td><td>10.0</td><td>0.052394</td><td>null</td><td>0.077672</td><td>100000.0</td><td>100000.0</td><td>96.0</td><td>0.96</td><td>68.0</td><td>4.404651</td><td>null</td><td>6211</td><td>-0.062452</td><td>-0.027926</td><td>0.080031</td><td>null</td><td>null</td><td>1.0</td><td>0.0</td><td>1.0</td><td>0.074274</td><td>0.045408</td><td>97.5</td><td>100.288197</td><td>4.428541</td><td>24.496262</td><td>null</td><td>&hellip;</td><td>2</td><td>100000.0</td><td>&quot;BBB-&quot;</td><td>&quot;BAA2&quot;</td><td>&quot;BBB+&quot;</td><td>10</td><td>9</td><td>8</td><td>10</td><td>&quot;BBB&quot;</td><td>&quot;0.IG&quot;</td><td>2002-10-31</td><td>&quot;$11,510,000&quot;</td><td>&quot;$11,001,450&quot;</td><td>null</td><td>7.855</td><td>&quot;7.767%&quot;</td><td>96.0</td><td>96.0</td><td>96.0</td><td>1</td><td>46</td><td>2002-12-01</td><td>0.0</td><td>2.86</td><td>1</td><td>&quot;5.206%&quot;</td><td>&quot;5.206%&quot;</td><td>&quot;5.206%&quot;</td><td>5.67</td><td>12</td><td>4.4</td><td>&quot;N&quot;</td><td>null</td><td>null</td><td>null</td><td>null</td></tr><tr><td>17371</td><td>2002-11-30</td><td>&quot;000336AE7&quot;</td><td>null</td><td>null</td><td>null</td><td>null</td><td>0.08088</td><td>0.07968</td><td>0.095571</td><td>10.0</td><td>0.030568</td><td>null</td><td>0.061289</td><td>100000.0</td><td>100000.0</td><td>103.431</td><td>1.03431</td><td>67.0</td><td>4.40485</td><td>null</td><td>6211</td><td>-0.01364</td><td>-0.020827</td><td>0.029465</td><td>-33.329326</td><td>null</td><td>3.0</td><td>0.0</td><td>1.0</td><td>0.068748</td><td>0.039786</td><td>100.0</td><td>103.361111</td><td>4.374959</td><td>23.981731</td><td>null</td><td>&hellip;</td><td>2</td><td>100000.0</td><td>&quot;BBB-&quot;</td><td>&quot;BAA2&quot;</td><td>&quot;BBB+&quot;</td><td>10</td><td>9</td><td>8</td><td>10</td><td>&quot;BBB&quot;</td><td>&quot;0.IG&quot;</td><td>2002-11-27</td><td>&quot;$38,526,000&quot;</td><td>&quot;$33,498,709&quot;</td><td>&quot;0.73%&quot;</td><td>9.9963</td><td>&quot;6.129%&quot;</td><td>103.4</td><td>null</td><td>103.4</td><td>1</td><td>47</td><td>2002-12-01</td><td>0.0</td><td>3.43</td><td>1</td><td>&quot;8.088%&quot;</td><td>null</td><td>&quot;8.088%&quot;</td><td>5.58</td><td>12</td><td>4.4</td><td>&quot;N&quot;</td><td>null</td><td>null</td><td>null</td><td>null</td></tr><tr><td>23064</td><td>2002-12-31</td><td>&quot;000336AE7&quot;</td><td>null</td><td>null</td><td>null</td><td>null</td><td>null</td><td>null</td><td>null</td><td>10.0</td><td>0.051327</td><td>null</td><td>0.07661</td><td>100000.0</td><td>100000.0</td><td>null</td><td>null</td><td>65.966667</td><td>4.401693</td><td>null</td><td>6211</td><td>0.066137</td><td>-0.032151</td><td>0.023574</td><td>null</td><td>null</td><td>1.0</td><td>0.0</td><td>1.0</td><td>0.107563</td><td>0.079508</td><td>84.25</td><td>84.440971</td><td>4.321904</td><td>22.989123</td><td>null</td><td>&hellip;</td><td>2</td><td>100000.0</td><td>&quot;BBB-&quot;</td><td>&quot;BAA2&quot;</td><td>&quot;BBB+&quot;</td><td>10</td><td>9</td><td>8</td><td>10</td><td>&quot;BBB&quot;</td><td>&quot;0.IG&quot;</td><td>2002-12-13</td><td>&quot;$4,090,000&quot;</td><td>&quot;$3,435,014&quot;</td><td>&quot;1.66%&quot;</td><td>10.8358</td><td>&quot;7.661%&quot;</td><td>96.6</td><td>null</td><td>null</td><td>1</td><td>48</td><td>2003-06-01</td><td>3.44</td><td>0.57</td><td>1</td><td>&quot;-5.884%&quot;</td><td>null</td><td>null</td><td>5.5</td><td>11</td><td>4.4</td><td>&quot;N&quot;</td><td>null</td><td>null</td><td>null</td><td>null</td></tr></tbody></table></div>"
      ]
     },
     "execution_count": 13,
     "metadata": {},
     "output_type": "execute_result"
    }
   ],
   "execution_count": 13
  },
  {
   "metadata": {
    "ExecuteTime": {
     "end_time": "2024-04-29T20:21:58.988540Z",
     "start_time": "2024-04-29T20:21:58.985040Z"
    }
   },
   "cell_type": "code",
   "source": "bond_data = merged",
   "id": "3f1ea4966255ef",
   "outputs": [],
   "execution_count": 14
  },
  {
   "metadata": {},
   "cell_type": "markdown",
   "source": "# Data Cleaning on Bond Data",
   "id": "cf7a39cd4fbc3c5c"
  },
  {
   "metadata": {},
   "cell_type": "markdown",
   "source": "For all the characteristics except for maturity, I get the CUSIPs of the bonds and remove all the bond observations, not only the observations that have that characteristics. For maturity, I remove all observations where the Time To Maturity is over 30 years. ",
   "id": "bf8a1b230b7ab8a"
  },
  {
   "metadata": {
    "ExecuteTime": {
     "end_time": "2024-04-28T17:20:17.867435Z",
     "start_time": "2024-04-28T17:20:17.849935Z"
    }
   },
   "cell_type": "code",
   "source": "bond_data = merged",
   "id": "74a19adf5e58b8e1",
   "outputs": [],
   "execution_count": 8
  },
  {
   "metadata": {
    "ExecuteTime": {
     "end_time": "2024-04-29T20:22:17.258758Z",
     "start_time": "2024-04-29T20:22:17.252255Z"
    }
   },
   "cell_type": "code",
   "source": [
    "# examin NaNs\n",
    "bond_data.null_count()"
   ],
   "id": "9ec756b70f50e105",
   "outputs": [
    {
     "data": {
      "text/plain": [
       "shape: (1, 99)\n",
       "┌─────┬──────┬───────┬────────────┬───┬──────────────┬──────────────┬────────────┬─────────────────┐\n",
       "│     ┆ date ┆ cusip ┆ exretn_t+1 ┆ … ┆ DEFAULT_DATE ┆ DEFAULT_TYPE ┆ REINSTATED ┆ REINSTATED_DATE │\n",
       "│ --- ┆ ---  ┆ ---   ┆ ---        ┆   ┆ ---          ┆ ---          ┆ ---        ┆ ---             │\n",
       "│ u32 ┆ u32  ┆ u32   ┆ u32        ┆   ┆ u32          ┆ u32          ┆ u32        ┆ u32             │\n",
       "╞═════╪══════╪═══════╪════════════╪═══╪══════════════╪══════════════╪════════════╪═════════════════╡\n",
       "│ 0   ┆ 0    ┆ 0     ┆ 354192     ┆ … ┆ 1350454      ┆ 1350454      ┆ 1355682    ┆ 1355886         │\n",
       "└─────┴──────┴───────┴────────────┴───┴──────────────┴──────────────┴────────────┴─────────────────┘"
      ],
      "text/html": [
       "<div><style>\n",
       ".dataframe > thead > tr,\n",
       ".dataframe > tbody > tr {\n",
       "  text-align: right;\n",
       "  white-space: pre-wrap;\n",
       "}\n",
       "</style>\n",
       "<small>shape: (1, 99)</small><table border=\"1\" class=\"dataframe\"><thead><tr><th></th><th>date</th><th>cusip</th><th>exretn_t+1</th><th>exretnc_t+1</th><th>exretnc_dur_t+1</th><th>bond_ret_t+1</th><th>bond_ret</th><th>exretn</th><th>exretnc_dur</th><th>rating</th><th>cs</th><th>cs_6m_delta</th><th>bond_yield</th><th>bond_amount_out</th><th>offering_amt</th><th>bondprc</th><th>perc_par</th><th>tmt</th><th>duration</th><th>ind_num_17</th><th>sic_code</th><th>mom6_1</th><th>ltrev48_12</th><th>BOND_RET</th><th>ILLIQ</th><th>var95</th><th>n_trades_month</th><th>size_ig</th><th>size_jk</th><th>BOND_YIELD</th><th>CS</th><th>BONDPRC</th><th>PRFULL</th><th>DURATION</th><th>CONVEXITY</th><th>CS_6M_DELTA</th><th>&hellip;</th><th>NCOUPS</th><th>AMOUNT_OUTSTANDING</th><th>R_SP</th><th>R_MR</th><th>R_FR</th><th>N_SP</th><th>N_MR</th><th>N_FR</th><th>RATING_NUM</th><th>RATING_CAT</th><th>RATING_CLASS</th><th>T_DATE</th><th>T_Volume</th><th>T_DVolume</th><th>T_Spread</th><th>T_Yld_Pt</th><th>YIELD</th><th>PRICE_EOM</th><th>PRICE_LDM</th><th>PRICE_L5M</th><th>GAP</th><th>COUPMONTH</th><th>nextcoup</th><th>COUPAMT</th><th>COUPACC</th><th>MULTICOUPS</th><th>RET_EOM</th><th>RET_LDM</th><th>RET_L5M</th><th>TMT</th><th>REMCOUPS</th><th>DURATION_right</th><th>DEFAULTED</th><th>DEFAULT_DATE</th><th>DEFAULT_TYPE</th><th>REINSTATED</th><th>REINSTATED_DATE</th></tr><tr><td>u32</td><td>u32</td><td>u32</td><td>u32</td><td>u32</td><td>u32</td><td>u32</td><td>u32</td><td>u32</td><td>u32</td><td>u32</td><td>u32</td><td>u32</td><td>u32</td><td>u32</td><td>u32</td><td>u32</td><td>u32</td><td>u32</td><td>u32</td><td>u32</td><td>u32</td><td>u32</td><td>u32</td><td>u32</td><td>u32</td><td>u32</td><td>u32</td><td>u32</td><td>u32</td><td>u32</td><td>u32</td><td>u32</td><td>u32</td><td>u32</td><td>u32</td><td>u32</td><td>&hellip;</td><td>u32</td><td>u32</td><td>u32</td><td>u32</td><td>u32</td><td>u32</td><td>u32</td><td>u32</td><td>u32</td><td>u32</td><td>u32</td><td>u32</td><td>u32</td><td>u32</td><td>u32</td><td>u32</td><td>u32</td><td>u32</td><td>u32</td><td>u32</td><td>u32</td><td>u32</td><td>u32</td><td>u32</td><td>u32</td><td>u32</td><td>u32</td><td>u32</td><td>u32</td><td>u32</td><td>u32</td><td>u32</td><td>u32</td><td>u32</td><td>u32</td><td>u32</td><td>u32</td></tr></thead><tbody><tr><td>0</td><td>0</td><td>0</td><td>354192</td><td>357661</td><td>357661</td><td>354192</td><td>349654</td><td>349654</td><td>353167</td><td>0</td><td>8971</td><td>190379</td><td>8514</td><td>0</td><td>0</td><td>209439</td><td>209439</td><td>0</td><td>8971</td><td>355758</td><td>0</td><td>93805</td><td>727484</td><td>189174</td><td>257059</td><td>721563</td><td>182998</td><td>0</td><td>0</td><td>101778</td><td>101778</td><td>101778</td><td>101778</td><td>101778</td><td>101778</td><td>289731</td><td>&hellip;</td><td>81</td><td>706</td><td>667</td><td>14232</td><td>88098</td><td>12649</td><td>54901</td><td>436623</td><td>3599</td><td>81</td><td>6642</td><td>81</td><td>81</td><td>81</td><td>164095</td><td>35999</td><td>8594</td><td>81</td><td>600517</td><td>209553</td><td>19012</td><td>89255</td><td>1331</td><td>81</td><td>81</td><td>81</td><td>76364</td><td>812687</td><td>349769</td><td>81</td><td>81</td><td>9051</td><td>81</td><td>1350454</td><td>1350454</td><td>1355682</td><td>1355886</td></tr></tbody></table></div>"
      ]
     },
     "execution_count": 15,
     "metadata": {},
     "output_type": "execute_result"
    }
   ],
   "execution_count": 15
  },
  {
   "metadata": {},
   "cell_type": "markdown",
   "source": "## Merge duration data",
   "id": "d6a1a14b7bff0e99"
  },
  {
   "metadata": {},
   "cell_type": "markdown",
   "source": "Merge duration data, since it is the same measure, and by doing so we can reduce the amount of NaNs",
   "id": "f05b8802c1d33988"
  },
  {
   "metadata": {
    "ExecuteTime": {
     "end_time": "2024-04-29T20:22:19.458541Z",
     "start_time": "2024-04-29T20:22:19.452037Z"
    }
   },
   "cell_type": "code",
   "source": "bond_data.select(['DURATION', 'duration']).null_count()",
   "id": "fc672befdbd26515",
   "outputs": [
    {
     "data": {
      "text/plain": [
       "shape: (1, 2)\n",
       "┌──────────┬──────────┐\n",
       "│ DURATION ┆ duration │\n",
       "│ ---      ┆ ---      │\n",
       "│ u32      ┆ u32      │\n",
       "╞══════════╪══════════╡\n",
       "│ 101778   ┆ 8971     │\n",
       "└──────────┴──────────┘"
      ],
      "text/html": [
       "<div><style>\n",
       ".dataframe > thead > tr,\n",
       ".dataframe > tbody > tr {\n",
       "  text-align: right;\n",
       "  white-space: pre-wrap;\n",
       "}\n",
       "</style>\n",
       "<small>shape: (1, 2)</small><table border=\"1\" class=\"dataframe\"><thead><tr><th>DURATION</th><th>duration</th></tr><tr><td>u32</td><td>u32</td></tr></thead><tbody><tr><td>101778</td><td>8971</td></tr></tbody></table></div>"
      ]
     },
     "execution_count": 16,
     "metadata": {},
     "output_type": "execute_result"
    }
   ],
   "execution_count": 16
  },
  {
   "metadata": {
    "ExecuteTime": {
     "end_time": "2024-04-29T20:22:47.251948Z",
     "start_time": "2024-04-29T20:22:47.015448Z"
    }
   },
   "cell_type": "code",
   "source": [
    "bond_data = bond_data.with_columns((pl.col('duration').fill_null(pl.col('DURATION'))).alias('duration'))\n",
    "bond_data = bond_data.drop('DURATION')\n",
    "\n",
    "bond_data.head(1)"
   ],
   "id": "9e4090cba1af7ee",
   "outputs": [
    {
     "data": {
      "text/plain": [
       "shape: (1, 98)\n",
       "┌─────┬────────────┬───────────┬────────────┬───┬────────────┬────────────┬────────────┬───────────┐\n",
       "│     ┆ date       ┆ cusip     ┆ exretn_t+1 ┆ … ┆ DEFAULT_DA ┆ DEFAULT_TY ┆ REINSTATED ┆ REINSTATE │\n",
       "│ --- ┆ ---        ┆ ---       ┆ ---        ┆   ┆ TE         ┆ PE         ┆ ---        ┆ D_DATE    │\n",
       "│ i64 ┆ date       ┆ str       ┆ f64        ┆   ┆ ---        ┆ ---        ┆ str        ┆ ---       │\n",
       "│     ┆            ┆           ┆            ┆   ┆ str        ┆ str        ┆            ┆ str       │\n",
       "╞═════╪════════════╪═══════════╪════════════╪═══╪════════════╪════════════╪════════════╪═══════════╡\n",
       "│ 0   ┆ 2002-08-31 ┆ 000336AE7 ┆ -0.056089  ┆ … ┆ null       ┆ null       ┆ null       ┆ null      │\n",
       "└─────┴────────────┴───────────┴────────────┴───┴────────────┴────────────┴────────────┴───────────┘"
      ],
      "text/html": [
       "<div><style>\n",
       ".dataframe > thead > tr,\n",
       ".dataframe > tbody > tr {\n",
       "  text-align: right;\n",
       "  white-space: pre-wrap;\n",
       "}\n",
       "</style>\n",
       "<small>shape: (1, 98)</small><table border=\"1\" class=\"dataframe\"><thead><tr><th></th><th>date</th><th>cusip</th><th>exretn_t+1</th><th>exretnc_t+1</th><th>exretnc_dur_t+1</th><th>bond_ret_t+1</th><th>bond_ret</th><th>exretn</th><th>exretnc_dur</th><th>rating</th><th>cs</th><th>cs_6m_delta</th><th>bond_yield</th><th>bond_amount_out</th><th>offering_amt</th><th>bondprc</th><th>perc_par</th><th>tmt</th><th>duration</th><th>ind_num_17</th><th>sic_code</th><th>mom6_1</th><th>ltrev48_12</th><th>BOND_RET</th><th>ILLIQ</th><th>var95</th><th>n_trades_month</th><th>size_ig</th><th>size_jk</th><th>BOND_YIELD</th><th>CS</th><th>BONDPRC</th><th>PRFULL</th><th>CONVEXITY</th><th>CS_6M_DELTA</th><th>bond_value</th><th>&hellip;</th><th>NCOUPS</th><th>AMOUNT_OUTSTANDING</th><th>R_SP</th><th>R_MR</th><th>R_FR</th><th>N_SP</th><th>N_MR</th><th>N_FR</th><th>RATING_NUM</th><th>RATING_CAT</th><th>RATING_CLASS</th><th>T_DATE</th><th>T_Volume</th><th>T_DVolume</th><th>T_Spread</th><th>T_Yld_Pt</th><th>YIELD</th><th>PRICE_EOM</th><th>PRICE_LDM</th><th>PRICE_L5M</th><th>GAP</th><th>COUPMONTH</th><th>nextcoup</th><th>COUPAMT</th><th>COUPACC</th><th>MULTICOUPS</th><th>RET_EOM</th><th>RET_LDM</th><th>RET_L5M</th><th>TMT</th><th>REMCOUPS</th><th>DURATION_right</th><th>DEFAULTED</th><th>DEFAULT_DATE</th><th>DEFAULT_TYPE</th><th>REINSTATED</th><th>REINSTATED_DATE</th></tr><tr><td>i64</td><td>date</td><td>str</td><td>f64</td><td>f64</td><td>f64</td><td>f64</td><td>f64</td><td>f64</td><td>f64</td><td>f64</td><td>f64</td><td>f64</td><td>f64</td><td>f64</td><td>f64</td><td>f64</td><td>f64</td><td>f64</td><td>f64</td><td>f64</td><td>i64</td><td>f64</td><td>f64</td><td>f64</td><td>f64</td><td>f64</td><td>f64</td><td>f64</td><td>f64</td><td>f64</td><td>f64</td><td>f64</td><td>f64</td><td>f64</td><td>f64</td><td>f64</td><td>&hellip;</td><td>i64</td><td>f64</td><td>str</td><td>str</td><td>str</td><td>i64</td><td>i64</td><td>i64</td><td>i64</td><td>str</td><td>str</td><td>date</td><td>str</td><td>str</td><td>str</td><td>f64</td><td>str</td><td>f64</td><td>f64</td><td>f64</td><td>i64</td><td>i64</td><td>date</td><td>f64</td><td>f64</td><td>i64</td><td>str</td><td>str</td><td>str</td><td>f64</td><td>i64</td><td>f64</td><td>str</td><td>str</td><td>str</td><td>str</td><td>str</td></tr></thead><tbody><tr><td>0</td><td>2002-08-31</td><td>&quot;000336AE7&quot;</td><td>-0.056089</td><td>-0.087082</td><td>-0.081158</td><td>-0.054689</td><td>-0.008212</td><td>-0.009612</td><td>-0.023343</td><td>8.0</td><td>0.043019</td><td>null</td><td>0.073689</td><td>100000.0</td><td>100000.0</td><td>97.693</td><td>0.97693</td><td>70.033333</td><td>4.585289</td><td>null</td><td>6211</td><td>0.0</td><td>0.009058</td><td>0.023939</td><td>3.597388</td><td>null</td><td>2.0</td><td>0.0</td><td>1.0</td><td>0.064316</td><td>0.032526</td><td>102.092</td><td>103.75346</td><td>26.445978</td><td>null</td><td>9.7693e6</td><td>&hellip;</td><td>2</td><td>100000.0</td><td>&quot;BBB+&quot;</td><td>&quot;BAA2&quot;</td><td>&quot;BBB+&quot;</td><td>8</td><td>9</td><td>8</td><td>8</td><td>&quot;BBB&quot;</td><td>&quot;0.IG&quot;</td><td>2002-08-30</td><td>&quot;$119,000&quot;</td><td>&quot;$118,742&quot;</td><td>null</td><td>6.918</td><td>&quot;7.369%&quot;</td><td>97.7</td><td>97.7</td><td>97.7</td><td>1</td><td>44</td><td>2002-12-01</td><td>0.0</td><td>1.71</td><td>1</td><td>&quot;-.8212%&quot;</td><td>null</td><td>&quot;-.8212%&quot;</td><td>5.84</td><td>12</td><td>4.59</td><td>&quot;N&quot;</td><td>null</td><td>null</td><td>null</td><td>null</td></tr></tbody></table></div>"
      ]
     },
     "execution_count": 17,
     "metadata": {},
     "output_type": "execute_result"
    }
   ],
   "execution_count": 17
  },
  {
   "metadata": {
    "ExecuteTime": {
     "end_time": "2024-04-29T20:22:52.193677Z",
     "start_time": "2024-04-29T20:22:52.188175Z"
    }
   },
   "cell_type": "code",
   "source": "bond_data.select('duration').null_count()",
   "id": "1f7587feeb32bc60",
   "outputs": [
    {
     "data": {
      "text/plain": [
       "shape: (1, 1)\n",
       "┌──────────┐\n",
       "│ duration │\n",
       "│ ---      │\n",
       "│ u32      │\n",
       "╞══════════╡\n",
       "│ 849      │\n",
       "└──────────┘"
      ],
      "text/html": [
       "<div><style>\n",
       ".dataframe > thead > tr,\n",
       ".dataframe > tbody > tr {\n",
       "  text-align: right;\n",
       "  white-space: pre-wrap;\n",
       "}\n",
       "</style>\n",
       "<small>shape: (1, 1)</small><table border=\"1\" class=\"dataframe\"><thead><tr><th>duration</th></tr><tr><td>u32</td></tr></thead><tbody><tr><td>849</td></tr></tbody></table></div>"
      ]
     },
     "execution_count": 18,
     "metadata": {},
     "output_type": "execute_result"
    }
   ],
   "execution_count": 18
  },
  {
   "metadata": {},
   "cell_type": "markdown",
   "source": "## Delete the colums we don't need",
   "id": "7b0a00a90493e13e"
  },
  {
   "metadata": {},
   "cell_type": "markdown",
   "source": "Note for the rating columns: the `rating` variable has actually the least amount of NaNs, but I did not check if the NaNs align between different providers (or, e.g., if there are some bonds which are not rated by S&P but are rated by Moodie's). In that case, we can merge them and reduce the NaNs, although we need to convert to a standard rating scale",
   "id": "a77e7615b5fce7dc"
  },
  {
   "metadata": {
    "ExecuteTime": {
     "end_time": "2024-04-29T20:24:35.437233Z",
     "start_time": "2024-04-29T20:24:35.409734Z"
    }
   },
   "cell_type": "code",
   "source": "bond_data.select('CONV').unique()",
   "id": "eebb99150b0088f4",
   "outputs": [
    {
     "data": {
      "text/plain": [
       "shape: (2, 1)\n",
       "┌──────┐\n",
       "│ CONV │\n",
       "│ ---  │\n",
       "│ i64  │\n",
       "╞══════╡\n",
       "│ null │\n",
       "│ 0    │\n",
       "└──────┘"
      ],
      "text/html": [
       "<div><style>\n",
       ".dataframe > thead > tr,\n",
       ".dataframe > tbody > tr {\n",
       "  text-align: right;\n",
       "  white-space: pre-wrap;\n",
       "}\n",
       "</style>\n",
       "<small>shape: (2, 1)</small><table border=\"1\" class=\"dataframe\"><thead><tr><th>CONV</th></tr><tr><td>i64</td></tr></thead><tbody><tr><td>null</td></tr><tr><td>0</td></tr></tbody></table></div>"
      ]
     },
     "execution_count": 20,
     "metadata": {},
     "output_type": "execute_result"
    }
   ],
   "execution_count": 20
  },
  {
   "metadata": {
    "ExecuteTime": {
     "end_time": "2024-04-29T20:24:36.035742Z",
     "start_time": "2024-04-29T20:24:36.031734Z"
    }
   },
   "cell_type": "code",
   "source": [
    "useless_cols = [\n",
    "    'company_symbol', # we do not need it\n",
    "    'TREASURY_MATURITY', # we do not need it\n",
    "    'CONV', # convertible bonds (we already removed all convertibles) \n",
    "    'mom6_1', # 6m momentum (we don't need it, we are going to calculate excess credit return ourselves) \n",
    "    'ltrev48_12', # sum of bond returns over 48months (momentum) \n",
    "    'TMT', # time to maturity in years (we have it in months in tmt) and TMT has NaNs while tmt does not\n",
    "    'DATE', # has NaNs while date does not\n",
    "    'CUSIP', # has Nans while cusip does not\n",
    "    'COUPON', # repeated in coupon and COUPON has NaNs while coupon does not\n",
    "]\n",
    "useless_rating_cols = ['R_SP', 'R_MR', 'R_FR', 'RATING_NUM', 'RATING_CAT', 'RATING_CLASS']\n",
    "\n",
    "bond_data = bond_data.drop(useless_cols + useless_rating_cols)"
   ],
   "id": "72d5973c2035f91d",
   "outputs": [],
   "execution_count": 21
  },
  {
   "metadata": {},
   "cell_type": "markdown",
   "source": "## Filling the data which is constant for every CUSIP",
   "id": "f20eebc7e9d8654"
  },
  {
   "metadata": {},
   "cell_type": "markdown",
   "source": "Some data is missing in some dates observations, but it is the same for all bonds. So, we fill the `null` values using the other date observations",
   "id": "a98d4484ce05e044"
  },
  {
   "metadata": {
    "ExecuteTime": {
     "end_time": "2024-04-29T20:25:58.878203Z",
     "start_time": "2024-04-29T20:25:58.872205Z"
    }
   },
   "cell_type": "code",
   "source": [
    "cols_to_fill = [\n",
    "    'DATED_DATE', \n",
    "    'OFFERING_DATE', \n",
    "    'DAY_COUNT_BASIS', \n",
    "    'MATURITY', \n",
    "    'NCOUPS', \n",
    "    'FIRST_INTEREST_DATE', \n",
    "    'DEFAULTED',\n",
    "    'ind_num_17',\n",
    "]"
   ],
   "id": "f3c76681bcad3f8d",
   "outputs": [],
   "execution_count": 23
  },
  {
   "metadata": {
    "ExecuteTime": {
     "end_time": "2024-04-29T20:25:59.264704Z",
     "start_time": "2024-04-29T20:25:59.257204Z"
    }
   },
   "cell_type": "code",
   "source": "bond_data.select(cols_to_fill).null_count()",
   "id": "9771f771456535b1",
   "outputs": [
    {
     "data": {
      "text/plain": [
       "shape: (1, 8)\n",
       "┌────────────┬─────────────┬─────────────┬──────────┬────────┬────────────┬───────────┬────────────┐\n",
       "│ DATED_DATE ┆ OFFERING_DA ┆ DAY_COUNT_B ┆ MATURITY ┆ NCOUPS ┆ FIRST_INTE ┆ DEFAULTED ┆ ind_num_17 │\n",
       "│ ---        ┆ TE          ┆ ASIS        ┆ ---      ┆ ---    ┆ REST_DATE  ┆ ---       ┆ ---        │\n",
       "│ u32        ┆ ---         ┆ ---         ┆ u32      ┆ u32    ┆ ---        ┆ u32       ┆ u32        │\n",
       "│            ┆ u32         ┆ u32         ┆          ┆        ┆ u32        ┆           ┆            │\n",
       "╞════════════╪═════════════╪═════════════╪══════════╪════════╪════════════╪═══════════╪════════════╡\n",
       "│ 81         ┆ 176         ┆ 178         ┆ 81       ┆ 81     ┆ 81         ┆ 81        ┆ 355758     │\n",
       "└────────────┴─────────────┴─────────────┴──────────┴────────┴────────────┴───────────┴────────────┘"
      ],
      "text/html": [
       "<div><style>\n",
       ".dataframe > thead > tr,\n",
       ".dataframe > tbody > tr {\n",
       "  text-align: right;\n",
       "  white-space: pre-wrap;\n",
       "}\n",
       "</style>\n",
       "<small>shape: (1, 8)</small><table border=\"1\" class=\"dataframe\"><thead><tr><th>DATED_DATE</th><th>OFFERING_DATE</th><th>DAY_COUNT_BASIS</th><th>MATURITY</th><th>NCOUPS</th><th>FIRST_INTEREST_DATE</th><th>DEFAULTED</th><th>ind_num_17</th></tr><tr><td>u32</td><td>u32</td><td>u32</td><td>u32</td><td>u32</td><td>u32</td><td>u32</td><td>u32</td></tr></thead><tbody><tr><td>81</td><td>176</td><td>178</td><td>81</td><td>81</td><td>81</td><td>81</td><td>355758</td></tr></tbody></table></div>"
      ]
     },
     "execution_count": 24,
     "metadata": {},
     "output_type": "execute_result"
    }
   ],
   "execution_count": 24
  },
  {
   "metadata": {
    "ExecuteTime": {
     "end_time": "2024-04-29T20:26:15.871203Z",
     "start_time": "2024-04-29T20:25:59.776204Z"
    }
   },
   "cell_type": "code",
   "source": [
    "# fill all DATED_DATE, OFFERING_DATE, MATURITY, and DAY_COUNT_BASIS since they are all the same for each issue\n",
    "grouped = bond_data.group_by('cusip')\n",
    "\n",
    "def fill_dates(group): \n",
    "    return group.with_columns(group.select(cols_to_fill).fill_null(strategy='forward').fill_null(strategy='backward'))\n",
    "    \n",
    "filled_data = grouped.map_groups(fill_dates).drop_nulls(subset=['DATED_DATE', 'OFFERING_DATE', 'MATURITY', 'NCOUPS'])\n",
    "n_dropped_cusips = bond_data.n_unique('cusip') - filled_data.n_unique('cusip')\n",
    "\n",
    "print(f'Removed {n_dropped_cusips} CUSIPs')\n",
    "bond_data = filled_data"
   ],
   "id": "4392267bac9e3d67",
   "outputs": [
    {
     "name": "stdout",
     "output_type": "stream",
     "text": [
      "Removed 2 CUSIPs\n"
     ]
    }
   ],
   "execution_count": 25
  },
  {
   "metadata": {
    "ExecuteTime": {
     "end_time": "2024-04-29T20:26:15.885202Z",
     "start_time": "2024-04-29T20:26:15.873203Z"
    }
   },
   "cell_type": "code",
   "source": "bond_data.select(cols_to_fill + ['coupon', 'date']).null_count()",
   "id": "ba14b43b29f1aef1",
   "outputs": [
    {
     "data": {
      "text/plain": [
       "shape: (1, 10)\n",
       "┌────────────┬──────────────┬──────────────┬──────────┬───┬───────────┬────────────┬────────┬──────┐\n",
       "│ DATED_DATE ┆ OFFERING_DAT ┆ DAY_COUNT_BA ┆ MATURITY ┆ … ┆ DEFAULTED ┆ ind_num_17 ┆ coupon ┆ date │\n",
       "│ ---        ┆ E            ┆ SIS          ┆ ---      ┆   ┆ ---       ┆ ---        ┆ ---    ┆ ---  │\n",
       "│ u32        ┆ ---          ┆ ---          ┆ u32      ┆   ┆ u32       ┆ u32        ┆ u32    ┆ u32  │\n",
       "│            ┆ u32          ┆ u32          ┆          ┆   ┆           ┆            ┆        ┆      │\n",
       "╞════════════╪══════════════╪══════════════╪══════════╪═══╪═══════════╪════════════╪════════╪══════╡\n",
       "│ 0          ┆ 0            ┆ 97           ┆ 0        ┆ … ┆ 0         ┆ 226100     ┆ 0      ┆ 0    │\n",
       "└────────────┴──────────────┴──────────────┴──────────┴───┴───────────┴────────────┴────────┴──────┘"
      ],
      "text/html": [
       "<div><style>\n",
       ".dataframe > thead > tr,\n",
       ".dataframe > tbody > tr {\n",
       "  text-align: right;\n",
       "  white-space: pre-wrap;\n",
       "}\n",
       "</style>\n",
       "<small>shape: (1, 10)</small><table border=\"1\" class=\"dataframe\"><thead><tr><th>DATED_DATE</th><th>OFFERING_DATE</th><th>DAY_COUNT_BASIS</th><th>MATURITY</th><th>NCOUPS</th><th>FIRST_INTEREST_DATE</th><th>DEFAULTED</th><th>ind_num_17</th><th>coupon</th><th>date</th></tr><tr><td>u32</td><td>u32</td><td>u32</td><td>u32</td><td>u32</td><td>u32</td><td>u32</td><td>u32</td><td>u32</td><td>u32</td></tr></thead><tbody><tr><td>0</td><td>0</td><td>97</td><td>0</td><td>0</td><td>0</td><td>0</td><td>226100</td><td>0</td><td>0</td></tr></tbody></table></div>"
      ]
     },
     "execution_count": 26,
     "metadata": {},
     "output_type": "execute_result"
    }
   ],
   "execution_count": 26
  },
  {
   "metadata": {},
   "cell_type": "markdown",
   "source": "## Remove defaulted bonds",
   "id": "d0a8b2c11af2d8ae"
  },
  {
   "metadata": {},
   "cell_type": "markdown",
   "source": "Remove the bonds which defaulted (`DEFAULTED==\"N\"`), since we don't want to consider distressed debt. The column is the same for each cusip and indicates if the bond defaulted at any time from offering date through maturity",
   "id": "14827057cd1d3a51"
  },
  {
   "metadata": {
    "ExecuteTime": {
     "end_time": "2024-04-29T20:26:20.376030Z",
     "start_time": "2024-04-29T20:26:20.336529Z"
    }
   },
   "cell_type": "code",
   "source": "bond_data.select('DEFAULTED').unique()",
   "id": "a60d5b45c805f702",
   "outputs": [
    {
     "data": {
      "text/plain": [
       "shape: (2, 1)\n",
       "┌───────────┐\n",
       "│ DEFAULTED │\n",
       "│ ---       │\n",
       "│ str       │\n",
       "╞═══════════╡\n",
       "│ N         │\n",
       "│ Y         │\n",
       "└───────────┘"
      ],
      "text/html": [
       "<div><style>\n",
       ".dataframe > thead > tr,\n",
       ".dataframe > tbody > tr {\n",
       "  text-align: right;\n",
       "  white-space: pre-wrap;\n",
       "}\n",
       "</style>\n",
       "<small>shape: (2, 1)</small><table border=\"1\" class=\"dataframe\"><thead><tr><th>DEFAULTED</th></tr><tr><td>str</td></tr></thead><tbody><tr><td>&quot;N&quot;</td></tr><tr><td>&quot;Y&quot;</td></tr></tbody></table></div>"
      ]
     },
     "execution_count": 27,
     "metadata": {},
     "output_type": "execute_result"
    }
   ],
   "execution_count": 27
  },
  {
   "metadata": {
    "ExecuteTime": {
     "end_time": "2024-04-29T20:27:54.163552Z",
     "start_time": "2024-04-29T20:27:54.149549Z"
    }
   },
   "cell_type": "code",
   "source": [
    "mask_defaulted = pl.col('DEFAULTED') == 'Y'\n",
    "cusips_defaulted = bond_data.filter(mask_defaulted).select('cusip').unique()\n",
    "print(f'Found {len(cusips_defaulted)} defaulted bonds')\n",
    "\n",
    "bond_data = bond_data.filter(~pl.col('cusip').is_in(cusips_defaulted))"
   ],
   "id": "2ce56a6bec53191d",
   "outputs": [
    {
     "name": "stdout",
     "output_type": "stream",
     "text": [
      "Found 0 defaulted bonds\n"
     ]
    }
   ],
   "execution_count": 30
  },
  {
   "metadata": {
    "ExecuteTime": {
     "end_time": "2024-04-29T20:28:03.736534Z",
     "start_time": "2024-04-29T20:28:03.686034Z"
    }
   },
   "cell_type": "code",
   "source": "bond_data.select('DEFAULTED').unique()",
   "id": "95301e219b2bb2b8",
   "outputs": [
    {
     "data": {
      "text/plain": [
       "shape: (1, 1)\n",
       "┌───────────┐\n",
       "│ DEFAULTED │\n",
       "│ ---       │\n",
       "│ str       │\n",
       "╞═══════════╡\n",
       "│ N         │\n",
       "└───────────┘"
      ],
      "text/html": [
       "<div><style>\n",
       ".dataframe > thead > tr,\n",
       ".dataframe > tbody > tr {\n",
       "  text-align: right;\n",
       "  white-space: pre-wrap;\n",
       "}\n",
       "</style>\n",
       "<small>shape: (1, 1)</small><table border=\"1\" class=\"dataframe\"><thead><tr><th>DEFAULTED</th></tr><tr><td>str</td></tr></thead><tbody><tr><td>&quot;N&quot;</td></tr></tbody></table></div>"
      ]
     },
     "execution_count": 31,
     "metadata": {},
     "output_type": "execute_result"
    }
   ],
   "execution_count": 31
  },
  {
   "metadata": {
    "ExecuteTime": {
     "end_time": "2024-04-29T20:28:24.187239Z",
     "start_time": "2024-04-29T20:28:24.183740Z"
    }
   },
   "cell_type": "code",
   "source": [
    "# now drop the defaulted column \n",
    "bond_data = bond_data.drop('DEFAULTED')"
   ],
   "id": "b7ed4b1e38bf3edb",
   "outputs": [],
   "execution_count": 32
  },
  {
   "metadata": {},
   "cell_type": "markdown",
   "source": "### Remove bonds which have a default date, even if they were not marked as defaulted initially",
   "id": "d63c994caedf5f9f"
  },
  {
   "metadata": {
    "ExecuteTime": {
     "end_time": "2024-04-29T20:35:19.390297Z",
     "start_time": "2024-04-29T20:35:19.361296Z"
    }
   },
   "cell_type": "code",
   "source": [
    "# remove bonds that have a default date different from null\n",
    "mask_defaulted = (pl.col('DEFAULT_DATE').is_not_null()) | (pl.col('DEFAULT_TYPE').is_not_null())\n",
    "cusips_defaulted = bond_data.filter(mask_defaulted).select('cusip').unique()\n",
    "\n",
    "# which are this percentage of the total\n",
    "pct_total = bond_data.filter(mask_defaulted).shape[0] / bond_data.shape[0]\n",
    "print(f'{pct_total*100:.2f}% of bonds have effectively defaulted')"
   ],
   "id": "e7ef801fcada6462",
   "outputs": [
    {
     "name": "stdout",
     "output_type": "stream",
     "text": [
      "2.61% of bonds have effectively defaulted\n"
     ]
    }
   ],
   "execution_count": 56
  },
  {
   "metadata": {
    "ExecuteTime": {
     "end_time": "2024-04-29T20:35:25.275052Z",
     "start_time": "2024-04-29T20:35:25.113051Z"
    }
   },
   "cell_type": "code",
   "source": "bond_data = bond_data.filter(~pl.col('cusip').is_in(cusips_defaulted))",
   "id": "f5b4165b3e1ec552",
   "outputs": [],
   "execution_count": 57
  },
  {
   "metadata": {},
   "cell_type": "markdown",
   "source": "### Remove bonds with prices below 10, which have effectively defaulted",
   "id": "2f7a18fa91ecc7c9"
  },
  {
   "metadata": {
    "ExecuteTime": {
     "end_time": "2024-04-29T20:35:45.296983Z",
     "start_time": "2024-04-29T20:35:45.278484Z"
    }
   },
   "cell_type": "code",
   "source": [
    "# remove bonds whose price is < 10\n",
    "mask_price_below_10 = pl.col('bondprc') < 10\n",
    "cusips_price_below_10 = bond_data.filter(mask_price_below_10).select('cusip').unique()\n",
    "\n",
    "# this is gonna remove this percentage of observations\n",
    "print(f'we are going to remove {bond_data.filter(mask_price_below_10).shape[0] / bond_data.shape[0] * 100:.2f}% of the observations')"
   ],
   "id": "d31cdb47b50c1c06",
   "outputs": [
    {
     "name": "stdout",
     "output_type": "stream",
     "text": [
      "we are going to remove 0.00% of the observations\n"
     ]
    }
   ],
   "execution_count": 59
  },
  {
   "metadata": {
    "ExecuteTime": {
     "end_time": "2024-04-29T20:35:51.020269Z",
     "start_time": "2024-04-29T20:35:50.826771Z"
    }
   },
   "cell_type": "code",
   "source": "bond_data = bond_data.filter(~pl.col('cusip').is_in(cusips_price_below_10))",
   "id": "ffcb3a8c4b42ab16",
   "outputs": [],
   "execution_count": 60
  },
  {
   "metadata": {
    "ExecuteTime": {
     "end_time": "2024-04-29T20:36:04.004527Z",
     "start_time": "2024-04-29T20:36:03.997526Z"
    }
   },
   "cell_type": "code",
   "source": "bond_data.select(['bondprc', 'bond_ret']).max()",
   "id": "37a8aae8489f557a",
   "outputs": [
    {
     "data": {
      "text/plain": [
       "shape: (1, 2)\n",
       "┌─────────┬──────────┐\n",
       "│ bondprc ┆ bond_ret │\n",
       "│ ---     ┆ ---      │\n",
       "│ f64     ┆ f64      │\n",
       "╞═════════╪══════════╡\n",
       "│ 188.919 ┆ 4.109004 │\n",
       "└─────────┴──────────┘"
      ],
      "text/html": [
       "<div><style>\n",
       ".dataframe > thead > tr,\n",
       ".dataframe > tbody > tr {\n",
       "  text-align: right;\n",
       "  white-space: pre-wrap;\n",
       "}\n",
       "</style>\n",
       "<small>shape: (1, 2)</small><table border=\"1\" class=\"dataframe\"><thead><tr><th>bondprc</th><th>bond_ret</th></tr><tr><td>f64</td><td>f64</td></tr></thead><tbody><tr><td>188.919</td><td>4.109004</td></tr></tbody></table></div>"
      ]
     },
     "execution_count": 63,
     "metadata": {},
     "output_type": "execute_result"
    }
   ],
   "execution_count": 63
  },
  {
   "metadata": {
    "ExecuteTime": {
     "end_time": "2024-04-29T20:36:10.757535Z",
     "start_time": "2024-04-29T20:36:10.740529Z"
    }
   },
   "cell_type": "code",
   "source": "bond_data.filter(pl.col('bond_ret') > 2) ",
   "id": "befcd941cdd8d9f8",
   "outputs": [
    {
     "data": {
      "text/plain": [
       "shape: (3, 84)\n",
       "┌────────┬────────────┬───────────┬────────────┬───┬───────────┬───────────┬───────────┬───────────┐\n",
       "│        ┆ date       ┆ cusip     ┆ exretn_t+1 ┆ … ┆ DEFAULT_D ┆ DEFAULT_T ┆ REINSTATE ┆ REINSTATE │\n",
       "│ ---    ┆ ---        ┆ ---       ┆ ---        ┆   ┆ ATE       ┆ YPE       ┆ D         ┆ D_DATE    │\n",
       "│ i64    ┆ date       ┆ str       ┆ f64        ┆   ┆ ---       ┆ ---       ┆ ---       ┆ ---       │\n",
       "│        ┆            ┆           ┆            ┆   ┆ str       ┆ str       ┆ str       ┆ str       │\n",
       "╞════════╪════════════╪═══════════╪════════════╪═══╪═══════════╪═══════════╪═══════════╪═══════════╡\n",
       "│ 41066  ┆ 2003-03-31 ┆ 124845AF5 ┆ 0.073916   ┆ … ┆ null      ┆ null      ┆ null      ┆ null      │\n",
       "│ 401003 ┆ 2009-04-30 ┆ 767754AD6 ┆ 0.399284   ┆ … ┆ null      ┆ null      ┆ null      ┆ null      │\n",
       "│ 400039 ┆ 2009-04-30 ┆ 552953AE1 ┆ 0.856278   ┆ … ┆ null      ┆ null      ┆ null      ┆ null      │\n",
       "└────────┴────────────┴───────────┴────────────┴───┴───────────┴───────────┴───────────┴───────────┘"
      ],
      "text/html": [
       "<div><style>\n",
       ".dataframe > thead > tr,\n",
       ".dataframe > tbody > tr {\n",
       "  text-align: right;\n",
       "  white-space: pre-wrap;\n",
       "}\n",
       "</style>\n",
       "<small>shape: (3, 84)</small><table border=\"1\" class=\"dataframe\"><thead><tr><th></th><th>date</th><th>cusip</th><th>exretn_t+1</th><th>exretnc_t+1</th><th>exretnc_dur_t+1</th><th>bond_ret_t+1</th><th>bond_ret</th><th>exretn</th><th>exretnc_dur</th><th>rating</th><th>cs</th><th>cs_6m_delta</th><th>bond_yield</th><th>bond_amount_out</th><th>offering_amt</th><th>bondprc</th><th>perc_par</th><th>tmt</th><th>duration</th><th>ind_num_17</th><th>sic_code</th><th>BOND_RET</th><th>ILLIQ</th><th>var95</th><th>n_trades_month</th><th>size_ig</th><th>size_jk</th><th>BOND_YIELD</th><th>CS</th><th>BONDPRC</th><th>PRFULL</th><th>CONVEXITY</th><th>CS_6M_DELTA</th><th>bond_value</th><th>BOND_VALUE</th><th>coupon</th><th>&hellip;</th><th>OFFERING_AMT</th><th>OFFERING_PRICE</th><th>PRINCIPAL_AMT</th><th>MATURITY</th><th>DAY_COUNT_BASIS</th><th>DATED_DATE</th><th>FIRST_INTEREST_DATE</th><th>LAST_INTEREST_DATE</th><th>NCOUPS</th><th>AMOUNT_OUTSTANDING</th><th>N_SP</th><th>N_MR</th><th>N_FR</th><th>T_DATE</th><th>T_Volume</th><th>T_DVolume</th><th>T_Spread</th><th>T_Yld_Pt</th><th>YIELD</th><th>PRICE_EOM</th><th>PRICE_LDM</th><th>PRICE_L5M</th><th>GAP</th><th>COUPMONTH</th><th>nextcoup</th><th>COUPAMT</th><th>COUPACC</th><th>MULTICOUPS</th><th>RET_EOM</th><th>RET_LDM</th><th>RET_L5M</th><th>REMCOUPS</th><th>DURATION_right</th><th>DEFAULT_DATE</th><th>DEFAULT_TYPE</th><th>REINSTATED</th><th>REINSTATED_DATE</th></tr><tr><td>i64</td><td>date</td><td>str</td><td>f64</td><td>f64</td><td>f64</td><td>f64</td><td>f64</td><td>f64</td><td>f64</td><td>f64</td><td>f64</td><td>f64</td><td>f64</td><td>f64</td><td>f64</td><td>f64</td><td>f64</td><td>f64</td><td>f64</td><td>f64</td><td>i64</td><td>f64</td><td>f64</td><td>f64</td><td>f64</td><td>f64</td><td>f64</td><td>f64</td><td>f64</td><td>f64</td><td>f64</td><td>f64</td><td>f64</td><td>f64</td><td>f64</td><td>f64</td><td>&hellip;</td><td>f64</td><td>f64</td><td>i64</td><td>date</td><td>str</td><td>date</td><td>date</td><td>date</td><td>i64</td><td>f64</td><td>i64</td><td>i64</td><td>i64</td><td>date</td><td>str</td><td>str</td><td>str</td><td>f64</td><td>str</td><td>f64</td><td>f64</td><td>f64</td><td>i64</td><td>i64</td><td>date</td><td>f64</td><td>f64</td><td>i64</td><td>str</td><td>str</td><td>str</td><td>i64</td><td>f64</td><td>str</td><td>str</td><td>str</td><td>str</td></tr></thead><tbody><tr><td>41066</td><td>2003-03-31</td><td>&quot;124845AF5&quot;</td><td>0.073916</td><td>0.065186</td><td>0.0741</td><td>0.074916</td><td>4.109004</td><td>4.108004</td><td>1.006014</td><td>7.0</td><td>0.028725</td><td>-0.197507</td><td>0.066983</td><td>52000.0</td><td>100000.0</td><td>104.75</td><td>1.0475</td><td>250.666667</td><td>10.645989</td><td>null</td><td>4833</td><td>-0.084855</td><td>1075.668501</td><td>0.053745</td><td>11.0</td><td>0.0</td><td>1.0</td><td>0.069402</td><td>0.029285</td><td>102.0</td><td>104.909383</td><td>166.371029</td><td>-0.230125</td><td>5.447e6</td><td>5.304e6</td><td>7.125</td><td>&hellip;</td><td>100000.0</td><td>99.94</td><td>1000</td><td>2023-11-01</td><td>&quot;30/360&quot;</td><td>1993-11-01</td><td>1994-05-01</td><td>2023-05-01</td><td>2</td><td>52000.0</td><td>7</td><td>7</td><td>null</td><td>2003-03-31</td><td>&quot;$1,380,000&quot;</td><td>&quot;$1,516,530&quot;</td><td>&quot;2.92%&quot;</td><td>6.2612</td><td>&quot;6.698%&quot;</td><td>104.8</td><td>104.8</td><td>104.8</td><td>1</td><td>106</td><td>2003-05-01</td><td>0.0</td><td>2.93</td><td>1</td><td>&quot;100.0%&quot;</td><td>&quot;100.0%&quot;</td><td>&quot;100.0%&quot;</td><td>42</td><td>10.65</td><td>null</td><td>null</td><td>null</td><td>null</td></tr><tr><td>401003</td><td>2009-04-30</td><td>&quot;767754AD6&quot;</td><td>0.399284</td><td>0.409103</td><td>0.403951</td><td>0.399284</td><td>2.11437</td><td>2.11427</td><td>1.006113</td><td>18.0</td><td>0.285359</td><td>-0.260136</td><td>0.297752</td><td>200000.0</td><td>200000.0</td><td>46.419635</td><td>0.464196</td><td>52.266667</td><td>2.958653</td><td>15.0</td><td>5912</td><td>1.494702</td><td>148.198838</td><td>0.172771</td><td>20.0</td><td>1.0</td><td>1.0</td><td>0.287631</td><td>0.274718</td><td>47.8813</td><td>49.294494</td><td>11.682567</td><td>-0.272488</td><td>9.283927e6</td><td>9.57626e6</td><td>6.875</td><td>&hellip;</td><td>200000.0</td><td>99.567</td><td>1000</td><td>2013-08-15</td><td>&quot;30/360&quot;</td><td>1993-08-15</td><td>1994-02-15</td><td>2013-02-15</td><td>2</td><td>200000.0</td><td>18</td><td>20</td><td>20</td><td>2009-04-30</td><td>&quot;$24,704,000&quot;</td><td>&quot;$8,099,475&quot;</td><td>&quot;11.15%&quot;</td><td>40.7088</td><td>&quot;29.78%&quot;</td><td>46.4</td><td>46.4</td><td>46.4</td><td>1</td><td>182</td><td>2009-08-15</td><td>0.0</td><td>1.39</td><td>1</td><td>&quot;100.0%&quot;</td><td>&quot;100.0%&quot;</td><td>&quot;100.0%&quot;</td><td>9</td><td>2.96</td><td>null</td><td>null</td><td>null</td><td>null</td></tr><tr><td>400039</td><td>2009-04-30</td><td>&quot;552953AE1&quot;</td><td>0.856278</td><td>0.85559</td><td>0.855746</td><td>0.856278</td><td>2.62259</td><td>2.62249</td><td>0.998527</td><td>14.0</td><td>0.705536</td><td>0.670527</td><td>0.710783</td><td>400000.0</td><td>400000.0</td><td>42.001685</td><td>0.420017</td><td>21.4</td><td>1.143808</td><td>17.0</td><td>7993</td><td>0.515159</td><td>-13.468802</td><td>0.473948</td><td>19.0</td><td>1.0</td><td>1.0</td><td>0.995276</td><td>0.99027</td><td>30.4842</td><td>32.554686</td><td>1.450528</td><td>1.029699</td><td>1.6800674e7</td><td>1.219368e7</td><td>8.375</td><td>&hellip;</td><td>400000.0</td><td>100.0</td><td>1000</td><td>2011-02-01</td><td>&quot;30/360&quot;</td><td>2001-01-23</td><td>2001-08-01</td><td>2010-08-01</td><td>2</td><td>400000.0</td><td>14</td><td>20</td><td>21</td><td>2009-04-30</td><td>&quot;$152,760,000&quot;</td><td>&quot;$45,941,559&quot;</td><td>&quot;6.62%&quot;</td><td>98.3948</td><td>&quot;71.08%&quot;</td><td>42.0</td><td>42.0</td><td>42.0</td><td>1</td><td>92</td><td>2009-08-01</td><td>0.0</td><td>2.02</td><td>1</td><td>&quot;100.0%&quot;</td><td>&quot;100.0%&quot;</td><td>&quot;100.0%&quot;</td><td>4</td><td>1.14</td><td>null</td><td>null</td><td>null</td><td>null</td></tr></tbody></table></div>"
      ]
     },
     "execution_count": 64,
     "metadata": {},
     "output_type": "execute_result"
    }
   ],
   "execution_count": 64
  },
  {
   "metadata": {},
   "cell_type": "markdown",
   "source": "## Remove extra long maturities (>30 years) and bonds maturing in <1y",
   "id": "73edaf2021e074fd"
  },
  {
   "metadata": {
    "ExecuteTime": {
     "end_time": "2024-04-29T20:29:55.963527Z",
     "start_time": "2024-04-29T20:29:55.642526Z"
    }
   },
   "cell_type": "code",
   "source": [
    "mask_long_maturities = pl.col('tmt') / 12 < 30\n",
    "bond_data.filter(mask_long_maturities).shape[0] / bond_data.shape[0]"
   ],
   "id": "b5cd59bd2f1042ec",
   "outputs": [
    {
     "data": {
      "text/plain": [
       "0.9790509657974658"
      ]
     },
     "execution_count": 33,
     "metadata": {},
     "output_type": "execute_result"
    }
   ],
   "execution_count": 33
  },
  {
   "metadata": {
    "ExecuteTime": {
     "end_time": "2024-04-29T20:29:57.197029Z",
     "start_time": "2024-04-29T20:29:56.995032Z"
    }
   },
   "cell_type": "code",
   "source": "bond_data = bond_data.filter(mask_long_maturities)",
   "id": "4a68011c335a2396",
   "outputs": [],
   "execution_count": 34
  },
  {
   "metadata": {
    "ExecuteTime": {
     "end_time": "2024-04-29T20:29:57.872528Z",
     "start_time": "2024-04-29T20:29:57.845029Z"
    }
   },
   "cell_type": "code",
   "source": [
    "mask_short_maturities = pl.col('tmt') > 12\n",
    "bond_data.filter(mask_short_maturities).shape[0] / bond_data.shape[0]"
   ],
   "id": "35e6ed54233296a2",
   "outputs": [
    {
     "data": {
      "text/plain": [
       "1.0"
      ]
     },
     "execution_count": 35,
     "metadata": {},
     "output_type": "execute_result"
    }
   ],
   "execution_count": 35
  },
  {
   "metadata": {
    "ExecuteTime": {
     "end_time": "2024-04-29T20:29:58.994537Z",
     "start_time": "2024-04-29T20:29:58.989037Z"
    }
   },
   "cell_type": "code",
   "source": "bond_data = bond_data.filter(mask_short_maturities)",
   "id": "a73f73bac1a311a",
   "outputs": [],
   "execution_count": 36
  },
  {
   "metadata": {},
   "cell_type": "markdown",
   "source": "## Remove zero coupon bonds",
   "id": "1415acb9f8e5460d"
  },
  {
   "metadata": {
    "ExecuteTime": {
     "end_time": "2024-04-29T20:31:48.602535Z",
     "start_time": "2024-04-29T20:31:48.564535Z"
    }
   },
   "cell_type": "code",
   "source": [
    "mask_zcb = pl.col('NCOUPS') == 0\n",
    "cusips_zcb = bond_data.filter(mask_zcb).select('cusip').unique()\n",
    "\n",
    "print(f'found {len(cusips_zcb)} ZCB bonds ({len(cusips_zcb) / bond_data.n_unique('cusip') * 100:.2f}%)')\n",
    "\n",
    "bond_data = bond_data.filter(~pl.col('cusip').is_in(cusips_zcb))"
   ],
   "id": "16525c4b49cd68af",
   "outputs": [
    {
     "name": "stdout",
     "output_type": "stream",
     "text": [
      "found 0 ZCB bonds (0.00%)\n"
     ]
    }
   ],
   "execution_count": 40
  },
  {
   "metadata": {},
   "cell_type": "markdown",
   "source": "## Fix the outliers where the DATED_DATE is after the first coupon",
   "id": "964d5305cae2261f"
  },
  {
   "metadata": {
    "ExecuteTime": {
     "end_time": "2024-04-29T20:31:55.645528Z",
     "start_time": "2024-04-29T20:31:55.640028Z"
    }
   },
   "cell_type": "code",
   "source": "bond_data.select(pl.col('FIRST_INTEREST_DATE')).null_count()",
   "id": "68071e94e83be25e",
   "outputs": [
    {
     "data": {
      "text/plain": [
       "shape: (1, 1)\n",
       "┌─────────────────────┐\n",
       "│ FIRST_INTEREST_DATE │\n",
       "│ ---                 │\n",
       "│ u32                 │\n",
       "╞═════════════════════╡\n",
       "│ 0                   │\n",
       "└─────────────────────┘"
      ],
      "text/html": [
       "<div><style>\n",
       ".dataframe > thead > tr,\n",
       ".dataframe > tbody > tr {\n",
       "  text-align: right;\n",
       "  white-space: pre-wrap;\n",
       "}\n",
       "</style>\n",
       "<small>shape: (1, 1)</small><table border=\"1\" class=\"dataframe\"><thead><tr><th>FIRST_INTEREST_DATE</th></tr><tr><td>u32</td></tr></thead><tbody><tr><td>0</td></tr></tbody></table></div>"
      ]
     },
     "execution_count": 41,
     "metadata": {},
     "output_type": "execute_result"
    }
   ],
   "execution_count": 41
  },
  {
   "metadata": {
    "ExecuteTime": {
     "end_time": "2024-04-29T20:31:58.634431Z",
     "start_time": "2024-04-29T20:31:58.006434Z"
    }
   },
   "cell_type": "code",
   "source": [
    "bond_data_fixed = bond_data.with_columns(\n",
    "    DATED_DATE = pl.when((pl.col('FIRST_INTEREST_DATE') < pl.col('DATED_DATE'))).then(pl.col('OFFERING_DATE')).otherwise(pl.col('DATED_DATE'))\n",
    ")\n",
    "\n",
    "bond_data = bond_data_fixed\n",
    "to_fix_mask = pl.col('FIRST_INTEREST_DATE') < pl.col('OFFERING_DATE')\n",
    "\n",
    "while bond_data.filter(to_fix_mask).n_unique('cusip') > 0:      \n",
    "    bond_data = bond_data.with_columns(\n",
    "        FIRST_INTEREST_DATE=pl\n",
    "            .when(to_fix_mask & (pl.col('NCOUPS') == 2)).then(pl.col('FIRST_INTEREST_DATE').dt.offset_by('6mo'))\n",
    "            .when(to_fix_mask & (pl.col('NCOUPS') == 4)).then(pl.col('FIRST_INTEREST_DATE').dt.offset_by('3mo'))\n",
    "            .when(to_fix_mask & (pl.col('NCOUPS') == 12)).then(pl.col('FIRST_INTEREST_DATE').dt.offset_by('1mo'))\n",
    "            .otherwise(pl.col('FIRST_INTEREST_DATE'))\n",
    "    )"
   ],
   "id": "a8195ef3ff6c859b",
   "outputs": [],
   "execution_count": 42
  },
  {
   "metadata": {
    "ExecuteTime": {
     "end_time": "2024-04-29T20:31:58.897065Z",
     "start_time": "2024-04-29T20:31:58.892065Z"
    }
   },
   "cell_type": "code",
   "source": "bond_data.select(pl.col('FIRST_INTEREST_DATE')).null_count()",
   "id": "f63ea8039d1bf2bd",
   "outputs": [
    {
     "data": {
      "text/plain": [
       "shape: (1, 1)\n",
       "┌─────────────────────┐\n",
       "│ FIRST_INTEREST_DATE │\n",
       "│ ---                 │\n",
       "│ u32                 │\n",
       "╞═════════════════════╡\n",
       "│ 0                   │\n",
       "└─────────────────────┘"
      ],
      "text/html": [
       "<div><style>\n",
       ".dataframe > thead > tr,\n",
       ".dataframe > tbody > tr {\n",
       "  text-align: right;\n",
       "  white-space: pre-wrap;\n",
       "}\n",
       "</style>\n",
       "<small>shape: (1, 1)</small><table border=\"1\" class=\"dataframe\"><thead><tr><th>FIRST_INTEREST_DATE</th></tr><tr><td>u32</td></tr></thead><tbody><tr><td>0</td></tr></tbody></table></div>"
      ]
     },
     "execution_count": 43,
     "metadata": {},
     "output_type": "execute_result"
    }
   ],
   "execution_count": 43
  },
  {
   "metadata": {
    "ExecuteTime": {
     "end_time": "2024-04-29T20:32:00.231753Z",
     "start_time": "2024-04-29T20:32:00.225253Z"
    }
   },
   "cell_type": "code",
   "source": "bond_data.filter(pl.col('FIRST_INTEREST_DATE') < pl.col('OFFERING_DATE')).n_unique('cusip')",
   "id": "5625eb91b7a03b96",
   "outputs": [
    {
     "data": {
      "text/plain": [
       "0"
      ]
     },
     "execution_count": 44,
     "metadata": {},
     "output_type": "execute_result"
    }
   ],
   "execution_count": 44
  },
  {
   "metadata": {},
   "cell_type": "markdown",
   "source": "## Filter to bonds where we have a minimum number of observations",
   "id": "3f7e6b3c2f518349"
  },
  {
   "metadata": {
    "ExecuteTime": {
     "end_time": "2024-04-29T20:32:31.386518Z",
     "start_time": "2024-04-29T20:32:31.382016Z"
    }
   },
   "cell_type": "code",
   "source": "bond_data.shape",
   "id": "383fc617b255ff09",
   "outputs": [
    {
     "data": {
      "text/plain": [
       "(1357235, 84)"
      ]
     },
     "execution_count": 45,
     "metadata": {},
     "output_type": "execute_result"
    }
   ],
   "execution_count": 45
  },
  {
   "metadata": {
    "ExecuteTime": {
     "end_time": "2024-04-29T20:33:05.094610Z",
     "start_time": "2024-04-29T20:33:03.089610Z"
    }
   },
   "cell_type": "code",
   "source": [
    "# at least 36 months of observations (bond returns) to work on\n",
    "cusips_min_obs_thres = bond_data.group_by('cusip').n_unique().filter(pl.col('bond_ret') >= 36).select('cusip')\n",
    "total_cusips = bond_data.n_unique('cusip')\n",
    "print(f'we have {len(cusips_min_obs_thres)} CUSIPs we can work on out of {total_cusips} ({len(cusips_min_obs_thres) / total_cusips * 100:.2f}%)')\n"
   ],
   "id": "cd516b94f6e93b8f",
   "outputs": [
    {
     "name": "stdout",
     "output_type": "stream",
     "text": [
      "we have 11716 CUSIPs we can work on out of 25660 (45.66%)\n"
     ]
    }
   ],
   "execution_count": 46
  },
  {
   "metadata": {
    "ExecuteTime": {
     "end_time": "2024-04-29T20:33:08.041537Z",
     "start_time": "2024-04-29T20:33:07.855539Z"
    }
   },
   "cell_type": "code",
   "source": "bond_data = bond_data.filter(pl.col('cusip').is_in(cusips_min_obs_thres))",
   "id": "ea11fa46db002ee6",
   "outputs": [],
   "execution_count": 47
  },
  {
   "metadata": {
    "ExecuteTime": {
     "end_time": "2024-04-29T20:33:09.487275Z",
     "start_time": "2024-04-29T20:33:09.482273Z"
    }
   },
   "cell_type": "code",
   "source": "bond_data.shape",
   "id": "232d86c3a52f982a",
   "outputs": [
    {
     "data": {
      "text/plain": [
       "(1008198, 84)"
      ]
     },
     "execution_count": 48,
     "metadata": {},
     "output_type": "execute_result"
    }
   ],
   "execution_count": 48
  },
  {
   "metadata": {},
   "cell_type": "markdown",
   "source": "## Abnormal Prices",
   "id": "17de6cfc5174b45e"
  },
  {
   "metadata": {},
   "cell_type": "markdown",
   "source": "Some bonds have abnormal prices, way above par. We remove them. ",
   "id": "fc65df9448d8415c"
  },
  {
   "metadata": {
    "ExecuteTime": {
     "end_time": "2024-04-29T20:33:43.652270Z",
     "start_time": "2024-04-29T20:33:43.640769Z"
    }
   },
   "cell_type": "code",
   "source": [
    "mask_price_above_200 = pl.col('bondprc') > 200\n",
    "\n",
    "bond_data.filter(mask_price_above_200).select('cusip').unique()"
   ],
   "id": "c600f8b064e4d118",
   "outputs": [
    {
     "data": {
      "text/plain": [
       "shape: (8, 1)\n",
       "┌───────────┐\n",
       "│ cusip     │\n",
       "│ ---       │\n",
       "│ str       │\n",
       "╞═══════════╡\n",
       "│ 767754BD5 │\n",
       "│ 277461BD0 │\n",
       "│ 27746QAE4 │\n",
       "│ 85590AAD6 │\n",
       "│ 364760AG3 │\n",
       "│ 63858REN7 │\n",
       "│ 826428AH7 │\n",
       "│ 718592AB4 │\n",
       "└───────────┘"
      ],
      "text/html": [
       "<div><style>\n",
       ".dataframe > thead > tr,\n",
       ".dataframe > tbody > tr {\n",
       "  text-align: right;\n",
       "  white-space: pre-wrap;\n",
       "}\n",
       "</style>\n",
       "<small>shape: (8, 1)</small><table border=\"1\" class=\"dataframe\"><thead><tr><th>cusip</th></tr><tr><td>str</td></tr></thead><tbody><tr><td>&quot;767754BD5&quot;</td></tr><tr><td>&quot;277461BD0&quot;</td></tr><tr><td>&quot;27746QAE4&quot;</td></tr><tr><td>&quot;85590AAD6&quot;</td></tr><tr><td>&quot;364760AG3&quot;</td></tr><tr><td>&quot;63858REN7&quot;</td></tr><tr><td>&quot;826428AH7&quot;</td></tr><tr><td>&quot;718592AB4&quot;</td></tr></tbody></table></div>"
      ]
     },
     "execution_count": 51,
     "metadata": {},
     "output_type": "execute_result"
    }
   ],
   "execution_count": 51
  },
  {
   "metadata": {
    "ExecuteTime": {
     "end_time": "2024-04-29T20:34:06.122528Z",
     "start_time": "2024-04-29T20:34:05.957529Z"
    }
   },
   "cell_type": "code",
   "source": [
    "cusips_abnormal_prices = bond_data.filter(mask_price_above_200).select('cusip').unique()\n",
    "print(f'found {len(cusips_abnormal_prices)} bonds with price above 200')\n",
    "bond_data = bond_data.filter(~pl.col('cusip').is_in(cusips_abnormal_prices))"
   ],
   "id": "b6d07b4858b4afc7",
   "outputs": [
    {
     "name": "stdout",
     "output_type": "stream",
     "text": [
      "found 8 bonds with price above 200\n"
     ]
    }
   ],
   "execution_count": 52
  },
  {
   "metadata": {
    "ExecuteTime": {
     "end_time": "2024-04-29T20:34:10.328278Z",
     "start_time": "2024-04-29T20:34:10.303777Z"
    }
   },
   "cell_type": "code",
   "source": "bond_data.filter(mask_price_above_200).select('cusip').unique()",
   "id": "781569c707cf55f6",
   "outputs": [
    {
     "data": {
      "text/plain": [
       "shape: (0, 1)\n",
       "┌───────┐\n",
       "│ cusip │\n",
       "│ ---   │\n",
       "│ str   │\n",
       "╞═══════╡\n",
       "└───────┘"
      ],
      "text/html": [
       "<div><style>\n",
       ".dataframe > thead > tr,\n",
       ".dataframe > tbody > tr {\n",
       "  text-align: right;\n",
       "  white-space: pre-wrap;\n",
       "}\n",
       "</style>\n",
       "<small>shape: (0, 1)</small><table border=\"1\" class=\"dataframe\"><thead><tr><th>cusip</th></tr><tr><td>str</td></tr></thead><tbody></tbody></table></div>"
      ]
     },
     "execution_count": 53,
     "metadata": {},
     "output_type": "execute_result"
    }
   ],
   "execution_count": 53
  },
  {
   "metadata": {},
   "cell_type": "markdown",
   "source": "## Looking at the data more closely",
   "id": "b7b1641a745b1206"
  },
  {
   "metadata": {
    "ExecuteTime": {
     "end_time": "2024-04-29T20:36:28.973771Z",
     "start_time": "2024-04-29T20:36:28.965769Z"
    }
   },
   "cell_type": "code",
   "source": "bond_data.null_count()",
   "id": "48dc057dbeaf3da7",
   "outputs": [
    {
     "data": {
      "text/plain": [
       "shape: (1, 84)\n",
       "┌─────┬──────┬───────┬────────────┬───┬──────────────┬──────────────┬────────────┬─────────────────┐\n",
       "│     ┆ date ┆ cusip ┆ exretn_t+1 ┆ … ┆ DEFAULT_DATE ┆ DEFAULT_TYPE ┆ REINSTATED ┆ REINSTATED_DATE │\n",
       "│ --- ┆ ---  ┆ ---   ┆ ---        ┆   ┆ ---          ┆ ---          ┆ ---        ┆ ---             │\n",
       "│ u32 ┆ u32  ┆ u32   ┆ u32        ┆   ┆ u32          ┆ u32          ┆ u32        ┆ u32             │\n",
       "╞═════╪══════╪═══════╪════════════╪═══╪══════════════╪══════════════╪════════════╪═════════════════╡\n",
       "│ 0   ┆ 0    ┆ 0     ┆ 161319     ┆ … ┆ 978379       ┆ 978379       ┆ 978379     ┆ 978379          │\n",
       "└─────┴──────┴───────┴────────────┴───┴──────────────┴──────────────┴────────────┴─────────────────┘"
      ],
      "text/html": [
       "<div><style>\n",
       ".dataframe > thead > tr,\n",
       ".dataframe > tbody > tr {\n",
       "  text-align: right;\n",
       "  white-space: pre-wrap;\n",
       "}\n",
       "</style>\n",
       "<small>shape: (1, 84)</small><table border=\"1\" class=\"dataframe\"><thead><tr><th></th><th>date</th><th>cusip</th><th>exretn_t+1</th><th>exretnc_t+1</th><th>exretnc_dur_t+1</th><th>bond_ret_t+1</th><th>bond_ret</th><th>exretn</th><th>exretnc_dur</th><th>rating</th><th>cs</th><th>cs_6m_delta</th><th>bond_yield</th><th>bond_amount_out</th><th>offering_amt</th><th>bondprc</th><th>perc_par</th><th>tmt</th><th>duration</th><th>ind_num_17</th><th>sic_code</th><th>BOND_RET</th><th>ILLIQ</th><th>var95</th><th>n_trades_month</th><th>size_ig</th><th>size_jk</th><th>BOND_YIELD</th><th>CS</th><th>BONDPRC</th><th>PRFULL</th><th>CONVEXITY</th><th>CS_6M_DELTA</th><th>bond_value</th><th>BOND_VALUE</th><th>coupon</th><th>&hellip;</th><th>OFFERING_AMT</th><th>OFFERING_PRICE</th><th>PRINCIPAL_AMT</th><th>MATURITY</th><th>DAY_COUNT_BASIS</th><th>DATED_DATE</th><th>FIRST_INTEREST_DATE</th><th>LAST_INTEREST_DATE</th><th>NCOUPS</th><th>AMOUNT_OUTSTANDING</th><th>N_SP</th><th>N_MR</th><th>N_FR</th><th>T_DATE</th><th>T_Volume</th><th>T_DVolume</th><th>T_Spread</th><th>T_Yld_Pt</th><th>YIELD</th><th>PRICE_EOM</th><th>PRICE_LDM</th><th>PRICE_L5M</th><th>GAP</th><th>COUPMONTH</th><th>nextcoup</th><th>COUPAMT</th><th>COUPACC</th><th>MULTICOUPS</th><th>RET_EOM</th><th>RET_LDM</th><th>RET_L5M</th><th>REMCOUPS</th><th>DURATION_right</th><th>DEFAULT_DATE</th><th>DEFAULT_TYPE</th><th>REINSTATED</th><th>REINSTATED_DATE</th></tr><tr><td>u32</td><td>u32</td><td>u32</td><td>u32</td><td>u32</td><td>u32</td><td>u32</td><td>u32</td><td>u32</td><td>u32</td><td>u32</td><td>u32</td><td>u32</td><td>u32</td><td>u32</td><td>u32</td><td>u32</td><td>u32</td><td>u32</td><td>u32</td><td>u32</td><td>u32</td><td>u32</td><td>u32</td><td>u32</td><td>u32</td><td>u32</td><td>u32</td><td>u32</td><td>u32</td><td>u32</td><td>u32</td><td>u32</td><td>u32</td><td>u32</td><td>u32</td><td>u32</td><td>&hellip;</td><td>u32</td><td>u32</td><td>u32</td><td>u32</td><td>u32</td><td>u32</td><td>u32</td><td>u32</td><td>u32</td><td>u32</td><td>u32</td><td>u32</td><td>u32</td><td>u32</td><td>u32</td><td>u32</td><td>u32</td><td>u32</td><td>u32</td><td>u32</td><td>u32</td><td>u32</td><td>u32</td><td>u32</td><td>u32</td><td>u32</td><td>u32</td><td>u32</td><td>u32</td><td>u32</td><td>u32</td><td>u32</td><td>u32</td><td>u32</td><td>u32</td><td>u32</td><td>u32</td></tr></thead><tbody><tr><td>0</td><td>0</td><td>0</td><td>161319</td><td>163556</td><td>163556</td><td>161319</td><td>158090</td><td>158090</td><td>160370</td><td>0</td><td>4743</td><td>71495</td><td>4657</td><td>0</td><td>0</td><td>89083</td><td>89083</td><td>0</td><td>210</td><td>90324</td><td>0</td><td>64917</td><td>99157</td><td>382015</td><td>61981</td><td>0</td><td>0</td><td>29515</td><td>29515</td><td>29515</td><td>29515</td><td>29515</td><td>110641</td><td>89083</td><td>29515</td><td>0</td><td>&hellip;</td><td>6</td><td>164457</td><td>6</td><td>0</td><td>94</td><td>0</td><td>0</td><td>6</td><td>0</td><td>238</td><td>5699</td><td>33185</td><td>264310</td><td>6</td><td>6</td><td>6</td><td>74022</td><td>25945</td><td>4662</td><td>6</td><td>356602</td><td>89111</td><td>7573</td><td>45266</td><td>6</td><td>6</td><td>6</td><td>6</td><td>18967</td><td>510409</td><td>158120</td><td>6</td><td>4748</td><td>978379</td><td>978379</td><td>978379</td><td>978379</td></tr></tbody></table></div>"
      ]
     },
     "execution_count": 65,
     "metadata": {},
     "output_type": "execute_result"
    }
   ],
   "execution_count": 65
  },
  {
   "metadata": {
    "ExecuteTime": {
     "end_time": "2024-04-29T20:36:32.298874Z",
     "start_time": "2024-04-29T20:36:31.585377Z"
    }
   },
   "cell_type": "code",
   "source": "bond_data.group_by('cusip').agg(pl.all().null_count()).sort('bond_ret', descending=True)",
   "id": "6802a3705b34228a",
   "outputs": [
    {
     "data": {
      "text/plain": [
       "shape: (11_324, 84)\n",
       "┌───────────┬─────┬──────┬────────────┬───┬──────────────┬──────────────┬────────────┬─────────────┐\n",
       "│ cusip     ┆     ┆ date ┆ exretn_t+1 ┆ … ┆ DEFAULT_DATE ┆ DEFAULT_TYPE ┆ REINSTATED ┆ REINSTATED_ │\n",
       "│ ---       ┆ --- ┆ ---  ┆ ---        ┆   ┆ ---          ┆ ---          ┆ ---        ┆ DATE        │\n",
       "│ str       ┆ u32 ┆ u32  ┆ u32        ┆   ┆ u32          ┆ u32          ┆ u32        ┆ ---         │\n",
       "│           ┆     ┆      ┆            ┆   ┆              ┆              ┆            ┆ u32         │\n",
       "╞═══════════╪═════╪══════╪════════════╪═══╪══════════════╪══════════════╪════════════╪═════════════╡\n",
       "│ 278058AW2 ┆ 0   ┆ 0    ┆ 166        ┆ … ┆ 220          ┆ 220          ┆ 220        ┆ 220         │\n",
       "│ 505588AY9 ┆ 0   ┆ 0    ┆ 162        ┆ … ┆ 202          ┆ 202          ┆ 202        ┆ 202         │\n",
       "│ 029163AD4 ┆ 0   ┆ 0    ┆ 160        ┆ … ┆ 210          ┆ 210          ┆ 210        ┆ 210         │\n",
       "│ 49337WAC4 ┆ 0   ┆ 0    ┆ 161        ┆ … ┆ 205          ┆ 205          ┆ 205        ┆ 205         │\n",
       "│ 078167BA0 ┆ 0   ┆ 0    ┆ 159        ┆ … ┆ 207          ┆ 207          ┆ 207        ┆ 207         │\n",
       "│ …         ┆ …   ┆ …    ┆ …          ┆ … ┆ …            ┆ …            ┆ …          ┆ …           │\n",
       "│ 852060AC6 ┆ 0   ┆ 0    ┆ 1          ┆ … ┆ 63           ┆ 63           ┆ 63         ┆ 63          │\n",
       "│ 700690AH3 ┆ 0   ┆ 0    ┆ 1          ┆ … ┆ 42           ┆ 42           ┆ 42         ┆ 42          │\n",
       "│ 68389XAW5 ┆ 0   ┆ 0    ┆ 1          ┆ … ┆ 94           ┆ 94           ┆ 94         ┆ 94          │\n",
       "│ 345402L41 ┆ 0   ┆ 0    ┆ 1          ┆ … ┆ 92           ┆ 92           ┆ 92         ┆ 92          │\n",
       "│ 761713BB1 ┆ 0   ┆ 0    ┆ 1          ┆ … ┆ 81           ┆ 81           ┆ 81         ┆ 81          │\n",
       "└───────────┴─────┴──────┴────────────┴───┴──────────────┴──────────────┴────────────┴─────────────┘"
      ],
      "text/html": [
       "<div><style>\n",
       ".dataframe > thead > tr,\n",
       ".dataframe > tbody > tr {\n",
       "  text-align: right;\n",
       "  white-space: pre-wrap;\n",
       "}\n",
       "</style>\n",
       "<small>shape: (11_324, 84)</small><table border=\"1\" class=\"dataframe\"><thead><tr><th>cusip</th><th></th><th>date</th><th>exretn_t+1</th><th>exretnc_t+1</th><th>exretnc_dur_t+1</th><th>bond_ret_t+1</th><th>bond_ret</th><th>exretn</th><th>exretnc_dur</th><th>rating</th><th>cs</th><th>cs_6m_delta</th><th>bond_yield</th><th>bond_amount_out</th><th>offering_amt</th><th>bondprc</th><th>perc_par</th><th>tmt</th><th>duration</th><th>ind_num_17</th><th>sic_code</th><th>BOND_RET</th><th>ILLIQ</th><th>var95</th><th>n_trades_month</th><th>size_ig</th><th>size_jk</th><th>BOND_YIELD</th><th>CS</th><th>BONDPRC</th><th>PRFULL</th><th>CONVEXITY</th><th>CS_6M_DELTA</th><th>bond_value</th><th>BOND_VALUE</th><th>coupon</th><th>&hellip;</th><th>OFFERING_AMT</th><th>OFFERING_PRICE</th><th>PRINCIPAL_AMT</th><th>MATURITY</th><th>DAY_COUNT_BASIS</th><th>DATED_DATE</th><th>FIRST_INTEREST_DATE</th><th>LAST_INTEREST_DATE</th><th>NCOUPS</th><th>AMOUNT_OUTSTANDING</th><th>N_SP</th><th>N_MR</th><th>N_FR</th><th>T_DATE</th><th>T_Volume</th><th>T_DVolume</th><th>T_Spread</th><th>T_Yld_Pt</th><th>YIELD</th><th>PRICE_EOM</th><th>PRICE_LDM</th><th>PRICE_L5M</th><th>GAP</th><th>COUPMONTH</th><th>nextcoup</th><th>COUPAMT</th><th>COUPACC</th><th>MULTICOUPS</th><th>RET_EOM</th><th>RET_LDM</th><th>RET_L5M</th><th>REMCOUPS</th><th>DURATION_right</th><th>DEFAULT_DATE</th><th>DEFAULT_TYPE</th><th>REINSTATED</th><th>REINSTATED_DATE</th></tr><tr><td>str</td><td>u32</td><td>u32</td><td>u32</td><td>u32</td><td>u32</td><td>u32</td><td>u32</td><td>u32</td><td>u32</td><td>u32</td><td>u32</td><td>u32</td><td>u32</td><td>u32</td><td>u32</td><td>u32</td><td>u32</td><td>u32</td><td>u32</td><td>u32</td><td>u32</td><td>u32</td><td>u32</td><td>u32</td><td>u32</td><td>u32</td><td>u32</td><td>u32</td><td>u32</td><td>u32</td><td>u32</td><td>u32</td><td>u32</td><td>u32</td><td>u32</td><td>u32</td><td>&hellip;</td><td>u32</td><td>u32</td><td>u32</td><td>u32</td><td>u32</td><td>u32</td><td>u32</td><td>u32</td><td>u32</td><td>u32</td><td>u32</td><td>u32</td><td>u32</td><td>u32</td><td>u32</td><td>u32</td><td>u32</td><td>u32</td><td>u32</td><td>u32</td><td>u32</td><td>u32</td><td>u32</td><td>u32</td><td>u32</td><td>u32</td><td>u32</td><td>u32</td><td>u32</td><td>u32</td><td>u32</td><td>u32</td><td>u32</td><td>u32</td><td>u32</td><td>u32</td><td>u32</td></tr></thead><tbody><tr><td>&quot;278058AW2&quot;</td><td>0</td><td>0</td><td>166</td><td>166</td><td>166</td><td>166</td><td>165</td><td>165</td><td>165</td><td>0</td><td>0</td><td>20</td><td>0</td><td>0</td><td>0</td><td>104</td><td>104</td><td>0</td><td>0</td><td>0</td><td>0</td><td>109</td><td>151</td><td>165</td><td>105</td><td>0</td><td>0</td><td>51</td><td>51</td><td>51</td><td>51</td><td>51</td><td>94</td><td>104</td><td>51</td><td>0</td><td>&hellip;</td><td>0</td><td>0</td><td>0</td><td>0</td><td>0</td><td>0</td><td>0</td><td>0</td><td>0</td><td>0</td><td>0</td><td>0</td><td>0</td><td>0</td><td>0</td><td>0</td><td>88</td><td>0</td><td>0</td><td>0</td><td>186</td><td>104</td><td>0</td><td>0</td><td>0</td><td>0</td><td>0</td><td>0</td><td>19</td><td>217</td><td>165</td><td>0</td><td>0</td><td>220</td><td>220</td><td>220</td><td>220</td></tr><tr><td>&quot;505588AY9&quot;</td><td>0</td><td>0</td><td>162</td><td>162</td><td>162</td><td>162</td><td>162</td><td>162</td><td>162</td><td>0</td><td>0</td><td>28</td><td>0</td><td>0</td><td>0</td><td>104</td><td>104</td><td>0</td><td>0</td><td>202</td><td>0</td><td>160</td><td>187</td><td>185</td><td>165</td><td>0</td><td>0</td><td>118</td><td>118</td><td>118</td><td>118</td><td>118</td><td>168</td><td>104</td><td>118</td><td>0</td><td>&hellip;</td><td>0</td><td>0</td><td>0</td><td>0</td><td>0</td><td>0</td><td>0</td><td>0</td><td>0</td><td>0</td><td>0</td><td>0</td><td>51</td><td>0</td><td>0</td><td>0</td><td>41</td><td>0</td><td>0</td><td>0</td><td>166</td><td>104</td><td>1</td><td>0</td><td>0</td><td>0</td><td>0</td><td>0</td><td>23</td><td>197</td><td>162</td><td>0</td><td>0</td><td>202</td><td>202</td><td>202</td><td>202</td></tr><tr><td>&quot;029163AD4&quot;</td><td>0</td><td>0</td><td>160</td><td>160</td><td>160</td><td>160</td><td>160</td><td>160</td><td>160</td><td>0</td><td>0</td><td>27</td><td>0</td><td>0</td><td>0</td><td>99</td><td>99</td><td>0</td><td>0</td><td>0</td><td>0</td><td>87</td><td>126</td><td>160</td><td>82</td><td>0</td><td>0</td><td>44</td><td>44</td><td>44</td><td>44</td><td>44</td><td>80</td><td>99</td><td>44</td><td>0</td><td>&hellip;</td><td>0</td><td>210</td><td>0</td><td>0</td><td>0</td><td>0</td><td>0</td><td>0</td><td>0</td><td>0</td><td>0</td><td>0</td><td>58</td><td>0</td><td>0</td><td>0</td><td>64</td><td>82</td><td>0</td><td>0</td><td>172</td><td>99</td><td>0</td><td>0</td><td>0</td><td>0</td><td>0</td><td>0</td><td>23</td><td>204</td><td>160</td><td>0</td><td>0</td><td>210</td><td>210</td><td>210</td><td>210</td></tr><tr><td>&quot;49337WAC4&quot;</td><td>0</td><td>0</td><td>161</td><td>161</td><td>161</td><td>161</td><td>160</td><td>160</td><td>160</td><td>0</td><td>0</td><td>27</td><td>0</td><td>0</td><td>0</td><td>104</td><td>104</td><td>0</td><td>0</td><td>0</td><td>0</td><td>111</td><td>147</td><td>163</td><td>107</td><td>0</td><td>0</td><td>59</td><td>59</td><td>59</td><td>59</td><td>59</td><td>101</td><td>104</td><td>59</td><td>0</td><td>&hellip;</td><td>0</td><td>0</td><td>0</td><td>0</td><td>0</td><td>0</td><td>0</td><td>0</td><td>0</td><td>0</td><td>0</td><td>0</td><td>42</td><td>0</td><td>0</td><td>0</td><td>90</td><td>0</td><td>0</td><td>0</td><td>171</td><td>104</td><td>0</td><td>0</td><td>0</td><td>0</td><td>0</td><td>0</td><td>28</td><td>199</td><td>160</td><td>0</td><td>0</td><td>205</td><td>205</td><td>205</td><td>205</td></tr><tr><td>&quot;078167BA0&quot;</td><td>0</td><td>0</td><td>159</td><td>159</td><td>159</td><td>159</td><td>159</td><td>159</td><td>159</td><td>0</td><td>0</td><td>31</td><td>0</td><td>0</td><td>0</td><td>101</td><td>101</td><td>0</td><td>0</td><td>207</td><td>0</td><td>108</td><td>143</td><td>159</td><td>103</td><td>0</td><td>0</td><td>57</td><td>57</td><td>57</td><td>57</td><td>57</td><td>102</td><td>101</td><td>57</td><td>0</td><td>&hellip;</td><td>0</td><td>0</td><td>0</td><td>0</td><td>0</td><td>0</td><td>0</td><td>0</td><td>0</td><td>0</td><td>0</td><td>115</td><td>0</td><td>0</td><td>0</td><td>0</td><td>73</td><td>10</td><td>0</td><td>0</td><td>173</td><td>101</td><td>0</td><td>0</td><td>0</td><td>0</td><td>0</td><td>0</td><td>20</td><td>202</td><td>159</td><td>0</td><td>0</td><td>207</td><td>207</td><td>207</td><td>207</td></tr><tr><td>&hellip;</td><td>&hellip;</td><td>&hellip;</td><td>&hellip;</td><td>&hellip;</td><td>&hellip;</td><td>&hellip;</td><td>&hellip;</td><td>&hellip;</td><td>&hellip;</td><td>&hellip;</td><td>&hellip;</td><td>&hellip;</td><td>&hellip;</td><td>&hellip;</td><td>&hellip;</td><td>&hellip;</td><td>&hellip;</td><td>&hellip;</td><td>&hellip;</td><td>&hellip;</td><td>&hellip;</td><td>&hellip;</td><td>&hellip;</td><td>&hellip;</td><td>&hellip;</td><td>&hellip;</td><td>&hellip;</td><td>&hellip;</td><td>&hellip;</td><td>&hellip;</td><td>&hellip;</td><td>&hellip;</td><td>&hellip;</td><td>&hellip;</td><td>&hellip;</td><td>&hellip;</td><td>&hellip;</td><td>&hellip;</td><td>&hellip;</td><td>&hellip;</td><td>&hellip;</td><td>&hellip;</td><td>&hellip;</td><td>&hellip;</td><td>&hellip;</td><td>&hellip;</td><td>&hellip;</td><td>&hellip;</td><td>&hellip;</td><td>&hellip;</td><td>&hellip;</td><td>&hellip;</td><td>&hellip;</td><td>&hellip;</td><td>&hellip;</td><td>&hellip;</td><td>&hellip;</td><td>&hellip;</td><td>&hellip;</td><td>&hellip;</td><td>&hellip;</td><td>&hellip;</td><td>&hellip;</td><td>&hellip;</td><td>&hellip;</td><td>&hellip;</td><td>&hellip;</td><td>&hellip;</td><td>&hellip;</td><td>&hellip;</td><td>&hellip;</td><td>&hellip;</td><td>&hellip;</td><td>&hellip;</td></tr><tr><td>&quot;852060AC6&quot;</td><td>0</td><td>0</td><td>1</td><td>1</td><td>1</td><td>1</td><td>0</td><td>0</td><td>0</td><td>0</td><td>0</td><td>0</td><td>0</td><td>0</td><td>0</td><td>0</td><td>0</td><td>0</td><td>0</td><td>0</td><td>0</td><td>0</td><td>0</td><td>0</td><td>0</td><td>0</td><td>0</td><td>0</td><td>0</td><td>0</td><td>0</td><td>0</td><td>6</td><td>0</td><td>0</td><td>0</td><td>&hellip;</td><td>0</td><td>0</td><td>0</td><td>0</td><td>0</td><td>0</td><td>0</td><td>0</td><td>0</td><td>0</td><td>0</td><td>0</td><td>0</td><td>0</td><td>0</td><td>0</td><td>0</td><td>0</td><td>0</td><td>0</td><td>2</td><td>0</td><td>0</td><td>0</td><td>0</td><td>0</td><td>0</td><td>0</td><td>0</td><td>4</td><td>0</td><td>0</td><td>0</td><td>63</td><td>63</td><td>63</td><td>63</td></tr><tr><td>&quot;700690AH3&quot;</td><td>0</td><td>0</td><td>1</td><td>1</td><td>1</td><td>1</td><td>0</td><td>0</td><td>0</td><td>0</td><td>0</td><td>0</td><td>0</td><td>0</td><td>0</td><td>0</td><td>0</td><td>0</td><td>0</td><td>0</td><td>0</td><td>0</td><td>0</td><td>0</td><td>0</td><td>0</td><td>0</td><td>0</td><td>0</td><td>0</td><td>0</td><td>0</td><td>6</td><td>0</td><td>0</td><td>0</td><td>&hellip;</td><td>0</td><td>42</td><td>0</td><td>0</td><td>0</td><td>0</td><td>0</td><td>0</td><td>0</td><td>0</td><td>0</td><td>0</td><td>0</td><td>0</td><td>0</td><td>0</td><td>0</td><td>0</td><td>0</td><td>0</td><td>15</td><td>0</td><td>0</td><td>0</td><td>0</td><td>0</td><td>0</td><td>0</td><td>0</td><td>26</td><td>0</td><td>0</td><td>0</td><td>42</td><td>42</td><td>42</td><td>42</td></tr><tr><td>&quot;68389XAW5&quot;</td><td>0</td><td>0</td><td>1</td><td>1</td><td>1</td><td>1</td><td>0</td><td>0</td><td>0</td><td>0</td><td>0</td><td>1</td><td>0</td><td>0</td><td>0</td><td>0</td><td>0</td><td>0</td><td>0</td><td>0</td><td>0</td><td>0</td><td>0</td><td>18</td><td>0</td><td>0</td><td>0</td><td>0</td><td>0</td><td>0</td><td>0</td><td>0</td><td>1</td><td>0</td><td>0</td><td>0</td><td>&hellip;</td><td>0</td><td>0</td><td>0</td><td>0</td><td>0</td><td>0</td><td>0</td><td>0</td><td>0</td><td>0</td><td>0</td><td>0</td><td>0</td><td>0</td><td>0</td><td>0</td><td>1</td><td>0</td><td>0</td><td>0</td><td>20</td><td>0</td><td>0</td><td>1</td><td>0</td><td>0</td><td>0</td><td>0</td><td>0</td><td>36</td><td>0</td><td>0</td><td>0</td><td>94</td><td>94</td><td>94</td><td>94</td></tr><tr><td>&quot;345402L41&quot;</td><td>0</td><td>0</td><td>1</td><td>1</td><td>1</td><td>1</td><td>0</td><td>0</td><td>0</td><td>0</td><td>0</td><td>6</td><td>0</td><td>0</td><td>0</td><td>0</td><td>0</td><td>0</td><td>0</td><td>92</td><td>0</td><td>0</td><td>1</td><td>23</td><td>0</td><td>0</td><td>0</td><td>0</td><td>0</td><td>0</td><td>0</td><td>0</td><td>6</td><td>0</td><td>0</td><td>0</td><td>&hellip;</td><td>0</td><td>0</td><td>0</td><td>0</td><td>0</td><td>0</td><td>0</td><td>0</td><td>0</td><td>0</td><td>0</td><td>0</td><td>0</td><td>0</td><td>0</td><td>0</td><td>0</td><td>0</td><td>0</td><td>0</td><td>28</td><td>0</td><td>0</td><td>0</td><td>0</td><td>0</td><td>0</td><td>0</td><td>0</td><td>47</td><td>0</td><td>0</td><td>0</td><td>92</td><td>92</td><td>92</td><td>92</td></tr><tr><td>&quot;761713BB1&quot;</td><td>0</td><td>0</td><td>1</td><td>1</td><td>1</td><td>1</td><td>0</td><td>0</td><td>0</td><td>0</td><td>0</td><td>0</td><td>0</td><td>0</td><td>0</td><td>0</td><td>0</td><td>0</td><td>0</td><td>0</td><td>0</td><td>0</td><td>0</td><td>17</td><td>0</td><td>0</td><td>0</td><td>0</td><td>0</td><td>0</td><td>0</td><td>0</td><td>0</td><td>0</td><td>0</td><td>0</td><td>&hellip;</td><td>0</td><td>0</td><td>0</td><td>0</td><td>0</td><td>0</td><td>0</td><td>0</td><td>0</td><td>0</td><td>0</td><td>0</td><td>19</td><td>0</td><td>0</td><td>0</td><td>0</td><td>0</td><td>0</td><td>0</td><td>4</td><td>0</td><td>0</td><td>0</td><td>0</td><td>0</td><td>0</td><td>0</td><td>0</td><td>7</td><td>0</td><td>0</td><td>0</td><td>81</td><td>81</td><td>81</td><td>81</td></tr></tbody></table></div>"
      ]
     },
     "execution_count": 66,
     "metadata": {},
     "output_type": "execute_result"
    }
   ],
   "execution_count": 66
  },
  {
   "metadata": {
    "ExecuteTime": {
     "end_time": "2024-04-29T20:36:38.052812Z",
     "start_time": "2024-04-29T20:36:37.425811Z"
    }
   },
   "cell_type": "code",
   "source": [
    "# percentage of nan values for the bond returns\n",
    "(bond_data.group_by('cusip').agg([pl.all().null_count(), pl.col('bond_ret').len().alias('count')])\n",
    "    .select('cusip', 'date', 'bond_ret', 'bond_ret_t+1', 'count')\n",
    "    .with_columns(pl.all().exclude('cusip', 'count') / pl.col('count'))\n",
    "    .sort('bond_ret', descending=True)\n",
    "    .filter(pl.col('bond_ret') < 0.5)\n",
    " )"
   ],
   "id": "3cb27f274bcfed8b",
   "outputs": [
    {
     "data": {
      "text/plain": [
       "shape: (10_691, 5)\n",
       "┌───────────┬──────┬──────────┬──────────────┬───────┐\n",
       "│ cusip     ┆ date ┆ bond_ret ┆ bond_ret_t+1 ┆ count │\n",
       "│ ---       ┆ ---  ┆ ---      ┆ ---          ┆ ---   │\n",
       "│ str       ┆ f64  ┆ f64      ┆ f64          ┆ u32   │\n",
       "╞═══════════╪══════╪══════════╪══════════════╪═══════╡\n",
       "│ 976826BE6 ┆ 0.0  ┆ 0.49711  ┆ 0.49711      ┆ 173   │\n",
       "│ 039483AH5 ┆ 0.0  ┆ 0.496933 ┆ 0.496933     ┆ 163   │\n",
       "│ 740816AD5 ┆ 0.0  ┆ 0.496503 ┆ 0.496503     ┆ 143   │\n",
       "│ 706451BD2 ┆ 0.0  ┆ 0.496403 ┆ 0.496403     ┆ 139   │\n",
       "│ 755111AF8 ┆ 0.0  ┆ 0.495726 ┆ 0.5          ┆ 234   │\n",
       "│ …         ┆ …    ┆ …        ┆ …            ┆ …     │\n",
       "│ 655664AM2 ┆ 0.0  ┆ 0.0      ┆ 0.020833     ┆ 48    │\n",
       "│ 46625HRS1 ┆ 0.0  ┆ 0.0      ┆ 0.013158     ┆ 76    │\n",
       "│ 02003MBQ6 ┆ 0.0  ┆ 0.0      ┆ 0.020833     ┆ 48    │\n",
       "│ 620076AN9 ┆ 0.0  ┆ 0.0      ┆ 0.016129     ┆ 62    │\n",
       "│ 459200AQ4 ┆ 0.0  ┆ 0.0      ┆ 0.020833     ┆ 48    │\n",
       "└───────────┴──────┴──────────┴──────────────┴───────┘"
      ],
      "text/html": [
       "<div><style>\n",
       ".dataframe > thead > tr,\n",
       ".dataframe > tbody > tr {\n",
       "  text-align: right;\n",
       "  white-space: pre-wrap;\n",
       "}\n",
       "</style>\n",
       "<small>shape: (10_691, 5)</small><table border=\"1\" class=\"dataframe\"><thead><tr><th>cusip</th><th>date</th><th>bond_ret</th><th>bond_ret_t+1</th><th>count</th></tr><tr><td>str</td><td>f64</td><td>f64</td><td>f64</td><td>u32</td></tr></thead><tbody><tr><td>&quot;976826BE6&quot;</td><td>0.0</td><td>0.49711</td><td>0.49711</td><td>173</td></tr><tr><td>&quot;039483AH5&quot;</td><td>0.0</td><td>0.496933</td><td>0.496933</td><td>163</td></tr><tr><td>&quot;740816AD5&quot;</td><td>0.0</td><td>0.496503</td><td>0.496503</td><td>143</td></tr><tr><td>&quot;706451BD2&quot;</td><td>0.0</td><td>0.496403</td><td>0.496403</td><td>139</td></tr><tr><td>&quot;755111AF8&quot;</td><td>0.0</td><td>0.495726</td><td>0.5</td><td>234</td></tr><tr><td>&hellip;</td><td>&hellip;</td><td>&hellip;</td><td>&hellip;</td><td>&hellip;</td></tr><tr><td>&quot;655664AM2&quot;</td><td>0.0</td><td>0.0</td><td>0.020833</td><td>48</td></tr><tr><td>&quot;46625HRS1&quot;</td><td>0.0</td><td>0.0</td><td>0.013158</td><td>76</td></tr><tr><td>&quot;02003MBQ6&quot;</td><td>0.0</td><td>0.0</td><td>0.020833</td><td>48</td></tr><tr><td>&quot;620076AN9&quot;</td><td>0.0</td><td>0.0</td><td>0.016129</td><td>62</td></tr><tr><td>&quot;459200AQ4&quot;</td><td>0.0</td><td>0.0</td><td>0.020833</td><td>48</td></tr></tbody></table></div>"
      ]
     },
     "execution_count": 67,
     "metadata": {},
     "output_type": "execute_result"
    }
   ],
   "execution_count": 67
  },
  {
   "metadata": {},
   "cell_type": "markdown",
   "source": "This may still a bit high, but it could further reduce our investable universe (which is already at 45% something of the initial total)",
   "id": "33aad737ff03ded6"
  },
  {
   "metadata": {},
   "cell_type": "markdown",
   "source": "# Merging with Equity Data",
   "id": "74def9d4dcb29bd7"
  },
  {
   "metadata": {},
   "cell_type": "markdown",
   "source": "We will be performing several `join_asof`, where data needs to be first sorted by date, to merge the equity data to the bond returns data we already have, and to precisely link each bond with its PERMNO",
   "id": "104387c38910338c"
  },
  {
   "metadata": {},
   "cell_type": "markdown",
   "source": "## Linking the bond CUSIP to PERMNOs using WRDS",
   "id": "ffabad16de587a4e"
  },
  {
   "metadata": {},
   "cell_type": "markdown",
   "source": "Export the list of cusips",
   "id": "99ca18e66b5fdee5"
  },
  {
   "metadata": {
    "ExecuteTime": {
     "end_time": "2024-04-29T20:40:34.020720Z",
     "start_time": "2024-04-29T20:40:33.963222Z"
    }
   },
   "cell_type": "code",
   "source": "write_txt(bond_data, 'cusip', '../../data/wrds_queries_files/cusips_list.txt')",
   "id": "b5f4eb8849f0e12e",
   "outputs": [],
   "execution_count": 72
  },
  {
   "metadata": {},
   "cell_type": "markdown",
   "source": "Download the csv linking cusip to permno from WRDS, and import it",
   "id": "d184fe186c0358be"
  },
  {
   "metadata": {
    "ExecuteTime": {
     "end_time": "2024-04-29T20:41:47.349531Z",
     "start_time": "2024-04-29T20:41:47.339028Z"
    }
   },
   "cell_type": "code",
   "source": [
    "cusip_permno_mapping = pl.read_csv('../../data/wrds_queries_files/cusips_to_permno_dataset.csv', try_parse_dates=True)\n",
    "\n",
    "cusip_permno_mapping.head()"
   ],
   "id": "998217fc151837df",
   "outputs": [
    {
     "data": {
      "text/plain": [
       "shape: (5, 5)\n",
       "┌───────────┬────────┬────────┬──────────────┬────────────┐\n",
       "│ cusip     ┆ PERMNO ┆ PERMCO ┆ link_startdt ┆ link_enddt │\n",
       "│ ---       ┆ ---    ┆ ---    ┆ ---          ┆ ---        │\n",
       "│ str       ┆ i64    ┆ i64    ┆ date         ┆ date       │\n",
       "╞═══════════╪════════╪════════╪══════════════╪════════════╡\n",
       "│ 00037BAA0 ┆ 88953  ┆ 41444  ┆ 2012-05-03   ┆ 2012-05-04 │\n",
       "│ 00037BAA0 ┆ 88953  ┆ 41444  ┆ 2012-05-03   ┆ 2017-05-02 │\n",
       "│ 00037BAB8 ┆ 88953  ┆ 41444  ┆ 2012-05-03   ┆ 2012-05-04 │\n",
       "│ 00037BAB8 ┆ 88953  ┆ 41444  ┆ 2012-05-03   ┆ 2022-05-05 │\n",
       "│ 00037BAC6 ┆ 88953  ┆ 41444  ┆ 2012-05-03   ┆ 2023-05-22 │\n",
       "└───────────┴────────┴────────┴──────────────┴────────────┘"
      ],
      "text/html": [
       "<div><style>\n",
       ".dataframe > thead > tr,\n",
       ".dataframe > tbody > tr {\n",
       "  text-align: right;\n",
       "  white-space: pre-wrap;\n",
       "}\n",
       "</style>\n",
       "<small>shape: (5, 5)</small><table border=\"1\" class=\"dataframe\"><thead><tr><th>cusip</th><th>PERMNO</th><th>PERMCO</th><th>link_startdt</th><th>link_enddt</th></tr><tr><td>str</td><td>i64</td><td>i64</td><td>date</td><td>date</td></tr></thead><tbody><tr><td>&quot;00037BAA0&quot;</td><td>88953</td><td>41444</td><td>2012-05-03</td><td>2012-05-04</td></tr><tr><td>&quot;00037BAA0&quot;</td><td>88953</td><td>41444</td><td>2012-05-03</td><td>2017-05-02</td></tr><tr><td>&quot;00037BAB8&quot;</td><td>88953</td><td>41444</td><td>2012-05-03</td><td>2012-05-04</td></tr><tr><td>&quot;00037BAB8&quot;</td><td>88953</td><td>41444</td><td>2012-05-03</td><td>2022-05-05</td></tr><tr><td>&quot;00037BAC6&quot;</td><td>88953</td><td>41444</td><td>2012-05-03</td><td>2023-05-22</td></tr></tbody></table></div>"
      ]
     },
     "execution_count": 73,
     "metadata": {},
     "output_type": "execute_result"
    }
   ],
   "execution_count": 73
  },
  {
   "metadata": {},
   "cell_type": "markdown",
   "source": "An example of bond which was associated with two PERMNOs across its existence",
   "id": "aeec695bbcdfe111"
  },
  {
   "metadata": {
    "ExecuteTime": {
     "end_time": "2024-04-29T20:42:01.377298Z",
     "start_time": "2024-04-29T20:42:01.371295Z"
    }
   },
   "cell_type": "code",
   "source": "cusip_permno_mapping.filter(pl.col('cusip') == \"87612BAP7\")",
   "id": "6cf6dce1456b8203",
   "outputs": [
    {
     "data": {
      "text/plain": [
       "shape: (2, 5)\n",
       "┌───────────┬────────┬────────┬──────────────┬────────────┐\n",
       "│ cusip     ┆ PERMNO ┆ PERMCO ┆ link_startdt ┆ link_enddt │\n",
       "│ ---       ┆ ---    ┆ ---    ┆ ---          ┆ ---        │\n",
       "│ str       ┆ i64    ┆ i64    ┆ date         ┆ date       │\n",
       "╞═══════════╪════════╪════════╪══════════════╪════════════╡\n",
       "│ 87612BAP7 ┆ 12476  ┆ 53621  ┆ 2018-03-19   ┆ 2021-05-17 │\n",
       "│ 87612BAP7 ┆ 91823  ┆ 51812  ┆ 2014-05-21   ┆ 2016-02-16 │\n",
       "└───────────┴────────┴────────┴──────────────┴────────────┘"
      ],
      "text/html": [
       "<div><style>\n",
       ".dataframe > thead > tr,\n",
       ".dataframe > tbody > tr {\n",
       "  text-align: right;\n",
       "  white-space: pre-wrap;\n",
       "}\n",
       "</style>\n",
       "<small>shape: (2, 5)</small><table border=\"1\" class=\"dataframe\"><thead><tr><th>cusip</th><th>PERMNO</th><th>PERMCO</th><th>link_startdt</th><th>link_enddt</th></tr><tr><td>str</td><td>i64</td><td>i64</td><td>date</td><td>date</td></tr></thead><tbody><tr><td>&quot;87612BAP7&quot;</td><td>12476</td><td>53621</td><td>2018-03-19</td><td>2021-05-17</td></tr><tr><td>&quot;87612BAP7&quot;</td><td>91823</td><td>51812</td><td>2014-05-21</td><td>2016-02-16</td></tr></tbody></table></div>"
      ]
     },
     "execution_count": 76,
     "metadata": {},
     "output_type": "execute_result"
    }
   ],
   "execution_count": 76
  },
  {
   "metadata": {},
   "cell_type": "markdown",
   "source": "Perform an asof join. The mode is backward, so that each cusip is associated to the permno only after the link_startd date",
   "id": "e35ca81adc631d7"
  },
  {
   "metadata": {
    "ExecuteTime": {
     "end_time": "2024-04-29T20:43:03.385058Z",
     "start_time": "2024-04-29T20:43:02.890558Z"
    }
   },
   "cell_type": "code",
   "source": [
    "cusip_permno_mapping = cusip_permno_mapping.sort('link_startdt')\n",
    "bond_data = bond_data.sort('date')\n",
    "\n",
    "bond_data = bond_data.join_asof(\n",
    "    cusip_permno_mapping,\n",
    "    left_on='date',\n",
    "    right_on='link_startdt',\n",
    "    by_left=['cusip'],\n",
    "    by_right=['cusip'],\n",
    "    strategy='backward'\n",
    ")"
   ],
   "id": "d3915e8a0b5a33bf",
   "outputs": [],
   "execution_count": 77
  },
  {
   "metadata": {
    "ExecuteTime": {
     "end_time": "2024-04-29T20:46:29.252312Z",
     "start_time": "2024-04-29T20:46:28.111312Z"
    }
   },
   "cell_type": "code",
   "source": "bond_data.group_by('cusip').n_unique().select('PERMNO').to_series().value_counts()",
   "id": "8f2f5b629b46a77b",
   "outputs": [
    {
     "data": {
      "text/plain": [
       "shape: (4, 2)\n",
       "┌────────┬───────┐\n",
       "│ PERMNO ┆ count │\n",
       "│ ---    ┆ ---   │\n",
       "│ u32    ┆ u32   │\n",
       "╞════════╪═══════╡\n",
       "│ 1      ┆ 9853  │\n",
       "│ 4      ┆ 1     │\n",
       "│ 2      ┆ 1321  │\n",
       "│ 3      ┆ 149   │\n",
       "└────────┴───────┘"
      ],
      "text/html": [
       "<div><style>\n",
       ".dataframe > thead > tr,\n",
       ".dataframe > tbody > tr {\n",
       "  text-align: right;\n",
       "  white-space: pre-wrap;\n",
       "}\n",
       "</style>\n",
       "<small>shape: (4, 2)</small><table border=\"1\" class=\"dataframe\"><thead><tr><th>PERMNO</th><th>count</th></tr><tr><td>u32</td><td>u32</td></tr></thead><tbody><tr><td>1</td><td>9853</td></tr><tr><td>4</td><td>1</td></tr><tr><td>2</td><td>1321</td></tr><tr><td>3</td><td>149</td></tr></tbody></table></div>"
      ]
     },
     "execution_count": 79,
     "metadata": {},
     "output_type": "execute_result"
    }
   ],
   "execution_count": 79
  },
  {
   "metadata": {},
   "cell_type": "markdown",
   "source": "Let's see how many bonds were not matched",
   "id": "4350a90e914fad30"
  },
  {
   "metadata": {
    "ExecuteTime": {
     "end_time": "2024-04-29T20:46:31.028038Z",
     "start_time": "2024-04-29T20:46:30.845539Z"
    }
   },
   "cell_type": "code",
   "source": "bond_data.filter(pl.col('PERMNO').is_null()).n_unique('cusip') / bond_data.n_unique('cusip')",
   "id": "a49a9a2541c4b68d",
   "outputs": [
    {
     "data": {
      "text/plain": [
       "0.09510773578240904"
      ]
     },
     "execution_count": 80,
     "metadata": {},
     "output_type": "execute_result"
    }
   ],
   "execution_count": 80
  },
  {
   "metadata": {
    "ExecuteTime": {
     "end_time": "2024-04-29T20:46:37.344528Z",
     "start_time": "2024-04-29T20:46:37.283530Z"
    }
   },
   "cell_type": "code",
   "source": "bond_data.group_by('cusip').agg(pl.col('PERMNO').null_count()).sort('PERMNO', descending=True)",
   "id": "d7ff8ef58e7a1d3d",
   "outputs": [
    {
     "data": {
      "text/plain": [
       "shape: (11_324, 2)\n",
       "┌───────────┬────────┐\n",
       "│ cusip     ┆ PERMNO │\n",
       "│ ---       ┆ ---    │\n",
       "│ str       ┆ u32    │\n",
       "╞═══════════╪════════╡\n",
       "│ 595620AB1 ┆ 237    │\n",
       "│ 751277AQ7 ┆ 205    │\n",
       "│ 129466AM0 ┆ 195    │\n",
       "│ 59562VAM9 ┆ 193    │\n",
       "│ 59562EAH8 ┆ 187    │\n",
       "│ …         ┆ …      │\n",
       "│ 743315AN3 ┆ 0      │\n",
       "│ 58013MEL4 ┆ 0      │\n",
       "│ 404119BQ1 ┆ 0      │\n",
       "│ 90131HBW4 ┆ 0      │\n",
       "│ 140909AD4 ┆ 0      │\n",
       "└───────────┴────────┘"
      ],
      "text/html": [
       "<div><style>\n",
       ".dataframe > thead > tr,\n",
       ".dataframe > tbody > tr {\n",
       "  text-align: right;\n",
       "  white-space: pre-wrap;\n",
       "}\n",
       "</style>\n",
       "<small>shape: (11_324, 2)</small><table border=\"1\" class=\"dataframe\"><thead><tr><th>cusip</th><th>PERMNO</th></tr><tr><td>str</td><td>u32</td></tr></thead><tbody><tr><td>&quot;595620AB1&quot;</td><td>237</td></tr><tr><td>&quot;751277AQ7&quot;</td><td>205</td></tr><tr><td>&quot;129466AM0&quot;</td><td>195</td></tr><tr><td>&quot;59562VAM9&quot;</td><td>193</td></tr><tr><td>&quot;59562EAH8&quot;</td><td>187</td></tr><tr><td>&hellip;</td><td>&hellip;</td></tr><tr><td>&quot;743315AN3&quot;</td><td>0</td></tr><tr><td>&quot;58013MEL4&quot;</td><td>0</td></tr><tr><td>&quot;404119BQ1&quot;</td><td>0</td></tr><tr><td>&quot;90131HBW4&quot;</td><td>0</td></tr><tr><td>&quot;140909AD4&quot;</td><td>0</td></tr></tbody></table></div>"
      ]
     },
     "execution_count": 81,
     "metadata": {},
     "output_type": "execute_result"
    }
   ],
   "execution_count": 81
  },
  {
   "metadata": {},
   "cell_type": "markdown",
   "source": "Try to forward fill the PERMNO column",
   "id": "462bd9269458e906"
  },
  {
   "metadata": {
    "ExecuteTime": {
     "end_time": "2024-04-29T20:47:10.552312Z",
     "start_time": "2024-04-29T20:47:05.739814Z"
    }
   },
   "cell_type": "code",
   "source": [
    "# fill all DATED_DATE, OFFERING_DATE, MATURITY, and DAY_COUNT_BASIS since they are all the same for each issue\n",
    "grouped = bond_data.group_by('cusip')\n",
    "\n",
    "def fill_dates(group): \n",
    "    return group.with_columns(group.select('PERMNO').fill_null(strategy='forward'))\n",
    "\n",
    "filled_data = grouped.map_groups(fill_dates)\n",
    "bond_data = filled_data"
   ],
   "id": "866b60e229887a1a",
   "outputs": [],
   "execution_count": 82
  },
  {
   "metadata": {
    "ExecuteTime": {
     "end_time": "2024-04-29T20:47:10.718813Z",
     "start_time": "2024-04-29T20:47:10.553813Z"
    }
   },
   "cell_type": "code",
   "source": "bond_data.group_by('cusip').agg(pl.col('PERMNO').null_count()).sort('PERMNO', descending=True)",
   "id": "c1297a53d9cfe2c9",
   "outputs": [
    {
     "data": {
      "text/plain": [
       "shape: (11_324, 2)\n",
       "┌───────────┬────────┐\n",
       "│ cusip     ┆ PERMNO │\n",
       "│ ---       ┆ ---    │\n",
       "│ str       ┆ u32    │\n",
       "╞═══════════╪════════╡\n",
       "│ 595620AB1 ┆ 237    │\n",
       "│ 751277AQ7 ┆ 205    │\n",
       "│ 129466AM0 ┆ 195    │\n",
       "│ 59562VAM9 ┆ 193    │\n",
       "│ 59562EAH8 ┆ 187    │\n",
       "│ …         ┆ …      │\n",
       "│ 247361ZU5 ┆ 0      │\n",
       "│ 264399EH5 ┆ 0      │\n",
       "│ 69073TAJ2 ┆ 0      │\n",
       "│ 98310WAJ7 ┆ 0      │\n",
       "│ 11120VAC7 ┆ 0      │\n",
       "└───────────┴────────┘"
      ],
      "text/html": [
       "<div><style>\n",
       ".dataframe > thead > tr,\n",
       ".dataframe > tbody > tr {\n",
       "  text-align: right;\n",
       "  white-space: pre-wrap;\n",
       "}\n",
       "</style>\n",
       "<small>shape: (11_324, 2)</small><table border=\"1\" class=\"dataframe\"><thead><tr><th>cusip</th><th>PERMNO</th></tr><tr><td>str</td><td>u32</td></tr></thead><tbody><tr><td>&quot;595620AB1&quot;</td><td>237</td></tr><tr><td>&quot;751277AQ7&quot;</td><td>205</td></tr><tr><td>&quot;129466AM0&quot;</td><td>195</td></tr><tr><td>&quot;59562VAM9&quot;</td><td>193</td></tr><tr><td>&quot;59562EAH8&quot;</td><td>187</td></tr><tr><td>&hellip;</td><td>&hellip;</td></tr><tr><td>&quot;247361ZU5&quot;</td><td>0</td></tr><tr><td>&quot;264399EH5&quot;</td><td>0</td></tr><tr><td>&quot;69073TAJ2&quot;</td><td>0</td></tr><tr><td>&quot;98310WAJ7&quot;</td><td>0</td></tr><tr><td>&quot;11120VAC7&quot;</td><td>0</td></tr></tbody></table></div>"
      ]
     },
     "execution_count": 83,
     "metadata": {},
     "output_type": "execute_result"
    }
   ],
   "execution_count": 83
  },
  {
   "metadata": {},
   "cell_type": "markdown",
   "source": "It didn't do much, but most likely these are bonds for which the PERMNO wasn't found at all",
   "id": "5417b171a13e6b73"
  },
  {
   "metadata": {},
   "cell_type": "markdown",
   "source": "Export the list of unique permnos, and switch over to WRDS to get the fundamental data we need",
   "id": "9a3515c69b1e4061"
  },
  {
   "metadata": {
    "ExecuteTime": {
     "end_time": "2024-04-29T20:47:57.671043Z",
     "start_time": "2024-04-29T20:47:57.495540Z"
    }
   },
   "cell_type": "code",
   "source": [
    "# export the list of permnos to make the query to WRDS \n",
    "write_txt(bond_data, 'PERMNO', '../../data/wrds_queries_files/companies_permnos.txt')"
   ],
   "id": "7aeba0fcbc6775be",
   "outputs": [],
   "execution_count": 85
  },
  {
   "metadata": {},
   "cell_type": "markdown",
   "source": "## Load the financial ratios from WRDS",
   "id": "a13ad533581f3feb"
  },
  {
   "metadata": {
    "ExecuteTime": {
     "end_time": "2024-04-29T20:54:01.906343Z",
     "start_time": "2024-04-29T20:54:01.846342Z"
    }
   },
   "cell_type": "code",
   "source": [
    "finratios = pl.read_csv('../../data/unprocessed_data/wrds_finratios.csv', try_parse_dates=True)\n",
    "\n",
    "finratios.head()"
   ],
   "id": "af2e350c6b37365f",
   "outputs": [
    {
     "data": {
      "text/plain": [
       "shape: (5, 10)\n",
       "┌───────┬────────┬────────────┬────────────┬───┬─────────────┬──────────┬─────────────┬────────────┐\n",
       "│ gvkey ┆ permno ┆ adate      ┆ qdate      ┆ … ┆ debt_ebitda ┆ de_ratio ┆ intcov_rati ┆ cash_ratio │\n",
       "│ ---   ┆ ---    ┆ ---        ┆ ---        ┆   ┆ ---         ┆ ---      ┆ o           ┆ ---        │\n",
       "│ i64   ┆ i64    ┆ date       ┆ date       ┆   ┆ f64         ┆ f64      ┆ ---         ┆ f64        │\n",
       "│       ┆        ┆            ┆            ┆   ┆             ┆          ┆ f64         ┆            │\n",
       "╞═══════╪════════╪════════════╪════════════╪═══╪═════════════╪══════════╪═════════════╪════════════╡\n",
       "│ 11903 ┆ 10025  ┆ 1999-10-31 ┆ 1999-10-31 ┆ … ┆ 4.371       ┆ 6.705    ┆ 1.24        ┆ 0.019      │\n",
       "│ 11903 ┆ 10025  ┆ 1999-10-31 ┆ 1999-10-31 ┆ … ┆ 4.371       ┆ 6.705    ┆ 1.24        ┆ 0.019      │\n",
       "│ 11903 ┆ 10025  ┆ 1999-10-31 ┆ 2000-01-31 ┆ … ┆ 4.912       ┆ 6.78     ┆ 1.053       ┆ 0.022      │\n",
       "│ 11903 ┆ 10025  ┆ 1999-10-31 ┆ 2000-01-31 ┆ … ┆ 4.912       ┆ 6.78     ┆ 1.053       ┆ 0.022      │\n",
       "│ 11903 ┆ 10025  ┆ 1999-10-31 ┆ 2000-01-31 ┆ … ┆ 4.912       ┆ 6.78     ┆ 1.053       ┆ 0.022      │\n",
       "└───────┴────────┴────────────┴────────────┴───┴─────────────┴──────────┴─────────────┴────────────┘"
      ],
      "text/html": [
       "<div><style>\n",
       ".dataframe > thead > tr,\n",
       ".dataframe > tbody > tr {\n",
       "  text-align: right;\n",
       "  white-space: pre-wrap;\n",
       "}\n",
       "</style>\n",
       "<small>shape: (5, 10)</small><table border=\"1\" class=\"dataframe\"><thead><tr><th>gvkey</th><th>permno</th><th>adate</th><th>qdate</th><th>public_date</th><th>capital_ratio</th><th>debt_ebitda</th><th>de_ratio</th><th>intcov_ratio</th><th>cash_ratio</th></tr><tr><td>i64</td><td>i64</td><td>date</td><td>date</td><td>date</td><td>f64</td><td>f64</td><td>f64</td><td>f64</td><td>f64</td></tr></thead><tbody><tr><td>11903</td><td>10025</td><td>1999-10-31</td><td>1999-10-31</td><td>2000-01-31</td><td>0.808</td><td>4.371</td><td>6.705</td><td>1.24</td><td>0.019</td></tr><tr><td>11903</td><td>10025</td><td>1999-10-31</td><td>1999-10-31</td><td>2000-02-29</td><td>0.808</td><td>4.371</td><td>6.705</td><td>1.24</td><td>0.019</td></tr><tr><td>11903</td><td>10025</td><td>1999-10-31</td><td>2000-01-31</td><td>2000-03-31</td><td>0.807</td><td>4.912</td><td>6.78</td><td>1.053</td><td>0.022</td></tr><tr><td>11903</td><td>10025</td><td>1999-10-31</td><td>2000-01-31</td><td>2000-04-30</td><td>0.807</td><td>4.912</td><td>6.78</td><td>1.053</td><td>0.022</td></tr><tr><td>11903</td><td>10025</td><td>1999-10-31</td><td>2000-01-31</td><td>2000-05-31</td><td>0.807</td><td>4.912</td><td>6.78</td><td>1.053</td><td>0.022</td></tr></tbody></table></div>"
      ]
     },
     "execution_count": 93,
     "metadata": {},
     "output_type": "execute_result"
    }
   ],
   "execution_count": 93
  },
  {
   "metadata": {
    "ExecuteTime": {
     "end_time": "2024-04-29T20:52:24.067839Z",
     "start_time": "2024-04-29T20:52:24.055839Z"
    }
   },
   "cell_type": "code",
   "source": "finratios.n_unique('gvkey')",
   "id": "7b927fcb621ea5",
   "outputs": [
    {
     "data": {
      "text/plain": [
       "1145"
      ]
     },
     "execution_count": 88,
     "metadata": {},
     "output_type": "execute_result"
    }
   ],
   "execution_count": 88
  },
  {
   "metadata": {
    "ExecuteTime": {
     "end_time": "2024-04-29T20:52:25.382839Z",
     "start_time": "2024-04-29T20:52:25.376839Z"
    }
   },
   "cell_type": "code",
   "source": "finratios.null_count()",
   "id": "85113f709a54d978",
   "outputs": [
    {
     "data": {
      "text/plain": [
       "shape: (1, 10)\n",
       "┌───────┬────────┬───────┬───────┬───┬─────────────┬──────────┬──────────────┬────────────┐\n",
       "│ gvkey ┆ permno ┆ adate ┆ qdate ┆ … ┆ debt_ebitda ┆ de_ratio ┆ intcov_ratio ┆ cash_ratio │\n",
       "│ ---   ┆ ---    ┆ ---   ┆ ---   ┆   ┆ ---         ┆ ---      ┆ ---          ┆ ---        │\n",
       "│ u32   ┆ u32    ┆ u32   ┆ u32   ┆   ┆ u32         ┆ u32      ┆ u32          ┆ u32        │\n",
       "╞═══════╪════════╪═══════╪═══════╪═══╪═════════════╪══════════╪══════════════╪════════════╡\n",
       "│ 0     ┆ 0      ┆ 217   ┆ 0     ┆ … ┆ 1320        ┆ 249      ┆ 16969        ┆ 40118      │\n",
       "└───────┴────────┴───────┴───────┴───┴─────────────┴──────────┴──────────────┴────────────┘"
      ],
      "text/html": [
       "<div><style>\n",
       ".dataframe > thead > tr,\n",
       ".dataframe > tbody > tr {\n",
       "  text-align: right;\n",
       "  white-space: pre-wrap;\n",
       "}\n",
       "</style>\n",
       "<small>shape: (1, 10)</small><table border=\"1\" class=\"dataframe\"><thead><tr><th>gvkey</th><th>permno</th><th>adate</th><th>qdate</th><th>public_date</th><th>capital_ratio</th><th>debt_ebitda</th><th>de_ratio</th><th>intcov_ratio</th><th>cash_ratio</th></tr><tr><td>u32</td><td>u32</td><td>u32</td><td>u32</td><td>u32</td><td>u32</td><td>u32</td><td>u32</td><td>u32</td><td>u32</td></tr></thead><tbody><tr><td>0</td><td>0</td><td>217</td><td>0</td><td>0</td><td>325</td><td>1320</td><td>249</td><td>16969</td><td>40118</td></tr></tbody></table></div>"
      ]
     },
     "execution_count": 89,
     "metadata": {},
     "output_type": "execute_result"
    }
   ],
   "execution_count": 89
  },
  {
   "metadata": {
    "ExecuteTime": {
     "end_time": "2024-04-29T20:52:30.153524Z",
     "start_time": "2024-04-29T20:52:29.664525Z"
    }
   },
   "cell_type": "code",
   "source": [
    "finratios = finratios.sort('public_date')\n",
    "bond_data = bond_data.sort('date')\n",
    "\n",
    "bond_data = bond_data.join_asof(\n",
    "    finratios.select(pl.all().exclude(['adate', 'qdate'])),\n",
    "    strategy='backward',\n",
    "    left_on='date',\n",
    "    right_on='public_date',\n",
    "    by_left='PERMNO',\n",
    "    by_right='permno'\n",
    ")"
   ],
   "id": "3530152eb81be48c",
   "outputs": [],
   "execution_count": 90
  },
  {
   "metadata": {},
   "cell_type": "markdown",
   "source": "## Short Interest Data",
   "id": "3d1d86dfcdc45be1"
  },
  {
   "metadata": {},
   "cell_type": "markdown",
   "source": "Get the gvkeys of the bond issuers, and head over to WRDS to get the Short Interest Data",
   "id": "ebdf8e6b15942257"
  },
  {
   "metadata": {
    "ExecuteTime": {
     "end_time": "2024-04-29T20:52:42.571843Z",
     "start_time": "2024-04-29T20:52:42.554341Z"
    }
   },
   "cell_type": "code",
   "source": [
    "gvkeys = finratios.select('gvkey').unique()\n",
    "\n",
    "write_txt(finratios, 'gvkey', '../../data/wrds_queries_files/companies_gvkey.txt')"
   ],
   "id": "d6752f6dba578ef0",
   "outputs": [],
   "execution_count": 91
  },
  {
   "metadata": {},
   "cell_type": "markdown",
   "source": "Load Short Interest Data",
   "id": "b6181bd70351dfb9"
  },
  {
   "metadata": {
    "ExecuteTime": {
     "end_time": "2024-04-29T20:54:43.956545Z",
     "start_time": "2024-04-29T20:54:43.933040Z"
    }
   },
   "cell_type": "code",
   "source": [
    "short_interest = pl.read_csv('../../data/unprocessed_data/wrds_short_interest_data.csv', try_parse_dates=True)\n",
    "\n",
    "short_interest.head()"
   ],
   "id": "a0bcb9df4fb74cce",
   "outputs": [
    {
     "data": {
      "text/plain": [
       "shape: (5, 8)\n",
       "┌────────┬─────┬─────────────┬─────────────┬────────────┬──────────────┬─────┬───────────┐\n",
       "│ gvkey  ┆ iid ┆ shortint    ┆ shortintadj ┆ datadate   ┆ splitadjdate ┆ tic ┆ cusip     │\n",
       "│ ---    ┆ --- ┆ ---         ┆ ---         ┆ ---        ┆ ---          ┆ --- ┆ ---       │\n",
       "│ i64    ┆ i64 ┆ f64         ┆ f64         ┆ date       ┆ date         ┆ str ┆ str       │\n",
       "╞════════╪═════╪═════════════╪═════════════╪════════════╪══════════════╪═════╪═══════════╡\n",
       "│ 105365 ┆ 1   ┆ 3.687424e6  ┆ 3.687424e6  ┆ 2020-06-15 ┆ 2020-06-30   ┆ AMT ┆ 03027X100 │\n",
       "│ 105365 ┆ 1   ┆ 2.3236144e7 ┆ 2.3236144e7 ┆ 2003-04-15 ┆ 2003-04-30   ┆ AMT ┆ 03027X100 │\n",
       "│ 105365 ┆ 1   ┆ 4.347898e6  ┆ 4.347898e6  ┆ 2010-11-15 ┆ 2010-11-30   ┆ AMT ┆ 03027X100 │\n",
       "│ 105365 ┆ 1   ┆ 3.635196e6  ┆ 3.635196e6  ┆ 2012-10-15 ┆ 2012-10-31   ┆ AMT ┆ 03027X100 │\n",
       "│ 105365 ┆ 1   ┆ 8.965266e6  ┆ 8.965266e6  ┆ 2009-09-30 ┆ 2009-09-30   ┆ AMT ┆ 03027X100 │\n",
       "└────────┴─────┴─────────────┴─────────────┴────────────┴──────────────┴─────┴───────────┘"
      ],
      "text/html": [
       "<div><style>\n",
       ".dataframe > thead > tr,\n",
       ".dataframe > tbody > tr {\n",
       "  text-align: right;\n",
       "  white-space: pre-wrap;\n",
       "}\n",
       "</style>\n",
       "<small>shape: (5, 8)</small><table border=\"1\" class=\"dataframe\"><thead><tr><th>gvkey</th><th>iid</th><th>shortint</th><th>shortintadj</th><th>datadate</th><th>splitadjdate</th><th>tic</th><th>cusip</th></tr><tr><td>i64</td><td>i64</td><td>f64</td><td>f64</td><td>date</td><td>date</td><td>str</td><td>str</td></tr></thead><tbody><tr><td>105365</td><td>1</td><td>3.687424e6</td><td>3.687424e6</td><td>2020-06-15</td><td>2020-06-30</td><td>&quot;AMT&quot;</td><td>&quot;03027X100&quot;</td></tr><tr><td>105365</td><td>1</td><td>2.3236144e7</td><td>2.3236144e7</td><td>2003-04-15</td><td>2003-04-30</td><td>&quot;AMT&quot;</td><td>&quot;03027X100&quot;</td></tr><tr><td>105365</td><td>1</td><td>4.347898e6</td><td>4.347898e6</td><td>2010-11-15</td><td>2010-11-30</td><td>&quot;AMT&quot;</td><td>&quot;03027X100&quot;</td></tr><tr><td>105365</td><td>1</td><td>3.635196e6</td><td>3.635196e6</td><td>2012-10-15</td><td>2012-10-31</td><td>&quot;AMT&quot;</td><td>&quot;03027X100&quot;</td></tr><tr><td>105365</td><td>1</td><td>8.965266e6</td><td>8.965266e6</td><td>2009-09-30</td><td>2009-09-30</td><td>&quot;AMT&quot;</td><td>&quot;03027X100&quot;</td></tr></tbody></table></div>"
      ]
     },
     "execution_count": 94,
     "metadata": {},
     "output_type": "execute_result"
    }
   ],
   "execution_count": 94
  },
  {
   "metadata": {
    "ExecuteTime": {
     "end_time": "2024-04-29T20:54:56.322740Z",
     "start_time": "2024-04-29T20:54:56.317739Z"
    }
   },
   "cell_type": "code",
   "source": "short_interest.null_count()",
   "id": "ecf9f78fff86a386",
   "outputs": [
    {
     "data": {
      "text/plain": [
       "shape: (1, 8)\n",
       "┌───────┬─────┬──────────┬─────────────┬──────────┬──────────────┬─────┬───────┐\n",
       "│ gvkey ┆ iid ┆ shortint ┆ shortintadj ┆ datadate ┆ splitadjdate ┆ tic ┆ cusip │\n",
       "│ ---   ┆ --- ┆ ---      ┆ ---         ┆ ---      ┆ ---          ┆ --- ┆ ---   │\n",
       "│ u32   ┆ u32 ┆ u32      ┆ u32         ┆ u32      ┆ u32          ┆ u32 ┆ u32   │\n",
       "╞═══════╪═════╪══════════╪═════════════╪══════════╪══════════════╪═════╪═══════╡\n",
       "│ 0     ┆ 0   ┆ 0        ┆ 0           ┆ 0        ┆ 0            ┆ 0   ┆ 0     │\n",
       "└───────┴─────┴──────────┴─────────────┴──────────┴──────────────┴─────┴───────┘"
      ],
      "text/html": [
       "<div><style>\n",
       ".dataframe > thead > tr,\n",
       ".dataframe > tbody > tr {\n",
       "  text-align: right;\n",
       "  white-space: pre-wrap;\n",
       "}\n",
       "</style>\n",
       "<small>shape: (1, 8)</small><table border=\"1\" class=\"dataframe\"><thead><tr><th>gvkey</th><th>iid</th><th>shortint</th><th>shortintadj</th><th>datadate</th><th>splitadjdate</th><th>tic</th><th>cusip</th></tr><tr><td>u32</td><td>u32</td><td>u32</td><td>u32</td><td>u32</td><td>u32</td><td>u32</td><td>u32</td></tr></thead><tbody><tr><td>0</td><td>0</td><td>0</td><td>0</td><td>0</td><td>0</td><td>0</td><td>0</td></tr></tbody></table></div>"
      ]
     },
     "execution_count": 95,
     "metadata": {},
     "output_type": "execute_result"
    }
   ],
   "execution_count": 95
  },
  {
   "metadata": {
    "ExecuteTime": {
     "end_time": "2024-04-29T20:55:00.655312Z",
     "start_time": "2024-04-29T20:55:00.381813Z"
    }
   },
   "cell_type": "code",
   "source": [
    "short_interest = short_interest.sort('datadate')\n",
    "bond_data = bond_data.sort('date')\n",
    "\n",
    "bond_data.join_asof(\n",
    "    short_interest,\n",
    "    left_on='date',\n",
    "    right_on='datadate',\n",
    "    by='gvkey',\n",
    "    strategy='backward'\n",
    ").null_count()"
   ],
   "id": "2c0032b5ebea6160",
   "outputs": [
    {
     "data": {
      "text/plain": [
       "shape: (1, 102)\n",
       "┌─────┬──────┬───────┬────────────┬───┬──────────┬──────────────┬────────┬─────────────┐\n",
       "│     ┆ date ┆ cusip ┆ exretn_t+1 ┆ … ┆ datadate ┆ splitadjdate ┆ tic    ┆ cusip_right │\n",
       "│ --- ┆ ---  ┆ ---   ┆ ---        ┆   ┆ ---      ┆ ---          ┆ ---    ┆ ---         │\n",
       "│ u32 ┆ u32  ┆ u32   ┆ u32        ┆   ┆ u32      ┆ u32          ┆ u32    ┆ u32         │\n",
       "╞═════╪══════╪═══════╪════════════╪═══╪══════════╪══════════════╪════════╪═════════════╡\n",
       "│ 0   ┆ 0    ┆ 0     ┆ 161319     ┆ … ┆ 894288   ┆ 894288       ┆ 894288 ┆ 894288      │\n",
       "└─────┴──────┴───────┴────────────┴───┴──────────┴──────────────┴────────┴─────────────┘"
      ],
      "text/html": [
       "<div><style>\n",
       ".dataframe > thead > tr,\n",
       ".dataframe > tbody > tr {\n",
       "  text-align: right;\n",
       "  white-space: pre-wrap;\n",
       "}\n",
       "</style>\n",
       "<small>shape: (1, 102)</small><table border=\"1\" class=\"dataframe\"><thead><tr><th></th><th>date</th><th>cusip</th><th>exretn_t+1</th><th>exretnc_t+1</th><th>exretnc_dur_t+1</th><th>bond_ret_t+1</th><th>bond_ret</th><th>exretn</th><th>exretnc_dur</th><th>rating</th><th>cs</th><th>cs_6m_delta</th><th>bond_yield</th><th>bond_amount_out</th><th>offering_amt</th><th>bondprc</th><th>perc_par</th><th>tmt</th><th>duration</th><th>ind_num_17</th><th>sic_code</th><th>BOND_RET</th><th>ILLIQ</th><th>var95</th><th>n_trades_month</th><th>size_ig</th><th>size_jk</th><th>BOND_YIELD</th><th>CS</th><th>BONDPRC</th><th>PRFULL</th><th>CONVEXITY</th><th>CS_6M_DELTA</th><th>bond_value</th><th>BOND_VALUE</th><th>coupon</th><th>&hellip;</th><th>YIELD</th><th>PRICE_EOM</th><th>PRICE_LDM</th><th>PRICE_L5M</th><th>GAP</th><th>COUPMONTH</th><th>nextcoup</th><th>COUPAMT</th><th>COUPACC</th><th>MULTICOUPS</th><th>RET_EOM</th><th>RET_LDM</th><th>RET_L5M</th><th>REMCOUPS</th><th>DURATION_right</th><th>DEFAULT_DATE</th><th>DEFAULT_TYPE</th><th>REINSTATED</th><th>REINSTATED_DATE</th><th>PERMNO</th><th>PERMCO</th><th>link_startdt</th><th>link_enddt</th><th>gvkey</th><th>public_date</th><th>capital_ratio</th><th>debt_ebitda</th><th>de_ratio</th><th>intcov_ratio</th><th>cash_ratio</th><th>iid</th><th>shortint</th><th>shortintadj</th><th>datadate</th><th>splitadjdate</th><th>tic</th><th>cusip_right</th></tr><tr><td>u32</td><td>u32</td><td>u32</td><td>u32</td><td>u32</td><td>u32</td><td>u32</td><td>u32</td><td>u32</td><td>u32</td><td>u32</td><td>u32</td><td>u32</td><td>u32</td><td>u32</td><td>u32</td><td>u32</td><td>u32</td><td>u32</td><td>u32</td><td>u32</td><td>u32</td><td>u32</td><td>u32</td><td>u32</td><td>u32</td><td>u32</td><td>u32</td><td>u32</td><td>u32</td><td>u32</td><td>u32</td><td>u32</td><td>u32</td><td>u32</td><td>u32</td><td>u32</td><td>&hellip;</td><td>u32</td><td>u32</td><td>u32</td><td>u32</td><td>u32</td><td>u32</td><td>u32</td><td>u32</td><td>u32</td><td>u32</td><td>u32</td><td>u32</td><td>u32</td><td>u32</td><td>u32</td><td>u32</td><td>u32</td><td>u32</td><td>u32</td><td>u32</td><td>u32</td><td>u32</td><td>u32</td><td>u32</td><td>u32</td><td>u32</td><td>u32</td><td>u32</td><td>u32</td><td>u32</td><td>u32</td><td>u32</td><td>u32</td><td>u32</td><td>u32</td><td>u32</td><td>u32</td></tr></thead><tbody><tr><td>0</td><td>0</td><td>0</td><td>161319</td><td>163556</td><td>163556</td><td>161319</td><td>158090</td><td>158090</td><td>160370</td><td>0</td><td>4743</td><td>71495</td><td>4657</td><td>0</td><td>0</td><td>89083</td><td>89083</td><td>0</td><td>210</td><td>90324</td><td>0</td><td>64917</td><td>99157</td><td>382015</td><td>61981</td><td>0</td><td>0</td><td>29515</td><td>29515</td><td>29515</td><td>29515</td><td>29515</td><td>110641</td><td>89083</td><td>29515</td><td>0</td><td>&hellip;</td><td>4662</td><td>6</td><td>356602</td><td>89111</td><td>7573</td><td>45266</td><td>6</td><td>6</td><td>6</td><td>6</td><td>18967</td><td>510409</td><td>158120</td><td>6</td><td>4748</td><td>978379</td><td>978379</td><td>978379</td><td>978379</td><td>55365</td><td>55365</td><td>55365</td><td>55365</td><td>160899</td><td>160899</td><td>161690</td><td>166029</td><td>161693</td><td>214566</td><td>344468</td><td>894288</td><td>894288</td><td>894288</td><td>894288</td><td>894288</td><td>894288</td><td>894288</td></tr></tbody></table></div>"
      ]
     },
     "execution_count": 96,
     "metadata": {},
     "output_type": "execute_result"
    }
   ],
   "execution_count": 96
  },
  {
   "metadata": {
    "ExecuteTime": {
     "end_time": "2024-04-29T20:55:03.115363Z",
     "start_time": "2024-04-29T20:55:03.097362Z"
    }
   },
   "cell_type": "code",
   "source": "bond_data.n_unique('gvkey')",
   "id": "ac3e84921235902b",
   "outputs": [
    {
     "data": {
      "text/plain": [
       "1128"
      ]
     },
     "execution_count": 97,
     "metadata": {},
     "output_type": "execute_result"
    }
   ],
   "execution_count": 97
  },
  {
   "metadata": {},
   "cell_type": "markdown",
   "source": "# Inflation Expectations",
   "id": "292f2bc33b18e5d"
  },
  {
   "metadata": {
    "ExecuteTime": {
     "end_time": "2024-04-29T20:55:07.107222Z",
     "start_time": "2024-04-29T20:55:07.098222Z"
    }
   },
   "cell_type": "code",
   "source": [
    "cpi = pl.read_csv('../../data/inflation/cpi_monthly.csv', try_parse_dates=True)\n",
    "expected_cpi = pl.read_csv('../../data/inflation/expected_1y_infl.csv', try_parse_dates=True)"
   ],
   "id": "6bdadf29e5e99655",
   "outputs": [],
   "execution_count": 98
  },
  {
   "metadata": {
    "ExecuteTime": {
     "end_time": "2024-04-29T20:55:07.693222Z",
     "start_time": "2024-04-29T20:55:07.688221Z"
    }
   },
   "cell_type": "code",
   "source": "cpi.head()",
   "id": "845195f5b0c54587",
   "outputs": [
    {
     "data": {
      "text/plain": [
       "shape: (5, 2)\n",
       "┌────────────┬──────────┐\n",
       "│ DATE       ┆ CPIAUCSL │\n",
       "│ ---        ┆ ---      │\n",
       "│ date       ┆ f64      │\n",
       "╞════════════╪══════════╡\n",
       "│ 1947-01-01 ┆ 21.48    │\n",
       "│ 1947-02-01 ┆ 21.62    │\n",
       "│ 1947-03-01 ┆ 22.0     │\n",
       "│ 1947-04-01 ┆ 22.0     │\n",
       "│ 1947-05-01 ┆ 21.95    │\n",
       "└────────────┴──────────┘"
      ],
      "text/html": [
       "<div><style>\n",
       ".dataframe > thead > tr,\n",
       ".dataframe > tbody > tr {\n",
       "  text-align: right;\n",
       "  white-space: pre-wrap;\n",
       "}\n",
       "</style>\n",
       "<small>shape: (5, 2)</small><table border=\"1\" class=\"dataframe\"><thead><tr><th>DATE</th><th>CPIAUCSL</th></tr><tr><td>date</td><td>f64</td></tr></thead><tbody><tr><td>1947-01-01</td><td>21.48</td></tr><tr><td>1947-02-01</td><td>21.62</td></tr><tr><td>1947-03-01</td><td>22.0</td></tr><tr><td>1947-04-01</td><td>22.0</td></tr><tr><td>1947-05-01</td><td>21.95</td></tr></tbody></table></div>"
      ]
     },
     "execution_count": 99,
     "metadata": {},
     "output_type": "execute_result"
    }
   ],
   "execution_count": 99
  },
  {
   "metadata": {
    "ExecuteTime": {
     "end_time": "2024-04-29T20:55:08.934369Z",
     "start_time": "2024-04-29T20:55:08.928867Z"
    }
   },
   "cell_type": "code",
   "source": "expected_cpi.head()",
   "id": "348fb42f08605398",
   "outputs": [
    {
     "data": {
      "text/plain": [
       "shape: (5, 2)\n",
       "┌────────────┬───────────┐\n",
       "│ DATE       ┆ EXPINF1YR │\n",
       "│ ---        ┆ ---       │\n",
       "│ date       ┆ f64       │\n",
       "╞════════════╪═══════════╡\n",
       "│ 1982-01-01 ┆ 6.3945071 │\n",
       "│ 1982-02-01 ┆ 6.4321077 │\n",
       "│ 1982-03-01 ┆ 6.3877317 │\n",
       "│ 1982-04-01 ┆ 6.1406276 │\n",
       "│ 1982-05-01 ┆ 5.4881669 │\n",
       "└────────────┴───────────┘"
      ],
      "text/html": [
       "<div><style>\n",
       ".dataframe > thead > tr,\n",
       ".dataframe > tbody > tr {\n",
       "  text-align: right;\n",
       "  white-space: pre-wrap;\n",
       "}\n",
       "</style>\n",
       "<small>shape: (5, 2)</small><table border=\"1\" class=\"dataframe\"><thead><tr><th>DATE</th><th>EXPINF1YR</th></tr><tr><td>date</td><td>f64</td></tr></thead><tbody><tr><td>1982-01-01</td><td>6.3945071</td></tr><tr><td>1982-02-01</td><td>6.4321077</td></tr><tr><td>1982-03-01</td><td>6.3877317</td></tr><tr><td>1982-04-01</td><td>6.1406276</td></tr><tr><td>1982-05-01</td><td>5.4881669</td></tr></tbody></table></div>"
      ]
     },
     "execution_count": 100,
     "metadata": {},
     "output_type": "execute_result"
    }
   ],
   "execution_count": 100
  },
  {
   "metadata": {
    "ExecuteTime": {
     "end_time": "2024-04-29T20:55:10.065324Z",
     "start_time": "2024-04-29T20:55:10.056323Z"
    }
   },
   "cell_type": "code",
   "source": [
    "cpi = cpi.with_columns(\n",
    "    cpi_growth_yoy=pl.col('CPIAUCSL').pct_change(12)\n",
    ")\n",
    "\n",
    "cpi.tail()"
   ],
   "id": "1366e80ae28daf36",
   "outputs": [
    {
     "data": {
      "text/plain": [
       "shape: (5, 3)\n",
       "┌────────────┬──────────┬────────────────┐\n",
       "│ DATE       ┆ CPIAUCSL ┆ cpi_growth_yoy │\n",
       "│ ---        ┆ ---      ┆ ---            │\n",
       "│ date       ┆ f64      ┆ f64            │\n",
       "╞════════════╪══════════╪════════════════╡\n",
       "│ 2023-11-01 ┆ 308.024  ┆ 0.031395       │\n",
       "│ 2023-12-01 ┆ 308.742  ┆ 0.033232       │\n",
       "│ 2024-01-01 ┆ 309.685  ┆ 0.03106        │\n",
       "│ 2024-02-01 ┆ 311.054  ┆ 0.031657       │\n",
       "│ 2024-03-01 ┆ 312.23   ┆ 0.034751       │\n",
       "└────────────┴──────────┴────────────────┘"
      ],
      "text/html": [
       "<div><style>\n",
       ".dataframe > thead > tr,\n",
       ".dataframe > tbody > tr {\n",
       "  text-align: right;\n",
       "  white-space: pre-wrap;\n",
       "}\n",
       "</style>\n",
       "<small>shape: (5, 3)</small><table border=\"1\" class=\"dataframe\"><thead><tr><th>DATE</th><th>CPIAUCSL</th><th>cpi_growth_yoy</th></tr><tr><td>date</td><td>f64</td><td>f64</td></tr></thead><tbody><tr><td>2023-11-01</td><td>308.024</td><td>0.031395</td></tr><tr><td>2023-12-01</td><td>308.742</td><td>0.033232</td></tr><tr><td>2024-01-01</td><td>309.685</td><td>0.03106</td></tr><tr><td>2024-02-01</td><td>311.054</td><td>0.031657</td></tr><tr><td>2024-03-01</td><td>312.23</td><td>0.034751</td></tr></tbody></table></div>"
      ]
     },
     "execution_count": 101,
     "metadata": {},
     "output_type": "execute_result"
    }
   ],
   "execution_count": 101
  },
  {
   "metadata": {
    "ExecuteTime": {
     "end_time": "2024-04-29T20:55:11.040870Z",
     "start_time": "2024-04-29T20:55:11.036868Z"
    }
   },
   "cell_type": "code",
   "source": [
    "expected_cpi = expected_cpi.with_columns(\n",
    "    expected_1y_infl=pl.col('EXPINF1YR') / 100\n",
    ")"
   ],
   "id": "f77805ff7a72bf81",
   "outputs": [],
   "execution_count": 102
  },
  {
   "metadata": {
    "ExecuteTime": {
     "end_time": "2024-04-29T20:55:12.962025Z",
     "start_time": "2024-04-29T20:55:12.950525Z"
    }
   },
   "cell_type": "code",
   "source": [
    "inflation_data = (expected_cpi\n",
    "                  .join(cpi, how='left', on='DATE')\n",
    "                  .rename({'DATE': 'date'})\n",
    "                  .select(['date', 'expected_1y_infl', 'cpi_growth_yoy'])\n",
    "                  .filter(pl.col('date').dt.year() >= 2000)\n",
    "                  )\n",
    "\n",
    "inflation_data.tail()"
   ],
   "id": "80075b6de261b5f8",
   "outputs": [
    {
     "data": {
      "text/plain": [
       "shape: (5, 3)\n",
       "┌────────────┬──────────────────┬────────────────┐\n",
       "│ date       ┆ expected_1y_infl ┆ cpi_growth_yoy │\n",
       "│ ---        ┆ ---              ┆ ---            │\n",
       "│ date       ┆ f64              ┆ f64            │\n",
       "╞════════════╪══════════════════╪════════════════╡\n",
       "│ 2023-12-01 ┆ 0.030917         ┆ 0.033232       │\n",
       "│ 2024-01-01 ┆ 0.024186         ┆ 0.03106        │\n",
       "│ 2024-02-01 ┆ 0.024283         ┆ 0.031657       │\n",
       "│ 2024-03-01 ┆ 0.020822         ┆ 0.034751       │\n",
       "│ 2024-04-01 ┆ 0.026959         ┆ null           │\n",
       "└────────────┴──────────────────┴────────────────┘"
      ],
      "text/html": [
       "<div><style>\n",
       ".dataframe > thead > tr,\n",
       ".dataframe > tbody > tr {\n",
       "  text-align: right;\n",
       "  white-space: pre-wrap;\n",
       "}\n",
       "</style>\n",
       "<small>shape: (5, 3)</small><table border=\"1\" class=\"dataframe\"><thead><tr><th>date</th><th>expected_1y_infl</th><th>cpi_growth_yoy</th></tr><tr><td>date</td><td>f64</td><td>f64</td></tr></thead><tbody><tr><td>2023-12-01</td><td>0.030917</td><td>0.033232</td></tr><tr><td>2024-01-01</td><td>0.024186</td><td>0.03106</td></tr><tr><td>2024-02-01</td><td>0.024283</td><td>0.031657</td></tr><tr><td>2024-03-01</td><td>0.020822</td><td>0.034751</td></tr><tr><td>2024-04-01</td><td>0.026959</td><td>null</td></tr></tbody></table></div>"
      ]
     },
     "execution_count": 103,
     "metadata": {},
     "output_type": "execute_result"
    }
   ],
   "execution_count": 103
  },
  {
   "metadata": {},
   "cell_type": "markdown",
   "source": "Computing the unexpected inflation",
   "id": "d114ab966e795f40"
  },
  {
   "metadata": {
    "ExecuteTime": {
     "end_time": "2024-04-29T20:55:14.671854Z",
     "start_time": "2024-04-29T20:55:14.664852Z"
    }
   },
   "cell_type": "code",
   "source": [
    "inflation_data = inflation_data.with_columns(\n",
    "    unexpected_inflation=(pl.col('cpi_growth_yoy').diff() - pl.col('expected_1y_infl').diff())\n",
    ")\n",
    "\n",
    "inflation_data.tail()"
   ],
   "id": "ea760fc1cbd3a0df",
   "outputs": [
    {
     "data": {
      "text/plain": [
       "shape: (5, 4)\n",
       "┌────────────┬──────────────────┬────────────────┬──────────────────────┐\n",
       "│ date       ┆ expected_1y_infl ┆ cpi_growth_yoy ┆ unexpected_inflation │\n",
       "│ ---        ┆ ---              ┆ ---            ┆ ---                  │\n",
       "│ date       ┆ f64              ┆ f64            ┆ f64                  │\n",
       "╞════════════╪══════════════════╪════════════════╪══════════════════════╡\n",
       "│ 2023-12-01 ┆ 0.030917         ┆ 0.033232       ┆ -0.001168            │\n",
       "│ 2024-01-01 ┆ 0.024186         ┆ 0.03106        ┆ 0.004559             │\n",
       "│ 2024-02-01 ┆ 0.024283         ┆ 0.031657       ┆ 0.000501             │\n",
       "│ 2024-03-01 ┆ 0.020822         ┆ 0.034751       ┆ 0.006555             │\n",
       "│ 2024-04-01 ┆ 0.026959         ┆ null           ┆ null                 │\n",
       "└────────────┴──────────────────┴────────────────┴──────────────────────┘"
      ],
      "text/html": [
       "<div><style>\n",
       ".dataframe > thead > tr,\n",
       ".dataframe > tbody > tr {\n",
       "  text-align: right;\n",
       "  white-space: pre-wrap;\n",
       "}\n",
       "</style>\n",
       "<small>shape: (5, 4)</small><table border=\"1\" class=\"dataframe\"><thead><tr><th>date</th><th>expected_1y_infl</th><th>cpi_growth_yoy</th><th>unexpected_inflation</th></tr><tr><td>date</td><td>f64</td><td>f64</td><td>f64</td></tr></thead><tbody><tr><td>2023-12-01</td><td>0.030917</td><td>0.033232</td><td>-0.001168</td></tr><tr><td>2024-01-01</td><td>0.024186</td><td>0.03106</td><td>0.004559</td></tr><tr><td>2024-02-01</td><td>0.024283</td><td>0.031657</td><td>0.000501</td></tr><tr><td>2024-03-01</td><td>0.020822</td><td>0.034751</td><td>0.006555</td></tr><tr><td>2024-04-01</td><td>0.026959</td><td>null</td><td>null</td></tr></tbody></table></div>"
      ]
     },
     "execution_count": 104,
     "metadata": {},
     "output_type": "execute_result"
    }
   ],
   "execution_count": 104
  },
  {
   "metadata": {
    "ExecuteTime": {
     "end_time": "2024-04-29T20:55:19.265349Z",
     "start_time": "2024-04-29T20:55:15.656853Z"
    }
   },
   "cell_type": "code",
   "source": "inflation_data.plot(x='date', y='unexpected_inflation')",
   "id": "9fd81c71a721e17e",
   "outputs": [
    {
     "data": {
      "application/javascript": "(function(root) {\n  function now() {\n    return new Date();\n  }\n\n  var force = true;\n  var py_version = '3.4.1'.replace('rc', '-rc.').replace('.dev', '-dev.');\n  var reloading = false;\n  var Bokeh = root.Bokeh;\n\n  if (typeof (root._bokeh_timeout) === \"undefined\" || force) {\n    root._bokeh_timeout = Date.now() + 5000;\n    root._bokeh_failed_load = false;\n  }\n\n  function run_callbacks() {\n    try {\n      root._bokeh_onload_callbacks.forEach(function(callback) {\n        if (callback != null)\n          callback();\n      });\n    } finally {\n      delete root._bokeh_onload_callbacks;\n    }\n    console.debug(\"Bokeh: all callbacks have finished\");\n  }\n\n  function load_libs(css_urls, js_urls, js_modules, js_exports, callback) {\n    if (css_urls == null) css_urls = [];\n    if (js_urls == null) js_urls = [];\n    if (js_modules == null) js_modules = [];\n    if (js_exports == null) js_exports = {};\n\n    root._bokeh_onload_callbacks.push(callback);\n\n    if (root._bokeh_is_loading > 0) {\n      console.debug(\"Bokeh: BokehJS is being loaded, scheduling callback at\", now());\n      return null;\n    }\n    if (js_urls.length === 0 && js_modules.length === 0 && Object.keys(js_exports).length === 0) {\n      run_callbacks();\n      return null;\n    }\n    if (!reloading) {\n      console.debug(\"Bokeh: BokehJS not loaded, scheduling load and callback at\", now());\n    }\n\n    function on_load() {\n      root._bokeh_is_loading--;\n      if (root._bokeh_is_loading === 0) {\n        console.debug(\"Bokeh: all BokehJS libraries/stylesheets loaded\");\n        run_callbacks()\n      }\n    }\n    window._bokeh_on_load = on_load\n\n    function on_error() {\n      console.error(\"failed to load \" + url);\n    }\n\n    var skip = [];\n    if (window.requirejs) {\n      window.requirejs.config({'packages': {}, 'paths': {}, 'shim': {}});\n      root._bokeh_is_loading = css_urls.length + 0;\n    } else {\n      root._bokeh_is_loading = css_urls.length + js_urls.length + js_modules.length + Object.keys(js_exports).length;\n    }\n\n    var existing_stylesheets = []\n    var links = document.getElementsByTagName('link')\n    for (var i = 0; i < links.length; i++) {\n      var link = links[i]\n      if (link.href != null) {\n\texisting_stylesheets.push(link.href)\n      }\n    }\n    for (var i = 0; i < css_urls.length; i++) {\n      var url = css_urls[i];\n      if (existing_stylesheets.indexOf(url) !== -1) {\n\ton_load()\n\tcontinue;\n      }\n      const element = document.createElement(\"link\");\n      element.onload = on_load;\n      element.onerror = on_error;\n      element.rel = \"stylesheet\";\n      element.type = \"text/css\";\n      element.href = url;\n      console.debug(\"Bokeh: injecting link tag for BokehJS stylesheet: \", url);\n      document.body.appendChild(element);\n    }    var existing_scripts = []\n    var scripts = document.getElementsByTagName('script')\n    for (var i = 0; i < scripts.length; i++) {\n      var script = scripts[i]\n      if (script.src != null) {\n\texisting_scripts.push(script.src)\n      }\n    }\n    for (var i = 0; i < js_urls.length; i++) {\n      var url = js_urls[i];\n      if (skip.indexOf(url) !== -1 || existing_scripts.indexOf(url) !== -1) {\n\tif (!window.requirejs) {\n\t  on_load();\n\t}\n\tcontinue;\n      }\n      var element = document.createElement('script');\n      element.onload = on_load;\n      element.onerror = on_error;\n      element.async = false;\n      element.src = url;\n      console.debug(\"Bokeh: injecting script tag for BokehJS library: \", url);\n      document.head.appendChild(element);\n    }\n    for (var i = 0; i < js_modules.length; i++) {\n      var url = js_modules[i];\n      if (skip.indexOf(url) !== -1 || existing_scripts.indexOf(url) !== -1) {\n\tif (!window.requirejs) {\n\t  on_load();\n\t}\n\tcontinue;\n      }\n      var element = document.createElement('script');\n      element.onload = on_load;\n      element.onerror = on_error;\n      element.async = false;\n      element.src = url;\n      element.type = \"module\";\n      console.debug(\"Bokeh: injecting script tag for BokehJS library: \", url);\n      document.head.appendChild(element);\n    }\n    for (const name in js_exports) {\n      var url = js_exports[name];\n      if (skip.indexOf(url) >= 0 || root[name] != null) {\n\tif (!window.requirejs) {\n\t  on_load();\n\t}\n\tcontinue;\n      }\n      var element = document.createElement('script');\n      element.onerror = on_error;\n      element.async = false;\n      element.type = \"module\";\n      console.debug(\"Bokeh: injecting script tag for BokehJS library: \", url);\n      element.textContent = `\n      import ${name} from \"${url}\"\n      window.${name} = ${name}\n      window._bokeh_on_load()\n      `\n      document.head.appendChild(element);\n    }\n    if (!js_urls.length && !js_modules.length) {\n      on_load()\n    }\n  };\n\n  function inject_raw_css(css) {\n    const element = document.createElement(\"style\");\n    element.appendChild(document.createTextNode(css));\n    document.body.appendChild(element);\n  }\n\n  var js_urls = [\"https://cdn.bokeh.org/bokeh/release/bokeh-3.4.1.min.js\", \"https://cdn.bokeh.org/bokeh/release/bokeh-gl-3.4.1.min.js\", \"https://cdn.bokeh.org/bokeh/release/bokeh-widgets-3.4.1.min.js\", \"https://cdn.bokeh.org/bokeh/release/bokeh-tables-3.4.1.min.js\", \"https://cdn.holoviz.org/panel/1.4.2/dist/panel.min.js\"];\n  var js_modules = [];\n  var js_exports = {};\n  var css_urls = [];\n  var inline_js = [    function(Bokeh) {\n      Bokeh.set_log_level(\"info\");\n    },\nfunction(Bokeh) {} // ensure no trailing comma for IE\n  ];\n\n  function run_inline_js() {\n    if ((root.Bokeh !== undefined) || (force === true)) {\n      for (var i = 0; i < inline_js.length; i++) {\n\ttry {\n          inline_js[i].call(root, root.Bokeh);\n\t} catch(e) {\n\t  if (!reloading) {\n\t    throw e;\n\t  }\n\t}\n      }\n      // Cache old bokeh versions\n      if (Bokeh != undefined && !reloading) {\n\tvar NewBokeh = root.Bokeh;\n\tif (Bokeh.versions === undefined) {\n\t  Bokeh.versions = new Map();\n\t}\n\tif (NewBokeh.version !== Bokeh.version) {\n\t  Bokeh.versions.set(NewBokeh.version, NewBokeh)\n\t}\n\troot.Bokeh = Bokeh;\n      }} else if (Date.now() < root._bokeh_timeout) {\n      setTimeout(run_inline_js, 100);\n    } else if (!root._bokeh_failed_load) {\n      console.log(\"Bokeh: BokehJS failed to load within specified timeout.\");\n      root._bokeh_failed_load = true;\n    }\n    root._bokeh_is_initializing = false\n  }\n\n  function load_or_wait() {\n    // Implement a backoff loop that tries to ensure we do not load multiple\n    // versions of Bokeh and its dependencies at the same time.\n    // In recent versions we use the root._bokeh_is_initializing flag\n    // to determine whether there is an ongoing attempt to initialize\n    // bokeh, however for backward compatibility we also try to ensure\n    // that we do not start loading a newer (Panel>=1.0 and Bokeh>3) version\n    // before older versions are fully initialized.\n    if (root._bokeh_is_initializing && Date.now() > root._bokeh_timeout) {\n      root._bokeh_is_initializing = false;\n      root._bokeh_onload_callbacks = undefined;\n      console.log(\"Bokeh: BokehJS was loaded multiple times but one version failed to initialize.\");\n      load_or_wait();\n    } else if (root._bokeh_is_initializing || (typeof root._bokeh_is_initializing === \"undefined\" && root._bokeh_onload_callbacks !== undefined)) {\n      setTimeout(load_or_wait, 100);\n    } else {\n      root._bokeh_is_initializing = true\n      root._bokeh_onload_callbacks = []\n      var bokeh_loaded = Bokeh != null && (Bokeh.version === py_version || (Bokeh.versions !== undefined && Bokeh.versions.has(py_version)));\n      if (!reloading && !bokeh_loaded) {\n\troot.Bokeh = undefined;\n      }\n      load_libs(css_urls, js_urls, js_modules, js_exports, function() {\n\tconsole.debug(\"Bokeh: BokehJS plotting callback run at\", now());\n\trun_inline_js();\n      });\n    }\n  }\n  // Give older versions of the autoload script a head-start to ensure\n  // they initialize before we start loading newer version.\n  setTimeout(load_or_wait, 100)\n}(window));",
      "application/vnd.holoviews_load.v0+json": "(function(root) {\n  function now() {\n    return new Date();\n  }\n\n  var force = true;\n  var py_version = '3.4.1'.replace('rc', '-rc.').replace('.dev', '-dev.');\n  var reloading = false;\n  var Bokeh = root.Bokeh;\n\n  if (typeof (root._bokeh_timeout) === \"undefined\" || force) {\n    root._bokeh_timeout = Date.now() + 5000;\n    root._bokeh_failed_load = false;\n  }\n\n  function run_callbacks() {\n    try {\n      root._bokeh_onload_callbacks.forEach(function(callback) {\n        if (callback != null)\n          callback();\n      });\n    } finally {\n      delete root._bokeh_onload_callbacks;\n    }\n    console.debug(\"Bokeh: all callbacks have finished\");\n  }\n\n  function load_libs(css_urls, js_urls, js_modules, js_exports, callback) {\n    if (css_urls == null) css_urls = [];\n    if (js_urls == null) js_urls = [];\n    if (js_modules == null) js_modules = [];\n    if (js_exports == null) js_exports = {};\n\n    root._bokeh_onload_callbacks.push(callback);\n\n    if (root._bokeh_is_loading > 0) {\n      console.debug(\"Bokeh: BokehJS is being loaded, scheduling callback at\", now());\n      return null;\n    }\n    if (js_urls.length === 0 && js_modules.length === 0 && Object.keys(js_exports).length === 0) {\n      run_callbacks();\n      return null;\n    }\n    if (!reloading) {\n      console.debug(\"Bokeh: BokehJS not loaded, scheduling load and callback at\", now());\n    }\n\n    function on_load() {\n      root._bokeh_is_loading--;\n      if (root._bokeh_is_loading === 0) {\n        console.debug(\"Bokeh: all BokehJS libraries/stylesheets loaded\");\n        run_callbacks()\n      }\n    }\n    window._bokeh_on_load = on_load\n\n    function on_error() {\n      console.error(\"failed to load \" + url);\n    }\n\n    var skip = [];\n    if (window.requirejs) {\n      window.requirejs.config({'packages': {}, 'paths': {}, 'shim': {}});\n      root._bokeh_is_loading = css_urls.length + 0;\n    } else {\n      root._bokeh_is_loading = css_urls.length + js_urls.length + js_modules.length + Object.keys(js_exports).length;\n    }\n\n    var existing_stylesheets = []\n    var links = document.getElementsByTagName('link')\n    for (var i = 0; i < links.length; i++) {\n      var link = links[i]\n      if (link.href != null) {\n\texisting_stylesheets.push(link.href)\n      }\n    }\n    for (var i = 0; i < css_urls.length; i++) {\n      var url = css_urls[i];\n      if (existing_stylesheets.indexOf(url) !== -1) {\n\ton_load()\n\tcontinue;\n      }\n      const element = document.createElement(\"link\");\n      element.onload = on_load;\n      element.onerror = on_error;\n      element.rel = \"stylesheet\";\n      element.type = \"text/css\";\n      element.href = url;\n      console.debug(\"Bokeh: injecting link tag for BokehJS stylesheet: \", url);\n      document.body.appendChild(element);\n    }    var existing_scripts = []\n    var scripts = document.getElementsByTagName('script')\n    for (var i = 0; i < scripts.length; i++) {\n      var script = scripts[i]\n      if (script.src != null) {\n\texisting_scripts.push(script.src)\n      }\n    }\n    for (var i = 0; i < js_urls.length; i++) {\n      var url = js_urls[i];\n      if (skip.indexOf(url) !== -1 || existing_scripts.indexOf(url) !== -1) {\n\tif (!window.requirejs) {\n\t  on_load();\n\t}\n\tcontinue;\n      }\n      var element = document.createElement('script');\n      element.onload = on_load;\n      element.onerror = on_error;\n      element.async = false;\n      element.src = url;\n      console.debug(\"Bokeh: injecting script tag for BokehJS library: \", url);\n      document.head.appendChild(element);\n    }\n    for (var i = 0; i < js_modules.length; i++) {\n      var url = js_modules[i];\n      if (skip.indexOf(url) !== -1 || existing_scripts.indexOf(url) !== -1) {\n\tif (!window.requirejs) {\n\t  on_load();\n\t}\n\tcontinue;\n      }\n      var element = document.createElement('script');\n      element.onload = on_load;\n      element.onerror = on_error;\n      element.async = false;\n      element.src = url;\n      element.type = \"module\";\n      console.debug(\"Bokeh: injecting script tag for BokehJS library: \", url);\n      document.head.appendChild(element);\n    }\n    for (const name in js_exports) {\n      var url = js_exports[name];\n      if (skip.indexOf(url) >= 0 || root[name] != null) {\n\tif (!window.requirejs) {\n\t  on_load();\n\t}\n\tcontinue;\n      }\n      var element = document.createElement('script');\n      element.onerror = on_error;\n      element.async = false;\n      element.type = \"module\";\n      console.debug(\"Bokeh: injecting script tag for BokehJS library: \", url);\n      element.textContent = `\n      import ${name} from \"${url}\"\n      window.${name} = ${name}\n      window._bokeh_on_load()\n      `\n      document.head.appendChild(element);\n    }\n    if (!js_urls.length && !js_modules.length) {\n      on_load()\n    }\n  };\n\n  function inject_raw_css(css) {\n    const element = document.createElement(\"style\");\n    element.appendChild(document.createTextNode(css));\n    document.body.appendChild(element);\n  }\n\n  var js_urls = [\"https://cdn.bokeh.org/bokeh/release/bokeh-3.4.1.min.js\", \"https://cdn.bokeh.org/bokeh/release/bokeh-gl-3.4.1.min.js\", \"https://cdn.bokeh.org/bokeh/release/bokeh-widgets-3.4.1.min.js\", \"https://cdn.bokeh.org/bokeh/release/bokeh-tables-3.4.1.min.js\", \"https://cdn.holoviz.org/panel/1.4.2/dist/panel.min.js\"];\n  var js_modules = [];\n  var js_exports = {};\n  var css_urls = [];\n  var inline_js = [    function(Bokeh) {\n      Bokeh.set_log_level(\"info\");\n    },\nfunction(Bokeh) {} // ensure no trailing comma for IE\n  ];\n\n  function run_inline_js() {\n    if ((root.Bokeh !== undefined) || (force === true)) {\n      for (var i = 0; i < inline_js.length; i++) {\n\ttry {\n          inline_js[i].call(root, root.Bokeh);\n\t} catch(e) {\n\t  if (!reloading) {\n\t    throw e;\n\t  }\n\t}\n      }\n      // Cache old bokeh versions\n      if (Bokeh != undefined && !reloading) {\n\tvar NewBokeh = root.Bokeh;\n\tif (Bokeh.versions === undefined) {\n\t  Bokeh.versions = new Map();\n\t}\n\tif (NewBokeh.version !== Bokeh.version) {\n\t  Bokeh.versions.set(NewBokeh.version, NewBokeh)\n\t}\n\troot.Bokeh = Bokeh;\n      }} else if (Date.now() < root._bokeh_timeout) {\n      setTimeout(run_inline_js, 100);\n    } else if (!root._bokeh_failed_load) {\n      console.log(\"Bokeh: BokehJS failed to load within specified timeout.\");\n      root._bokeh_failed_load = true;\n    }\n    root._bokeh_is_initializing = false\n  }\n\n  function load_or_wait() {\n    // Implement a backoff loop that tries to ensure we do not load multiple\n    // versions of Bokeh and its dependencies at the same time.\n    // In recent versions we use the root._bokeh_is_initializing flag\n    // to determine whether there is an ongoing attempt to initialize\n    // bokeh, however for backward compatibility we also try to ensure\n    // that we do not start loading a newer (Panel>=1.0 and Bokeh>3) version\n    // before older versions are fully initialized.\n    if (root._bokeh_is_initializing && Date.now() > root._bokeh_timeout) {\n      root._bokeh_is_initializing = false;\n      root._bokeh_onload_callbacks = undefined;\n      console.log(\"Bokeh: BokehJS was loaded multiple times but one version failed to initialize.\");\n      load_or_wait();\n    } else if (root._bokeh_is_initializing || (typeof root._bokeh_is_initializing === \"undefined\" && root._bokeh_onload_callbacks !== undefined)) {\n      setTimeout(load_or_wait, 100);\n    } else {\n      root._bokeh_is_initializing = true\n      root._bokeh_onload_callbacks = []\n      var bokeh_loaded = Bokeh != null && (Bokeh.version === py_version || (Bokeh.versions !== undefined && Bokeh.versions.has(py_version)));\n      if (!reloading && !bokeh_loaded) {\n\troot.Bokeh = undefined;\n      }\n      load_libs(css_urls, js_urls, js_modules, js_exports, function() {\n\tconsole.debug(\"Bokeh: BokehJS plotting callback run at\", now());\n\trun_inline_js();\n      });\n    }\n  }\n  // Give older versions of the autoload script a head-start to ensure\n  // they initialize before we start loading newer version.\n  setTimeout(load_or_wait, 100)\n}(window));"
     },
     "metadata": {},
     "output_type": "display_data"
    },
    {
     "data": {
      "application/vnd.holoviews_load.v0+json": "\nif ((window.PyViz === undefined) || (window.PyViz instanceof HTMLElement)) {\n  window.PyViz = {comms: {}, comm_status:{}, kernels:{}, receivers: {}, plot_index: []}\n}\n\n\n    function JupyterCommManager() {\n    }\n\n    JupyterCommManager.prototype.register_target = function(plot_id, comm_id, msg_handler) {\n      if (window.comm_manager || ((window.Jupyter !== undefined) && (Jupyter.notebook.kernel != null))) {\n        var comm_manager = window.comm_manager || Jupyter.notebook.kernel.comm_manager;\n        comm_manager.register_target(comm_id, function(comm) {\n          comm.on_msg(msg_handler);\n        });\n      } else if ((plot_id in window.PyViz.kernels) && (window.PyViz.kernels[plot_id])) {\n        window.PyViz.kernels[plot_id].registerCommTarget(comm_id, function(comm) {\n          comm.onMsg = msg_handler;\n        });\n      } else if (typeof google != 'undefined' && google.colab.kernel != null) {\n        google.colab.kernel.comms.registerTarget(comm_id, (comm) => {\n          var messages = comm.messages[Symbol.asyncIterator]();\n          function processIteratorResult(result) {\n            var message = result.value;\n            console.log(message)\n            var content = {data: message.data, comm_id};\n            var buffers = []\n            for (var buffer of message.buffers || []) {\n              buffers.push(new DataView(buffer))\n            }\n            var metadata = message.metadata || {};\n            var msg = {content, buffers, metadata}\n            msg_handler(msg);\n            return messages.next().then(processIteratorResult);\n          }\n          return messages.next().then(processIteratorResult);\n        })\n      }\n    }\n\n    JupyterCommManager.prototype.get_client_comm = function(plot_id, comm_id, msg_handler) {\n      if (comm_id in window.PyViz.comms) {\n        return window.PyViz.comms[comm_id];\n      } else if (window.comm_manager || ((window.Jupyter !== undefined) && (Jupyter.notebook.kernel != null))) {\n        var comm_manager = window.comm_manager || Jupyter.notebook.kernel.comm_manager;\n        var comm = comm_manager.new_comm(comm_id, {}, {}, {}, comm_id);\n        if (msg_handler) {\n          comm.on_msg(msg_handler);\n        }\n      } else if ((plot_id in window.PyViz.kernels) && (window.PyViz.kernels[plot_id])) {\n        var comm = window.PyViz.kernels[plot_id].connectToComm(comm_id);\n        comm.open();\n        if (msg_handler) {\n          comm.onMsg = msg_handler;\n        }\n      } else if (typeof google != 'undefined' && google.colab.kernel != null) {\n        var comm_promise = google.colab.kernel.comms.open(comm_id)\n        comm_promise.then((comm) => {\n          window.PyViz.comms[comm_id] = comm;\n          if (msg_handler) {\n            var messages = comm.messages[Symbol.asyncIterator]();\n            function processIteratorResult(result) {\n              var message = result.value;\n              var content = {data: message.data};\n              var metadata = message.metadata || {comm_id};\n              var msg = {content, metadata}\n              msg_handler(msg);\n              return messages.next().then(processIteratorResult);\n            }\n            return messages.next().then(processIteratorResult);\n          }\n        }) \n        var sendClosure = (data, metadata, buffers, disposeOnDone) => {\n          return comm_promise.then((comm) => {\n            comm.send(data, metadata, buffers, disposeOnDone);\n          });\n        };\n        var comm = {\n          send: sendClosure\n        };\n      }\n      window.PyViz.comms[comm_id] = comm;\n      return comm;\n    }\n    window.PyViz.comm_manager = new JupyterCommManager();\n    \n\n\nvar JS_MIME_TYPE = 'application/javascript';\nvar HTML_MIME_TYPE = 'text/html';\nvar EXEC_MIME_TYPE = 'application/vnd.holoviews_exec.v0+json';\nvar CLASS_NAME = 'output';\n\n/**\n * Render data to the DOM node\n */\nfunction render(props, node) {\n  var div = document.createElement(\"div\");\n  var script = document.createElement(\"script\");\n  node.appendChild(div);\n  node.appendChild(script);\n}\n\n/**\n * Handle when a new output is added\n */\nfunction handle_add_output(event, handle) {\n  var output_area = handle.output_area;\n  var output = handle.output;\n  if ((output.data == undefined) || (!output.data.hasOwnProperty(EXEC_MIME_TYPE))) {\n    return\n  }\n  var id = output.metadata[EXEC_MIME_TYPE][\"id\"];\n  var toinsert = output_area.element.find(\".\" + CLASS_NAME.split(' ')[0]);\n  if (id !== undefined) {\n    var nchildren = toinsert.length;\n    var html_node = toinsert[nchildren-1].children[0];\n    html_node.innerHTML = output.data[HTML_MIME_TYPE];\n    var scripts = [];\n    var nodelist = html_node.querySelectorAll(\"script\");\n    for (var i in nodelist) {\n      if (nodelist.hasOwnProperty(i)) {\n        scripts.push(nodelist[i])\n      }\n    }\n\n    scripts.forEach( function (oldScript) {\n      var newScript = document.createElement(\"script\");\n      var attrs = [];\n      var nodemap = oldScript.attributes;\n      for (var j in nodemap) {\n        if (nodemap.hasOwnProperty(j)) {\n          attrs.push(nodemap[j])\n        }\n      }\n      attrs.forEach(function(attr) { newScript.setAttribute(attr.name, attr.value) });\n      newScript.appendChild(document.createTextNode(oldScript.innerHTML));\n      oldScript.parentNode.replaceChild(newScript, oldScript);\n    });\n    if (JS_MIME_TYPE in output.data) {\n      toinsert[nchildren-1].children[1].textContent = output.data[JS_MIME_TYPE];\n    }\n    output_area._hv_plot_id = id;\n    if ((window.Bokeh !== undefined) && (id in Bokeh.index)) {\n      window.PyViz.plot_index[id] = Bokeh.index[id];\n    } else {\n      window.PyViz.plot_index[id] = null;\n    }\n  } else if (output.metadata[EXEC_MIME_TYPE][\"server_id\"] !== undefined) {\n    var bk_div = document.createElement(\"div\");\n    bk_div.innerHTML = output.data[HTML_MIME_TYPE];\n    var script_attrs = bk_div.children[0].attributes;\n    for (var i = 0; i < script_attrs.length; i++) {\n      toinsert[toinsert.length - 1].childNodes[1].setAttribute(script_attrs[i].name, script_attrs[i].value);\n    }\n    // store reference to server id on output_area\n    output_area._bokeh_server_id = output.metadata[EXEC_MIME_TYPE][\"server_id\"];\n  }\n}\n\n/**\n * Handle when an output is cleared or removed\n */\nfunction handle_clear_output(event, handle) {\n  var id = handle.cell.output_area._hv_plot_id;\n  var server_id = handle.cell.output_area._bokeh_server_id;\n  if (((id === undefined) || !(id in PyViz.plot_index)) && (server_id !== undefined)) { return; }\n  var comm = window.PyViz.comm_manager.get_client_comm(\"hv-extension-comm\", \"hv-extension-comm\", function () {});\n  if (server_id !== null) {\n    comm.send({event_type: 'server_delete', 'id': server_id});\n    return;\n  } else if (comm !== null) {\n    comm.send({event_type: 'delete', 'id': id});\n  }\n  delete PyViz.plot_index[id];\n  if ((window.Bokeh !== undefined) & (id in window.Bokeh.index)) {\n    var doc = window.Bokeh.index[id].model.document\n    doc.clear();\n    const i = window.Bokeh.documents.indexOf(doc);\n    if (i > -1) {\n      window.Bokeh.documents.splice(i, 1);\n    }\n  }\n}\n\n/**\n * Handle kernel restart event\n */\nfunction handle_kernel_cleanup(event, handle) {\n  delete PyViz.comms[\"hv-extension-comm\"];\n  window.PyViz.plot_index = {}\n}\n\n/**\n * Handle update_display_data messages\n */\nfunction handle_update_output(event, handle) {\n  handle_clear_output(event, {cell: {output_area: handle.output_area}})\n  handle_add_output(event, handle)\n}\n\nfunction register_renderer(events, OutputArea) {\n  function append_mime(data, metadata, element) {\n    // create a DOM node to render to\n    var toinsert = this.create_output_subarea(\n    metadata,\n    CLASS_NAME,\n    EXEC_MIME_TYPE\n    );\n    this.keyboard_manager.register_events(toinsert);\n    // Render to node\n    var props = {data: data, metadata: metadata[EXEC_MIME_TYPE]};\n    render(props, toinsert[0]);\n    element.append(toinsert);\n    return toinsert\n  }\n\n  events.on('output_added.OutputArea', handle_add_output);\n  events.on('output_updated.OutputArea', handle_update_output);\n  events.on('clear_output.CodeCell', handle_clear_output);\n  events.on('delete.Cell', handle_clear_output);\n  events.on('kernel_ready.Kernel', handle_kernel_cleanup);\n\n  OutputArea.prototype.register_mime_type(EXEC_MIME_TYPE, append_mime, {\n    safe: true,\n    index: 0\n  });\n}\n\nif (window.Jupyter !== undefined) {\n  try {\n    var events = require('base/js/events');\n    var OutputArea = require('notebook/js/outputarea').OutputArea;\n    if (OutputArea.prototype.mime_types().indexOf(EXEC_MIME_TYPE) == -1) {\n      register_renderer(events, OutputArea);\n    }\n  } catch(err) {\n  }\n}\n",
      "application/javascript": "\nif ((window.PyViz === undefined) || (window.PyViz instanceof HTMLElement)) {\n  window.PyViz = {comms: {}, comm_status:{}, kernels:{}, receivers: {}, plot_index: []}\n}\n\n\n    function JupyterCommManager() {\n    }\n\n    JupyterCommManager.prototype.register_target = function(plot_id, comm_id, msg_handler) {\n      if (window.comm_manager || ((window.Jupyter !== undefined) && (Jupyter.notebook.kernel != null))) {\n        var comm_manager = window.comm_manager || Jupyter.notebook.kernel.comm_manager;\n        comm_manager.register_target(comm_id, function(comm) {\n          comm.on_msg(msg_handler);\n        });\n      } else if ((plot_id in window.PyViz.kernels) && (window.PyViz.kernels[plot_id])) {\n        window.PyViz.kernels[plot_id].registerCommTarget(comm_id, function(comm) {\n          comm.onMsg = msg_handler;\n        });\n      } else if (typeof google != 'undefined' && google.colab.kernel != null) {\n        google.colab.kernel.comms.registerTarget(comm_id, (comm) => {\n          var messages = comm.messages[Symbol.asyncIterator]();\n          function processIteratorResult(result) {\n            var message = result.value;\n            console.log(message)\n            var content = {data: message.data, comm_id};\n            var buffers = []\n            for (var buffer of message.buffers || []) {\n              buffers.push(new DataView(buffer))\n            }\n            var metadata = message.metadata || {};\n            var msg = {content, buffers, metadata}\n            msg_handler(msg);\n            return messages.next().then(processIteratorResult);\n          }\n          return messages.next().then(processIteratorResult);\n        })\n      }\n    }\n\n    JupyterCommManager.prototype.get_client_comm = function(plot_id, comm_id, msg_handler) {\n      if (comm_id in window.PyViz.comms) {\n        return window.PyViz.comms[comm_id];\n      } else if (window.comm_manager || ((window.Jupyter !== undefined) && (Jupyter.notebook.kernel != null))) {\n        var comm_manager = window.comm_manager || Jupyter.notebook.kernel.comm_manager;\n        var comm = comm_manager.new_comm(comm_id, {}, {}, {}, comm_id);\n        if (msg_handler) {\n          comm.on_msg(msg_handler);\n        }\n      } else if ((plot_id in window.PyViz.kernels) && (window.PyViz.kernels[plot_id])) {\n        var comm = window.PyViz.kernels[plot_id].connectToComm(comm_id);\n        comm.open();\n        if (msg_handler) {\n          comm.onMsg = msg_handler;\n        }\n      } else if (typeof google != 'undefined' && google.colab.kernel != null) {\n        var comm_promise = google.colab.kernel.comms.open(comm_id)\n        comm_promise.then((comm) => {\n          window.PyViz.comms[comm_id] = comm;\n          if (msg_handler) {\n            var messages = comm.messages[Symbol.asyncIterator]();\n            function processIteratorResult(result) {\n              var message = result.value;\n              var content = {data: message.data};\n              var metadata = message.metadata || {comm_id};\n              var msg = {content, metadata}\n              msg_handler(msg);\n              return messages.next().then(processIteratorResult);\n            }\n            return messages.next().then(processIteratorResult);\n          }\n        }) \n        var sendClosure = (data, metadata, buffers, disposeOnDone) => {\n          return comm_promise.then((comm) => {\n            comm.send(data, metadata, buffers, disposeOnDone);\n          });\n        };\n        var comm = {\n          send: sendClosure\n        };\n      }\n      window.PyViz.comms[comm_id] = comm;\n      return comm;\n    }\n    window.PyViz.comm_manager = new JupyterCommManager();\n    \n\n\nvar JS_MIME_TYPE = 'application/javascript';\nvar HTML_MIME_TYPE = 'text/html';\nvar EXEC_MIME_TYPE = 'application/vnd.holoviews_exec.v0+json';\nvar CLASS_NAME = 'output';\n\n/**\n * Render data to the DOM node\n */\nfunction render(props, node) {\n  var div = document.createElement(\"div\");\n  var script = document.createElement(\"script\");\n  node.appendChild(div);\n  node.appendChild(script);\n}\n\n/**\n * Handle when a new output is added\n */\nfunction handle_add_output(event, handle) {\n  var output_area = handle.output_area;\n  var output = handle.output;\n  if ((output.data == undefined) || (!output.data.hasOwnProperty(EXEC_MIME_TYPE))) {\n    return\n  }\n  var id = output.metadata[EXEC_MIME_TYPE][\"id\"];\n  var toinsert = output_area.element.find(\".\" + CLASS_NAME.split(' ')[0]);\n  if (id !== undefined) {\n    var nchildren = toinsert.length;\n    var html_node = toinsert[nchildren-1].children[0];\n    html_node.innerHTML = output.data[HTML_MIME_TYPE];\n    var scripts = [];\n    var nodelist = html_node.querySelectorAll(\"script\");\n    for (var i in nodelist) {\n      if (nodelist.hasOwnProperty(i)) {\n        scripts.push(nodelist[i])\n      }\n    }\n\n    scripts.forEach( function (oldScript) {\n      var newScript = document.createElement(\"script\");\n      var attrs = [];\n      var nodemap = oldScript.attributes;\n      for (var j in nodemap) {\n        if (nodemap.hasOwnProperty(j)) {\n          attrs.push(nodemap[j])\n        }\n      }\n      attrs.forEach(function(attr) { newScript.setAttribute(attr.name, attr.value) });\n      newScript.appendChild(document.createTextNode(oldScript.innerHTML));\n      oldScript.parentNode.replaceChild(newScript, oldScript);\n    });\n    if (JS_MIME_TYPE in output.data) {\n      toinsert[nchildren-1].children[1].textContent = output.data[JS_MIME_TYPE];\n    }\n    output_area._hv_plot_id = id;\n    if ((window.Bokeh !== undefined) && (id in Bokeh.index)) {\n      window.PyViz.plot_index[id] = Bokeh.index[id];\n    } else {\n      window.PyViz.plot_index[id] = null;\n    }\n  } else if (output.metadata[EXEC_MIME_TYPE][\"server_id\"] !== undefined) {\n    var bk_div = document.createElement(\"div\");\n    bk_div.innerHTML = output.data[HTML_MIME_TYPE];\n    var script_attrs = bk_div.children[0].attributes;\n    for (var i = 0; i < script_attrs.length; i++) {\n      toinsert[toinsert.length - 1].childNodes[1].setAttribute(script_attrs[i].name, script_attrs[i].value);\n    }\n    // store reference to server id on output_area\n    output_area._bokeh_server_id = output.metadata[EXEC_MIME_TYPE][\"server_id\"];\n  }\n}\n\n/**\n * Handle when an output is cleared or removed\n */\nfunction handle_clear_output(event, handle) {\n  var id = handle.cell.output_area._hv_plot_id;\n  var server_id = handle.cell.output_area._bokeh_server_id;\n  if (((id === undefined) || !(id in PyViz.plot_index)) && (server_id !== undefined)) { return; }\n  var comm = window.PyViz.comm_manager.get_client_comm(\"hv-extension-comm\", \"hv-extension-comm\", function () {});\n  if (server_id !== null) {\n    comm.send({event_type: 'server_delete', 'id': server_id});\n    return;\n  } else if (comm !== null) {\n    comm.send({event_type: 'delete', 'id': id});\n  }\n  delete PyViz.plot_index[id];\n  if ((window.Bokeh !== undefined) & (id in window.Bokeh.index)) {\n    var doc = window.Bokeh.index[id].model.document\n    doc.clear();\n    const i = window.Bokeh.documents.indexOf(doc);\n    if (i > -1) {\n      window.Bokeh.documents.splice(i, 1);\n    }\n  }\n}\n\n/**\n * Handle kernel restart event\n */\nfunction handle_kernel_cleanup(event, handle) {\n  delete PyViz.comms[\"hv-extension-comm\"];\n  window.PyViz.plot_index = {}\n}\n\n/**\n * Handle update_display_data messages\n */\nfunction handle_update_output(event, handle) {\n  handle_clear_output(event, {cell: {output_area: handle.output_area}})\n  handle_add_output(event, handle)\n}\n\nfunction register_renderer(events, OutputArea) {\n  function append_mime(data, metadata, element) {\n    // create a DOM node to render to\n    var toinsert = this.create_output_subarea(\n    metadata,\n    CLASS_NAME,\n    EXEC_MIME_TYPE\n    );\n    this.keyboard_manager.register_events(toinsert);\n    // Render to node\n    var props = {data: data, metadata: metadata[EXEC_MIME_TYPE]};\n    render(props, toinsert[0]);\n    element.append(toinsert);\n    return toinsert\n  }\n\n  events.on('output_added.OutputArea', handle_add_output);\n  events.on('output_updated.OutputArea', handle_update_output);\n  events.on('clear_output.CodeCell', handle_clear_output);\n  events.on('delete.Cell', handle_clear_output);\n  events.on('kernel_ready.Kernel', handle_kernel_cleanup);\n\n  OutputArea.prototype.register_mime_type(EXEC_MIME_TYPE, append_mime, {\n    safe: true,\n    index: 0\n  });\n}\n\nif (window.Jupyter !== undefined) {\n  try {\n    var events = require('base/js/events');\n    var OutputArea = require('notebook/js/outputarea').OutputArea;\n    if (OutputArea.prototype.mime_types().indexOf(EXEC_MIME_TYPE) == -1) {\n      register_renderer(events, OutputArea);\n    }\n  } catch(err) {\n  }\n}\n"
     },
     "metadata": {},
     "output_type": "display_data"
    },
    {
     "data": {
      "text/html": [
       "<style>*[data-root-id],\n",
       "*[data-root-id] > * {\n",
       "  box-sizing: border-box;\n",
       "  font-family: var(--jp-ui-font-family);\n",
       "  font-size: var(--jp-ui-font-size1);\n",
       "  color: var(--vscode-editor-foreground, var(--jp-ui-font-color1));\n",
       "}\n",
       "\n",
       "/* Override VSCode background color */\n",
       ".cell-output-ipywidget-background:has(\n",
       "    > .cell-output-ipywidget-background > .lm-Widget > *[data-root-id]\n",
       "  ),\n",
       ".cell-output-ipywidget-background:has(> .lm-Widget > *[data-root-id]) {\n",
       "  background-color: transparent !important;\n",
       "}\n",
       "</style>"
      ]
     },
     "metadata": {},
     "output_type": "display_data"
    },
    {
     "data": {
      "text/html": [
       "<div id='p1002'>\n",
       "  <div id=\"e7ee2c23-feef-4d53-90f3-de87deb98360\" data-root-id=\"p1002\" style=\"display: contents;\"></div>\n",
       "</div>\n",
       "<script type=\"application/javascript\">(function(root) {\n",
       "  var docs_json = {\"6279b697-367b-4b08-ac61-bbf775d7b31c\":{\"version\":\"3.4.1\",\"title\":\"Bokeh Application\",\"roots\":[{\"type\":\"object\",\"name\":\"panel.models.browser.BrowserInfo\",\"id\":\"p1002\"},{\"type\":\"object\",\"name\":\"panel.models.comm_manager.CommManager\",\"id\":\"p1003\",\"attributes\":{\"plot_id\":\"p1002\",\"comm_id\":\"6ab806a325524eca88b91e4f56b6b19a\",\"client_comm_id\":\"8403a54fb8734e1a91e1172916101df1\"}}],\"defs\":[{\"type\":\"model\",\"name\":\"ReactiveHTML1\"},{\"type\":\"model\",\"name\":\"FlexBox1\",\"properties\":[{\"name\":\"align_content\",\"kind\":\"Any\",\"default\":\"flex-start\"},{\"name\":\"align_items\",\"kind\":\"Any\",\"default\":\"flex-start\"},{\"name\":\"flex_direction\",\"kind\":\"Any\",\"default\":\"row\"},{\"name\":\"flex_wrap\",\"kind\":\"Any\",\"default\":\"wrap\"},{\"name\":\"gap\",\"kind\":\"Any\",\"default\":\"\"},{\"name\":\"justify_content\",\"kind\":\"Any\",\"default\":\"flex-start\"}]},{\"type\":\"model\",\"name\":\"FloatPanel1\",\"properties\":[{\"name\":\"config\",\"kind\":\"Any\",\"default\":{\"type\":\"map\"}},{\"name\":\"contained\",\"kind\":\"Any\",\"default\":true},{\"name\":\"position\",\"kind\":\"Any\",\"default\":\"right-top\"},{\"name\":\"offsetx\",\"kind\":\"Any\",\"default\":null},{\"name\":\"offsety\",\"kind\":\"Any\",\"default\":null},{\"name\":\"theme\",\"kind\":\"Any\",\"default\":\"primary\"},{\"name\":\"status\",\"kind\":\"Any\",\"default\":\"normalized\"}]},{\"type\":\"model\",\"name\":\"GridStack1\",\"properties\":[{\"name\":\"mode\",\"kind\":\"Any\",\"default\":\"warn\"},{\"name\":\"ncols\",\"kind\":\"Any\",\"default\":null},{\"name\":\"nrows\",\"kind\":\"Any\",\"default\":null},{\"name\":\"allow_resize\",\"kind\":\"Any\",\"default\":true},{\"name\":\"allow_drag\",\"kind\":\"Any\",\"default\":true},{\"name\":\"state\",\"kind\":\"Any\",\"default\":[]}]},{\"type\":\"model\",\"name\":\"drag1\",\"properties\":[{\"name\":\"slider_width\",\"kind\":\"Any\",\"default\":5},{\"name\":\"slider_color\",\"kind\":\"Any\",\"default\":\"black\"},{\"name\":\"value\",\"kind\":\"Any\",\"default\":50}]},{\"type\":\"model\",\"name\":\"click1\",\"properties\":[{\"name\":\"terminal_output\",\"kind\":\"Any\",\"default\":\"\"},{\"name\":\"debug_name\",\"kind\":\"Any\",\"default\":\"\"},{\"name\":\"clears\",\"kind\":\"Any\",\"default\":0}]},{\"type\":\"model\",\"name\":\"FastWrapper1\",\"properties\":[{\"name\":\"object\",\"kind\":\"Any\",\"default\":null},{\"name\":\"style\",\"kind\":\"Any\",\"default\":null}]},{\"type\":\"model\",\"name\":\"NotificationAreaBase1\",\"properties\":[{\"name\":\"js_events\",\"kind\":\"Any\",\"default\":{\"type\":\"map\"}},{\"name\":\"position\",\"kind\":\"Any\",\"default\":\"bottom-right\"},{\"name\":\"_clear\",\"kind\":\"Any\",\"default\":0}]},{\"type\":\"model\",\"name\":\"NotificationArea1\",\"properties\":[{\"name\":\"js_events\",\"kind\":\"Any\",\"default\":{\"type\":\"map\"}},{\"name\":\"notifications\",\"kind\":\"Any\",\"default\":[]},{\"name\":\"position\",\"kind\":\"Any\",\"default\":\"bottom-right\"},{\"name\":\"_clear\",\"kind\":\"Any\",\"default\":0},{\"name\":\"types\",\"kind\":\"Any\",\"default\":[{\"type\":\"map\",\"entries\":[[\"type\",\"warning\"],[\"background\",\"#ffc107\"],[\"icon\",{\"type\":\"map\",\"entries\":[[\"className\",\"fas fa-exclamation-triangle\"],[\"tagName\",\"i\"],[\"color\",\"white\"]]}]]},{\"type\":\"map\",\"entries\":[[\"type\",\"info\"],[\"background\",\"#007bff\"],[\"icon\",{\"type\":\"map\",\"entries\":[[\"className\",\"fas fa-info-circle\"],[\"tagName\",\"i\"],[\"color\",\"white\"]]}]]}]}]},{\"type\":\"model\",\"name\":\"Notification\",\"properties\":[{\"name\":\"background\",\"kind\":\"Any\",\"default\":null},{\"name\":\"duration\",\"kind\":\"Any\",\"default\":3000},{\"name\":\"icon\",\"kind\":\"Any\",\"default\":null},{\"name\":\"message\",\"kind\":\"Any\",\"default\":\"\"},{\"name\":\"notification_type\",\"kind\":\"Any\",\"default\":null},{\"name\":\"_destroyed\",\"kind\":\"Any\",\"default\":false}]},{\"type\":\"model\",\"name\":\"TemplateActions1\",\"properties\":[{\"name\":\"open_modal\",\"kind\":\"Any\",\"default\":0},{\"name\":\"close_modal\",\"kind\":\"Any\",\"default\":0}]},{\"type\":\"model\",\"name\":\"BootstrapTemplateActions1\",\"properties\":[{\"name\":\"open_modal\",\"kind\":\"Any\",\"default\":0},{\"name\":\"close_modal\",\"kind\":\"Any\",\"default\":0}]},{\"type\":\"model\",\"name\":\"TemplateEditor1\",\"properties\":[{\"name\":\"layout\",\"kind\":\"Any\",\"default\":[]}]},{\"type\":\"model\",\"name\":\"MaterialTemplateActions1\",\"properties\":[{\"name\":\"open_modal\",\"kind\":\"Any\",\"default\":0},{\"name\":\"close_modal\",\"kind\":\"Any\",\"default\":0}]},{\"type\":\"model\",\"name\":\"copy_to_clipboard1\",\"properties\":[{\"name\":\"fill\",\"kind\":\"Any\",\"default\":\"none\"},{\"name\":\"value\",\"kind\":\"Any\",\"default\":null}]}]}};\n",
       "  var render_items = [{\"docid\":\"6279b697-367b-4b08-ac61-bbf775d7b31c\",\"roots\":{\"p1002\":\"e7ee2c23-feef-4d53-90f3-de87deb98360\"},\"root_ids\":[\"p1002\"]}];\n",
       "  var docs = Object.values(docs_json)\n",
       "  if (!docs) {\n",
       "    return\n",
       "  }\n",
       "  const py_version = docs[0].version.replace('rc', '-rc.').replace('.dev', '-dev.')\n",
       "  function embed_document(root) {\n",
       "    var Bokeh = get_bokeh(root)\n",
       "    Bokeh.embed.embed_items_notebook(docs_json, render_items);\n",
       "    for (const render_item of render_items) {\n",
       "      for (const root_id of render_item.root_ids) {\n",
       "\tconst id_el = document.getElementById(root_id)\n",
       "\tif (id_el.children.length && (id_el.children[0].className === 'bk-root')) {\n",
       "\t  const root_el = id_el.children[0]\n",
       "\t  root_el.id = root_el.id + '-rendered'\n",
       "\t}\n",
       "      }\n",
       "    }\n",
       "  }\n",
       "  function get_bokeh(root) {\n",
       "    if (root.Bokeh === undefined) {\n",
       "      return null\n",
       "    } else if (root.Bokeh.version !== py_version) {\n",
       "      if (root.Bokeh.versions === undefined || !root.Bokeh.versions.has(py_version)) {\n",
       "\treturn null\n",
       "      }\n",
       "      return root.Bokeh.versions.get(py_version);\n",
       "    } else if (root.Bokeh.version === py_version) {\n",
       "      return root.Bokeh\n",
       "    }\n",
       "    return null\n",
       "  }\n",
       "  function is_loaded(root) {\n",
       "    var Bokeh = get_bokeh(root)\n",
       "    return (Bokeh != null && Bokeh.Panel !== undefined)\n",
       "  }\n",
       "  if (is_loaded(root)) {\n",
       "    embed_document(root);\n",
       "  } else {\n",
       "    var attempts = 0;\n",
       "    var timer = setInterval(function(root) {\n",
       "      if (is_loaded(root)) {\n",
       "        clearInterval(timer);\n",
       "        embed_document(root);\n",
       "      } else if (document.readyState == \"complete\") {\n",
       "        attempts++;\n",
       "        if (attempts > 200) {\n",
       "          clearInterval(timer);\n",
       "\t  var Bokeh = get_bokeh(root)\n",
       "\t  if (Bokeh == null || Bokeh.Panel == null) {\n",
       "            console.warn(\"Panel: ERROR: Unable to run Panel code because Bokeh or Panel library is missing\");\n",
       "\t  } else {\n",
       "\t    console.warn(\"Panel: WARNING: Attempting to render but not all required libraries could be resolved.\")\n",
       "\t    embed_document(root)\n",
       "\t  }\n",
       "        }\n",
       "      }\n",
       "    }, 25, root)\n",
       "  }\n",
       "})(window);</script>"
      ],
      "application/vnd.holoviews_exec.v0+json": ""
     },
     "metadata": {
      "application/vnd.holoviews_exec.v0+json": {
       "id": "p1002"
      }
     },
     "output_type": "display_data"
    },
    {
     "data": {},
     "metadata": {},
     "output_type": "display_data"
    },
    {
     "data": {
      "text/html": [
       "<div id='p1004'>\n",
       "  <div id=\"a8951a05-5b2d-4f93-a014-a4718154e834\" data-root-id=\"p1004\" style=\"display: contents;\"></div>\n",
       "</div>\n",
       "<script type=\"application/javascript\">(function(root) {\n",
       "  var docs_json = {\"02af0773-d6d3-4ade-bc04-44015b5b6a22\":{\"version\":\"3.4.1\",\"title\":\"Bokeh Application\",\"roots\":[{\"type\":\"object\",\"name\":\"Row\",\"id\":\"p1004\",\"attributes\":{\"name\":\"Row00939\",\"tags\":[\"embedded\"],\"stylesheets\":[\"\\n:host(.pn-loading):before, .pn-loading:before {\\n  background-color: #c3c3c3;\\n  mask-size: auto calc(min(50%, 400px));\\n  -webkit-mask-size: auto calc(min(50%, 400px));\\n}\",{\"type\":\"object\",\"name\":\"ImportedStyleSheet\",\"id\":\"p1007\",\"attributes\":{\"url\":\"https://cdn.holoviz.org/panel/1.4.2/dist/css/loading.css\"}},{\"type\":\"object\",\"name\":\"ImportedStyleSheet\",\"id\":\"p1075\",\"attributes\":{\"url\":\"https://cdn.holoviz.org/panel/1.4.2/dist/css/listpanel.css\"}},{\"type\":\"object\",\"name\":\"ImportedStyleSheet\",\"id\":\"p1005\",\"attributes\":{\"url\":\"https://cdn.holoviz.org/panel/1.4.2/dist/bundled/theme/default.css\"}},{\"type\":\"object\",\"name\":\"ImportedStyleSheet\",\"id\":\"p1006\",\"attributes\":{\"url\":\"https://cdn.holoviz.org/panel/1.4.2/dist/bundled/theme/native.css\"}}],\"min_width\":700,\"margin\":0,\"sizing_mode\":\"stretch_width\",\"align\":\"start\",\"children\":[{\"type\":\"object\",\"name\":\"Spacer\",\"id\":\"p1008\",\"attributes\":{\"name\":\"HSpacer00946\",\"stylesheets\":[\"\\n:host(.pn-loading):before, .pn-loading:before {\\n  background-color: #c3c3c3;\\n  mask-size: auto calc(min(50%, 400px));\\n  -webkit-mask-size: auto calc(min(50%, 400px));\\n}\",{\"id\":\"p1007\"},{\"id\":\"p1005\"},{\"id\":\"p1006\"}],\"margin\":0,\"sizing_mode\":\"stretch_width\",\"align\":\"start\"}},{\"type\":\"object\",\"name\":\"Figure\",\"id\":\"p1016\",\"attributes\":{\"width\":700,\"height\":300,\"margin\":[5,10],\"sizing_mode\":\"fixed\",\"align\":\"start\",\"x_range\":{\"type\":\"object\",\"name\":\"Range1d\",\"id\":\"p1009\",\"attributes\":{\"tags\":[[[\"date\",\"date\",null]],[]],\"start\":946684800000.0,\"end\":1711929600000.0,\"reset_start\":946684800000.0,\"reset_end\":1711929600000.0}},\"y_range\":{\"type\":\"object\",\"name\":\"Range1d\",\"id\":\"p1010\",\"attributes\":{\"tags\":[[[\"unexpected_inflation\",\"unexpected_inflation\",null]],{\"type\":\"map\",\"entries\":[[\"invert_yaxis\",false],[\"autorange\",false]]}],\"start\":-0.022193943822528775,\"end\":0.02339819564209822,\"reset_start\":-0.022193943822528775,\"reset_end\":0.02339819564209822}},\"x_scale\":{\"type\":\"object\",\"name\":\"LinearScale\",\"id\":\"p1026\"},\"y_scale\":{\"type\":\"object\",\"name\":\"LinearScale\",\"id\":\"p1027\"},\"title\":{\"type\":\"object\",\"name\":\"Title\",\"id\":\"p1019\",\"attributes\":{\"text_color\":\"black\",\"text_font_size\":\"12pt\"}},\"renderers\":[{\"type\":\"object\",\"name\":\"GlyphRenderer\",\"id\":\"p1068\",\"attributes\":{\"data_source\":{\"type\":\"object\",\"name\":\"ColumnDataSource\",\"id\":\"p1059\",\"attributes\":{\"selected\":{\"type\":\"object\",\"name\":\"Selection\",\"id\":\"p1060\",\"attributes\":{\"indices\":[],\"line_indices\":[]}},\"selection_policy\":{\"type\":\"object\",\"name\":\"UnionRenderers\",\"id\":\"p1061\"},\"data\":{\"type\":\"map\",\"entries\":[[\"date\",{\"type\":\"ndarray\",\"array\":{\"type\":\"bytes\",\"data\":\"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\"},\"shape\":[292],\"dtype\":\"float64\",\"order\":\"little\"}],[\"unexpected_inflation\",{\"type\":\"ndarray\",\"array\":{\"type\":\"bytes\",\"data\":\"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\"},\"shape\":[292],\"dtype\":\"float64\",\"order\":\"little\"}]]}}},\"view\":{\"type\":\"object\",\"name\":\"CDSView\",\"id\":\"p1069\",\"attributes\":{\"filter\":{\"type\":\"object\",\"name\":\"AllIndices\",\"id\":\"p1070\"}}},\"glyph\":{\"type\":\"object\",\"name\":\"Line\",\"id\":\"p1065\",\"attributes\":{\"tags\":[\"apply_ranges\"],\"x\":{\"type\":\"field\",\"field\":\"date\"},\"y\":{\"type\":\"field\",\"field\":\"unexpected_inflation\"},\"line_color\":\"#30a2da\",\"line_width\":2}},\"selection_glyph\":{\"type\":\"object\",\"name\":\"Line\",\"id\":\"p1071\",\"attributes\":{\"tags\":[\"apply_ranges\"],\"x\":{\"type\":\"field\",\"field\":\"date\"},\"y\":{\"type\":\"field\",\"field\":\"unexpected_inflation\"},\"line_color\":\"#30a2da\",\"line_width\":2}},\"nonselection_glyph\":{\"type\":\"object\",\"name\":\"Line\",\"id\":\"p1066\",\"attributes\":{\"tags\":[\"apply_ranges\"],\"x\":{\"type\":\"field\",\"field\":\"date\"},\"y\":{\"type\":\"field\",\"field\":\"unexpected_inflation\"},\"line_color\":\"#30a2da\",\"line_alpha\":0.1,\"line_width\":2}},\"muted_glyph\":{\"type\":\"object\",\"name\":\"Line\",\"id\":\"p1067\",\"attributes\":{\"tags\":[\"apply_ranges\"],\"x\":{\"type\":\"field\",\"field\":\"date\"},\"y\":{\"type\":\"field\",\"field\":\"unexpected_inflation\"},\"line_color\":\"#30a2da\",\"line_alpha\":0.2,\"line_width\":2}}}}],\"toolbar\":{\"type\":\"object\",\"name\":\"Toolbar\",\"id\":\"p1025\",\"attributes\":{\"tools\":[{\"type\":\"object\",\"name\":\"WheelZoomTool\",\"id\":\"p1014\",\"attributes\":{\"tags\":[\"hv_created\"],\"renderers\":\"auto\",\"zoom_together\":\"none\"}},{\"type\":\"object\",\"name\":\"HoverTool\",\"id\":\"p1015\",\"attributes\":{\"tags\":[\"hv_created\"],\"renderers\":[{\"id\":\"p1068\"}],\"tooltips\":[[\"date\",\"@{date}{%F %T}\"],[\"unexpected_inflation\",\"@{unexpected_inflation}\"]],\"formatters\":{\"type\":\"map\",\"entries\":[[\"@{date}\",\"datetime\"]]}}},{\"type\":\"object\",\"name\":\"SaveTool\",\"id\":\"p1050\"},{\"type\":\"object\",\"name\":\"PanTool\",\"id\":\"p1051\"},{\"type\":\"object\",\"name\":\"BoxZoomTool\",\"id\":\"p1052\",\"attributes\":{\"overlay\":{\"type\":\"object\",\"name\":\"BoxAnnotation\",\"id\":\"p1053\",\"attributes\":{\"syncable\":false,\"level\":\"overlay\",\"visible\":false,\"left\":{\"type\":\"number\",\"value\":\"nan\"},\"right\":{\"type\":\"number\",\"value\":\"nan\"},\"top\":{\"type\":\"number\",\"value\":\"nan\"},\"bottom\":{\"type\":\"number\",\"value\":\"nan\"},\"left_units\":\"canvas\",\"right_units\":\"canvas\",\"top_units\":\"canvas\",\"bottom_units\":\"canvas\",\"line_color\":\"black\",\"line_alpha\":1.0,\"line_width\":2,\"line_dash\":[4,4],\"fill_color\":\"lightgrey\",\"fill_alpha\":0.5}}}},{\"type\":\"object\",\"name\":\"ResetTool\",\"id\":\"p1058\"}],\"active_drag\":{\"id\":\"p1051\"},\"active_scroll\":{\"id\":\"p1014\"}}},\"left\":[{\"type\":\"object\",\"name\":\"LinearAxis\",\"id\":\"p1045\",\"attributes\":{\"ticker\":{\"type\":\"object\",\"name\":\"BasicTicker\",\"id\":\"p1046\",\"attributes\":{\"mantissas\":[1,2,5]}},\"formatter\":{\"type\":\"object\",\"name\":\"BasicTickFormatter\",\"id\":\"p1047\"},\"axis_label\":\"unexpected_inflation\",\"major_label_policy\":{\"type\":\"object\",\"name\":\"AllLabels\",\"id\":\"p1048\"}}}],\"below\":[{\"type\":\"object\",\"name\":\"DatetimeAxis\",\"id\":\"p1028\",\"attributes\":{\"ticker\":{\"type\":\"object\",\"name\":\"DatetimeTicker\",\"id\":\"p1029\",\"attributes\":{\"num_minor_ticks\":5,\"tickers\":[{\"type\":\"object\",\"name\":\"AdaptiveTicker\",\"id\":\"p1030\",\"attributes\":{\"num_minor_ticks\":0,\"mantissas\":[1,2,5],\"max_interval\":500.0}},{\"type\":\"object\",\"name\":\"AdaptiveTicker\",\"id\":\"p1031\",\"attributes\":{\"num_minor_ticks\":0,\"base\":60,\"mantissas\":[1,2,5,10,15,20,30],\"min_interval\":1000.0,\"max_interval\":1800000.0}},{\"type\":\"object\",\"name\":\"AdaptiveTicker\",\"id\":\"p1032\",\"attributes\":{\"num_minor_ticks\":0,\"base\":24,\"mantissas\":[1,2,4,6,8,12],\"min_interval\":3600000.0,\"max_interval\":43200000.0}},{\"type\":\"object\",\"name\":\"DaysTicker\",\"id\":\"p1033\",\"attributes\":{\"days\":[1,2,3,4,5,6,7,8,9,10,11,12,13,14,15,16,17,18,19,20,21,22,23,24,25,26,27,28,29,30,31]}},{\"type\":\"object\",\"name\":\"DaysTicker\",\"id\":\"p1034\",\"attributes\":{\"days\":[1,4,7,10,13,16,19,22,25,28]}},{\"type\":\"object\",\"name\":\"DaysTicker\",\"id\":\"p1035\",\"attributes\":{\"days\":[1,8,15,22]}},{\"type\":\"object\",\"name\":\"DaysTicker\",\"id\":\"p1036\",\"attributes\":{\"days\":[1,15]}},{\"type\":\"object\",\"name\":\"MonthsTicker\",\"id\":\"p1037\",\"attributes\":{\"months\":[0,1,2,3,4,5,6,7,8,9,10,11]}},{\"type\":\"object\",\"name\":\"MonthsTicker\",\"id\":\"p1038\",\"attributes\":{\"months\":[0,2,4,6,8,10]}},{\"type\":\"object\",\"name\":\"MonthsTicker\",\"id\":\"p1039\",\"attributes\":{\"months\":[0,4,8]}},{\"type\":\"object\",\"name\":\"MonthsTicker\",\"id\":\"p1040\",\"attributes\":{\"months\":[0,6]}},{\"type\":\"object\",\"name\":\"YearsTicker\",\"id\":\"p1041\"}]}},\"formatter\":{\"type\":\"object\",\"name\":\"DatetimeTickFormatter\",\"id\":\"p1042\"},\"axis_label\":\"date\",\"major_label_policy\":{\"type\":\"object\",\"name\":\"AllLabels\",\"id\":\"p1043\"}}}],\"center\":[{\"type\":\"object\",\"name\":\"Grid\",\"id\":\"p1044\",\"attributes\":{\"axis\":{\"id\":\"p1028\"},\"grid_line_color\":null}},{\"type\":\"object\",\"name\":\"Grid\",\"id\":\"p1049\",\"attributes\":{\"dimension\":1,\"axis\":{\"id\":\"p1045\"},\"grid_line_color\":null}}],\"min_border_top\":10,\"min_border_bottom\":10,\"min_border_left\":10,\"min_border_right\":10,\"output_backend\":\"webgl\"}},{\"type\":\"object\",\"name\":\"Spacer\",\"id\":\"p1073\",\"attributes\":{\"name\":\"HSpacer00947\",\"stylesheets\":[\"\\n:host(.pn-loading):before, .pn-loading:before {\\n  background-color: #c3c3c3;\\n  mask-size: auto calc(min(50%, 400px));\\n  -webkit-mask-size: auto calc(min(50%, 400px));\\n}\",{\"id\":\"p1007\"},{\"id\":\"p1005\"},{\"id\":\"p1006\"}],\"margin\":0,\"sizing_mode\":\"stretch_width\",\"align\":\"start\"}}]}}],\"defs\":[{\"type\":\"model\",\"name\":\"ReactiveHTML1\"},{\"type\":\"model\",\"name\":\"FlexBox1\",\"properties\":[{\"name\":\"align_content\",\"kind\":\"Any\",\"default\":\"flex-start\"},{\"name\":\"align_items\",\"kind\":\"Any\",\"default\":\"flex-start\"},{\"name\":\"flex_direction\",\"kind\":\"Any\",\"default\":\"row\"},{\"name\":\"flex_wrap\",\"kind\":\"Any\",\"default\":\"wrap\"},{\"name\":\"gap\",\"kind\":\"Any\",\"default\":\"\"},{\"name\":\"justify_content\",\"kind\":\"Any\",\"default\":\"flex-start\"}]},{\"type\":\"model\",\"name\":\"FloatPanel1\",\"properties\":[{\"name\":\"config\",\"kind\":\"Any\",\"default\":{\"type\":\"map\"}},{\"name\":\"contained\",\"kind\":\"Any\",\"default\":true},{\"name\":\"position\",\"kind\":\"Any\",\"default\":\"right-top\"},{\"name\":\"offsetx\",\"kind\":\"Any\",\"default\":null},{\"name\":\"offsety\",\"kind\":\"Any\",\"default\":null},{\"name\":\"theme\",\"kind\":\"Any\",\"default\":\"primary\"},{\"name\":\"status\",\"kind\":\"Any\",\"default\":\"normalized\"}]},{\"type\":\"model\",\"name\":\"GridStack1\",\"properties\":[{\"name\":\"mode\",\"kind\":\"Any\",\"default\":\"warn\"},{\"name\":\"ncols\",\"kind\":\"Any\",\"default\":null},{\"name\":\"nrows\",\"kind\":\"Any\",\"default\":null},{\"name\":\"allow_resize\",\"kind\":\"Any\",\"default\":true},{\"name\":\"allow_drag\",\"kind\":\"Any\",\"default\":true},{\"name\":\"state\",\"kind\":\"Any\",\"default\":[]}]},{\"type\":\"model\",\"name\":\"drag1\",\"properties\":[{\"name\":\"slider_width\",\"kind\":\"Any\",\"default\":5},{\"name\":\"slider_color\",\"kind\":\"Any\",\"default\":\"black\"},{\"name\":\"value\",\"kind\":\"Any\",\"default\":50}]},{\"type\":\"model\",\"name\":\"click1\",\"properties\":[{\"name\":\"terminal_output\",\"kind\":\"Any\",\"default\":\"\"},{\"name\":\"debug_name\",\"kind\":\"Any\",\"default\":\"\"},{\"name\":\"clears\",\"kind\":\"Any\",\"default\":0}]},{\"type\":\"model\",\"name\":\"FastWrapper1\",\"properties\":[{\"name\":\"object\",\"kind\":\"Any\",\"default\":null},{\"name\":\"style\",\"kind\":\"Any\",\"default\":null}]},{\"type\":\"model\",\"name\":\"NotificationAreaBase1\",\"properties\":[{\"name\":\"js_events\",\"kind\":\"Any\",\"default\":{\"type\":\"map\"}},{\"name\":\"position\",\"kind\":\"Any\",\"default\":\"bottom-right\"},{\"name\":\"_clear\",\"kind\":\"Any\",\"default\":0}]},{\"type\":\"model\",\"name\":\"NotificationArea1\",\"properties\":[{\"name\":\"js_events\",\"kind\":\"Any\",\"default\":{\"type\":\"map\"}},{\"name\":\"notifications\",\"kind\":\"Any\",\"default\":[]},{\"name\":\"position\",\"kind\":\"Any\",\"default\":\"bottom-right\"},{\"name\":\"_clear\",\"kind\":\"Any\",\"default\":0},{\"name\":\"types\",\"kind\":\"Any\",\"default\":[{\"type\":\"map\",\"entries\":[[\"type\",\"warning\"],[\"background\",\"#ffc107\"],[\"icon\",{\"type\":\"map\",\"entries\":[[\"className\",\"fas fa-exclamation-triangle\"],[\"tagName\",\"i\"],[\"color\",\"white\"]]}]]},{\"type\":\"map\",\"entries\":[[\"type\",\"info\"],[\"background\",\"#007bff\"],[\"icon\",{\"type\":\"map\",\"entries\":[[\"className\",\"fas fa-info-circle\"],[\"tagName\",\"i\"],[\"color\",\"white\"]]}]]}]}]},{\"type\":\"model\",\"name\":\"Notification\",\"properties\":[{\"name\":\"background\",\"kind\":\"Any\",\"default\":null},{\"name\":\"duration\",\"kind\":\"Any\",\"default\":3000},{\"name\":\"icon\",\"kind\":\"Any\",\"default\":null},{\"name\":\"message\",\"kind\":\"Any\",\"default\":\"\"},{\"name\":\"notification_type\",\"kind\":\"Any\",\"default\":null},{\"name\":\"_destroyed\",\"kind\":\"Any\",\"default\":false}]},{\"type\":\"model\",\"name\":\"TemplateActions1\",\"properties\":[{\"name\":\"open_modal\",\"kind\":\"Any\",\"default\":0},{\"name\":\"close_modal\",\"kind\":\"Any\",\"default\":0}]},{\"type\":\"model\",\"name\":\"BootstrapTemplateActions1\",\"properties\":[{\"name\":\"open_modal\",\"kind\":\"Any\",\"default\":0},{\"name\":\"close_modal\",\"kind\":\"Any\",\"default\":0}]},{\"type\":\"model\",\"name\":\"TemplateEditor1\",\"properties\":[{\"name\":\"layout\",\"kind\":\"Any\",\"default\":[]}]},{\"type\":\"model\",\"name\":\"MaterialTemplateActions1\",\"properties\":[{\"name\":\"open_modal\",\"kind\":\"Any\",\"default\":0},{\"name\":\"close_modal\",\"kind\":\"Any\",\"default\":0}]},{\"type\":\"model\",\"name\":\"copy_to_clipboard1\",\"properties\":[{\"name\":\"fill\",\"kind\":\"Any\",\"default\":\"none\"},{\"name\":\"value\",\"kind\":\"Any\",\"default\":null}]}]}};\n",
       "  var render_items = [{\"docid\":\"02af0773-d6d3-4ade-bc04-44015b5b6a22\",\"roots\":{\"p1004\":\"a8951a05-5b2d-4f93-a014-a4718154e834\"},\"root_ids\":[\"p1004\"]}];\n",
       "  var docs = Object.values(docs_json)\n",
       "  if (!docs) {\n",
       "    return\n",
       "  }\n",
       "  const py_version = docs[0].version.replace('rc', '-rc.').replace('.dev', '-dev.')\n",
       "  function embed_document(root) {\n",
       "    var Bokeh = get_bokeh(root)\n",
       "    Bokeh.embed.embed_items_notebook(docs_json, render_items);\n",
       "    for (const render_item of render_items) {\n",
       "      for (const root_id of render_item.root_ids) {\n",
       "\tconst id_el = document.getElementById(root_id)\n",
       "\tif (id_el.children.length && (id_el.children[0].className === 'bk-root')) {\n",
       "\t  const root_el = id_el.children[0]\n",
       "\t  root_el.id = root_el.id + '-rendered'\n",
       "\t}\n",
       "      }\n",
       "    }\n",
       "  }\n",
       "  function get_bokeh(root) {\n",
       "    if (root.Bokeh === undefined) {\n",
       "      return null\n",
       "    } else if (root.Bokeh.version !== py_version) {\n",
       "      if (root.Bokeh.versions === undefined || !root.Bokeh.versions.has(py_version)) {\n",
       "\treturn null\n",
       "      }\n",
       "      return root.Bokeh.versions.get(py_version);\n",
       "    } else if (root.Bokeh.version === py_version) {\n",
       "      return root.Bokeh\n",
       "    }\n",
       "    return null\n",
       "  }\n",
       "  function is_loaded(root) {\n",
       "    var Bokeh = get_bokeh(root)\n",
       "    return (Bokeh != null && Bokeh.Panel !== undefined)\n",
       "  }\n",
       "  if (is_loaded(root)) {\n",
       "    embed_document(root);\n",
       "  } else {\n",
       "    var attempts = 0;\n",
       "    var timer = setInterval(function(root) {\n",
       "      if (is_loaded(root)) {\n",
       "        clearInterval(timer);\n",
       "        embed_document(root);\n",
       "      } else if (document.readyState == \"complete\") {\n",
       "        attempts++;\n",
       "        if (attempts > 200) {\n",
       "          clearInterval(timer);\n",
       "\t  var Bokeh = get_bokeh(root)\n",
       "\t  if (Bokeh == null || Bokeh.Panel == null) {\n",
       "            console.warn(\"Panel: ERROR: Unable to run Panel code because Bokeh or Panel library is missing\");\n",
       "\t  } else {\n",
       "\t    console.warn(\"Panel: WARNING: Attempting to render but not all required libraries could be resolved.\")\n",
       "\t    embed_document(root)\n",
       "\t  }\n",
       "        }\n",
       "      }\n",
       "    }, 25, root)\n",
       "  }\n",
       "})(window);</script>"
      ],
      "application/vnd.holoviews_exec.v0+json": "",
      "text/plain": [
       ":Curve   [date]   (unexpected_inflation)"
      ]
     },
     "execution_count": 105,
     "metadata": {
      "application/vnd.holoviews_exec.v0+json": {
       "id": "p1004"
      }
     },
     "output_type": "execute_result"
    }
   ],
   "execution_count": 105
  },
  {
   "metadata": {
    "ExecuteTime": {
     "end_time": "2024-04-29T20:55:53.002039Z",
     "start_time": "2024-04-29T20:55:52.796039Z"
    }
   },
   "cell_type": "code",
   "source": [
    "bond_data = bond_data.sort('date')\n",
    "inflation_data = inflation_data.sort('date')\n",
    "\n",
    "bond_data = bond_data.join_asof(\n",
    "    inflation_data.select(['date', 'unexpected_inflation']),\n",
    "    on='date',\n",
    "    strategy='backward'\n",
    ")"
   ],
   "id": "3f3de620e012c0ba",
   "outputs": [],
   "execution_count": 106
  },
  {
   "metadata": {},
   "cell_type": "markdown",
   "source": "# Export the data",
   "id": "787c71dee0df3755"
  },
  {
   "metadata": {
    "ExecuteTime": {
     "end_time": "2024-04-29T20:56:41.588329Z",
     "start_time": "2024-04-29T20:56:41.580328Z"
    }
   },
   "cell_type": "code",
   "source": "bond_data.head(1)",
   "id": "43ba731c099bc94d",
   "outputs": [
    {
     "data": {
      "text/plain": [
       "shape: (1, 96)\n",
       "┌──────┬────────────┬───────────┬────────────┬───┬──────────┬────────────┬────────────┬────────────┐\n",
       "│      ┆ date       ┆ cusip     ┆ exretn_t+1 ┆ … ┆ de_ratio ┆ intcov_rat ┆ cash_ratio ┆ unexpected │\n",
       "│ ---  ┆ ---        ┆ ---       ┆ ---        ┆   ┆ ---      ┆ io         ┆ ---        ┆ _inflation │\n",
       "│ i64  ┆ date       ┆ str       ┆ f64        ┆   ┆ f64      ┆ ---        ┆ f64        ┆ ---        │\n",
       "│      ┆            ┆           ┆            ┆   ┆          ┆ f64        ┆            ┆ f64        │\n",
       "╞══════╪════════════╪═══════════╪════════════╪═══╪══════════╪════════════╪════════════╪════════════╡\n",
       "│ 2545 ┆ 2002-08-31 ┆ 370425RG7 ┆ -0.013904  ┆ … ┆ null     ┆ null       ┆ null       ┆ 0.004985   │\n",
       "└──────┴────────────┴───────────┴────────────┴───┴──────────┴────────────┴────────────┴────────────┘"
      ],
      "text/html": [
       "<div><style>\n",
       ".dataframe > thead > tr,\n",
       ".dataframe > tbody > tr {\n",
       "  text-align: right;\n",
       "  white-space: pre-wrap;\n",
       "}\n",
       "</style>\n",
       "<small>shape: (1, 96)</small><table border=\"1\" class=\"dataframe\"><thead><tr><th></th><th>date</th><th>cusip</th><th>exretn_t+1</th><th>exretnc_t+1</th><th>exretnc_dur_t+1</th><th>bond_ret_t+1</th><th>bond_ret</th><th>exretn</th><th>exretnc_dur</th><th>rating</th><th>cs</th><th>cs_6m_delta</th><th>bond_yield</th><th>bond_amount_out</th><th>offering_amt</th><th>bondprc</th><th>perc_par</th><th>tmt</th><th>duration</th><th>ind_num_17</th><th>sic_code</th><th>BOND_RET</th><th>ILLIQ</th><th>var95</th><th>n_trades_month</th><th>size_ig</th><th>size_jk</th><th>BOND_YIELD</th><th>CS</th><th>BONDPRC</th><th>PRFULL</th><th>CONVEXITY</th><th>CS_6M_DELTA</th><th>bond_value</th><th>BOND_VALUE</th><th>coupon</th><th>&hellip;</th><th>N_FR</th><th>T_DATE</th><th>T_Volume</th><th>T_DVolume</th><th>T_Spread</th><th>T_Yld_Pt</th><th>YIELD</th><th>PRICE_EOM</th><th>PRICE_LDM</th><th>PRICE_L5M</th><th>GAP</th><th>COUPMONTH</th><th>nextcoup</th><th>COUPAMT</th><th>COUPACC</th><th>MULTICOUPS</th><th>RET_EOM</th><th>RET_LDM</th><th>RET_L5M</th><th>REMCOUPS</th><th>DURATION_right</th><th>DEFAULT_DATE</th><th>DEFAULT_TYPE</th><th>REINSTATED</th><th>REINSTATED_DATE</th><th>PERMNO</th><th>PERMCO</th><th>link_startdt</th><th>link_enddt</th><th>gvkey</th><th>public_date</th><th>capital_ratio</th><th>debt_ebitda</th><th>de_ratio</th><th>intcov_ratio</th><th>cash_ratio</th><th>unexpected_inflation</th></tr><tr><td>i64</td><td>date</td><td>str</td><td>f64</td><td>f64</td><td>f64</td><td>f64</td><td>f64</td><td>f64</td><td>f64</td><td>f64</td><td>f64</td><td>f64</td><td>f64</td><td>f64</td><td>f64</td><td>f64</td><td>f64</td><td>f64</td><td>f64</td><td>f64</td><td>i64</td><td>f64</td><td>f64</td><td>f64</td><td>f64</td><td>f64</td><td>f64</td><td>f64</td><td>f64</td><td>f64</td><td>f64</td><td>f64</td><td>f64</td><td>f64</td><td>f64</td><td>f64</td><td>&hellip;</td><td>i64</td><td>date</td><td>str</td><td>str</td><td>str</td><td>f64</td><td>str</td><td>f64</td><td>f64</td><td>f64</td><td>i64</td><td>i64</td><td>date</td><td>f64</td><td>f64</td><td>i64</td><td>str</td><td>str</td><td>str</td><td>i64</td><td>f64</td><td>str</td><td>str</td><td>str</td><td>str</td><td>i64</td><td>i64</td><td>date</td><td>date</td><td>i64</td><td>date</td><td>f64</td><td>f64</td><td>f64</td><td>f64</td><td>f64</td><td>f64</td></tr></thead><tbody><tr><td>2545</td><td>2002-08-31</td><td>&quot;370425RG7&quot;</td><td>-0.013904</td><td>-0.039905</td><td>-0.034585</td><td>-0.012504</td><td>0.00853</td><td>0.00713</td><td>-0.003688</td><td>8.0</td><td>0.029057</td><td>0.169377</td><td>0.056987</td><td>1.1e6</td><td>1.1e6</td><td>101.787405</td><td>1.017874</td><td>55.933333</td><td>3.87212</td><td>16.0</td><td>6141</td><td>0.000912</td><td>0.046469</td><td>0.01229</td><td>21.0</td><td>1.0</td><td>1.0</td><td>0.057698</td><td>0.029467</td><td>101.5075</td><td>104.035834</td><td>18.3204</td><td>null</td><td>1.11966146e8</td><td>1.1165825e8</td><td>6.15</td><td>&hellip;</td><td>7</td><td>2002-08-30</td><td>&quot;$71,946,000&quot;</td><td>&quot;$72,123,268&quot;</td><td>&quot;0.95%&quot;</td><td>6.0859</td><td>&quot;5.699%&quot;</td><td>101.8</td><td>101.8</td><td>101.8</td><td>1</td><td>34</td><td>2002-10-05</td><td>0.0</td><td>2.49</td><td>1</td><td>&quot;.8530%&quot;</td><td>&quot;.8530%&quot;</td><td>&quot;.8530%&quot;</td><td>10</td><td>3.87</td><td>null</td><td>null</td><td>null</td><td>null</td><td>null</td><td>null</td><td>null</td><td>null</td><td>null</td><td>null</td><td>null</td><td>null</td><td>null</td><td>null</td><td>null</td><td>0.004985</td></tr></tbody></table></div>"
      ]
     },
     "execution_count": 108,
     "metadata": {},
     "output_type": "execute_result"
    }
   ],
   "execution_count": 108
  },
  {
   "metadata": {
    "ExecuteTime": {
     "end_time": "2024-04-29T20:56:41.578828Z",
     "start_time": "2024-04-29T20:56:26.293828Z"
    }
   },
   "cell_type": "code",
   "source": "bond_data.write_parquet('../../data/final_data/bond_data_final.pq', compression='zstd', compression_level=10)",
   "id": "b62129ede50c978d",
   "outputs": [],
   "execution_count": 107
  }
 ],
 "metadata": {
  "kernelspec": {
   "display_name": "Python 3",
   "language": "python",
   "name": "python3"
  },
  "language_info": {
   "codemirror_mode": {
    "name": "ipython",
    "version": 2
   },
   "file_extension": ".py",
   "mimetype": "text/x-python",
   "name": "python",
   "nbconvert_exporter": "python",
   "pygments_lexer": "ipython2",
   "version": "2.7.6"
  }
 },
 "nbformat": 4,
 "nbformat_minor": 5
}
