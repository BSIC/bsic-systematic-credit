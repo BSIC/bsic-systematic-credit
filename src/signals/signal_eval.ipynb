{
 "cells": [
  {
   "metadata": {
    "ExecuteTime": {
     "end_time": "2024-05-04T16:49:22.606922Z",
     "start_time": "2024-05-04T16:49:22.602421Z"
    }
   },
   "cell_type": "code",
   "source": [
    "import polars as pl\n",
    "from matplotlib import pyplot as plt\n",
    "import numpy as np \n",
    "import statsmodels.api as sm\n",
    "import polars_ols\n",
    "from finance_byu import fama_macbeth"
   ],
   "id": "a51e4f9f0742a9e0",
   "outputs": [],
   "execution_count": 90
  },
  {
   "metadata": {},
   "cell_type": "markdown",
   "source": "# Loading Data",
   "id": "1f6cc4f25c0b30b3"
  },
  {
   "metadata": {
    "ExecuteTime": {
     "end_time": "2024-05-04T16:49:24.151422Z",
     "start_time": "2024-05-04T16:49:22.973422Z"
    }
   },
   "cell_type": "code",
   "source": [
    "bond_data = pl.read_parquet('../../data/final_data/bond_data_insample.pq')\n",
    "print(bond_data.head())"
   ],
   "id": "c32efd72d5fc05de",
   "outputs": [
    {
     "name": "stdout",
     "output_type": "stream",
     "text": [
      "shape: (5, 99)\n",
      "┌─────┬────────────┬───────────┬────────────┬───┬──────────┬─────────────┬──────────────┬──────────┐\n",
      "│     ┆ date       ┆ cusip     ┆ exretn_t+1 ┆ … ┆ datadate ┆ shortintadj ┆ unexpected_i ┆ oas      │\n",
      "│ --- ┆ ---        ┆ ---       ┆ ---        ┆   ┆ ---      ┆ ---         ┆ nflation     ┆ ---      │\n",
      "│ i64 ┆ date       ┆ str       ┆ f64        ┆   ┆ date     ┆ f64         ┆ ---          ┆ f64      │\n",
      "│     ┆            ┆           ┆            ┆   ┆          ┆             ┆ f64          ┆          │\n",
      "╞═════╪════════════╪═══════════╪════════════╪═══╪══════════╪═════════════╪══════════════╪══════════╡\n",
      "│ 7   ┆ 2002-08-31 ┆ 00077QAG5 ┆ 0.02983    ┆ … ┆ null     ┆ null        ┆ 0.004985     ┆ 0.013937 │\n",
      "│ 11  ┆ 2002-08-31 ┆ 00104CAA6 ┆ -0.023513  ┆ … ┆ null     ┆ null        ┆ 0.004985     ┆ 0.184844 │\n",
      "│ 12  ┆ 2002-08-31 ┆ 001055AB8 ┆ 0.004369   ┆ … ┆ null     ┆ null        ┆ 0.004985     ┆ 0.016772 │\n",
      "│ 20  ┆ 2002-08-31 ┆ 00130HAQ8 ┆ -0.080008  ┆ … ┆ null     ┆ null        ┆ 0.004985     ┆ 0.178782 │\n",
      "│ 21  ┆ 2002-08-31 ┆ 00130HAU9 ┆ -0.012018  ┆ … ┆ null     ┆ null        ┆ 0.004985     ┆ 0.176463 │\n",
      "└─────┴────────────┴───────────┴────────────┴───┴──────────┴─────────────┴──────────────┴──────────┘\n"
     ]
    }
   ],
   "execution_count": 91
  },
  {
   "metadata": {
    "ExecuteTime": {
     "end_time": "2024-05-04T16:49:24.267922Z",
     "start_time": "2024-05-04T16:49:24.260921Z"
    }
   },
   "cell_type": "code",
   "source": [
    "bond_data = bond_data.with_columns(\n",
    "    spread_duration = pl.col('oas') / pl.col('bond_yield') * pl.col('duration')\n",
    ")"
   ],
   "id": "56bf10679319b547",
   "outputs": [],
   "execution_count": 92
  },
  {
   "metadata": {},
   "cell_type": "markdown",
   "source": "## Quickly filtering out bonds close to default",
   "id": "8585aeabc440ed95"
  },
  {
   "metadata": {
    "ExecuteTime": {
     "end_time": "2024-05-04T16:49:24.778421Z",
     "start_time": "2024-05-04T16:49:24.726423Z"
    }
   },
   "cell_type": "code",
   "source": [
    "abnormal_prices = bond_data.filter(pl.col('bond_ret') >1).select('cusip').unique()\n",
    "tot_cusips = bond_data.n_unique('cusip')\n",
    "\n",
    "print(\n",
    "    f'we have {len(abnormal_prices)} CUSIPs to remove, out of {tot_cusips} ({len(abnormal_prices) / tot_cusips * 100:.2f}%)')\n",
    "# Segmenting in Buckets, based on Rating, Industry, Duration"
   ],
   "id": "7241f1bb1c064696",
   "outputs": [
    {
     "name": "stdout",
     "output_type": "stream",
     "text": [
      "we have 26 CUSIPs to remove, out of 8331 (0.31%)\n"
     ]
    }
   ],
   "execution_count": 93
  },
  {
   "metadata": {
    "ExecuteTime": {
     "end_time": "2024-05-04T16:49:25.602922Z",
     "start_time": "2024-05-04T16:49:25.339422Z"
    }
   },
   "cell_type": "code",
   "source": [
    "abnormal_prices = bond_data.filter(pl.col('bondprc') < 75).select('cusip').unique()\n",
    "tot_cusips = bond_data.n_unique('cusip')\n",
    "\n",
    "print(f'we have {len(abnormal_prices)} CUSIPs to remove, out of {tot_cusips} ({len(abnormal_prices) / tot_cusips * 100:.2f}%)')\n",
    "bond_data = bond_data.filter(~pl.col('cusip').is_in(abnormal_prices))"
   ],
   "id": "bfceb9a505f1afe7",
   "outputs": [
    {
     "name": "stdout",
     "output_type": "stream",
     "text": [
      "we have 1328 CUSIPs to remove, out of 8331 (15.94%)\n"
     ]
    }
   ],
   "execution_count": 94
  },
  {
   "metadata": {},
   "cell_type": "markdown",
   "source": "# Segmenting in Buckets, based on Rating, Industry, Duration",
   "id": "37d5801879233546"
  },
  {
   "metadata": {},
   "cell_type": "markdown",
   "source": "## Rating",
   "id": "f679ab7c153efbb6"
  },
  {
   "metadata": {},
   "cell_type": "markdown",
   "source": "Group by rating macro-categories",
   "id": "dd4d4a13bb305769"
  },
  {
   "metadata": {
    "ExecuteTime": {
     "end_time": "2024-05-04T16:53:34.531422Z",
     "start_time": "2024-05-04T16:53:34.520422Z"
    }
   },
   "cell_type": "code",
   "source": [
    "bond_data_with_ratings = bond_data.with_columns(\n",
    "    rating_bucket=pl\n",
    "        .when(pl.col('rating') <= 7).then(pl.lit('A'))\n",
    "        .when(pl.col('rating') <= 16).then(pl.lit('B'))\n",
    "        .otherwise(pl.lit('B'))\n",
    ")\n",
    "bond_data = bond_data_with_ratings"
   ],
   "id": "1a55de1ccf5d2cca",
   "outputs": [],
   "execution_count": 129
  },
  {
   "metadata": {},
   "cell_type": "markdown",
   "source": "## Industry",
   "id": "608bb11c3406c26"
  },
  {
   "metadata": {},
   "cell_type": "markdown",
   "source": [
    "We choose the following macro-groups, based on the first digit of the SIC Code: \n",
    "\n",
    "- 0, 1: Agriculture, Forestry, Fishing (0) + Mining (1) + Construction (1)\n",
    "- 2, 3, 5: Manufacturing (2,3), Whole Sale Trade + Retail Trade (5)\n",
    "- 4, 7, 8, 9: Transportation and Public Utilities (4), Public Administration (9), Service (7, 8)\n",
    "- 6: Finance, Insurance, Real Estate (6)\n"
   ],
   "id": "78634c76fa52f4f6"
  },
  {
   "metadata": {
    "ExecuteTime": {
     "end_time": "2024-05-04T16:53:35.088422Z",
     "start_time": "2024-05-04T16:53:35.081421Z"
    }
   },
   "cell_type": "code",
   "source": "bond_data.select('PERMNO', 'sic_code').head(4)",
   "id": "74b154a6e085b4dc",
   "outputs": [
    {
     "data": {
      "text/plain": [
       "shape: (4, 2)\n",
       "┌────────┬──────────┐\n",
       "│ PERMNO ┆ sic_code │\n",
       "│ ---    ┆ ---      │\n",
       "│ i64    ┆ i64      │\n",
       "╞════════╪══════════╡\n",
       "│ 84766  ┆ 6029     │\n",
       "│ 57904  ┆ 6321     │\n",
       "│ 66413  ┆ 7830     │\n",
       "│ 77481  ┆ 4922     │\n",
       "└────────┴──────────┘"
      ],
      "text/html": [
       "<div><style>\n",
       ".dataframe > thead > tr,\n",
       ".dataframe > tbody > tr {\n",
       "  text-align: right;\n",
       "  white-space: pre-wrap;\n",
       "}\n",
       "</style>\n",
       "<small>shape: (4, 2)</small><table border=\"1\" class=\"dataframe\"><thead><tr><th>PERMNO</th><th>sic_code</th></tr><tr><td>i64</td><td>i64</td></tr></thead><tbody><tr><td>84766</td><td>6029</td></tr><tr><td>57904</td><td>6321</td></tr><tr><td>66413</td><td>7830</td></tr><tr><td>77481</td><td>4922</td></tr></tbody></table></div>"
      ]
     },
     "execution_count": 130,
     "metadata": {},
     "output_type": "execute_result"
    }
   ],
   "execution_count": 130
  },
  {
   "metadata": {
    "ExecuteTime": {
     "end_time": "2024-05-04T16:53:35.337421Z",
     "start_time": "2024-05-04T16:53:35.298422Z"
    }
   },
   "cell_type": "code",
   "source": [
    "bond_data = bond_data.with_columns(\n",
    "    industry_bucket=pl.col('sic_code').cast(str).str.slice(0,1).cast(int)\n",
    ").with_columns(\n",
    "    # assign bucket from 1 to 5 for the corresponding macro-group\n",
    "    industry_bucket=pl\n",
    "        .when(pl.col('industry_bucket').is_in([0,1])).then(pl.lit(1))\n",
    "        .when(pl.col('industry_bucket').is_in([2,3,5])).then(pl.lit(2))\n",
    "        .when(pl.col('industry_bucket').is_in([4,9])).then(pl.lit(3))\n",
    "        .when(pl.col('industry_bucket') == 6).then(pl.lit(4))\n",
    "        .when(pl.col('industry_bucket').is_in([7,8])).then(pl.lit(5))\n",
    ")\n",
    "\n",
    "bond_data.select('industry_bucket').head(3)"
   ],
   "id": "9fe9aa91abf157aa",
   "outputs": [
    {
     "data": {
      "text/plain": [
       "shape: (3, 1)\n",
       "┌─────────────────┐\n",
       "│ industry_bucket │\n",
       "│ ---             │\n",
       "│ i32             │\n",
       "╞═════════════════╡\n",
       "│ 4               │\n",
       "│ 4               │\n",
       "│ 5               │\n",
       "└─────────────────┘"
      ],
      "text/html": [
       "<div><style>\n",
       ".dataframe > thead > tr,\n",
       ".dataframe > tbody > tr {\n",
       "  text-align: right;\n",
       "  white-space: pre-wrap;\n",
       "}\n",
       "</style>\n",
       "<small>shape: (3, 1)</small><table border=\"1\" class=\"dataframe\"><thead><tr><th>industry_bucket</th></tr><tr><td>i32</td></tr></thead><tbody><tr><td>4</td></tr><tr><td>4</td></tr><tr><td>5</td></tr></tbody></table></div>"
      ]
     },
     "execution_count": 131,
     "metadata": {},
     "output_type": "execute_result"
    }
   ],
   "execution_count": 131
  },
  {
   "metadata": {
    "ExecuteTime": {
     "end_time": "2024-05-04T16:53:35.780422Z",
     "start_time": "2024-05-04T16:53:35.756923Z"
    }
   },
   "cell_type": "code",
   "source": "bond_data.select('industry_bucket').unique()",
   "id": "347a3357129f71ce",
   "outputs": [
    {
     "data": {
      "text/plain": [
       "shape: (5, 1)\n",
       "┌─────────────────┐\n",
       "│ industry_bucket │\n",
       "│ ---             │\n",
       "│ i32             │\n",
       "╞═════════════════╡\n",
       "│ 3               │\n",
       "│ 4               │\n",
       "│ 1               │\n",
       "│ 2               │\n",
       "│ 5               │\n",
       "└─────────────────┘"
      ],
      "text/html": [
       "<div><style>\n",
       ".dataframe > thead > tr,\n",
       ".dataframe > tbody > tr {\n",
       "  text-align: right;\n",
       "  white-space: pre-wrap;\n",
       "}\n",
       "</style>\n",
       "<small>shape: (5, 1)</small><table border=\"1\" class=\"dataframe\"><thead><tr><th>industry_bucket</th></tr><tr><td>i32</td></tr></thead><tbody><tr><td>3</td></tr><tr><td>4</td></tr><tr><td>1</td></tr><tr><td>2</td></tr><tr><td>5</td></tr></tbody></table></div>"
      ]
     },
     "execution_count": 132,
     "metadata": {},
     "output_type": "execute_result"
    }
   ],
   "execution_count": 132
  },
  {
   "metadata": {},
   "cell_type": "markdown",
   "source": "## Duration ",
   "id": "8924f302f00a0341"
  },
  {
   "metadata": {
    "ExecuteTime": {
     "end_time": "2024-05-04T16:53:37.680922Z",
     "start_time": "2024-05-04T16:53:37.660423Z"
    }
   },
   "cell_type": "code",
   "source": "bond_data.select('duration').quantile(0.5)",
   "id": "e90877a5d885699",
   "outputs": [
    {
     "data": {
      "text/plain": [
       "shape: (1, 1)\n",
       "┌──────────┐\n",
       "│ duration │\n",
       "│ ---      │\n",
       "│ f64      │\n",
       "╞══════════╡\n",
       "│ 5.402517 │\n",
       "└──────────┘"
      ],
      "text/html": [
       "<div><style>\n",
       ".dataframe > thead > tr,\n",
       ".dataframe > tbody > tr {\n",
       "  text-align: right;\n",
       "  white-space: pre-wrap;\n",
       "}\n",
       "</style>\n",
       "<small>shape: (1, 1)</small><table border=\"1\" class=\"dataframe\"><thead><tr><th>duration</th></tr><tr><td>f64</td></tr></thead><tbody><tr><td>5.402517</td></tr></tbody></table></div>"
      ]
     },
     "execution_count": 133,
     "metadata": {},
     "output_type": "execute_result"
    }
   ],
   "execution_count": 133
  },
  {
   "metadata": {
    "ExecuteTime": {
     "end_time": "2024-05-04T16:53:38.527921Z",
     "start_time": "2024-05-04T16:53:38.520422Z"
    }
   },
   "cell_type": "code",
   "source": [
    "bond_data = bond_data.with_columns(\n",
    "    duration_bucket=pl\n",
    "        .when(pl.col('duration') <= 5.5).then(pl.lit('shortdur'))\n",
    "        .otherwise(pl.lit('longdur'))\n",
    ")\n"
   ],
   "id": "8175fd961446dd81",
   "outputs": [],
   "execution_count": 134
  },
  {
   "metadata": {},
   "cell_type": "markdown",
   "source": "## Aggregate the buckets in one column",
   "id": "c9599eece89db038"
  },
  {
   "metadata": {
    "ExecuteTime": {
     "end_time": "2024-05-04T16:53:39.615922Z",
     "start_time": "2024-05-04T16:53:39.576924Z"
    }
   },
   "cell_type": "code",
   "source": [
    "bond_data = bond_data.with_columns(\n",
    "    bucket=(pl.col('industry_bucket').cast(str) + '_' + pl.col('rating_bucket') + '_' + pl.col('duration_bucket').cast(str))\n",
    ").drop(['industry_bucket', 'rating_bucket', 'duration_bucket'])"
   ],
   "id": "6a44305d1885d179",
   "outputs": [],
   "execution_count": 135
  },
  {
   "metadata": {
    "ExecuteTime": {
     "end_time": "2024-05-04T16:53:40.387424Z",
     "start_time": "2024-05-04T16:53:40.381921Z"
    }
   },
   "cell_type": "code",
   "source": "bond_data.select('bucket').head(3)",
   "id": "635e9328efe7566e",
   "outputs": [
    {
     "data": {
      "text/plain": [
       "shape: (3, 1)\n",
       "┌──────────────┐\n",
       "│ bucket       │\n",
       "│ ---          │\n",
       "│ str          │\n",
       "╞══════════════╡\n",
       "│ 4_A_shortdur │\n",
       "│ 4_A_shortdur │\n",
       "│ 5_B_longdur  │\n",
       "└──────────────┘"
      ],
      "text/html": [
       "<div><style>\n",
       ".dataframe > thead > tr,\n",
       ".dataframe > tbody > tr {\n",
       "  text-align: right;\n",
       "  white-space: pre-wrap;\n",
       "}\n",
       "</style>\n",
       "<small>shape: (3, 1)</small><table border=\"1\" class=\"dataframe\"><thead><tr><th>bucket</th></tr><tr><td>str</td></tr></thead><tbody><tr><td>&quot;4_A_shortdur&quot;</td></tr><tr><td>&quot;4_A_shortdur&quot;</td></tr><tr><td>&quot;5_B_longdur&quot;</td></tr></tbody></table></div>"
      ]
     },
     "execution_count": 136,
     "metadata": {},
     "output_type": "execute_result"
    }
   ],
   "execution_count": 136
  },
  {
   "metadata": {
    "ExecuteTime": {
     "end_time": "2024-05-04T16:53:41.502421Z",
     "start_time": "2024-05-04T16:53:40.770422Z"
    }
   },
   "cell_type": "code",
   "source": [
    "bonds_per_date_bucket = bond_data.group_by(['date', 'bucket']).n_unique().select('date', 'bucket', 'cusip')\n",
    "\n",
    "bonds_per_date_bucket.head()"
   ],
   "id": "5d91ac0f37402444",
   "outputs": [
    {
     "data": {
      "text/plain": [
       "shape: (5, 3)\n",
       "┌────────────┬──────────────┬───────┐\n",
       "│ date       ┆ bucket       ┆ cusip │\n",
       "│ ---        ┆ ---          ┆ ---   │\n",
       "│ date       ┆ str          ┆ u32   │\n",
       "╞════════════╪══════════════╪═══════╡\n",
       "│ 2013-02-28 ┆ 5_B_longdur  ┆ 116   │\n",
       "│ 2003-10-31 ┆ 3_B_longdur  ┆ 173   │\n",
       "│ 2005-01-31 ┆ 2_A_longdur  ┆ 208   │\n",
       "│ 2006-02-28 ┆ 4_B_shortdur ┆ 77    │\n",
       "│ 2009-06-30 ┆ 2_A_shortdur ┆ 200   │\n",
       "└────────────┴──────────────┴───────┘"
      ],
      "text/html": [
       "<div><style>\n",
       ".dataframe > thead > tr,\n",
       ".dataframe > tbody > tr {\n",
       "  text-align: right;\n",
       "  white-space: pre-wrap;\n",
       "}\n",
       "</style>\n",
       "<small>shape: (5, 3)</small><table border=\"1\" class=\"dataframe\"><thead><tr><th>date</th><th>bucket</th><th>cusip</th></tr><tr><td>date</td><td>str</td><td>u32</td></tr></thead><tbody><tr><td>2013-02-28</td><td>&quot;5_B_longdur&quot;</td><td>116</td></tr><tr><td>2003-10-31</td><td>&quot;3_B_longdur&quot;</td><td>173</td></tr><tr><td>2005-01-31</td><td>&quot;2_A_longdur&quot;</td><td>208</td></tr><tr><td>2006-02-28</td><td>&quot;4_B_shortdur&quot;</td><td>77</td></tr><tr><td>2009-06-30</td><td>&quot;2_A_shortdur&quot;</td><td>200</td></tr></tbody></table></div>"
      ]
     },
     "execution_count": 137,
     "metadata": {},
     "output_type": "execute_result"
    }
   ],
   "execution_count": 137
  },
  {
   "metadata": {
    "ExecuteTime": {
     "end_time": "2024-05-04T16:53:42.265924Z",
     "start_time": "2024-05-04T16:53:42.259922Z"
    }
   },
   "cell_type": "code",
   "source": "bonds_per_date_bucket.filter(pl.col('cusip') < 10).shape[0] / bonds_per_date_bucket.shape[0]",
   "id": "467b6c3d1601e147",
   "outputs": [
    {
     "data": {
      "text/plain": [
       "0.07106769956214214"
      ]
     },
     "execution_count": 138,
     "metadata": {},
     "output_type": "execute_result"
    }
   ],
   "execution_count": 138
  },
  {
   "metadata": {},
   "cell_type": "markdown",
   "source": "# Compute Residual Returns",
   "id": "f942eed5b9495093"
  },
  {
   "metadata": {
    "ExecuteTime": {
     "end_time": "2024-05-04T16:53:44.018424Z",
     "start_time": "2024-05-04T16:53:44.012923Z"
    }
   },
   "cell_type": "code",
   "source": [
    "def weighted_median_pl(data: pl.type_aliases.Sequence[pl.Series]):\n",
    "    \"\"\"Compute weighted median of observations with Polars\n",
    "\n",
    "    To be used inside map_groups, to which you specify as expressions first the values, then the weights to use.\n",
    "    The function takes two pl.Series: the first is the values to use, the second is the weights. \n",
    "    The function returns the weighted median for the given group of observations\n",
    "    \"\"\"\n",
    "    values, weights = data\n",
    "    values = values.to_numpy()\n",
    "    weights = weights.to_numpy()\n",
    "    i = np.argsort(values) \n",
    "    c = np.cumsum(weights[i])\n",
    "\n",
    "    weighted_median = values[i[np.searchsorted(c, 0.5 * c[-1])]]\n",
    "    return weighted_median\n"
   ],
   "id": "ddf81a14c03fd86a",
   "outputs": [],
   "execution_count": 139
  },
  {
   "metadata": {
    "ExecuteTime": {
     "end_time": "2024-05-04T16:53:44.799423Z",
     "start_time": "2024-05-04T16:53:44.791924Z"
    }
   },
   "cell_type": "code",
   "source": [
    "def compute_residual_returns(df: pl.DataFrame, oas_column: str = 'oas', use_median: bool = False):\n",
    "    \"\"\"Compute Residual return as unadjusted return - systematic return.\n",
    "    \n",
    "    * dxs = Duration * Spread\n",
    "    * Systematic Return = Relative DTS * Weighted average return of bond's bucket\n",
    "    * Relative dxs = Bond DTS / weighted average DTS of bond bucket\n",
    "    \n",
    "    * Residual return = bond_ret_t+1 - Systematic Return\n",
    "    \n",
    "    \"\"\"\n",
    "    df = df.with_columns(\n",
    "        dxs = pl.col('spread_duration') * pl.col(oas_column)\n",
    "    )\n",
    "    \n",
    "    grouped = df.select('bucket', 'dxs', 'exretnc_dur_t+1', 'bond_amount_out').drop_nulls().group_by('bucket')\n",
    "    \n",
    "    if use_median: \n",
    "        weighted_dxs = grouped.agg(\n",
    "            weighted_dxs_median=pl.map_groups(exprs=['dxs', 'bond_amount_out'], function=weighted_median_pl),\n",
    "            weighted_ret_median=pl.map_groups(exprs=['exretnc_dur_t+1', 'bond_amount_out'], function=weighted_median_pl)\n",
    "        )\n",
    "    else: \n",
    "        weighted_dxs = grouped.agg(\n",
    "            weighted_dxs_mean=(pl.col('dxs').dot(pl.col('bond_amount_out')) / pl.sum('bond_amount_out')),\n",
    "            weighted_ret_mean=(pl.col('exretnc_dur_t+1').dot(pl.col('bond_amount_out')) / pl.sum('bond_amount_out')),\n",
    "        )\n",
    "        \n",
    "    dxs_col = 'weighted_dxs_' + ('median' if use_median else 'mean')\n",
    "    ret_col = 'weighted_ret_' + ('median' if use_median else 'mean')\n",
    "    \n",
    "    df = (df.select(pl.all().exclude(dxs_col, ret_col))\n",
    "        .join(weighted_dxs, how='left', on='bucket')\n",
    "        .with_columns(\n",
    "            relative_dxs = pl.col('dxs') / pl.col(dxs_col)\n",
    "        ).with_columns(\n",
    "            systematic_return = pl.col('relative_dxs') * pl.col(ret_col)\n",
    "        ).with_columns(\n",
    "            (pl.col('bond_ret_t+1') - pl.col('systematic_return')).alias('residual_return_t+1'),\n",
    "        ))\n",
    "    \n",
    "    return df"
   ],
   "id": "2d0964c52265e0f8",
   "outputs": [],
   "execution_count": 140
  },
  {
   "metadata": {
    "ExecuteTime": {
     "end_time": "2024-05-04T16:53:45.529921Z",
     "start_time": "2024-05-04T16:53:45.301922Z"
    }
   },
   "cell_type": "code",
   "source": "bond_data = compute_residual_returns(bond_data, use_median=True, oas_column='oas')",
   "id": "6af88c7eb15a7b75",
   "outputs": [],
   "execution_count": 141
  },
  {
   "metadata": {
    "ExecuteTime": {
     "end_time": "2024-05-04T16:53:45.791924Z",
     "start_time": "2024-05-04T16:53:45.776424Z"
    }
   },
   "cell_type": "code",
   "source": "bond_data.filter(pl.col('bond_ret_t+1') > 0.5)",
   "id": "ec96766ab14d5ddd",
   "outputs": [
    {
     "data": {
      "text/plain": [
       "shape: (0, 109)\n",
       "┌─────┬──────┬───────┬────────────┬───┬───────────────┬──────────────┬──────────────┬──────────────┐\n",
       "│     ┆ date ┆ cusip ┆ exretn_t+1 ┆ … ┆ oas_bucket_de ┆ oas_quantile ┆ weighted_dxs ┆ weighted_ret │\n",
       "│ --- ┆ ---  ┆ ---   ┆ ---        ┆   ┆ lta           ┆ ---          ┆ _median      ┆ _median      │\n",
       "│ i64 ┆ date ┆ str   ┆ f64        ┆   ┆ ---           ┆ i64          ┆ ---          ┆ ---          │\n",
       "│     ┆      ┆       ┆            ┆   ┆ f64           ┆              ┆ f64          ┆ f64          │\n",
       "╞═════╪══════╪═══════╪════════════╪═══╪═══════════════╪══════════════╪══════════════╪══════════════╡\n",
       "└─────┴──────┴───────┴────────────┴───┴───────────────┴──────────────┴──────────────┴──────────────┘"
      ],
      "text/html": [
       "<div><style>\n",
       ".dataframe > thead > tr,\n",
       ".dataframe > tbody > tr {\n",
       "  text-align: right;\n",
       "  white-space: pre-wrap;\n",
       "}\n",
       "</style>\n",
       "<small>shape: (0, 109)</small><table border=\"1\" class=\"dataframe\"><thead><tr><th></th><th>date</th><th>cusip</th><th>exretn_t+1</th><th>exretnc_t+1</th><th>exretnc_dur_t+1</th><th>bond_ret_t+1</th><th>bond_ret</th><th>exretn</th><th>exretnc_dur</th><th>rating</th><th>cs</th><th>cs_6m_delta</th><th>bond_yield</th><th>bond_amount_out</th><th>offering_amt</th><th>bondprc</th><th>perc_par</th><th>tmt</th><th>duration</th><th>ind_num_17</th><th>sic_code</th><th>BOND_RET</th><th>ILLIQ</th><th>var95</th><th>n_trades_month</th><th>size_ig</th><th>size_jk</th><th>BOND_YIELD</th><th>CS</th><th>BONDPRC</th><th>PRFULL</th><th>CONVEXITY</th><th>CS_6M_DELTA</th><th>bond_value</th><th>BOND_VALUE</th><th>coupon</th><th>&hellip;</th><th>COUPAMT</th><th>COUPACC</th><th>MULTICOUPS</th><th>RET_EOM</th><th>RET_LDM</th><th>RET_L5M</th><th>REMCOUPS</th><th>DURATION_right</th><th>DEFAULT_DATE</th><th>DEFAULT_TYPE</th><th>REINSTATED</th><th>REINSTATED_DATE</th><th>PERMNO</th><th>PERMCO</th><th>link_startdt</th><th>link_enddt</th><th>gvkey</th><th>capital_ratio</th><th>debt_ebitda</th><th>de_ratio</th><th>intcov_ratio</th><th>cash_ratio</th><th>equity_month_return</th><th>datadate</th><th>shortintadj</th><th>unexpected_inflation</th><th>oas</th><th>spread_duration</th><th>bucket</th><th>dxs</th><th>relative_dxs</th><th>systematic_return</th><th>residual_return_t+1</th><th>oas_bucket_delta</th><th>oas_quantile</th><th>weighted_dxs_median</th><th>weighted_ret_median</th></tr><tr><td>i64</td><td>date</td><td>str</td><td>f64</td><td>f64</td><td>f64</td><td>f64</td><td>f64</td><td>f64</td><td>f64</td><td>f64</td><td>f64</td><td>f64</td><td>f64</td><td>f64</td><td>f64</td><td>f64</td><td>f64</td><td>f64</td><td>f64</td><td>f64</td><td>i64</td><td>f64</td><td>f64</td><td>f64</td><td>f64</td><td>f64</td><td>f64</td><td>f64</td><td>f64</td><td>f64</td><td>f64</td><td>f64</td><td>f64</td><td>f64</td><td>f64</td><td>f64</td><td>&hellip;</td><td>f64</td><td>f64</td><td>i64</td><td>str</td><td>str</td><td>str</td><td>i64</td><td>f64</td><td>str</td><td>str</td><td>str</td><td>str</td><td>i64</td><td>i64</td><td>date</td><td>date</td><td>i64</td><td>f64</td><td>f64</td><td>f64</td><td>f64</td><td>f64</td><td>f64</td><td>date</td><td>f64</td><td>f64</td><td>f64</td><td>f64</td><td>str</td><td>f64</td><td>f64</td><td>f64</td><td>f64</td><td>f64</td><td>i64</td><td>f64</td><td>f64</td></tr></thead><tbody></tbody></table></div>"
      ]
     },
     "execution_count": 142,
     "metadata": {},
     "output_type": "execute_result"
    }
   ],
   "execution_count": 142
  },
  {
   "metadata": {
    "ExecuteTime": {
     "end_time": "2024-05-04T16:53:46.135924Z",
     "start_time": "2024-05-04T16:53:46.107923Z"
    }
   },
   "cell_type": "code",
   "source": "bond_data.select('residual_return_t+1').describe()",
   "id": "5d718902fb83552a",
   "outputs": [
    {
     "data": {
      "text/plain": [
       "shape: (9, 2)\n",
       "┌────────────┬─────────────────────┐\n",
       "│ statistic  ┆ residual_return_t+1 │\n",
       "│ ---        ┆ ---                 │\n",
       "│ str        ┆ f64                 │\n",
       "╞════════════╪═════════════════════╡\n",
       "│ count      ┆ 312455.0            │\n",
       "│ null_count ┆ 68888.0             │\n",
       "│ mean       ┆ 0.003027            │\n",
       "│ std        ┆ 0.023881            │\n",
       "│ min        ┆ -0.806988           │\n",
       "│ 25%        ┆ -0.006188           │\n",
       "│ 50%        ┆ 0.002719            │\n",
       "│ 75%        ┆ 0.012632            │\n",
       "│ max        ┆ 0.446559            │\n",
       "└────────────┴─────────────────────┘"
      ],
      "text/html": [
       "<div><style>\n",
       ".dataframe > thead > tr,\n",
       ".dataframe > tbody > tr {\n",
       "  text-align: right;\n",
       "  white-space: pre-wrap;\n",
       "}\n",
       "</style>\n",
       "<small>shape: (9, 2)</small><table border=\"1\" class=\"dataframe\"><thead><tr><th>statistic</th><th>residual_return_t+1</th></tr><tr><td>str</td><td>f64</td></tr></thead><tbody><tr><td>&quot;count&quot;</td><td>312455.0</td></tr><tr><td>&quot;null_count&quot;</td><td>68888.0</td></tr><tr><td>&quot;mean&quot;</td><td>0.003027</td></tr><tr><td>&quot;std&quot;</td><td>0.023881</td></tr><tr><td>&quot;min&quot;</td><td>-0.806988</td></tr><tr><td>&quot;25%&quot;</td><td>-0.006188</td></tr><tr><td>&quot;50%&quot;</td><td>0.002719</td></tr><tr><td>&quot;75%&quot;</td><td>0.012632</td></tr><tr><td>&quot;max&quot;</td><td>0.446559</td></tr></tbody></table></div>"
      ]
     },
     "execution_count": 143,
     "metadata": {},
     "output_type": "execute_result"
    }
   ],
   "execution_count": 143
  },
  {
   "metadata": {},
   "cell_type": "markdown",
   "source": "# Scoring Signals based on the quantile ",
   "id": "87ee54e6308ce71a"
  },
  {
   "metadata": {},
   "cell_type": "markdown",
   "source": "## Shared Functions",
   "id": "e32665b9e38d8f01"
  },
  {
   "metadata": {
    "ExecuteTime": {
     "end_time": "2024-05-04T16:53:47.987422Z",
     "start_time": "2024-05-04T16:53:47.978922Z"
    }
   },
   "cell_type": "code",
   "source": [
    "def compute_quantiles(df: pl.DataFrame, col: str, n_quantiles: int):\n",
    "    \"\"\"Divide the cols in quantiles based on the bucket groups\"\"\"\n",
    "    quantile_col_name = f'{col}_quantile'\n",
    "    delta_col_name = f'{col}_bucket_delta'\n",
    "    mean_col_name = f'{col}_bucket_mean'\n",
    "    \n",
    "    # create the bins and labels to be used in qcut\n",
    "    bins = np.linspace(0,1,n_quantiles+1)[1:]\n",
    "    labels = [str(i+1) for i in range(n_quantiles+1)]\n",
    "    \n",
    "    # compute the mean of the signal for each bucket at each date\n",
    "    col_mean_by_bucket = df.select('date', 'bucket', col).group_by(['date', 'bucket']).agg(\n",
    "        pl.col(col).drop_nans().mean().alias(mean_col_name) # .mean breaks with NaNs, so drop them \n",
    "    )\n",
    "    \n",
    "    # join the dataframes and compute the difference with respect to the group average (computed before)\n",
    "    deltas = (df\n",
    "              .select(pl.all().exclude(quantile_col_name, mean_col_name))\n",
    "              .join(col_mean_by_bucket, how='left', on=['date', 'bucket'])\n",
    "              .with_columns(\n",
    "                    (pl.col(col) - pl.col(mean_col_name)).alias(delta_col_name)\n",
    "                )           \n",
    "              )\n",
    "    # just select the cols we need, to make computations faster\n",
    "    deltas = deltas.select('date', 'cusip', 'bucket', delta_col_name)\n",
    "\n",
    "    data = []\n",
    "    total_items = col_mean_by_bucket.shape[0]\n",
    "    print('computing... ', end='')\n",
    "\n",
    "    i = 0\n",
    "    for group in col_mean_by_bucket.iter_rows(named=True):\n",
    "        i += 1\n",
    "        \n",
    "        # filter for NaNs and Nulls as well \n",
    "        mask = (pl.col('date') == group['date']) & (pl.col('bucket') == group['bucket']) & (pl.col(delta_col_name).is_not_nan() & (pl.col(delta_col_name).is_not_null()))\n",
    "        \n",
    "        group_data = deltas.filter(mask)\n",
    "        # if the DataFrame is emtpy just continue, otherwise qcut will throw an error\n",
    "        if group_data.shape[0] == 0:\n",
    "            continue\n",
    "        \n",
    "        group_data = group_data.with_columns(\n",
    "            pl.col(delta_col_name).qcut(bins,labels=labels, allow_duplicates=True).alias(quantile_col_name)\n",
    "        )\n",
    "            \n",
    "        data.append(group_data)\n",
    "        \n",
    "        if i % 1000 == 0: \n",
    "            print(f'{i}/{total_items} ', end='')\n",
    "    \n",
    "    print('... done!')\n",
    "    \n",
    "    quantiles = pl.concat(data, how='vertical')\n",
    "    quantiles = quantiles.with_columns(\n",
    "        pl.col(quantile_col_name).cast(int).alias(quantile_col_name)\n",
    "    )\n",
    "    return df.join(quantiles.drop('bucket'), how='left', on=['date', 'cusip'])"
   ],
   "id": "cbf8882d3938ec5e",
   "outputs": [],
   "execution_count": 144
  },
  {
   "metadata": {
    "ExecuteTime": {
     "end_time": "2024-05-04T16:53:48.341923Z",
     "start_time": "2024-05-04T16:53:48.333922Z"
    }
   },
   "cell_type": "code",
   "source": [
    "def compute_information_ratio(\n",
    "        df_with_quantiles: pl.DataFrame, \n",
    "        quantile_col: str, \n",
    "        return_col: str = 'residual_return_t+1', \n",
    "): \n",
    "    # group returns by date and the quantile, and compute the average return of the portfolio at the end of every month\n",
    "    signal_monthly_returns = df_with_quantiles.group_by(['date', quantile_col]).agg(\n",
    "        pl.col(return_col).drop_nans().mean().alias('mean_return'), # mean return of the portfolio at EoM\n",
    "    ).filter(pl.col(quantile_col).is_not_null())\n",
    "    \n",
    "    signal_monthly_returns = signal_monthly_returns.sort(['date', quantile_col])\n",
    "    \n",
    "    long_short_returns = signal_monthly_returns.pivot(index='date', columns=quantile_col, values='mean_return').with_columns(\n",
    "        (pl.col('10')-pl.col('1')).alias('long_short')\n",
    "    ).select('date', 'long_short')\n",
    "    market_returns = df_with_quantiles.group_by('date').agg(pl.col(return_col).mean().alias('mkt_return'))\n",
    "    \n",
    "    portfolio_returns = long_short_returns.join(market_returns, how='left', on='date').with_columns(\n",
    "        delta=(pl.col('long_short')-pl.col('mkt_return'))\n",
    "    )\n",
    "    \n",
    "    information_ratio = portfolio_returns['delta'].mean() / portfolio_returns['delta'].std()\n",
    "    \n",
    "    return information_ratio * np.sqrt(12)"
   ],
   "id": "abc880043c836025",
   "outputs": [],
   "execution_count": 145
  },
  {
   "metadata": {
    "ExecuteTime": {
     "end_time": "2024-05-04T16:59:46.159922Z",
     "start_time": "2024-05-04T16:59:46.150922Z"
    }
   },
   "cell_type": "code",
   "source": [
    "from skmisc.loess import loess\n",
    "\n",
    "def get_expected_alpha(\n",
    "        df_with_quantiles: pl.DataFrame, \n",
    "        quantile_col: str,  \n",
    "        plot: bool = False,\n",
    "        interpolate: bool = False,\n",
    "): \n",
    "    return_col = 'residual_return_t+1'\n",
    "    \n",
    "    # group returns by date and the quantile, and compute the average return of the portfolio at the end of every month\n",
    "    monthly_returns_by_bucket = df_with_quantiles.group_by(['date', quantile_col]).agg(\n",
    "        pl.col(return_col).drop_nans().mean().alias('mean_return'), # mean return of the portfolio at EoM\n",
    "    )\n",
    "    \n",
    "    final_portfolio_returns = monthly_returns_by_bucket.group_by(quantile_col).agg(\n",
    "        pl.col('mean_return').mean().alias('avg_monthly_return'),\n",
    "        pl.col('mean_return').std().alias('monthly_stdev'),\n",
    "        ((pl.col('mean_return').mean() / pl.col('mean_return').std()) * np.sqrt(12)).alias('sharpe_ratio'),\n",
    "    )\n",
    "    \n",
    "    # insert the key to sort by\n",
    "    final_portfolio_returns = final_portfolio_returns.sort(by=quantile_col).drop_nulls()\n",
    "    \n",
    "    spline_loess = None\n",
    "    if plot: \n",
    "        fig, axs = plt.subplots(1,2, figsize=(12,6))\n",
    "        \n",
    "        ax1, ax2 = axs\n",
    "        \n",
    "        alpha = 0.3 if interpolate else 1\n",
    "        ax1.bar(x=final_portfolio_returns[quantile_col], height=final_portfolio_returns['avg_monthly_return'])\n",
    "        ax12 = ax1.twinx()\n",
    "        ax12.scatter(x=final_portfolio_returns[quantile_col], y=final_portfolio_returns['monthly_stdev'], label='Volatility')\n",
    "        # ax12.scatter(x=final_portfolio_returns[quantile_col], y=final_portfolio_returns['sharpe_ratio'], label='Sharpe Ratio')\n",
    "        ax1.legend()\n",
    "        \n",
    "        ax2.axhline(color='black')\n",
    "     \n",
    "        data = final_portfolio_returns.select(quantile_col, 'avg_monthly_return').to_numpy()\n",
    "        x, y = data[:, 0], data[:, 1]\n",
    "        \n",
    "        spline_loess = loess(x,y, surface='direct')\n",
    "        spline_loess.fit()\n",
    "        \n",
    "        x_new = np.linspace(x[0], x[-1], 100)\n",
    "        pred = spline_loess.predict(x_new, stderror=True)\n",
    "        conf = pred.confidence()\n",
    "        \n",
    "        lowess_vals = pred.values\n",
    "        ll = conf.lower\n",
    "        ul = conf.upper\n",
    "        \n",
    "        x_new = np.linspace(x[0], x[-1], 100)\n",
    "    \n",
    "        ax2.fill_between(x_new,ll,ul,alpha=0.5)\n",
    "        ax2.scatter(x=final_portfolio_returns[quantile_col], y=final_portfolio_returns['avg_monthly_return'], label='Expected Alpha')\n",
    "        ax2.plot(x_new, lowess_vals)\n",
    "\n",
    "    return final_portfolio_returns, spline_loess"
   ],
   "id": "a2e9c767840de213",
   "outputs": [],
   "execution_count": 160
  },
  {
   "metadata": {
    "ExecuteTime": {
     "end_time": "2024-05-04T17:31:23.077421Z",
     "start_time": "2024-05-04T17:31:23.071922Z"
    }
   },
   "cell_type": "code",
   "source": [
    "def map_quantile_to_alpha_est(spline: loess):\n",
    "    \"\"\"Wrapper that Returns the function to throw in map_batches, given the correct spline for the signal\"\"\"\n",
    "    def f(x: pl.Series): \n",
    "        data = x.to_numpy()\n",
    "        n = len(data)\n",
    "        \n",
    "        values = np.zeros(n)\n",
    "        values[:] = np.nan\n",
    "        \n",
    "        for i in range(n):\n",
    "            val = data[i]\n",
    "            if np.isnan(val):\n",
    "                continue\n",
    "            signal_val = spline.predict([val]).values\n",
    "            values[i] = signal_val[0]\n",
    "            \n",
    "        return values\n",
    "    \n",
    "    return f \n",
    "\n",
    "def quantile_to_alpha_est(df: pl.DataFrame, quantile_col: str, new_col_name: str, spline: loess): \n",
    "    df = df.with_columns(\n",
    "        pl.col(quantile_col).map_batches(function=map_quantile_to_alpha_est(spline), return_dtype=pl.Float64).fill_nan(None).alias(new_col_name),\n",
    "    ).with_columns(\n",
    "        ((pl.col(new_col_name) - pl.col(new_col_name).drop_nulls().mean()) / pl.col(new_col_name).drop_nulls().std()).alias(new_col_name)\n",
    "    )\n",
    "    \n",
    "    return df "
   ],
   "id": "eece3f2eaa13143",
   "outputs": [],
   "execution_count": 200
  },
  {
   "metadata": {
    "ExecuteTime": {
     "end_time": "2024-05-04T16:53:49.069422Z",
     "start_time": "2024-05-04T16:53:49.062422Z"
    }
   },
   "cell_type": "code",
   "source": [
    "def _update_transition_prob_matrix(chain, counts_matrix, lag):\n",
    "    flat_coords = np.ravel_multi_index((chain[:-lag], chain[lag:]), counts_matrix.shape)\n",
    "    return np.bincount(flat_coords, minlength=counts_matrix.size).reshape(counts_matrix.shape)\n",
    "\n",
    "def _convert_to_probabilities(transition_matrix: np.ndarray): \n",
    "    M = transition_matrix.copy()\n",
    "    for row in M: \n",
    "        n = sum(row)\n",
    "        if n > 0: \n",
    "            row[:] = [f/n for f in row] \n",
    "    \n",
    "    return M\n",
    "\n",
    "def compute_transition_matrix(df_with_quantiles: pl.DataFrame, quantile_col: str, n_quantiles: int, lag: int = 1, plot: bool = False):\n",
    "    \"\"\"Compute the transition probabilities for quantiles for a given signal, given a certain lag (1 unit of lag is 1 month of time)\"\"\"\n",
    "    \n",
    "    # group by the cusip, and get the evolution of the quantile during time for each bond\n",
    "    quantiles_evolution = df_with_quantiles.sort('date').filter(pl.col(quantile_col).is_not_null()).group_by('cusip', maintain_order=True).agg(pl.col(quantile_col))\n",
    "    \n",
    "    # initialize the matrix of transition probabilities\n",
    "    transition_probabilities = np.zeros((n_quantiles, n_quantiles), dtype=np.float64)\n",
    "    \n",
    "    # iterate through the different evolutions and update the transition probabilities\n",
    "    for row in quantiles_evolution.iter_rows(): \n",
    "        chain = row[1]\n",
    "        if np.min(chain) != 0: \n",
    "            chain -= np.min(chain)\n",
    "        \n",
    "        transition_probabilities[:, :] += _update_transition_prob_matrix(chain, transition_probabilities, lag)\n",
    "    \n",
    "    # convert these to actual probabilities\n",
    "    transition_probabilities = _convert_to_probabilities(transition_probabilities)\n",
    "    \n",
    "    if plot: \n",
    "        fig, ax = plt.subplots()\n",
    "        ax.imshow(transition_probabilities, cmap='hot', interpolation='nearest')\n",
    "    \n",
    "    return transition_probabilities"
   ],
   "id": "c11386c5b5c6fe04",
   "outputs": [],
   "execution_count": 147
  },
  {
   "metadata": {},
   "cell_type": "markdown",
   "source": "## Carry",
   "id": "c14e26b5eaf89eaf"
  },
  {
   "metadata": {},
   "cell_type": "markdown",
   "source": "For carry, we rank each bond based on its OAS. ",
   "id": "2bdd49af2f200f8b"
  },
  {
   "metadata": {
    "ExecuteTime": {
     "end_time": "2024-05-04T16:53:57.817421Z",
     "start_time": "2024-05-04T16:53:50.441423Z"
    }
   },
   "cell_type": "code",
   "source": "bond_data_oas_quantiles = compute_quantiles(bond_data, 'oas', 10) ",
   "id": "eb1182355717efa1",
   "outputs": [
    {
     "name": "stdout",
     "output_type": "stream",
     "text": [
      "computing... 1000/2969 2000/2969 ... done!\n"
     ]
    }
   ],
   "execution_count": 148
  },
  {
   "metadata": {
    "ExecuteTime": {
     "end_time": "2024-05-04T16:53:57.825422Z",
     "start_time": "2024-05-04T16:53:57.820423Z"
    }
   },
   "cell_type": "code",
   "source": "bond_data = bond_data_oas_quantiles",
   "id": "a8e5c360c942b8a1",
   "outputs": [],
   "execution_count": 149
  },
  {
   "metadata": {
    "ExecuteTime": {
     "end_time": "2024-05-04T16:53:57.877421Z",
     "start_time": "2024-05-04T16:53:57.828922Z"
    }
   },
   "cell_type": "code",
   "source": "compute_information_ratio(bond_data, 'oas_quantile')",
   "id": "9d30a48b8d4be06a",
   "outputs": [
    {
     "data": {
      "text/plain": [
       "0.8913875244665506"
      ]
     },
     "execution_count": 150,
     "metadata": {},
     "output_type": "execute_result"
    }
   ],
   "execution_count": 150
  },
  {
   "metadata": {
    "ExecuteTime": {
     "end_time": "2024-05-04T16:59:51.855422Z",
     "start_time": "2024-05-04T16:59:51.203423Z"
    }
   },
   "cell_type": "code",
   "source": "carry_returns, carry_spline = get_expected_alpha(bond_data, 'oas_quantile', plot=True, interpolate=True)",
   "id": "e2515f5a5eef5323",
   "outputs": [
    {
     "name": "stderr",
     "output_type": "stream",
     "text": [
      "No artists with labels found to put in legend.  Note that artists whose label start with an underscore are ignored when legend() is called with no argument.\n"
     ]
    },
    {
     "data": {
      "text/plain": [
       "<Figure size 1200x600 with 3 Axes>"
      ],
      "image/png": "[encoded data removed]"
     },
     "metadata": {},
     "output_type": "display_data"
    }
   ],
   "execution_count": 161
  },
  {
   "metadata": {
    "ExecuteTime": {
     "end_time": "2024-05-04T17:30:49.172924Z",
     "start_time": "2024-05-04T17:30:40.509922Z"
    }
   },
   "cell_type": "code",
   "source": [
    "bond_data = quantile_to_alpha_est(bond_data, 'oas_quantile', 'carry_signal_value', carry_spline)\n",
    "bond_data.select('carry_signal_value')"
   ],
   "id": "e49ea7b99010efa",
   "outputs": [
    {
     "data": {
      "text/plain": [
       "shape: (381_343, 1)\n",
       "┌────────────────────┐\n",
       "│ carry_signal_value │\n",
       "│ ---                │\n",
       "│ f64                │\n",
       "╞════════════════════╡\n",
       "│ -0.056882          │\n",
       "│ 0.313199           │\n",
       "│ 1.89192            │\n",
       "│ null               │\n",
       "│ 1.049597           │\n",
       "│ …                  │\n",
       "│ 0.313199           │\n",
       "│ 0.145291           │\n",
       "│ -0.629587          │\n",
       "│ -1.103211          │\n",
       "│ 0.145291           │\n",
       "└────────────────────┘"
      ],
      "text/html": [
       "<div><style>\n",
       ".dataframe > thead > tr,\n",
       ".dataframe > tbody > tr {\n",
       "  text-align: right;\n",
       "  white-space: pre-wrap;\n",
       "}\n",
       "</style>\n",
       "<small>shape: (381_343, 1)</small><table border=\"1\" class=\"dataframe\"><thead><tr><th>carry_signal_value</th></tr><tr><td>f64</td></tr></thead><tbody><tr><td>-0.056882</td></tr><tr><td>0.313199</td></tr><tr><td>1.89192</td></tr><tr><td>null</td></tr><tr><td>1.049597</td></tr><tr><td>&hellip;</td></tr><tr><td>0.313199</td></tr><tr><td>0.145291</td></tr><tr><td>-0.629587</td></tr><tr><td>-1.103211</td></tr><tr><td>0.145291</td></tr></tbody></table></div>"
      ]
     },
     "execution_count": 199,
     "metadata": {},
     "output_type": "execute_result"
    }
   ],
   "execution_count": 199
  },
  {
   "metadata": {
    "ExecuteTime": {
     "end_time": "2024-05-04T16:12:06.188921Z",
     "start_time": "2024-05-04T16:12:05.129922Z"
    }
   },
   "cell_type": "code",
   "source": [
    "transition_probs = compute_transition_matrix(bond_data, 'oas_quantile', 10, lag=1, plot=True)\n",
    "np.round(transition_probs, 2) * 100"
   ],
   "id": "268b0720aa056e08",
   "outputs": [
    {
     "data": {
      "text/plain": [
       "array([[62., 22.,  7.,  3.,  2.,  1.,  1.,  1.,  0.,  0.],\n",
       "       [20., 49., 19.,  6.,  3.,  1.,  1.,  1.,  0.,  0.],\n",
       "       [ 7., 21., 43., 18.,  6.,  2.,  1.,  1.,  1.,  0.],\n",
       "       [ 4.,  8., 21., 38., 18.,  6.,  3.,  1.,  1.,  0.],\n",
       "       [ 2.,  4.,  9., 21., 37., 16.,  6.,  2.,  1.,  1.],\n",
       "       [ 2.,  3.,  4.,  9., 22., 36., 16.,  5.,  2.,  1.],\n",
       "       [ 2.,  2.,  3.,  5., 10., 20., 36., 16.,  5.,  2.],\n",
       "       [ 2.,  2.,  2.,  3.,  5.,  9., 21., 38., 14.,  4.],\n",
       "       [ 2.,  1.,  2.,  2.,  3.,  5., 10., 21., 40., 13.],\n",
       "       [ 2.,  2.,  2.,  3.,  3.,  4.,  6.,  9., 20., 49.]])"
      ]
     },
     "execution_count": 35,
     "metadata": {},
     "output_type": "execute_result"
    },
    {
     "data": {
      "text/plain": [
       "<Figure size 640x480 with 1 Axes>"
      ],
      "image/png": "[encoded data removed]"
     },
     "metadata": {},
     "output_type": "display_data"
    }
   ],
   "execution_count": 35
  },
  {
   "metadata": {},
   "cell_type": "markdown",
   "source": "## Momentum (Excess Credit Return)",
   "id": "33f58e909dee7692"
  },
  {
   "metadata": {},
   "cell_type": "markdown",
   "source": [
    "We use the **Credit Excess Return**, as defined by the AQR paper, to define momentum.\n",
    "\n",
    "$$\n",
    "CER_t=\\frac{1}{12}Spread_{t-1}-\\text{Spread Duration}_{t-1}\\times(Spread_t-Spread_{t-1})\n",
    "$$\n",
    "\n",
    "Which translated to our data is\n",
    "\n",
    "$$\n",
    "CER_t=\\frac{1}{12}OAS_{t-1}-\\text{duration}_{t-1}\\times(OAS_t-OAS_{t-1})\n",
    "$$\n"
   ],
   "id": "93d876544a98ef69"
  },
  {
   "metadata": {
    "ExecuteTime": {
     "end_time": "2024-05-04T17:34:22.520923Z",
     "start_time": "2024-05-04T17:34:22.515421Z"
    }
   },
   "cell_type": "code",
   "source": "bond_data.select('YIELD', 'bond_yield').null_count()",
   "id": "bf3b3abbce6a72d5",
   "outputs": [
    {
     "data": {
      "text/plain": [
       "shape: (1, 2)\n",
       "┌───────┬────────────┐\n",
       "│ YIELD ┆ bond_yield │\n",
       "│ ---   ┆ ---        │\n",
       "│ u32   ┆ u32        │\n",
       "╞═══════╪════════════╡\n",
       "│ 2329  ┆ 2329       │\n",
       "└───────┴────────────┘"
      ],
      "text/html": [
       "<div><style>\n",
       ".dataframe > thead > tr,\n",
       ".dataframe > tbody > tr {\n",
       "  text-align: right;\n",
       "  white-space: pre-wrap;\n",
       "}\n",
       "</style>\n",
       "<small>shape: (1, 2)</small><table border=\"1\" class=\"dataframe\"><thead><tr><th>YIELD</th><th>bond_yield</th></tr><tr><td>u32</td><td>u32</td></tr></thead><tbody><tr><td>2329</td><td>2329</td></tr></tbody></table></div>"
      ]
     },
     "execution_count": 204,
     "metadata": {},
     "output_type": "execute_result"
    }
   ],
   "execution_count": 204
  },
  {
   "metadata": {
    "ExecuteTime": {
     "end_time": "2024-05-04T17:34:23.018422Z",
     "start_time": "2024-05-04T17:34:22.840923Z"
    }
   },
   "cell_type": "code",
   "source": [
    "# compute excess credit return at each timestamp\n",
    "bond_data = bond_data.sort(['cusip', 'date'])\n",
    "bond_data = bond_data.with_columns(\n",
    "    excess_credit_ret=(pl.col('oas').shift(1) / 12 - pl.col('spread_duration') * (pl.col('oas') - pl.col('oas').shift(1)))\n",
    ")\n",
    "\n",
    "mask = pl.col('cusip') != pl.col('cusip').shift(1)\n",
    "\n",
    "bond_data = bond_data.with_columns(\n",
    "    excess_credit_ret=pl.when(mask).then(np.nan).otherwise(pl.col('excess_credit_ret'))\n",
    ")"
   ],
   "id": "59b7437845939dfd",
   "outputs": [],
   "execution_count": 205
  },
  {
   "metadata": {
    "ExecuteTime": {
     "end_time": "2024-05-04T17:34:25.854921Z",
     "start_time": "2024-05-04T17:34:23.506922Z"
    }
   },
   "cell_type": "code",
   "source": [
    "# compute the x_month rolling excess return\n",
    "def momentum(df: pl.DataFrame, period: str, min_periods: int, n_months: int):\n",
    "    momentum_returns = df.sort(['cusip', 'date']).rolling('date', group_by='cusip', period=period).agg(\n",
    "        pl.when(pl.col('excess_credit_ret').len() > min_periods).then(pl.col('excess_credit_ret').add(1).product().sub(1)).otherwise(np.nan).alias(f'mom_{n_months}mo'),\n",
    "        pl.when(pl.col('excess_credit_ret').len() > min_periods).then(pl.col('bondprc').last() / pl.col('bondprc').first() - 1).otherwise(np.nan).alias(f'price_mom_{n_months}mo'),\n",
    "    )\n",
    "    return momentum_returns\n",
    "\n",
    "\n",
    "mom_6mo = momentum(bond_data, '5mo20d', 5, 6)\n",
    "mom_12mo = momentum(bond_data, '11mo20d', 9, 12)\n",
    "\n",
    "bond_data = bond_data.join(\n",
    "    mom_6mo,\n",
    "    how='left',\n",
    "    on=['cusip', 'date'],\n",
    ").join(\n",
    "    mom_12mo,\n",
    "    how='left',\n",
    "    on=['cusip', 'date'],\n",
    ")"
   ],
   "id": "9c5498e7e8c8ee09",
   "outputs": [],
   "execution_count": 206
  },
  {
   "metadata": {
    "ExecuteTime": {
     "end_time": "2024-05-04T17:34:37.871422Z",
     "start_time": "2024-05-04T17:34:26.676422Z"
    }
   },
   "cell_type": "code",
   "source": [
    "bond_data = compute_quantiles(bond_data, 'price_mom_6mo', 10)\n",
    "bond_data = compute_quantiles(bond_data, 'price_mom_12mo', 10)"
   ],
   "id": "86fcbaac59102929",
   "outputs": [
    {
     "name": "stdout",
     "output_type": "stream",
     "text": [
      "computing... 1000/2969 2000/2969 ... done!\n"
     ]
    },
    {
     "name": "stderr",
     "output_type": "stream",
     "text": [
      "sys:1: CategoricalRemappingWarning: Local categoricals have different encodings, expensive re-encoding is done to perform this merge operation. Consider using a StringCache or an Enum type if the categories are known in advance\n"
     ]
    },
    {
     "name": "stdout",
     "output_type": "stream",
     "text": [
      "computing... 1000/2969 2000/2969 ... done!\n"
     ]
    }
   ],
   "execution_count": 207
  },
  {
   "metadata": {
    "ExecuteTime": {
     "end_time": "2024-05-04T17:36:36.705921Z",
     "start_time": "2024-05-04T17:36:36.080922Z"
    }
   },
   "cell_type": "code",
   "source": "credit_mom_returns, credit_mom_spline = get_expected_alpha(bond_data, 'price_mom_6mo_quantile', plot=True, interpolate=True)",
   "id": "8c5b95460922cdaa",
   "outputs": [
    {
     "name": "stderr",
     "output_type": "stream",
     "text": [
      "No artists with labels found to put in legend.  Note that artists whose label start with an underscore are ignored when legend() is called with no argument.\n"
     ]
    },
    {
     "data": {
      "text/plain": [
       "<Figure size 1200x600 with 3 Axes>"
      ],
      "image/png": "[encoded data removed]"
     },
     "metadata": {},
     "output_type": "display_data"
    }
   ],
   "execution_count": 209
  },
  {
   "metadata": {
    "ExecuteTime": {
     "end_time": "2024-05-04T17:38:49.116422Z",
     "start_time": "2024-05-04T17:38:48.495922Z"
    }
   },
   "cell_type": "code",
   "source": "credit_mom_12mo_returns, credit_mom_12mo_spline = get_expected_alpha(bond_data, 'price_mom_12mo_quantile', plot=True, interpolate=True)",
   "id": "ae99829259179807",
   "outputs": [
    {
     "name": "stderr",
     "output_type": "stream",
     "text": [
      "No artists with labels found to put in legend.  Note that artists whose label start with an underscore are ignored when legend() is called with no argument.\n"
     ]
    },
    {
     "data": {
      "text/plain": [
       "<Figure size 1200x600 with 3 Axes>"
      ],
      "image/png": "[encoded data removed]"
     },
     "metadata": {},
     "output_type": "display_data"
    }
   ],
   "execution_count": 213
  },
  {
   "metadata": {
    "ExecuteTime": {
     "end_time": "2024-05-04T17:39:10.494921Z",
     "start_time": "2024-05-04T17:39:04.972427Z"
    }
   },
   "cell_type": "code",
   "source": "bond_data = quantile_to_alpha_est(bond_data, 'price_mom_12mo_quantile', 'credit_mom_signal_value', credit_mom_12mo_spline)",
   "id": "7d240ca10ae425e8",
   "outputs": [],
   "execution_count": 214
  },
  {
   "metadata": {
    "ExecuteTime": {
     "end_time": "2024-05-04T16:12:20.940421Z",
     "start_time": "2024-05-04T16:12:20.156922Z"
    }
   },
   "cell_type": "code",
   "source": "compute_transition_matrix(bond_data, 'price_mom_6mo_quantile', 10, lag=1, plot=True)",
   "id": "64d087b48d046795",
   "outputs": [
    {
     "data": {
      "text/plain": [
       "array([[0.37104215, 0.1911774 , 0.11211528, 0.07950452, 0.0589964 ,\n",
       "        0.04458699, 0.03782469, 0.03485433, 0.03144157, 0.03845668],\n",
       "       [0.20764466, 0.21760257, 0.1663758 , 0.11682579, 0.08216131,\n",
       "        0.05834445, 0.04688088, 0.03798378, 0.0327824 , 0.03339835],\n",
       "       [0.12672621, 0.16970113, 0.18182755, 0.14953624, 0.1147372 ,\n",
       "        0.07959464, 0.06015115, 0.04699416, 0.03912745, 0.03160426],\n",
       "       [0.09240489, 0.12548598, 0.15412385, 0.16301027, 0.14360594,\n",
       "        0.10854624, 0.07872813, 0.05567898, 0.043599  , 0.03481672],\n",
       "       [0.07134646, 0.0876154 , 0.11924752, 0.14791848, 0.16108692,\n",
       "        0.13788539, 0.1031876 , 0.07552691, 0.05458979, 0.04159554],\n",
       "       [0.05488406, 0.06474347, 0.09048749, 0.11677926, 0.14573672,\n",
       "        0.16118313, 0.1369728 , 0.10498448, 0.07317875, 0.05104984],\n",
       "       [0.04714987, 0.05171763, 0.07119668, 0.09067573, 0.1198943 ,\n",
       "        0.14435636, 0.16553416, 0.14065685, 0.09996225, 0.06885617],\n",
       "       [0.04110504, 0.04648878, 0.05234409, 0.07171769, 0.08826188,\n",
       "        0.11604511, 0.15039101, 0.17699532, 0.15098047, 0.10567061],\n",
       "       [0.04000164, 0.03709168, 0.04524776, 0.0534858 , 0.06774868,\n",
       "        0.08479856, 0.11918521, 0.16418706, 0.21132014, 0.17693348],\n",
       "       [0.04312478, 0.0353089 , 0.03593732, 0.03742979, 0.04752366,\n",
       "        0.05624288, 0.07466321, 0.11005067, 0.18066847, 0.37905031]])"
      ]
     },
     "execution_count": 43,
     "metadata": {},
     "output_type": "execute_result"
    },
    {
     "data": {
      "text/plain": [
       "<Figure size 640x480 with 1 Axes>"
      ],
      "image/png": "[encoded data removed]"
     },
     "metadata": {},
     "output_type": "display_data"
    }
   ],
   "execution_count": 43
  },
  {
   "metadata": {
    "ExecuteTime": {
     "end_time": "2024-05-04T17:39:17.764422Z",
     "start_time": "2024-05-04T17:39:16.147430Z"
    }
   },
   "cell_type": "code",
   "source": "compute_transition_matrix(bond_data, 'price_mom_12mo_quantile', 10, lag=1, plot=True)",
   "id": "dfc66add108878a7",
   "outputs": [
    {
     "data": {
      "text/plain": [
       "array([[0.48065697, 0.2030276 , 0.10461396, 0.06434484, 0.04442466,\n",
       "        0.02895683, 0.02542792, 0.0177105 , 0.0148412 , 0.01599551],\n",
       "       [0.22638465, 0.28871584, 0.18194254, 0.10719422, 0.06440072,\n",
       "        0.04479287, 0.03132344, 0.02329089, 0.01760847, 0.01434635],\n",
       "       [0.11623944, 0.1981467 , 0.23631329, 0.168217  , 0.10679543,\n",
       "        0.06280622, 0.04327913, 0.03191792, 0.02137329, 0.0149116 ],\n",
       "       [0.07188602, 0.11444916, 0.18626322, 0.21501043, 0.16043031,\n",
       "        0.10318774, 0.06163201, 0.03997266, 0.02684033, 0.02032813],\n",
       "       [0.0494675 , 0.07399927, 0.11939038, 0.17455013, 0.21024605,\n",
       "        0.1526625 , 0.09614396, 0.06088873, 0.03712817, 0.02552332],\n",
       "       [0.03716163, 0.04915308, 0.07321513, 0.12197246, 0.17456862,\n",
       "        0.20452747, 0.15398924, 0.0966044 , 0.05611841, 0.03268957],\n",
       "       [0.02861565, 0.0368573 , 0.05158348, 0.0760574 , 0.12220223,\n",
       "        0.17018784, 0.21022466, 0.15692591, 0.09446513, 0.05288039],\n",
       "       [0.02356753, 0.02898229, 0.03750388, 0.05290489, 0.07593982,\n",
       "        0.11677245, 0.17691181, 0.22471262, 0.16625982, 0.0964449 ],\n",
       "       [0.01982922, 0.02267552, 0.0278463 , 0.03548387, 0.05033207,\n",
       "        0.07020873, 0.11176471, 0.19193548, 0.28164137, 0.18828273],\n",
       "       [0.02122139, 0.01742193, 0.01941433, 0.0244185 , 0.03326846,\n",
       "        0.03831897, 0.06111574, 0.1010101 , 0.19664535, 0.48716523]])"
      ]
     },
     "execution_count": 215,
     "metadata": {},
     "output_type": "execute_result"
    },
    {
     "data": {
      "text/plain": [
       "<Figure size 640x480 with 1 Axes>"
      ],
      "image/png": "[encoded data removed]"
     },
     "metadata": {},
     "output_type": "display_data"
    }
   ],
   "execution_count": 215
  },
  {
   "metadata": {},
   "cell_type": "markdown",
   "source": "## Value",
   "id": "95ef4c3988e1d508"
  },
  {
   "metadata": {},
   "cell_type": "markdown",
   "source": "We use **Excess Spread to Peers** as a Value Signal in our strategy.",
   "id": "ce35a477dbdde22"
  },
  {
   "metadata": {
    "ExecuteTime": {
     "end_time": "2024-05-04T17:39:48.781921Z",
     "start_time": "2024-05-04T17:39:48.727921Z"
    }
   },
   "cell_type": "code",
   "source": "oas_bucket_means = bond_data.group_by(['date', 'bucket']).agg(pl.col('oas').drop_nans().mean().alias('ESP_bucket_mean_oas'))",
   "id": "a44bfa927bbf6c75",
   "outputs": [],
   "execution_count": 216
  },
  {
   "metadata": {
    "ExecuteTime": {
     "end_time": "2024-05-04T17:39:49.188922Z",
     "start_time": "2024-05-04T17:39:49.182922Z"
    }
   },
   "cell_type": "code",
   "source": "oas_bucket_means",
   "id": "5d7b7e8a5cc1bae2",
   "outputs": [
    {
     "data": {
      "text/plain": [
       "shape: (2_969, 3)\n",
       "┌────────────┬──────────────┬─────────────────────┐\n",
       "│ date       ┆ bucket       ┆ ESP_bucket_mean_oas │\n",
       "│ ---        ┆ ---          ┆ ---                 │\n",
       "│ date       ┆ str          ┆ f64                 │\n",
       "╞════════════╪══════════════╪═════════════════════╡\n",
       "│ 2012-06-30 ┆ 2_B_longdur  ┆ 0.030765            │\n",
       "│ 2006-03-31 ┆ 5_A_shortdur ┆ 0.007979            │\n",
       "│ 2004-08-31 ┆ 1_A_shortdur ┆ null                │\n",
       "│ 2007-04-30 ┆ 1_A_longdur  ┆ 0.012128            │\n",
       "│ 2012-04-30 ┆ 4_B_shortdur ┆ 0.029089            │\n",
       "│ …          ┆ …            ┆ …                   │\n",
       "│ 2003-12-31 ┆ 2_A_shortdur ┆ 0.006589            │\n",
       "│ 2003-06-30 ┆ 2_B_longdur  ┆ 0.022774            │\n",
       "│ 2007-10-31 ┆ 3_B_longdur  ┆ 0.016768            │\n",
       "│ 2009-12-31 ┆ 2_A_shortdur ┆ 0.007282            │\n",
       "│ 2009-10-31 ┆ 1_B_longdur  ┆ 0.027716            │\n",
       "└────────────┴──────────────┴─────────────────────┘"
      ],
      "text/html": [
       "<div><style>\n",
       ".dataframe > thead > tr,\n",
       ".dataframe > tbody > tr {\n",
       "  text-align: right;\n",
       "  white-space: pre-wrap;\n",
       "}\n",
       "</style>\n",
       "<small>shape: (2_969, 3)</small><table border=\"1\" class=\"dataframe\"><thead><tr><th>date</th><th>bucket</th><th>ESP_bucket_mean_oas</th></tr><tr><td>date</td><td>str</td><td>f64</td></tr></thead><tbody><tr><td>2012-06-30</td><td>&quot;2_B_longdur&quot;</td><td>0.030765</td></tr><tr><td>2006-03-31</td><td>&quot;5_A_shortdur&quot;</td><td>0.007979</td></tr><tr><td>2004-08-31</td><td>&quot;1_A_shortdur&quot;</td><td>null</td></tr><tr><td>2007-04-30</td><td>&quot;1_A_longdur&quot;</td><td>0.012128</td></tr><tr><td>2012-04-30</td><td>&quot;4_B_shortdur&quot;</td><td>0.029089</td></tr><tr><td>&hellip;</td><td>&hellip;</td><td>&hellip;</td></tr><tr><td>2003-12-31</td><td>&quot;2_A_shortdur&quot;</td><td>0.006589</td></tr><tr><td>2003-06-30</td><td>&quot;2_B_longdur&quot;</td><td>0.022774</td></tr><tr><td>2007-10-31</td><td>&quot;3_B_longdur&quot;</td><td>0.016768</td></tr><tr><td>2009-12-31</td><td>&quot;2_A_shortdur&quot;</td><td>0.007282</td></tr><tr><td>2009-10-31</td><td>&quot;1_B_longdur&quot;</td><td>0.027716</td></tr></tbody></table></div>"
      ]
     },
     "execution_count": 217,
     "metadata": {},
     "output_type": "execute_result"
    }
   ],
   "execution_count": 217
  },
  {
   "metadata": {
    "ExecuteTime": {
     "end_time": "2024-05-04T17:39:51.245923Z",
     "start_time": "2024-05-04T17:39:51.202421Z"
    }
   },
   "cell_type": "code",
   "source": "bond_data = bond_data.join(oas_bucket_means, on=['date', 'bucket'], how='left')",
   "id": "d87816e90ca1e2a0",
   "outputs": [],
   "execution_count": 218
  },
  {
   "metadata": {
    "ExecuteTime": {
     "end_time": "2024-05-04T17:39:53.879422Z",
     "start_time": "2024-05-04T17:39:53.873922Z"
    }
   },
   "cell_type": "code",
   "source": [
    "bond_data = bond_data.with_columns( \n",
    "    ESP = pl.col('oas') - pl.col('ESP_bucket_mean_oas'))"
   ],
   "id": "7c86c7bcabcbef92",
   "outputs": [],
   "execution_count": 219
  },
  {
   "metadata": {
    "ExecuteTime": {
     "end_time": "2024-05-04T17:39:54.298922Z",
     "start_time": "2024-05-04T17:39:54.292923Z"
    }
   },
   "cell_type": "code",
   "source": "bond_data.select('de_ratio', 'intcov_ratio', 'debt_ebitda').null_count()",
   "id": "7d77b3e16f1a7a2f",
   "outputs": [
    {
     "data": {
      "text/plain": [
       "shape: (1, 3)\n",
       "┌──────────┬──────────────┬─────────────┐\n",
       "│ de_ratio ┆ intcov_ratio ┆ debt_ebitda │\n",
       "│ ---      ┆ ---          ┆ ---         │\n",
       "│ u32      ┆ u32          ┆ u32         │\n",
       "╞══════════╪══════════════╪═════════════╡\n",
       "│ 70090    ┆ 92830        ┆ 71128       │\n",
       "└──────────┴──────────────┴─────────────┘"
      ],
      "text/html": [
       "<div><style>\n",
       ".dataframe > thead > tr,\n",
       ".dataframe > tbody > tr {\n",
       "  text-align: right;\n",
       "  white-space: pre-wrap;\n",
       "}\n",
       "</style>\n",
       "<small>shape: (1, 3)</small><table border=\"1\" class=\"dataframe\"><thead><tr><th>de_ratio</th><th>intcov_ratio</th><th>debt_ebitda</th></tr><tr><td>u32</td><td>u32</td><td>u32</td></tr></thead><tbody><tr><td>70090</td><td>92830</td><td>71128</td></tr></tbody></table></div>"
      ]
     },
     "execution_count": 220,
     "metadata": {},
     "output_type": "execute_result"
    }
   ],
   "execution_count": 220
  },
  {
   "metadata": {
    "ExecuteTime": {
     "end_time": "2024-05-04T17:39:54.684426Z",
     "start_time": "2024-05-04T17:39:54.672923Z"
    }
   },
   "cell_type": "code",
   "source": "bond_data.head(3)",
   "id": "4798d8ff3b2ba479",
   "outputs": [
    {
     "data": {
      "text/plain": [
       "shape: (3, 125)\n",
       "┌────────┬────────────┬───────────┬────────────┬───┬────────────┬───────────┬───────────┬──────────┐\n",
       "│        ┆ date       ┆ cusip     ┆ exretn_t+1 ┆ … ┆ price_mom_ ┆ credit_mo ┆ ESP_bucke ┆ ESP      │\n",
       "│ ---    ┆ ---        ┆ ---       ┆ ---        ┆   ┆ 12mo_quant ┆ m_signal_ ┆ t_mean_oa ┆ ---      │\n",
       "│ i64    ┆ date       ┆ str       ┆ f64        ┆   ┆ ile        ┆ value     ┆ s         ┆ f64      │\n",
       "│        ┆            ┆           ┆            ┆   ┆ ---        ┆ ---       ┆ ---       ┆          │\n",
       "│        ┆            ┆           ┆            ┆   ┆ i64        ┆ f64       ┆ f64       ┆          │\n",
       "╞════════╪════════════╪═══════════╪════════════╪═══╪════════════╪═══════════╪═══════════╪══════════╡\n",
       "│ 583213 ┆ 2012-05-31 ┆ 00037BAA0 ┆ 0.006186   ┆ … ┆ null       ┆ null      ┆ 0.008071  ┆ 0.001853 │\n",
       "│ 588586 ┆ 2012-06-30 ┆ 00037BAA0 ┆ 0.011728   ┆ … ┆ null       ┆ null      ┆ 0.007091  ┆ 0.000939 │\n",
       "│ 594002 ┆ 2012-07-31 ┆ 00037BAA0 ┆ -0.001191  ┆ … ┆ null       ┆ null      ┆ 0.006591  ┆ 0.000514 │\n",
       "└────────┴────────────┴───────────┴────────────┴───┴────────────┴───────────┴───────────┴──────────┘"
      ],
      "text/html": [
       "<div><style>\n",
       ".dataframe > thead > tr,\n",
       ".dataframe > tbody > tr {\n",
       "  text-align: right;\n",
       "  white-space: pre-wrap;\n",
       "}\n",
       "</style>\n",
       "<small>shape: (3, 125)</small><table border=\"1\" class=\"dataframe\"><thead><tr><th></th><th>date</th><th>cusip</th><th>exretn_t+1</th><th>exretnc_t+1</th><th>exretnc_dur_t+1</th><th>bond_ret_t+1</th><th>bond_ret</th><th>exretn</th><th>exretnc_dur</th><th>rating</th><th>cs</th><th>cs_6m_delta</th><th>bond_yield</th><th>bond_amount_out</th><th>offering_amt</th><th>bondprc</th><th>perc_par</th><th>tmt</th><th>duration</th><th>ind_num_17</th><th>sic_code</th><th>BOND_RET</th><th>ILLIQ</th><th>var95</th><th>n_trades_month</th><th>size_ig</th><th>size_jk</th><th>BOND_YIELD</th><th>CS</th><th>BONDPRC</th><th>PRFULL</th><th>CONVEXITY</th><th>CS_6M_DELTA</th><th>bond_value</th><th>BOND_VALUE</th><th>coupon</th><th>&hellip;</th><th>gvkey</th><th>capital_ratio</th><th>debt_ebitda</th><th>de_ratio</th><th>intcov_ratio</th><th>cash_ratio</th><th>equity_month_return</th><th>datadate</th><th>shortintadj</th><th>unexpected_inflation</th><th>oas</th><th>spread_duration</th><th>bucket</th><th>dxs</th><th>relative_dxs</th><th>systematic_return</th><th>residual_return_t+1</th><th>oas_bucket_delta</th><th>oas_quantile</th><th>weighted_dxs_median</th><th>weighted_ret_median</th><th>oas_bucket_delta_right</th><th>oas_quantile_right</th><th>carry_signal_val</th><th>carry_signal_value</th><th>excess_credit_ret</th><th>mom_6mo</th><th>price_mom_6mo</th><th>mom_12mo</th><th>price_mom_12mo</th><th>price_mom_6mo_bucket_delta</th><th>price_mom_6mo_quantile</th><th>price_mom_12mo_bucket_delta</th><th>price_mom_12mo_quantile</th><th>credit_mom_signal_value</th><th>ESP_bucket_mean_oas</th><th>ESP</th></tr><tr><td>i64</td><td>date</td><td>str</td><td>f64</td><td>f64</td><td>f64</td><td>f64</td><td>f64</td><td>f64</td><td>f64</td><td>f64</td><td>f64</td><td>f64</td><td>f64</td><td>f64</td><td>f64</td><td>f64</td><td>f64</td><td>f64</td><td>f64</td><td>f64</td><td>i64</td><td>f64</td><td>f64</td><td>f64</td><td>f64</td><td>f64</td><td>f64</td><td>f64</td><td>f64</td><td>f64</td><td>f64</td><td>f64</td><td>f64</td><td>f64</td><td>f64</td><td>f64</td><td>&hellip;</td><td>i64</td><td>f64</td><td>f64</td><td>f64</td><td>f64</td><td>f64</td><td>f64</td><td>date</td><td>f64</td><td>f64</td><td>f64</td><td>f64</td><td>str</td><td>f64</td><td>f64</td><td>f64</td><td>f64</td><td>f64</td><td>i64</td><td>f64</td><td>f64</td><td>f64</td><td>i64</td><td>f64</td><td>f64</td><td>f64</td><td>f64</td><td>f64</td><td>f64</td><td>f64</td><td>f64</td><td>i64</td><td>f64</td><td>i64</td><td>f64</td><td>f64</td><td>f64</td></tr></thead><tbody><tr><td>583213</td><td>2012-05-31</td><td>&quot;00037BAA0&quot;</td><td>0.006186</td><td>0.007551</td><td>0.007479</td><td>0.006186</td><td>null</td><td>null</td><td>null</td><td>6.0</td><td>0.010429</td><td>null</td><td>0.016813</td><td>500000.0</td><td>500000.0</td><td>99.829504</td><td>0.998295</td><td>60.1</td><td>4.723592</td><td>11.0</td><td>3612</td><td>0.004055</td><td>0.003489</td><td>null</td><td>16.0</td><td>1.0</td><td>1.0</td><td>0.017072</td><td>0.010567</td><td>99.6121</td><td>99.715921</td><td>25.124045</td><td>null</td><td>4.9914752e7</td><td>4.980605e7</td><td>1.625</td><td>&hellip;</td><td>null</td><td>null</td><td>null</td><td>null</td><td>null</td><td>null</td><td>-0.129911</td><td>null</td><td>null</td><td>-0.004386</td><td>0.009923</td><td>2.787959</td><td>&quot;2_A_shortdur&quot;</td><td>0.027666</td><td>4.676272</td><td>0.003748</td><td>0.002438</td><td>0.001853</td><td>8</td><td>0.005916</td><td>0.000801</td><td>0.001853</td><td>8</td><td>0.505634</td><td>0.505634</td><td>null</td><td>NaN</td><td>NaN</td><td>NaN</td><td>NaN</td><td>null</td><td>null</td><td>null</td><td>null</td><td>null</td><td>0.008071</td><td>0.001853</td></tr><tr><td>588586</td><td>2012-06-30</td><td>&quot;00037BAA0&quot;</td><td>0.011728</td><td>0.003808</td><td>0.004315</td><td>0.011728</td><td>0.006186</td><td>0.006186</td><td>0.007479</td><td>6.0</td><td>0.00888</td><td>null</td><td>0.015781</td><td>500000.0</td><td>500000.0</td><td>100.447</td><td>1.00447</td><td>59.1</td><td>4.645004</td><td>11.0</td><td>3612</td><td>0.005945</td><td>0.014093</td><td>null</td><td>15.0</td><td>1.0</td><td>1.0</td><td>0.015094</td><td>0.008109</td><td>100.5391</td><td>100.764793</td><td>24.445752</td><td>null</td><td>5.02235e7</td><td>5.026955e7</td><td>1.625</td><td>&hellip;</td><td>null</td><td>null</td><td>null</td><td>null</td><td>null</td><td>null</td><td>0.03226</td><td>null</td><td>null</td><td>0.007169</td><td>0.00803</td><td>2.363495</td><td>&quot;2_A_shortdur&quot;</td><td>0.018979</td><td>3.207915</td><td>0.002571</td><td>0.009157</td><td>0.000939</td><td>7</td><td>0.005916</td><td>0.000801</td><td>0.000939</td><td>7</td><td>0.313199</td><td>0.313199</td><td>0.005302</td><td>NaN</td><td>NaN</td><td>NaN</td><td>NaN</td><td>null</td><td>null</td><td>null</td><td>null</td><td>null</td><td>0.007091</td><td>0.000939</td></tr><tr><td>594002</td><td>2012-07-31</td><td>&quot;00037BAA0&quot;</td><td>-0.001191</td><td>-0.002055</td><td>-0.001935</td><td>-0.001091</td><td>0.011728</td><td>0.011728</td><td>0.004315</td><td>6.0</td><td>0.00808</td><td>null</td><td>0.013519</td><td>500000.0</td><td>500000.0</td><td>101.625066</td><td>1.016251</td><td>58.066667</td><td>4.567047</td><td>11.0</td><td>3612</td><td>0.007198</td><td>0.019627</td><td>null</td><td>15.0</td><td>1.0</td><td>1.0</td><td>0.01264</td><td>0.00672</td><td>101.665</td><td>102.03965</td><td>23.628646</td><td>null</td><td>5.0812533e7</td><td>5.08325e7</td><td>1.625</td><td>&hellip;</td><td>null</td><td>null</td><td>null</td><td>null</td><td>null</td><td>null</td><td>0.063111</td><td>null</td><td>null</td><td>-0.007437</td><td>0.007105</td><td>2.400071</td><td>&quot;2_A_shortdur&quot;</td><td>0.017051</td><td>2.882135</td><td>0.00231</td><td>-0.003401</td><td>0.000514</td><td>7</td><td>0.005916</td><td>0.000801</td><td>0.000514</td><td>7</td><td>0.313199</td><td>0.313199</td><td>0.00289</td><td>NaN</td><td>NaN</td><td>NaN</td><td>NaN</td><td>null</td><td>null</td><td>null</td><td>null</td><td>null</td><td>0.006591</td><td>0.000514</td></tr></tbody></table></div>"
      ]
     },
     "execution_count": 221,
     "metadata": {},
     "output_type": "execute_result"
    }
   ],
   "execution_count": 221
  },
  {
   "metadata": {
    "ExecuteTime": {
     "end_time": "2024-05-04T17:39:56.080423Z",
     "start_time": "2024-05-04T17:39:56.028922Z"
    }
   },
   "cell_type": "code",
   "source": [
    "col = 'ESP'\n",
    "bond_data.filter(pl.col(col).is_nan()).shape"
   ],
   "id": "afa049f706849f03",
   "outputs": [
    {
     "data": {
      "text/plain": [
       "(37679, 125)"
      ]
     },
     "execution_count": 222,
     "metadata": {},
     "output_type": "execute_result"
    }
   ],
   "execution_count": 222
  },
  {
   "metadata": {
    "ExecuteTime": {
     "end_time": "2024-05-04T17:39:57.398423Z",
     "start_time": "2024-05-04T17:39:57.392922Z"
    }
   },
   "cell_type": "code",
   "source": "bond_data.select('ESP').null_count()",
   "id": "d742972b909557f8",
   "outputs": [
    {
     "data": {
      "text/plain": [
       "shape: (1, 1)\n",
       "┌─────┐\n",
       "│ ESP │\n",
       "│ --- │\n",
       "│ u32 │\n",
       "╞═════╡\n",
       "│ 6   │\n",
       "└─────┘"
      ],
      "text/html": [
       "<div><style>\n",
       ".dataframe > thead > tr,\n",
       ".dataframe > tbody > tr {\n",
       "  text-align: right;\n",
       "  white-space: pre-wrap;\n",
       "}\n",
       "</style>\n",
       "<small>shape: (1, 1)</small><table border=\"1\" class=\"dataframe\"><thead><tr><th>ESP</th></tr><tr><td>u32</td></tr></thead><tbody><tr><td>6</td></tr></tbody></table></div>"
      ]
     },
     "execution_count": 223,
     "metadata": {},
     "output_type": "execute_result"
    }
   ],
   "execution_count": 223
  },
  {
   "metadata": {
    "ExecuteTime": {
     "end_time": "2024-05-04T17:39:58.490922Z",
     "start_time": "2024-05-04T17:39:58.485421Z"
    }
   },
   "cell_type": "code",
   "source": [
    "bond_data = bond_data.with_columns(\n",
    "    ESP=pl.col('ESP').fill_nan(None)\n",
    ")"
   ],
   "id": "e87d75b06d13d355",
   "outputs": [],
   "execution_count": 224
  },
  {
   "metadata": {
    "ExecuteTime": {
     "end_time": "2024-05-04T17:39:59.769422Z",
     "start_time": "2024-05-04T17:39:59.763922Z"
    }
   },
   "cell_type": "code",
   "source": "bond_data.select('ESP', 'debt_ebitda', 'de_ratio', 'intcov_ratio').dtypes",
   "id": "b99ebb21f00c3423",
   "outputs": [
    {
     "data": {
      "text/plain": [
       "[Float64, Float64, Float64, Float64]"
      ]
     },
     "execution_count": 225,
     "metadata": {},
     "output_type": "execute_result"
    }
   ],
   "execution_count": 225
  },
  {
   "metadata": {
    "ExecuteTime": {
     "end_time": "2024-05-04T17:40:01.555922Z",
     "start_time": "2024-05-04T17:40:01.550922Z"
    }
   },
   "cell_type": "code",
   "source": "bond_data.select('ESP').null_count()",
   "id": "b5d3d7b809e03f98",
   "outputs": [
    {
     "data": {
      "text/plain": [
       "shape: (1, 1)\n",
       "┌───────┐\n",
       "│ ESP   │\n",
       "│ ---   │\n",
       "│ u32   │\n",
       "╞═══════╡\n",
       "│ 37685 │\n",
       "└───────┘"
      ],
      "text/html": [
       "<div><style>\n",
       ".dataframe > thead > tr,\n",
       ".dataframe > tbody > tr {\n",
       "  text-align: right;\n",
       "  white-space: pre-wrap;\n",
       "}\n",
       "</style>\n",
       "<small>shape: (1, 1)</small><table border=\"1\" class=\"dataframe\"><thead><tr><th>ESP</th></tr><tr><td>u32</td></tr></thead><tbody><tr><td>37685</td></tr></tbody></table></div>"
      ]
     },
     "execution_count": 226,
     "metadata": {},
     "output_type": "execute_result"
    }
   ],
   "execution_count": 226
  },
  {
   "metadata": {
    "ExecuteTime": {
     "end_time": "2024-05-04T17:40:08.307421Z",
     "start_time": "2024-05-04T17:40:07.954424Z"
    }
   },
   "cell_type": "code",
   "source": [
    "bond_data_with_residuals = bond_data.with_columns(\n",
    "    esp_residual = pl\n",
    "        .col('ESP')\n",
    "        .least_squares\n",
    "        .ols(pl.col(\"debt_ebitda\"), pl.col(\"intcov_ratio\"), pl.col(\"de_ratio\"), add_intercept=True, mode=\"residuals\", null_policy='drop', solve_method='svd')\n",
    "        .over(['date', 'bucket'])\n",
    ")"
   ],
   "id": "57c2024c230940e",
   "outputs": [],
   "execution_count": 227
  },
  {
   "metadata": {
    "ExecuteTime": {
     "end_time": "2024-05-04T17:40:09.137422Z",
     "start_time": "2024-05-04T17:40:09.017423Z"
    }
   },
   "cell_type": "code",
   "source": "bond_data_with_residuals.filter((pl.col('esp_residual').is_not_null()) & (pl.col('esp_residual').is_not_nan())).head(2)",
   "id": "e51fe4edc22e79d7",
   "outputs": [
    {
     "data": {
      "text/plain": [
       "shape: (2, 126)\n",
       "┌────────┬────────────┬───────────┬────────────┬───┬────────────┬───────────┬──────────┬───────────┐\n",
       "│        ┆ date       ┆ cusip     ┆ exretn_t+1 ┆ … ┆ credit_mom ┆ ESP_bucke ┆ ESP      ┆ esp_resid │\n",
       "│ ---    ┆ ---        ┆ ---       ┆ ---        ┆   ┆ _signal_va ┆ t_mean_oa ┆ ---      ┆ ual       │\n",
       "│ i64    ┆ date       ┆ str       ┆ f64        ┆   ┆ lue        ┆ s         ┆ f64      ┆ ---       │\n",
       "│        ┆            ┆           ┆            ┆   ┆ ---        ┆ ---       ┆          ┆ f64       │\n",
       "│        ┆            ┆           ┆            ┆   ┆ f64        ┆ f64       ┆          ┆           │\n",
       "╞════════╪════════════╪═══════════╪════════════╪═══╪════════════╪═══════════╪══════════╪═══════════╡\n",
       "│ 655893 ┆ 2013-06-30 ┆ 00081TAH1 ┆ 0.018735   ┆ … ┆ null       ┆ 0.029214  ┆ 0.019104 ┆ 0.01336   │\n",
       "│ 661683 ┆ 2013-07-31 ┆ 00081TAH1 ┆ -0.018059  ┆ … ┆ null       ┆ 0.027725  ┆ 0.018052 ┆ 0.013278  │\n",
       "└────────┴────────────┴───────────┴────────────┴───┴────────────┴───────────┴──────────┴───────────┘"
      ],
      "text/html": [
       "<div><style>\n",
       ".dataframe > thead > tr,\n",
       ".dataframe > tbody > tr {\n",
       "  text-align: right;\n",
       "  white-space: pre-wrap;\n",
       "}\n",
       "</style>\n",
       "<small>shape: (2, 126)</small><table border=\"1\" class=\"dataframe\"><thead><tr><th></th><th>date</th><th>cusip</th><th>exretn_t+1</th><th>exretnc_t+1</th><th>exretnc_dur_t+1</th><th>bond_ret_t+1</th><th>bond_ret</th><th>exretn</th><th>exretnc_dur</th><th>rating</th><th>cs</th><th>cs_6m_delta</th><th>bond_yield</th><th>bond_amount_out</th><th>offering_amt</th><th>bondprc</th><th>perc_par</th><th>tmt</th><th>duration</th><th>ind_num_17</th><th>sic_code</th><th>BOND_RET</th><th>ILLIQ</th><th>var95</th><th>n_trades_month</th><th>size_ig</th><th>size_jk</th><th>BOND_YIELD</th><th>CS</th><th>BONDPRC</th><th>PRFULL</th><th>CONVEXITY</th><th>CS_6M_DELTA</th><th>bond_value</th><th>BOND_VALUE</th><th>coupon</th><th>&hellip;</th><th>capital_ratio</th><th>debt_ebitda</th><th>de_ratio</th><th>intcov_ratio</th><th>cash_ratio</th><th>equity_month_return</th><th>datadate</th><th>shortintadj</th><th>unexpected_inflation</th><th>oas</th><th>spread_duration</th><th>bucket</th><th>dxs</th><th>relative_dxs</th><th>systematic_return</th><th>residual_return_t+1</th><th>oas_bucket_delta</th><th>oas_quantile</th><th>weighted_dxs_median</th><th>weighted_ret_median</th><th>oas_bucket_delta_right</th><th>oas_quantile_right</th><th>carry_signal_val</th><th>carry_signal_value</th><th>excess_credit_ret</th><th>mom_6mo</th><th>price_mom_6mo</th><th>mom_12mo</th><th>price_mom_12mo</th><th>price_mom_6mo_bucket_delta</th><th>price_mom_6mo_quantile</th><th>price_mom_12mo_bucket_delta</th><th>price_mom_12mo_quantile</th><th>credit_mom_signal_value</th><th>ESP_bucket_mean_oas</th><th>ESP</th><th>esp_residual</th></tr><tr><td>i64</td><td>date</td><td>str</td><td>f64</td><td>f64</td><td>f64</td><td>f64</td><td>f64</td><td>f64</td><td>f64</td><td>f64</td><td>f64</td><td>f64</td><td>f64</td><td>f64</td><td>f64</td><td>f64</td><td>f64</td><td>f64</td><td>f64</td><td>f64</td><td>i64</td><td>f64</td><td>f64</td><td>f64</td><td>f64</td><td>f64</td><td>f64</td><td>f64</td><td>f64</td><td>f64</td><td>f64</td><td>f64</td><td>f64</td><td>f64</td><td>f64</td><td>f64</td><td>&hellip;</td><td>f64</td><td>f64</td><td>f64</td><td>f64</td><td>f64</td><td>f64</td><td>date</td><td>f64</td><td>f64</td><td>f64</td><td>f64</td><td>str</td><td>f64</td><td>f64</td><td>f64</td><td>f64</td><td>f64</td><td>i64</td><td>f64</td><td>f64</td><td>f64</td><td>i64</td><td>f64</td><td>f64</td><td>f64</td><td>f64</td><td>f64</td><td>f64</td><td>f64</td><td>f64</td><td>i64</td><td>f64</td><td>i64</td><td>f64</td><td>f64</td><td>f64</td><td>f64</td></tr></thead><tbody><tr><td>655893</td><td>2013-06-30</td><td>&quot;00081TAH1&quot;</td><td>0.018735</td><td>0.017647</td><td>0.016228</td><td>0.018735</td><td>null</td><td>null</td><td>null</td><td>14.0</td><td>0.051247</td><td>null</td><td>0.066372</td><td>500000.0</td><td>500000.0</td><td>100.608587</td><td>1.006086</td><td>83.2</td><td>5.483466</td><td>11.0</td><td>3579</td><td>-0.035034</td><td>-0.364294</td><td>null</td><td>3.0</td><td>1.0</td><td>1.0</td><td>0.067015</td><td>0.052294</td><td>100.25</td><td>101.393751</td><td>35.286382</td><td>null</td><td>5.0304294e7</td><td>5.0125e7</td><td>6.75</td><td>&hellip;</td><td>0.643</td><td>4.519</td><td>2.931</td><td>2.835</td><td>0.237</td><td>-0.110489</td><td>2013-06-01</td><td>1.7355712e7</td><td>0.001502</td><td>0.048318</td><td>3.991868</td><td>&quot;2_B_shortdur&quot;</td><td>0.192879</td><td>6.208521</td><td>0.012798</td><td>0.005937</td><td>0.019104</td><td>8</td><td>0.031067</td><td>0.002061</td><td>0.019104</td><td>8</td><td>0.505634</td><td>0.505634</td><td>NaN</td><td>NaN</td><td>NaN</td><td>NaN</td><td>NaN</td><td>null</td><td>null</td><td>null</td><td>null</td><td>null</td><td>0.029214</td><td>0.019104</td><td>0.01336</td></tr><tr><td>661683</td><td>2013-07-31</td><td>&quot;00081TAH1&quot;</td><td>-0.018059</td><td>-0.005246</td><td>-0.008077</td><td>-0.018059</td><td>0.018735</td><td>0.018735</td><td>0.016228</td><td>14.0</td><td>0.049002</td><td>null</td><td>0.063966</td><td>500000.0</td><td>500000.0</td><td>101.924342</td><td>1.019243</td><td>82.166667</td><td>5.4174</td><td>11.0</td><td>3579</td><td>0.029584</td><td>-0.104662</td><td>null</td><td>12.0</td><td>1.0</td><td>1.0</td><td>0.061464</td><td>0.046607</td><td>103.2812</td><td>104.987454</td><td>34.767405</td><td>null</td><td>5.0962171e7</td><td>5.16406e7</td><td>6.75</td><td>&hellip;</td><td>0.643</td><td>4.519</td><td>2.931</td><td>2.835</td><td>0.237</td><td>0.039309</td><td>2013-07-01</td><td>1.8036752e7</td><td>0.005199</td><td>0.045777</td><td>3.876904</td><td>&quot;2_B_shortdur&quot;</td><td>0.177472</td><td>5.712591</td><td>0.011775</td><td>-0.029835</td><td>0.018052</td><td>8</td><td>0.031067</td><td>0.002061</td><td>0.018052</td><td>8</td><td>0.505634</td><td>0.505634</td><td>0.013879</td><td>NaN</td><td>NaN</td><td>NaN</td><td>NaN</td><td>null</td><td>null</td><td>null</td><td>null</td><td>null</td><td>0.027725</td><td>0.018052</td><td>0.013278</td></tr></tbody></table></div>"
      ]
     },
     "execution_count": 228,
     "metadata": {},
     "output_type": "execute_result"
    }
   ],
   "execution_count": 228
  },
  {
   "metadata": {
    "ExecuteTime": {
     "end_time": "2024-05-04T17:40:13.034922Z",
     "start_time": "2024-05-04T17:40:12.908922Z"
    }
   },
   "cell_type": "code",
   "source": "bond_data_with_residuals.filter((pl.col('esp_residual').is_not_null()) & (pl.col('esp_residual').is_not_nan())).shape",
   "id": "1ad299e04d7652bf",
   "outputs": [
    {
     "data": {
      "text/plain": [
       "(259738, 126)"
      ]
     },
     "execution_count": 229,
     "metadata": {},
     "output_type": "execute_result"
    }
   ],
   "execution_count": 229
  },
  {
   "metadata": {
    "ExecuteTime": {
     "end_time": "2024-05-04T17:40:15.563925Z",
     "start_time": "2024-05-04T17:40:15.558922Z"
    }
   },
   "cell_type": "code",
   "source": "bond_data = bond_data_with_residuals",
   "id": "6873220638c9c7d3",
   "outputs": [],
   "execution_count": 230
  },
  {
   "metadata": {
    "ExecuteTime": {
     "end_time": "2024-05-04T17:40:30.102423Z",
     "start_time": "2024-05-04T17:40:21.696929Z"
    }
   },
   "cell_type": "code",
   "source": "bond_data = compute_quantiles(bond_data, 'esp_residual', 10) ",
   "id": "e5d1c9a5e7dc783a",
   "outputs": [
    {
     "name": "stdout",
     "output_type": "stream",
     "text": [
      "computing... 1000/2969 2000/2969 ... done!\n"
     ]
    }
   ],
   "execution_count": 231
  },
  {
   "metadata": {
    "ExecuteTime": {
     "end_time": "2024-05-04T17:40:46.997424Z",
     "start_time": "2024-05-04T17:40:46.404424Z"
    }
   },
   "cell_type": "code",
   "source": "esp_returns, esp_spline = get_expected_alpha(bond_data, 'esp_residual_quantile', plot=True, interpolate=True)",
   "id": "f68bd191804757e9",
   "outputs": [
    {
     "name": "stderr",
     "output_type": "stream",
     "text": [
      "No artists with labels found to put in legend.  Note that artists whose label start with an underscore are ignored when legend() is called with no argument.\n"
     ]
    },
    {
     "data": {
      "text/plain": [
       "<Figure size 1200x600 with 3 Axes>"
      ],
      "image/png": "[encoded data removed]"
     },
     "metadata": {},
     "output_type": "display_data"
    }
   ],
   "execution_count": 232
  },
  {
   "metadata": {
    "ExecuteTime": {
     "end_time": "2024-05-04T17:41:51.818922Z",
     "start_time": "2024-05-04T17:41:45.458922Z"
    }
   },
   "cell_type": "code",
   "source": "bond_data = quantile_to_alpha_est(bond_data, 'esp_residual_quantile', 'esp_signal_value', esp_spline)",
   "id": "8ee2d9becf446739",
   "outputs": [],
   "execution_count": 234
  },
  {
   "metadata": {},
   "cell_type": "markdown",
   "source": "## Quality",
   "id": "ed248f3314d37180"
  },
  {
   "metadata": {},
   "cell_type": "markdown",
   "source": "We use Interest Coverage Ratio as a Quality Signal in our strategy. We end up excluding this as no significant information can be gained by including it",
   "id": "ba703b82cbd927a5"
  },
  {
   "metadata": {
    "ExecuteTime": {
     "end_time": "2024-05-04T17:42:21.066431Z",
     "start_time": "2024-05-04T17:42:13.809922Z"
    }
   },
   "cell_type": "code",
   "source": "intcov_quantiles = compute_quantiles(bond_data, 'debt_ebitda', 5) ",
   "id": "e1e50aaab0da1034",
   "outputs": [
    {
     "name": "stdout",
     "output_type": "stream",
     "text": [
      "computing... 1000/2969 2000/2969 ... done!\n"
     ]
    }
   ],
   "execution_count": 235
  },
  {
   "metadata": {
    "ExecuteTime": {
     "end_time": "2024-05-04T17:42:21.852922Z",
     "start_time": "2024-05-04T17:42:21.069923Z"
    }
   },
   "cell_type": "code",
   "source": "get_expected_alpha(intcov_quantiles, 'debt_ebitda_quantile', plot=True, interpolate=True)",
   "id": "6531cde665b955bf",
   "outputs": [
    {
     "name": "stderr",
     "output_type": "stream",
     "text": [
      "No artists with labels found to put in legend.  Note that artists whose label start with an underscore are ignored when legend() is called with no argument.\n"
     ]
    },
    {
     "ename": "ValueError",
     "evalue": "b'There are other near singularities as well. 1'",
     "output_type": "error",
     "traceback": [
      "\u001B[1;31m---------------------------------------------------------------------------\u001B[0m",
      "\u001B[1;31mValueError\u001B[0m                                Traceback (most recent call last)",
      "Cell \u001B[1;32mIn[236], line 1\u001B[0m\n\u001B[1;32m----> 1\u001B[0m \u001B[43mget_expected_alpha\u001B[49m\u001B[43m(\u001B[49m\u001B[43mintcov_quantiles\u001B[49m\u001B[43m,\u001B[49m\u001B[43m \u001B[49m\u001B[38;5;124;43m'\u001B[39;49m\u001B[38;5;124;43mdebt_ebitda_quantile\u001B[39;49m\u001B[38;5;124;43m'\u001B[39;49m\u001B[43m,\u001B[49m\u001B[43m \u001B[49m\u001B[43mplot\u001B[49m\u001B[38;5;241;43m=\u001B[39;49m\u001B[38;5;28;43;01mTrue\u001B[39;49;00m\u001B[43m,\u001B[49m\u001B[43m \u001B[49m\u001B[43minterpolate\u001B[49m\u001B[38;5;241;43m=\u001B[39;49m\u001B[38;5;28;43;01mTrue\u001B[39;49;00m\u001B[43m)\u001B[49m\n",
      "Cell \u001B[1;32mIn[160], line 44\u001B[0m, in \u001B[0;36mget_expected_alpha\u001B[1;34m(df_with_quantiles, quantile_col, plot, interpolate)\u001B[0m\n\u001B[0;32m     41\u001B[0m x, y \u001B[38;5;241m=\u001B[39m data[:, \u001B[38;5;241m0\u001B[39m], data[:, \u001B[38;5;241m1\u001B[39m]\n\u001B[0;32m     43\u001B[0m spline_loess \u001B[38;5;241m=\u001B[39m loess(x,y, surface\u001B[38;5;241m=\u001B[39m\u001B[38;5;124m'\u001B[39m\u001B[38;5;124mdirect\u001B[39m\u001B[38;5;124m'\u001B[39m)\n\u001B[1;32m---> 44\u001B[0m \u001B[43mspline_loess\u001B[49m\u001B[38;5;241;43m.\u001B[39;49m\u001B[43mfit\u001B[49m\u001B[43m(\u001B[49m\u001B[43m)\u001B[49m\n\u001B[0;32m     46\u001B[0m x_new \u001B[38;5;241m=\u001B[39m np\u001B[38;5;241m.\u001B[39mlinspace(x[\u001B[38;5;241m0\u001B[39m], x[\u001B[38;5;241m-\u001B[39m\u001B[38;5;241m1\u001B[39m], \u001B[38;5;241m100\u001B[39m)\n\u001B[0;32m     47\u001B[0m pred \u001B[38;5;241m=\u001B[39m spline_loess\u001B[38;5;241m.\u001B[39mpredict(x_new, stderror\u001B[38;5;241m=\u001B[39m\u001B[38;5;28;01mTrue\u001B[39;00m)\n",
      "File \u001B[1;32m_loess.pyx:927\u001B[0m, in \u001B[0;36m_loess.loess.fit\u001B[1;34m()\u001B[0m\n",
      "\u001B[1;31mValueError\u001B[0m: b'There are other near singularities as well. 1'"
     ]
    },
    {
     "data": {
      "text/plain": [
       "<Figure size 1200x600 with 3 Axes>"
      ],
      "image/png": "[encoded data removed]"
     },
     "metadata": {},
     "output_type": "display_data"
    }
   ],
   "execution_count": 236
  },
  {
   "metadata": {
    "ExecuteTime": {
     "end_time": "2024-05-04T16:21:29.783921Z",
     "start_time": "2024-05-04T16:21:29.767424Z"
    }
   },
   "cell_type": "code",
   "source": "intcov_quantiles",
   "id": "9b59188275112a2b",
   "outputs": [
    {
     "data": {
      "text/plain": [
       "shape: (381_343, 125)\n",
       "┌────────┬────────────┬───────────┬────────────┬───┬───────────┬───────────┬───────────┬───────────┐\n",
       "│        ┆ date       ┆ cusip     ┆ exretn_t+1 ┆ … ┆ esp_resid ┆ esp_resid ┆ debt_ebit ┆ debt_ebit │\n",
       "│ ---    ┆ ---        ┆ ---       ┆ ---        ┆   ┆ ual_quant ┆ ual_bucke ┆ da_bucket ┆ da_quanti │\n",
       "│ i64    ┆ date       ┆ str       ┆ f64        ┆   ┆ ile       ┆ t_delta   ┆ _delta    ┆ le        │\n",
       "│        ┆            ┆           ┆            ┆   ┆ ---       ┆ ---       ┆ ---       ┆ ---       │\n",
       "│        ┆            ┆           ┆            ┆   ┆ i64       ┆ f64       ┆ f64       ┆ i64       │\n",
       "╞════════╪════════════╪═══════════╪════════════╪═══╪═══════════╪═══════════╪═══════════╪═══════════╡\n",
       "│ 583213 ┆ 2012-05-31 ┆ 00037BAA0 ┆ 0.006186   ┆ … ┆ null      ┆ null      ┆ null      ┆ null      │\n",
       "│ 588586 ┆ 2012-06-30 ┆ 00037BAA0 ┆ 0.011728   ┆ … ┆ null      ┆ null      ┆ null      ┆ null      │\n",
       "│ 594002 ┆ 2012-07-31 ┆ 00037BAA0 ┆ -0.001191  ┆ … ┆ null      ┆ null      ┆ null      ┆ null      │\n",
       "│ 599442 ┆ 2012-08-31 ┆ 00037BAA0 ┆ 0.002185   ┆ … ┆ null      ┆ null      ┆ null      ┆ null      │\n",
       "│ 604916 ┆ 2012-09-30 ┆ 00037BAA0 ┆ 0.001884   ┆ … ┆ null      ┆ null      ┆ null      ┆ null      │\n",
       "│ …      ┆ …          ┆ …         ┆ …          ┆ … ┆ …         ┆ …         ┆ …         ┆ …         │\n",
       "│ 746335 ┆ 2014-08-31 ┆ 98978VAH6 ┆ null       ┆ … ┆ null      ┆ null      ┆ -0.689032 ┆ 2         │\n",
       "│ 752493 ┆ 2014-09-30 ┆ 98978VAH6 ┆ 0.025412   ┆ … ┆ 6         ┆ -0.001159 ┆ -0.66741  ┆ 2         │\n",
       "│ 758707 ┆ 2014-10-31 ┆ 98978VAH6 ┆ -0.054397  ┆ … ┆ 6         ┆ -0.001758 ┆ -0.700194 ┆ 2         │\n",
       "│ 764877 ┆ 2014-11-30 ┆ 98978VAH6 ┆ 0.050716   ┆ … ┆ 7         ┆ 0.001603  ┆ -0.718027 ┆ 2         │\n",
       "│ 771101 ┆ 2014-12-31 ┆ 98978VAH6 ┆ 0.043388   ┆ … ┆ 7         ┆ 0.000251  ┆ -0.685625 ┆ 2         │\n",
       "└────────┴────────────┴───────────┴────────────┴───┴───────────┴───────────┴───────────┴───────────┘"
      ],
      "text/html": [
       "<div><style>\n",
       ".dataframe > thead > tr,\n",
       ".dataframe > tbody > tr {\n",
       "  text-align: right;\n",
       "  white-space: pre-wrap;\n",
       "}\n",
       "</style>\n",
       "<small>shape: (381_343, 125)</small><table border=\"1\" class=\"dataframe\"><thead><tr><th></th><th>date</th><th>cusip</th><th>exretn_t+1</th><th>exretnc_t+1</th><th>exretnc_dur_t+1</th><th>bond_ret_t+1</th><th>bond_ret</th><th>exretn</th><th>exretnc_dur</th><th>rating</th><th>cs</th><th>cs_6m_delta</th><th>bond_yield</th><th>bond_amount_out</th><th>offering_amt</th><th>bondprc</th><th>perc_par</th><th>tmt</th><th>duration</th><th>ind_num_17</th><th>sic_code</th><th>BOND_RET</th><th>ILLIQ</th><th>var95</th><th>n_trades_month</th><th>size_ig</th><th>size_jk</th><th>BOND_YIELD</th><th>CS</th><th>BONDPRC</th><th>PRFULL</th><th>CONVEXITY</th><th>CS_6M_DELTA</th><th>bond_value</th><th>BOND_VALUE</th><th>coupon</th><th>&hellip;</th><th>gvkey</th><th>capital_ratio</th><th>debt_ebitda</th><th>de_ratio</th><th>intcov_ratio</th><th>cash_ratio</th><th>equity_month_return</th><th>datadate</th><th>shortintadj</th><th>unexpected_inflation</th><th>oas</th><th>spread_duration</th><th>bucket</th><th>dxs</th><th>weighted_dxs_median</th><th>weighted_ret_median</th><th>relative_dxs</th><th>systematic_return</th><th>residual_return_t+1</th><th>oas_bucket_delta</th><th>oas_quantile</th><th>excess_credit_ret</th><th>mom_6mo</th><th>price_mom_6mo</th><th>mom_12mo</th><th>price_mom_12mo</th><th>price_mom_12mo_bucket_delta</th><th>price_mom_12mo_quantile</th><th>price_mom_6mo_bucket_delta</th><th>price_mom_6mo_quantile</th><th>ESP_bucket_mean_oas</th><th>ESP</th><th>esp_residual</th><th>esp_residual_quantile</th><th>esp_residual_bucket_delta</th><th>debt_ebitda_bucket_delta</th><th>debt_ebitda_quantile</th></tr><tr><td>i64</td><td>date</td><td>str</td><td>f64</td><td>f64</td><td>f64</td><td>f64</td><td>f64</td><td>f64</td><td>f64</td><td>f64</td><td>f64</td><td>f64</td><td>f64</td><td>f64</td><td>f64</td><td>f64</td><td>f64</td><td>f64</td><td>f64</td><td>f64</td><td>i64</td><td>f64</td><td>f64</td><td>f64</td><td>f64</td><td>f64</td><td>f64</td><td>f64</td><td>f64</td><td>f64</td><td>f64</td><td>f64</td><td>f64</td><td>f64</td><td>f64</td><td>f64</td><td>&hellip;</td><td>i64</td><td>f64</td><td>f64</td><td>f64</td><td>f64</td><td>f64</td><td>f64</td><td>date</td><td>f64</td><td>f64</td><td>f64</td><td>f64</td><td>str</td><td>f64</td><td>f64</td><td>f64</td><td>f64</td><td>f64</td><td>f64</td><td>f64</td><td>i64</td><td>f64</td><td>f64</td><td>f64</td><td>f64</td><td>f64</td><td>f64</td><td>i64</td><td>f64</td><td>i64</td><td>f64</td><td>f64</td><td>f64</td><td>i64</td><td>f64</td><td>f64</td><td>i64</td></tr></thead><tbody><tr><td>583213</td><td>2012-05-31</td><td>&quot;00037BAA0&quot;</td><td>0.006186</td><td>0.007551</td><td>0.007479</td><td>0.006186</td><td>null</td><td>null</td><td>null</td><td>6.0</td><td>0.010429</td><td>null</td><td>0.016813</td><td>500000.0</td><td>500000.0</td><td>99.829504</td><td>0.998295</td><td>60.1</td><td>4.723592</td><td>11.0</td><td>3612</td><td>0.004055</td><td>0.003489</td><td>null</td><td>16.0</td><td>1.0</td><td>1.0</td><td>0.017072</td><td>0.010567</td><td>99.6121</td><td>99.715921</td><td>25.124045</td><td>null</td><td>4.9914752e7</td><td>4.980605e7</td><td>1.625</td><td>&hellip;</td><td>null</td><td>null</td><td>null</td><td>null</td><td>null</td><td>null</td><td>-0.129911</td><td>null</td><td>null</td><td>-0.004386</td><td>0.009923</td><td>2.787959</td><td>&quot;2_A_1&quot;</td><td>0.027666</td><td>0.005916</td><td>0.000801</td><td>4.676272</td><td>0.003748</td><td>0.002438</td><td>0.001853</td><td>8</td><td>null</td><td>NaN</td><td>NaN</td><td>NaN</td><td>NaN</td><td>null</td><td>null</td><td>null</td><td>null</td><td>0.008071</td><td>0.001853</td><td>null</td><td>null</td><td>null</td><td>null</td><td>null</td></tr><tr><td>588586</td><td>2012-06-30</td><td>&quot;00037BAA0&quot;</td><td>0.011728</td><td>0.003808</td><td>0.004315</td><td>0.011728</td><td>0.006186</td><td>0.006186</td><td>0.007479</td><td>6.0</td><td>0.00888</td><td>null</td><td>0.015781</td><td>500000.0</td><td>500000.0</td><td>100.447</td><td>1.00447</td><td>59.1</td><td>4.645004</td><td>11.0</td><td>3612</td><td>0.005945</td><td>0.014093</td><td>null</td><td>15.0</td><td>1.0</td><td>1.0</td><td>0.015094</td><td>0.008109</td><td>100.5391</td><td>100.764793</td><td>24.445752</td><td>null</td><td>5.02235e7</td><td>5.026955e7</td><td>1.625</td><td>&hellip;</td><td>null</td><td>null</td><td>null</td><td>null</td><td>null</td><td>null</td><td>0.03226</td><td>null</td><td>null</td><td>0.007169</td><td>0.00803</td><td>2.363495</td><td>&quot;2_A_1&quot;</td><td>0.018979</td><td>0.005916</td><td>0.000801</td><td>3.207915</td><td>0.002571</td><td>0.009157</td><td>0.000939</td><td>7</td><td>0.005302</td><td>NaN</td><td>NaN</td><td>NaN</td><td>NaN</td><td>null</td><td>null</td><td>null</td><td>null</td><td>0.007091</td><td>0.000939</td><td>null</td><td>null</td><td>null</td><td>null</td><td>null</td></tr><tr><td>594002</td><td>2012-07-31</td><td>&quot;00037BAA0&quot;</td><td>-0.001191</td><td>-0.002055</td><td>-0.001935</td><td>-0.001091</td><td>0.011728</td><td>0.011728</td><td>0.004315</td><td>6.0</td><td>0.00808</td><td>null</td><td>0.013519</td><td>500000.0</td><td>500000.0</td><td>101.625066</td><td>1.016251</td><td>58.066667</td><td>4.567047</td><td>11.0</td><td>3612</td><td>0.007198</td><td>0.019627</td><td>null</td><td>15.0</td><td>1.0</td><td>1.0</td><td>0.01264</td><td>0.00672</td><td>101.665</td><td>102.03965</td><td>23.628646</td><td>null</td><td>5.0812533e7</td><td>5.08325e7</td><td>1.625</td><td>&hellip;</td><td>null</td><td>null</td><td>null</td><td>null</td><td>null</td><td>null</td><td>0.063111</td><td>null</td><td>null</td><td>-0.007437</td><td>0.007105</td><td>2.400071</td><td>&quot;2_A_1&quot;</td><td>0.017051</td><td>0.005916</td><td>0.000801</td><td>2.882135</td><td>0.00231</td><td>-0.003401</td><td>0.000514</td><td>7</td><td>0.00289</td><td>NaN</td><td>NaN</td><td>NaN</td><td>NaN</td><td>null</td><td>null</td><td>null</td><td>null</td><td>0.006591</td><td>0.000514</td><td>null</td><td>null</td><td>null</td><td>null</td><td>null</td></tr><tr><td>599442</td><td>2012-08-31</td><td>&quot;00037BAA0&quot;</td><td>0.002185</td><td>0.002064</td><td>0.002085</td><td>0.002285</td><td>-0.001091</td><td>-0.001191</td><td>-0.001935</td><td>6.0</td><td>0.008651</td><td>null</td><td>0.014018</td><td>500000.0</td><td>500000.0</td><td>101.5142</td><td>1.015142</td><td>57.033333</td><td>4.481314</td><td>11.0</td><td>3612</td><td>-0.002496</td><td>-0.003326</td><td>null</td><td>18.0</td><td>1.0</td><td>1.0</td><td>0.012993</td><td>0.007078</td><td>101.473</td><td>101.996612</td><td>22.750908</td><td>null</td><td>5.07571e7</td><td>5.07365e7</td><td>1.625</td><td>&hellip;</td><td>null</td><td>null</td><td>null</td><td>null</td><td>null</td><td>null</td><td>-0.001732</td><td>null</td><td>null</td><td>0.00195</td><td>0.007447</td><td>2.380807</td><td>&quot;2_A_1&quot;</td><td>0.017731</td><td>0.005916</td><td>0.000801</td><td>2.996963</td><td>0.002402</td><td>-0.000117</td><td>0.000918</td><td>7</td><td>-0.000224</td><td>NaN</td><td>NaN</td><td>NaN</td><td>NaN</td><td>null</td><td>null</td><td>null</td><td>null</td><td>0.006529</td><td>0.000918</td><td>null</td><td>null</td><td>null</td><td>null</td><td>null</td></tr><tr><td>604916</td><td>2012-09-30</td><td>&quot;00037BAA0&quot;</td><td>0.001884</td><td>0.005208</td><td>0.004934</td><td>0.001984</td><td>0.002285</td><td>0.002185</td><td>0.002085</td><td>6.0</td><td>0.008276</td><td>null</td><td>0.01376</td><td>500000.0</td><td>500000.0</td><td>101.746142</td><td>1.017461</td><td>56.033333</td><td>4.400393</td><td>11.0</td><td>3612</td><td>0.003524</td><td>0.005008</td><td>null</td><td>15.0</td><td>1.0</td><td>1.0</td><td>0.012316</td><td>0.006696</td><td>101.7547</td><td>102.400185</td><td>22.069816</td><td>null</td><td>5.0873071e7</td><td>5.087735e7</td><td>1.625</td><td>&hellip;</td><td>null</td><td>null</td><td>null</td><td>null</td><td>null</td><td>null</td><td>0.079677</td><td>null</td><td>null</td><td>-0.002976</td><td>0.006749</td><td>2.1584</td><td>&quot;2_A_1&quot;</td><td>0.014568</td><td>0.005916</td><td>0.000801</td><td>2.462358</td><td>0.001973</td><td>0.00001</td><td>0.001135</td><td>7</td><td>0.002127</td><td>NaN</td><td>NaN</td><td>NaN</td><td>NaN</td><td>null</td><td>null</td><td>null</td><td>null</td><td>0.005614</td><td>0.001135</td><td>null</td><td>null</td><td>null</td><td>null</td><td>null</td></tr><tr><td>&hellip;</td><td>&hellip;</td><td>&hellip;</td><td>&hellip;</td><td>&hellip;</td><td>&hellip;</td><td>&hellip;</td><td>&hellip;</td><td>&hellip;</td><td>&hellip;</td><td>&hellip;</td><td>&hellip;</td><td>&hellip;</td><td>&hellip;</td><td>&hellip;</td><td>&hellip;</td><td>&hellip;</td><td>&hellip;</td><td>&hellip;</td><td>&hellip;</td><td>&hellip;</td><td>&hellip;</td><td>&hellip;</td><td>&hellip;</td><td>&hellip;</td><td>&hellip;</td><td>&hellip;</td><td>&hellip;</td><td>&hellip;</td><td>&hellip;</td><td>&hellip;</td><td>&hellip;</td><td>&hellip;</td><td>&hellip;</td><td>&hellip;</td><td>&hellip;</td><td>&hellip;</td><td>&hellip;</td><td>&hellip;</td><td>&hellip;</td><td>&hellip;</td><td>&hellip;</td><td>&hellip;</td><td>&hellip;</td><td>&hellip;</td><td>&hellip;</td><td>&hellip;</td><td>&hellip;</td><td>&hellip;</td><td>&hellip;</td><td>&hellip;</td><td>&hellip;</td><td>&hellip;</td><td>&hellip;</td><td>&hellip;</td><td>&hellip;</td><td>&hellip;</td><td>&hellip;</td><td>&hellip;</td><td>&hellip;</td><td>&hellip;</td><td>&hellip;</td><td>&hellip;</td><td>&hellip;</td><td>&hellip;</td><td>&hellip;</td><td>&hellip;</td><td>&hellip;</td><td>&hellip;</td><td>&hellip;</td><td>&hellip;</td><td>&hellip;</td><td>&hellip;</td><td>&hellip;</td><td>&hellip;</td></tr><tr><td>746335</td><td>2014-08-31</td><td>&quot;98978VAH6&quot;</td><td>null</td><td>null</td><td>null</td><td>null</td><td>null</td><td>null</td><td>null</td><td>10.0</td><td>0.01874</td><td>0.047831</td><td>0.044733</td><td>1.15e6</td><td>1.15e6</td><td>null</td><td>null</td><td>346.033333</td><td>15.778396</td><td>7.0</td><td>2834</td><td>0.021459</td><td>-0.006256</td><td>null</td><td>8.0</td><td>1.0</td><td>1.0</td><td>0.045156</td><td>0.018126</td><td>102.933</td><td>103.246336</td><td>353.536874</td><td>0.042403</td><td>null</td><td>1.1837295e8</td><td>4.7</td><td>&hellip;</td><td>8530</td><td>0.284</td><td>1.704</td><td>1.238</td><td>11.666</td><td>1.481</td><td>0.024039</td><td>null</td><td>null</td><td>-0.002062</td><td>NaN</td><td>NaN</td><td>&quot;2_B_2&quot;</td><td>NaN</td><td>0.065333</td><td>0.00287</td><td>NaN</td><td>NaN</td><td>null</td><td>null</td><td>null</td><td>NaN</td><td>NaN</td><td>null</td><td>NaN</td><td>null</td><td>null</td><td>null</td><td>null</td><td>null</td><td>0.018077</td><td>null</td><td>null</td><td>null</td><td>null</td><td>-0.689032</td><td>2</td></tr><tr><td>752493</td><td>2014-09-30</td><td>&quot;98978VAH6&quot;</td><td>0.025412</td><td>-0.002659</td><td>0.004181</td><td>0.025412</td><td>null</td><td>null</td><td>null</td><td>10.0</td><td>0.018679</td><td>0.092807</td><td>0.046155</td><td>1.15e6</td><td>1.15e6</td><td>101.303676</td><td>1.013037</td><td>345.033333</td><td>15.548037</td><td>7.0</td><td>2834</td><td>-0.017309</td><td>0.088301</td><td>null</td><td>14.0</td><td>1.0</td><td>1.0</td><td>0.046331</td><td>0.018846</td><td>101.0429</td><td>101.826241</td><td>346.403214</td><td>0.119669</td><td>1.16499228e8</td><td>1.16199335e8</td><td>4.7</td><td>&hellip;</td><td>8530</td><td>0.284</td><td>1.704</td><td>1.238</td><td>11.666</td><td>1.481</td><td>0.006125</td><td>null</td><td>null</td><td>-0.003395</td><td>0.01546</td><td>5.207953</td><td>&quot;2_B_2&quot;</td><td>0.080515</td><td>0.065333</td><td>0.00287</td><td>1.232378</td><td>0.003537</td><td>0.021875</td><td>-0.00405</td><td>5</td><td>NaN</td><td>NaN</td><td>-0.001296</td><td>NaN</td><td>0.062942</td><td>0.030261</td><td>9</td><td>0.000417</td><td>5</td><td>0.01951</td><td>-0.00405</td><td>-0.001159</td><td>6</td><td>-0.001159</td><td>-0.66741</td><td>2</td></tr><tr><td>758707</td><td>2014-10-31</td><td>&quot;98978VAH6&quot;</td><td>-0.054397</td><td>-0.089583</td><td>-0.076482</td><td>-0.054397</td><td>0.025412</td><td>0.025412</td><td>0.004181</td><td>10.0</td><td>0.019133</td><td>0.15199</td><td>0.044789</td><td>1.15e6</td><td>1.15e6</td><td>103.4985</td><td>1.034985</td><td>344.0</td><td>15.60906</td><td>7.0</td><td>2834</td><td>0.018922</td><td>-0.101407</td><td>null</td><td>9.0</td><td>1.0</td><td>1.0</td><td>0.044782</td><td>0.018859</td><td>103.5289</td><td>104.703908</td><td>349.1106</td><td>0.13769</td><td>1.19023275e8</td><td>1.19058235e8</td><td>4.7</td><td>&hellip;</td><td>8530</td><td>0.284</td><td>1.704</td><td>1.238</td><td>11.666</td><td>1.481</td><td>0.01285</td><td>null</td><td>null</td><td>0.004383</td><td>0.015341</td><td>5.346352</td><td>&quot;2_B_2&quot;</td><td>0.082018</td><td>0.065333</td><td>0.00287</td><td>1.25539</td><td>0.003604</td><td>-0.058</td><td>-0.004557</td><td>4</td><td>0.001925</td><td>NaN</td><td>0.000423</td><td>NaN</td><td>0.106675</td><td>0.054839</td><td>10</td><td>0.006464</td><td>7</td><td>0.019898</td><td>-0.004557</td><td>-0.001758</td><td>6</td><td>-0.001758</td><td>-0.700194</td><td>2</td></tr><tr><td>764877</td><td>2014-11-30</td><td>&quot;98978VAH6&quot;</td><td>0.050716</td><td>0.020868</td><td>0.035028</td><td>0.050716</td><td>-0.054397</td><td>-0.054397</td><td>-0.076482</td><td>10.0</td><td>0.025025</td><td>0.394664</td><td>0.048677</td><td>1.15e6</td><td>1.15e6</td><td>97.41848</td><td>0.974185</td><td>343.0</td><td>15.1195</td><td>7.0</td><td>2834</td><td>-0.060932</td><td>0.721224</td><td>null</td><td>11.0</td><td>1.0</td><td>1.0</td><td>0.049118</td><td>0.023882</td><td>96.78</td><td>98.281397</td><td>332.35638</td><td>0.368505</td><td>1.12031252e8</td><td>1.11297e8</td><td>4.7</td><td>&hellip;</td><td>8530</td><td>0.283</td><td>1.755</td><td>1.224</td><td>11.346</td><td>1.486</td><td>0.049068</td><td>null</td><td>null</td><td>-0.000969</td><td>0.021145</td><td>6.567772</td><td>&quot;2_B_2&quot;</td><td>0.138873</td><td>0.065333</td><td>0.00287</td><td>2.12563</td><td>0.006101</td><td>0.044615</td><td>-0.000855</td><td>6</td><td>-0.036839</td><td>NaN</td><td>-0.039919</td><td>NaN</td><td>0.022155</td><td>-0.025543</td><td>2</td><td>-0.034147</td><td>1</td><td>0.022</td><td>-0.000855</td><td>0.001603</td><td>7</td><td>0.001603</td><td>-0.718027</td><td>2</td></tr><tr><td>771101</td><td>2014-12-31</td><td>&quot;98978VAH6&quot;</td><td>0.043388</td><td>-0.064711</td><td>-0.017083</td><td>0.043388</td><td>0.050716</td><td>0.050716</td><td>0.035028</td><td>10.0</td><td>0.022589</td><td>0.247211</td><td>0.045689</td><td>1.15e6</td><td>1.15e6</td><td>102.039</td><td>1.02039</td><td>341.966667</td><td>15.350691</td><td>7.0</td><td>2834</td><td>0.03396</td><td>-0.003156</td><td>null</td><td>12.0</td><td>1.0</td><td>1.0</td><td>0.046361</td><td>0.022121</td><td>100.9933</td><td>102.88636</td><td>339.078494</td><td>0.215456</td><td>1.1734485e8</td><td>1.16142295e8</td><td>4.7</td><td>&hellip;</td><td>8530</td><td>0.283</td><td>1.755</td><td>1.224</td><td>11.346</td><td>1.486</td><td>-8.9675e-7</td><td>null</td><td>null</td><td>-0.014433</td><td>0.019347</td><td>6.500319</td><td>&quot;2_B_2&quot;</td><td>0.125764</td><td>0.065333</td><td>0.00287</td><td>1.924974</td><td>0.005525</td><td>0.037862</td><td>-0.002596</td><td>6</td><td>0.013445</td><td>NaN</td><td>0.011135</td><td>NaN</td><td>0.034425</td><td>0.003332</td><td>6</td><td>0.010127</td><td>7</td><td>0.021943</td><td>-0.002596</td><td>0.000251</td><td>7</td><td>0.000251</td><td>-0.685625</td><td>2</td></tr></tbody></table></div>"
      ]
     },
     "execution_count": 65,
     "metadata": {},
     "output_type": "execute_result"
    }
   ],
   "execution_count": 65
  },
  {
   "metadata": {},
   "cell_type": "markdown",
   "source": "## Equity Momentum in Credit",
   "id": "e5763c810aa3b974"
  },
  {
   "metadata": {
    "ExecuteTime": {
     "end_time": "2024-05-04T17:42:40.446921Z",
     "start_time": "2024-05-04T17:42:38.624424Z"
    }
   },
   "cell_type": "code",
   "source": [
    "def equity_momentum(df: pl.DataFrame, period: str, min_periods: int, n_months: int):\n",
    "    eq_momentum_returns = df.sort(['cusip', 'date']).rolling('date', group_by='cusip', period=period).agg(\n",
    "        pl.when(pl.col('equity_month_return').len() > min_periods).then(pl.col('equity_month_return').add(1).product().sub(1)).otherwise(np.nan).alias(f'eq_mom_{n_months}mo'),\n",
    "        )\n",
    "    return eq_momentum_returns\n",
    "\n",
    "eq_mom_6mo = equity_momentum(bond_data, '5mo20d', 5, 6)\n",
    "eq_mom_12mo = equity_momentum(bond_data, '11mo20d', 9, 12)\n",
    "\n",
    "bond_data = bond_data.join(\n",
    "    eq_mom_6mo,\n",
    "    how='left',\n",
    "    on=['cusip', 'date'],\n",
    ").join(\n",
    "    eq_mom_12mo,\n",
    "    how='left',\n",
    "    on=['cusip', 'date'],\n",
    ")"
   ],
   "id": "661489d233fa2bd0",
   "outputs": [],
   "execution_count": 237
  },
  {
   "metadata": {
    "ExecuteTime": {
     "end_time": "2024-05-04T17:42:40.524423Z",
     "start_time": "2024-05-04T17:42:40.514922Z"
    }
   },
   "cell_type": "code",
   "source": "bond_data.head(2)",
   "id": "52c5ed5be83fff79",
   "outputs": [
    {
     "data": {
      "text/plain": [
       "shape: (2, 131)\n",
       "┌────────┬────────────┬───────────┬────────────┬───┬───────────┬───────────┬───────────┬───────────┐\n",
       "│        ┆ date       ┆ cusip     ┆ exretn_t+1 ┆ … ┆ esp_resid ┆ esp_signa ┆ eq_mom_6m ┆ eq_mom_12 │\n",
       "│ ---    ┆ ---        ┆ ---       ┆ ---        ┆   ┆ ual_quant ┆ l_value   ┆ o         ┆ mo        │\n",
       "│ i64    ┆ date       ┆ str       ┆ f64        ┆   ┆ ile       ┆ ---       ┆ ---       ┆ ---       │\n",
       "│        ┆            ┆           ┆            ┆   ┆ ---       ┆ f64       ┆ f64       ┆ f64       │\n",
       "│        ┆            ┆           ┆            ┆   ┆ i64       ┆           ┆           ┆           │\n",
       "╞════════╪════════════╪═══════════╪════════════╪═══╪═══════════╪═══════════╪═══════════╪═══════════╡\n",
       "│ 583213 ┆ 2012-05-31 ┆ 00037BAA0 ┆ 0.006186   ┆ … ┆ null      ┆ null      ┆ NaN       ┆ NaN       │\n",
       "│ 588586 ┆ 2012-06-30 ┆ 00037BAA0 ┆ 0.011728   ┆ … ┆ null      ┆ null      ┆ NaN       ┆ NaN       │\n",
       "└────────┴────────────┴───────────┴────────────┴───┴───────────┴───────────┴───────────┴───────────┘"
      ],
      "text/html": [
       "<div><style>\n",
       ".dataframe > thead > tr,\n",
       ".dataframe > tbody > tr {\n",
       "  text-align: right;\n",
       "  white-space: pre-wrap;\n",
       "}\n",
       "</style>\n",
       "<small>shape: (2, 131)</small><table border=\"1\" class=\"dataframe\"><thead><tr><th></th><th>date</th><th>cusip</th><th>exretn_t+1</th><th>exretnc_t+1</th><th>exretnc_dur_t+1</th><th>bond_ret_t+1</th><th>bond_ret</th><th>exretn</th><th>exretnc_dur</th><th>rating</th><th>cs</th><th>cs_6m_delta</th><th>bond_yield</th><th>bond_amount_out</th><th>offering_amt</th><th>bondprc</th><th>perc_par</th><th>tmt</th><th>duration</th><th>ind_num_17</th><th>sic_code</th><th>BOND_RET</th><th>ILLIQ</th><th>var95</th><th>n_trades_month</th><th>size_ig</th><th>size_jk</th><th>BOND_YIELD</th><th>CS</th><th>BONDPRC</th><th>PRFULL</th><th>CONVEXITY</th><th>CS_6M_DELTA</th><th>bond_value</th><th>BOND_VALUE</th><th>coupon</th><th>&hellip;</th><th>equity_month_return</th><th>datadate</th><th>shortintadj</th><th>unexpected_inflation</th><th>oas</th><th>spread_duration</th><th>bucket</th><th>dxs</th><th>relative_dxs</th><th>systematic_return</th><th>residual_return_t+1</th><th>oas_bucket_delta</th><th>oas_quantile</th><th>weighted_dxs_median</th><th>weighted_ret_median</th><th>oas_bucket_delta_right</th><th>oas_quantile_right</th><th>carry_signal_val</th><th>carry_signal_value</th><th>excess_credit_ret</th><th>mom_6mo</th><th>price_mom_6mo</th><th>mom_12mo</th><th>price_mom_12mo</th><th>price_mom_6mo_bucket_delta</th><th>price_mom_6mo_quantile</th><th>price_mom_12mo_bucket_delta</th><th>price_mom_12mo_quantile</th><th>credit_mom_signal_value</th><th>ESP_bucket_mean_oas</th><th>ESP</th><th>esp_residual</th><th>esp_residual_bucket_delta</th><th>esp_residual_quantile</th><th>esp_signal_value</th><th>eq_mom_6mo</th><th>eq_mom_12mo</th></tr><tr><td>i64</td><td>date</td><td>str</td><td>f64</td><td>f64</td><td>f64</td><td>f64</td><td>f64</td><td>f64</td><td>f64</td><td>f64</td><td>f64</td><td>f64</td><td>f64</td><td>f64</td><td>f64</td><td>f64</td><td>f64</td><td>f64</td><td>f64</td><td>f64</td><td>i64</td><td>f64</td><td>f64</td><td>f64</td><td>f64</td><td>f64</td><td>f64</td><td>f64</td><td>f64</td><td>f64</td><td>f64</td><td>f64</td><td>f64</td><td>f64</td><td>f64</td><td>f64</td><td>&hellip;</td><td>f64</td><td>date</td><td>f64</td><td>f64</td><td>f64</td><td>f64</td><td>str</td><td>f64</td><td>f64</td><td>f64</td><td>f64</td><td>f64</td><td>i64</td><td>f64</td><td>f64</td><td>f64</td><td>i64</td><td>f64</td><td>f64</td><td>f64</td><td>f64</td><td>f64</td><td>f64</td><td>f64</td><td>f64</td><td>i64</td><td>f64</td><td>i64</td><td>f64</td><td>f64</td><td>f64</td><td>f64</td><td>f64</td><td>i64</td><td>f64</td><td>f64</td><td>f64</td></tr></thead><tbody><tr><td>583213</td><td>2012-05-31</td><td>&quot;00037BAA0&quot;</td><td>0.006186</td><td>0.007551</td><td>0.007479</td><td>0.006186</td><td>null</td><td>null</td><td>null</td><td>6.0</td><td>0.010429</td><td>null</td><td>0.016813</td><td>500000.0</td><td>500000.0</td><td>99.829504</td><td>0.998295</td><td>60.1</td><td>4.723592</td><td>11.0</td><td>3612</td><td>0.004055</td><td>0.003489</td><td>null</td><td>16.0</td><td>1.0</td><td>1.0</td><td>0.017072</td><td>0.010567</td><td>99.6121</td><td>99.715921</td><td>25.124045</td><td>null</td><td>4.9914752e7</td><td>4.980605e7</td><td>1.625</td><td>&hellip;</td><td>-0.129911</td><td>null</td><td>null</td><td>-0.004386</td><td>0.009923</td><td>2.787959</td><td>&quot;2_A_shortdur&quot;</td><td>0.027666</td><td>4.676272</td><td>0.003748</td><td>0.002438</td><td>0.001853</td><td>8</td><td>0.005916</td><td>0.000801</td><td>0.001853</td><td>8</td><td>0.505634</td><td>0.505634</td><td>null</td><td>NaN</td><td>NaN</td><td>NaN</td><td>NaN</td><td>null</td><td>null</td><td>null</td><td>null</td><td>null</td><td>0.008071</td><td>0.001853</td><td>null</td><td>null</td><td>null</td><td>null</td><td>NaN</td><td>NaN</td></tr><tr><td>588586</td><td>2012-06-30</td><td>&quot;00037BAA0&quot;</td><td>0.011728</td><td>0.003808</td><td>0.004315</td><td>0.011728</td><td>0.006186</td><td>0.006186</td><td>0.007479</td><td>6.0</td><td>0.00888</td><td>null</td><td>0.015781</td><td>500000.0</td><td>500000.0</td><td>100.447</td><td>1.00447</td><td>59.1</td><td>4.645004</td><td>11.0</td><td>3612</td><td>0.005945</td><td>0.014093</td><td>null</td><td>15.0</td><td>1.0</td><td>1.0</td><td>0.015094</td><td>0.008109</td><td>100.5391</td><td>100.764793</td><td>24.445752</td><td>null</td><td>5.02235e7</td><td>5.026955e7</td><td>1.625</td><td>&hellip;</td><td>0.03226</td><td>null</td><td>null</td><td>0.007169</td><td>0.00803</td><td>2.363495</td><td>&quot;2_A_shortdur&quot;</td><td>0.018979</td><td>3.207915</td><td>0.002571</td><td>0.009157</td><td>0.000939</td><td>7</td><td>0.005916</td><td>0.000801</td><td>0.000939</td><td>7</td><td>0.313199</td><td>0.313199</td><td>0.005302</td><td>NaN</td><td>NaN</td><td>NaN</td><td>NaN</td><td>null</td><td>null</td><td>null</td><td>null</td><td>null</td><td>0.007091</td><td>0.000939</td><td>null</td><td>null</td><td>null</td><td>null</td><td>NaN</td><td>NaN</td></tr></tbody></table></div>"
      ]
     },
     "execution_count": 238,
     "metadata": {},
     "output_type": "execute_result"
    }
   ],
   "execution_count": 238
  },
  {
   "metadata": {
    "ExecuteTime": {
     "end_time": "2024-05-04T17:43:04.177923Z",
     "start_time": "2024-05-04T17:42:47.320423Z"
    }
   },
   "cell_type": "code",
   "source": [
    "bond_data = compute_quantiles(bond_data, 'eq_mom_6mo', 10)\n",
    "bond_data = compute_quantiles(bond_data, 'eq_mom_12mo', 10)"
   ],
   "id": "9bcefce6582ad477",
   "outputs": [
    {
     "name": "stdout",
     "output_type": "stream",
     "text": [
      "computing... 1000/2969 2000/2969 ... done!\n",
      "computing... 1000/2969 2000/2969 ... done!\n"
     ]
    }
   ],
   "execution_count": 239
  },
  {
   "metadata": {
    "ExecuteTime": {
     "end_time": "2024-05-04T17:43:18.909923Z",
     "start_time": "2024-05-04T17:43:18.257423Z"
    }
   },
   "cell_type": "code",
   "source": "equity_mom_6mo_returns, equity_mom_6mo_spline = get_expected_alpha(bond_data, 'eq_mom_6mo_quantile', plot=True, interpolate=True)",
   "id": "8e0b0381eb240497",
   "outputs": [
    {
     "name": "stderr",
     "output_type": "stream",
     "text": [
      "No artists with labels found to put in legend.  Note that artists whose label start with an underscore are ignored when legend() is called with no argument.\n"
     ]
    },
    {
     "data": {
      "text/plain": [
       "<Figure size 1200x600 with 3 Axes>"
      ],
      "image/png": "[encoded data removed]"
     },
     "metadata": {},
     "output_type": "display_data"
    }
   ],
   "execution_count": 240
  },
  {
   "metadata": {
    "ExecuteTime": {
     "end_time": "2024-05-04T17:43:42.908923Z",
     "start_time": "2024-05-04T17:43:42.321423Z"
    }
   },
   "cell_type": "code",
   "source": "equity_mom_12mo_returns, equity_mom_12mo_spline = get_expected_alpha(bond_data, 'eq_mom_12mo_quantile', plot=True, interpolate=True)",
   "id": "b593bbf44849a5b3",
   "outputs": [
    {
     "name": "stderr",
     "output_type": "stream",
     "text": [
      "No artists with labels found to put in legend.  Note that artists whose label start with an underscore are ignored when legend() is called with no argument.\n"
     ]
    },
    {
     "data": {
      "text/plain": [
       "<Figure size 1200x600 with 3 Axes>"
      ],
      "image/png": "[encoded data removed]"
     },
     "metadata": {},
     "output_type": "display_data"
    }
   ],
   "execution_count": 241
  },
  {
   "metadata": {
    "ExecuteTime": {
     "end_time": "2024-05-04T17:45:25.658921Z",
     "start_time": "2024-05-04T17:45:19.949426Z"
    }
   },
   "cell_type": "code",
   "source": "bond_data = quantile_to_alpha_est(bond_data, 'eq_mom_12mo_quantile', 'equity_momentum_signal_value', equity_mom_12mo_spline)",
   "id": "3e2a60b3af502910",
   "outputs": [],
   "execution_count": 243
  },
  {
   "metadata": {},
   "cell_type": "markdown",
   "source": "## Conclusing ",
   "id": "c7a3d0584ee6c218"
  },
  {
   "metadata": {
    "ExecuteTime": {
     "end_time": "2024-05-04T17:46:05.564923Z",
     "start_time": "2024-05-04T17:46:05.552432Z"
    }
   },
   "cell_type": "code",
   "source": "bond_data.head()",
   "id": "ffb8318f77955f8f",
   "outputs": [
    {
     "data": {
      "text/plain": [
       "shape: (5, 136)\n",
       "┌────────┬────────────┬───────────┬────────────┬───┬───────────┬───────────┬───────────┬───────────┐\n",
       "│        ┆ date       ┆ cusip     ┆ exretn_t+1 ┆ … ┆ eq_mom_6m ┆ eq_mom_12 ┆ eq_mom_12 ┆ equity_mo │\n",
       "│ ---    ┆ ---        ┆ ---       ┆ ---        ┆   ┆ o_quantil ┆ mo_bucket ┆ mo_quanti ┆ mentum_si │\n",
       "│ i64    ┆ date       ┆ str       ┆ f64        ┆   ┆ e         ┆ _delta    ┆ le        ┆ gnal_valu │\n",
       "│        ┆            ┆           ┆            ┆   ┆ ---       ┆ ---       ┆ ---       ┆ e         │\n",
       "│        ┆            ┆           ┆            ┆   ┆ i64       ┆ f64       ┆ i64       ┆ ---       │\n",
       "│        ┆            ┆           ┆            ┆   ┆           ┆           ┆           ┆ f64       │\n",
       "╞════════╪════════════╪═══════════╪════════════╪═══╪═══════════╪═══════════╪═══════════╪═══════════╡\n",
       "│ 583213 ┆ 2012-05-31 ┆ 00037BAA0 ┆ 0.006186   ┆ … ┆ null      ┆ null      ┆ null      ┆ null      │\n",
       "│ 588586 ┆ 2012-06-30 ┆ 00037BAA0 ┆ 0.011728   ┆ … ┆ null      ┆ null      ┆ null      ┆ null      │\n",
       "│ 594002 ┆ 2012-07-31 ┆ 00037BAA0 ┆ -0.001191  ┆ … ┆ null      ┆ null      ┆ null      ┆ null      │\n",
       "│ 599442 ┆ 2012-08-31 ┆ 00037BAA0 ┆ 0.002185   ┆ … ┆ null      ┆ null      ┆ null      ┆ null      │\n",
       "│ 604916 ┆ 2012-09-30 ┆ 00037BAA0 ┆ 0.001884   ┆ … ┆ null      ┆ null      ┆ null      ┆ null      │\n",
       "└────────┴────────────┴───────────┴────────────┴───┴───────────┴───────────┴───────────┴───────────┘"
      ],
      "text/html": [
       "<div><style>\n",
       ".dataframe > thead > tr,\n",
       ".dataframe > tbody > tr {\n",
       "  text-align: right;\n",
       "  white-space: pre-wrap;\n",
       "}\n",
       "</style>\n",
       "<small>shape: (5, 136)</small><table border=\"1\" class=\"dataframe\"><thead><tr><th></th><th>date</th><th>cusip</th><th>exretn_t+1</th><th>exretnc_t+1</th><th>exretnc_dur_t+1</th><th>bond_ret_t+1</th><th>bond_ret</th><th>exretn</th><th>exretnc_dur</th><th>rating</th><th>cs</th><th>cs_6m_delta</th><th>bond_yield</th><th>bond_amount_out</th><th>offering_amt</th><th>bondprc</th><th>perc_par</th><th>tmt</th><th>duration</th><th>ind_num_17</th><th>sic_code</th><th>BOND_RET</th><th>ILLIQ</th><th>var95</th><th>n_trades_month</th><th>size_ig</th><th>size_jk</th><th>BOND_YIELD</th><th>CS</th><th>BONDPRC</th><th>PRFULL</th><th>CONVEXITY</th><th>CS_6M_DELTA</th><th>bond_value</th><th>BOND_VALUE</th><th>coupon</th><th>&hellip;</th><th>spread_duration</th><th>bucket</th><th>dxs</th><th>relative_dxs</th><th>systematic_return</th><th>residual_return_t+1</th><th>oas_bucket_delta</th><th>oas_quantile</th><th>weighted_dxs_median</th><th>weighted_ret_median</th><th>oas_bucket_delta_right</th><th>oas_quantile_right</th><th>carry_signal_val</th><th>carry_signal_value</th><th>excess_credit_ret</th><th>mom_6mo</th><th>price_mom_6mo</th><th>mom_12mo</th><th>price_mom_12mo</th><th>price_mom_6mo_bucket_delta</th><th>price_mom_6mo_quantile</th><th>price_mom_12mo_bucket_delta</th><th>price_mom_12mo_quantile</th><th>credit_mom_signal_value</th><th>ESP_bucket_mean_oas</th><th>ESP</th><th>esp_residual</th><th>esp_residual_bucket_delta</th><th>esp_residual_quantile</th><th>esp_signal_value</th><th>eq_mom_6mo</th><th>eq_mom_12mo</th><th>eq_mom_6mo_bucket_delta</th><th>eq_mom_6mo_quantile</th><th>eq_mom_12mo_bucket_delta</th><th>eq_mom_12mo_quantile</th><th>equity_momentum_signal_value</th></tr><tr><td>i64</td><td>date</td><td>str</td><td>f64</td><td>f64</td><td>f64</td><td>f64</td><td>f64</td><td>f64</td><td>f64</td><td>f64</td><td>f64</td><td>f64</td><td>f64</td><td>f64</td><td>f64</td><td>f64</td><td>f64</td><td>f64</td><td>f64</td><td>f64</td><td>i64</td><td>f64</td><td>f64</td><td>f64</td><td>f64</td><td>f64</td><td>f64</td><td>f64</td><td>f64</td><td>f64</td><td>f64</td><td>f64</td><td>f64</td><td>f64</td><td>f64</td><td>f64</td><td>&hellip;</td><td>f64</td><td>str</td><td>f64</td><td>f64</td><td>f64</td><td>f64</td><td>f64</td><td>i64</td><td>f64</td><td>f64</td><td>f64</td><td>i64</td><td>f64</td><td>f64</td><td>f64</td><td>f64</td><td>f64</td><td>f64</td><td>f64</td><td>f64</td><td>i64</td><td>f64</td><td>i64</td><td>f64</td><td>f64</td><td>f64</td><td>f64</td><td>f64</td><td>i64</td><td>f64</td><td>f64</td><td>f64</td><td>f64</td><td>i64</td><td>f64</td><td>i64</td><td>f64</td></tr></thead><tbody><tr><td>583213</td><td>2012-05-31</td><td>&quot;00037BAA0&quot;</td><td>0.006186</td><td>0.007551</td><td>0.007479</td><td>0.006186</td><td>null</td><td>null</td><td>null</td><td>6.0</td><td>0.010429</td><td>null</td><td>0.016813</td><td>500000.0</td><td>500000.0</td><td>99.829504</td><td>0.998295</td><td>60.1</td><td>4.723592</td><td>11.0</td><td>3612</td><td>0.004055</td><td>0.003489</td><td>null</td><td>16.0</td><td>1.0</td><td>1.0</td><td>0.017072</td><td>0.010567</td><td>99.6121</td><td>99.715921</td><td>25.124045</td><td>null</td><td>4.9914752e7</td><td>4.980605e7</td><td>1.625</td><td>&hellip;</td><td>2.787959</td><td>&quot;2_A_shortdur&quot;</td><td>0.027666</td><td>4.676272</td><td>0.003748</td><td>0.002438</td><td>0.001853</td><td>8</td><td>0.005916</td><td>0.000801</td><td>0.001853</td><td>8</td><td>0.505634</td><td>0.505634</td><td>null</td><td>NaN</td><td>NaN</td><td>NaN</td><td>NaN</td><td>null</td><td>null</td><td>null</td><td>null</td><td>null</td><td>0.008071</td><td>0.001853</td><td>null</td><td>null</td><td>null</td><td>null</td><td>NaN</td><td>NaN</td><td>null</td><td>null</td><td>null</td><td>null</td><td>null</td></tr><tr><td>588586</td><td>2012-06-30</td><td>&quot;00037BAA0&quot;</td><td>0.011728</td><td>0.003808</td><td>0.004315</td><td>0.011728</td><td>0.006186</td><td>0.006186</td><td>0.007479</td><td>6.0</td><td>0.00888</td><td>null</td><td>0.015781</td><td>500000.0</td><td>500000.0</td><td>100.447</td><td>1.00447</td><td>59.1</td><td>4.645004</td><td>11.0</td><td>3612</td><td>0.005945</td><td>0.014093</td><td>null</td><td>15.0</td><td>1.0</td><td>1.0</td><td>0.015094</td><td>0.008109</td><td>100.5391</td><td>100.764793</td><td>24.445752</td><td>null</td><td>5.02235e7</td><td>5.026955e7</td><td>1.625</td><td>&hellip;</td><td>2.363495</td><td>&quot;2_A_shortdur&quot;</td><td>0.018979</td><td>3.207915</td><td>0.002571</td><td>0.009157</td><td>0.000939</td><td>7</td><td>0.005916</td><td>0.000801</td><td>0.000939</td><td>7</td><td>0.313199</td><td>0.313199</td><td>0.005302</td><td>NaN</td><td>NaN</td><td>NaN</td><td>NaN</td><td>null</td><td>null</td><td>null</td><td>null</td><td>null</td><td>0.007091</td><td>0.000939</td><td>null</td><td>null</td><td>null</td><td>null</td><td>NaN</td><td>NaN</td><td>null</td><td>null</td><td>null</td><td>null</td><td>null</td></tr><tr><td>594002</td><td>2012-07-31</td><td>&quot;00037BAA0&quot;</td><td>-0.001191</td><td>-0.002055</td><td>-0.001935</td><td>-0.001091</td><td>0.011728</td><td>0.011728</td><td>0.004315</td><td>6.0</td><td>0.00808</td><td>null</td><td>0.013519</td><td>500000.0</td><td>500000.0</td><td>101.625066</td><td>1.016251</td><td>58.066667</td><td>4.567047</td><td>11.0</td><td>3612</td><td>0.007198</td><td>0.019627</td><td>null</td><td>15.0</td><td>1.0</td><td>1.0</td><td>0.01264</td><td>0.00672</td><td>101.665</td><td>102.03965</td><td>23.628646</td><td>null</td><td>5.0812533e7</td><td>5.08325e7</td><td>1.625</td><td>&hellip;</td><td>2.400071</td><td>&quot;2_A_shortdur&quot;</td><td>0.017051</td><td>2.882135</td><td>0.00231</td><td>-0.003401</td><td>0.000514</td><td>7</td><td>0.005916</td><td>0.000801</td><td>0.000514</td><td>7</td><td>0.313199</td><td>0.313199</td><td>0.00289</td><td>NaN</td><td>NaN</td><td>NaN</td><td>NaN</td><td>null</td><td>null</td><td>null</td><td>null</td><td>null</td><td>0.006591</td><td>0.000514</td><td>null</td><td>null</td><td>null</td><td>null</td><td>NaN</td><td>NaN</td><td>null</td><td>null</td><td>null</td><td>null</td><td>null</td></tr><tr><td>599442</td><td>2012-08-31</td><td>&quot;00037BAA0&quot;</td><td>0.002185</td><td>0.002064</td><td>0.002085</td><td>0.002285</td><td>-0.001091</td><td>-0.001191</td><td>-0.001935</td><td>6.0</td><td>0.008651</td><td>null</td><td>0.014018</td><td>500000.0</td><td>500000.0</td><td>101.5142</td><td>1.015142</td><td>57.033333</td><td>4.481314</td><td>11.0</td><td>3612</td><td>-0.002496</td><td>-0.003326</td><td>null</td><td>18.0</td><td>1.0</td><td>1.0</td><td>0.012993</td><td>0.007078</td><td>101.473</td><td>101.996612</td><td>22.750908</td><td>null</td><td>5.07571e7</td><td>5.07365e7</td><td>1.625</td><td>&hellip;</td><td>2.380807</td><td>&quot;2_A_shortdur&quot;</td><td>0.017731</td><td>2.996963</td><td>0.002402</td><td>-0.000117</td><td>0.000918</td><td>7</td><td>0.005916</td><td>0.000801</td><td>0.000918</td><td>7</td><td>0.313199</td><td>0.313199</td><td>-0.000224</td><td>NaN</td><td>NaN</td><td>NaN</td><td>NaN</td><td>null</td><td>null</td><td>null</td><td>null</td><td>null</td><td>0.006529</td><td>0.000918</td><td>null</td><td>null</td><td>null</td><td>null</td><td>NaN</td><td>NaN</td><td>null</td><td>null</td><td>null</td><td>null</td><td>null</td></tr><tr><td>604916</td><td>2012-09-30</td><td>&quot;00037BAA0&quot;</td><td>0.001884</td><td>0.005208</td><td>0.004934</td><td>0.001984</td><td>0.002285</td><td>0.002185</td><td>0.002085</td><td>6.0</td><td>0.008276</td><td>null</td><td>0.01376</td><td>500000.0</td><td>500000.0</td><td>101.746142</td><td>1.017461</td><td>56.033333</td><td>4.400393</td><td>11.0</td><td>3612</td><td>0.003524</td><td>0.005008</td><td>null</td><td>15.0</td><td>1.0</td><td>1.0</td><td>0.012316</td><td>0.006696</td><td>101.7547</td><td>102.400185</td><td>22.069816</td><td>null</td><td>5.0873071e7</td><td>5.087735e7</td><td>1.625</td><td>&hellip;</td><td>2.1584</td><td>&quot;2_A_shortdur&quot;</td><td>0.014568</td><td>2.462358</td><td>0.001973</td><td>0.00001</td><td>0.001135</td><td>7</td><td>0.005916</td><td>0.000801</td><td>0.001135</td><td>7</td><td>0.313199</td><td>0.313199</td><td>0.002127</td><td>NaN</td><td>NaN</td><td>NaN</td><td>NaN</td><td>null</td><td>null</td><td>null</td><td>null</td><td>null</td><td>0.005614</td><td>0.001135</td><td>null</td><td>null</td><td>null</td><td>null</td><td>NaN</td><td>NaN</td><td>null</td><td>null</td><td>null</td><td>null</td><td>null</td></tr></tbody></table></div>"
      ]
     },
     "execution_count": 244,
     "metadata": {},
     "output_type": "execute_result"
    }
   ],
   "execution_count": 244
  },
  {
   "metadata": {
    "ExecuteTime": {
     "end_time": "2024-05-04T17:46:07.188922Z",
     "start_time": "2024-05-04T17:46:07.176922Z"
    }
   },
   "cell_type": "code",
   "source": "bond_data.null_count() / bond_data.shape[0]",
   "id": "12c8b8ab0cf70071",
   "outputs": [
    {
     "data": {
      "text/plain": [
       "shape: (1, 136)\n",
       "┌─────┬──────┬───────┬────────────┬───┬───────────────┬──────────────┬──────────────┬──────────────┐\n",
       "│     ┆ date ┆ cusip ┆ exretn_t+1 ┆ … ┆ eq_mom_6mo_qu ┆ eq_mom_12mo_ ┆ eq_mom_12mo_ ┆ equity_momen │\n",
       "│ --- ┆ ---  ┆ ---   ┆ ---        ┆   ┆ antile        ┆ bucket_delta ┆ quantile     ┆ tum_signal_v │\n",
       "│ f64 ┆ f64  ┆ f64   ┆ f64        ┆   ┆ ---           ┆ ---          ┆ ---          ┆ alue         │\n",
       "│     ┆      ┆       ┆            ┆   ┆ f64           ┆ f64          ┆ f64          ┆ ---          │\n",
       "│     ┆      ┆       ┆            ┆   ┆               ┆              ┆              ┆ f64          │\n",
       "╞═════╪══════╪═══════╪════════════╪═══╪═══════════════╪══════════════╪══════════════╪══════════════╡\n",
       "│ 0.0 ┆ 0.0  ┆ 0.0   ┆ 0.175076   ┆ … ┆ 0.129526      ┆ 0.174027     ┆ 0.174027     ┆ 0.174027     │\n",
       "└─────┴──────┴───────┴────────────┴───┴───────────────┴──────────────┴──────────────┴──────────────┘"
      ],
      "text/html": [
       "<div><style>\n",
       ".dataframe > thead > tr,\n",
       ".dataframe > tbody > tr {\n",
       "  text-align: right;\n",
       "  white-space: pre-wrap;\n",
       "}\n",
       "</style>\n",
       "<small>shape: (1, 136)</small><table border=\"1\" class=\"dataframe\"><thead><tr><th></th><th>date</th><th>cusip</th><th>exretn_t+1</th><th>exretnc_t+1</th><th>exretnc_dur_t+1</th><th>bond_ret_t+1</th><th>bond_ret</th><th>exretn</th><th>exretnc_dur</th><th>rating</th><th>cs</th><th>cs_6m_delta</th><th>bond_yield</th><th>bond_amount_out</th><th>offering_amt</th><th>bondprc</th><th>perc_par</th><th>tmt</th><th>duration</th><th>ind_num_17</th><th>sic_code</th><th>BOND_RET</th><th>ILLIQ</th><th>var95</th><th>n_trades_month</th><th>size_ig</th><th>size_jk</th><th>BOND_YIELD</th><th>CS</th><th>BONDPRC</th><th>PRFULL</th><th>CONVEXITY</th><th>CS_6M_DELTA</th><th>bond_value</th><th>BOND_VALUE</th><th>coupon</th><th>&hellip;</th><th>spread_duration</th><th>bucket</th><th>dxs</th><th>relative_dxs</th><th>systematic_return</th><th>residual_return_t+1</th><th>oas_bucket_delta</th><th>oas_quantile</th><th>weighted_dxs_median</th><th>weighted_ret_median</th><th>oas_bucket_delta_right</th><th>oas_quantile_right</th><th>carry_signal_val</th><th>carry_signal_value</th><th>excess_credit_ret</th><th>mom_6mo</th><th>price_mom_6mo</th><th>mom_12mo</th><th>price_mom_12mo</th><th>price_mom_6mo_bucket_delta</th><th>price_mom_6mo_quantile</th><th>price_mom_12mo_bucket_delta</th><th>price_mom_12mo_quantile</th><th>credit_mom_signal_value</th><th>ESP_bucket_mean_oas</th><th>ESP</th><th>esp_residual</th><th>esp_residual_bucket_delta</th><th>esp_residual_quantile</th><th>esp_signal_value</th><th>eq_mom_6mo</th><th>eq_mom_12mo</th><th>eq_mom_6mo_bucket_delta</th><th>eq_mom_6mo_quantile</th><th>eq_mom_12mo_bucket_delta</th><th>eq_mom_12mo_quantile</th><th>equity_momentum_signal_value</th></tr><tr><td>f64</td><td>f64</td><td>f64</td><td>f64</td><td>f64</td><td>f64</td><td>f64</td><td>f64</td><td>f64</td><td>f64</td><td>f64</td><td>f64</td><td>f64</td><td>f64</td><td>f64</td><td>f64</td><td>f64</td><td>f64</td><td>f64</td><td>f64</td><td>f64</td><td>f64</td><td>f64</td><td>f64</td><td>f64</td><td>f64</td><td>f64</td><td>f64</td><td>f64</td><td>f64</td><td>f64</td><td>f64</td><td>f64</td><td>f64</td><td>f64</td><td>f64</td><td>f64</td><td>&hellip;</td><td>f64</td><td>f64</td><td>f64</td><td>f64</td><td>f64</td><td>f64</td><td>f64</td><td>f64</td><td>f64</td><td>f64</td><td>f64</td><td>f64</td><td>f64</td><td>f64</td><td>f64</td><td>f64</td><td>f64</td><td>f64</td><td>f64</td><td>f64</td><td>f64</td><td>f64</td><td>f64</td><td>f64</td><td>f64</td><td>f64</td><td>f64</td><td>f64</td><td>f64</td><td>f64</td><td>f64</td><td>f64</td><td>f64</td><td>f64</td><td>f64</td><td>f64</td><td>f64</td></tr></thead><tbody><tr><td>0.0</td><td>0.0</td><td>0.0</td><td>0.175076</td><td>0.177607</td><td>0.177607</td><td>0.175076</td><td>0.178273</td><td>0.178273</td><td>0.180866</td><td>0.0</td><td>0.00627</td><td>0.10033</td><td>0.006107</td><td>0.0</td><td>0.0</td><td>0.098822</td><td>0.098822</td><td>0.0</td><td>0.000307</td><td>0.106946</td><td>0.0</td><td>0.069995</td><td>0.109154</td><td>0.482933</td><td>0.06722</td><td>0.0</td><td>0.0</td><td>0.031014</td><td>0.031014</td><td>0.031014</td><td>0.031014</td><td>0.031014</td><td>0.14938</td><td>0.098822</td><td>0.031014</td><td>0.0</td><td>&hellip;</td><td>0.006115</td><td>0.0</td><td>0.006115</td><td>0.006115</td><td>0.006115</td><td>0.180646</td><td>0.098822</td><td>0.098822</td><td>0.0</td><td>0.0</td><td>0.098822</td><td>0.098822</td><td>0.098822</td><td>0.098822</td><td>0.002751</td><td>0.0</td><td>0.12745</td><td>0.0</td><td>0.136746</td><td>0.256976</td><td>0.256976</td><td>0.310773</td><td>0.310773</td><td>0.310773</td><td>0.000016</td><td>0.098822</td><td>0.318886</td><td>0.318886</td><td>0.318886</td><td>0.318886</td><td>0.0</td><td>0.0</td><td>0.129526</td><td>0.129526</td><td>0.174027</td><td>0.174027</td><td>0.174027</td></tr></tbody></table></div>"
      ]
     },
     "execution_count": 245,
     "metadata": {},
     "output_type": "execute_result"
    }
   ],
   "execution_count": 245
  },
  {
   "metadata": {
    "ExecuteTime": {
     "end_time": "2024-05-04T17:46:16.487921Z",
     "start_time": "2024-05-04T17:46:10.301423Z"
    }
   },
   "cell_type": "code",
   "source": "bond_data.write_parquet('../../data/final_data/data_with_signals.pq', compression='zstd', compression_level=10)",
   "id": "e437e9691293e4b1",
   "outputs": [],
   "execution_count": 246
  },
  {
   "metadata": {},
   "cell_type": "markdown",
   "source": "# Fama-Macbeth Regression",
   "id": "cda8631e538c37c5"
  },
  {
   "metadata": {},
   "cell_type": "code",
   "source": [
    "def fama_macbeth_bsic(df, yvar: str = 'exretnc_dur_t+1', xvars: list[str] = None, rolling_period: str = '2y', min_periods: int = 8):\n",
    "    if xvars is None:\n",
    "        raise Exception('specify xvars')\n",
    "    \n",
    "    regressors = [pl.col(var) for var in xvars]\n",
    "    \n",
    "    df = df.sort(['cusip', 'date'])\n",
    "    cols = ['date', 'cusip', yvar]\n",
    "    \n",
    "    betas = df.select(*cols, *xvars).rolling('date', period=rolling_period, group_by='cusip').agg(\n",
    "        pl.when(pl.col('date').len() >= min_periods)\n",
    "        .then(pl.col(yvar).least_squares.ols(*regressors, add_intercept=True, mode='coefficients', null_policy='drop', solve_method='svd')),\n",
    "        pl.col('exretnc_dur_t+1').mean().alias('expected_excess_return'),\n",
    "    )\n",
    "    \n",
    "    gammas = betas.unnest('coefficients').group_by('date').agg(\n",
    "        pl.col('expected_excess_return').least_squares.ols(*regressors, mode='coefficients', null_policy='drop', solve_method='svd')\n",
    "    )\n",
    "    \n",
    "    return gammas"
   ],
   "id": "69198383305df5c8",
   "outputs": [],
   "execution_count": null
  },
  {
   "metadata": {},
   "cell_type": "code",
   "source": "bond_data.head()",
   "id": "85b729a0b332c80e",
   "outputs": [],
   "execution_count": null
  },
  {
   "metadata": {},
   "cell_type": "code",
   "source": [
    "# oas_quantiles.select('residual_return_t+1', 'oas_bucket_delta', 'cusip').with_columns(\n",
    "#     pl.col('residual_return_t+1').least_squares.ols(pl.col('oas_bucket_delta'), add_intercept=True, mode=\"coefficients\", null_policy='drop', solve_method='svd').over('cusip')\n",
    "# ).head()\n",
    "# dataframe con le date sulla y e i betas per ogni data\n",
    "signal = 'oas_quantile'\n",
    "coefficients = oas_quantiles.sort(['cusip', 'date']).select('date', signal, 'cusip', 'exretnc_dur_t+1').rolling('date', period='2y', group_by='cusip').agg(\n",
    "    pl.when(pl.col('date').len() >= 8)\n",
    "    .then(pl.col('exretnc_dur_t+1').least_squares.ols(pl.col(signal).cast(pl.Float64), add_intercept=True, mode='coefficients', null_policy='drop', solve_method='svd')),\n",
    "    pl.col('date').alias('dates'),\n",
    "    pl.col('date').len().alias('n_dates'),\n",
    "    pl.col('exretnc_dur_t+1').last(),\n",
    "    pl.col('exretnc_dur_t+1').alias('list_of_returns'),\n",
    ")"
   ],
   "id": "e45eac5873f0a318",
   "outputs": [],
   "execution_count": null
  },
  {
   "metadata": {},
   "cell_type": "code",
   "source": "coefficients.unnest('coefficients')",
   "id": "c2e1312b846a9891",
   "outputs": [],
   "execution_count": null
  },
  {
   "metadata": {},
   "cell_type": "code",
   "source": [
    "# regredire per ogni data il ritorno di ogni bond vs i fattori\n",
    "\n",
    "gammas = coefficients.unnest('coefficients').group_by('date').agg(\n",
    "    pl.col('exretnc_dur_t+1').least_squares.ols(pl.col(signal), mode='coefficients', null_policy='drop', solve_method='svd')\n",
    ")"
   ],
   "id": "aebfa59eb1ddb561",
   "outputs": [],
   "execution_count": null
  },
  {
   "metadata": {},
   "cell_type": "code",
   "source": "gammas.select('date').n_unique()",
   "id": "d9f346f43291aa8b",
   "outputs": [],
   "execution_count": null
  },
  {
   "metadata": {},
   "cell_type": "code",
   "source": "gammas.shape",
   "id": "1e138f764d474cf5",
   "outputs": [],
   "execution_count": null
  },
  {
   "metadata": {},
   "cell_type": "code",
   "source": "gammas = gammas.unnest('coefficients')",
   "id": "6c0fc54b265390d9",
   "outputs": [],
   "execution_count": null
  },
  {
   "metadata": {},
   "cell_type": "code",
   "source": "gammas.sort('date').tail(10)",
   "id": "991a26ccbdf4df7e",
   "outputs": [],
   "execution_count": null
  },
  {
   "metadata": {},
   "cell_type": "code",
   "source": "gammas.sort('date').tail(10)",
   "id": "137c4ce30a7c35db",
   "outputs": [],
   "execution_count": null
  },
  {
   "metadata": {},
   "cell_type": "code",
   "source": "gammas.select(pl.col('oas').ewm_mean(span=12))",
   "id": "e2d5ae3fec96e4d",
   "outputs": [],
   "execution_count": null
  },
  {
   "metadata": {},
   "cell_type": "code",
   "source": [
    "X = gammas[0]['betas'].to_numpy()[0]\n",
    "X = X[~np.isnan(X)]\n",
    "\n",
    "(1 / (X.T @ X)) * X.T   "
   ],
   "id": "59f5ce5eb2a0d9b7",
   "outputs": [],
   "execution_count": null
  },
  {
   "metadata": {},
   "cell_type": "code",
   "source": "rets.shape",
   "id": "1be54b2e94baf58d",
   "outputs": [],
   "execution_count": null
  },
  {
   "metadata": {},
   "cell_type": "code",
   "source": [
    "\n",
    "rets"
   ],
   "id": "47a7e0360aa22398",
   "outputs": [],
   "execution_count": null
  },
  {
   "metadata": {},
   "cell_type": "code",
   "source": [
    "example = gammas[0]\n",
    "# gammas[0].select('betas', 'returns_list').plot(x='betas', y='returns_list')\n",
    "rets = example['returns_list'].to_numpy().reshape(1,-1)[0][0]\n",
    "betas = example['betas'].to_numpy().reshape(1,-1)[0][0] \n",
    "\n",
    "# sol = np.linalg.lstsq(rets.reshape(-1,1), betas.reshape(-1,1))\n",
    "# print(sol)\n",
    "\n",
    "plt.scatter(betas, rets)"
   ],
   "id": "3b4ac1620566df66",
   "outputs": [],
   "execution_count": null
  },
  {
   "metadata": {},
   "cell_type": "code",
   "source": [
    "# oas_quantiles.sort('date').select('date', 'residual_return_t+1', 'oas_bucket_delta', 'cusip').with_columns(\n",
    "#     pl.col('residual_return_t+1').least_squares.rolling_ols(pl.col('oas_bucket_delta'), window_size=252*2, min_periods=126, mode='coefficients', null_policy='drop', ).over(['date', 'cusip'])\n",
    "# )\n",
    "\n",
    "coefficients = oas_quantiles.sort('date').select('date', 'residual_return_t+1', 'oas_bucket_delta', 'cusip').select(\n",
    "    pl.col('residual_return_t+1').least_squares.rolling_ols(pl.col('oas_bucket_delta'), window_size=252*2, min_periods=126, mode='coefficients', null_policy='drop' ).over('cusip'),\n",
    "    pl.col('cusip'),\n",
    "    pl.col('date')\n",
    ")\n",
    "\n",
    "coefficients.tail()"
   ],
   "id": "5b19f974d6f8101c",
   "outputs": [],
   "execution_count": null
  },
  {
   "metadata": {},
   "cell_type": "code",
   "source": "coefficients.filter(pl.col('cusip') == \"00077QAG5\")",
   "id": "9843f1bf3fd0c14f",
   "outputs": [],
   "execution_count": null
  },
  {
   "metadata": {},
   "cell_type": "code",
   "source": "# regress excess return dei bond sui betas cross-sectionally\n",
   "id": "d99b5d908d877209",
   "outputs": [],
   "execution_count": null
  },
  {
   "metadata": {},
   "cell_type": "code",
   "source": [
    "coefficients = oas_quantiles.select('date', 'cusip', pl.col('residual_return_t+1').least_squares.ols(pl.col('oas_bucket_delta'), add_intercept=True, mode='coefficients', null_policy='drop', solve_method='svd').over('cusip')).unnest('coefficients')\n",
    "\n",
    "coefficients.head()"
   ],
   "id": "e43740db1fb38999",
   "outputs": [],
   "execution_count": null
  },
  {
   "metadata": {},
   "cell_type": "code",
   "source": "coefficients.filter(pl.col('cusip') == \"00077QAG5\").select('oas_bucket_delta')",
   "id": "43f39a467b53ec67",
   "outputs": [],
   "execution_count": null
  },
  {
   "metadata": {},
   "cell_type": "code",
   "source": "oas_quantiles.head()",
   "id": "c84e3738f0f9e49f",
   "outputs": [],
   "execution_count": null
  },
  {
   "metadata": {},
   "cell_type": "code",
   "source": [
    "regression_data = oas_quantiles.select('date', 'cusip', 'exretnc_t+1', 'oas_quantile')\n",
    "mkt_returns = regression_data.group_by('date').agg(pl.col('exretnc_t+1').mean().alias('mkt_return'))\n",
    "regression_data = regression_data.join(\n",
    "    mkt_returns,\n",
    "    how='left',\n",
    "    on='date'\n",
    ")\n",
    "\n",
    "regression_data.head()"
   ],
   "id": "d643f4e0cd57a64d",
   "outputs": [],
   "execution_count": null
  },
  {
   "metadata": {},
   "cell_type": "code",
   "source": [
    "datevar = 'date'\n",
    "yvar = 'exretnc_t+1'\n",
    "xvar = ['oas_quantile', 'mkt_return']\n",
    "\n",
    "all_cols = [datevar, yvar, *xvar]\n",
    "regression_data_pandas = regression_data.select(all_cols).to_pandas().dropna()\n",
    "\n",
    "regression_data_pandas.head()"
   ],
   "id": "61104c4e1984823d",
   "outputs": [],
   "execution_count": null
  },
  {
   "metadata": {},
   "cell_type": "code",
   "source": "regression_data_pandas.dtypes",
   "id": "637e55ee7f7ccc00",
   "outputs": [],
   "execution_count": null
  },
  {
   "metadata": {},
   "cell_type": "code",
   "source": "regression_data_pandas.isna().sum()",
   "id": "404ff5baa151c47b",
   "outputs": [],
   "execution_count": null
  },
  {
   "metadata": {},
   "cell_type": "code",
   "source": [
    "fm_regression_results = fama_macbeth.fama_macbeth(regression_data_pandas, t=datevar, yvar=yvar, xvar=xvar)\n",
    "fama_macbeth.fm_summary(fm_regression_results, pvalues=True)"
   ],
   "id": "265a42d6130ade3e",
   "outputs": [],
   "execution_count": null
  },
  {
   "metadata": {},
   "cell_type": "code",
   "source": "fm_regression_results",
   "id": "205bec8208bb3871",
   "outputs": [],
   "execution_count": null
  },
  {
   "metadata": {},
   "cell_type": "code",
   "source": "fm_regression_results.rolling(12).mean().plot(y='oas_quantile')",
   "id": "1e5000576c54d20",
   "outputs": [],
   "execution_count": null
  }
 ],
 "metadata": {
  "kernelspec": {
   "display_name": "Python 3",
   "language": "python",
   "name": "python3"
  },
  "language_info": {
   "codemirror_mode": {
    "name": "ipython",
    "version": 2
   },
   "file_extension": ".py",
   "mimetype": "text/x-python",
   "name": "python",
   "nbconvert_exporter": "python",
   "pygments_lexer": "ipython2",
   "version": "2.7.6"
  }
 },
 "nbformat": 4,
 "nbformat_minor": 5
}
