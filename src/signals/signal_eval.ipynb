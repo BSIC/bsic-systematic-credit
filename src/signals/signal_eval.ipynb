{
 "cells": [
  {
   "metadata": {
    "ExecuteTime": {
     "end_time": "2024-04-25T22:57:59.010838Z",
     "start_time": "2024-04-25T22:57:58.308714Z"
    }
   },
   "cell_type": "code",
   "source": [
    "import numpy as np\n",
    "import polars as pl\n",
    "from matplotlib import pyplot as plt\n",
    "import numpy as np \n"
   ],
   "id": "a51e4f9f0742a9e0",
   "outputs": [],
   "execution_count": 1
  },
  {
   "metadata": {},
   "cell_type": "markdown",
   "source": [
    "todos: fill ratings (although they are not constant so probably just ffill), industry codes (same reasoning)\n",
    "\n"
   ],
   "id": "9d6f67c6e5995e20"
  },
  {
   "metadata": {},
   "cell_type": "markdown",
   "source": "# Evaluating signals by quantiles",
   "id": "1f6cc4f25c0b30b3"
  },
  {
   "metadata": {},
   "cell_type": "markdown",
   "source": [
    "Guide by Barclays\n",
    "\n",
    "1) Map Signals to alpha estimates, to make the signal comparable\n",
    "2) Combine estimates into a composite score\n",
    "\n",
    "## (1) Map to alpha estimates\n",
    "\n",
    "* Divide through order statistics (big assumption: quantiles differences have always the same return implications)\n",
    "* Create quintile/decile portfolios, plot how the Sharpe Ratios change as the signal value increases\n",
    "\n",
    "Computing residual returns\n",
    "\n",
    "* Partition bonds by (i) sector, (ii) rating category (Barclays just divides between A-level and B-level ratings) sectors are consolidated BCLASS level-3 classifications from BBG\n",
    "* Systematic return: product of relative DTS * weighted average return of its sector-rating cell\n",
    "    * Relative DTS: bond DTS - weighted average DTS of its sector-rating cell\n",
    "* Residual: unadjusted return - systematic return\n",
    "\n",
    "Dividing in quantiles\n",
    "\n",
    "* Divide in quantiles, compute expected alpha\n",
    "* You now get a structure of the function $\\alpha|signal$\n",
    "* Fit a function through it (if there is a no-information zone, zero it out\n",
    "* Further standardization through z-scores? (see paper) "
   ],
   "id": "140f68b4fb19754d"
  },
  {
   "metadata": {
    "ExecuteTime": {
     "end_time": "2024-04-25T22:58:01.416342Z",
     "start_time": "2024-04-25T22:57:59.731482Z"
    }
   },
   "cell_type": "code",
   "source": [
    "bond_data = pl.read_parquet('../../data/bond_data_with_oas.pq')\n",
    "\n",
    "bond_data.head(1)"
   ],
   "id": "c32efd72d5fc05de",
   "outputs": [
    {
     "data": {
      "text/plain": [
       "shape: (1, 91)\n",
       "┌─────┬────────────┬───────────┬────────────┬───┬────────────┬───────────────┬──────────┬──────────┐\n",
       "│     ┆ date       ┆ cusip     ┆ exretn_t+1 ┆ … ┆ REINSTATED ┆ REINSTATED_DA ┆ DURATION ┆ oas      │\n",
       "│ --- ┆ ---        ┆ ---       ┆ ---        ┆   ┆ ---        ┆ TE            ┆ ---      ┆ ---      │\n",
       "│ i64 ┆ date       ┆ str       ┆ f64        ┆   ┆ str        ┆ ---           ┆ f64      ┆ f64      │\n",
       "│     ┆            ┆           ┆            ┆   ┆            ┆ str           ┆          ┆          │\n",
       "╞═════╪════════════╪═══════════╪════════════╪═══╪════════════╪═══════════════╪══════════╪══════════╡\n",
       "│ 0   ┆ 2002-08-31 ┆ 000336AE7 ┆ -0.056089  ┆ … ┆ null       ┆ null          ┆ 4.59     ┆ 0.039615 │\n",
       "└─────┴────────────┴───────────┴────────────┴───┴────────────┴───────────────┴──────────┴──────────┘"
      ],
      "text/html": [
       "<div><style>\n",
       ".dataframe > thead > tr,\n",
       ".dataframe > tbody > tr {\n",
       "  text-align: right;\n",
       "  white-space: pre-wrap;\n",
       "}\n",
       "</style>\n",
       "<small>shape: (1, 91)</small><table border=\"1\" class=\"dataframe\"><thead><tr><th></th><th>date</th><th>cusip</th><th>exretn_t+1</th><th>exretnc_t+1</th><th>exretnc_dur_t+1</th><th>bond_ret_t+1</th><th>bond_ret</th><th>exretn</th><th>exretnc_dur</th><th>rating</th><th>cs</th><th>cs_6m_delta</th><th>bond_yield</th><th>bond_amount_out</th><th>offering_amt</th><th>bondprc</th><th>perc_par</th><th>tmt</th><th>duration</th><th>ind_num_17</th><th>BOND_RET</th><th>ILLIQ</th><th>var95</th><th>n_trades_month</th><th>size_ig</th><th>size_jk</th><th>BOND_YIELD</th><th>CS</th><th>BONDPRC</th><th>PRFULL</th><th>CONVEXITY</th><th>CS_6M_DELTA</th><th>bond_value</th><th>BOND_VALUE</th><th>coupon</th><th>bond_type</th><th>&hellip;</th><th>NCOUPS</th><th>AMOUNT_OUTSTANDING</th><th>R_SP</th><th>R_MR</th><th>R_FR</th><th>N_SP</th><th>N_MR</th><th>N_FR</th><th>RATING_NUM</th><th>RATING_CAT</th><th>RATING_CLASS</th><th>T_DATE</th><th>T_Volume</th><th>T_DVolume</th><th>T_Spread</th><th>T_Yld_Pt</th><th>YIELD</th><th>PRICE_EOM</th><th>PRICE_LDM</th><th>PRICE_L5M</th><th>GAP</th><th>COUPMONTH</th><th>nextcoup</th><th>COUPAMT</th><th>COUPACC</th><th>MULTICOUPS</th><th>RET_EOM</th><th>RET_LDM</th><th>RET_L5M</th><th>REMCOUPS</th><th>DEFAULTED</th><th>DEFAULT_DATE</th><th>DEFAULT_TYPE</th><th>REINSTATED</th><th>REINSTATED_DATE</th><th>DURATION</th><th>oas</th></tr><tr><td>i64</td><td>date</td><td>str</td><td>f64</td><td>f64</td><td>f64</td><td>f64</td><td>f64</td><td>f64</td><td>f64</td><td>f64</td><td>f64</td><td>f64</td><td>f64</td><td>f64</td><td>f64</td><td>f64</td><td>f64</td><td>f64</td><td>f64</td><td>f64</td><td>f64</td><td>f64</td><td>f64</td><td>f64</td><td>f64</td><td>f64</td><td>f64</td><td>f64</td><td>f64</td><td>f64</td><td>f64</td><td>f64</td><td>f64</td><td>f64</td><td>f64</td><td>str</td><td>&hellip;</td><td>f64</td><td>f64</td><td>str</td><td>str</td><td>str</td><td>f64</td><td>f64</td><td>f64</td><td>f64</td><td>str</td><td>str</td><td>date</td><td>str</td><td>str</td><td>str</td><td>f64</td><td>str</td><td>f64</td><td>f64</td><td>f64</td><td>f64</td><td>f64</td><td>date</td><td>f64</td><td>f64</td><td>f64</td><td>str</td><td>str</td><td>str</td><td>f64</td><td>str</td><td>str</td><td>str</td><td>str</td><td>str</td><td>f64</td><td>f64</td></tr></thead><tbody><tr><td>0</td><td>2002-08-31</td><td>&quot;000336AE7&quot;</td><td>-0.056089</td><td>-0.087082</td><td>-0.081158</td><td>-0.054689</td><td>-0.008212</td><td>-0.009612</td><td>-0.023343</td><td>8.0</td><td>0.043019</td><td>null</td><td>0.073689</td><td>100000.0</td><td>100000.0</td><td>97.693</td><td>0.97693</td><td>70.033333</td><td>4.585289</td><td>null</td><td>0.023939</td><td>3.597388</td><td>null</td><td>2.0</td><td>0.0</td><td>1.0</td><td>0.064316</td><td>0.032526</td><td>102.092</td><td>103.75346</td><td>26.445978</td><td>null</td><td>9.7693e6</td><td>1.02092e7</td><td>6.875</td><td>&quot;CDEB&quot;</td><td>&hellip;</td><td>2.0</td><td>100000.0</td><td>&quot;BBB+&quot;</td><td>&quot;BAA2&quot;</td><td>&quot;BBB+&quot;</td><td>8.0</td><td>9.0</td><td>8.0</td><td>8.0</td><td>&quot;BBB&quot;</td><td>&quot;0.IG&quot;</td><td>2002-08-30</td><td>&quot;$119,000&quot;</td><td>&quot;$118,742&quot;</td><td>null</td><td>6.918</td><td>&quot;7.369%&quot;</td><td>97.7</td><td>97.7</td><td>97.7</td><td>1.0</td><td>44.0</td><td>2002-12-01</td><td>0.0</td><td>1.71</td><td>1.0</td><td>&quot;-.8212%&quot;</td><td>null</td><td>&quot;-.8212%&quot;</td><td>12.0</td><td>&quot;N&quot;</td><td>null</td><td>null</td><td>null</td><td>null</td><td>4.59</td><td>0.039615</td></tr></tbody></table></div>"
      ]
     },
     "execution_count": 2,
     "metadata": {},
     "output_type": "execute_result"
    }
   ],
   "execution_count": 2
  },
  {
   "metadata": {
    "ExecuteTime": {
     "end_time": "2024-04-25T23:03:02.902807Z",
     "start_time": "2024-04-25T23:03:02.801161Z"
    }
   },
   "cell_type": "code",
   "source": "bond_data.select(['R_SP', 'N_SP']).unique().write_csv('ratings.csv')",
   "id": "4a447a67152c2cda",
   "outputs": [],
   "execution_count": 7
  },
  {
   "metadata": {
    "ExecuteTime": {
     "end_time": "2024-04-25T22:51:16.206082Z",
     "start_time": "2024-04-25T22:51:16.189535Z"
    }
   },
   "cell_type": "code",
   "source": "bond_data.select(['R_SP', 'R_MR', 'R_FR', 'RATING_NUM', 'RATING_CAT', 'RATING_CLASS', 'rating']).null_count()",
   "id": "50cb5ea01e0e66c9",
   "outputs": [
    {
     "data": {
      "text/plain": [
       "shape: (1, 7)\n",
       "┌──────┬───────┬───────┬────────────┬────────────┬──────────────┬────────┐\n",
       "│ R_SP ┆ R_MR  ┆ R_FR  ┆ RATING_NUM ┆ RATING_CAT ┆ RATING_CLASS ┆ rating │\n",
       "│ ---  ┆ ---   ┆ ---   ┆ ---        ┆ ---        ┆ ---          ┆ ---    │\n",
       "│ u32  ┆ u32   ┆ u32   ┆ u32        ┆ u32        ┆ u32          ┆ u32    │\n",
       "╞══════╪═══════╪═══════╪════════════╪════════════╪══════════════╪════════╡\n",
       "│ 582  ┆ 13612 ┆ 84235 ┆ 3464       ┆ 22         ┆ 6344         ┆ 0      │\n",
       "└──────┴───────┴───────┴────────────┴────────────┴──────────────┴────────┘"
      ],
      "text/html": [
       "<div><style>\n",
       ".dataframe > thead > tr,\n",
       ".dataframe > tbody > tr {\n",
       "  text-align: right;\n",
       "  white-space: pre-wrap;\n",
       "}\n",
       "</style>\n",
       "<small>shape: (1, 7)</small><table border=\"1\" class=\"dataframe\"><thead><tr><th>R_SP</th><th>R_MR</th><th>R_FR</th><th>RATING_NUM</th><th>RATING_CAT</th><th>RATING_CLASS</th><th>rating</th></tr><tr><td>u32</td><td>u32</td><td>u32</td><td>u32</td><td>u32</td><td>u32</td><td>u32</td></tr></thead><tbody><tr><td>582</td><td>13612</td><td>84235</td><td>3464</td><td>22</td><td>6344</td><td>0</td></tr></tbody></table></div>"
      ]
     },
     "execution_count": 3,
     "metadata": {},
     "output_type": "execute_result"
    }
   ],
   "execution_count": 3
  },
  {
   "metadata": {
    "ExecuteTime": {
     "end_time": "2024-04-25T22:51:17.259416Z",
     "start_time": "2024-04-25T22:51:17.171005Z"
    }
   },
   "cell_type": "code",
   "source": "bond_data.select('RATING_CAT').unique()",
   "id": "32610a5202486f31",
   "outputs": [
    {
     "data": {
      "text/plain": [
       "shape: (12, 1)\n",
       "┌────────────┐\n",
       "│ RATING_CAT │\n",
       "│ ---        │\n",
       "│ str        │\n",
       "╞════════════╡\n",
       "│ BBB        │\n",
       "│ A          │\n",
       "│ BB         │\n",
       "│ D          │\n",
       "│ NR         │\n",
       "│ …          │\n",
       "│ C          │\n",
       "│ AAA        │\n",
       "│ CC         │\n",
       "│ null       │\n",
       "│ B          │\n",
       "└────────────┘"
      ],
      "text/html": [
       "<div><style>\n",
       ".dataframe > thead > tr,\n",
       ".dataframe > tbody > tr {\n",
       "  text-align: right;\n",
       "  white-space: pre-wrap;\n",
       "}\n",
       "</style>\n",
       "<small>shape: (12, 1)</small><table border=\"1\" class=\"dataframe\"><thead><tr><th>RATING_CAT</th></tr><tr><td>str</td></tr></thead><tbody><tr><td>&quot;BBB&quot;</td></tr><tr><td>&quot;A&quot;</td></tr><tr><td>&quot;BB&quot;</td></tr><tr><td>&quot;D&quot;</td></tr><tr><td>&quot;NR&quot;</td></tr><tr><td>&hellip;</td></tr><tr><td>&quot;C&quot;</td></tr><tr><td>&quot;AAA&quot;</td></tr><tr><td>&quot;CC&quot;</td></tr><tr><td>null</td></tr><tr><td>&quot;B&quot;</td></tr></tbody></table></div>"
      ]
     },
     "execution_count": 4,
     "metadata": {},
     "output_type": "execute_result"
    }
   ],
   "execution_count": 4
  },
  {
   "metadata": {
    "ExecuteTime": {
     "end_time": "2024-04-25T22:51:19.648404Z",
     "start_time": "2024-04-25T22:51:18.325263Z"
    }
   },
   "cell_type": "code",
   "source": "bond_data.group_by(['RATING_CAT']).n_unique()",
   "id": "9746d5d768742b19",
   "outputs": [
    {
     "data": {
      "text/plain": [
       "shape: (12, 91)\n",
       "┌────────────┬────────┬──────┬───────┬───┬────────────┬─────────────────┬──────────┬────────┐\n",
       "│ RATING_CAT ┆        ┆ date ┆ cusip ┆ … ┆ REINSTATED ┆ REINSTATED_DATE ┆ DURATION ┆ oas    │\n",
       "│ ---        ┆ ---    ┆ ---  ┆ ---   ┆   ┆ ---        ┆ ---             ┆ ---      ┆ ---    │\n",
       "│ str        ┆ u32    ┆ u32  ┆ u32   ┆   ┆ u32        ┆ u32             ┆ u32      ┆ u32    │\n",
       "╞════════════╪════════╪══════╪═══════╪═══╪════════════╪═════════════════╪══════════╪════════╡\n",
       "│ AA         ┆ 73248  ┆ 242  ┆ 2325  ┆ … ┆ 2          ┆ 2               ┆ 2422     ┆ 65007  │\n",
       "│ BBB        ┆ 544630 ┆ 242  ┆ 12256 ┆ … ┆ 3          ┆ 50              ┆ 5158     ┆ 458156 │\n",
       "│ AAA        ┆ 17555  ┆ 242  ┆ 467   ┆ … ┆ 1          ┆ 1               ┆ 1847     ┆ 15520  │\n",
       "│ A          ┆ 435449 ┆ 242  ┆ 10260 ┆ … ┆ 3          ┆ 15              ┆ 4020     ┆ 368942 │\n",
       "│ C          ┆ 1094   ┆ 225  ┆ 234   ┆ … ┆ 3          ┆ 89              ┆ 467      ┆ 936    │\n",
       "│ …          ┆ …      ┆ …    ┆ …     ┆ … ┆ …          ┆ …               ┆ …        ┆ …      │\n",
       "│ null       ┆ 22     ┆ 6    ┆ 20    ┆ … ┆ 1          ┆ 1               ┆ 7        ┆ 11     │\n",
       "│ CC         ┆ 2860   ┆ 222  ┆ 456   ┆ … ┆ 3          ┆ 128             ┆ 614      ┆ 2330   │\n",
       "│ D          ┆ 1786   ┆ 201  ┆ 592   ┆ … ┆ 3          ┆ 215             ┆ 759      ┆ 1533   │\n",
       "│ CCC        ┆ 38023  ┆ 242  ┆ 1724  ┆ … ┆ 3          ┆ 250             ┆ 1190     ┆ 31664  │\n",
       "│ B          ┆ 110331 ┆ 242  ┆ 4164  ┆ … ┆ 3          ┆ 224             ┆ 1543     ┆ 93029  │\n",
       "└────────────┴────────┴──────┴───────┴───┴────────────┴─────────────────┴──────────┴────────┘"
      ],
      "text/html": [
       "<div><style>\n",
       ".dataframe > thead > tr,\n",
       ".dataframe > tbody > tr {\n",
       "  text-align: right;\n",
       "  white-space: pre-wrap;\n",
       "}\n",
       "</style>\n",
       "<small>shape: (12, 91)</small><table border=\"1\" class=\"dataframe\"><thead><tr><th>RATING_CAT</th><th></th><th>date</th><th>cusip</th><th>exretn_t+1</th><th>exretnc_t+1</th><th>exretnc_dur_t+1</th><th>bond_ret_t+1</th><th>bond_ret</th><th>exretn</th><th>exretnc_dur</th><th>rating</th><th>cs</th><th>cs_6m_delta</th><th>bond_yield</th><th>bond_amount_out</th><th>offering_amt</th><th>bondprc</th><th>perc_par</th><th>tmt</th><th>duration</th><th>ind_num_17</th><th>BOND_RET</th><th>ILLIQ</th><th>var95</th><th>n_trades_month</th><th>size_ig</th><th>size_jk</th><th>BOND_YIELD</th><th>CS</th><th>BONDPRC</th><th>PRFULL</th><th>CONVEXITY</th><th>CS_6M_DELTA</th><th>bond_value</th><th>BOND_VALUE</th><th>coupon</th><th>&hellip;</th><th>LAST_INTEREST_DATE</th><th>NCOUPS</th><th>AMOUNT_OUTSTANDING</th><th>R_SP</th><th>R_MR</th><th>R_FR</th><th>N_SP</th><th>N_MR</th><th>N_FR</th><th>RATING_NUM</th><th>RATING_CLASS</th><th>T_DATE</th><th>T_Volume</th><th>T_DVolume</th><th>T_Spread</th><th>T_Yld_Pt</th><th>YIELD</th><th>PRICE_EOM</th><th>PRICE_LDM</th><th>PRICE_L5M</th><th>GAP</th><th>COUPMONTH</th><th>nextcoup</th><th>COUPAMT</th><th>COUPACC</th><th>MULTICOUPS</th><th>RET_EOM</th><th>RET_LDM</th><th>RET_L5M</th><th>REMCOUPS</th><th>DEFAULTED</th><th>DEFAULT_DATE</th><th>DEFAULT_TYPE</th><th>REINSTATED</th><th>REINSTATED_DATE</th><th>DURATION</th><th>oas</th></tr><tr><td>str</td><td>u32</td><td>u32</td><td>u32</td><td>u32</td><td>u32</td><td>u32</td><td>u32</td><td>u32</td><td>u32</td><td>u32</td><td>u32</td><td>u32</td><td>u32</td><td>u32</td><td>u32</td><td>u32</td><td>u32</td><td>u32</td><td>u32</td><td>u32</td><td>u32</td><td>u32</td><td>u32</td><td>u32</td><td>u32</td><td>u32</td><td>u32</td><td>u32</td><td>u32</td><td>u32</td><td>u32</td><td>u32</td><td>u32</td><td>u32</td><td>u32</td><td>u32</td><td>&hellip;</td><td>u32</td><td>u32</td><td>u32</td><td>u32</td><td>u32</td><td>u32</td><td>u32</td><td>u32</td><td>u32</td><td>u32</td><td>u32</td><td>u32</td><td>u32</td><td>u32</td><td>u32</td><td>u32</td><td>u32</td><td>u32</td><td>u32</td><td>u32</td><td>u32</td><td>u32</td><td>u32</td><td>u32</td><td>u32</td><td>u32</td><td>u32</td><td>u32</td><td>u32</td><td>u32</td><td>u32</td><td>u32</td><td>u32</td><td>u32</td><td>u32</td><td>u32</td><td>u32</td></tr></thead><tbody><tr><td>&quot;AA&quot;</td><td>73248</td><td>242</td><td>2325</td><td>59166</td><td>58906</td><td>58906</td><td>59165</td><td>59588</td><td>59589</td><td>59325</td><td>8</td><td>72690</td><td>62875</td><td>72926</td><td>661</td><td>296</td><td>59826</td><td>59828</td><td>8285</td><td>72690</td><td>15</td><td>65116</td><td>62617</td><td>5114</td><td>25</td><td>2</td><td>1</td><td>68281</td><td>68731</td><td>56771</td><td>68731</td><td>68731</td><td>58559</td><td>64189</td><td>67333</td><td>442</td><td>&hellip;</td><td>1426</td><td>4</td><td>662</td><td>6</td><td>15</td><td>13</td><td>4</td><td>14</td><td>12</td><td>3</td><td>1</td><td>4130</td><td>46136</td><td>72967</td><td>561</td><td>43058</td><td>11396</td><td>1000</td><td>917</td><td>963</td><td>53</td><td>476</td><td>3440</td><td>306</td><td>470</td><td>17</td><td>25728</td><td>20098</td><td>23952</td><td>258</td><td>1</td><td>2</td><td>2</td><td>2</td><td>2</td><td>2422</td><td>65007</td></tr><tr><td>&quot;BBB&quot;</td><td>544630</td><td>242</td><td>12256</td><td>398878</td><td>397561</td><td>397561</td><td>398871</td><td>401156</td><td>401161</td><td>399791</td><td>18</td><td>541124</td><td>474088</td><td>540648</td><td>4844</td><td>1542</td><td>318787</td><td>318778</td><td>10076</td><td>541098</td><td>18</td><td>465641</td><td>437358</td><td>31889</td><td>24</td><td>2</td><td>1</td><td>479149</td><td>502297</td><td>226337</td><td>502299</td><td>502299</td><td>435226</td><td>423399</td><td>448075</td><td>772</td><td>&hellip;</td><td>3064</td><td>4</td><td>4870</td><td>5</td><td>23</td><td>17</td><td>4</td><td>20</td><td>16</td><td>3</td><td>1</td><td>5041</td><td>126222</td><td>530978</td><td>1113</td><td>88084</td><td>15452</td><td>1479</td><td>1339</td><td>1441</td><td>88</td><td>561</td><td>5242</td><td>431</td><td>535</td><td>27</td><td>39540</td><td>35506</td><td>38281</td><td>299</td><td>1</td><td>48</td><td>4</td><td>3</td><td>50</td><td>5158</td><td>458156</td></tr><tr><td>&quot;AAA&quot;</td><td>17555</td><td>242</td><td>467</td><td>14077</td><td>14033</td><td>14033</td><td>14077</td><td>14144</td><td>14144</td><td>14099</td><td>2</td><td>17429</td><td>14521</td><td>17434</td><td>217</td><td>108</td><td>14865</td><td>14865</td><td>5116</td><td>17429</td><td>11</td><td>15474</td><td>14802</td><td>1110</td><td>24</td><td>2</td><td>1</td><td>16397</td><td>16429</td><td>15296</td><td>16429</td><td>16429</td><td>13553</td><td>15355</td><td>16220</td><td>196</td><td>&hellip;</td><td>384</td><td>3</td><td>218</td><td>2</td><td>8</td><td>11</td><td>2</td><td>7</td><td>10</td><td>1</td><td>1</td><td>2355</td><td>13813</td><td>17540</td><td>429</td><td>14740</td><td>6837</td><td>738</td><td>675</td><td>728</td><td>31</td><td>342</td><td>1328</td><td>181</td><td>426</td><td>10</td><td>11838</td><td>7627</td><td>10503</td><td>222</td><td>1</td><td>1</td><td>1</td><td>1</td><td>1</td><td>1847</td><td>15520</td></tr><tr><td>&quot;A&quot;</td><td>435449</td><td>242</td><td>10260</td><td>322518</td><td>321667</td><td>321664</td><td>322517</td><td>324608</td><td>324610</td><td>323715</td><td>11</td><td>433204</td><td>381310</td><td>432996</td><td>2649</td><td>1084</td><td>265288</td><td>265276</td><td>10078</td><td>433190</td><td>18</td><td>374518</td><td>352101</td><td>25742</td><td>25</td><td>2</td><td>1</td><td>387821</td><td>403059</td><td>201037</td><td>403059</td><td>403059</td><td>348604</td><td>343282</td><td>363608</td><td>746</td><td>&hellip;</td><td>3530</td><td>4</td><td>2652</td><td>5</td><td>20</td><td>17</td><td>4</td><td>19</td><td>16</td><td>3</td><td>1</td><td>5034</td><td>109617</td><td>426065</td><td>958</td><td>74982</td><td>16406</td><td>1333</td><td>1225</td><td>1300</td><td>114</td><td>603</td><td>6553</td><td>409</td><td>511</td><td>36</td><td>37767</td><td>33110</td><td>36405</td><td>354</td><td>1</td><td>15</td><td>3</td><td>3</td><td>15</td><td>4020</td><td>368942</td></tr><tr><td>&quot;C&quot;</td><td>1094</td><td>225</td><td>234</td><td>756</td><td>765</td><td>765</td><td>739</td><td>836</td><td>849</td><td>813</td><td>10</td><td>1010</td><td>962</td><td>938</td><td>181</td><td>93</td><td>885</td><td>885</td><td>576</td><td>1029</td><td>17</td><td>961</td><td>914</td><td>211</td><td>23</td><td>1</td><td>2</td><td>1022</td><td>1022</td><td>959</td><td>1022</td><td>1022</td><td>917</td><td>927</td><td>1011</td><td>79</td><td>&hellip;</td><td>189</td><td>1</td><td>182</td><td>2</td><td>8</td><td>12</td><td>2</td><td>7</td><td>11</td><td>1</td><td>1</td><td>573</td><td>1063</td><td>1093</td><td>520</td><td>1046</td><td>878</td><td>640</td><td>454</td><td>591</td><td>11</td><td>187</td><td>223</td><td>62</td><td>398</td><td>3</td><td>985</td><td>440</td><td>816</td><td>42</td><td>1</td><td>94</td><td>4</td><td>3</td><td>89</td><td>467</td><td>936</td></tr><tr><td>&hellip;</td><td>&hellip;</td><td>&hellip;</td><td>&hellip;</td><td>&hellip;</td><td>&hellip;</td><td>&hellip;</td><td>&hellip;</td><td>&hellip;</td><td>&hellip;</td><td>&hellip;</td><td>&hellip;</td><td>&hellip;</td><td>&hellip;</td><td>&hellip;</td><td>&hellip;</td><td>&hellip;</td><td>&hellip;</td><td>&hellip;</td><td>&hellip;</td><td>&hellip;</td><td>&hellip;</td><td>&hellip;</td><td>&hellip;</td><td>&hellip;</td><td>&hellip;</td><td>&hellip;</td><td>&hellip;</td><td>&hellip;</td><td>&hellip;</td><td>&hellip;</td><td>&hellip;</td><td>&hellip;</td><td>&hellip;</td><td>&hellip;</td><td>&hellip;</td><td>&hellip;</td><td>&hellip;</td><td>&hellip;</td><td>&hellip;</td><td>&hellip;</td><td>&hellip;</td><td>&hellip;</td><td>&hellip;</td><td>&hellip;</td><td>&hellip;</td><td>&hellip;</td><td>&hellip;</td><td>&hellip;</td><td>&hellip;</td><td>&hellip;</td><td>&hellip;</td><td>&hellip;</td><td>&hellip;</td><td>&hellip;</td><td>&hellip;</td><td>&hellip;</td><td>&hellip;</td><td>&hellip;</td><td>&hellip;</td><td>&hellip;</td><td>&hellip;</td><td>&hellip;</td><td>&hellip;</td><td>&hellip;</td><td>&hellip;</td><td>&hellip;</td><td>&hellip;</td><td>&hellip;</td><td>&hellip;</td><td>&hellip;</td><td>&hellip;</td><td>&hellip;</td><td>&hellip;</td><td>&hellip;</td></tr><tr><td>null</td><td>22</td><td>6</td><td>20</td><td>5</td><td>5</td><td>5</td><td>5</td><td>8</td><td>8</td><td>8</td><td>8</td><td>22</td><td>15</td><td>20</td><td>18</td><td>15</td><td>11</td><td>11</td><td>22</td><td>22</td><td>9</td><td>4</td><td>4</td><td>4</td><td>5</td><td>2</td><td>1</td><td>7</td><td>7</td><td>7</td><td>7</td><td>7</td><td>7</td><td>11</td><td>7</td><td>18</td><td>&hellip;</td><td>1</td><td>1</td><td>1</td><td>1</td><td>1</td><td>1</td><td>1</td><td>1</td><td>1</td><td>1</td><td>1</td><td>1</td><td>1</td><td>1</td><td>1</td><td>1</td><td>1</td><td>1</td><td>1</td><td>1</td><td>1</td><td>1</td><td>1</td><td>1</td><td>1</td><td>1</td><td>1</td><td>1</td><td>1</td><td>1</td><td>1</td><td>1</td><td>1</td><td>1</td><td>1</td><td>7</td><td>11</td></tr><tr><td>&quot;CC&quot;</td><td>2860</td><td>222</td><td>456</td><td>1926</td><td>1947</td><td>1946</td><td>1910</td><td>2016</td><td>2024</td><td>1991</td><td>8</td><td>2768</td><td>2493</td><td>2707</td><td>347</td><td>148</td><td>1953</td><td>1953</td><td>848</td><td>2798</td><td>18</td><td>2356</td><td>2181</td><td>422</td><td>23</td><td>1</td><td>2</td><td>2583</td><td>2583</td><td>2175</td><td>2583</td><td>2583</td><td>2202</td><td>2260</td><td>2522</td><td>111</td><td>&hellip;</td><td>297</td><td>2</td><td>348</td><td>2</td><td>11</td><td>18</td><td>2</td><td>10</td><td>16</td><td>1</td><td>1</td><td>1103</td><td>2596</td><td>2855</td><td>630</td><td>2636</td><td>1992</td><td>916</td><td>716</td><td>869</td><td>12</td><td>224</td><td>362</td><td>89</td><td>519</td><td>3</td><td>2498</td><td>996</td><td>1925</td><td>52</td><td>1</td><td>136</td><td>4</td><td>3</td><td>128</td><td>614</td><td>2330</td></tr><tr><td>&quot;D&quot;</td><td>1786</td><td>201</td><td>592</td><td>939</td><td>970</td><td>965</td><td>921</td><td>1054</td><td>1083</td><td>1293</td><td>2</td><td>1584</td><td>1524</td><td>1480</td><td>448</td><td>166</td><td>1373</td><td>1373</td><td>807</td><td>1633</td><td>18</td><td>1583</td><td>1530</td><td>445</td><td>23</td><td>1</td><td>2</td><td>1674</td><td>1674</td><td>1485</td><td>1674</td><td>1674</td><td>1502</td><td>1504</td><td>1640</td><td>136</td><td>&hellip;</td><td>384</td><td>2</td><td>451</td><td>2</td><td>11</td><td>17</td><td>2</td><td>10</td><td>14</td><td>1</td><td>1</td><td>673</td><td>1700</td><td>1785</td><td>628</td><td>1692</td><td>1305</td><td>812</td><td>624</td><td>756</td><td>10</td><td>202</td><td>315</td><td>86</td><td>445</td><td>2</td><td>1258</td><td>479</td><td>1013</td><td>54</td><td>1</td><td>219</td><td>4</td><td>3</td><td>215</td><td>759</td><td>1533</td></tr><tr><td>&quot;CCC&quot;</td><td>38023</td><td>242</td><td>1724</td><td>27306</td><td>27324</td><td>27323</td><td>27279</td><td>27590</td><td>27604</td><td>27556</td><td>17</td><td>37687</td><td>33663</td><td>37543</td><td>1373</td><td>408</td><td>20854</td><td>20854</td><td>2768</td><td>37818</td><td>18</td><td>32835</td><td>30885</td><td>2705</td><td>24</td><td>1</td><td>2</td><td>35224</td><td>35258</td><td>22027</td><td>35258</td><td>35258</td><td>30593</td><td>28134</td><td>30937</td><td>185</td><td>&hellip;</td><td>587</td><td>3</td><td>1388</td><td>4</td><td>15</td><td>20</td><td>4</td><td>14</td><td>18</td><td>3</td><td>1</td><td>3325</td><td>27533</td><td>37695</td><td>1055</td><td>32998</td><td>9075</td><td>1209</td><td>1158</td><td>1199</td><td>30</td><td>350</td><td>764</td><td>169</td><td>595</td><td>9</td><td>20711</td><td>10479</td><td>17398</td><td>58</td><td>1</td><td>265</td><td>5</td><td>3</td><td>250</td><td>1190</td><td>31664</td></tr><tr><td>&quot;B&quot;</td><td>110331</td><td>242</td><td>4164</td><td>81482</td><td>81382</td><td>81378</td><td>81400</td><td>81485</td><td>81563</td><td>81473</td><td>13</td><td>109792</td><td>94814</td><td>109627</td><td>2685</td><td>964</td><td>55189</td><td>55191</td><td>4335</td><td>109685</td><td>18</td><td>96688</td><td>91300</td><td>6441</td><td>24</td><td>1</td><td>2</td><td>102258</td><td>103029</td><td>53113</td><td>103023</td><td>103023</td><td>86201</td><td>73681</td><td>79244</td><td>235</td><td>&hellip;</td><td>835</td><td>4</td><td>2710</td><td>5</td><td>21</td><td>20</td><td>4</td><td>19</td><td>19</td><td>3</td><td>1</td><td>4085</td><td>59508</td><td>108600</td><td>974</td><td>67446</td><td>10455</td><td>1261</td><td>1146</td><td>1229</td><td>39</td><td>528</td><td>1516</td><td>227</td><td>623</td><td>18</td><td>32949</td><td>21324</td><td>29962</td><td>159</td><td>1</td><td>237</td><td>5</td><td>3</td><td>224</td><td>1543</td><td>93029</td></tr></tbody></table></div>"
      ]
     },
     "execution_count": 5,
     "metadata": {},
     "output_type": "execute_result"
    }
   ],
   "execution_count": 5
  },
  {
   "metadata": {},
   "cell_type": "markdown",
   "source": "Group by rating macro-categories",
   "id": "dd4d4a13bb305769"
  },
  {
   "metadata": {
    "ExecuteTime": {
     "end_time": "2024-04-25T22:51:21.169423Z",
     "start_time": "2024-04-25T22:51:21.091771Z"
    }
   },
   "cell_type": "code",
   "source": [
    "with pl.Config(tbl_rows=15): \n",
    "    print(bond_data.select('RATING_CAT').unique().to_series())"
   ],
   "id": "d15bdffae4577895",
   "outputs": [
    {
     "name": "stdout",
     "output_type": "stream",
     "text": [
      "shape: (12,)\n",
      "Series: 'RATING_CAT' [str]\n",
      "[\n",
      "\tnull\n",
      "\t\"CC\"\n",
      "\t\"C\"\n",
      "\t\"CCC\"\n",
      "\t\"B\"\n",
      "\t\"AAA\"\n",
      "\t\"A\"\n",
      "\t\"BB\"\n",
      "\t\"BBB\"\n",
      "\t\"NR\"\n",
      "\t\"D\"\n",
      "\t\"AA\"\n",
      "]\n"
     ]
    }
   ],
   "execution_count": 6
  },
  {
   "metadata": {
    "ExecuteTime": {
     "end_time": "2024-04-25T22:51:22.421373Z",
     "start_time": "2024-04-25T22:51:22.324488Z"
    }
   },
   "cell_type": "code",
   "source": [
    "rating_groups = {\n",
    "    'A': ['A', 'AA', 'AAA'],\n",
    "    'B': ['B', 'BB', 'BBB'],\n",
    "}# C is all others\n",
    "\n",
    "bond_data_with_ratings = bond_data.with_columns(\n",
    "    rating_bucket=pl\n",
    "        .when(pl.col('RATING_CAT').is_in(rating_groups['A'])).then(pl.lit('A'))\n",
    "        .when(pl.col('RATING_CAT').is_in(rating_groups['B'])).then(pl.lit('B')).otherwise(pl.lit('C'))\n",
    ")\n",
    "bond_data = bond_data_with_ratings"
   ],
   "id": "1a55de1ccf5d2cca",
   "outputs": [],
   "execution_count": 7
  },
  {
   "metadata": {},
   "cell_type": "markdown",
   "source": "Group by industry number",
   "id": "78634c76fa52f4f6"
  },
  {
   "metadata": {
    "ExecuteTime": {
     "end_time": "2024-04-25T22:51:23.299147Z",
     "start_time": "2024-04-25T22:51:23.295177Z"
    }
   },
   "cell_type": "code",
   "source": "bond_data.select(['ind_num_17']).null_count()",
   "id": "475d91e0e35b6710",
   "outputs": [
    {
     "data": {
      "text/plain": [
       "shape: (1, 1)\n",
       "┌────────────┐\n",
       "│ ind_num_17 │\n",
       "│ ---        │\n",
       "│ u32        │\n",
       "╞════════════╡\n",
       "│ 344629     │\n",
       "└────────────┘"
      ],
      "text/html": [
       "<div><style>\n",
       ".dataframe > thead > tr,\n",
       ".dataframe > tbody > tr {\n",
       "  text-align: right;\n",
       "  white-space: pre-wrap;\n",
       "}\n",
       "</style>\n",
       "<small>shape: (1, 1)</small><table border=\"1\" class=\"dataframe\"><thead><tr><th>ind_num_17</th></tr><tr><td>u32</td></tr></thead><tbody><tr><td>344629</td></tr></tbody></table></div>"
      ]
     },
     "execution_count": 8,
     "metadata": {},
     "output_type": "execute_result"
    }
   ],
   "execution_count": 8
  },
  {
   "metadata": {
    "ExecuteTime": {
     "end_time": "2024-04-25T22:51:24.843004Z",
     "start_time": "2024-04-25T22:51:23.743220Z"
    }
   },
   "cell_type": "code",
   "source": "bond_data.group_by(['ind_num_17', 'date']).n_unique().min()",
   "id": "4c6f288611f716fe",
   "outputs": [
    {
     "data": {
      "text/plain": [
       "shape: (1, 92)\n",
       "┌────────────┬────────────┬─────┬───────┬───┬─────────────────┬──────────┬─────┬───────────────┐\n",
       "│ ind_num_17 ┆ date       ┆     ┆ cusip ┆ … ┆ REINSTATED_DATE ┆ DURATION ┆ oas ┆ rating_bucket │\n",
       "│ ---        ┆ ---        ┆ --- ┆ ---   ┆   ┆ ---             ┆ ---      ┆ --- ┆ ---           │\n",
       "│ f64        ┆ date       ┆ u32 ┆ u32   ┆   ┆ u32             ┆ u32      ┆ u32 ┆ u32           │\n",
       "╞════════════╪════════════╪═════╪═══════╪═══╪═════════════════╪══════════╪═════╪═══════════════╡\n",
       "│ 1.0        ┆ 2002-08-31 ┆ 8   ┆ 8     ┆ … ┆ 1               ┆ 8        ┆ 5   ┆ 1             │\n",
       "└────────────┴────────────┴─────┴───────┴───┴─────────────────┴──────────┴─────┴───────────────┘"
      ],
      "text/html": [
       "<div><style>\n",
       ".dataframe > thead > tr,\n",
       ".dataframe > tbody > tr {\n",
       "  text-align: right;\n",
       "  white-space: pre-wrap;\n",
       "}\n",
       "</style>\n",
       "<small>shape: (1, 92)</small><table border=\"1\" class=\"dataframe\"><thead><tr><th>ind_num_17</th><th>date</th><th></th><th>cusip</th><th>exretn_t+1</th><th>exretnc_t+1</th><th>exretnc_dur_t+1</th><th>bond_ret_t+1</th><th>bond_ret</th><th>exretn</th><th>exretnc_dur</th><th>rating</th><th>cs</th><th>cs_6m_delta</th><th>bond_yield</th><th>bond_amount_out</th><th>offering_amt</th><th>bondprc</th><th>perc_par</th><th>tmt</th><th>duration</th><th>BOND_RET</th><th>ILLIQ</th><th>var95</th><th>n_trades_month</th><th>size_ig</th><th>size_jk</th><th>BOND_YIELD</th><th>CS</th><th>BONDPRC</th><th>PRFULL</th><th>CONVEXITY</th><th>CS_6M_DELTA</th><th>bond_value</th><th>BOND_VALUE</th><th>coupon</th><th>bond_type</th><th>&hellip;</th><th>AMOUNT_OUTSTANDING</th><th>R_SP</th><th>R_MR</th><th>R_FR</th><th>N_SP</th><th>N_MR</th><th>N_FR</th><th>RATING_NUM</th><th>RATING_CAT</th><th>RATING_CLASS</th><th>T_DATE</th><th>T_Volume</th><th>T_DVolume</th><th>T_Spread</th><th>T_Yld_Pt</th><th>YIELD</th><th>PRICE_EOM</th><th>PRICE_LDM</th><th>PRICE_L5M</th><th>GAP</th><th>COUPMONTH</th><th>nextcoup</th><th>COUPAMT</th><th>COUPACC</th><th>MULTICOUPS</th><th>RET_EOM</th><th>RET_LDM</th><th>RET_L5M</th><th>REMCOUPS</th><th>DEFAULTED</th><th>DEFAULT_DATE</th><th>DEFAULT_TYPE</th><th>REINSTATED</th><th>REINSTATED_DATE</th><th>DURATION</th><th>oas</th><th>rating_bucket</th></tr><tr><td>f64</td><td>date</td><td>u32</td><td>u32</td><td>u32</td><td>u32</td><td>u32</td><td>u32</td><td>u32</td><td>u32</td><td>u32</td><td>u32</td><td>u32</td><td>u32</td><td>u32</td><td>u32</td><td>u32</td><td>u32</td><td>u32</td><td>u32</td><td>u32</td><td>u32</td><td>u32</td><td>u32</td><td>u32</td><td>u32</td><td>u32</td><td>u32</td><td>u32</td><td>u32</td><td>u32</td><td>u32</td><td>u32</td><td>u32</td><td>u32</td><td>u32</td><td>u32</td><td>&hellip;</td><td>u32</td><td>u32</td><td>u32</td><td>u32</td><td>u32</td><td>u32</td><td>u32</td><td>u32</td><td>u32</td><td>u32</td><td>u32</td><td>u32</td><td>u32</td><td>u32</td><td>u32</td><td>u32</td><td>u32</td><td>u32</td><td>u32</td><td>u32</td><td>u32</td><td>u32</td><td>u32</td><td>u32</td><td>u32</td><td>u32</td><td>u32</td><td>u32</td><td>u32</td><td>u32</td><td>u32</td><td>u32</td><td>u32</td><td>u32</td><td>u32</td><td>u32</td><td>u32</td></tr></thead><tbody><tr><td>1.0</td><td>2002-08-31</td><td>8</td><td>8</td><td>1</td><td>1</td><td>1</td><td>1</td><td>3</td><td>3</td><td>3</td><td>4</td><td>8</td><td>8</td><td>8</td><td>5</td><td>5</td><td>5</td><td>5</td><td>8</td><td>8</td><td>8</td><td>7</td><td>2</td><td>6</td><td>1</td><td>1</td><td>8</td><td>8</td><td>8</td><td>8</td><td>8</td><td>1</td><td>5</td><td>8</td><td>8</td><td>1</td><td>&hellip;</td><td>5</td><td>4</td><td>4</td><td>2</td><td>4</td><td>4</td><td>1</td><td>4</td><td>2</td><td>1</td><td>1</td><td>8</td><td>8</td><td>8</td><td>8</td><td>8</td><td>8</td><td>1</td><td>5</td><td>1</td><td>7</td><td>5</td><td>1</td><td>8</td><td>1</td><td>8</td><td>1</td><td>3</td><td>7</td><td>1</td><td>1</td><td>1</td><td>1</td><td>1</td><td>8</td><td>5</td><td>1</td></tr></tbody></table></div>"
      ]
     },
     "execution_count": 9,
     "metadata": {},
     "output_type": "execute_result"
    }
   ],
   "execution_count": 9
  },
  {
   "metadata": {
    "ExecuteTime": {
     "end_time": "2024-04-25T22:51:24.878288Z",
     "start_time": "2024-04-25T22:51:24.853430Z"
    }
   },
   "cell_type": "code",
   "source": [
    "bond_data = bond_data.with_columns(\n",
    "    industry_bucket=(pl.col('ind_num_17') % 3)\n",
    ")\n",
    "bond_data.select('industry_bucket')"
   ],
   "id": "a73074e64b7b581f",
   "outputs": [
    {
     "data": {
      "text/plain": [
       "shape: (1_357_235, 1)\n",
       "┌─────────────────┐\n",
       "│ industry_bucket │\n",
       "│ ---             │\n",
       "│ f64             │\n",
       "╞═════════════════╡\n",
       "│ null            │\n",
       "│ null            │\n",
       "│ null            │\n",
       "│ 1.0             │\n",
       "│ 1.0             │\n",
       "│ …               │\n",
       "│ 1.0             │\n",
       "│ 1.0             │\n",
       "│ 1.0             │\n",
       "│ 1.0             │\n",
       "│ null            │\n",
       "└─────────────────┘"
      ],
      "text/html": [
       "<div><style>\n",
       ".dataframe > thead > tr,\n",
       ".dataframe > tbody > tr {\n",
       "  text-align: right;\n",
       "  white-space: pre-wrap;\n",
       "}\n",
       "</style>\n",
       "<small>shape: (1_357_235, 1)</small><table border=\"1\" class=\"dataframe\"><thead><tr><th>industry_bucket</th></tr><tr><td>f64</td></tr></thead><tbody><tr><td>null</td></tr><tr><td>null</td></tr><tr><td>null</td></tr><tr><td>1.0</td></tr><tr><td>1.0</td></tr><tr><td>&hellip;</td></tr><tr><td>1.0</td></tr><tr><td>1.0</td></tr><tr><td>1.0</td></tr><tr><td>1.0</td></tr><tr><td>null</td></tr></tbody></table></div>"
      ]
     },
     "execution_count": 10,
     "metadata": {},
     "output_type": "execute_result"
    }
   ],
   "execution_count": 10
  },
  {
   "metadata": {
    "ExecuteTime": {
     "end_time": "2024-04-25T22:51:25.437532Z",
     "start_time": "2024-04-25T22:51:25.145671Z"
    }
   },
   "cell_type": "code",
   "source": "bond_data.group_by(['date', 'industry_bucket', 'rating_bucket']).mean()",
   "id": "29b8cb31ea97ec8a",
   "outputs": [
    {
     "data": {
      "text/plain": [
       "shape: (2_904, 93)\n",
       "┌────────────┬────────────┬────────────┬────────────┬───┬────────────┬────────────┬──────────┬─────┐\n",
       "│ date       ┆ industry_b ┆ rating_buc ┆            ┆ … ┆ REINSTATED ┆ REINSTATED ┆ DURATION ┆ oas │\n",
       "│ ---        ┆ ucket      ┆ ket        ┆ ---        ┆   ┆ ---        ┆ _DATE      ┆ ---      ┆ --- │\n",
       "│ date       ┆ ---        ┆ ---        ┆ f64        ┆   ┆ str        ┆ ---        ┆ f64      ┆ f64 │\n",
       "│            ┆ f64        ┆ str        ┆            ┆   ┆            ┆ str        ┆          ┆     │\n",
       "╞════════════╪════════════╪════════════╪════════════╪═══╪════════════╪════════════╪══════════╪═════╡\n",
       "│ 2011-02-28 ┆ 1.0        ┆ C          ┆ 968650.062 ┆ … ┆ null       ┆ null       ┆ 3.534063 ┆ NaN │\n",
       "│            ┆            ┆            ┆ 5          ┆   ┆            ┆            ┆          ┆     │\n",
       "│ 2010-12-31 ┆ null       ┆ A          ┆ 679773.191 ┆ … ┆ null       ┆ null       ┆ 7.040313 ┆ NaN │\n",
       "│            ┆            ┆            ┆ 413        ┆   ┆            ┆            ┆          ┆     │\n",
       "│ 2004-06-30 ┆ 0.0        ┆ A          ┆ 772660.976 ┆ … ┆ null       ┆ null       ┆ 6.270698 ┆ NaN │\n",
       "│            ┆            ┆            ┆ 923        ┆   ┆            ┆            ┆          ┆     │\n",
       "│ 2017-11-30 ┆ 0.0        ┆ B          ┆ 686334.870 ┆ … ┆ null       ┆ null       ┆ 6.80502  ┆ NaN │\n",
       "│            ┆            ┆            ┆ 201        ┆   ┆            ┆            ┆          ┆     │\n",
       "│ 2013-05-31 ┆ 2.0        ┆ C          ┆ 627721.008 ┆ … ┆ null       ┆ null       ┆ 4.146518 ┆ NaN │\n",
       "│            ┆            ┆            ┆ 929        ┆   ┆            ┆            ┆          ┆     │\n",
       "│ …          ┆ …          ┆ …          ┆ …          ┆ … ┆ …          ┆ …          ┆ …        ┆ …   │\n",
       "│ 2009-12-31 ┆ 0.0        ┆ B          ┆ 733643.154 ┆ … ┆ null       ┆ null       ┆ 5.327415 ┆ NaN │\n",
       "│            ┆            ┆            ┆ 047        ┆   ┆            ┆            ┆          ┆     │\n",
       "│ 2004-08-31 ┆ null       ┆ B          ┆ 721609.620 ┆ … ┆ null       ┆ null       ┆ 4.757582 ┆ NaN │\n",
       "│            ┆            ┆            ┆ 828        ┆   ┆            ┆            ┆          ┆     │\n",
       "│ 2019-05-31 ┆ 1.0        ┆ B          ┆ 660990.433 ┆ … ┆ null       ┆ null       ┆ 6.3151   ┆ NaN │\n",
       "│            ┆            ┆            ┆ 613        ┆   ┆            ┆            ┆          ┆     │\n",
       "│ 2019-08-31 ┆ 1.0        ┆ B          ┆ 667371.158 ┆ … ┆ null       ┆ null       ┆ 6.486938 ┆ NaN │\n",
       "│            ┆            ┆            ┆ 375        ┆   ┆            ┆            ┆          ┆     │\n",
       "│ 2013-08-31 ┆ 1.0        ┆ C          ┆ 833456.178 ┆ … ┆ null       ┆ null       ┆ 3.922857 ┆ NaN │\n",
       "│            ┆            ┆            ┆ 571        ┆   ┆            ┆            ┆          ┆     │\n",
       "└────────────┴────────────┴────────────┴────────────┴───┴────────────┴────────────┴──────────┴─────┘"
      ],
      "text/html": [
       "<div><style>\n",
       ".dataframe > thead > tr,\n",
       ".dataframe > tbody > tr {\n",
       "  text-align: right;\n",
       "  white-space: pre-wrap;\n",
       "}\n",
       "</style>\n",
       "<small>shape: (2_904, 93)</small><table border=\"1\" class=\"dataframe\"><thead><tr><th>date</th><th>industry_bucket</th><th>rating_bucket</th><th></th><th>cusip</th><th>exretn_t+1</th><th>exretnc_t+1</th><th>exretnc_dur_t+1</th><th>bond_ret_t+1</th><th>bond_ret</th><th>exretn</th><th>exretnc_dur</th><th>rating</th><th>cs</th><th>cs_6m_delta</th><th>bond_yield</th><th>bond_amount_out</th><th>offering_amt</th><th>bondprc</th><th>perc_par</th><th>tmt</th><th>duration</th><th>ind_num_17</th><th>BOND_RET</th><th>ILLIQ</th><th>var95</th><th>n_trades_month</th><th>size_ig</th><th>size_jk</th><th>BOND_YIELD</th><th>CS</th><th>BONDPRC</th><th>PRFULL</th><th>CONVEXITY</th><th>CS_6M_DELTA</th><th>bond_value</th><th>BOND_VALUE</th><th>&hellip;</th><th>NCOUPS</th><th>AMOUNT_OUTSTANDING</th><th>R_SP</th><th>R_MR</th><th>R_FR</th><th>N_SP</th><th>N_MR</th><th>N_FR</th><th>RATING_NUM</th><th>RATING_CAT</th><th>RATING_CLASS</th><th>T_DATE</th><th>T_Volume</th><th>T_DVolume</th><th>T_Spread</th><th>T_Yld_Pt</th><th>YIELD</th><th>PRICE_EOM</th><th>PRICE_LDM</th><th>PRICE_L5M</th><th>GAP</th><th>COUPMONTH</th><th>nextcoup</th><th>COUPAMT</th><th>COUPACC</th><th>MULTICOUPS</th><th>RET_EOM</th><th>RET_LDM</th><th>RET_L5M</th><th>REMCOUPS</th><th>DEFAULTED</th><th>DEFAULT_DATE</th><th>DEFAULT_TYPE</th><th>REINSTATED</th><th>REINSTATED_DATE</th><th>DURATION</th><th>oas</th></tr><tr><td>date</td><td>f64</td><td>str</td><td>f64</td><td>str</td><td>f64</td><td>f64</td><td>f64</td><td>f64</td><td>f64</td><td>f64</td><td>f64</td><td>f64</td><td>f64</td><td>f64</td><td>f64</td><td>f64</td><td>f64</td><td>f64</td><td>f64</td><td>f64</td><td>f64</td><td>f64</td><td>f64</td><td>f64</td><td>f64</td><td>f64</td><td>f64</td><td>f64</td><td>f64</td><td>f64</td><td>f64</td><td>f64</td><td>f64</td><td>f64</td><td>f64</td><td>f64</td><td>&hellip;</td><td>f64</td><td>f64</td><td>str</td><td>str</td><td>str</td><td>f64</td><td>f64</td><td>f64</td><td>f64</td><td>str</td><td>str</td><td>date</td><td>str</td><td>str</td><td>str</td><td>f64</td><td>str</td><td>f64</td><td>f64</td><td>f64</td><td>f64</td><td>f64</td><td>date</td><td>f64</td><td>f64</td><td>f64</td><td>str</td><td>str</td><td>str</td><td>f64</td><td>str</td><td>str</td><td>str</td><td>str</td><td>str</td><td>f64</td><td>f64</td></tr></thead><tbody><tr><td>2011-02-28</td><td>1.0</td><td>&quot;C&quot;</td><td>968650.0625</td><td>null</td><td>0.00739</td><td>0.009231</td><td>0.009282</td><td>0.00749</td><td>0.019096</td><td>0.018996</td><td>0.022523</td><td>17.53125</td><td>0.090609</td><td>-0.271098</td><td>0.104397</td><td>390990.6875</td><td>470344.21875</td><td>94.612329</td><td>0.946123</td><td>61.547917</td><td>3.533671</td><td>12.25</td><td>0.011437</td><td>1.575204</td><td>0.152514</td><td>10.551724</td><td>1.0</td><td>1.0</td><td>0.105644</td><td>0.090902</td><td>94.258819</td><td>97.0341</td><td>20.352334</td><td>-0.277056</td><td>3.9252e7</td><td>3.9202e7</td><td>&hellip;</td><td>2.0</td><td>390990.6875</td><td>null</td><td>null</td><td>null</td><td>17.633333</td><td>17.2</td><td>14.555556</td><td>17.633333</td><td>null</td><td>null</td><td>2011-02-26</td><td>null</td><td>null</td><td>null</td><td>9.785404</td><td>null</td><td>94.671875</td><td>95.126316</td><td>94.616129</td><td>1.0</td><td>48.866667</td><td>2011-04-16</td><td>0.0878125</td><td>2.857187</td><td>1.0</td><td>null</td><td>null</td><td>null</td><td>10.84375</td><td>null</td><td>null</td><td>null</td><td>null</td><td>null</td><td>3.534063</td><td>NaN</td></tr><tr><td>2010-12-31</td><td>null</td><td>&quot;A&quot;</td><td>679773.191413</td><td>null</td><td>0.009444</td><td>0.014495</td><td>0.008101</td><td>0.009544</td><td>-0.013202</td><td>-0.013302</td><td>0.010168</td><td>5.751342</td><td>0.020895</td><td>-0.150439</td><td>0.04161</td><td>164538.841302</td><td>199953.919499</td><td>109.093078</td><td>1.090931</td><td>137.35653</td><td>7.069343</td><td>null</td><td>-0.007715</td><td>1.5296</td><td>0.058604</td><td>7.491139</td><td>0.001789</td><td>1.0</td><td>0.04226</td><td>0.019408</td><td>109.311567</td><td>110.699094</td><td>87.12674</td><td>-0.097208</td><td>1.9788e7</td><td>1.9354e7</td><td>&hellip;</td><td>2.486583</td><td>164538.841302</td><td>null</td><td>null</td><td>null</td><td>5.751351</td><td>6.092764</td><td>5.92</td><td>5.753131</td><td>null</td><td>null</td><td>2010-12-24</td><td>null</td><td>null</td><td>null</td><td>4.612397</td><td>null</td><td>127.00644</td><td>108.731481</td><td>109.095157</td><td>1.419238</td><td>109.411111</td><td>2011-04-01</td><td>0.724544</td><td>1.427406</td><td>1.037567</td><td>null</td><td>null</td><td>null</td><td>31.692308</td><td>null</td><td>null</td><td>null</td><td>null</td><td>null</td><td>7.040313</td><td>NaN</td></tr><tr><td>2004-06-30</td><td>0.0</td><td>&quot;A&quot;</td><td>772660.976923</td><td>null</td><td>0.011827</td><td>0.003685</td><td>0.00511</td><td>0.012827</td><td>0.00131</td><td>0.00051</td><td>-0.00451</td><td>5.269231</td><td>0.011422</td><td>-0.039971</td><td>0.049054</td><td>495875.130769</td><td>480176.4</td><td>107.56534</td><td>1.075653</td><td>122.634615</td><td>6.27128</td><td>8.723077</td><td>0.006485</td><td>0.87725</td><td>0.034624</td><td>11.478632</td><td>1.0</td><td>1.0</td><td>0.048868</td><td>0.009991</td><td>107.216445</td><td>108.946226</td><td>71.570354</td><td>-0.065466</td><td>5.6970e7</td><td>5.4613e7</td><td>&hellip;</td><td>2.0</td><td>495875.130769</td><td>null</td><td>null</td><td>null</td><td>5.302326</td><td>5.555556</td><td>5.47561</td><td>5.292308</td><td>null</td><td>null</td><td>2004-06-28</td><td>null</td><td>null</td><td>null</td><td>4.895875</td><td>null</td><td>107.493846</td><td>106.822093</td><td>107.565179</td><td>1.053846</td><td>57.015748</td><td>2004-09-24</td><td>0.386923</td><td>1.723692</td><td>1.0</td><td>null</td><td>null</td><td>null</td><td>20.676923</td><td>null</td><td>null</td><td>null</td><td>null</td><td>null</td><td>6.270698</td><td>NaN</td></tr><tr><td>2017-11-30</td><td>0.0</td><td>&quot;B&quot;</td><td>686334.870201</td><td>null</td><td>0.007847</td><td>0.005249</td><td>0.007741</td><td>0.008747</td><td>0.002544</td><td>0.001744</td><td>0.004513</td><td>10.25777</td><td>0.021491</td><td>-0.181165</td><td>0.043065</td><td>696968.659568</td><td>711397.246405</td><td>104.963336</td><td>1.049633</td><td>121.821755</td><td>6.806399</td><td>7.83181</td><td>0.001216</td><td>0.1334</td><td>0.049565</td><td>14.797422</td><td>1.0</td><td>1.0</td><td>0.042877</td><td>0.021587</td><td>105.116596</td><td>106.268702</td><td>86.733024</td><td>-0.151957</td><td>7.4202e7</td><td>7.3600e7</td><td>&hellip;</td><td>2.0</td><td>696929.567369</td><td>null</td><td>null</td><td>null</td><td>10.25777</td><td>10.728782</td><td>9.497093</td><td>10.25777</td><td>null</td><td>null</td><td>2017-11-29</td><td>null</td><td>null</td><td>null</td><td>3.980182</td><td>null</td><td>105.063071</td><td>104.448837</td><td>104.964607</td><td>1.003697</td><td>55.60735</td><td>2018-02-27</td><td>0.483711</td><td>1.233821</td><td>1.0</td><td>null</td><td>null</td><td>null</td><td>20.521024</td><td>null</td><td>null</td><td>null</td><td>null</td><td>null</td><td>6.80502</td><td>NaN</td></tr><tr><td>2013-05-31</td><td>2.0</td><td>&quot;C&quot;</td><td>627721.008929</td><td>null</td><td>-0.036996</td><td>-0.017177</td><td>-0.023577</td><td>-0.036996</td><td>0.017478</td><td>0.017478</td><td>0.028561</td><td>17.535714</td><td>0.117089</td><td>-0.209613</td><td>0.125185</td><td>483443.767857</td><td>529543.053571</td><td>94.501893</td><td>0.945019</td><td>73.437798</td><td>4.146318</td><td>14.9375</td><td>0.008571</td><td>1.672305</td><td>0.116151</td><td>12.628571</td><td>1.0</td><td>1.0</td><td>0.133804</td><td>0.126006</td><td>95.899688</td><td>98.13363</td><td>28.067566</td><td>-0.205315</td><td>4.7481e7</td><td>4.4665e7</td><td>&hellip;</td><td>2.017857</td><td>483443.767857</td><td>null</td><td>null</td><td>null</td><td>17.775701</td><td>17.475248</td><td>17.809524</td><td>17.775701</td><td>null</td><td>null</td><td>2013-05-28</td><td>null</td><td>null</td><td>null</td><td>12.765204</td><td>null</td><td>95.902679</td><td>89.568966</td><td>94.503093</td><td>1.009259</td><td>48.719626</td><td>2013-08-27</td><td>0.902232</td><td>2.138839</td><td>1.0</td><td>null</td><td>null</td><td>null</td><td>12.714286</td><td>null</td><td>null</td><td>null</td><td>null</td><td>null</td><td>4.146518</td><td>NaN</td></tr><tr><td>&hellip;</td><td>&hellip;</td><td>&hellip;</td><td>&hellip;</td><td>&hellip;</td><td>&hellip;</td><td>&hellip;</td><td>&hellip;</td><td>&hellip;</td><td>&hellip;</td><td>&hellip;</td><td>&hellip;</td><td>&hellip;</td><td>&hellip;</td><td>&hellip;</td><td>&hellip;</td><td>&hellip;</td><td>&hellip;</td><td>&hellip;</td><td>&hellip;</td><td>&hellip;</td><td>&hellip;</td><td>&hellip;</td><td>&hellip;</td><td>&hellip;</td><td>&hellip;</td><td>&hellip;</td><td>&hellip;</td><td>&hellip;</td><td>&hellip;</td><td>&hellip;</td><td>&hellip;</td><td>&hellip;</td><td>&hellip;</td><td>&hellip;</td><td>&hellip;</td><td>&hellip;</td><td>&hellip;</td><td>&hellip;</td><td>&hellip;</td><td>&hellip;</td><td>&hellip;</td><td>&hellip;</td><td>&hellip;</td><td>&hellip;</td><td>&hellip;</td><td>&hellip;</td><td>&hellip;</td><td>&hellip;</td><td>&hellip;</td><td>&hellip;</td><td>&hellip;</td><td>&hellip;</td><td>&hellip;</td><td>&hellip;</td><td>&hellip;</td><td>&hellip;</td><td>&hellip;</td><td>&hellip;</td><td>&hellip;</td><td>&hellip;</td><td>&hellip;</td><td>&hellip;</td><td>&hellip;</td><td>&hellip;</td><td>&hellip;</td><td>&hellip;</td><td>&hellip;</td><td>&hellip;</td><td>&hellip;</td><td>&hellip;</td><td>&hellip;</td><td>&hellip;</td><td>&hellip;</td><td>&hellip;</td></tr><tr><td>2009-12-31</td><td>0.0</td><td>&quot;B&quot;</td><td>733643.154047</td><td>null</td><td>0.0146</td><td>-0.003938</td><td>-0.00166</td><td>0.0146</td><td>0.010402</td><td>0.010302</td><td>0.034243</td><td>11.295039</td><td>0.038946</td><td>-0.479082</td><td>0.063215</td><td>503592.801567</td><td>496609.29765</td><td>104.331113</td><td>1.043311</td><td>101.21114</td><td>5.327346</td><td>8.138381</td><td>0.011877</td><td>0.729321</td><td>0.071106</td><td>12.163102</td><td>1.0</td><td>1.0</td><td>0.061462</td><td>0.038085</td><td>104.112607</td><td>105.9306</td><td>53.388386</td><td>-0.476977</td><td>5.8843e7</td><td>5.3969e7</td><td>&hellip;</td><td>2.005222</td><td>503592.801567</td><td>null</td><td>null</td><td>null</td><td>11.290576</td><td>11.638743</td><td>10.049383</td><td>11.295039</td><td>null</td><td>null</td><td>2009-12-27</td><td>null</td><td>null</td><td>null</td><td>6.09824</td><td>null</td><td>103.800783</td><td>104.703125</td><td>104.334915</td><td>1.002632</td><td>53.140401</td><td>2010-03-26</td><td>0.707102</td><td>1.682898</td><td>1.0</td><td>null</td><td>null</td><td>null</td><td>17.258486</td><td>null</td><td>null</td><td>null</td><td>null</td><td>null</td><td>5.327415</td><td>NaN</td></tr><tr><td>2004-08-31</td><td>null</td><td>&quot;B&quot;</td><td>721609.620828</td><td>null</td><td>0.010851</td><td>0.009412</td><td>0.011035</td><td>0.011951</td><td>0.02008</td><td>0.01898</td><td>0.001111</td><td>10.360481</td><td>0.026417</td><td>-0.108336</td><td>0.055462</td><td>76712.132497</td><td>107517.096128</td><td>107.540071</td><td>1.075401</td><td>88.277882</td><td>4.755582</td><td>null</td><td>0.01209</td><td>2.856422</td><td>0.047713</td><td>4.702786</td><td>0.28972</td><td>0.722296</td><td>0.057263</td><td>0.024886</td><td>105.180116</td><td>106.853256</td><td>49.496316</td><td>-0.129089</td><td>8.9722e6</td><td>8.9364e6</td><td>&hellip;</td><td>2.680908</td><td>76712.132497</td><td>null</td><td>null</td><td>null</td><td>10.376871</td><td>10.264022</td><td>9.680934</td><td>10.392523</td><td>null</td><td>null</td><td>2004-08-21</td><td>null</td><td>null</td><td>null</td><td>10.627907</td><td>null</td><td>112.259546</td><td>105.019355</td><td>107.545067</td><td>1.666216</td><td>81.668937</td><td>2004-11-20</td><td>0.671696</td><td>1.803712</td><td>1.065421</td><td>null</td><td>null</td><td>null</td><td>18.899866</td><td>null</td><td>null</td><td>null</td><td>null</td><td>null</td><td>4.757582</td><td>NaN</td></tr><tr><td>2019-05-31</td><td>1.0</td><td>&quot;B&quot;</td><td>660990.433613</td><td>null</td><td>0.022488</td><td>0.015422</td><td>0.015733</td><td>0.024288</td><td>0.009701</td><td>0.007601</td><td>-0.01207</td><td>9.172269</td><td>0.018388</td><td>-0.111726</td><td>0.038519</td><td>825851.550378</td><td>824077.347899</td><td>103.455585</td><td>1.034556</td><td>108.069748</td><td>6.300061</td><td>12.752941</td><td>0.005909</td><td>0.1047</td><td>0.022572</td><td>15.323404</td><td>1.0</td><td>1.0</td><td>0.038828</td><td>0.017275</td><td>103.38574</td><td>104.459516</td><td>76.744916</td><td>-0.129385</td><td>8.7506e7</td><td>8.5673e7</td><td>&hellip;</td><td>2.001681</td><td>825775.662143</td><td>null</td><td>null</td><td>null</td><td>9.166245</td><td>9.152572</td><td>8.665037</td><td>9.17479</td><td>null</td><td>null</td><td>2019-05-30</td><td>null</td><td>null</td><td>null</td><td>3.854828</td><td>null</td><td>103.657731</td><td>102.955071</td><td>103.45614</td><td>1.035623</td><td>49.225864</td><td>2019-09-01</td><td>0.336319</td><td>1.069076</td><td>1.005882</td><td>null</td><td>null</td><td>null</td><td>18.260504</td><td>null</td><td>null</td><td>null</td><td>null</td><td>null</td><td>6.3151</td><td>NaN</td></tr><tr><td>2019-08-31</td><td>1.0</td><td>&quot;B&quot;</td><td>667371.158375</td><td>null</td><td>-0.006633</td><td>0.00501</td><td>0.002493</td><td>-0.004833</td><td>0.024705</td><td>0.023105</td><td>-0.001632</td><td>9.168325</td><td>0.016651</td><td>-0.09506</td><td>0.031677</td><td>819114.472595</td><td>816320.3267</td><td>108.522507</td><td>1.085225</td><td>108.869127</td><td>6.485555</td><td>12.756219</td><td>0.018023</td><td>0.16355</td><td>0.022558</td><td>14.915683</td><td>1.0</td><td>1.0</td><td>0.031571</td><td>0.01643</td><td>108.52795</td><td>109.646212</td><td>80.984647</td><td>-0.101528</td><td>9.1010e7</td><td>8.9461e7</td><td>&hellip;</td><td>2.0</td><td>819039.591169</td><td>null</td><td>null</td><td>null</td><td>9.16223</td><td>9.140396</td><td>8.625154</td><td>9.167496</td><td>null</td><td>null</td><td>2019-08-29</td><td>null</td><td>null</td><td>null</td><td>3.165623</td><td>null</td><td>108.609204</td><td>107.349022</td><td>108.521867</td><td>1.003339</td><td>50.179329</td><td>2019-11-27</td><td>0.373905</td><td>1.120332</td><td>1.0</td><td>null</td><td>null</td><td>null</td><td>18.411277</td><td>null</td><td>null</td><td>null</td><td>null</td><td>null</td><td>6.486938</td><td>NaN</td></tr><tr><td>2013-08-31</td><td>1.0</td><td>&quot;C&quot;</td><td>833456.178571</td><td>null</td><td>0.007584</td><td>-0.005381</td><td>-0.002044</td><td>0.007584</td><td>0.009718</td><td>0.009718</td><td>0.015864</td><td>16.714286</td><td>0.082452</td><td>-0.180678</td><td>0.093948</td><td>788509.678571</td><td>725192.428571</td><td>97.422709</td><td>0.974227</td><td>61.983333</td><td>3.922575</td><td>11.714286</td><td>-0.000512</td><td>0.420502</td><td>0.098928</td><td>14.222222</td><td>1.0</td><td>1.0</td><td>0.094901</td><td>0.083406</td><td>98.402741</td><td>100.255431</td><td>21.258509</td><td>-0.160641</td><td>8.8872e7</td><td>8.0715e7</td><td>&hellip;</td><td>2.0</td><td>788509.678571</td><td>null</td><td>null</td><td>null</td><td>17.461538</td><td>17.461538</td><td>17.285714</td><td>17.461538</td><td>null</td><td>null</td><td>2013-08-27</td><td>null</td><td>null</td><td>null</td><td>8.933107</td><td>null</td><td>98.839286</td><td>95.377778</td><td>97.434783</td><td>1.214286</td><td>48.230769</td><td>2013-11-24</td><td>0.799286</td><td>2.013214</td><td>1.035714</td><td>null</td><td>null</td><td>null</td><td>10.714286</td><td>null</td><td>null</td><td>null</td><td>null</td><td>null</td><td>3.922857</td><td>NaN</td></tr></tbody></table></div>"
      ]
     },
     "execution_count": 11,
     "metadata": {},
     "output_type": "execute_result"
    }
   ],
   "execution_count": 11
  },
  {
   "metadata": {},
   "cell_type": "markdown",
   "source": "Compute the metric",
   "id": "e32665b9e38d8f01"
  },
  {
   "metadata": {
    "ExecuteTime": {
     "end_time": "2024-04-25T22:51:26.864091Z",
     "start_time": "2024-04-25T22:51:26.858938Z"
    }
   },
   "cell_type": "code",
   "source": [
    "grouping_cols = ['date', 'industry_bucket', 'rating_bucket']\n",
    "\n",
    "def calculate_avg_metric_over_peers(df: pl.DataFrame, col: str):\n",
    "    bucket_means = df.select(grouping_cols + [col]).group_by(grouping_cols).agg(pl.col(col).drop_nans().mean().alias(f'{col}_bucket_mean'))\n",
    "    \n",
    "    return df.join(bucket_means, how='left', on=grouping_cols)\n",
    "\n",
    "def calculate_quantile(df: pl.DataFrame, col: str, n_quantiles: int):\n",
    "    new_col_name = f'{col}_bucket_quantile'\n",
    "    mean_col_name = f'{col}_bucket_mean'\n",
    "    \n",
    "    bins = np.linspace(0,1,n_quantiles)\n",
    "    labels = [f'q{i}' for i in range(n_quantiles+1)]\n",
    "    \n",
    "    bond_with_mean = calculate_avg_metric_over_peers(df, col)\n",
    "    bond_with_quantiles = bond_with_mean.filter((pl.col(col).is_not_nan()) & (pl.col(mean_col_name).is_not_nan())).with_columns(\n",
    "        (pl.col(col) - pl.col(mean_col_name)).qcut(bins, labels=labels).alias(new_col_name)       \n",
    "    )\n",
    "    \n",
    "    return df.join(bond_with_quantiles, on=grouping_cols, how='left')"
   ],
   "id": "cbf8882d3938ec5e",
   "outputs": [],
   "execution_count": 12
  },
  {
   "metadata": {
    "ExecuteTime": {
     "start_time": "2024-04-25T22:51:28.241768Z"
    }
   },
   "cell_type": "code",
   "source": "calculate_quantile(bond_data, 'oas', 5).head()",
   "id": "35073aa5ed57390",
   "outputs": [],
   "execution_count": null
  },
  {
   "metadata": {
    "ExecuteTime": {
     "end_time": "2024-04-25T22:11:23.208846Z",
     "start_time": "2024-04-25T22:11:23.124251Z"
    }
   },
   "cell_type": "code",
   "source": "calculate_avg_metric_over_peers(bond_data, 'oas').sort('date').head()",
   "id": "ef11c982e4e12018",
   "outputs": [
    {
     "data": {
      "text/plain": [
       "shape: (5, 4)\n",
       "┌────────────┬─────────────────┬───────────────┬─────────────────┐\n",
       "│ date       ┆ industry_bucket ┆ rating_bucket ┆ oas_bucket_mean │\n",
       "│ ---        ┆ ---             ┆ ---           ┆ ---             │\n",
       "│ date       ┆ f64             ┆ str           ┆ f64             │\n",
       "╞════════════╪═════════════════╪═══════════════╪═════════════════╡\n",
       "│ 2002-08-31 ┆ null            ┆ A             ┆ 0.020703        │\n",
       "│ 2002-08-31 ┆ 2.0             ┆ B             ┆ 0.06582         │\n",
       "│ 2002-08-31 ┆ 2.0             ┆ A             ┆ 0.018893        │\n",
       "│ 2002-08-31 ┆ 0.0             ┆ A             ┆ 0.014488        │\n",
       "│ 2002-08-31 ┆ 2.0             ┆ C             ┆ 0.265647        │\n",
       "└────────────┴─────────────────┴───────────────┴─────────────────┘"
      ],
      "text/html": [
       "<div><style>\n",
       ".dataframe > thead > tr,\n",
       ".dataframe > tbody > tr {\n",
       "  text-align: right;\n",
       "  white-space: pre-wrap;\n",
       "}\n",
       "</style>\n",
       "<small>shape: (5, 4)</small><table border=\"1\" class=\"dataframe\"><thead><tr><th>date</th><th>industry_bucket</th><th>rating_bucket</th><th>oas_bucket_mean</th></tr><tr><td>date</td><td>f64</td><td>str</td><td>f64</td></tr></thead><tbody><tr><td>2002-08-31</td><td>null</td><td>&quot;A&quot;</td><td>0.020703</td></tr><tr><td>2002-08-31</td><td>2.0</td><td>&quot;B&quot;</td><td>0.06582</td></tr><tr><td>2002-08-31</td><td>2.0</td><td>&quot;A&quot;</td><td>0.018893</td></tr><tr><td>2002-08-31</td><td>0.0</td><td>&quot;A&quot;</td><td>0.014488</td></tr><tr><td>2002-08-31</td><td>2.0</td><td>&quot;C&quot;</td><td>0.265647</td></tr></tbody></table></div>"
      ]
     },
     "execution_count": 40,
     "metadata": {},
     "output_type": "execute_result"
    }
   ],
   "execution_count": 40
  },
  {
   "metadata": {
    "ExecuteTime": {
     "end_time": "2024-04-25T22:31:19.101606Z",
     "start_time": "2024-04-25T22:31:19.046591Z"
    }
   },
   "cell_type": "code",
   "source": "bond_data.select('oas').to_series().drop_nans().qcut([0.1,0.9], labels=['one', 'two', 'three'])",
   "id": "c4cb1358d8d72306",
   "outputs": [
    {
     "data": {
      "text/plain": [
       "shape: (1_153_895,)\n",
       "Series: 'oas' [cat]\n",
       "[\n",
       "\t\"two\"\n",
       "\t\"two\"\n",
       "\t\"two\"\n",
       "\t\"two\"\n",
       "\t\"two\"\n",
       "\t…\n",
       "\t\"two\"\n",
       "\t\"two\"\n",
       "\t\"two\"\n",
       "\t\"two\"\n",
       "\t\"two\"\n",
       "]"
      ],
      "text/html": [
       "<div><style>\n",
       ".dataframe > thead > tr,\n",
       ".dataframe > tbody > tr {\n",
       "  text-align: right;\n",
       "  white-space: pre-wrap;\n",
       "}\n",
       "</style>\n",
       "<small>shape: (1_153_895,)</small><table border=\"1\" class=\"dataframe\"><thead><tr><th>oas</th></tr><tr><td>cat</td></tr></thead><tbody><tr><td>&quot;two&quot;</td></tr><tr><td>&quot;two&quot;</td></tr><tr><td>&quot;two&quot;</td></tr><tr><td>&quot;two&quot;</td></tr><tr><td>&quot;two&quot;</td></tr><tr><td>&hellip;</td></tr><tr><td>&quot;two&quot;</td></tr><tr><td>&quot;two&quot;</td></tr><tr><td>&quot;two&quot;</td></tr><tr><td>&quot;two&quot;</td></tr><tr><td>&quot;two&quot;</td></tr></tbody></table></div>"
      ]
     },
     "execution_count": 59,
     "metadata": {},
     "output_type": "execute_result"
    }
   ],
   "execution_count": 59
  }
 ],
 "metadata": {
  "kernelspec": {
   "display_name": "Python 3",
   "language": "python",
   "name": "python3"
  },
  "language_info": {
   "codemirror_mode": {
    "name": "ipython",
    "version": 2
   },
   "file_extension": ".py",
   "mimetype": "text/x-python",
   "name": "python",
   "nbconvert_exporter": "python",
   "pygments_lexer": "ipython2",
   "version": "2.7.6"
  }
 },
 "nbformat": 4,
 "nbformat_minor": 5
}
