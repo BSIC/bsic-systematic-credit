{
 "cells": [
  {
   "metadata": {
    "ExecuteTime": {
     "end_time": "2024-05-04T05:20:15.859502Z",
     "start_time": "2024-05-04T05:20:10.025673Z"
    }
   },
   "cell_type": "code",
   "source": [
    "import polars as pl\n",
    "from matplotlib import pyplot as plt\n",
    "import numpy as np \n",
    "import statsmodels.api as sm\n",
    "import polars_ols as pls\n",
    "from finance_byu import fama_macbeth"
   ],
   "id": "a51e4f9f0742a9e0",
   "outputs": [],
   "execution_count": 1
  },
  {
   "metadata": {},
   "cell_type": "markdown",
   "source": "# Loading Data",
   "id": "1f6cc4f25c0b30b3"
  },
  {
   "metadata": {
    "ExecuteTime": {
     "end_time": "2024-05-04T05:20:16.395003Z",
     "start_time": "2024-05-04T05:20:15.861505Z"
    }
   },
   "cell_type": "code",
   "source": [
    "bond_data = pl.read_parquet('../../data/final_data/bond_data_insample.pq')\n",
    "print(bond_data.head())"
   ],
   "id": "c32efd72d5fc05de",
   "outputs": [
    {
     "name": "stdout",
     "output_type": "stream",
     "text": [
      "shape: (5, 99)\n",
      "┌─────┬────────────┬───────────┬────────────┬───┬──────────┬─────────────┬──────────────┬──────────┐\n",
      "│     ┆ date       ┆ cusip     ┆ exretn_t+1 ┆ … ┆ datadate ┆ shortintadj ┆ unexpected_i ┆ oas      │\n",
      "│ --- ┆ ---        ┆ ---       ┆ ---        ┆   ┆ ---      ┆ ---         ┆ nflation     ┆ ---      │\n",
      "│ i64 ┆ date       ┆ str       ┆ f64        ┆   ┆ date     ┆ f64         ┆ ---          ┆ f64      │\n",
      "│     ┆            ┆           ┆            ┆   ┆          ┆             ┆ f64          ┆          │\n",
      "╞═════╪════════════╪═══════════╪════════════╪═══╪══════════╪═════════════╪══════════════╪══════════╡\n",
      "│ 7   ┆ 2002-08-31 ┆ 00077QAG5 ┆ 0.02983    ┆ … ┆ null     ┆ null        ┆ 0.004985     ┆ 0.013937 │\n",
      "│ 11  ┆ 2002-08-31 ┆ 00104CAA6 ┆ -0.023513  ┆ … ┆ null     ┆ null        ┆ 0.004985     ┆ 0.184844 │\n",
      "│ 12  ┆ 2002-08-31 ┆ 001055AB8 ┆ 0.004369   ┆ … ┆ null     ┆ null        ┆ 0.004985     ┆ 0.016772 │\n",
      "│ 20  ┆ 2002-08-31 ┆ 00130HAQ8 ┆ -0.080008  ┆ … ┆ null     ┆ null        ┆ 0.004985     ┆ 0.178782 │\n",
      "│ 21  ┆ 2002-08-31 ┆ 00130HAU9 ┆ -0.012018  ┆ … ┆ null     ┆ null        ┆ 0.004985     ┆ 0.176463 │\n",
      "└─────┴────────────┴───────────┴────────────┴───┴──────────┴─────────────┴──────────────┴──────────┘\n"
     ]
    }
   ],
   "execution_count": 2
  },
  {
   "metadata": {},
   "cell_type": "markdown",
   "source": "# Segmenting in Buckets, based on Rating, Industry, Duration",
   "id": "37d5801879233546"
  },
  {
   "metadata": {},
   "cell_type": "markdown",
   "source": "## Rating",
   "id": "f679ab7c153efbb6"
  },
  {
   "metadata": {},
   "cell_type": "markdown",
   "source": "Group by rating macro-categories",
   "id": "dd4d4a13bb305769"
  },
  {
   "metadata": {
    "ExecuteTime": {
     "end_time": "2024-05-04T05:20:16.424003Z",
     "start_time": "2024-05-04T05:20:16.399005Z"
    }
   },
   "cell_type": "code",
   "source": [
    "bond_data_with_ratings = bond_data.with_columns(\n",
    "    rating_bucket=pl\n",
    "        .when(pl.col('rating') <= 7).then(pl.lit('A'))\n",
    "        .when(pl.col('rating') <= 16).then(pl.lit('B'))\n",
    "        .otherwise(pl.lit('B'))\n",
    ")\n",
    "bond_data = bond_data_with_ratings"
   ],
   "id": "1a55de1ccf5d2cca",
   "outputs": [],
   "execution_count": 3
  },
  {
   "metadata": {},
   "cell_type": "markdown",
   "source": "## Industry",
   "id": "608bb11c3406c26"
  },
  {
   "metadata": {},
   "cell_type": "markdown",
   "source": [
    "We choose the following macro-groups, based on the first digit of the SIC Code: \n",
    "\n",
    "- 0, 1: Agriculture, Forestry, Fishing (0) + Mining (1) + Construction (1)\n",
    "- 2, 3, 5: Manufacturing (2,3), Whole Sale Trade + Retail Trade (5)\n",
    "- 4, 9: Transportation and Public Utilities (4), Public Administration (9)\n",
    "- 6: Finance, Insurance, Real Estate (6)\n",
    "- 7, 8: Service (7, 8)\n"
   ],
   "id": "78634c76fa52f4f6"
  },
  {
   "metadata": {
    "ExecuteTime": {
     "end_time": "2024-05-04T05:20:16.438509Z",
     "start_time": "2024-05-04T05:20:16.426505Z"
    }
   },
   "cell_type": "code",
   "source": "bond_data.select('PERMNO', 'sic_code').head(4)",
   "id": "74b154a6e085b4dc",
   "outputs": [
    {
     "data": {
      "text/plain": [
       "shape: (4, 2)\n",
       "┌────────┬──────────┐\n",
       "│ PERMNO ┆ sic_code │\n",
       "│ ---    ┆ ---      │\n",
       "│ i64    ┆ i64      │\n",
       "╞════════╪══════════╡\n",
       "│ 84766  ┆ 6029     │\n",
       "│ null   ┆ 4911     │\n",
       "│ 57904  ┆ 6321     │\n",
       "│ 76712  ┆ 4911     │\n",
       "└────────┴──────────┘"
      ],
      "text/html": [
       "<div><style>\n",
       ".dataframe > thead > tr,\n",
       ".dataframe > tbody > tr {\n",
       "  text-align: right;\n",
       "  white-space: pre-wrap;\n",
       "}\n",
       "</style>\n",
       "<small>shape: (4, 2)</small><table border=\"1\" class=\"dataframe\"><thead><tr><th>PERMNO</th><th>sic_code</th></tr><tr><td>i64</td><td>i64</td></tr></thead><tbody><tr><td>84766</td><td>6029</td></tr><tr><td>null</td><td>4911</td></tr><tr><td>57904</td><td>6321</td></tr><tr><td>76712</td><td>4911</td></tr></tbody></table></div>"
      ]
     },
     "execution_count": 4,
     "metadata": {},
     "output_type": "execute_result"
    }
   ],
   "execution_count": 4
  },
  {
   "metadata": {
    "ExecuteTime": {
     "end_time": "2024-05-04T05:20:16.502004Z",
     "start_time": "2024-05-04T05:20:16.442505Z"
    }
   },
   "cell_type": "code",
   "source": [
    "bond_data = bond_data.with_columns(\n",
    "    industry_bucket=pl.col('sic_code').cast(str).str.slice(0,1).cast(int)\n",
    ").with_columns(\n",
    "    # assign bucket from 1 to 5 for the corresponding macro-group\n",
    "    industry_bucket=pl\n",
    "        .when(pl.col('industry_bucket').is_in([0,1])).then(pl.lit(1))\n",
    "        .when(pl.col('industry_bucket').is_in([2,3,5])).then(pl.lit(2))\n",
    "        .when(pl.col('industry_bucket').is_in([4,9])).then(pl.lit(3))\n",
    "        .when(pl.col('industry_bucket') == 6).then(pl.lit(4))\n",
    "        .when(pl.col('industry_bucket').is_in([7,8])).then(pl.lit(5))\n",
    ")\n",
    "\n",
    "bond_data.select('industry_bucket').head(3)"
   ],
   "id": "9fe9aa91abf157aa",
   "outputs": [
    {
     "data": {
      "text/plain": [
       "shape: (3, 1)\n",
       "┌─────────────────┐\n",
       "│ industry_bucket │\n",
       "│ ---             │\n",
       "│ i32             │\n",
       "╞═════════════════╡\n",
       "│ 4               │\n",
       "│ 3               │\n",
       "│ 4               │\n",
       "└─────────────────┘"
      ],
      "text/html": [
       "<div><style>\n",
       ".dataframe > thead > tr,\n",
       ".dataframe > tbody > tr {\n",
       "  text-align: right;\n",
       "  white-space: pre-wrap;\n",
       "}\n",
       "</style>\n",
       "<small>shape: (3, 1)</small><table border=\"1\" class=\"dataframe\"><thead><tr><th>industry_bucket</th></tr><tr><td>i32</td></tr></thead><tbody><tr><td>4</td></tr><tr><td>3</td></tr><tr><td>4</td></tr></tbody></table></div>"
      ]
     },
     "execution_count": 5,
     "metadata": {},
     "output_type": "execute_result"
    }
   ],
   "execution_count": 5
  },
  {
   "metadata": {
    "ExecuteTime": {
     "end_time": "2024-05-04T05:20:16.523503Z",
     "start_time": "2024-05-04T05:20:16.503503Z"
    }
   },
   "cell_type": "code",
   "source": "bond_data.select('industry_bucket').unique()",
   "id": "347a3357129f71ce",
   "outputs": [
    {
     "data": {
      "text/plain": [
       "shape: (5, 1)\n",
       "┌─────────────────┐\n",
       "│ industry_bucket │\n",
       "│ ---             │\n",
       "│ i32             │\n",
       "╞═════════════════╡\n",
       "│ 3               │\n",
       "│ 4               │\n",
       "│ 1               │\n",
       "│ 5               │\n",
       "│ 2               │\n",
       "└─────────────────┘"
      ],
      "text/html": [
       "<div><style>\n",
       ".dataframe > thead > tr,\n",
       ".dataframe > tbody > tr {\n",
       "  text-align: right;\n",
       "  white-space: pre-wrap;\n",
       "}\n",
       "</style>\n",
       "<small>shape: (5, 1)</small><table border=\"1\" class=\"dataframe\"><thead><tr><th>industry_bucket</th></tr><tr><td>i32</td></tr></thead><tbody><tr><td>3</td></tr><tr><td>4</td></tr><tr><td>1</td></tr><tr><td>5</td></tr><tr><td>2</td></tr></tbody></table></div>"
      ]
     },
     "execution_count": 6,
     "metadata": {},
     "output_type": "execute_result"
    }
   ],
   "execution_count": 6
  },
  {
   "metadata": {},
   "cell_type": "markdown",
   "source": "## Duration ",
   "id": "8924f302f00a0341"
  },
  {
   "metadata": {
    "ExecuteTime": {
     "end_time": "2024-05-04T05:20:16.552003Z",
     "start_time": "2024-05-04T05:20:16.525507Z"
    }
   },
   "cell_type": "code",
   "source": "bond_data.select('duration').quantile(1/3)",
   "id": "e90877a5d885699",
   "outputs": [
    {
     "data": {
      "text/plain": [
       "shape: (1, 1)\n",
       "┌──────────┐\n",
       "│ duration │\n",
       "│ ---      │\n",
       "│ f64      │\n",
       "╞══════════╡\n",
       "│ 4.187136 │\n",
       "└──────────┘"
      ],
      "text/html": [
       "<div><style>\n",
       ".dataframe > thead > tr,\n",
       ".dataframe > tbody > tr {\n",
       "  text-align: right;\n",
       "  white-space: pre-wrap;\n",
       "}\n",
       "</style>\n",
       "<small>shape: (1, 1)</small><table border=\"1\" class=\"dataframe\"><thead><tr><th>duration</th></tr><tr><td>f64</td></tr></thead><tbody><tr><td>4.187136</td></tr></tbody></table></div>"
      ]
     },
     "execution_count": 7,
     "metadata": {},
     "output_type": "execute_result"
    }
   ],
   "execution_count": 7
  },
  {
   "metadata": {
    "ExecuteTime": {
     "end_time": "2024-05-04T05:20:16.584503Z",
     "start_time": "2024-05-04T05:20:16.559005Z"
    }
   },
   "cell_type": "code",
   "source": "bond_data.select('duration').quantile(2/3)",
   "id": "578ffef7e2414ac3",
   "outputs": [
    {
     "data": {
      "text/plain": [
       "shape: (1, 1)\n",
       "┌──────────┐\n",
       "│ duration │\n",
       "│ ---      │\n",
       "│ f64      │\n",
       "╞══════════╡\n",
       "│ 7.036823 │\n",
       "└──────────┘"
      ],
      "text/html": [
       "<div><style>\n",
       ".dataframe > thead > tr,\n",
       ".dataframe > tbody > tr {\n",
       "  text-align: right;\n",
       "  white-space: pre-wrap;\n",
       "}\n",
       "</style>\n",
       "<small>shape: (1, 1)</small><table border=\"1\" class=\"dataframe\"><thead><tr><th>duration</th></tr><tr><td>f64</td></tr></thead><tbody><tr><td>7.036823</td></tr></tbody></table></div>"
      ]
     },
     "execution_count": 8,
     "metadata": {},
     "output_type": "execute_result"
    }
   ],
   "execution_count": 8
  },
  {
   "metadata": {
    "ExecuteTime": {
     "end_time": "2024-05-04T05:20:16.598502Z",
     "start_time": "2024-05-04T05:20:16.587505Z"
    }
   },
   "cell_type": "code",
   "source": [
    "bond_data = bond_data.with_columns(\n",
    "    duration_bucket=pl\n",
    "        .when(pl.col('duration') <= 4).then(pl.lit(1))\n",
    "        .when(pl.col('duration') <= 7).then(pl.lit(2))\n",
    "        .otherwise(pl.lit(3))\n",
    ")\n"
   ],
   "id": "8175fd961446dd81",
   "outputs": [],
   "execution_count": 9
  },
  {
   "metadata": {},
   "cell_type": "markdown",
   "source": "## Aggregate the buckets in one column",
   "id": "c9599eece89db038"
  },
  {
   "metadata": {
    "ExecuteTime": {
     "end_time": "2024-05-04T05:20:16.670502Z",
     "start_time": "2024-05-04T05:20:16.604004Z"
    }
   },
   "cell_type": "code",
   "source": [
    "bond_data = bond_data.with_columns(\n",
    "    bucket=(pl.col('industry_bucket').cast(str) + '_' + pl.col('rating_bucket') + '_' + pl.col('duration_bucket').cast(str))\n",
    ").drop(['industry_bucket', 'rating_bucket', 'duration_bucket'])"
   ],
   "id": "6a44305d1885d179",
   "outputs": [],
   "execution_count": 10
  },
  {
   "metadata": {
    "ExecuteTime": {
     "end_time": "2024-05-04T05:20:16.682505Z",
     "start_time": "2024-05-04T05:20:16.676004Z"
    }
   },
   "cell_type": "code",
   "source": "bond_data.select('bucket').head(3)",
   "id": "635e9328efe7566e",
   "outputs": [
    {
     "data": {
      "text/plain": [
       "shape: (3, 1)\n",
       "┌────────┐\n",
       "│ bucket │\n",
       "│ ---    │\n",
       "│ str    │\n",
       "╞════════╡\n",
       "│ 4_A_2  │\n",
       "│ 3_B_2  │\n",
       "│ 4_A_2  │\n",
       "└────────┘"
      ],
      "text/html": [
       "<div><style>\n",
       ".dataframe > thead > tr,\n",
       ".dataframe > tbody > tr {\n",
       "  text-align: right;\n",
       "  white-space: pre-wrap;\n",
       "}\n",
       "</style>\n",
       "<small>shape: (3, 1)</small><table border=\"1\" class=\"dataframe\"><thead><tr><th>bucket</th></tr><tr><td>str</td></tr></thead><tbody><tr><td>&quot;4_A_2&quot;</td></tr><tr><td>&quot;3_B_2&quot;</td></tr><tr><td>&quot;4_A_2&quot;</td></tr></tbody></table></div>"
      ]
     },
     "execution_count": 11,
     "metadata": {},
     "output_type": "execute_result"
    }
   ],
   "execution_count": 11
  },
  {
   "metadata": {
    "ExecuteTime": {
     "end_time": "2024-05-04T05:20:17.864503Z",
     "start_time": "2024-05-04T05:20:16.685006Z"
    }
   },
   "cell_type": "code",
   "source": [
    "bonds_per_date_bucket = bond_data.group_by(['date', 'bucket']).n_unique().select('date', 'bucket', 'cusip')\n",
    "\n",
    "bonds_per_date_bucket.head()"
   ],
   "id": "5d91ac0f37402444",
   "outputs": [
    {
     "data": {
      "text/plain": [
       "shape: (5, 3)\n",
       "┌────────────┬────────┬───────┐\n",
       "│ date       ┆ bucket ┆ cusip │\n",
       "│ ---        ┆ ---    ┆ ---   │\n",
       "│ date       ┆ str    ┆ u32   │\n",
       "╞════════════╪════════╪═══════╡\n",
       "│ 2014-03-31 ┆ 4_A_1  ┆ 228   │\n",
       "│ 2004-05-31 ┆ 4_B_3  ┆ 56    │\n",
       "│ 2004-11-30 ┆ 2_B_1  ┆ 124   │\n",
       "│ 2003-06-30 ┆ 5_B_2  ┆ 63    │\n",
       "│ 2008-09-30 ┆ 3_A_3  ┆ 140   │\n",
       "└────────────┴────────┴───────┘"
      ],
      "text/html": [
       "<div><style>\n",
       ".dataframe > thead > tr,\n",
       ".dataframe > tbody > tr {\n",
       "  text-align: right;\n",
       "  white-space: pre-wrap;\n",
       "}\n",
       "</style>\n",
       "<small>shape: (5, 3)</small><table border=\"1\" class=\"dataframe\"><thead><tr><th>date</th><th>bucket</th><th>cusip</th></tr><tr><td>date</td><td>str</td><td>u32</td></tr></thead><tbody><tr><td>2014-03-31</td><td>&quot;4_A_1&quot;</td><td>228</td></tr><tr><td>2004-05-31</td><td>&quot;4_B_3&quot;</td><td>56</td></tr><tr><td>2004-11-30</td><td>&quot;2_B_1&quot;</td><td>124</td></tr><tr><td>2003-06-30</td><td>&quot;5_B_2&quot;</td><td>63</td></tr><tr><td>2008-09-30</td><td>&quot;3_A_3&quot;</td><td>140</td></tr></tbody></table></div>"
      ]
     },
     "execution_count": 12,
     "metadata": {},
     "output_type": "execute_result"
    }
   ],
   "execution_count": 12
  },
  {
   "metadata": {
    "ExecuteTime": {
     "end_time": "2024-05-04T05:20:17.877003Z",
     "start_time": "2024-05-04T05:20:17.866003Z"
    }
   },
   "cell_type": "code",
   "source": "bonds_per_date_bucket.filter(pl.col('cusip') < 10).shape[0] / bonds_per_date_bucket.shape[0]",
   "id": "467b6c3d1601e147",
   "outputs": [
    {
     "data": {
      "text/plain": [
       "0.08677034032003605"
      ]
     },
     "execution_count": 13,
     "metadata": {},
     "output_type": "execute_result"
    }
   ],
   "execution_count": 13
  },
  {
   "metadata": {},
   "cell_type": "markdown",
   "source": "# Compute Residual Returns",
   "id": "f942eed5b9495093"
  },
  {
   "metadata": {
    "ExecuteTime": {
     "end_time": "2024-05-04T05:20:17.905005Z",
     "start_time": "2024-05-04T05:20:17.896006Z"
    }
   },
   "cell_type": "code",
   "source": [
    "def weighted_median_pl(data: pl.type_aliases.Sequence[pl.Series]):\n",
    "    \"\"\"Compute weighted median of observations with Polars\n",
    "\n",
    "    To be used inside map_groups, to which you specify as expressions first the values, then the weights to use.\n",
    "    The function takes two pl.Series: the first is the values to use, the second is the weights. \n",
    "    The function returns the weighted median for the given group of observations\n",
    "    \"\"\"\n",
    "    values, weights = data\n",
    "    values = values.to_numpy()\n",
    "    weights = weights.to_numpy()\n",
    "    i = np.argsort(values) \n",
    "    c = np.cumsum(weights[i])\n",
    "\n",
    "    weighted_median = values[i[np.searchsorted(c, 0.5 * c[-1])]]\n",
    "    return weighted_median\n"
   ],
   "id": "ddf81a14c03fd86a",
   "outputs": [],
   "execution_count": 14
  },
  {
   "metadata": {
    "ExecuteTime": {
     "end_time": "2024-05-04T05:20:17.938004Z",
     "start_time": "2024-05-04T05:20:17.908004Z"
    }
   },
   "cell_type": "code",
   "source": [
    "def compute_residual_returns(df: pl.DataFrame, use_median: bool = False):\n",
    "    \"\"\"Compute Residual return as unadjusted return - systematic return.\n",
    "    \n",
    "    * dxs = Duration * Spread\n",
    "    * Systematic Return = Relative DTS * Weighted average return of bond's bucket\n",
    "    * Relative dxs = Bond DTS / weighted average DTS of bond bucket\n",
    "    \n",
    "    * Residual return = bond_ret_t+1 - Systmematic Return\n",
    "    \n",
    "    \"\"\"\n",
    "    df = df.with_columns(\n",
    "        dxs = pl.col('duration') * pl.col('oas')\n",
    "    )\n",
    "    \n",
    "    grouped = df.select('bucket', 'dxs', 'exretnc_dur_t+1', 'bond_amount_out').drop_nulls().group_by('bucket')\n",
    "    \n",
    "    if use_median: \n",
    "        weighted_dxs = grouped.agg(\n",
    "            weighted_dxs_median=pl.map_groups(exprs=['dxs', 'bond_amount_out'], function=weighted_median_pl),\n",
    "            weighted_ret_median=pl.map_groups(exprs=['exretnc_dur_t+1', 'bond_amount_out'], function=weighted_median_pl)\n",
    "        )\n",
    "    else: \n",
    "        weighted_dxs = grouped.agg(\n",
    "            weighted_dxs_mean=(pl.col('dxs').dot(pl.col('bond_amount_out')) / pl.sum('bond_amount_out')),\n",
    "            weighted_ret_mean=(pl.col('exretnc_dur_t+1').dot(pl.col('bond_amount_out')) / pl.sum('bond_amount_out')),\n",
    "        )\n",
    "        \n",
    "    dxs_col = 'weighted_dxs_' + ('median' if use_median else 'mean')\n",
    "    ret_col = 'weighted_ret_' + ('median' if use_median else 'mean')\n",
    "    \n",
    "    df = (df.select(pl.all().exclude(dxs_col, ret_col))\n",
    "        .join(weighted_dxs, how='left', on='bucket')\n",
    "        .with_columns(\n",
    "            relative_dxs = pl.col('dxs') / pl.col(dxs_col)\n",
    "        ).with_columns(\n",
    "            systematic_return = pl.col('relative_dxs') * pl.col(ret_col)\n",
    "        ).with_columns(\n",
    "            (pl.col('bond_ret_t+1') - pl.col('systematic_return')).alias('residual_return_t+1'),\n",
    "        ))\n",
    "    \n",
    "    return df"
   ],
   "id": "2d0964c52265e0f8",
   "outputs": [],
   "execution_count": 15
  },
  {
   "metadata": {
    "ExecuteTime": {
     "end_time": "2024-05-04T05:20:18.110009Z",
     "start_time": "2024-05-04T05:20:17.941506Z"
    }
   },
   "cell_type": "code",
   "source": "bond_data = compute_residual_returns(bond_data, use_median=True)",
   "id": "6af88c7eb15a7b75",
   "outputs": [],
   "execution_count": 16
  },
  {
   "metadata": {},
   "cell_type": "markdown",
   "source": "# Scoring Signals based on the quantile ",
   "id": "87ee54e6308ce71a"
  },
  {
   "metadata": {},
   "cell_type": "markdown",
   "source": "## Shared Functions",
   "id": "e32665b9e38d8f01"
  },
  {
   "metadata": {
    "ExecuteTime": {
     "end_time": "2024-05-04T05:20:18.129003Z",
     "start_time": "2024-05-04T05:20:18.117003Z"
    }
   },
   "cell_type": "code",
   "source": [
    "def compute_quantiles(df: pl.DataFrame, col: str, n_quantiles: int):\n",
    "    \"\"\"Divide the cols in quantiles based on the bucket groups\"\"\"\n",
    "    quantile_col_name = f'{col}_quantile'\n",
    "    delta_col_name = f'{col}_bucket_delta'\n",
    "    mean_col_name = f'{col}_bucket_mean'\n",
    "    \n",
    "    # create the bins and labels to be used in qcut\n",
    "    bins = np.linspace(0,1,n_quantiles+1)[1:]\n",
    "    labels = [str(i+1) for i in range(n_quantiles+1)]\n",
    "    \n",
    "    # compute the mean of the signal for each bucket at each date\n",
    "    col_mean_by_bucket = df.select('date', 'bucket', col).group_by(['date', 'bucket']).agg(\n",
    "        pl.col(col).drop_nans().mean().alias(mean_col_name) # .mean breaks with NaNs, so drop them \n",
    "    )\n",
    "    \n",
    "    # join the dataframes and compute the difference with respect to the group average (computed before)\n",
    "    deltas = (df\n",
    "              .select(pl.all().exclude(quantile_col_name, mean_col_name))\n",
    "              .join(col_mean_by_bucket, how='left', on=['date', 'bucket'])\n",
    "              .with_columns(\n",
    "                    (pl.col(col) - pl.col(mean_col_name)).alias(delta_col_name)\n",
    "                )           \n",
    "              )\n",
    "    # just select the cols we need, to make computations faster\n",
    "    deltas = deltas.select('date', 'cusip', 'bucket', delta_col_name)\n",
    "\n",
    "    data = []\n",
    "    total_items = col_mean_by_bucket.shape[0]\n",
    "    print('computing... ', end='')\n",
    "\n",
    "    i = 0\n",
    "    for group in col_mean_by_bucket.iter_rows(named=True):\n",
    "        i += 1\n",
    "        \n",
    "        # filter for NaNs and Nulls as well \n",
    "        mask = (pl.col('date') == group['date']) & (pl.col('bucket') == group['bucket']) & (pl.col(delta_col_name).is_not_nan() & (pl.col(delta_col_name).is_not_null()))\n",
    "        \n",
    "        group_data = deltas.filter(mask)\n",
    "        # if the DataFrame is emtpy just continue, otherwise qcut will throw an error\n",
    "        if group_data.shape[0] == 0:\n",
    "            continue\n",
    "        \n",
    "        group_data = group_data.with_columns(\n",
    "            pl.col(delta_col_name).qcut(bins,labels=labels, allow_duplicates=True).alias(quantile_col_name)\n",
    "        )\n",
    "            \n",
    "        data.append(group_data)\n",
    "        \n",
    "        if i % 1000 == 0: \n",
    "            print(f'{i}/{total_items} ', end='')\n",
    "    \n",
    "    print('... done!')\n",
    "    \n",
    "    quantiles = pl.concat(data, how='vertical')\n",
    "    quantiles = quantiles.with_columns(\n",
    "        pl.col(quantile_col_name).cast(int).alias(quantile_col_name)\n",
    "    )\n",
    "    return df.join(quantiles.drop('bucket'), how='left', on=['date', 'cusip'])"
   ],
   "id": "cbf8882d3938ec5e",
   "outputs": [],
   "execution_count": 17
  },
  {
   "metadata": {
    "ExecuteTime": {
     "end_time": "2024-05-04T05:20:18.140504Z",
     "start_time": "2024-05-04T05:20:18.131503Z"
    }
   },
   "cell_type": "code",
   "source": [
    "# # DEPRECATED, USE get_expected_alpha\n",
    "# def get_quantile_portfolios_returns(\n",
    "#         df_with_quantiles: pl.DataFrame, \n",
    "#         quantile_col: str, \n",
    "#         return_col: str = 'exretnc_dur_t+1', \n",
    "#         plot: bool = False,\n",
    "#         interpolate: bool = False,\n",
    "# ): \n",
    "#     # group returns by date and the quantile, and compute the average return of the portfolio at the end of every month\n",
    "#     returns_by_date_bucket = df_with_quantiles.group_by(['date', quantile_col]).agg(\n",
    "#         pl.col(return_col).drop_nans().mean().alias('mean_return'), # mean return of the portfolio at EoM\n",
    "#     )\n",
    "#     \n",
    "#     returns_by_date_bucket = returns_by_date_bucket.filter(pl.col(quantile_col).is_not_null())\n",
    "#     \n",
    "#     # down sample returns to yearly, and compute the total return of the portfolios at the end of every year\n",
    "#     yearly_returns_by_date_bucket = returns_by_date_bucket.sort('date').group_by_dynamic('date', every='1y', group_by=quantile_col).agg(\n",
    "#         pl.col('mean_return').add(1).product(), # compute the total return over the year\n",
    "#         (pl.col('mean_return').std() * np.sqrt(12)).alias('yearly_stdev') # compute the standard deviation of the returns\n",
    "#     )\n",
    "#     \n",
    "#     # finally, group by the quantile column and compute the average yearly return\n",
    "#     avg_yearly_returns_by_bucket = yearly_returns_by_date_bucket.group_by(quantile_col).agg(\n",
    "#         pl.col('mean_return').mean().sub(1), # compute the mean return and subtract 1\n",
    "#         pl.col('yearly_stdev').mean(), # compute average of the standard deviation of the portfolio\n",
    "#         (pl.col('mean_return').sub(1) / pl.col('yearly_stdev')).mean().alias('sharpe_ratio')\n",
    "#     )\n",
    "#     \n",
    "#     # insert the key to sort by\n",
    "#     avg_yearly_returns_by_bucket = avg_yearly_returns_by_bucket.sort(by=quantile_col)\n",
    "#     \n",
    "#     spline = None\n",
    "#     if interpolate: \n",
    "#         data = avg_yearly_returns_by_bucket.select(quantile_col, 'mean_return').to_numpy()\n",
    "#         x, y = data[:, 0], data[:, 1]\n",
    "#         \n",
    "#         spline = UnivariateSpline(x,y,s=len(x), k=3, ext=3)\n",
    "#         \n",
    "#     if plot: \n",
    "#         fig, ax = plt.subplots()\n",
    "#         \n",
    "#         alpha = 0.3 if interpolate else 1\n",
    "#         ax.bar(x=avg_yearly_returns_by_bucket[quantile_col], height=avg_yearly_returns_by_bucket['mean_return'], alpha=alpha)\n",
    "#         ax.scatter(x=avg_yearly_returns_by_bucket[quantile_col], y=avg_yearly_returns_by_bucket['yearly_stdev'], label='Volatility')\n",
    "#         ax2 = ax.twinx()\n",
    "#         ax2.scatter(x=avg_yearly_returns_by_bucket[quantile_col], y=avg_yearly_returns_by_bucket['sharpe_ratio'], label='Sharpe Ratio')\n",
    "#         ax.legend()\n",
    "#         \n",
    "#         if interpolate: \n",
    "#             x_new = np.linspace(x[0], x[-1], 100)\n",
    "#             ax.plot(x_new, spline(x_new))\n",
    "#     \n",
    "#     return avg_yearly_returns_by_bucket"
   ],
   "id": "abc880043c836025",
   "outputs": [],
   "execution_count": 18
  },
  {
   "metadata": {
    "ExecuteTime": {
     "end_time": "2024-05-04T05:45:25.060502Z",
     "start_time": "2024-05-04T05:45:25.050001Z"
    }
   },
   "cell_type": "code",
   "source": [
    "from skmisc.loess import loess\n",
    "\n",
    "def get_expected_alpha(\n",
    "        df_with_quantiles: pl.DataFrame, \n",
    "        quantile_col: str,  \n",
    "        plot: bool = False,\n",
    "        interpolate: bool = False,\n",
    "): \n",
    "    return_col = 'residual_return_t+1'\n",
    "    \n",
    "    # group returns by date and the quantile, and compute the average return of the portfolio at the end of every month\n",
    "    monthly_returns_by_bucket = df_with_quantiles.group_by(['date', quantile_col]).agg(\n",
    "        pl.col(return_col).drop_nans().mean().alias('mean_return'), # mean return of the portfolio at EoM\n",
    "    )\n",
    "    \n",
    "    final_portfolio_returns = monthly_returns_by_bucket.group_by(quantile_col).agg(\n",
    "        pl.col('mean_return').mean().alias('avg_monthly_return'),\n",
    "        pl.col('mean_return').std().alias('monthly_stdev'),\n",
    "        ((pl.col('mean_return').mean() / pl.col('mean_return').std()) * np.sqrt(12)).alias('sharpe_ratio'),\n",
    "    )\n",
    "    \n",
    "    # insert the key to sort by\n",
    "    final_portfolio_returns = final_portfolio_returns.sort(by=quantile_col).drop_nulls()\n",
    "    \n",
    "    spline_loess = None\n",
    "    if plot: \n",
    "        fig, axs = plt.subplots(1,2, figsize=(12,6))\n",
    "        \n",
    "        ax1, ax2 = axs\n",
    "        \n",
    "        alpha = 0.3 if interpolate else 1\n",
    "        ax1.bar(x=final_portfolio_returns[quantile_col], height=final_portfolio_returns['avg_monthly_return'])\n",
    "        ax12 = ax1.twinx()\n",
    "        ax12.scatter(x=final_portfolio_returns[quantile_col], y=final_portfolio_returns['monthly_stdev'], label='Volatility')\n",
    "        # ax12.scatter(x=final_portfolio_returns[quantile_col], y=final_portfolio_returns['sharpe_ratio'], label='Sharpe Ratio')\n",
    "        ax1.legend()\n",
    "        \n",
    "        ax2.axhline(color='black')\n",
    "     \n",
    "        data = final_portfolio_returns.select(quantile_col, 'avg_monthly_return').to_numpy()\n",
    "        x, y = data[:, 0], data[:, 1]\n",
    "        \n",
    "        spline_loess = loess(x,y)\n",
    "        spline_loess.fit()\n",
    "        \n",
    "        x_new = np.linspace(x[0], x[-1], 100)\n",
    "        pred = spline_loess.predict(x_new, stderror=True)\n",
    "        conf = pred.confidence()\n",
    "        \n",
    "        lowess_vals = pred.values\n",
    "        ll = conf.lower\n",
    "        ul = conf.upper\n",
    "        \n",
    "        x_new = np.linspace(x[0], x[-1], 100)\n",
    "    \n",
    "        ax2.fill_between(x_new,ll,ul,alpha=0.5)\n",
    "        ax2.scatter(x=final_portfolio_returns[quantile_col], y=final_portfolio_returns['avg_monthly_return'], label='Expected Alpha')\n",
    "        ax2.plot(x_new, lowess_vals)\n",
    "\n",
    "    return final_portfolio_returns, spline_loess"
   ],
   "id": "a2e9c767840de213",
   "outputs": [],
   "execution_count": 69
  },
  {
   "metadata": {
    "ExecuteTime": {
     "end_time": "2024-05-04T05:20:18.241504Z",
     "start_time": "2024-05-04T05:20:18.232006Z"
    }
   },
   "cell_type": "code",
   "source": [
    "def _update_transition_prob_matrix(chain, counts_matrix, lag):\n",
    "    flat_coords = np.ravel_multi_index((chain[:-lag], chain[lag:]), counts_matrix.shape)\n",
    "    return np.bincount(flat_coords, minlength=counts_matrix.size).reshape(counts_matrix.shape)\n",
    "\n",
    "def _convert_to_probabilities(transition_matrix: np.ndarray): \n",
    "    M = transition_matrix.copy()\n",
    "    for row in M: \n",
    "        n = sum(row)\n",
    "        if n > 0: \n",
    "            row[:] = [f/n for f in row] \n",
    "    \n",
    "    return M\n",
    "\n",
    "def compute_transition_matrix(df_with_quantiles: pl.DataFrame, quantile_col: str, n_quantiles: int, lag: int = 1, plot: bool = False):\n",
    "    \"\"\"Compute the transition probabilities for quantiles for a given signal, given a certain lag (1 unit of lag is 1 month of time)\"\"\"\n",
    "    \n",
    "    # group by the cusip, and get the evolution of the quantile during time for each bond\n",
    "    quantiles_evolution = df_with_quantiles.sort('date').filter(pl.col(quantile_col).is_not_null()).group_by('cusip', maintain_order=True).agg(pl.col(quantile_col))\n",
    "    \n",
    "    # initialize the matrix of transition probabilities\n",
    "    transition_probabilities = np.zeros((n_quantiles, n_quantiles), dtype=np.float64)\n",
    "    \n",
    "    # iterate through the different evolutions and update the transition probabilities\n",
    "    for row in quantiles_evolution.iter_rows(): \n",
    "        chain = row[1]\n",
    "        if np.min(chain) != 0: \n",
    "            chain -= np.min(chain)\n",
    "        \n",
    "        transition_probabilities[:, :] += _update_transition_prob_matrix(chain, transition_probabilities, lag)\n",
    "    \n",
    "    # convert these to actual probabilities\n",
    "    transition_probabilities = _convert_to_probabilities(transition_probabilities)\n",
    "    \n",
    "    if plot: \n",
    "        fig, ax = plt.subplots()\n",
    "        ax.imshow(transition_probabilities, cmap='hot', interpolation='nearest')\n",
    "    \n",
    "    return transition_probabilities"
   ],
   "id": "c11386c5b5c6fe04",
   "outputs": [],
   "execution_count": 20
  },
  {
   "metadata": {},
   "cell_type": "markdown",
   "source": "## Carry",
   "id": "c14e26b5eaf89eaf"
  },
  {
   "metadata": {},
   "cell_type": "markdown",
   "source": "For carry, we rank each bond based on its OAS. ",
   "id": "2bdd49af2f200f8b"
  },
  {
   "metadata": {
    "ExecuteTime": {
     "end_time": "2024-05-04T05:20:27.024002Z",
     "start_time": "2024-05-04T05:20:18.243503Z"
    }
   },
   "cell_type": "code",
   "source": "oas_quantiles = compute_quantiles(bond_data, 'oas', 10) ",
   "id": "eb1182355717efa1",
   "outputs": [
    {
     "name": "stdout",
     "output_type": "stream",
     "text": [
      "computing... 1000/4437 2000/4437 3000/4437 4000/4437 ... done!\n"
     ]
    },
    {
     "name": "stderr",
     "output_type": "stream",
     "text": [
      "sys:1: CategoricalRemappingWarning: Local categoricals have different encodings, expensive re-encoding is done to perform this merge operation. Consider using a StringCache or an Enum type if the categories are known in advance\n"
     ]
    }
   ],
   "execution_count": 21
  },
  {
   "metadata": {
    "ExecuteTime": {
     "end_time": "2024-05-04T05:45:28.890299Z",
     "start_time": "2024-05-04T05:45:28.407800Z"
    }
   },
   "cell_type": "code",
   "source": "carry_returns, oas_spline = get_expected_alpha(oas_quantiles, 'oas_quantile', plot=True, interpolate=True)",
   "id": "e2515f5a5eef5323",
   "outputs": [
    {
     "name": "stderr",
     "output_type": "stream",
     "text": [
      "No artists with labels found to put in legend.  Note that artists whose label start with an underscore are ignored when legend() is called with no argument.\n"
     ]
    },
    {
     "data": {
      "text/plain": [
       "<Figure size 1200x600 with 3 Axes>"
      ],
      "image/png": "[encoded data removed]"
     },
     "metadata": {},
     "output_type": "display_data"
    }
   ],
   "execution_count": 70
  },
  {
   "metadata": {
    "ExecuteTime": {
     "end_time": "2024-05-04T05:29:46.286846Z",
     "start_time": "2024-05-04T05:29:46.279349Z"
    }
   },
   "cell_type": "code",
   "source": [
    "carry_returns.with_columns(\n",
    "    ((pl.col('avg_monthly_return') - pl.col('avg_monthly_return').mean()) / pl.col('avg_monthly_return').std()).alias('expected_alpha_z')\n",
    ")"
   ],
   "id": "7bdcd5533e1544d2",
   "outputs": [
    {
     "data": {
      "text/plain": [
       "shape: (10, 5)\n",
       "┌──────────────┬────────────────────┬───────────────┬──────────────┬──────────────────┐\n",
       "│ oas_quantile ┆ avg_monthly_return ┆ monthly_stdev ┆ sharpe_ratio ┆ expected_alpha_z │\n",
       "│ ---          ┆ ---                ┆ ---           ┆ ---          ┆ ---              │\n",
       "│ i64          ┆ f64                ┆ f64           ┆ f64          ┆ f64              │\n",
       "╞══════════════╪════════════════════╪═══════════════╪══════════════╪══════════════════╡\n",
       "│ 1            ┆ -0.000656          ┆ 0.014037      ┆ -0.161928    ┆ -1.300484        │\n",
       "│ 2            ┆ 0.001219           ┆ 0.014676      ┆ 0.287683     ┆ -0.805168        │\n",
       "│ 3            ┆ 0.00216            ┆ 0.015052      ┆ 0.497079     ┆ -0.55657         │\n",
       "│ 4            ┆ 0.002723           ┆ 0.015797      ┆ 0.597041     ┆ -0.407894        │\n",
       "│ 5            ┆ 0.003517           ┆ 0.01588       ┆ 0.7672       ┆ -0.19808         │\n",
       "│ 6            ┆ 0.003704           ┆ 0.016759      ┆ 0.765702     ┆ -0.148589        │\n",
       "│ 7            ┆ 0.004641           ┆ 0.018159      ┆ 0.885328     ┆ 0.09885          │\n",
       "│ 8            ┆ 0.005322           ┆ 0.020012      ┆ 0.921306     ┆ 0.278857         │\n",
       "│ 9            ┆ 0.006832           ┆ 0.023859      ┆ 0.991946     ┆ 0.67768          │\n",
       "│ 10           ┆ 0.013206           ┆ 0.034957      ┆ 1.308619     ┆ 2.361398         │\n",
       "└──────────────┴────────────────────┴───────────────┴──────────────┴──────────────────┘"
      ],
      "text/html": [
       "<div><style>\n",
       ".dataframe > thead > tr,\n",
       ".dataframe > tbody > tr {\n",
       "  text-align: right;\n",
       "  white-space: pre-wrap;\n",
       "}\n",
       "</style>\n",
       "<small>shape: (10, 5)</small><table border=\"1\" class=\"dataframe\"><thead><tr><th>oas_quantile</th><th>avg_monthly_return</th><th>monthly_stdev</th><th>sharpe_ratio</th><th>expected_alpha_z</th></tr><tr><td>i64</td><td>f64</td><td>f64</td><td>f64</td><td>f64</td></tr></thead><tbody><tr><td>1</td><td>-0.000656</td><td>0.014037</td><td>-0.161928</td><td>-1.300484</td></tr><tr><td>2</td><td>0.001219</td><td>0.014676</td><td>0.287683</td><td>-0.805168</td></tr><tr><td>3</td><td>0.00216</td><td>0.015052</td><td>0.497079</td><td>-0.55657</td></tr><tr><td>4</td><td>0.002723</td><td>0.015797</td><td>0.597041</td><td>-0.407894</td></tr><tr><td>5</td><td>0.003517</td><td>0.01588</td><td>0.7672</td><td>-0.19808</td></tr><tr><td>6</td><td>0.003704</td><td>0.016759</td><td>0.765702</td><td>-0.148589</td></tr><tr><td>7</td><td>0.004641</td><td>0.018159</td><td>0.885328</td><td>0.09885</td></tr><tr><td>8</td><td>0.005322</td><td>0.020012</td><td>0.921306</td><td>0.278857</td></tr><tr><td>9</td><td>0.006832</td><td>0.023859</td><td>0.991946</td><td>0.67768</td></tr><tr><td>10</td><td>0.013206</td><td>0.034957</td><td>1.308619</td><td>2.361398</td></tr></tbody></table></div>"
      ]
     },
     "execution_count": 58,
     "metadata": {},
     "output_type": "execute_result"
    }
   ],
   "execution_count": 58
  },
  {
   "metadata": {
    "ExecuteTime": {
     "end_time": "2024-05-04T05:26:11.449991Z",
     "start_time": "2024-05-04T05:26:11.443489Z"
    }
   },
   "cell_type": "code",
   "source": "oas_spline.predict([3]).values",
   "id": "95663138321901ca",
   "outputs": [
    {
     "data": {
      "text/plain": [
       "array([0.00213318])"
      ]
     },
     "execution_count": 56,
     "metadata": {},
     "output_type": "execute_result"
    }
   ],
   "execution_count": 56
  },
  {
   "metadata": {
    "ExecuteTime": {
     "end_time": "2024-05-04T05:20:27.642004Z",
     "start_time": "2024-05-04T05:20:27.632003Z"
    }
   },
   "cell_type": "code",
   "source": "oas_quantiles.select('date', 'cusip', 'residual_return_t+1', 'oas_quantile').max()",
   "id": "115a23e18698fb57",
   "outputs": [
    {
     "data": {
      "text/plain": [
       "shape: (1, 4)\n",
       "┌────────────┬───────────┬─────────────────────┬──────────────┐\n",
       "│ date       ┆ cusip     ┆ residual_return_t+1 ┆ oas_quantile │\n",
       "│ ---        ┆ ---       ┆ ---                 ┆ ---          │\n",
       "│ date       ┆ str       ┆ f64                 ┆ i64          │\n",
       "╞════════════╪═══════════╪═════════════════════╪══════════════╡\n",
       "│ 2014-12-31 ┆ 989822AA9 ┆ 4.069913            ┆ 10           │\n",
       "└────────────┴───────────┴─────────────────────┴──────────────┘"
      ],
      "text/html": [
       "<div><style>\n",
       ".dataframe > thead > tr,\n",
       ".dataframe > tbody > tr {\n",
       "  text-align: right;\n",
       "  white-space: pre-wrap;\n",
       "}\n",
       "</style>\n",
       "<small>shape: (1, 4)</small><table border=\"1\" class=\"dataframe\"><thead><tr><th>date</th><th>cusip</th><th>residual_return_t+1</th><th>oas_quantile</th></tr><tr><td>date</td><td>str</td><td>f64</td><td>i64</td></tr></thead><tbody><tr><td>2014-12-31</td><td>&quot;989822AA9&quot;</td><td>4.069913</td><td>10</td></tr></tbody></table></div>"
      ]
     },
     "execution_count": 23,
     "metadata": {},
     "output_type": "execute_result"
    }
   ],
   "execution_count": 23
  },
  {
   "metadata": {
    "ExecuteTime": {
     "end_time": "2024-05-04T05:20:27.654003Z",
     "start_time": "2024-05-04T05:20:27.643503Z"
    }
   },
   "cell_type": "code",
   "source": "oas_quantiles.select('date', 'cusip', 'residual_return_t+1', 'oas_quantile').max()",
   "id": "7c0494b092f7d8c2",
   "outputs": [
    {
     "data": {
      "text/plain": [
       "shape: (1, 4)\n",
       "┌────────────┬───────────┬─────────────────────┬──────────────┐\n",
       "│ date       ┆ cusip     ┆ residual_return_t+1 ┆ oas_quantile │\n",
       "│ ---        ┆ ---       ┆ ---                 ┆ ---          │\n",
       "│ date       ┆ str       ┆ f64                 ┆ i64          │\n",
       "╞════════════╪═══════════╪═════════════════════╪══════════════╡\n",
       "│ 2014-12-31 ┆ 989822AA9 ┆ 4.069913            ┆ 10           │\n",
       "└────────────┴───────────┴─────────────────────┴──────────────┘"
      ],
      "text/html": [
       "<div><style>\n",
       ".dataframe > thead > tr,\n",
       ".dataframe > tbody > tr {\n",
       "  text-align: right;\n",
       "  white-space: pre-wrap;\n",
       "}\n",
       "</style>\n",
       "<small>shape: (1, 4)</small><table border=\"1\" class=\"dataframe\"><thead><tr><th>date</th><th>cusip</th><th>residual_return_t+1</th><th>oas_quantile</th></tr><tr><td>date</td><td>str</td><td>f64</td><td>i64</td></tr></thead><tbody><tr><td>2014-12-31</td><td>&quot;989822AA9&quot;</td><td>4.069913</td><td>10</td></tr></tbody></table></div>"
      ]
     },
     "execution_count": 24,
     "metadata": {},
     "output_type": "execute_result"
    }
   ],
   "execution_count": 24
  },
  {
   "metadata": {
    "ExecuteTime": {
     "end_time": "2024-05-04T05:21:18.986097Z",
     "start_time": "2024-05-04T05:21:16.584098Z"
    }
   },
   "cell_type": "code",
   "source": "oas_quantiles.select('date', 'cusip', 'residual_return_t+1', 'oas_bucket_delta').to_pandas().plot(kind='scatter', x='oas_bucket_delta', y='residual_return_t+1')",
   "id": "a9baf36e3204741b",
   "outputs": [
    {
     "data": {
      "text/plain": [
       "<Axes: xlabel='oas_bucket_delta', ylabel='residual_return_t+1'>"
      ]
     },
     "execution_count": 50,
     "metadata": {},
     "output_type": "execute_result"
    },
    {
     "data": {
      "text/plain": [
       "<Figure size 640x480 with 1 Axes>"
      ],
      "image/png": "[encoded data removed]"
     },
     "metadata": {},
     "output_type": "display_data"
    }
   ],
   "execution_count": 50
  },
  {
   "metadata": {
    "ExecuteTime": {
     "end_time": "2024-05-04T05:20:30.678003Z",
     "start_time": "2024-05-04T05:20:29.866002Z"
    }
   },
   "cell_type": "code",
   "source": [
    "transition_probs = compute_transition_matrix(oas_quantiles, 'oas_quantile', 10, lag=1, plot=True)\n",
    "np.round(transition_probs, 2) * 100"
   ],
   "id": "268b0720aa056e08",
   "outputs": [
    {
     "data": {
      "text/plain": [
       "array([[62., 23.,  7.,  3.,  2.,  1.,  1.,  1.,  0.,  0.],\n",
       "       [19., 50., 20.,  6.,  2.,  1.,  1.,  0.,  0.,  0.],\n",
       "       [ 6., 21., 44., 18.,  6.,  2.,  1.,  1.,  0.,  0.],\n",
       "       [ 3.,  7., 21., 41., 17.,  5.,  2.,  1.,  1.,  0.],\n",
       "       [ 2.,  3.,  8., 22., 40., 16.,  5.,  2.,  1.,  1.],\n",
       "       [ 1.,  2.,  4.,  8., 21., 39., 16.,  5.,  2.,  1.],\n",
       "       [ 1.,  2.,  3.,  5.,  9., 21., 39., 15.,  5.,  2.],\n",
       "       [ 1.,  1.,  2.,  3.,  5.,  9., 20., 40., 14.,  4.],\n",
       "       [ 2.,  1.,  2.,  2.,  3.,  5.,  8., 20., 44., 13.],\n",
       "       [ 2.,  2.,  2.,  2.,  3.,  3.,  5.,  8., 19., 54.]])"
      ]
     },
     "execution_count": 26,
     "metadata": {},
     "output_type": "execute_result"
    },
    {
     "data": {
      "text/plain": [
       "<Figure size 640x480 with 1 Axes>"
      ],
      "image/png": "[encoded data removed]"
     },
     "metadata": {},
     "output_type": "display_data"
    }
   ],
   "execution_count": 26
  },
  {
   "metadata": {},
   "cell_type": "markdown",
   "source": "## Momentum (Excess Credit Return)",
   "id": "33f58e909dee7692"
  },
  {
   "metadata": {},
   "cell_type": "markdown",
   "source": [
    "We use the **Credit Excess Return**, as defined by the AQR paper, to define momentum.\n",
    "\n",
    "$$\n",
    "CER_t=\\frac{1}{12}Spread_{t-1}-\\text{Spread Duration}_{t-1}\\times(Spread_t-Spread_{t-1})\n",
    "$$\n",
    "\n",
    "Which translated to our data is\n",
    "\n",
    "$$\n",
    "CER_t=\\frac{1}{12}OAS_{t-1}-\\text{duration}_{t-1}\\times(OAS_t-OAS_{t-1})\n",
    "$$\n"
   ],
   "id": "93d876544a98ef69"
  },
  {
   "metadata": {
    "ExecuteTime": {
     "end_time": "2024-05-04T05:20:30.686502Z",
     "start_time": "2024-05-04T05:20:30.679003Z"
    }
   },
   "cell_type": "code",
   "source": "bond_data.select('YIELD', 'bond_yield').null_count()",
   "id": "bf3b3abbce6a72d5",
   "outputs": [
    {
     "data": {
      "text/plain": [
       "shape: (1, 2)\n",
       "┌───────┬────────────┐\n",
       "│ YIELD ┆ bond_yield │\n",
       "│ ---   ┆ ---        │\n",
       "│ u32   ┆ u32        │\n",
       "╞═══════╪════════════╡\n",
       "│ 2654  ┆ 2654       │\n",
       "└───────┴────────────┘"
      ],
      "text/html": [
       "<div><style>\n",
       ".dataframe > thead > tr,\n",
       ".dataframe > tbody > tr {\n",
       "  text-align: right;\n",
       "  white-space: pre-wrap;\n",
       "}\n",
       "</style>\n",
       "<small>shape: (1, 2)</small><table border=\"1\" class=\"dataframe\"><thead><tr><th>YIELD</th><th>bond_yield</th></tr><tr><td>u32</td><td>u32</td></tr></thead><tbody><tr><td>2654</td><td>2654</td></tr></tbody></table></div>"
      ]
     },
     "execution_count": 27,
     "metadata": {},
     "output_type": "execute_result"
    }
   ],
   "execution_count": 27
  },
  {
   "metadata": {
    "ExecuteTime": {
     "end_time": "2024-05-04T05:20:31.015001Z",
     "start_time": "2024-05-04T05:20:30.688503Z"
    }
   },
   "cell_type": "code",
   "source": [
    "# compute excess credit return at each timestamp\n",
    "bond_data = bond_data.sort(['cusip', 'date'])\n",
    "bond_data = bond_data.with_columns(\n",
    "    spread_duration = pl.col('oas') / pl.col('bond_yield') * pl.col('duration') / pl.col('bond_yield').add(1)\n",
    ").with_columns(\n",
    "    excess_credit_ret=(pl.col('oas').shift(1) / 12 - pl.col('spread_duration') * (pl.col('oas') - pl.col('oas').shift(1)))\n",
    ")\n",
    "\n",
    "mask = pl.col('cusip') != pl.col('cusip').shift(1)\n",
    "\n",
    "bond_data = bond_data.with_columns(\n",
    "    excess_credit_ret=pl.when(mask).then(np.nan).otherwise(pl.col('excess_credit_ret'))\n",
    ")"
   ],
   "id": "59b7437845939dfd",
   "outputs": [],
   "execution_count": 28
  },
  {
   "metadata": {
    "ExecuteTime": {
     "end_time": "2024-05-04T05:20:33.021502Z",
     "start_time": "2024-05-04T05:20:31.016002Z"
    }
   },
   "cell_type": "code",
   "source": [
    "# compute the x_month rolling excess return\n",
    "def momentum(df: pl.DataFrame, period: str, min_periods: int, n_months: int):\n",
    "    momentum_returns = df.sort(['cusip', 'date']).rolling('date', group_by='cusip', period=period).agg(\n",
    "        pl.when(pl.col('excess_credit_ret').len() > min_periods).then(pl.col('excess_credit_ret').add(1).product().sub(1)).otherwise(np.nan).alias(f'mom_{n_months}mo'),\n",
    "        pl.when(pl.col('excess_credit_ret').len() > min_periods).then(pl.col('bondprc').last() / pl.col('bondprc').first() - 1).otherwise(np.nan).alias(f'price_mom_{n_months}mo'),\n",
    "    )\n",
    "    return momentum_returns\n",
    "\n",
    "\n",
    "mom_6mo = momentum(bond_data, '5mo20d', 5, 6)\n",
    "mom_12mo = momentum(bond_data, '11mo20d', 9, 12)\n",
    "\n",
    "bond_data = bond_data.join(\n",
    "    mom_6mo,\n",
    "    how='left',\n",
    "    on=['cusip', 'date'],\n",
    ").join(\n",
    "    mom_12mo,\n",
    "    how='left',\n",
    "    on=['cusip', 'date'],\n",
    ")"
   ],
   "id": "9c5498e7e8c8ee09",
   "outputs": [],
   "execution_count": 29
  },
  {
   "metadata": {
    "ExecuteTime": {
     "end_time": "2024-05-04T05:20:47.748502Z",
     "start_time": "2024-05-04T05:20:33.023002Z"
    }
   },
   "cell_type": "code",
   "source": [
    "mom_quantiles_6mo = compute_quantiles(bond_data, 'price_mom_6mo', 10)\n",
    "mom_quantiles_12mo = compute_quantiles(bond_data, 'price_mom_12mo', 10)"
   ],
   "id": "86fcbaac59102929",
   "outputs": [
    {
     "name": "stdout",
     "output_type": "stream",
     "text": [
      "computing... 1000/4437 2000/4437 3000/4437 4000/4437 ... done!\n"
     ]
    },
    {
     "name": "stderr",
     "output_type": "stream",
     "text": [
      "sys:1: CategoricalRemappingWarning: Local categoricals have different encodings, expensive re-encoding is done to perform this merge operation. Consider using a StringCache or an Enum type if the categories are known in advance\n"
     ]
    },
    {
     "name": "stdout",
     "output_type": "stream",
     "text": [
      "computing... 1000/4437 2000/4437 3000/4437 4000/4437 ... done!\n"
     ]
    }
   ],
   "execution_count": 30
  },
  {
   "metadata": {
    "ExecuteTime": {
     "end_time": "2024-05-04T05:20:48.047004Z",
     "start_time": "2024-05-04T05:20:47.750504Z"
    }
   },
   "cell_type": "code",
   "source": "get_expected_alpha(mom_quantiles_6mo, 'price_mom_6mo_quantile', plot=True, interpolate=True)",
   "id": "8c5b95460922cdaa",
   "outputs": [
    {
     "name": "stderr",
     "output_type": "stream",
     "text": [
      "No artists with labels found to put in legend.  Note that artists whose label start with an underscore are ignored when legend() is called with no argument.\n"
     ]
    },
    {
     "data": {
      "text/plain": [
       "(shape: (10, 4)\n",
       " ┌────────────────────────┬────────────────────┬───────────────┬──────────────┐\n",
       " │ price_mom_6mo_quantile ┆ avg_monthly_return ┆ monthly_stdev ┆ sharpe_ratio │\n",
       " │ ---                    ┆ ---                ┆ ---           ┆ ---          │\n",
       " │ i64                    ┆ f64                ┆ f64           ┆ f64          │\n",
       " ╞════════════════════════╪════════════════════╪═══════════════╪══════════════╡\n",
       " │ 1                      ┆ 0.012411           ┆ 0.03069       ┆ 1.400894     │\n",
       " │ 2                      ┆ 0.006596           ┆ 0.020526      ┆ 1.113124     │\n",
       " │ 3                      ┆ 0.005063           ┆ 0.018006      ┆ 0.974036     │\n",
       " │ 4                      ┆ 0.004131           ┆ 0.016893      ┆ 0.847085     │\n",
       " │ 5                      ┆ 0.003452           ┆ 0.015323      ┆ 0.780392     │\n",
       " │ 6                      ┆ 0.003133           ┆ 0.015538      ┆ 0.698579     │\n",
       " │ 7                      ┆ 0.002439           ┆ 0.015074      ┆ 0.560505     │\n",
       " │ 8                      ┆ 0.001872           ┆ 0.01625       ┆ 0.399066     │\n",
       " │ 9                      ┆ 0.000982           ┆ 0.015848      ┆ 0.214576     │\n",
       " │ 10                     ┆ -0.000519          ┆ 0.018608      ┆ -0.096574    │\n",
       " └────────────────────────┴────────────────────┴───────────────┴──────────────┘,\n",
       " shape: (1_589, 3)\n",
       " ┌────────────┬────────────────────────┬─────────────┐\n",
       " │ date       ┆ price_mom_6mo_quantile ┆ mean_return │\n",
       " │ ---        ┆ ---                    ┆ ---         │\n",
       " │ date       ┆ i64                    ┆ f64         │\n",
       " ╞════════════╪════════════════════════╪═════════════╡\n",
       " │ 2004-06-30 ┆ 3                      ┆ 0.012835    │\n",
       " │ 2014-10-31 ┆ 5                      ┆ 0.001245    │\n",
       " │ 2006-12-31 ┆ 4                      ┆ -0.000722   │\n",
       " │ 2006-04-30 ┆ 2                      ┆ 0.001398    │\n",
       " │ 2004-08-31 ┆ 1                      ┆ 0.013648    │\n",
       " │ …          ┆ …                      ┆ …           │\n",
       " │ 2005-04-30 ┆ 2                      ┆ 0.014887    │\n",
       " │ 2011-08-31 ┆ null                   ┆ -0.001436   │\n",
       " │ 2013-05-31 ┆ 6                      ┆ -0.026494   │\n",
       " │ 2011-01-31 ┆ 2                      ┆ 0.004077    │\n",
       " │ 2006-04-30 ┆ 6                      ┆ -0.000662   │\n",
       " └────────────┴────────────────────────┴─────────────┘)"
      ]
     },
     "execution_count": 31,
     "metadata": {},
     "output_type": "execute_result"
    },
    {
     "data": {
      "text/plain": [
       "<Figure size 640x480 with 2 Axes>"
      ],
      "image/png": "[encoded data removed]"
     },
     "metadata": {},
     "output_type": "display_data"
    }
   ],
   "execution_count": 31
  },
  {
   "metadata": {
    "ExecuteTime": {
     "end_time": "2024-05-04T05:20:48.367002Z",
     "start_time": "2024-05-04T05:20:48.049003Z"
    }
   },
   "cell_type": "code",
   "source": "get_expected_alpha(mom_quantiles_12mo, 'price_mom_12mo_quantile', plot=True, interpolate=True)",
   "id": "ae99829259179807",
   "outputs": [
    {
     "name": "stderr",
     "output_type": "stream",
     "text": [
      "No artists with labels found to put in legend.  Note that artists whose label start with an underscore are ignored when legend() is called with no argument.\n"
     ]
    },
    {
     "data": {
      "text/plain": [
       "(shape: (10, 4)\n",
       " ┌─────────────────────────┬────────────────────┬───────────────┬──────────────┐\n",
       " │ price_mom_12mo_quantile ┆ avg_monthly_return ┆ monthly_stdev ┆ sharpe_ratio │\n",
       " │ ---                     ┆ ---                ┆ ---           ┆ ---          │\n",
       " │ i64                     ┆ f64                ┆ f64           ┆ f64          │\n",
       " ╞═════════════════════════╪════════════════════╪═══════════════╪══════════════╡\n",
       " │ 1                       ┆ 0.011585           ┆ 0.035046      ┆ 1.145126     │\n",
       " │ 2                       ┆ 0.006138           ┆ 0.023924      ┆ 0.888809     │\n",
       " │ 3                       ┆ 0.004739           ┆ 0.019302      ┆ 0.850514     │\n",
       " │ 4                       ┆ 0.003789           ┆ 0.016715      ┆ 0.785192     │\n",
       " │ 5                       ┆ 0.002834           ┆ 0.016393      ┆ 0.598847     │\n",
       " │ 6                       ┆ 0.002205           ┆ 0.015582      ┆ 0.490137     │\n",
       " │ 7                       ┆ 0.001904           ┆ 0.014966      ┆ 0.440743     │\n",
       " │ 8                       ┆ 0.001048           ┆ 0.01426       ┆ 0.254661     │\n",
       " │ 9                       ┆ 0.00063            ┆ 0.014276      ┆ 0.152912     │\n",
       " │ 10                      ┆ -0.001112          ┆ 0.015174      ┆ -0.253963    │\n",
       " └─────────────────────────┴────────────────────┴───────────────┴──────────────┘,\n",
       " shape: (1_549, 3)\n",
       " ┌────────────┬─────────────────────────┬─────────────┐\n",
       " │ date       ┆ price_mom_12mo_quantile ┆ mean_return │\n",
       " │ ---        ┆ ---                     ┆ ---         │\n",
       " │ date       ┆ i64                     ┆ f64         │\n",
       " ╞════════════╪═════════════════════════╪═════════════╡\n",
       " │ 2009-04-30 ┆ 7                       ┆ 0.010846    │\n",
       " │ 2004-08-31 ┆ 4                       ┆ 0.006618    │\n",
       " │ 2007-09-30 ┆ 1                       ┆ 0.012165    │\n",
       " │ 2009-04-30 ┆ 6                       ┆ 0.020125    │\n",
       " │ 2013-01-31 ┆ 4                       ┆ 0.005537    │\n",
       " │ …          ┆ …                       ┆ …           │\n",
       " │ 2013-11-30 ┆ 10                      ┆ -0.00357    │\n",
       " │ 2010-05-31 ┆ 9                       ┆ 0.0112      │\n",
       " │ 2011-07-31 ┆ 6                       ┆ 0.001027    │\n",
       " │ 2009-01-31 ┆ 6                       ┆ -0.024938   │\n",
       " │ 2007-07-31 ┆ 4                       ┆ 0.010418    │\n",
       " └────────────┴─────────────────────────┴─────────────┘)"
      ]
     },
     "execution_count": 32,
     "metadata": {},
     "output_type": "execute_result"
    },
    {
     "data": {
      "text/plain": [
       "<Figure size 640x480 with 2 Axes>"
      ],
      "image/png": "[encoded data removed]"
     },
     "metadata": {},
     "output_type": "display_data"
    }
   ],
   "execution_count": 32
  },
  {
   "metadata": {
    "ExecuteTime": {
     "end_time": "2024-05-04T05:20:49.207005Z",
     "start_time": "2024-05-04T05:20:48.368503Z"
    }
   },
   "cell_type": "code",
   "source": "compute_transition_matrix(mom_quantiles_6mo, 'price_mom_6mo_quantile', 10, lag=1, plot=True)",
   "id": "64d087b48d046795",
   "outputs": [
    {
     "data": {
      "text/plain": [
       "array([[0.38265221, 0.18300654, 0.10840576, 0.07962843, 0.05765041,\n",
       "        0.04577558, 0.03816227, 0.03442745, 0.03119538, 0.03909598],\n",
       "       [0.20198177, 0.21831153, 0.16229357, 0.11465187, 0.08450258,\n",
       "        0.06296737, 0.05057471, 0.04185493, 0.03313516, 0.02972652],\n",
       "       [0.12678377, 0.16571444, 0.1762111 , 0.14902607, 0.11155696,\n",
       "        0.08705588, 0.06396322, 0.04971965, 0.03776142, 0.03220749],\n",
       "       [0.09059675, 0.11858449, 0.15199006, 0.15970717, 0.14297796,\n",
       "        0.10714097, 0.08504678, 0.06097045, 0.04691051, 0.03607485],\n",
       "       [0.06568032, 0.0881638 , 0.11651255, 0.14531044, 0.15767503,\n",
       "        0.13484808, 0.11083223, 0.08182299, 0.05820343, 0.04095112],\n",
       "       [0.05552503, 0.06602011, 0.08893346, 0.11681961, 0.14481565,\n",
       "        0.1554481 , 0.13816693, 0.11006099, 0.07319083, 0.05101929],\n",
       "       [0.04652645, 0.05289994, 0.06994208, 0.08958905, 0.11802034,\n",
       "        0.14426248, 0.1653504 , 0.14110344, 0.10543963, 0.06686618],\n",
       "       [0.04191942, 0.0435218 , 0.05450956, 0.07093396, 0.0939968 ,\n",
       "        0.11628706, 0.15073824, 0.17960971, 0.14987982, 0.09860364],\n",
       "       [0.03583885, 0.03755262, 0.04410704, 0.05450992, 0.06743836,\n",
       "        0.08304269, 0.11629585, 0.16695731, 0.2230006 , 0.17125676],\n",
       "       [0.04056212, 0.03150315, 0.03310008, 0.03789089, 0.0439302 ,\n",
       "        0.05595076, 0.07235562, 0.1042943 , 0.17450132, 0.40591156]])"
      ]
     },
     "execution_count": 33,
     "metadata": {},
     "output_type": "execute_result"
    },
    {
     "data": {
      "text/plain": [
       "<Figure size 640x480 with 1 Axes>"
      ],
      "image/png": "[encoded data removed]"
     },
     "metadata": {},
     "output_type": "display_data"
    }
   ],
   "execution_count": 33
  },
  {
   "metadata": {
    "ExecuteTime": {
     "end_time": "2024-05-04T05:20:50.177505Z",
     "start_time": "2024-05-04T05:20:49.209503Z"
    }
   },
   "cell_type": "code",
   "source": "compute_transition_matrix(mom_quantiles_12mo, 'price_mom_12mo_quantile', 10, lag=1, plot=True)",
   "id": "dfc66add108878a7",
   "outputs": [
    {
     "data": {
      "text/plain": [
       "array([[0.50007443, 0.19679452, 0.09822359, 0.06232323, 0.04205329,\n",
       "        0.0289287 , 0.02399147, 0.01764005, 0.0143403 , 0.01563043],\n",
       "       [0.21904813, 0.28577571, 0.18255355, 0.11037059, 0.06842063,\n",
       "        0.04627664, 0.03283975, 0.02351455, 0.01768294, 0.01351751],\n",
       "       [0.11040889, 0.19689994, 0.22697431, 0.17058487, 0.11212509,\n",
       "        0.06971043, 0.04669155, 0.03056471, 0.02078509, 0.01525511],\n",
       "       [0.06764921, 0.11340793, 0.18306196, 0.2096665 , 0.16236352,\n",
       "        0.10200211, 0.06716155, 0.04554198, 0.03045163, 0.01869361],\n",
       "       [0.04852682, 0.07197638, 0.11589605, 0.176258  , 0.20081108,\n",
       "        0.14977378, 0.10384021, 0.06725888, 0.0411333 , 0.02452549],\n",
       "       [0.0345511 , 0.05046591, 0.0781837 , 0.1181482 , 0.16683922,\n",
       "        0.19985209, 0.15444461, 0.10285461, 0.0616181 , 0.03304245],\n",
       "       [0.02705637, 0.03453684, 0.05311736, 0.08056586, 0.12041143,\n",
       "        0.16550538, 0.21228848, 0.16031732, 0.09652219, 0.04967876],\n",
       "       [0.02075346, 0.02718545, 0.0378315 , 0.05136086, 0.08184151,\n",
       "        0.11574411, 0.17889167, 0.23364279, 0.16716834, 0.0855803 ],\n",
       "       [0.01805693, 0.0210154 , 0.02479002, 0.03686197, 0.05026014,\n",
       "        0.07416601, 0.11425851, 0.19128099, 0.29295746, 0.17635257],\n",
       "       [0.01935506, 0.01610642, 0.01788462, 0.0226037 , 0.03084499,\n",
       "        0.03747905, 0.05714188, 0.09650173, 0.18606162, 0.51602093]])"
      ]
     },
     "execution_count": 34,
     "metadata": {},
     "output_type": "execute_result"
    },
    {
     "data": {
      "text/plain": [
       "<Figure size 640x480 with 1 Axes>"
      ],
      "image/png": "[encoded data removed]"
     },
     "metadata": {},
     "output_type": "display_data"
    }
   ],
   "execution_count": 34
  },
  {
   "metadata": {},
   "cell_type": "markdown",
   "source": "## Value",
   "id": "95ef4c3988e1d508"
  },
  {
   "metadata": {},
   "cell_type": "markdown",
   "source": "We use **Excess Spread to Peers** as a Value Signal in our strategy.",
   "id": "ce35a477dbdde22"
  },
  {
   "metadata": {
    "ExecuteTime": {
     "end_time": "2024-05-04T05:20:50.188002Z",
     "start_time": "2024-05-04T05:20:50.180004Z"
    }
   },
   "cell_type": "code",
   "source": "bond_data.select('oas').null_count()",
   "id": "4af16b2f29835fe5",
   "outputs": [
    {
     "data": {
      "text/plain": [
       "shape: (1, 1)\n",
       "┌─────┐\n",
       "│ oas │\n",
       "│ --- │\n",
       "│ u32 │\n",
       "╞═════╡\n",
       "│ 0   │\n",
       "└─────┘"
      ],
      "text/html": [
       "<div><style>\n",
       ".dataframe > thead > tr,\n",
       ".dataframe > tbody > tr {\n",
       "  text-align: right;\n",
       "  white-space: pre-wrap;\n",
       "}\n",
       "</style>\n",
       "<small>shape: (1, 1)</small><table border=\"1\" class=\"dataframe\"><thead><tr><th>oas</th></tr><tr><td>u32</td></tr></thead><tbody><tr><td>0</td></tr></tbody></table></div>"
      ]
     },
     "execution_count": 35,
     "metadata": {},
     "output_type": "execute_result"
    }
   ],
   "execution_count": 35
  },
  {
   "metadata": {
    "ExecuteTime": {
     "end_time": "2024-05-04T05:20:50.248002Z",
     "start_time": "2024-05-04T05:20:50.189502Z"
    }
   },
   "cell_type": "code",
   "source": "bond_data.filter(pl.col('oas').is_nan()).n_unique('cusip')",
   "id": "de1c279aeeff9a6e",
   "outputs": [
    {
     "data": {
      "text/plain": [
       "4835"
      ]
     },
     "execution_count": 36,
     "metadata": {},
     "output_type": "execute_result"
    }
   ],
   "execution_count": 36
  },
  {
   "metadata": {
    "ExecuteTime": {
     "end_time": "2024-05-04T05:20:50.298014Z",
     "start_time": "2024-05-04T05:20:50.249002Z"
    }
   },
   "cell_type": "code",
   "source": "oas_bucket_means = bond_data.group_by(['date', 'bucket']).agg(pl.col('oas').drop_nans().mean().alias('ESP_bucket_mean_oas'))",
   "id": "a44bfa927bbf6c75",
   "outputs": [],
   "execution_count": 37
  },
  {
   "metadata": {
    "ExecuteTime": {
     "end_time": "2024-05-04T05:20:50.308506Z",
     "start_time": "2024-05-04T05:20:50.299505Z"
    }
   },
   "cell_type": "code",
   "source": "oas_bucket_means",
   "id": "5d7b7e8a5cc1bae2",
   "outputs": [
    {
     "data": {
      "text/plain": [
       "shape: (4_437, 3)\n",
       "┌────────────┬────────┬─────────────────────┐\n",
       "│ date       ┆ bucket ┆ ESP_bucket_mean_oas │\n",
       "│ ---        ┆ ---    ┆ ---                 │\n",
       "│ date       ┆ str    ┆ f64                 │\n",
       "╞════════════╪════════╪═════════════════════╡\n",
       "│ 2009-02-28 ┆ 2_A_1  ┆ 0.027662            │\n",
       "│ 2012-02-29 ┆ 3_B_2  ┆ 0.030089            │\n",
       "│ 2003-09-30 ┆ 4_B_2  ┆ 0.024077            │\n",
       "│ 2007-10-31 ┆ 2_A_2  ┆ 0.009738            │\n",
       "│ 2005-11-30 ┆ 3_A_2  ┆ 0.010698            │\n",
       "│ …          ┆ …      ┆ …                   │\n",
       "│ 2009-07-31 ┆ 1_A_1  ┆ 0.012977            │\n",
       "│ 2010-04-30 ┆ 5_A_1  ┆ 0.019134            │\n",
       "│ 2010-01-31 ┆ 2_B_1  ┆ 0.045483            │\n",
       "│ 2013-03-31 ┆ 5_B_2  ┆ 0.038605            │\n",
       "│ 2007-05-31 ┆ 3_A_2  ┆ 0.008338            │\n",
       "└────────────┴────────┴─────────────────────┘"
      ],
      "text/html": [
       "<div><style>\n",
       ".dataframe > thead > tr,\n",
       ".dataframe > tbody > tr {\n",
       "  text-align: right;\n",
       "  white-space: pre-wrap;\n",
       "}\n",
       "</style>\n",
       "<small>shape: (4_437, 3)</small><table border=\"1\" class=\"dataframe\"><thead><tr><th>date</th><th>bucket</th><th>ESP_bucket_mean_oas</th></tr><tr><td>date</td><td>str</td><td>f64</td></tr></thead><tbody><tr><td>2009-02-28</td><td>&quot;2_A_1&quot;</td><td>0.027662</td></tr><tr><td>2012-02-29</td><td>&quot;3_B_2&quot;</td><td>0.030089</td></tr><tr><td>2003-09-30</td><td>&quot;4_B_2&quot;</td><td>0.024077</td></tr><tr><td>2007-10-31</td><td>&quot;2_A_2&quot;</td><td>0.009738</td></tr><tr><td>2005-11-30</td><td>&quot;3_A_2&quot;</td><td>0.010698</td></tr><tr><td>&hellip;</td><td>&hellip;</td><td>&hellip;</td></tr><tr><td>2009-07-31</td><td>&quot;1_A_1&quot;</td><td>0.012977</td></tr><tr><td>2010-04-30</td><td>&quot;5_A_1&quot;</td><td>0.019134</td></tr><tr><td>2010-01-31</td><td>&quot;2_B_1&quot;</td><td>0.045483</td></tr><tr><td>2013-03-31</td><td>&quot;5_B_2&quot;</td><td>0.038605</td></tr><tr><td>2007-05-31</td><td>&quot;3_A_2&quot;</td><td>0.008338</td></tr></tbody></table></div>"
      ]
     },
     "execution_count": 38,
     "metadata": {},
     "output_type": "execute_result"
    }
   ],
   "execution_count": 38
  },
  {
   "metadata": {
    "ExecuteTime": {
     "end_time": "2024-05-04T05:20:50.349503Z",
     "start_time": "2024-05-04T05:20:50.311004Z"
    }
   },
   "cell_type": "code",
   "source": "bond_data = bond_data.join(oas_bucket_means, on=['date', 'bucket'], how='left')",
   "id": "d87816e90ca1e2a0",
   "outputs": [],
   "execution_count": 39
  },
  {
   "metadata": {
    "ExecuteTime": {
     "end_time": "2024-05-04T05:20:50.368002Z",
     "start_time": "2024-05-04T05:20:50.358005Z"
    }
   },
   "cell_type": "code",
   "source": [
    "bond_data = bond_data.with_columns( \n",
    "    ESP = pl.col('oas') - pl.col('ESP_bucket_mean_oas'))"
   ],
   "id": "7c86c7bcabcbef92",
   "outputs": [],
   "execution_count": 40
  },
  {
   "metadata": {
    "ExecuteTime": {
     "end_time": "2024-05-04T05:20:50.382010Z",
     "start_time": "2024-05-04T05:20:50.374002Z"
    }
   },
   "cell_type": "code",
   "source": "bond_data.select('de_ratio', 'intcov_ratio', 'debt_ebitda').null_count()",
   "id": "7d77b3e16f1a7a2f",
   "outputs": [
    {
     "data": {
      "text/plain": [
       "shape: (1, 3)\n",
       "┌──────────┬──────────────┬─────────────┐\n",
       "│ de_ratio ┆ intcov_ratio ┆ debt_ebitda │\n",
       "│ ---      ┆ ---          ┆ ---         │\n",
       "│ u32      ┆ u32          ┆ u32         │\n",
       "╞══════════╪══════════════╪═════════════╡\n",
       "│ 106280   ┆ 136290       ┆ 109137      │\n",
       "└──────────┴──────────────┴─────────────┘"
      ],
      "text/html": [
       "<div><style>\n",
       ".dataframe > thead > tr,\n",
       ".dataframe > tbody > tr {\n",
       "  text-align: right;\n",
       "  white-space: pre-wrap;\n",
       "}\n",
       "</style>\n",
       "<small>shape: (1, 3)</small><table border=\"1\" class=\"dataframe\"><thead><tr><th>de_ratio</th><th>intcov_ratio</th><th>debt_ebitda</th></tr><tr><td>u32</td><td>u32</td><td>u32</td></tr></thead><tbody><tr><td>106280</td><td>136290</td><td>109137</td></tr></tbody></table></div>"
      ]
     },
     "execution_count": 41,
     "metadata": {},
     "output_type": "execute_result"
    }
   ],
   "execution_count": 41
  },
  {
   "metadata": {
    "ExecuteTime": {
     "end_time": "2024-05-04T05:20:50.398504Z",
     "start_time": "2024-05-04T05:20:50.386504Z"
    }
   },
   "cell_type": "code",
   "source": "bond_data.head(3)",
   "id": "4798d8ff3b2ba479",
   "outputs": [
    {
     "data": {
      "text/plain": [
       "shape: (3, 114)\n",
       "┌────────┬────────────┬───────────┬────────────┬───┬──────────┬────────────┬───────────┬───────────┐\n",
       "│        ┆ date       ┆ cusip     ┆ exretn_t+1 ┆ … ┆ mom_12mo ┆ price_mom_ ┆ ESP_bucke ┆ ESP       │\n",
       "│ ---    ┆ ---        ┆ ---       ┆ ---        ┆   ┆ ---      ┆ 12mo       ┆ t_mean_oa ┆ ---       │\n",
       "│ i64    ┆ date       ┆ str       ┆ f64        ┆   ┆ f64      ┆ ---        ┆ s         ┆ f64       │\n",
       "│        ┆            ┆           ┆            ┆   ┆          ┆ f64        ┆ ---       ┆           │\n",
       "│        ┆            ┆           ┆            ┆   ┆          ┆            ┆ f64       ┆           │\n",
       "╞════════╪════════════╪═══════════╪════════════╪═══╪══════════╪════════════╪═══════════╪═══════════╡\n",
       "│ 583213 ┆ 2012-05-31 ┆ 00037BAA0 ┆ 0.006186   ┆ … ┆ NaN      ┆ NaN        ┆ 0.011886  ┆ -0.001962 │\n",
       "│ 588586 ┆ 2012-06-30 ┆ 00037BAA0 ┆ 0.011728   ┆ … ┆ NaN      ┆ NaN        ┆ 0.010394  ┆ -0.002364 │\n",
       "│ 594002 ┆ 2012-07-31 ┆ 00037BAA0 ┆ -0.001191  ┆ … ┆ NaN      ┆ NaN        ┆ 0.009634  ┆ -0.00253  │\n",
       "└────────┴────────────┴───────────┴────────────┴───┴──────────┴────────────┴───────────┴───────────┘"
      ],
      "text/html": [
       "<div><style>\n",
       ".dataframe > thead > tr,\n",
       ".dataframe > tbody > tr {\n",
       "  text-align: right;\n",
       "  white-space: pre-wrap;\n",
       "}\n",
       "</style>\n",
       "<small>shape: (3, 114)</small><table border=\"1\" class=\"dataframe\"><thead><tr><th></th><th>date</th><th>cusip</th><th>exretn_t+1</th><th>exretnc_t+1</th><th>exretnc_dur_t+1</th><th>bond_ret_t+1</th><th>bond_ret</th><th>exretn</th><th>exretnc_dur</th><th>rating</th><th>cs</th><th>cs_6m_delta</th><th>bond_yield</th><th>bond_amount_out</th><th>offering_amt</th><th>bondprc</th><th>perc_par</th><th>tmt</th><th>duration</th><th>ind_num_17</th><th>sic_code</th><th>BOND_RET</th><th>ILLIQ</th><th>var95</th><th>n_trades_month</th><th>size_ig</th><th>size_jk</th><th>BOND_YIELD</th><th>CS</th><th>BONDPRC</th><th>PRFULL</th><th>CONVEXITY</th><th>CS_6M_DELTA</th><th>bond_value</th><th>BOND_VALUE</th><th>coupon</th><th>&hellip;</th><th>RET_L5M</th><th>REMCOUPS</th><th>DURATION_right</th><th>DEFAULT_DATE</th><th>DEFAULT_TYPE</th><th>REINSTATED</th><th>REINSTATED_DATE</th><th>PERMNO</th><th>PERMCO</th><th>link_startdt</th><th>link_enddt</th><th>gvkey</th><th>capital_ratio</th><th>debt_ebitda</th><th>de_ratio</th><th>intcov_ratio</th><th>cash_ratio</th><th>equity_month_return</th><th>datadate</th><th>shortintadj</th><th>unexpected_inflation</th><th>oas</th><th>bucket</th><th>dxs</th><th>weighted_dxs_median</th><th>weighted_ret_median</th><th>relative_dxs</th><th>systematic_return</th><th>residual_return_t+1</th><th>spread_duration</th><th>excess_credit_ret</th><th>mom_6mo</th><th>price_mom_6mo</th><th>mom_12mo</th><th>price_mom_12mo</th><th>ESP_bucket_mean_oas</th><th>ESP</th></tr><tr><td>i64</td><td>date</td><td>str</td><td>f64</td><td>f64</td><td>f64</td><td>f64</td><td>f64</td><td>f64</td><td>f64</td><td>f64</td><td>f64</td><td>f64</td><td>f64</td><td>f64</td><td>f64</td><td>f64</td><td>f64</td><td>f64</td><td>f64</td><td>f64</td><td>i64</td><td>f64</td><td>f64</td><td>f64</td><td>f64</td><td>f64</td><td>f64</td><td>f64</td><td>f64</td><td>f64</td><td>f64</td><td>f64</td><td>f64</td><td>f64</td><td>f64</td><td>f64</td><td>&hellip;</td><td>str</td><td>i64</td><td>f64</td><td>str</td><td>str</td><td>str</td><td>str</td><td>i64</td><td>i64</td><td>date</td><td>date</td><td>i64</td><td>f64</td><td>f64</td><td>f64</td><td>f64</td><td>f64</td><td>f64</td><td>date</td><td>f64</td><td>f64</td><td>f64</td><td>str</td><td>f64</td><td>f64</td><td>f64</td><td>f64</td><td>f64</td><td>f64</td><td>f64</td><td>f64</td><td>f64</td><td>f64</td><td>f64</td><td>f64</td><td>f64</td><td>f64</td></tr></thead><tbody><tr><td>583213</td><td>2012-05-31</td><td>&quot;00037BAA0&quot;</td><td>0.006186</td><td>0.007551</td><td>0.007479</td><td>0.006186</td><td>null</td><td>null</td><td>null</td><td>6.0</td><td>0.010429</td><td>null</td><td>0.016813</td><td>500000.0</td><td>500000.0</td><td>99.829504</td><td>0.998295</td><td>60.1</td><td>4.723592</td><td>11.0</td><td>3612</td><td>0.004055</td><td>0.003489</td><td>null</td><td>16.0</td><td>1.0</td><td>1.0</td><td>0.017072</td><td>0.010567</td><td>99.6121</td><td>99.715921</td><td>25.124045</td><td>null</td><td>4.9914752e7</td><td>4.980605e7</td><td>1.625</td><td>&hellip;</td><td>null</td><td>10</td><td>4.72</td><td>null</td><td>null</td><td>null</td><td>null</td><td>88953</td><td>41444</td><td>2012-05-03</td><td>2017-05-02</td><td>null</td><td>null</td><td>null</td><td>null</td><td>null</td><td>null</td><td>-0.129911</td><td>null</td><td>null</td><td>-0.004386</td><td>0.009923</td><td>&quot;2_A_2&quot;</td><td>0.046874</td><td>0.044825</td><td>0.001213</td><td>1.045719</td><td>0.001269</td><td>0.004917</td><td>2.74186</td><td>null</td><td>NaN</td><td>NaN</td><td>NaN</td><td>NaN</td><td>0.011886</td><td>-0.001962</td></tr><tr><td>588586</td><td>2012-06-30</td><td>&quot;00037BAA0&quot;</td><td>0.011728</td><td>0.003808</td><td>0.004315</td><td>0.011728</td><td>0.006186</td><td>0.006186</td><td>0.007479</td><td>6.0</td><td>0.00888</td><td>null</td><td>0.015781</td><td>500000.0</td><td>500000.0</td><td>100.447</td><td>1.00447</td><td>59.1</td><td>4.645004</td><td>11.0</td><td>3612</td><td>0.005945</td><td>0.014093</td><td>null</td><td>15.0</td><td>1.0</td><td>1.0</td><td>0.015094</td><td>0.008109</td><td>100.5391</td><td>100.764793</td><td>24.445752</td><td>null</td><td>5.02235e7</td><td>5.026955e7</td><td>1.625</td><td>&hellip;</td><td>&quot;.6186%&quot;</td><td>10</td><td>4.65</td><td>null</td><td>null</td><td>null</td><td>null</td><td>88953</td><td>41444</td><td>2012-05-03</td><td>2017-05-02</td><td>null</td><td>null</td><td>null</td><td>null</td><td>null</td><td>null</td><td>0.03226</td><td>null</td><td>null</td><td>0.007169</td><td>0.00803</td><td>&quot;2_A_2&quot;</td><td>0.037299</td><td>0.044825</td><td>0.001213</td><td>0.832115</td><td>0.00101</td><td>0.010719</td><td>2.326775</td><td>0.005232</td><td>NaN</td><td>NaN</td><td>NaN</td><td>NaN</td><td>0.010394</td><td>-0.002364</td></tr><tr><td>594002</td><td>2012-07-31</td><td>&quot;00037BAA0&quot;</td><td>-0.001191</td><td>-0.002055</td><td>-0.001935</td><td>-0.001091</td><td>0.011728</td><td>0.011728</td><td>0.004315</td><td>6.0</td><td>0.00808</td><td>null</td><td>0.013519</td><td>500000.0</td><td>500000.0</td><td>101.625066</td><td>1.016251</td><td>58.066667</td><td>4.567047</td><td>11.0</td><td>3612</td><td>0.007198</td><td>0.019627</td><td>null</td><td>15.0</td><td>1.0</td><td>1.0</td><td>0.01264</td><td>0.00672</td><td>101.665</td><td>102.03965</td><td>23.628646</td><td>null</td><td>5.0812533e7</td><td>5.08325e7</td><td>1.625</td><td>&hellip;</td><td>&quot;1.173%&quot;</td><td>10</td><td>4.57</td><td>null</td><td>null</td><td>null</td><td>null</td><td>88953</td><td>41444</td><td>2012-05-03</td><td>2017-05-02</td><td>null</td><td>null</td><td>null</td><td>null</td><td>null</td><td>null</td><td>0.063111</td><td>null</td><td>null</td><td>-0.007437</td><td>0.007105</td><td>&quot;2_A_2&quot;</td><td>0.032447</td><td>0.044825</td><td>0.001213</td><td>0.72386</td><td>0.000878</td><td>-0.001969</td><td>2.368057</td><td>0.002861</td><td>NaN</td><td>NaN</td><td>NaN</td><td>NaN</td><td>0.009634</td><td>-0.00253</td></tr></tbody></table></div>"
      ]
     },
     "execution_count": 42,
     "metadata": {},
     "output_type": "execute_result"
    }
   ],
   "execution_count": 42
  },
  {
   "metadata": {
    "ExecuteTime": {
     "end_time": "2024-05-04T05:20:50.465004Z",
     "start_time": "2024-05-04T05:20:50.400507Z"
    }
   },
   "cell_type": "code",
   "source": [
    "col = 'ESP'\n",
    "bond_data.filter(pl.col(col).is_nan()).shape"
   ],
   "id": "afa049f706849f03",
   "outputs": [
    {
     "data": {
      "text/plain": [
       "(52635, 114)"
      ]
     },
     "execution_count": 43,
     "metadata": {},
     "output_type": "execute_result"
    }
   ],
   "execution_count": 43
  },
  {
   "metadata": {
    "ExecuteTime": {
     "end_time": "2024-05-04T05:20:50.914002Z",
     "start_time": "2024-05-04T05:20:50.467505Z"
    }
   },
   "cell_type": "code",
   "source": [
    "bond_data_with_residuals = bond_data.with_columns(\n",
    "    esp_residual = pl\n",
    "        .col('ESP')\n",
    "        .least_squares\n",
    "        .ols(pl.col(\"debt_ebitda\"), pl.col(\"intcov_ratio\"), pl.col(\"de_ratio\"), add_intercept=True, mode=\"residuals\", null_policy='drop', solve_method='svd')\n",
    "        .over(['date', 'bucket'])\n",
    ")"
   ],
   "id": "57c2024c230940e",
   "outputs": [],
   "execution_count": 44
  },
  {
   "metadata": {
    "ExecuteTime": {
     "end_time": "2024-05-04T05:20:50.962004Z",
     "start_time": "2024-05-04T05:20:50.926009Z"
    }
   },
   "cell_type": "code",
   "source": "bond_data_with_residuals.filter((pl.col('esp_residual').is_not_null()) & (pl.col('esp_residual').is_not_nan())).head(2)",
   "id": "e51fe4edc22e79d7",
   "outputs": [
    {
     "data": {
      "text/plain": [
       "shape: (2, 115)\n",
       "┌────────┬────────────┬───────────┬────────────┬───┬────────────┬───────────┬──────────┬───────────┐\n",
       "│        ┆ date       ┆ cusip     ┆ exretn_t+1 ┆ … ┆ price_mom_ ┆ ESP_bucke ┆ ESP      ┆ esp_resid │\n",
       "│ ---    ┆ ---        ┆ ---       ┆ ---        ┆   ┆ 12mo       ┆ t_mean_oa ┆ ---      ┆ ual       │\n",
       "│ i64    ┆ date       ┆ str       ┆ f64        ┆   ┆ ---        ┆ s         ┆ f64      ┆ ---       │\n",
       "│        ┆            ┆           ┆            ┆   ┆ f64        ┆ ---       ┆          ┆ f64       │\n",
       "│        ┆            ┆           ┆            ┆   ┆            ┆ f64       ┆          ┆           │\n",
       "╞════════╪════════════╪═══════════╪════════════╪═══╪════════════╪═══════════╪══════════╪═══════════╡\n",
       "│ 127962 ┆ 2004-07-31 ┆ 001055AB8 ┆ 0.000873   ┆ … ┆ -0.022671  ┆ 0.006789  ┆ 0.004342 ┆ 0.004508  │\n",
       "│ 430235 ┆ 2009-11-30 ┆ 001055AC6 ┆ -0.013763  ┆ … ┆ NaN        ┆ 0.024598  ┆ 0.004807 ┆ 0.0295    │\n",
       "└────────┴────────────┴───────────┴────────────┴───┴────────────┴───────────┴──────────┴───────────┘"
      ],
      "text/html": [
       "<div><style>\n",
       ".dataframe > thead > tr,\n",
       ".dataframe > tbody > tr {\n",
       "  text-align: right;\n",
       "  white-space: pre-wrap;\n",
       "}\n",
       "</style>\n",
       "<small>shape: (2, 115)</small><table border=\"1\" class=\"dataframe\"><thead><tr><th></th><th>date</th><th>cusip</th><th>exretn_t+1</th><th>exretnc_t+1</th><th>exretnc_dur_t+1</th><th>bond_ret_t+1</th><th>bond_ret</th><th>exretn</th><th>exretnc_dur</th><th>rating</th><th>cs</th><th>cs_6m_delta</th><th>bond_yield</th><th>bond_amount_out</th><th>offering_amt</th><th>bondprc</th><th>perc_par</th><th>tmt</th><th>duration</th><th>ind_num_17</th><th>sic_code</th><th>BOND_RET</th><th>ILLIQ</th><th>var95</th><th>n_trades_month</th><th>size_ig</th><th>size_jk</th><th>BOND_YIELD</th><th>CS</th><th>BONDPRC</th><th>PRFULL</th><th>CONVEXITY</th><th>CS_6M_DELTA</th><th>bond_value</th><th>BOND_VALUE</th><th>coupon</th><th>&hellip;</th><th>REMCOUPS</th><th>DURATION_right</th><th>DEFAULT_DATE</th><th>DEFAULT_TYPE</th><th>REINSTATED</th><th>REINSTATED_DATE</th><th>PERMNO</th><th>PERMCO</th><th>link_startdt</th><th>link_enddt</th><th>gvkey</th><th>capital_ratio</th><th>debt_ebitda</th><th>de_ratio</th><th>intcov_ratio</th><th>cash_ratio</th><th>equity_month_return</th><th>datadate</th><th>shortintadj</th><th>unexpected_inflation</th><th>oas</th><th>bucket</th><th>dxs</th><th>weighted_dxs_median</th><th>weighted_ret_median</th><th>relative_dxs</th><th>systematic_return</th><th>residual_return_t+1</th><th>spread_duration</th><th>excess_credit_ret</th><th>mom_6mo</th><th>price_mom_6mo</th><th>mom_12mo</th><th>price_mom_12mo</th><th>ESP_bucket_mean_oas</th><th>ESP</th><th>esp_residual</th></tr><tr><td>i64</td><td>date</td><td>str</td><td>f64</td><td>f64</td><td>f64</td><td>f64</td><td>f64</td><td>f64</td><td>f64</td><td>f64</td><td>f64</td><td>f64</td><td>f64</td><td>f64</td><td>f64</td><td>f64</td><td>f64</td><td>f64</td><td>f64</td><td>f64</td><td>i64</td><td>f64</td><td>f64</td><td>f64</td><td>f64</td><td>f64</td><td>f64</td><td>f64</td><td>f64</td><td>f64</td><td>f64</td><td>f64</td><td>f64</td><td>f64</td><td>f64</td><td>f64</td><td>&hellip;</td><td>i64</td><td>f64</td><td>str</td><td>str</td><td>str</td><td>str</td><td>i64</td><td>i64</td><td>date</td><td>date</td><td>i64</td><td>f64</td><td>f64</td><td>f64</td><td>f64</td><td>f64</td><td>f64</td><td>date</td><td>f64</td><td>f64</td><td>f64</td><td>str</td><td>f64</td><td>f64</td><td>f64</td><td>f64</td><td>f64</td><td>f64</td><td>f64</td><td>f64</td><td>f64</td><td>f64</td><td>f64</td><td>f64</td><td>f64</td><td>f64</td><td>f64</td></tr></thead><tbody><tr><td>127962</td><td>2004-07-31</td><td>&quot;001055AB8&quot;</td><td>0.000873</td><td>-0.017158</td><td>-0.014029</td><td>0.001973</td><td>0.003867</td><td>0.002867</td><td>-0.002251</td><td>6.0</td><td>0.013455</td><td>0.212103</td><td>0.046817</td><td>450000.0</td><td>450000.0</td><td>107.586</td><td>1.07586</td><td>57.3</td><td>3.992089</td><td>16.0</td><td>6321</td><td>0.008182</td><td>0.028929</td><td>0.01842</td><td>3.0</td><td>1.0</td><td>1.0</td><td>0.045613</td><td>0.011889</td><td>108.1396</td><td>109.963208</td><td>19.55999</td><td>0.110292</td><td>4.84137e7</td><td>4.866282e7</td><td>6.5</td><td>&hellip;</td><td>10</td><td>3.99</td><td>null</td><td>null</td><td>null</td><td>null</td><td>57904</td><td>92</td><td>2002-07-02</td><td>2009-04-06</td><td>1449</td><td>0.165</td><td>1.079</td><td>6.223</td><td>58.174</td><td>null</td><td>-0.028669</td><td>null</td><td>null</td><td>0.000901</td><td>0.011131</td><td>&quot;4_A_1&quot;</td><td>0.044436</td><td>0.024287</td><td>0.00117</td><td>1.829616</td><td>0.002141</td><td>-0.000168</td><td>0.906709</td><td>-0.000011</td><td>NaN</td><td>-0.057883</td><td>NaN</td><td>-0.022671</td><td>0.006789</td><td>0.004342</td><td>0.004508</td></tr><tr><td>430235</td><td>2009-11-30</td><td>&quot;001055AC6&quot;</td><td>-0.013763</td><td>0.024369</td><td>0.022565</td><td>-0.013663</td><td>0.046749</td><td>0.046749</td><td>0.025176</td><td>7.0</td><td>0.034986</td><td>-0.341368</td><td>0.05989</td><td>850000.0</td><td>850000.0</td><td>117.957761</td><td>1.179578</td><td>115.1</td><td>6.703946</td><td>16.0</td><td>6321</td><td>0.016438</td><td>-0.022344</td><td>null</td><td>18.0</td><td>1.0</td><td>1.0</td><td>0.059052</td><td>0.032916</td><td>118.5923</td><td>118.946467</td><td>57.694375</td><td>-0.396697</td><td>1.00264097e8</td><td>1.00803455e8</td><td>8.5</td><td>&hellip;</td><td>19</td><td>6.7</td><td>null</td><td>null</td><td>null</td><td>null</td><td>57904</td><td>92</td><td>2009-05-18</td><td>2015-04-10</td><td>1449</td><td>0.213</td><td>0.861</td><td>10.884</td><td>41.296</td><td>null</td><td>0.116272</td><td>null</td><td>null</td><td>0.019599</td><td>0.029406</td><td>&quot;4_A_2&quot;</td><td>0.197133</td><td>0.072579</td><td>0.001804</td><td>2.716117</td><td>0.004901</td><td>-0.018564</td><td>3.105562</td><td>-0.000992</td><td>0.055526</td><td>0.097936</td><td>NaN</td><td>NaN</td><td>0.024598</td><td>0.004807</td><td>0.0295</td></tr></tbody></table></div>"
      ]
     },
     "execution_count": 45,
     "metadata": {},
     "output_type": "execute_result"
    }
   ],
   "execution_count": 45
  },
  {
   "metadata": {
    "ExecuteTime": {
     "end_time": "2024-05-04T05:20:50.997005Z",
     "start_time": "2024-05-04T05:20:50.966510Z"
    }
   },
   "cell_type": "code",
   "source": "bond_data_with_residuals.filter((pl.col('esp_residual').is_not_null()) & (pl.col('esp_residual').is_not_nan())).shape",
   "id": "1ad299e04d7652bf",
   "outputs": [
    {
     "data": {
      "text/plain": [
       "(11418, 115)"
      ]
     },
     "execution_count": 46,
     "metadata": {},
     "output_type": "execute_result"
    }
   ],
   "execution_count": 46
  },
  {
   "metadata": {
    "ExecuteTime": {
     "end_time": "2024-05-04T05:20:51.006505Z",
     "start_time": "2024-05-04T05:20:51.000507Z"
    }
   },
   "cell_type": "code",
   "source": "bond_data = bond_data_with_residuals",
   "id": "6873220638c9c7d3",
   "outputs": [],
   "execution_count": 47
  },
  {
   "metadata": {
    "ExecuteTime": {
     "end_time": "2024-05-04T05:20:59.894004Z",
     "start_time": "2024-05-04T05:20:51.010006Z"
    }
   },
   "cell_type": "code",
   "source": "residuals_quantiles = compute_quantiles(bond_data, 'esp_residual', 5) ",
   "id": "e5d1c9a5e7dc783a",
   "outputs": [
    {
     "name": "stdout",
     "output_type": "stream",
     "text": [
      "computing... 2000/4437 ... done!\n"
     ]
    }
   ],
   "execution_count": 48
  },
  {
   "metadata": {
    "ExecuteTime": {
     "end_time": "2024-05-04T05:21:01.090502Z",
     "start_time": "2024-05-04T05:20:59.896504Z"
    }
   },
   "cell_type": "code",
   "source": "get_expected_alpha(residuals_quantiles, 'esp_residual_quantile', plot=True, interpolate=True)",
   "id": "f68bd191804757e9",
   "outputs": [
    {
     "name": "stderr",
     "output_type": "stream",
     "text": [
      "No artists with labels found to put in legend.  Note that artists whose label start with an underscore are ignored when legend() is called with no argument.\n"
     ]
    },
    {
     "ename": "ValueError",
     "evalue": "b'There are other near singularities as well. 4.0804'",
     "output_type": "error",
     "traceback": [
      "\u001B[1;31m---------------------------------------------------------------------------\u001B[0m",
      "\u001B[1;31mValueError\u001B[0m                                Traceback (most recent call last)",
      "Cell \u001B[1;32mIn[49], line 1\u001B[0m\n\u001B[1;32m----> 1\u001B[0m \u001B[43mget_expected_alpha\u001B[49m\u001B[43m(\u001B[49m\u001B[43mresiduals_quantiles\u001B[49m\u001B[43m,\u001B[49m\u001B[43m \u001B[49m\u001B[38;5;124;43m'\u001B[39;49m\u001B[38;5;124;43mesp_residual_quantile\u001B[39;49m\u001B[38;5;124;43m'\u001B[39;49m\u001B[43m,\u001B[49m\u001B[43m \u001B[49m\u001B[43mplot\u001B[49m\u001B[38;5;241;43m=\u001B[39;49m\u001B[38;5;28;43;01mTrue\u001B[39;49;00m\u001B[43m,\u001B[49m\u001B[43m \u001B[49m\u001B[43minterpolate\u001B[49m\u001B[38;5;241;43m=\u001B[39;49m\u001B[38;5;28;43;01mTrue\u001B[39;49;00m\u001B[43m)\u001B[49m\n",
      "Cell \u001B[1;32mIn[19], line 41\u001B[0m, in \u001B[0;36mget_expected_alpha\u001B[1;34m(df_with_quantiles, quantile_col, plot, interpolate)\u001B[0m\n\u001B[0;32m     38\u001B[0m x, y \u001B[38;5;241m=\u001B[39m data[:, \u001B[38;5;241m0\u001B[39m], data[:, \u001B[38;5;241m1\u001B[39m]\n\u001B[0;32m     40\u001B[0m spline_loess \u001B[38;5;241m=\u001B[39m loess(x,y)\n\u001B[1;32m---> 41\u001B[0m \u001B[43mspline_loess\u001B[49m\u001B[38;5;241;43m.\u001B[39;49m\u001B[43mfit\u001B[49m\u001B[43m(\u001B[49m\u001B[43m)\u001B[49m\n\u001B[0;32m     43\u001B[0m x_new \u001B[38;5;241m=\u001B[39m np\u001B[38;5;241m.\u001B[39mlinspace(x[\u001B[38;5;241m0\u001B[39m], x[\u001B[38;5;241m-\u001B[39m\u001B[38;5;241m1\u001B[39m], \u001B[38;5;241m100\u001B[39m)\n\u001B[0;32m     44\u001B[0m pred \u001B[38;5;241m=\u001B[39m spline_loess\u001B[38;5;241m.\u001B[39mpredict(x_new, stderror\u001B[38;5;241m=\u001B[39m\u001B[38;5;28;01mTrue\u001B[39;00m)\n",
      "File \u001B[1;32m_loess.pyx:927\u001B[0m, in \u001B[0;36m_loess.loess.fit\u001B[1;34m()\u001B[0m\n",
      "\u001B[1;31mValueError\u001B[0m: b'There are other near singularities as well. 4.0804'"
     ]
    },
    {
     "data": {
      "text/plain": [
       "<Figure size 640x480 with 2 Axes>"
      ],
      "image/png": "[encoded data removed]"
     },
     "metadata": {},
     "output_type": "display_data"
    }
   ],
   "execution_count": 49
  },
  {
   "metadata": {},
   "cell_type": "markdown",
   "source": "## Quality",
   "id": "ed248f3314d37180"
  },
  {
   "metadata": {},
   "cell_type": "markdown",
   "source": "We use Interest Coverage Ratio as a Quality Signal in our strategy.",
   "id": "ba703b82cbd927a5"
  },
  {
   "metadata": {
    "ExecuteTime": {
     "end_time": "2024-05-04T05:21:01.093501Z",
     "start_time": "2024-05-04T05:21:01.093501Z"
    }
   },
   "cell_type": "code",
   "source": "intcov_quantiles = compute_quantiles(bond_data, 'debt_ebitda', 5) ",
   "id": "e1e50aaab0da1034",
   "outputs": [],
   "execution_count": null
  },
  {
   "metadata": {},
   "cell_type": "code",
   "source": "get_expected_alpha(intcov_quantiles, 'debt_ebitda_quantile', plot=True, interpolate=True)",
   "id": "6531cde665b955bf",
   "outputs": [],
   "execution_count": null
  },
  {
   "metadata": {
    "ExecuteTime": {
     "end_time": "2024-05-04T05:21:01.099502Z",
     "start_time": "2024-05-04T05:21:01.098004Z"
    }
   },
   "cell_type": "code",
   "source": "intcov_quantiles",
   "id": "9b59188275112a2b",
   "outputs": [],
   "execution_count": null
  },
  {
   "metadata": {},
   "cell_type": "markdown",
   "source": "## Equity Momentum in Credit",
   "id": "e5763c810aa3b974"
  },
  {
   "metadata": {
    "ExecuteTime": {
     "end_time": "2024-05-04T05:21:01.101502Z",
     "start_time": "2024-05-04T05:21:01.101002Z"
    }
   },
   "cell_type": "code",
   "source": [
    "def equity_momentum(df: pl.DataFrame, period: str, min_periods: int, n_months: int):\n",
    "    eq_momentum_returns = df.sort(['cusip', 'date']).rolling('date', group_by='cusip', period=period).agg(\n",
    "        pl.when(pl.col('equity_month_return').len() > min_periods).then(pl.col('equity_month_return').add(1).product().sub(1)).otherwise(np.nan).alias(f'eq_mom_{n_months}mo'),\n",
    "        )\n",
    "    return eq_momentum_returns\n",
    "\n",
    "eq_mom_6mo = equity_momentum(bond_data, '5mo20d', 5, 6)\n",
    "eq_mom_12mo = equity_momentum(bond_data, '11mo20d', 9, 12)\n",
    "\n",
    "bond_data = bond_data.join(\n",
    "    eq_mom_6mo,\n",
    "    how='left',\n",
    "    on=['cusip', 'date'],\n",
    ").join(\n",
    "    eq_mom_12mo,\n",
    "    how='left',\n",
    "    on=['cusip', 'date'],\n",
    ")"
   ],
   "id": "661489d233fa2bd0",
   "outputs": [],
   "execution_count": null
  },
  {
   "metadata": {
    "ExecuteTime": {
     "end_time": "2024-05-04T05:21:01.105003Z",
     "start_time": "2024-05-04T05:21:01.104501Z"
    }
   },
   "cell_type": "code",
   "source": "bond_data.head(2)",
   "id": "52c5ed5be83fff79",
   "outputs": [],
   "execution_count": null
  },
  {
   "metadata": {
    "ExecuteTime": {
     "end_time": "2024-05-04T05:21:01.109506Z",
     "start_time": "2024-05-04T05:21:01.107505Z"
    }
   },
   "cell_type": "code",
   "source": [
    "eq_mom_6mo_quantiles = compute_quantiles(bond_data, 'eq_mom_6mo', 10)\n",
    "eq_mom_12mo_quantiles = compute_quantiles(bond_data, 'eq_mom_12mo', 10)"
   ],
   "id": "9bcefce6582ad477",
   "outputs": [],
   "execution_count": null
  },
  {
   "metadata": {
    "ExecuteTime": {
     "end_time": "2024-05-04T05:21:01.114514Z",
     "start_time": "2024-05-04T05:21:01.112005Z"
    }
   },
   "cell_type": "code",
   "source": "get_expected_alpha(eq_mom_6mo_quantiles, 'eq_mom_6mo_quantile', plot=True, interpolate=True)",
   "id": "8e0b0381eb240497",
   "outputs": [],
   "execution_count": null
  },
  {
   "metadata": {
    "ExecuteTime": {
     "end_time": "2024-05-04T05:21:01.116501Z",
     "start_time": "2024-05-04T05:21:01.116001Z"
    }
   },
   "cell_type": "code",
   "source": "get_expected_alpha(eq_mom_12mo_quantiles, 'eq_mom_12mo_quantile', plot=True, interpolate=True)",
   "id": "b593bbf44849a5b3",
   "outputs": [],
   "execution_count": null
  },
  {
   "metadata": {},
   "cell_type": "markdown",
   "source": "# Computing Partial Returns",
   "id": "d731ce4dd6d92cf1"
  },
  {
   "metadata": {},
   "cell_type": "markdown",
   "source": "# Hidden Markov Model",
   "id": "7a9e70b4da8c3bb2"
  },
  {
   "metadata": {
    "ExecuteTime": {
     "end_time": "2024-05-04T05:21:01.119502Z",
     "start_time": "2024-05-04T05:21:01.118501Z"
    }
   },
   "cell_type": "code",
   "source": "",
   "id": "e27465f0142476a2",
   "outputs": [],
   "execution_count": null
  },
  {
   "metadata": {
    "ExecuteTime": {
     "end_time": "2024-05-04T05:21:01.122502Z",
     "start_time": "2024-05-04T05:21:01.122002Z"
    }
   },
   "cell_type": "code",
   "source": "",
   "id": "ffb8318f77955f8f",
   "outputs": [],
   "execution_count": null
  },
  {
   "metadata": {},
   "cell_type": "markdown",
   "source": "# Fama-Macbeth Regression",
   "id": "cda8631e538c37c5"
  },
  {
   "metadata": {
    "ExecuteTime": {
     "end_time": "2024-05-04T05:55:07.004500Z",
     "start_time": "2024-05-04T05:55:06.991999Z"
    }
   },
   "cell_type": "code",
   "source": "bond_data.head()",
   "id": "85b729a0b332c80e",
   "outputs": [
    {
     "data": {
      "text/plain": [
       "shape: (5, 115)\n",
       "┌────────┬────────────┬───────────┬────────────┬───┬───────────┬───────────┬───────────┬───────────┐\n",
       "│        ┆ date       ┆ cusip     ┆ exretn_t+1 ┆ … ┆ price_mom ┆ ESP_bucke ┆ ESP       ┆ esp_resid │\n",
       "│ ---    ┆ ---        ┆ ---       ┆ ---        ┆   ┆ _12mo     ┆ t_mean_oa ┆ ---       ┆ ual       │\n",
       "│ i64    ┆ date       ┆ str       ┆ f64        ┆   ┆ ---       ┆ s         ┆ f64       ┆ ---       │\n",
       "│        ┆            ┆           ┆            ┆   ┆ f64       ┆ ---       ┆           ┆ f64       │\n",
       "│        ┆            ┆           ┆            ┆   ┆           ┆ f64       ┆           ┆           │\n",
       "╞════════╪════════════╪═══════════╪════════════╪═══╪═══════════╪═══════════╪═══════════╪═══════════╡\n",
       "│ 583213 ┆ 2012-05-31 ┆ 00037BAA0 ┆ 0.006186   ┆ … ┆ NaN       ┆ 0.011886  ┆ -0.001962 ┆ null      │\n",
       "│ 588586 ┆ 2012-06-30 ┆ 00037BAA0 ┆ 0.011728   ┆ … ┆ NaN       ┆ 0.010394  ┆ -0.002364 ┆ null      │\n",
       "│ 594002 ┆ 2012-07-31 ┆ 00037BAA0 ┆ -0.001191  ┆ … ┆ NaN       ┆ 0.009634  ┆ -0.00253  ┆ null      │\n",
       "│ 599442 ┆ 2012-08-31 ┆ 00037BAA0 ┆ 0.002185   ┆ … ┆ NaN       ┆ 0.010046  ┆ -0.002599 ┆ null      │\n",
       "│ 604916 ┆ 2012-09-30 ┆ 00037BAA0 ┆ 0.001884   ┆ … ┆ NaN       ┆ 0.008798  ┆ -0.002049 ┆ null      │\n",
       "└────────┴────────────┴───────────┴────────────┴───┴───────────┴───────────┴───────────┴───────────┘"
      ],
      "text/html": [
       "<div><style>\n",
       ".dataframe > thead > tr,\n",
       ".dataframe > tbody > tr {\n",
       "  text-align: right;\n",
       "  white-space: pre-wrap;\n",
       "}\n",
       "</style>\n",
       "<small>shape: (5, 115)</small><table border=\"1\" class=\"dataframe\"><thead><tr><th></th><th>date</th><th>cusip</th><th>exretn_t+1</th><th>exretnc_t+1</th><th>exretnc_dur_t+1</th><th>bond_ret_t+1</th><th>bond_ret</th><th>exretn</th><th>exretnc_dur</th><th>rating</th><th>cs</th><th>cs_6m_delta</th><th>bond_yield</th><th>bond_amount_out</th><th>offering_amt</th><th>bondprc</th><th>perc_par</th><th>tmt</th><th>duration</th><th>ind_num_17</th><th>sic_code</th><th>BOND_RET</th><th>ILLIQ</th><th>var95</th><th>n_trades_month</th><th>size_ig</th><th>size_jk</th><th>BOND_YIELD</th><th>CS</th><th>BONDPRC</th><th>PRFULL</th><th>CONVEXITY</th><th>CS_6M_DELTA</th><th>bond_value</th><th>BOND_VALUE</th><th>coupon</th><th>&hellip;</th><th>REMCOUPS</th><th>DURATION_right</th><th>DEFAULT_DATE</th><th>DEFAULT_TYPE</th><th>REINSTATED</th><th>REINSTATED_DATE</th><th>PERMNO</th><th>PERMCO</th><th>link_startdt</th><th>link_enddt</th><th>gvkey</th><th>capital_ratio</th><th>debt_ebitda</th><th>de_ratio</th><th>intcov_ratio</th><th>cash_ratio</th><th>equity_month_return</th><th>datadate</th><th>shortintadj</th><th>unexpected_inflation</th><th>oas</th><th>bucket</th><th>dxs</th><th>weighted_dxs_median</th><th>weighted_ret_median</th><th>relative_dxs</th><th>systematic_return</th><th>residual_return_t+1</th><th>spread_duration</th><th>excess_credit_ret</th><th>mom_6mo</th><th>price_mom_6mo</th><th>mom_12mo</th><th>price_mom_12mo</th><th>ESP_bucket_mean_oas</th><th>ESP</th><th>esp_residual</th></tr><tr><td>i64</td><td>date</td><td>str</td><td>f64</td><td>f64</td><td>f64</td><td>f64</td><td>f64</td><td>f64</td><td>f64</td><td>f64</td><td>f64</td><td>f64</td><td>f64</td><td>f64</td><td>f64</td><td>f64</td><td>f64</td><td>f64</td><td>f64</td><td>f64</td><td>i64</td><td>f64</td><td>f64</td><td>f64</td><td>f64</td><td>f64</td><td>f64</td><td>f64</td><td>f64</td><td>f64</td><td>f64</td><td>f64</td><td>f64</td><td>f64</td><td>f64</td><td>f64</td><td>&hellip;</td><td>i64</td><td>f64</td><td>str</td><td>str</td><td>str</td><td>str</td><td>i64</td><td>i64</td><td>date</td><td>date</td><td>i64</td><td>f64</td><td>f64</td><td>f64</td><td>f64</td><td>f64</td><td>f64</td><td>date</td><td>f64</td><td>f64</td><td>f64</td><td>str</td><td>f64</td><td>f64</td><td>f64</td><td>f64</td><td>f64</td><td>f64</td><td>f64</td><td>f64</td><td>f64</td><td>f64</td><td>f64</td><td>f64</td><td>f64</td><td>f64</td><td>f64</td></tr></thead><tbody><tr><td>583213</td><td>2012-05-31</td><td>&quot;00037BAA0&quot;</td><td>0.006186</td><td>0.007551</td><td>0.007479</td><td>0.006186</td><td>null</td><td>null</td><td>null</td><td>6.0</td><td>0.010429</td><td>null</td><td>0.016813</td><td>500000.0</td><td>500000.0</td><td>99.829504</td><td>0.998295</td><td>60.1</td><td>4.723592</td><td>11.0</td><td>3612</td><td>0.004055</td><td>0.003489</td><td>null</td><td>16.0</td><td>1.0</td><td>1.0</td><td>0.017072</td><td>0.010567</td><td>99.6121</td><td>99.715921</td><td>25.124045</td><td>null</td><td>4.9914752e7</td><td>4.980605e7</td><td>1.625</td><td>&hellip;</td><td>10</td><td>4.72</td><td>null</td><td>null</td><td>null</td><td>null</td><td>88953</td><td>41444</td><td>2012-05-03</td><td>2017-05-02</td><td>null</td><td>null</td><td>null</td><td>null</td><td>null</td><td>null</td><td>-0.129911</td><td>null</td><td>null</td><td>-0.004386</td><td>0.009923</td><td>&quot;2_A_2&quot;</td><td>0.046874</td><td>0.044825</td><td>0.001213</td><td>1.045719</td><td>0.001269</td><td>0.004917</td><td>2.74186</td><td>null</td><td>NaN</td><td>NaN</td><td>NaN</td><td>NaN</td><td>0.011886</td><td>-0.001962</td><td>null</td></tr><tr><td>588586</td><td>2012-06-30</td><td>&quot;00037BAA0&quot;</td><td>0.011728</td><td>0.003808</td><td>0.004315</td><td>0.011728</td><td>0.006186</td><td>0.006186</td><td>0.007479</td><td>6.0</td><td>0.00888</td><td>null</td><td>0.015781</td><td>500000.0</td><td>500000.0</td><td>100.447</td><td>1.00447</td><td>59.1</td><td>4.645004</td><td>11.0</td><td>3612</td><td>0.005945</td><td>0.014093</td><td>null</td><td>15.0</td><td>1.0</td><td>1.0</td><td>0.015094</td><td>0.008109</td><td>100.5391</td><td>100.764793</td><td>24.445752</td><td>null</td><td>5.02235e7</td><td>5.026955e7</td><td>1.625</td><td>&hellip;</td><td>10</td><td>4.65</td><td>null</td><td>null</td><td>null</td><td>null</td><td>88953</td><td>41444</td><td>2012-05-03</td><td>2017-05-02</td><td>null</td><td>null</td><td>null</td><td>null</td><td>null</td><td>null</td><td>0.03226</td><td>null</td><td>null</td><td>0.007169</td><td>0.00803</td><td>&quot;2_A_2&quot;</td><td>0.037299</td><td>0.044825</td><td>0.001213</td><td>0.832115</td><td>0.00101</td><td>0.010719</td><td>2.326775</td><td>0.005232</td><td>NaN</td><td>NaN</td><td>NaN</td><td>NaN</td><td>0.010394</td><td>-0.002364</td><td>null</td></tr><tr><td>594002</td><td>2012-07-31</td><td>&quot;00037BAA0&quot;</td><td>-0.001191</td><td>-0.002055</td><td>-0.001935</td><td>-0.001091</td><td>0.011728</td><td>0.011728</td><td>0.004315</td><td>6.0</td><td>0.00808</td><td>null</td><td>0.013519</td><td>500000.0</td><td>500000.0</td><td>101.625066</td><td>1.016251</td><td>58.066667</td><td>4.567047</td><td>11.0</td><td>3612</td><td>0.007198</td><td>0.019627</td><td>null</td><td>15.0</td><td>1.0</td><td>1.0</td><td>0.01264</td><td>0.00672</td><td>101.665</td><td>102.03965</td><td>23.628646</td><td>null</td><td>5.0812533e7</td><td>5.08325e7</td><td>1.625</td><td>&hellip;</td><td>10</td><td>4.57</td><td>null</td><td>null</td><td>null</td><td>null</td><td>88953</td><td>41444</td><td>2012-05-03</td><td>2017-05-02</td><td>null</td><td>null</td><td>null</td><td>null</td><td>null</td><td>null</td><td>0.063111</td><td>null</td><td>null</td><td>-0.007437</td><td>0.007105</td><td>&quot;2_A_2&quot;</td><td>0.032447</td><td>0.044825</td><td>0.001213</td><td>0.72386</td><td>0.000878</td><td>-0.001969</td><td>2.368057</td><td>0.002861</td><td>NaN</td><td>NaN</td><td>NaN</td><td>NaN</td><td>0.009634</td><td>-0.00253</td><td>null</td></tr><tr><td>599442</td><td>2012-08-31</td><td>&quot;00037BAA0&quot;</td><td>0.002185</td><td>0.002064</td><td>0.002085</td><td>0.002285</td><td>-0.001091</td><td>-0.001191</td><td>-0.001935</td><td>6.0</td><td>0.008651</td><td>null</td><td>0.014018</td><td>500000.0</td><td>500000.0</td><td>101.5142</td><td>1.015142</td><td>57.033333</td><td>4.481314</td><td>11.0</td><td>3612</td><td>-0.002496</td><td>-0.003326</td><td>null</td><td>18.0</td><td>1.0</td><td>1.0</td><td>0.012993</td><td>0.007078</td><td>101.473</td><td>101.996612</td><td>22.750908</td><td>null</td><td>5.07571e7</td><td>5.07365e7</td><td>1.625</td><td>&hellip;</td><td>10</td><td>4.48</td><td>null</td><td>null</td><td>null</td><td>null</td><td>88953</td><td>41444</td><td>2012-05-03</td><td>2017-05-02</td><td>null</td><td>null</td><td>null</td><td>null</td><td>null</td><td>null</td><td>-0.001732</td><td>null</td><td>null</td><td>0.00195</td><td>0.007447</td><td>&quot;2_A_2&quot;</td><td>0.033374</td><td>0.044825</td><td>0.001213</td><td>0.744546</td><td>0.000903</td><td>0.001382</td><td>2.347895</td><td>-0.000213</td><td>NaN</td><td>NaN</td><td>NaN</td><td>NaN</td><td>0.010046</td><td>-0.002599</td><td>null</td></tr><tr><td>604916</td><td>2012-09-30</td><td>&quot;00037BAA0&quot;</td><td>0.001884</td><td>0.005208</td><td>0.004934</td><td>0.001984</td><td>0.002285</td><td>0.002185</td><td>0.002085</td><td>6.0</td><td>0.008276</td><td>null</td><td>0.01376</td><td>500000.0</td><td>500000.0</td><td>101.746142</td><td>1.017461</td><td>56.033333</td><td>4.400393</td><td>11.0</td><td>3612</td><td>0.003524</td><td>0.005008</td><td>null</td><td>15.0</td><td>1.0</td><td>1.0</td><td>0.012316</td><td>0.006696</td><td>101.7547</td><td>102.400185</td><td>22.069816</td><td>null</td><td>5.0873071e7</td><td>5.087735e7</td><td>1.625</td><td>&hellip;</td><td>10</td><td>4.4</td><td>null</td><td>null</td><td>null</td><td>null</td><td>88953</td><td>41444</td><td>2012-05-03</td><td>2017-05-02</td><td>null</td><td>null</td><td>null</td><td>null</td><td>null</td><td>null</td><td>0.079677</td><td>null</td><td>null</td><td>-0.002976</td><td>0.006749</td><td>&quot;2_A_2&quot;</td><td>0.0297</td><td>0.044825</td><td>0.001213</td><td>0.662582</td><td>0.000804</td><td>0.00118</td><td>2.129103</td><td>0.002107</td><td>NaN</td><td>NaN</td><td>NaN</td><td>NaN</td><td>0.008798</td><td>-0.002049</td><td>null</td></tr></tbody></table></div>"
      ]
     },
     "execution_count": 71,
     "metadata": {},
     "output_type": "execute_result"
    }
   ],
   "execution_count": 71
  },
  {
   "metadata": {
    "ExecuteTime": {
     "end_time": "2024-05-04T06:04:59.125170Z",
     "start_time": "2024-05-04T06:04:57.071669Z"
    }
   },
   "cell_type": "code",
   "source": [
    "oas_quantiles.select('residual_return_t+1', 'oas_bucket_delta', 'cusip').with_columns(\n",
    "    pl.col('residual_return_t+1').least_squares.ols(pl.col('oas_bucket_delta'), add_intercept=True, mode=\"coefficients\", null_policy='drop', solve_method='svd').over('cusip')\n",
    ").head()"
   ],
   "id": "e45eac5873f0a318",
   "outputs": [
    {
     "data": {
      "text/plain": [
       "shape: (5, 4)\n",
       "┌─────────────────────┬──────────────────┬───────────┬─────────────────────┐\n",
       "│ residual_return_t+1 ┆ oas_bucket_delta ┆ cusip     ┆ coefficients        │\n",
       "│ ---                 ┆ ---              ┆ ---       ┆ ---                 │\n",
       "│ f64                 ┆ f64              ┆ str       ┆ struct[2]           │\n",
       "╞═════════════════════╪══════════════════╪═══════════╪═════════════════════╡\n",
       "│ 0.029829            ┆ -0.002715        ┆ 00077QAG5 ┆ {1.760983,0.004038} │\n",
       "│ -0.040187           ┆ 0.123368         ┆ 00104CAA6 ┆ {0.187088,0.003812} │\n",
       "│ 0.003573            ┆ 0.00012          ┆ 001055AB8 ┆ {2.11055,0.000407}  │\n",
       "│ -0.105981           ┆ 0.054246         ┆ 00130HAQ8 ┆ {0.877668,-0.00231} │\n",
       "│ -0.030024           ┆ 0.114988         ┆ 00130HAU9 ┆ {0.163636,0.003937} │\n",
       "└─────────────────────┴──────────────────┴───────────┴─────────────────────┘"
      ],
      "text/html": [
       "<div><style>\n",
       ".dataframe > thead > tr,\n",
       ".dataframe > tbody > tr {\n",
       "  text-align: right;\n",
       "  white-space: pre-wrap;\n",
       "}\n",
       "</style>\n",
       "<small>shape: (5, 4)</small><table border=\"1\" class=\"dataframe\"><thead><tr><th>residual_return_t+1</th><th>oas_bucket_delta</th><th>cusip</th><th>coefficients</th></tr><tr><td>f64</td><td>f64</td><td>str</td><td>struct[2]</td></tr></thead><tbody><tr><td>0.029829</td><td>-0.002715</td><td>&quot;00077QAG5&quot;</td><td>{1.760983,0.004038}</td></tr><tr><td>-0.040187</td><td>0.123368</td><td>&quot;00104CAA6&quot;</td><td>{0.187088,0.003812}</td></tr><tr><td>0.003573</td><td>0.00012</td><td>&quot;001055AB8&quot;</td><td>{2.11055,0.000407}</td></tr><tr><td>-0.105981</td><td>0.054246</td><td>&quot;00130HAQ8&quot;</td><td>{0.877668,-0.00231}</td></tr><tr><td>-0.030024</td><td>0.114988</td><td>&quot;00130HAU9&quot;</td><td>{0.163636,0.003937}</td></tr></tbody></table></div>"
      ]
     },
     "execution_count": 76,
     "metadata": {},
     "output_type": "execute_result"
    }
   ],
   "execution_count": 76
  },
  {
   "metadata": {
    "ExecuteTime": {
     "end_time": "2024-05-04T06:11:14.893483Z",
     "start_time": "2024-05-04T06:11:12.145981Z"
    }
   },
   "cell_type": "code",
   "source": [
    "coefficients = oas_quantiles.select('date', 'cusip', pl.col('residual_return_t+1').least_squares.ols(pl.col('oas_bucket_delta'), add_intercept=True, mode='coefficients', null_policy='drop', solve_method='svd').over('cusip')).unnest('coefficients')\n",
    "\n",
    "coefficients.head()"
   ],
   "id": "e43740db1fb38999",
   "outputs": [
    {
     "data": {
      "text/plain": [
       "shape: (5, 4)\n",
       "┌────────────┬───────────┬──────────────────┬──────────┐\n",
       "│ date       ┆ cusip     ┆ oas_bucket_delta ┆ const    │\n",
       "│ ---        ┆ ---       ┆ ---              ┆ ---      │\n",
       "│ date       ┆ str       ┆ f64              ┆ f64      │\n",
       "╞════════════╪═══════════╪══════════════════╪══════════╡\n",
       "│ 2002-08-31 ┆ 00077QAG5 ┆ 1.760983         ┆ 0.004038 │\n",
       "│ 2002-08-31 ┆ 00104CAA6 ┆ 0.187088         ┆ 0.003812 │\n",
       "│ 2002-08-31 ┆ 001055AB8 ┆ 2.11055          ┆ 0.000407 │\n",
       "│ 2002-08-31 ┆ 00130HAQ8 ┆ 0.877668         ┆ -0.00231 │\n",
       "│ 2002-08-31 ┆ 00130HAU9 ┆ 0.163636         ┆ 0.003937 │\n",
       "└────────────┴───────────┴──────────────────┴──────────┘"
      ],
      "text/html": [
       "<div><style>\n",
       ".dataframe > thead > tr,\n",
       ".dataframe > tbody > tr {\n",
       "  text-align: right;\n",
       "  white-space: pre-wrap;\n",
       "}\n",
       "</style>\n",
       "<small>shape: (5, 4)</small><table border=\"1\" class=\"dataframe\"><thead><tr><th>date</th><th>cusip</th><th>oas_bucket_delta</th><th>const</th></tr><tr><td>date</td><td>str</td><td>f64</td><td>f64</td></tr></thead><tbody><tr><td>2002-08-31</td><td>&quot;00077QAG5&quot;</td><td>1.760983</td><td>0.004038</td></tr><tr><td>2002-08-31</td><td>&quot;00104CAA6&quot;</td><td>0.187088</td><td>0.003812</td></tr><tr><td>2002-08-31</td><td>&quot;001055AB8&quot;</td><td>2.11055</td><td>0.000407</td></tr><tr><td>2002-08-31</td><td>&quot;00130HAQ8&quot;</td><td>0.877668</td><td>-0.00231</td></tr><tr><td>2002-08-31</td><td>&quot;00130HAU9&quot;</td><td>0.163636</td><td>0.003937</td></tr></tbody></table></div>"
      ]
     },
     "execution_count": 81,
     "metadata": {},
     "output_type": "execute_result"
    }
   ],
   "execution_count": 81
  },
  {
   "metadata": {
    "ExecuteTime": {
     "end_time": "2024-05-04T06:11:46.766471Z",
     "start_time": "2024-05-04T06:11:46.755971Z"
    }
   },
   "cell_type": "code",
   "source": "coefficients.filter(pl.col('cusip') == \"00077QAG5\").select('oas_bucket_delta')",
   "id": "43f39a467b53ec67",
   "outputs": [
    {
     "data": {
      "text/plain": [
       "shape: (1, 1)\n",
       "┌──────────────────┐\n",
       "│ oas_bucket_delta │\n",
       "│ ---              │\n",
       "│ f64              │\n",
       "╞══════════════════╡\n",
       "│ 1.760983         │\n",
       "└──────────────────┘"
      ],
      "text/html": [
       "<div><style>\n",
       ".dataframe > thead > tr,\n",
       ".dataframe > tbody > tr {\n",
       "  text-align: right;\n",
       "  white-space: pre-wrap;\n",
       "}\n",
       "</style>\n",
       "<small>shape: (1, 1)</small><table border=\"1\" class=\"dataframe\"><thead><tr><th>oas_bucket_delta</th></tr><tr><td>f64</td></tr></thead><tbody><tr><td>1.760983</td></tr></tbody></table></div>"
      ]
     },
     "execution_count": 84,
     "metadata": {},
     "output_type": "execute_result"
    }
   ],
   "execution_count": 84
  },
  {
   "metadata": {
    "ExecuteTime": {
     "end_time": "2024-05-04T05:21:01.126003Z",
     "start_time": "2024-05-04T05:21:01.125001Z"
    }
   },
   "cell_type": "code",
   "source": "oas_quantiles.head()",
   "id": "c84e3738f0f9e49f",
   "outputs": [],
   "execution_count": null
  },
  {
   "metadata": {
    "ExecuteTime": {
     "end_time": "2024-05-04T05:21:01.129002Z",
     "start_time": "2024-05-04T05:21:01.128502Z"
    }
   },
   "cell_type": "code",
   "source": [
    "regression_data = oas_quantiles.select('date', 'cusip', 'exretnc_t+1', 'oas_quantile')\n",
    "mkt_returns = regression_data.group_by('date').agg(pl.col('exretnc_t+1').mean().alias('mkt_return'))\n",
    "regression_data = regression_data.join(\n",
    "    mkt_returns,\n",
    "    how='left',\n",
    "    on='date'\n",
    ")\n",
    "\n",
    "regression_data.head()"
   ],
   "id": "d643f4e0cd57a64d",
   "outputs": [],
   "execution_count": null
  },
  {
   "metadata": {
    "ExecuteTime": {
     "end_time": "2024-05-04T05:21:01.133004Z",
     "start_time": "2024-05-04T05:21:01.132005Z"
    }
   },
   "cell_type": "code",
   "source": [
    "datevar = 'date'\n",
    "yvar = 'exretnc_t+1'\n",
    "xvar = ['oas_quantile', 'mkt_return']\n",
    "\n",
    "all_cols = [datevar, yvar, *xvar]\n",
    "regression_data_pandas = regression_data.select(all_cols).to_pandas().dropna()\n",
    "\n",
    "regression_data_pandas.head()"
   ],
   "id": "61104c4e1984823d",
   "outputs": [],
   "execution_count": null
  },
  {
   "metadata": {
    "ExecuteTime": {
     "end_time": "2024-05-04T05:21:01.136503Z",
     "start_time": "2024-05-04T05:21:01.136003Z"
    }
   },
   "cell_type": "code",
   "source": "regression_data_pandas.dtypes",
   "id": "637e55ee7f7ccc00",
   "outputs": [],
   "execution_count": null
  },
  {
   "metadata": {
    "ExecuteTime": {
     "end_time": "2024-05-04T05:21:01.138501Z",
     "start_time": "2024-05-04T05:21:01.138002Z"
    }
   },
   "cell_type": "code",
   "source": "regression_data_pandas.isna().sum()",
   "id": "404ff5baa151c47b",
   "outputs": [],
   "execution_count": null
  },
  {
   "metadata": {
    "ExecuteTime": {
     "end_time": "2024-05-04T05:21:01.140503Z",
     "start_time": "2024-05-04T05:21:01.139501Z"
    }
   },
   "cell_type": "code",
   "source": [
    "fm_regression_results = fama_macbeth.fama_macbeth(regression_data_pandas, t=datevar, yvar=yvar, xvar=xvar)\n",
    "fama_macbeth.fm_summary(fm_regression_results, pvalues=True)"
   ],
   "id": "265a42d6130ade3e",
   "outputs": [],
   "execution_count": null
  },
  {
   "metadata": {
    "ExecuteTime": {
     "end_time": "2024-05-04T05:21:01.143502Z",
     "start_time": "2024-05-04T05:21:01.143002Z"
    }
   },
   "cell_type": "code",
   "source": "fm_regression_results",
   "id": "205bec8208bb3871",
   "outputs": [],
   "execution_count": null
  },
  {
   "metadata": {
    "ExecuteTime": {
     "end_time": "2024-05-04T05:21:01.146002Z",
     "start_time": "2024-05-04T05:21:01.145503Z"
    }
   },
   "cell_type": "code",
   "source": "fm_regression_results.rolling(12).mean().plot(y='oas_quantile')",
   "id": "1e5000576c54d20",
   "outputs": [],
   "execution_count": null
  }
 ],
 "metadata": {
  "kernelspec": {
   "display_name": "Python 3",
   "language": "python",
   "name": "python3"
  },
  "language_info": {
   "codemirror_mode": {
    "name": "ipython",
    "version": 2
   },
   "file_extension": ".py",
   "mimetype": "text/x-python",
   "name": "python",
   "nbconvert_exporter": "python",
   "pygments_lexer": "ipython2",
   "version": "2.7.6"
  }
 },
 "nbformat": 4,
 "nbformat_minor": 5
}
