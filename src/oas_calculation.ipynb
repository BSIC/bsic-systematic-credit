{
 "cells": [
  {
   "cell_type": "code",
   "metadata": {
    "source_hash": "7958d4a9",
    "execution_start": 1713636401514,
    "execution_millis": 4171,
    "deepnote_to_be_reexecuted": false,
    "cell_id": "826a5b5fc1b4420fafc7f1f55421ac45",
    "deepnote_cell_type": "code",
    "ExecuteTime": {
     "end_time": "2024-04-20T20:19:02.953095Z",
     "start_time": "2024-04-20T20:18:52.107596Z"
    }
   },
   "source": "!pip install -r ../requirements.txt",
   "block_group": "04dfea0dfed241cea8f2be5ac1d2d7df",
   "outputs_reference": "s3:deepnote-cell-outputs-production/62613e20-7b8f-4dd3-852c-5c80ee5c62f3",
   "content_dependencies": null,
   "outputs": [
    {
     "name": "stdout",
     "output_type": "stream",
     "text": [
      "Looking in indexes: https://pypi.org/simple, https://pypi.ngc.nvidia.com\n",
      "Requirement already satisfied: QuantLib==1.33 in c:\\users\\andre\\anaconda3\\envs\\bsic\\lib\\site-packages (from -r ../requirements.txt (line 1)) (1.33)\n",
      "Requirement already satisfied: tables==3.9.2 in c:\\users\\andre\\anaconda3\\envs\\bsic\\lib\\site-packages (from -r ../requirements.txt (line 2)) (3.9.2)\n",
      "Requirement already satisfied: numpy>=1.19.0 in c:\\users\\andre\\anaconda3\\envs\\bsic\\lib\\site-packages (from tables==3.9.2->-r ../requirements.txt (line 2)) (1.26.3)\n",
      "Requirement already satisfied: numexpr>=2.6.2 in c:\\users\\andre\\anaconda3\\envs\\bsic\\lib\\site-packages (from tables==3.9.2->-r ../requirements.txt (line 2)) (2.8.7)\n",
      "Requirement already satisfied: packaging in c:\\users\\andre\\anaconda3\\envs\\bsic\\lib\\site-packages (from tables==3.9.2->-r ../requirements.txt (line 2)) (23.1)\n",
      "Requirement already satisfied: py-cpuinfo in c:\\users\\andre\\anaconda3\\envs\\bsic\\lib\\site-packages (from tables==3.9.2->-r ../requirements.txt (line 2)) (9.0.0)\n"
     ]
    }
   ],
   "execution_count": 1
  },
  {
   "cell_type": "code",
   "metadata": {
    "source_hash": "50693380",
    "execution_start": 1713636405696,
    "execution_millis": 183,
    "deepnote_to_be_reexecuted": false,
    "cell_id": "ce2dc4ce959946c6a66ca0f6c3b71931",
    "deepnote_cell_type": "code",
    "ExecuteTime": {
     "end_time": "2024-04-21T00:51:09.542789Z",
     "start_time": "2024-04-21T00:51:08.608790Z"
    }
   },
   "source": [
    "import pandas as pd\n",
    "import QuantLib as ql\n",
    "import numpy as np\n",
    "import matplotlib.pyplot as plt "
   ],
   "block_group": "c8d92469db31480d8b485f671d3cc160",
   "outputs_reference": null,
   "content_dependencies": null,
   "outputs": [],
   "execution_count": 286
  },
  {
   "cell_type": "markdown",
   "metadata": {
    "formattedRanges": [],
    "cell_id": "c54177e5579d40e6a9d562efd813694a",
    "deepnote_cell_type": "text-cell-h1"
   },
   "source": "# Load Bond Returns data and Zero Rate Curve",
   "block_group": "1505f3285a0744ed85e2a44e9a3af107"
  },
  {
   "cell_type": "markdown",
   "metadata": {
    "cell_id": "5a868aabd0b44dc8abff0321bdffb9ef",
    "deepnote_cell_type": "markdown"
   },
   "source": "## Bond Data\nFor the definitions of the features, refer to the pdf in the `docs` folder",
   "block_group": "d647787c3090446690a2090286b3cbdf"
  },
  {
   "cell_type": "code",
   "metadata": {
    "source_hash": "7321b315",
    "execution_start": 1713635584941,
    "execution_millis": 4832,
    "sql_integration_id": "deepnote-dataframe-sql",
    "deepnote_variable_name": "bond_data",
    "deepnote_to_be_reexecuted": false,
    "cell_id": "f49c28841be94cc4813865191a239c55",
    "deepnote_cell_type": "sql",
    "deepnote_sql_source": "SELECT * \nFROM '/work/data/bond_data_final.csv'\nLIMIT 1000",
    "ExecuteTime": {
     "end_time": "2024-04-20T20:19:55.878094Z",
     "start_time": "2024-04-20T20:19:05.211095Z"
    }
   },
   "source": [
    "bond_data = pd.read_csv('../data/bond_data_final.csv', index_col=0, parse_dates=['date'])\n",
    "\n",
    "bond_data.head(2)"
   ],
   "block_group": "8b24d105bf90471cbe6ae408caad5883",
   "outputs_reference": "s3:deepnote-cell-outputs-production/691be501-ea86-4bd6-8383-977aad71ce61",
   "content_dependencies": null,
   "outputs": [
    {
     "name": "stderr",
     "output_type": "stream",
     "text": [
      "C:\\Users\\andre\\AppData\\Local\\Temp\\ipykernel_8912\\1115394835.py:1: DtypeWarning: Columns (97,98,99,100) have mixed types. Specify dtype option on import or set low_memory=False.\n",
      "  bond_data = pd.read_csv('../data/bond_data_final.csv', index_col=0, parse_dates=['date'])\n"
     ]
    },
    {
     "data": {
      "text/plain": [
       "        date      cusip  exretn_t+1  exretnc_t+1  exretnc_dur_t+1  \\\n",
       "0 2002-08-31  000336AE7   -0.056089    -0.087082        -0.081158   \n",
       "1 2002-09-30  000336AE7    0.050663     0.057193         0.054383   \n",
       "\n",
       "   bond_ret_t+1  bond_ret    exretn  exretnc_dur  rating  ...  RET_LDM  \\\n",
       "0     -0.054689 -0.008212 -0.009612    -0.023343     8.0  ...      NaN   \n",
       "1      0.052063 -0.054689 -0.056089    -0.081158     8.0  ...  -5.469%   \n",
       "\n",
       "   RET_L5M   TMT  REMCOUPS  DURATION_y  DEFAULTED  DEFAULT_DATE  DEFAULT_TYPE  \\\n",
       "0  -.8212%  5.84      12.0        4.59          N           NaN           NaN   \n",
       "1  -5.469%  5.75      12.0        4.44          N           NaN           NaN   \n",
       "\n",
       "   REINSTATED  REINSTATED_DATE  \n",
       "0         NaN              NaN  \n",
       "1         NaN              NaN  \n",
       "\n",
       "[2 rows x 100 columns]"
      ],
      "text/html": [
       "<div>\n",
       "<style scoped>\n",
       "    .dataframe tbody tr th:only-of-type {\n",
       "        vertical-align: middle;\n",
       "    }\n",
       "\n",
       "    .dataframe tbody tr th {\n",
       "        vertical-align: top;\n",
       "    }\n",
       "\n",
       "    .dataframe thead th {\n",
       "        text-align: right;\n",
       "    }\n",
       "</style>\n",
       "<table border=\"1\" class=\"dataframe\">\n",
       "  <thead>\n",
       "    <tr style=\"text-align: right;\">\n",
       "      <th></th>\n",
       "      <th>date</th>\n",
       "      <th>cusip</th>\n",
       "      <th>exretn_t+1</th>\n",
       "      <th>exretnc_t+1</th>\n",
       "      <th>exretnc_dur_t+1</th>\n",
       "      <th>bond_ret_t+1</th>\n",
       "      <th>bond_ret</th>\n",
       "      <th>exretn</th>\n",
       "      <th>exretnc_dur</th>\n",
       "      <th>rating</th>\n",
       "      <th>...</th>\n",
       "      <th>RET_LDM</th>\n",
       "      <th>RET_L5M</th>\n",
       "      <th>TMT</th>\n",
       "      <th>REMCOUPS</th>\n",
       "      <th>DURATION_y</th>\n",
       "      <th>DEFAULTED</th>\n",
       "      <th>DEFAULT_DATE</th>\n",
       "      <th>DEFAULT_TYPE</th>\n",
       "      <th>REINSTATED</th>\n",
       "      <th>REINSTATED_DATE</th>\n",
       "    </tr>\n",
       "  </thead>\n",
       "  <tbody>\n",
       "    <tr>\n",
       "      <th>0</th>\n",
       "      <td>2002-08-31</td>\n",
       "      <td>000336AE7</td>\n",
       "      <td>-0.056089</td>\n",
       "      <td>-0.087082</td>\n",
       "      <td>-0.081158</td>\n",
       "      <td>-0.054689</td>\n",
       "      <td>-0.008212</td>\n",
       "      <td>-0.009612</td>\n",
       "      <td>-0.023343</td>\n",
       "      <td>8.0</td>\n",
       "      <td>...</td>\n",
       "      <td>NaN</td>\n",
       "      <td>-.8212%</td>\n",
       "      <td>5.84</td>\n",
       "      <td>12.0</td>\n",
       "      <td>4.59</td>\n",
       "      <td>N</td>\n",
       "      <td>NaN</td>\n",
       "      <td>NaN</td>\n",
       "      <td>NaN</td>\n",
       "      <td>NaN</td>\n",
       "    </tr>\n",
       "    <tr>\n",
       "      <th>1</th>\n",
       "      <td>2002-09-30</td>\n",
       "      <td>000336AE7</td>\n",
       "      <td>0.050663</td>\n",
       "      <td>0.057193</td>\n",
       "      <td>0.054383</td>\n",
       "      <td>0.052063</td>\n",
       "      <td>-0.054689</td>\n",
       "      <td>-0.056089</td>\n",
       "      <td>-0.081158</td>\n",
       "      <td>8.0</td>\n",
       "      <td>...</td>\n",
       "      <td>-5.469%</td>\n",
       "      <td>-5.469%</td>\n",
       "      <td>5.75</td>\n",
       "      <td>12.0</td>\n",
       "      <td>4.44</td>\n",
       "      <td>N</td>\n",
       "      <td>NaN</td>\n",
       "      <td>NaN</td>\n",
       "      <td>NaN</td>\n",
       "      <td>NaN</td>\n",
       "    </tr>\n",
       "  </tbody>\n",
       "</table>\n",
       "<p>2 rows × 100 columns</p>\n",
       "</div>"
      ]
     },
     "execution_count": 3,
     "metadata": {},
     "output_type": "execute_result"
    }
   ],
   "execution_count": 3
  },
  {
   "metadata": {
    "ExecuteTime": {
     "end_time": "2024-04-20T23:55:26.855433Z",
     "start_time": "2024-04-20T23:55:26.592436Z"
    }
   },
   "cell_type": "code",
   "source": [
    "bond_data['OFFERING_DATE'] = pd.to_datetime(bond_data['OFFERING_DATE'])\n",
    "bond_data['MATURITY'] = pd.to_datetime(bond_data['MATURITY'])\n",
    "bond_data['FIRST_INTEREST_DATE'] = pd.to_datetime(bond_data['FIRST_INTEREST_DATE'])"
   ],
   "outputs": [],
   "execution_count": 190
  },
  {
   "cell_type": "markdown",
   "metadata": {
    "formattedRanges": [],
    "cell_id": "1e6b94406af04aa5bb9f172b15df2fc6",
    "deepnote_cell_type": "text-cell-h1"
   },
   "source": "# Load the historical zero curve",
   "block_group": "f17c1c52563443a9bc36820fce72448b"
  },
  {
   "cell_type": "code",
   "metadata": {
    "source_hash": "8f44720e",
    "execution_start": 1713636079206,
    "execution_millis": 1574,
    "deepnote_to_be_reexecuted": false,
    "cell_id": "a4c3fca0247f402185a036a18eb5dd45",
    "deepnote_cell_type": "code",
    "ExecuteTime": {
     "end_time": "2024-04-20T23:55:47.161044Z",
     "start_time": "2024-04-20T23:55:45.868044Z"
    }
   },
   "source": [
    "yield_curve = pd.read_csv('../data/yield_panel_daily_frequency_monthly_maturity.csv', index_col=0)\n",
    "yield_curve.index = pd.to_datetime(yield_curve.index)\n",
    "yield_curve.drop('MAX_DATA_TTM', axis=1, inplace=True)  "
   ],
   "block_group": "1ab17150e7fa4c7c96c90a3ba349f33f",
   "outputs_reference": null,
   "content_dependencies": null,
   "outputs": [],
   "execution_count": 194
  },
  {
   "cell_type": "code",
   "metadata": {
    "source_hash": "27654e10",
    "execution_start": 1713636083565,
    "execution_millis": 505,
    "deepnote_to_be_reexecuted": false,
    "cell_id": "ab371d23bfde4c28acc515e4b4ae8a79",
    "deepnote_cell_type": "code",
    "ExecuteTime": {
     "end_time": "2024-04-20T21:43:41.146092Z",
     "start_time": "2024-04-20T21:43:41.118594Z"
    }
   },
   "source": "yield_curve.head()",
   "block_group": "70d083385b55476482503a1ccfbd2bc1",
   "outputs_reference": "s3:deepnote-cell-outputs-production/f853e758-830b-489a-86d6-887dc1710353",
   "content_dependencies": null,
   "outputs": [
    {
     "data": {
      "text/plain": [
       "                   1         2         3         4         5         6  \\\n",
       "1961-06-14  0.022620  0.023007  0.023619  0.024459  0.025259  0.026019   \n",
       "1961-06-15  0.022663  0.023010  0.023558  0.024313  0.025073  0.025854   \n",
       "1961-06-16  0.022541  0.022902  0.023473  0.024277  0.025102  0.025931   \n",
       "1961-06-19  0.022731  0.023081  0.023633  0.024410  0.025203  0.026007   \n",
       "1961-06-20  0.022560  0.022926  0.023506  0.024319  0.025136  0.025951   \n",
       "\n",
       "                   7         8         9        10  ...  351  352  353  354  \\\n",
       "1961-06-14  0.026744  0.027430  0.028072  0.028635  ...  NaN  NaN  NaN  NaN   \n",
       "1961-06-15  0.026627  0.027364  0.028049  0.028646  ...  NaN  NaN  NaN  NaN   \n",
       "1961-06-16  0.026726  0.027465  0.028136  0.028717  ...  NaN  NaN  NaN  NaN   \n",
       "1961-06-19  0.026781  0.027500  0.028161  0.028739  ...  NaN  NaN  NaN  NaN   \n",
       "1961-06-20  0.026742  0.027485  0.028169  0.028761  ...  NaN  NaN  NaN  NaN   \n",
       "\n",
       "            355  356  357  358  359  360  \n",
       "1961-06-14  NaN  NaN  NaN  NaN  NaN  NaN  \n",
       "1961-06-15  NaN  NaN  NaN  NaN  NaN  NaN  \n",
       "1961-06-16  NaN  NaN  NaN  NaN  NaN  NaN  \n",
       "1961-06-19  NaN  NaN  NaN  NaN  NaN  NaN  \n",
       "1961-06-20  NaN  NaN  NaN  NaN  NaN  NaN  \n",
       "\n",
       "[5 rows x 360 columns]"
      ],
      "text/html": [
       "<div>\n",
       "<style scoped>\n",
       "    .dataframe tbody tr th:only-of-type {\n",
       "        vertical-align: middle;\n",
       "    }\n",
       "\n",
       "    .dataframe tbody tr th {\n",
       "        vertical-align: top;\n",
       "    }\n",
       "\n",
       "    .dataframe thead th {\n",
       "        text-align: right;\n",
       "    }\n",
       "</style>\n",
       "<table border=\"1\" class=\"dataframe\">\n",
       "  <thead>\n",
       "    <tr style=\"text-align: right;\">\n",
       "      <th></th>\n",
       "      <th>1</th>\n",
       "      <th>2</th>\n",
       "      <th>3</th>\n",
       "      <th>4</th>\n",
       "      <th>5</th>\n",
       "      <th>6</th>\n",
       "      <th>7</th>\n",
       "      <th>8</th>\n",
       "      <th>9</th>\n",
       "      <th>10</th>\n",
       "      <th>...</th>\n",
       "      <th>351</th>\n",
       "      <th>352</th>\n",
       "      <th>353</th>\n",
       "      <th>354</th>\n",
       "      <th>355</th>\n",
       "      <th>356</th>\n",
       "      <th>357</th>\n",
       "      <th>358</th>\n",
       "      <th>359</th>\n",
       "      <th>360</th>\n",
       "    </tr>\n",
       "  </thead>\n",
       "  <tbody>\n",
       "    <tr>\n",
       "      <th>1961-06-14</th>\n",
       "      <td>0.022620</td>\n",
       "      <td>0.023007</td>\n",
       "      <td>0.023619</td>\n",
       "      <td>0.024459</td>\n",
       "      <td>0.025259</td>\n",
       "      <td>0.026019</td>\n",
       "      <td>0.026744</td>\n",
       "      <td>0.027430</td>\n",
       "      <td>0.028072</td>\n",
       "      <td>0.028635</td>\n",
       "      <td>...</td>\n",
       "      <td>NaN</td>\n",
       "      <td>NaN</td>\n",
       "      <td>NaN</td>\n",
       "      <td>NaN</td>\n",
       "      <td>NaN</td>\n",
       "      <td>NaN</td>\n",
       "      <td>NaN</td>\n",
       "      <td>NaN</td>\n",
       "      <td>NaN</td>\n",
       "      <td>NaN</td>\n",
       "    </tr>\n",
       "    <tr>\n",
       "      <th>1961-06-15</th>\n",
       "      <td>0.022663</td>\n",
       "      <td>0.023010</td>\n",
       "      <td>0.023558</td>\n",
       "      <td>0.024313</td>\n",
       "      <td>0.025073</td>\n",
       "      <td>0.025854</td>\n",
       "      <td>0.026627</td>\n",
       "      <td>0.027364</td>\n",
       "      <td>0.028049</td>\n",
       "      <td>0.028646</td>\n",
       "      <td>...</td>\n",
       "      <td>NaN</td>\n",
       "      <td>NaN</td>\n",
       "      <td>NaN</td>\n",
       "      <td>NaN</td>\n",
       "      <td>NaN</td>\n",
       "      <td>NaN</td>\n",
       "      <td>NaN</td>\n",
       "      <td>NaN</td>\n",
       "      <td>NaN</td>\n",
       "      <td>NaN</td>\n",
       "    </tr>\n",
       "    <tr>\n",
       "      <th>1961-06-16</th>\n",
       "      <td>0.022541</td>\n",
       "      <td>0.022902</td>\n",
       "      <td>0.023473</td>\n",
       "      <td>0.024277</td>\n",
       "      <td>0.025102</td>\n",
       "      <td>0.025931</td>\n",
       "      <td>0.026726</td>\n",
       "      <td>0.027465</td>\n",
       "      <td>0.028136</td>\n",
       "      <td>0.028717</td>\n",
       "      <td>...</td>\n",
       "      <td>NaN</td>\n",
       "      <td>NaN</td>\n",
       "      <td>NaN</td>\n",
       "      <td>NaN</td>\n",
       "      <td>NaN</td>\n",
       "      <td>NaN</td>\n",
       "      <td>NaN</td>\n",
       "      <td>NaN</td>\n",
       "      <td>NaN</td>\n",
       "      <td>NaN</td>\n",
       "    </tr>\n",
       "    <tr>\n",
       "      <th>1961-06-19</th>\n",
       "      <td>0.022731</td>\n",
       "      <td>0.023081</td>\n",
       "      <td>0.023633</td>\n",
       "      <td>0.024410</td>\n",
       "      <td>0.025203</td>\n",
       "      <td>0.026007</td>\n",
       "      <td>0.026781</td>\n",
       "      <td>0.027500</td>\n",
       "      <td>0.028161</td>\n",
       "      <td>0.028739</td>\n",
       "      <td>...</td>\n",
       "      <td>NaN</td>\n",
       "      <td>NaN</td>\n",
       "      <td>NaN</td>\n",
       "      <td>NaN</td>\n",
       "      <td>NaN</td>\n",
       "      <td>NaN</td>\n",
       "      <td>NaN</td>\n",
       "      <td>NaN</td>\n",
       "      <td>NaN</td>\n",
       "      <td>NaN</td>\n",
       "    </tr>\n",
       "    <tr>\n",
       "      <th>1961-06-20</th>\n",
       "      <td>0.022560</td>\n",
       "      <td>0.022926</td>\n",
       "      <td>0.023506</td>\n",
       "      <td>0.024319</td>\n",
       "      <td>0.025136</td>\n",
       "      <td>0.025951</td>\n",
       "      <td>0.026742</td>\n",
       "      <td>0.027485</td>\n",
       "      <td>0.028169</td>\n",
       "      <td>0.028761</td>\n",
       "      <td>...</td>\n",
       "      <td>NaN</td>\n",
       "      <td>NaN</td>\n",
       "      <td>NaN</td>\n",
       "      <td>NaN</td>\n",
       "      <td>NaN</td>\n",
       "      <td>NaN</td>\n",
       "      <td>NaN</td>\n",
       "      <td>NaN</td>\n",
       "      <td>NaN</td>\n",
       "      <td>NaN</td>\n",
       "    </tr>\n",
       "  </tbody>\n",
       "</table>\n",
       "<p>5 rows × 360 columns</p>\n",
       "</div>"
      ]
     },
     "execution_count": 67,
     "metadata": {},
     "output_type": "execute_result"
    }
   ],
   "execution_count": 67
  },
  {
   "cell_type": "markdown",
   "metadata": {
    "formattedRanges": [],
    "cell_id": "ffc03bdcc0944eb7b22f8df758d70d48",
    "deepnote_cell_type": "text-cell-h1"
   },
   "source": "# OAS Calculation",
   "block_group": "f9d46ba3e10e4e7bb9b560ab8b2c0be0"
  },
  {
   "cell_type": "markdown",
   "metadata": {
    "cell_id": "03cb3458ae914d10b6cbddaf90d8d623",
    "deepnote_cell_type": "markdown"
   },
   "source": [
    "OAS is the spread that added to the zero rates in the pricing function returns the price of the bond. We use the Newton method to get a solution for the OAS. In our case, since we stripped bonds with optionality, the OAS is the Z-Spread\n",
    "\n",
    "Variable Summary: \n",
    "\n",
    "* `cs`: credit spread computed as bond_yield in excess of duration-matched portfolio of US Treasuries yields\n",
    "* `tmt`: time to maturity (in months, I guess)\n",
    "* `ind_num_17`: Fama-French 17 Industry Classification (may be useful for value factor)\n",
    "* `size_ig`, `size_jk`: dummy for (respectively) IG/HY bonds in the BAML/ICE index\n",
    "* `bond_type`: US Corporate Convertible (CCOV), US Corporate Debentures (CDEB), US Corporate Medium Term Note (CMTN), US Corporate Medium Term Note Zero (CMTZ), or US Corporate Paper (CP)\n",
    "* `R_FR`, `N_FR` and co.: rating as names and one-hot encoded, probably from different providers (SP may be S&P, FR Fitch Ratings, MR Moody's\n",
    "\n",
    "Prices Variables\n",
    "\n",
    "* `PRICE_EOM`: considers all trading days and takes the last\n",
    "* `PRICE_LDM`: consider only last trading day of the month otherwise NaN\n",
    "* `PRICE_L5M`: consider only last 5 trading days of the month otherwise NaN\n",
    "* `T_SPREAD`: average trade-weighted bid-ask spread\n",
    "* `T_YLD_PT`: average trade-weighted yield point\n",
    "* `T_VOLUME`: volume traded during the month, par-value\n",
    "* `T_DVOLUME`: volume traded during the month, dollar value\n",
    "\n",
    "Other notes\n",
    "\n",
    "* We may want to remove defaulted bonds (check if they were actually already removed)"
   ],
   "block_group": "21e488e742ae4cedbb90e17aeb74885b"
  },
  {
   "metadata": {
    "ExecuteTime": {
     "end_time": "2024-04-21T00:02:15.417507Z",
     "start_time": "2024-04-21T00:02:15.409007Z"
    }
   },
   "cell_type": "code",
   "source": "bond_data['bondprc'].isna().sum() / bond_data.shape[0]",
   "outputs": [
    {
     "data": {
      "text/plain": [
       "0.15036917589486742"
      ]
     },
     "execution_count": 211,
     "metadata": {},
     "output_type": "execute_result"
    }
   ],
   "execution_count": 211
  },
  {
   "cell_type": "code",
   "metadata": {
    "source_hash": "7c1ccb04",
    "execution_start": 1713635686207,
    "execution_millis": 120,
    "deepnote_to_be_reexecuted": false,
    "cell_id": "5258ddb1910a466abe9b44028da968e7",
    "deepnote_cell_type": "code",
    "ExecuteTime": {
     "end_time": "2024-04-21T00:26:06.589124Z",
     "start_time": "2024-04-21T00:26:05.651125Z"
    }
   },
   "source": [
    "useless_cols = [\n",
    "    'company_symbol', \n",
    "    'TREASURY_MATURITY',\n",
    "    'CONV', # convertible bonds \n",
    "    'sic_code', # SIC Industry Code\n",
    "    'mom6_1', # 6m momentum\n",
    "    'ltrev48_12', # sum of bond returns over 48months (momentum) \n",
    "    'TMT', # time to maturity in years (we have it in months in tmt)\n",
    "    'DURATION_y', # duration from other df \n",
    "    'DATE',\n",
    "    'CUSIP', \n",
    "    \n",
    "]\n",
    "\n",
    "bond_data = bond_data.drop(useless_cols, axis=1, errors='ignore')\n",
    "\n",
    "example_bond = bond_data.iloc[-3] \n",
    "example_bond"
   ],
   "block_group": "ee69ad1a5a214fa38ecc6d7e413c01c1",
   "outputs_reference": "dbtable:cell_outputs/a57ee1b6-4c80-460c-aae4-16507966910e",
   "content_dependencies": null,
   "outputs": [
    {
     "data": {
      "text/plain": [
       "date               2012-04-30 00:00:00\n",
       "cusip                        G65422AA8\n",
       "exretn_t+1                         NaN\n",
       "exretnc_t+1                        NaN\n",
       "exretnc_dur_t+1                    NaN\n",
       "                          ...         \n",
       "DEFAULTED                            N\n",
       "DEFAULT_DATE                       NaN\n",
       "DEFAULT_TYPE                       NaN\n",
       "REINSTATED                         NaN\n",
       "REINSTATED_DATE                    NaN\n",
       "Name: 1392829, Length: 90, dtype: object"
      ]
     },
     "execution_count": 252,
     "metadata": {},
     "output_type": "execute_result"
    }
   ],
   "execution_count": 252
  },
  {
   "cell_type": "code",
   "metadata": {
    "source_hash": "bbbe6c0",
    "execution_start": 1713636231947,
    "execution_millis": 0,
    "deepnote_to_be_reexecuted": false,
    "cell_id": "2a111d66f1c4474ab4439349b2d6c7d8",
    "deepnote_cell_type": "code",
    "ExecuteTime": {
     "end_time": "2024-04-21T00:26:06.597124Z",
     "start_time": "2024-04-21T00:26:06.591128Z"
    }
   },
   "source": "example_bond.bondprc",
   "block_group": "0f605f3e2efd43469a3afcc87b412691",
   "outputs_reference": "dbtable:cell_outputs/31f444fa-61f6-4dd6-8767-06b4ddd600c7",
   "content_dependencies": null,
   "outputs": [
    {
     "data": {
      "text/plain": [
       "105.0"
      ]
     },
     "execution_count": 253,
     "metadata": {},
     "output_type": "execute_result"
    }
   ],
   "execution_count": 253
  },
  {
   "metadata": {
    "ExecuteTime": {
     "end_time": "2024-04-21T00:51:18.826524Z",
     "start_time": "2024-04-21T00:51:18.820525Z"
    }
   },
   "cell_type": "code",
   "source": [
    "def decompose_date(date: pd.Timestamp):\n",
    "    \"\"\"\n",
    "    Returns day, month, year given a `pd.Timestamp`\n",
    "    Parameters\n",
    "    ----------\n",
    "    date: pd.Timestamp\n",
    "\n",
    "    Returns\n",
    "    -------\n",
    "    tuple[int, int, int]: day, month, year\n",
    "\n",
    "    \"\"\"\n",
    "    return date.day, date.month, date.year\n",
    "\n",
    "def get_day_count(bond: pd.Series): \n",
    "    day_count_convention = bond.DAY_COUNT_BASIS\n",
    "    \n",
    "    if day_count_convention == '30/360': \n",
    "        return ql.Thirty360(ql.Thirty360.USA)\n",
    "    \n",
    "    raise Exception(f'we did not implement day count {day_count_convention}')\n",
    "    \n",
    "def get_coupon_freq(bond: pd.Series): \n",
    "    coupon_freq = bond.NCOUPS\n",
    "    if coupon_freq == 2: \n",
    "        return ql.Period(ql.Semiannual)\n",
    "    \n",
    "    raise Exception(f'we did not implement coupon freq {coupon_freq}')"
   ],
   "outputs": [],
   "execution_count": 287
  },
  {
   "cell_type": "code",
   "metadata": {
    "source_hash": "e7f8963",
    "execution_start": 1713635912409,
    "execution_millis": 81,
    "deepnote_to_be_reexecuted": false,
    "cell_id": "115bf260678f4c5cb90b2f8657a0989e",
    "deepnote_cell_type": "code",
    "ExecuteTime": {
     "end_time": "2024-04-21T00:51:19.454023Z",
     "start_time": "2024-04-21T00:51:19.440023Z"
    }
   },
   "source": [
    "\n",
    "def get_zero_curve(date: ql.Date, calendar: ql.Calendar, pmt_convention, spread: np.ndarray | None = None) -> ql.ZeroCurve: \n",
    "    date_mask = pd.to_datetime(date.to_date())\n",
    "    zero_rates = yield_curve.loc[date_mask]\n",
    "    zero_rates: pd.Series\n",
    "    \n",
    "    if spread is None:\n",
    "        spread = np.zeros(len(zero_rates) + 1)\n",
    "    \n",
    "    tenors = np.arange(0, len(zero_rates) + 1, dtype=np.intp)\n",
    "    term_rates = [0.] + zero_rates.to_list()\n",
    "    \n",
    "    spot_dates = [date + ql.Period(tenor.item(), ql.Months) for tenor in tenors]\n",
    "    spot_rates = term_rates + spread\n",
    "    \n",
    "    # override pmt_convention \n",
    "    pmt_convention = ql.Actual365Fixed(ql.Actual365Fixed.Standard)\n",
    "    \n",
    "    spot_curve = ql.ZeroCurve(spot_dates, spot_rates, pmt_convention, calendar, ql.Linear(), ql.Continuous, ql.Monthly)\n",
    "    \n",
    "    return spot_curve\n",
    "\n",
    "def debug_cashflows(bond: ql.FixedRateBond, bond_data: pd.Series):\n",
    "    print('My reality check')\n",
    "    print(f'Est. Bond Price: {bond.NPV()}')\n",
    "    print(f'\\tWe are valuing as of {bond_data.date}, \\n\\tOffering date was {bond_data.OFFERING_DATE} - Maturity: {bond_data.MATURITY}')\n",
    "    print(f'\\tcoupon is {bond_data.coupon}% - Semiannual Coupon should be {bond_data.coupon * bond_data.principal_amt / 2 / 100}')\n",
    "    \n",
    "    data_coupon_amt = bond_data.COUPAMT\n",
    "    data_accrued_interest = bond_data.COUPACC\n",
    "    # make sure they check out with the model \n",
    "    \n",
    "    cashflows = bond.cashflows()\n",
    "    for c in cashflows:\n",
    "        print('%20s %12f' % (c.date(), c.amount()))\n",
    "        \n",
    "    # assert that the first coupon date is the same as indicated in the bond\n",
    "    bond_first_pmt_date = bond_data.FIRST_INTEREST_DATE\n",
    "    bond_last_pmt_date = bond_data.LAST_INTEREST_DATE\n",
    "    bond_next_coup_date = bond_data.nextcoup\n",
    "    \n",
    "    bond_ql_first_pmt_date = cashflows[0].date().to_date()\n",
    "    bond_ql_last_pmt_date = cashflows[-1].date().to_date()\n",
    "    \n",
    "    print(f'First pmt date is {bond_first_pmt_date}')\n",
    "    print(f'First pmt date from ql is {bond_ql_first_pmt_date}')\n",
    "    print(f'Next pmt date is {bond_next_coup_date}')\n",
    "    \n",
    "\n",
    "\n",
    "def compute_OAS(bond: pd.Series): \n",
    "    calc_date = ql.Date(*decompose_date(bond.date))\n",
    "    ql.Settings.instance().evaluationDate = calc_date\n",
    "    \n",
    "    # key data\n",
    "    calendar = ql.UnitedStates(ql.UnitedStates.NYSE) # calendar to follow for calculations\n",
    "    day_count_convention = get_day_count(bond) # the day count convention as specified in the bond\n",
    "    \n",
    "    # bond data\n",
    "    issue_date = ql.Date(*decompose_date(bond.OFFERING_DATE))\n",
    "    maturity_date = ql.Date(*decompose_date(bond.MATURITY))\n",
    "    tenor = get_coupon_freq(bond)\n",
    "    date_generation = ql.DateGeneration.Backward\n",
    "    month_end = False\n",
    "    face_value = bond.principal_amt\n",
    "    coupon = bond.coupon / 100\n",
    "    mkt_price = bond.bondprc\n",
    "    first_pmt_date = ql.Date(*decompose_date(bond.FIRST_INTEREST_DATE))\n",
    "    \n",
    "    schedule = ql.Schedule(issue_date, maturity_date, tenor, calendar, ql.Unadjusted, ql.Unadjusted, date_generation, month_end, first_pmt_date)\n",
    "    \n",
    "    settlement_days = 2\n",
    "    \n",
    "    # zero curve\n",
    "    spot_curve = get_zero_curve(calc_date, calendar, day_count_convention)\n",
    "    pricing_curve = ql.YieldTermStructureHandle(spot_curve)\n",
    "    \n",
    "    bond_ql = ql.FixedRateBond(\n",
    "        settlement_days, \n",
    "        face_value, \n",
    "        schedule, \n",
    "        [coupon],\n",
    "        day_count_convention\n",
    "    )\n",
    "    bond_ql.setPricingEngine(ql.DiscountingBondEngine(pricing_curve))\n",
    "    \n",
    "    # Z-spread calculation \n",
    "    zspread = ql.BondFunctions.zSpread(\n",
    "        bond_ql, \n",
    "        mkt_price,\n",
    "        spot_curve,\n",
    "        day_count_convention, \n",
    "        ql.Compounded,\n",
    "        ql.Semiannual, \n",
    "        calc_date,\n",
    "        1.e-16,\n",
    "        10_000_000,\n",
    "        0.\n",
    "    )\n",
    "\n",
    "    print(f'zspread is {zspread}')\n",
    "    debug_cashflows(bond_ql, bond)\n",
    "    \n",
    "    print(bond_ql.cleanPrice())\n",
    "    print(bond_ql.dirtyPrice())\n",
    "    \n",
    "    def impl_clean_price(spread):\n",
    "        spread1 = ql.SimpleQuote(spread)\n",
    "        spread_handle1 = ql.QuoteHandle(spread1)\n",
    "        ts_spreaded1 = ql.ZeroSpreadedTermStructure(pricing_curve,\n",
    "                                                    spread_handle1,\n",
    "                                                    ql.Compounded,\n",
    "                                                    ql.Semiannual)\n",
    "        ts_spreaded_handle1 = ql.YieldTermStructureHandle(ts_spreaded1)\n",
    "        ycsin = ts_spreaded_handle1\n",
    "        fixed_rate_bond = ql.FixedRateBond(settlement_days,\n",
    "                                        face_value,\n",
    "                                        schedule,\n",
    "                                        [coupon],\n",
    "                                        day_count_convention)\n",
    "        # Set Valuation engine\n",
    "        bond_engine = ql.DiscountingBondEngine(ycsin)\n",
    "        fixed_rate_bond.setPricingEngine(bond_engine)\n",
    "        value = fixed_rate_bond.cleanPrice()\n",
    "        return value\n",
    "    \n",
    "    print(f'debug from zspread')\n",
    "    print(f'mkt price = {mkt_price}')\n",
    "    print('implied price =', impl_clean_price(zspread))\n",
    "    print(f'Delta = {mkt_price-impl_clean_price(zspread)}')\n",
    "    print(f'delta in bps: {(mkt_price-impl_clean_price(zspread)) / mkt_price * 100 * 100:.2f}bps')\n",
    "    \n",
    "    return spot_curve\n",
    "\n",
    "    "
   ],
   "block_group": "694a69b778c449628414f12500f10b77",
   "outputs_reference": null,
   "content_dependencies": null,
   "outputs": [],
   "execution_count": 288
  },
  {
   "cell_type": "code",
   "metadata": {
    "source_hash": "b6c11a54",
    "execution_start": 1713635920962,
    "execution_millis": 106,
    "deepnote_to_be_reexecuted": false,
    "cell_id": "7a74ec40beb94d12abba0f65aa333c17",
    "deepnote_cell_type": "code",
    "ExecuteTime": {
     "end_time": "2024-04-21T00:51:26.750551Z",
     "start_time": "2024-04-21T00:51:26.740049Z"
    }
   },
   "source": "spot_crv = compute_OAS(example_bond)",
   "block_group": "9a921ee166384369a114b5d10438ea89",
   "outputs_reference": null,
   "content_dependencies": null,
   "outputs": [
    {
     "name": "stdout",
     "output_type": "stream",
     "text": [
      "zspread is 0.010018640556000715\n",
      "My reality check\n",
      "Est. Bond Price: 1085.6612359309054\n",
      "\tWe are valuing as of 2012-04-30 00:00:00, \n",
      "\tOffering date was 2006-05-23 00:00:00 - Maturity: 2013-06-01 00:00:00\n",
      "\tcoupon is 5.875% - Semiannual Coupon should be 29.375\n",
      "  December 1st, 2006    30.680556\n",
      "      June 1st, 2007    29.375000\n",
      "  December 3rd, 2007    29.375000\n",
      "      June 2nd, 2008    29.375000\n",
      "  December 1st, 2008    29.375000\n",
      "      June 1st, 2009    29.375000\n",
      "  December 1st, 2009    29.375000\n",
      "      June 1st, 2010    29.375000\n",
      "  December 1st, 2010    29.375000\n",
      "      June 1st, 2011    29.375000\n",
      "  December 1st, 2011    29.375000\n",
      "      June 1st, 2012    29.375000\n",
      "  December 3rd, 2012    29.375000\n",
      "      June 3rd, 2013    29.375000\n",
      "      June 3rd, 2013  1000.000000\n",
      "First pmt date is 2006-12-01 00:00:00\n",
      "First pmt date from ql is 2006-12-01\n",
      "Next pmt date is 2012-06-01\n",
      "106.10192586633931\n",
      "108.56616197745042\n",
      "debug from zspread\n",
      "mkt price = 105.0\n",
      "implied price = 104.97328198167804\n",
      "Delta = 0.02671801832195797\n",
      "delta in bps: 2.54bps\n"
     ]
    }
   ],
   "execution_count": 289
  },
  {
   "metadata": {
    "ExecuteTime": {
     "end_time": "2024-04-21T01:02:01.800332Z",
     "start_time": "2024-04-21T01:02:01.582824Z"
    }
   },
   "cell_type": "code",
   "source": [
    "def plot_yc(date, curve: ql.ZeroCurve = None): \n",
    "    date_mask = date\n",
    "    zero_rates = yield_curve.loc[date_mask]\n",
    "    \n",
    "    fig, ax = plt.subplots()\n",
    "    \n",
    "    dates, rates = zip(*curve.nodes())\n",
    "    dates = [d.to_date() for d in dates]\n",
    "    \n",
    "    print(dates[:3])\n",
    "    print(rates[:3])\n",
    "    \n",
    "    ax.plot(dates[1:], zero_rates, lw='5')\n",
    "    ax.plot(dates, rates, c='red')\n",
    "    \n",
    "plot_yc('2012-04-30', spot_crv)"
   ],
   "outputs": [
    {
     "name": "stdout",
     "output_type": "stream",
     "text": [
      "[datetime.date(2012, 4, 30), datetime.date(2012, 5, 30), datetime.date(2012, 6, 30)]\n",
      "(0.0, 0.0009678633, 0.0010243662)\n"
     ]
    },
    {
     "data": {
      "text/plain": [
       "<Figure size 640x480 with 1 Axes>"
      ],
      "image/png": "[encoded data removed]"
     },
     "metadata": {},
     "output_type": "display_data"
    }
   ],
   "execution_count": 320
  },
  {
   "cell_type": "markdown",
   "source": [
    "\n",
    "<a style='text-decoration:none;line-height:16px;display:flex;color:#5B5B62;padding:10px;justify-content:end;' href='https://deepnote.com?utm_source=created-in-deepnote-cell&projectId=809bdc60-6cc4-4659-aae8-7be15b203bd4' target=\"_blank\">\n",
    "<img alt='Created in deepnote.com' style='display:inline;max-height:16px;margin:0px;margin-right:7.5px;' src='data:image/svg+xml;base64,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' > </img>\n",
    "Created in <span style='font-weight:600;margin-left:4px;'>Deepnote</span></a>"
   ],
   "metadata": {
    "created_in_deepnote_cell": true,
    "deepnote_cell_type": "markdown"
   }
  },
  {
   "metadata": {},
   "cell_type": "code",
   "outputs": [],
   "execution_count": null,
   "source": ""
  }
 ],
 "nbformat": 4,
 "nbformat_minor": 0,
 "metadata": {
  "deepnote_persisted_session": {
   "createdAt": "2024-04-20T17:49:10.133Z"
  },
  "deepnote_full_width": true,
  "deepnote_notebook_id": "76025adab9af4a4fb451a04a4bf44042",
  "deepnote_execution_queue": [],
  "kernelspec": {
   "name": "python3",
   "language": "python",
   "display_name": "Python 3 (ipykernel)"
  }
 }
}
