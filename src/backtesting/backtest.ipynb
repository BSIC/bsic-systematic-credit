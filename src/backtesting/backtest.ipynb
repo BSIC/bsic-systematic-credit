{
 "cells": [
  {
   "metadata": {
    "ExecuteTime": {
     "end_time": "2024-05-04T22:57:53.659886Z",
     "start_time": "2024-05-04T22:57:53.654886Z"
    }
   },
   "cell_type": "code",
   "source": [
    "import logging\n",
    "import sys\n",
    "import numpy as np\n",
    "import pandas as pd\n",
    "import polars as pl\n",
    "import datetime\n",
    "import polars_ols as pls\n",
    "from matplotlib import pyplot as plt\n",
    "from mpl_bsic import apply_bsic_logo, apply_bsic_style\n",
    "from pypfopt.efficient_frontier import EfficientFrontier\n",
    "\n",
    "logging.basicConfig(stream=sys.stdout)\n",
    "log = logging.getLogger(\"backtester\")"
   ],
   "id": "de4594852c84f140",
   "outputs": [],
   "execution_count": 4
  },
  {
   "metadata": {
    "ExecuteTime": {
     "end_time": "2024-05-04T22:57:54.078891Z",
     "start_time": "2024-05-04T22:57:54.068897Z"
    }
   },
   "cell_type": "code",
   "source": [
    "def _update_transition_prob_matrix(chain, counts_matrix, lag):\n",
    "    flat_coords = np.ravel_multi_index((chain[:-lag], chain[lag:]), counts_matrix.shape)\n",
    "    return np.bincount(flat_coords, minlength=counts_matrix.size).reshape(counts_matrix.shape)\n",
    "\n",
    "def _convert_to_probabilities(transition_matrix: np.ndarray): \n",
    "    M = transition_matrix.copy()\n",
    "    for row in M: \n",
    "        n = sum(row)\n",
    "        if n > 0: \n",
    "            row[:] = [f/n for f in row] \n",
    "    \n",
    "    return M\n",
    "\n",
    "def compute_transition_matrix(df_with_quantiles: pl.DataFrame, quantile_col: str, n_quantiles: int, lag: int = 1, plot: bool = False):\n",
    "    \"\"\"Compute the transition probabilities for quantiles for a given signal, given a certain lag (1 unit of lag is 1 month of time)\"\"\"\n",
    "    \n",
    "    # group by the cusip, and get the evolution of the quantile during time for each bond\n",
    "    quantiles_evolution = df_with_quantiles.sort('date').filter(pl.col(quantile_col).is_not_null()).group_by('cusip', maintain_order=True).agg(pl.col(quantile_col))\n",
    "    \n",
    "    # initialize the matrix of transition probabilities\n",
    "    transition_probabilities = np.zeros((n_quantiles, n_quantiles), dtype=np.float64)\n",
    "    \n",
    "    # iterate through the different evolutions and update the transition probabilities\n",
    "    for row in quantiles_evolution.iter_rows(): \n",
    "        chain = row[1]\n",
    "        if np.min(chain) != 0: \n",
    "            chain -= np.min(chain)\n",
    "        \n",
    "        transition_probabilities[:, :] += _update_transition_prob_matrix(chain, transition_probabilities, lag)\n",
    "    \n",
    "    # convert these to actual probabilities\n",
    "    transition_probabilities = _convert_to_probabilities(transition_probabilities)\n",
    "    \n",
    "    if plot: \n",
    "        fig, ax = plt.subplots()\n",
    "        ax.imshow(transition_probabilities, cmap='hot', interpolation='nearest')\n",
    "    \n",
    "    return transition_probabilities"
   ],
   "id": "dc0764eb1a451727",
   "outputs": [],
   "execution_count": 5
  },
  {
   "metadata": {
    "ExecuteTime": {
     "end_time": "2024-05-04T22:57:55.491387Z",
     "start_time": "2024-05-04T22:57:54.798885Z"
    }
   },
   "cell_type": "code",
   "source": [
    "bond_data = pl.read_parquet('../../data/final_data/data_with_signals.pq')\n",
    "bond_data.head()"
   ],
   "id": "dbabdd2f2e3347c8",
   "outputs": [
    {
     "data": {
      "text/plain": [
       "shape: (5, 136)\n",
       "┌────────┬────────────┬───────────┬────────────┬───┬───────────┬───────────┬───────────┬───────────┐\n",
       "│        ┆ date       ┆ cusip     ┆ exretn_t+1 ┆ … ┆ eq_mom_6m ┆ eq_mom_12 ┆ eq_mom_12 ┆ equity_mo │\n",
       "│ ---    ┆ ---        ┆ ---       ┆ ---        ┆   ┆ o_quantil ┆ mo_bucket ┆ mo_quanti ┆ mentum_si │\n",
       "│ i64    ┆ date       ┆ str       ┆ f64        ┆   ┆ e         ┆ _delta    ┆ le        ┆ gnal_valu │\n",
       "│        ┆            ┆           ┆            ┆   ┆ ---       ┆ ---       ┆ ---       ┆ e         │\n",
       "│        ┆            ┆           ┆            ┆   ┆ i64       ┆ f64       ┆ i64       ┆ ---       │\n",
       "│        ┆            ┆           ┆            ┆   ┆           ┆           ┆           ┆ f64       │\n",
       "╞════════╪════════════╪═══════════╪════════════╪═══╪═══════════╪═══════════╪═══════════╪═══════════╡\n",
       "│ 583213 ┆ 2012-05-31 ┆ 00037BAA0 ┆ 0.006186   ┆ … ┆ null      ┆ null      ┆ null      ┆ null      │\n",
       "│ 588586 ┆ 2012-06-30 ┆ 00037BAA0 ┆ 0.011728   ┆ … ┆ null      ┆ null      ┆ null      ┆ null      │\n",
       "│ 594002 ┆ 2012-07-31 ┆ 00037BAA0 ┆ -0.001191  ┆ … ┆ null      ┆ null      ┆ null      ┆ null      │\n",
       "│ 599442 ┆ 2012-08-31 ┆ 00037BAA0 ┆ 0.002185   ┆ … ┆ null      ┆ null      ┆ null      ┆ null      │\n",
       "│ 604916 ┆ 2012-09-30 ┆ 00037BAA0 ┆ 0.001884   ┆ … ┆ null      ┆ null      ┆ null      ┆ null      │\n",
       "└────────┴────────────┴───────────┴────────────┴───┴───────────┴───────────┴───────────┴───────────┘"
      ],
      "text/html": [
       "<div><style>\n",
       ".dataframe > thead > tr,\n",
       ".dataframe > tbody > tr {\n",
       "  text-align: right;\n",
       "  white-space: pre-wrap;\n",
       "}\n",
       "</style>\n",
       "<small>shape: (5, 136)</small><table border=\"1\" class=\"dataframe\"><thead><tr><th></th><th>date</th><th>cusip</th><th>exretn_t+1</th><th>exretnc_t+1</th><th>exretnc_dur_t+1</th><th>bond_ret_t+1</th><th>bond_ret</th><th>exretn</th><th>exretnc_dur</th><th>rating</th><th>cs</th><th>cs_6m_delta</th><th>bond_yield</th><th>bond_amount_out</th><th>offering_amt</th><th>bondprc</th><th>perc_par</th><th>tmt</th><th>duration</th><th>ind_num_17</th><th>sic_code</th><th>BOND_RET</th><th>ILLIQ</th><th>var95</th><th>n_trades_month</th><th>size_ig</th><th>size_jk</th><th>BOND_YIELD</th><th>CS</th><th>BONDPRC</th><th>PRFULL</th><th>CONVEXITY</th><th>CS_6M_DELTA</th><th>bond_value</th><th>BOND_VALUE</th><th>coupon</th><th>&hellip;</th><th>spread_duration</th><th>bucket</th><th>dxs</th><th>relative_dxs</th><th>systematic_return</th><th>residual_return_t+1</th><th>oas_bucket_delta</th><th>oas_quantile</th><th>weighted_dxs_median</th><th>weighted_ret_median</th><th>oas_bucket_delta_right</th><th>oas_quantile_right</th><th>carry_signal_val</th><th>carry_signal_value</th><th>excess_credit_ret</th><th>mom_6mo</th><th>price_mom_6mo</th><th>mom_12mo</th><th>price_mom_12mo</th><th>price_mom_6mo_bucket_delta</th><th>price_mom_6mo_quantile</th><th>price_mom_12mo_bucket_delta</th><th>price_mom_12mo_quantile</th><th>credit_mom_signal_value</th><th>ESP_bucket_mean_oas</th><th>ESP</th><th>esp_residual</th><th>esp_residual_bucket_delta</th><th>esp_residual_quantile</th><th>esp_signal_value</th><th>eq_mom_6mo</th><th>eq_mom_12mo</th><th>eq_mom_6mo_bucket_delta</th><th>eq_mom_6mo_quantile</th><th>eq_mom_12mo_bucket_delta</th><th>eq_mom_12mo_quantile</th><th>equity_momentum_signal_value</th></tr><tr><td>i64</td><td>date</td><td>str</td><td>f64</td><td>f64</td><td>f64</td><td>f64</td><td>f64</td><td>f64</td><td>f64</td><td>f64</td><td>f64</td><td>f64</td><td>f64</td><td>f64</td><td>f64</td><td>f64</td><td>f64</td><td>f64</td><td>f64</td><td>f64</td><td>i64</td><td>f64</td><td>f64</td><td>f64</td><td>f64</td><td>f64</td><td>f64</td><td>f64</td><td>f64</td><td>f64</td><td>f64</td><td>f64</td><td>f64</td><td>f64</td><td>f64</td><td>f64</td><td>&hellip;</td><td>f64</td><td>str</td><td>f64</td><td>f64</td><td>f64</td><td>f64</td><td>f64</td><td>i64</td><td>f64</td><td>f64</td><td>f64</td><td>i64</td><td>f64</td><td>f64</td><td>f64</td><td>f64</td><td>f64</td><td>f64</td><td>f64</td><td>f64</td><td>i64</td><td>f64</td><td>i64</td><td>f64</td><td>f64</td><td>f64</td><td>f64</td><td>f64</td><td>i64</td><td>f64</td><td>f64</td><td>f64</td><td>f64</td><td>i64</td><td>f64</td><td>i64</td><td>f64</td></tr></thead><tbody><tr><td>583213</td><td>2012-05-31</td><td>&quot;00037BAA0&quot;</td><td>0.006186</td><td>0.007551</td><td>0.007479</td><td>0.006186</td><td>null</td><td>null</td><td>null</td><td>6.0</td><td>0.010429</td><td>null</td><td>0.016813</td><td>500000.0</td><td>500000.0</td><td>99.829504</td><td>0.998295</td><td>60.1</td><td>4.723592</td><td>11.0</td><td>3612</td><td>0.004055</td><td>0.003489</td><td>null</td><td>16.0</td><td>1.0</td><td>1.0</td><td>0.017072</td><td>0.010567</td><td>99.6121</td><td>99.715921</td><td>25.124045</td><td>null</td><td>4.9914752e7</td><td>4.980605e7</td><td>1.625</td><td>&hellip;</td><td>2.787959</td><td>&quot;2_A_shortdur&quot;</td><td>0.027666</td><td>4.676272</td><td>0.003748</td><td>0.002438</td><td>0.001853</td><td>8</td><td>0.005916</td><td>0.000801</td><td>0.001853</td><td>8</td><td>0.505634</td><td>0.505634</td><td>null</td><td>NaN</td><td>NaN</td><td>NaN</td><td>NaN</td><td>null</td><td>null</td><td>null</td><td>null</td><td>null</td><td>0.008071</td><td>0.001853</td><td>null</td><td>null</td><td>null</td><td>null</td><td>NaN</td><td>NaN</td><td>null</td><td>null</td><td>null</td><td>null</td><td>null</td></tr><tr><td>588586</td><td>2012-06-30</td><td>&quot;00037BAA0&quot;</td><td>0.011728</td><td>0.003808</td><td>0.004315</td><td>0.011728</td><td>0.006186</td><td>0.006186</td><td>0.007479</td><td>6.0</td><td>0.00888</td><td>null</td><td>0.015781</td><td>500000.0</td><td>500000.0</td><td>100.447</td><td>1.00447</td><td>59.1</td><td>4.645004</td><td>11.0</td><td>3612</td><td>0.005945</td><td>0.014093</td><td>null</td><td>15.0</td><td>1.0</td><td>1.0</td><td>0.015094</td><td>0.008109</td><td>100.5391</td><td>100.764793</td><td>24.445752</td><td>null</td><td>5.02235e7</td><td>5.026955e7</td><td>1.625</td><td>&hellip;</td><td>2.363495</td><td>&quot;2_A_shortdur&quot;</td><td>0.018979</td><td>3.207915</td><td>0.002571</td><td>0.009157</td><td>0.000939</td><td>7</td><td>0.005916</td><td>0.000801</td><td>0.000939</td><td>7</td><td>0.313199</td><td>0.313199</td><td>0.005302</td><td>NaN</td><td>NaN</td><td>NaN</td><td>NaN</td><td>null</td><td>null</td><td>null</td><td>null</td><td>null</td><td>0.007091</td><td>0.000939</td><td>null</td><td>null</td><td>null</td><td>null</td><td>NaN</td><td>NaN</td><td>null</td><td>null</td><td>null</td><td>null</td><td>null</td></tr><tr><td>594002</td><td>2012-07-31</td><td>&quot;00037BAA0&quot;</td><td>-0.001191</td><td>-0.002055</td><td>-0.001935</td><td>-0.001091</td><td>0.011728</td><td>0.011728</td><td>0.004315</td><td>6.0</td><td>0.00808</td><td>null</td><td>0.013519</td><td>500000.0</td><td>500000.0</td><td>101.625066</td><td>1.016251</td><td>58.066667</td><td>4.567047</td><td>11.0</td><td>3612</td><td>0.007198</td><td>0.019627</td><td>null</td><td>15.0</td><td>1.0</td><td>1.0</td><td>0.01264</td><td>0.00672</td><td>101.665</td><td>102.03965</td><td>23.628646</td><td>null</td><td>5.0812533e7</td><td>5.08325e7</td><td>1.625</td><td>&hellip;</td><td>2.400071</td><td>&quot;2_A_shortdur&quot;</td><td>0.017051</td><td>2.882135</td><td>0.00231</td><td>-0.003401</td><td>0.000514</td><td>7</td><td>0.005916</td><td>0.000801</td><td>0.000514</td><td>7</td><td>0.313199</td><td>0.313199</td><td>0.00289</td><td>NaN</td><td>NaN</td><td>NaN</td><td>NaN</td><td>null</td><td>null</td><td>null</td><td>null</td><td>null</td><td>0.006591</td><td>0.000514</td><td>null</td><td>null</td><td>null</td><td>null</td><td>NaN</td><td>NaN</td><td>null</td><td>null</td><td>null</td><td>null</td><td>null</td></tr><tr><td>599442</td><td>2012-08-31</td><td>&quot;00037BAA0&quot;</td><td>0.002185</td><td>0.002064</td><td>0.002085</td><td>0.002285</td><td>-0.001091</td><td>-0.001191</td><td>-0.001935</td><td>6.0</td><td>0.008651</td><td>null</td><td>0.014018</td><td>500000.0</td><td>500000.0</td><td>101.5142</td><td>1.015142</td><td>57.033333</td><td>4.481314</td><td>11.0</td><td>3612</td><td>-0.002496</td><td>-0.003326</td><td>null</td><td>18.0</td><td>1.0</td><td>1.0</td><td>0.012993</td><td>0.007078</td><td>101.473</td><td>101.996612</td><td>22.750908</td><td>null</td><td>5.07571e7</td><td>5.07365e7</td><td>1.625</td><td>&hellip;</td><td>2.380807</td><td>&quot;2_A_shortdur&quot;</td><td>0.017731</td><td>2.996963</td><td>0.002402</td><td>-0.000117</td><td>0.000918</td><td>7</td><td>0.005916</td><td>0.000801</td><td>0.000918</td><td>7</td><td>0.313199</td><td>0.313199</td><td>-0.000224</td><td>NaN</td><td>NaN</td><td>NaN</td><td>NaN</td><td>null</td><td>null</td><td>null</td><td>null</td><td>null</td><td>0.006529</td><td>0.000918</td><td>null</td><td>null</td><td>null</td><td>null</td><td>NaN</td><td>NaN</td><td>null</td><td>null</td><td>null</td><td>null</td><td>null</td></tr><tr><td>604916</td><td>2012-09-30</td><td>&quot;00037BAA0&quot;</td><td>0.001884</td><td>0.005208</td><td>0.004934</td><td>0.001984</td><td>0.002285</td><td>0.002185</td><td>0.002085</td><td>6.0</td><td>0.008276</td><td>null</td><td>0.01376</td><td>500000.0</td><td>500000.0</td><td>101.746142</td><td>1.017461</td><td>56.033333</td><td>4.400393</td><td>11.0</td><td>3612</td><td>0.003524</td><td>0.005008</td><td>null</td><td>15.0</td><td>1.0</td><td>1.0</td><td>0.012316</td><td>0.006696</td><td>101.7547</td><td>102.400185</td><td>22.069816</td><td>null</td><td>5.0873071e7</td><td>5.087735e7</td><td>1.625</td><td>&hellip;</td><td>2.1584</td><td>&quot;2_A_shortdur&quot;</td><td>0.014568</td><td>2.462358</td><td>0.001973</td><td>0.00001</td><td>0.001135</td><td>7</td><td>0.005916</td><td>0.000801</td><td>0.001135</td><td>7</td><td>0.313199</td><td>0.313199</td><td>0.002127</td><td>NaN</td><td>NaN</td><td>NaN</td><td>NaN</td><td>null</td><td>null</td><td>null</td><td>null</td><td>null</td><td>0.005614</td><td>0.001135</td><td>null</td><td>null</td><td>null</td><td>null</td><td>NaN</td><td>NaN</td><td>null</td><td>null</td><td>null</td><td>null</td><td>null</td></tr></tbody></table></div>"
      ]
     },
     "execution_count": 6,
     "metadata": {},
     "output_type": "execute_result"
    }
   ],
   "execution_count": 6
  },
  {
   "cell_type": "code",
   "id": "7b096743e4c6176a",
   "metadata": {
    "collapsed": true,
    "ExecuteTime": {
     "end_time": "2024-05-04T23:59:19.611886Z",
     "start_time": "2024-05-04T23:59:19.587885Z"
    }
   },
   "source": [
    "class Backtester:\n",
    "    def __init__(\n",
    "        self,\n",
    "        bond_data: pl.DataFrame,\n",
    "        halflife: int,\n",
    "        formation_period_len: int,\n",
    "    ) -> None:\n",
    "        \n",
    "        self.bond_data = bond_data.sort(['cusip', 'date'])   # DataFrame with time series of alpha estimates for each bond   \n",
    "        self.signals = [f'{signal_name}_signal_value' for signal_name in ['equity_momentum', 'carry', 'credit_mom', 'esp']]\n",
    "        \n",
    "        self.formation_period_date = datetime.date(2005,1,1)\n",
    "        \n",
    "        self.bonds = bond_data.select('cusip').unique()\n",
    "        \n",
    "        # self.factors = ????????? #list of all factor labels\n",
    "        \n",
    "        self.formation_period_len = formation_period_len\n",
    "        \n",
    "        self.dates = bond_data.select('date').sort('date').unique()\n",
    "        self.end_formation_date = self.dates[formation_period_len]\n",
    "        \n",
    "        self.half_life = halflife\n",
    "        \n",
    "        self.alpha = 1 - np.exp(-np.log(2) / self.half_life)   \n",
    "        \n",
    "    def _compute_partial_returns(self, to_date: datetime.date):\n",
    "        data = self.bond_data.filter(pl.col('date') < to_date)\n",
    "        signals = self.signals\n",
    "        signals_cols = [pl.col(signal) for signal in signals]\n",
    "        \n",
    "        partial_returns = data.select(\n",
    "            pl.col('date'),\n",
    "            pl\n",
    "            .col('residual_return_t+1')\n",
    "            .least_squares.ols(*signals_cols, add_intercept=False, mode='coefficients', null_policy='drop')\n",
    "            .over('date')\n",
    "        ).unnest('coefficients')\n",
    "        \n",
    "        return partial_returns\n",
    "    \n",
    "    def compute_signal_weights(self) -> pl.DataFrame:\n",
    "        # initialize variables\n",
    "        alpha = self.alpha\n",
    "        signals = self.signals\n",
    "        formation_date = self.formation_period_date\n",
    "        print(f'using alpha={alpha}')\n",
    "        \n",
    "        # compute partial returns during the formation period\n",
    "        partial_returns_formation_period = self._compute_partial_returns(formation_date)\n",
    "        \n",
    "        # calculate partial return volatility\n",
    "        dates = self.bond_data.filter(pl.col('date') >= formation_date).get_column('date').unique()\n",
    "        v_0 = partial_returns_formation_period.drop('date').std() # compute volatility at time 0 as a starting point\n",
    "        \n",
    "        pr_volatilities = np.zeros((len(dates), len(self.signals)))\n",
    "        signal_weights = np.zeros((len(dates), len(self.signals)))\n",
    "                                  \n",
    "        pr_volatilities[0] = v_0.to_numpy()[0]  # initialize with the volatility from the formation period\n",
    "        # TODO SUBSTITUTE WITH FAMA-MACBETH LOADINGS\n",
    "        partial_returns_t_0 = partial_returns_formation_period.drop('date')[-1].to_numpy()[0]\n",
    "        signal_weights[0] = partial_returns_t_0 / np.sum(partial_returns_t_0)\n",
    "        \n",
    "        j = 0\n",
    "        for i in range(1,len(dates)):\n",
    "            j += 1\n",
    "            if j % 50 == 0: \n",
    "                print(f'j={j}, {j/len(dates)*100:.2f}%')\n",
    "            date = dates[i]\n",
    "            \n",
    "            partial_rets = self._compute_partial_returns(date)\n",
    "            r_t = partial_rets.drop('date')[-1].to_numpy()[0]\n",
    "            \n",
    "            pr_volatilities[i] = (1-alpha) * pr_volatilities[i-1] + alpha * np.power(r_t, 2)\n",
    "            signal_weights[i] = (1-alpha) * signal_weights[i-1] + alpha * r_t / pr_volatilities[i]\n",
    "            \n",
    "        signal_weights = signal_weights / signal_weights.sum(axis=1).reshape(-1,1)\n",
    "        signal_weights = pl.DataFrame(signal_weights).rename({f'column_{i}': signals[i] for i in range(len(signals))}).with_columns(\n",
    "            date=dates\n",
    "        )\n",
    "        \n",
    "        # rename columns to weights\n",
    "        signal_weights = signal_weights.rename({col: col.replace('value', 'weight') for col in signals})\n",
    "            \n",
    "        return signal_weights\n",
    "       \n",
    "    def compute_alpha_estimates(self): \n",
    "        bond_data, formation_date, signals = self.bond_data, self.formation_period_date ,self.signals\n",
    "        signal_weights = self.compute_signal_weights()\n",
    "        \n",
    "        df = bond_data.filter(pl.col('date') >= formation_date).join(\n",
    "            signal_weights,\n",
    "            how='left',\n",
    "            on='date'\n",
    "        )\n",
    "        \n",
    "        condition = pl.any_horizontal(pl.col(*signals).is_null())\n",
    "        \n",
    "        df = df.with_columns(\n",
    "            composite_signal=pl.when(condition).then(None).otherwise(pl.col('carry_signal_weight') * pl.col('carry_signal_value') + pl.col('credit_mom_signal_weight') * pl.col('credit_mom_signal_value') + pl.col('esp_signal_weight') * pl.col('esp_signal_value') + pl.col('equity_momentum_signal_weight') * pl.col('equity_momentum_signal_value')\n",
    "            )\n",
    "        )\n",
    "        \n",
    "        return df\n",
    "    \n",
    "    def compute_quantiles(self, df: pl.DataFrame, col: str, n_quantiles: int):\n",
    "        \"\"\"Divide the cols in quantiles based on the bucket groups\"\"\"\n",
    "        quantile_col_name = f'{col}_quantile'\n",
    "        \n",
    "        # create the bins and labels to be used in qcut\n",
    "        bins = np.linspace(0,1,n_quantiles+1)[1:]\n",
    "        labels = [str(i+1) for i in range(n_quantiles+1)]\n",
    "        \n",
    "        data = []\n",
    "        for group in df.select('date').unique().iter_rows():\n",
    "            date = group[0]\n",
    "            \n",
    "            group_data = df.filter((pl.col('date') == date) & (pl.col(col).is_not_null())).select('cusip', 'date', col)\n",
    "    \n",
    "            # if the DataFrame is emtpy just continue, otherwise qcut will throw an error\n",
    "            if group_data.shape[0] == 0:\n",
    "                continue\n",
    "            \n",
    "            group_data = group_data.with_columns(\n",
    "                pl.col(col).qcut(bins,labels=labels, allow_duplicates=True).alias(quantile_col_name)\n",
    "            )\n",
    "                \n",
    "            data.append(group_data)\n",
    "            \n",
    "        print('... done!')\n",
    "        \n",
    "        quantiles = pl.concat(data, how='vertical')\n",
    "        quantiles = quantiles.with_columns(\n",
    "            pl.col(quantile_col_name).cast(int).alias(quantile_col_name)\n",
    "        )\n",
    "        return df.join(quantiles.drop('bucket'), how='left', on=['date', 'cusip'])\n",
    "    \n",
    "    def get_mvo_weights(self, cusips: list[str], date: datetime.date):\n",
    "        bonds_data = self.bond_data.filter((pl.col('cusip').is_in(cusips)) & (pl.col('date') <= date))\n",
    "        \n",
    "        # bonds_data_pd = bonds_data.select('cusip', 'date', 'bond_ret').to_pandas()\n",
    "        # covariance_matrix = bonds_data_pd.pivot(columns='cusip', values='bond_ret', index='date').sort_values('date').cov()\n",
    "        # print(covariance_matrix)\n",
    "        # \n",
    "        # return covariance_matrix, bonds_data_pd\n",
    "        # \n",
    "        # efficient_frontier = EfficientFrontier(None, covariance_matrix)\n",
    "        # optimal_weights = efficient_frontier.min_volatility()\n",
    "        # \n",
    "        # return optimal_weights\n",
    "        \n",
    "        return bonds_data.with_columns(\n",
    "            weight=(1/pl.col('cusip').n_unique())\n",
    "        ).select('cusip', 'weight')\n",
    "    \n",
    "    def run(\n",
    "        self,\n",
    "    ):\n",
    "        bond_data = self.bond_data\n",
    "        alpha_estimates = self.compute_alpha_estimates()\n",
    "        quantiles = self.compute_quantiles(alpha_estimates, 'composite_signal', 10)\n",
    "        \n",
    "        portfolio_weights = pd.DataFrame(\n",
    "            columns=quantiles.get_column('cusip').unique())\n",
    "        \n",
    "        for date in quantiles.sort('date').select('date').unique().iter_rows(): \n",
    "            date = date[0]\n",
    "            data = quantiles.filter(pl.col('date') == date)\n",
    "            bonds = data.filter(pl.col('composite_signal_quantile') == 10)\n",
    "                \n",
    "            bonds = bonds.sort('composite_signal_quantile')\n",
    "            \n",
    "            # pick the top 25 bonds\n",
    "            cusips = bonds[:25].get_column('cusip').unique().to_list()\n",
    "            \n",
    "            weights = self.get_mvo_weights(cusips, date)\n",
    "            \n",
    "            for row in weights.iter_rows(named=True):\n",
    "                cusip = row['cusip']\n",
    "                weight = row['weight']\n",
    "                \n",
    "                portfolio_weights.loc[date, cusip] = weight\n",
    "                \n",
    "        # compute portfolio asset_returns\n",
    "        asset_returns = bond_data.select('cusip', 'date', 'bond_ret_t+1').to_pandas()\n",
    "        asset_returns = asset_returns.pivot(index='date', columns='cusip', values='bond_ret_t+1').reindex(portfolio_weights.columns, axis=1)\n",
    "        \n",
    "        portfolio_returns = (asset_returns * portfolio_weights).sum(axis=1)\n",
    "        \n",
    "        return portfolio_returns"
   ],
   "outputs": [],
   "execution_count": 112
  },
  {
   "metadata": {
    "ExecuteTime": {
     "end_time": "2024-05-04T23:59:20.907385Z",
     "start_time": "2024-05-04T23:59:20.621886Z"
    }
   },
   "cell_type": "code",
   "source": "backtester = Backtester(bond_data, 12, 2)",
   "id": "b6bfcbdd38c81887",
   "outputs": [],
   "execution_count": 113
  },
  {
   "metadata": {
    "ExecuteTime": {
     "end_time": "2024-05-05T00:00:13.640386Z",
     "start_time": "2024-05-04T23:59:27.553885Z"
    }
   },
   "cell_type": "code",
   "source": "returns = backtester.run()",
   "id": "45a675cd5dc26e2b",
   "outputs": [
    {
     "name": "stdout",
     "output_type": "stream",
     "text": [
      "using alpha=0.05612568731830647\n",
      "j=50, 41.67%\n",
      "j=100, 83.33%\n",
      "... done!\n"
     ]
    },
    {
     "name": "stderr",
     "output_type": "stream",
     "text": [
      "sys:1: CategoricalRemappingWarning: Local categoricals have different encodings, expensive re-encoding is done to perform this merge operation. Consider using a StringCache or an Enum type if the categories are known in advance\n"
     ]
    }
   ],
   "execution_count": 114
  },
  {
   "metadata": {
    "ExecuteTime": {
     "end_time": "2024-05-05T00:04:45.801386Z",
     "start_time": "2024-05-05T00:04:45.794887Z"
    }
   },
   "cell_type": "code",
   "source": "returns = returns[returns.index >= pd.to_datetime('2005-1-1')]",
   "id": "5569dd1b03bc791c",
   "outputs": [],
   "execution_count": 123
  },
  {
   "metadata": {
    "ExecuteTime": {
     "end_time": "2024-05-05T00:04:47.080885Z",
     "start_time": "2024-05-05T00:04:47.075387Z"
    }
   },
   "cell_type": "code",
   "source": "returns.mean() / returns.std() * np.sqrt(12)",
   "id": "25ac098b26cec18e",
   "outputs": [
    {
     "data": {
      "text/plain": [
       "2.5020439785224218"
      ]
     },
     "execution_count": 124,
     "metadata": {},
     "output_type": "execute_result"
    }
   ],
   "execution_count": 124
  },
  {
   "metadata": {
    "ExecuteTime": {
     "end_time": "2024-05-05T00:12:37.285385Z",
     "start_time": "2024-05-05T00:12:37.237386Z"
    }
   },
   "cell_type": "code",
   "source": [
    "mkt = pd.read_excel('../../data/indices/barclays_aggregate_global.xlsx')\n",
    "mkt.head()\n",
    "mkt = mkt.set_index('Date').reindex(returns.index)\n",
    "mkt['cumret'] = mkt['Change'].add(1).cumprod()"
   ],
   "id": "3b5070d970fadc78",
   "outputs": [],
   "execution_count": 133
  },
  {
   "metadata": {
    "ExecuteTime": {
     "end_time": "2024-05-05T00:12:54.346886Z",
     "start_time": "2024-05-05T00:12:53.879885Z"
    }
   },
   "cell_type": "code",
   "source": [
    "returns.add(1).cumprod().plot()\n",
    "mkt['cumret'].plot()"
   ],
   "id": "39256c84b42c08aa",
   "outputs": [
    {
     "data": {
      "text/plain": [
       "<Axes: >"
      ]
     },
     "execution_count": 134,
     "metadata": {},
     "output_type": "execute_result"
    },
    {
     "data": {
      "text/plain": [
       "<Figure size 640x480 with 1 Axes>"
      ],
      "image/png": "[encoded data removed]"
     },
     "metadata": {},
     "output_type": "display_data"
    }
   ],
   "execution_count": 134
  },
  {
   "metadata": {},
   "cell_type": "markdown",
   "source": [
    "Given weights calculate returns and portfolio evolution ( returns)\n",
    " \n",
    " Formation period: 48 months to compute initial weights\n",
    "    Cross sectional regression of residual returns on all signals ---> coefficients are partial returns\n",
    "    Partial returns are optimal ex-post weights to estimate composite alpha\n",
    "    Compute average weights in the formation period and signal volatilities\n",
    " \n",
    " Timing signals: exponential smoothing to compute weights\n",
    "    Set half life and compute alpha\n",
    "    For each month compute volatility and weight for each signal\n",
    "    \n",
    " Portfolio contruction: Markowitz with composite alpha as return\n",
    " \n",
    " Strategy evaluation\n",
    " \n",
    " \"\"\""
   ],
   "id": "d2f84885beead3c7"
  },
  {
   "metadata": {},
   "cell_type": "markdown",
   "source": [
    "# Backtest\n",
    "\n",
    "What we have\n",
    "\n",
    "- Bond prices & returns \n",
    "- Signal values (quantiles) & alpha estimates for each time period\n",
    "\n",
    "What we have to do\n",
    "\n",
    "- Compute the weights at each point in time for the signals\n",
    "- Compute the composite signal \n",
    "- Weight the instruments with Markowitz\n",
    "- weights @ returns and we have the portfolio performance\n",
    "\n",
    "Things to consider\n",
    "\n",
    "- Turnover limits -> include in markowitz as a constraint\n",
    "- The fact that we may want to have x% of the portfolio invested in the index, and just go overweight some bonds\n",
    "\n",
    "Bonus\n",
    "\n",
    "- Barclays also considers alpha decay"
   ],
   "id": "b74984d10e54036"
  }
 ],
 "metadata": {
  "kernelspec": {
   "display_name": "Python 3",
   "language": "python",
   "name": "python3"
  },
  "language_info": {
   "codemirror_mode": {
    "name": "ipython",
    "version": 2
   },
   "file_extension": ".py",
   "mimetype": "text/x-python",
   "name": "python",
   "nbconvert_exporter": "python",
   "pygments_lexer": "ipython2",
   "version": "2.7.6"
  }
 },
 "nbformat": 4,
 "nbformat_minor": 5
}
